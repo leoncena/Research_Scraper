{
 "cells": [
  {
   "cell_type": "markdown",
   "source": [],
   "metadata": {
    "collapsed": false,
    "pycharm": {
     "name": "#%% md\n"
    }
   }
  },
  {
   "cell_type": "markdown",
   "source": [
    "# Sciencedirect (Elsevier) commands for publications\n",
    "Here it is only about the steps, to parse are necessary so that it can be included in the end."
   ],
   "metadata": {
    "collapsed": false,
    "pycharm": {
     "name": "#%% md\n"
    }
   }
  },
  {
   "cell_type": "code",
   "execution_count": 1,
   "outputs": [],
   "source": [
    "\n",
    "\n",
    "url_free1 = 'https://www.sciencedirect.com/science/article/pii/S0140988315002571?via%3Dihub'\n",
    "url_free2 = 'https://www.sciencedirect.com/science/article/pii/S2451929420300851?via%3Dihub'  # url of a open access article\n",
    "\n",
    "url_pay1 = 'https://www.sciencedirect.com/science/article/abs/pii/S104732031830230X?via%3Dihub'  # url of a non subscribed article\n",
    "url_pay2 = 'https://www.sciencedirect.com/science/article/abs/pii/S0306437918300838?via%3Dihub'  # url of a non subscribed article"
   ],
   "metadata": {
    "collapsed": false,
    "pycharm": {
     "name": "#%%\n"
    }
   }
  },
  {
   "cell_type": "code",
   "execution_count": 2,
   "outputs": [],
   "source": [
    "import re\n",
    "import time\n",
    "import json\n",
    "\n",
    "import cloudscraper\n",
    "import requests\n",
    "from bs4 import BeautifulSoup\n",
    "from helium import *\n",
    "# from requests_html import HTMLSession\n",
    "from selenium import webdriver\n",
    "from selenium.webdriver.chrome.options import Options"
   ],
   "metadata": {
    "collapsed": false,
    "pycharm": {
     "name": "#%%\n"
    }
   }
  },
  {
   "cell_type": "markdown",
   "source": [
    "## Accessing HTML (mutliple ways)"
   ],
   "metadata": {
    "collapsed": false,
    "pycharm": {
     "name": "#%% md\n"
    }
   }
  },
  {
   "cell_type": "code",
   "execution_count": 19,
   "outputs": [],
   "source": [
    "def get_HTML_selenium(url, os):\n",
    "    \"\"\"\n",
    "    Get HTML from a website using Selenium and ChromeDriver. Methods runs headless per default and has JS activated.\n",
    "    Be aware that this method is quite slow and schould only be used if classic requests method cannot access information thus only use that for dynamic data.\n",
    "    :param url: URL of a website\n",
    "    :param os: Operating system of the user (Windows, Linux, Mac)\n",
    "    :return: HTML with all loaded content\n",
    "    \"\"\"\n",
    "    if os == 'mac':\n",
    "        PATH_MAC = '../driver/chromedriverMAC'\n",
    "    options = Options()\n",
    "    options.add_argument(\"--headless=chrome\")\n",
    "    options.add_argument(\"--enable-javascript\")\n",
    "    options.add_experimental_option(\"excludeSwitches\", [\"enable-automation\", \"enable-logging\"])\n",
    "\n",
    "    start = time.time()\n",
    "\n",
    "    driver = webdriver.Chrome(PATH_MAC, options=options)\n",
    "    driver.get(url)\n",
    "    break_time = 5\n",
    "    time.sleep(break_time)\n",
    "\n",
    "    # todo if content owned by WWU add sleep to load more content\n",
    "    html = driver.page_source\n",
    "    driver.close()\n",
    "\n",
    "    end = time.time()\n",
    "\n",
    "    print(\n",
    "        f'Browser closed in {end - start} seconds, including {break_time} seconds of waiting (hard value), thus {end - start - break_time} seconds of loading.')\n",
    "    return html\n",
    "\n",
    "\n",
    "def get_page_with_requests(url):\n",
    "    headers = {\n",
    "        'User-Agent': 'Mozilla/5.0 (Macintosh; Intel Mac OS X 10_15_7) AppleWebKit/605.1.15 (KHTML, like Gecko) Version/15.5 Safari/605.1.15'}\n",
    "    r = requests.get(url, headers=headers)\n",
    "    print(r.status_code)\n",
    "    assert r.status_code == 200\n",
    "    return r\n",
    "\n",
    "\n",
    "def get_page_with_cloudscraper(url):\n",
    "    scraper = cloudscraper.create_scraper(\n",
    "        browser={\n",
    "            'custom': 'ScraperBot/1.0',\n",
    "        }\n",
    "    )\n",
    "    r = scraper.get(url)\n",
    "    print(r.status_code)\n",
    "    assert r.status_code == 200\n",
    "    return r\n",
    "\n",
    "\n",
    "# def get_page_with_requsts_html(url):\n",
    "#     s = HTMLSession()\n",
    "#     headers = {\n",
    "#         'User-Agent': 'Mozilla/5.0 (Macintosh; Intel Mac OS X 10_15_7) AppleWebKit/605.1.15 (KHTML, like Gecko) Version/15.5 Safari/605.1.15'}\n",
    "#     r = s.get(url, headers=headers)\n",
    "#     print(r.status_code)\n",
    "#     assert r.status_code == 200\n",
    "#     return r\n",
    "\n",
    "\n",
    "def get_HTML_helium(url):\n",
    "    \"\"\"\n",
    "    Get HTML from a website using helium and ChromeDriver. Helium is a lightweight Selenium adapter. It comes with simple wait and click functions.\n",
    "    Method runs headless per default and has JS activated. By adding arguments the method mimics a user so that Elesevier returns the full HTML and allows loading.\n",
    "    Be aware that this method is quite slow and schould only be used if classic requests method cannot access information thus only use that for dynamic data.\n",
    "    :param url:\n",
    "    :return:\n",
    "    \"\"\"\n",
    "    ## helium does not work for science direct, so we use selenium instead => works!\n",
    "    start = time.time()\n",
    "\n",
    "    # Tricking Elsevier\n",
    "    options = Options()\n",
    "    options.add_argument(\"--headless=chrome\")\n",
    "    options.add_argument(\"--enable-javascript\")\n",
    "    #options.add_argument('--no-sandbox')\n",
    "    options.add_argument(\"--disable-extensions\")\n",
    "    options.add_argument(\"--start-maximized\")\n",
    "    options.add_argument(\"window-size=1920,1080\")\n",
    "    browser = start_chrome(url, options=options)\n",
    "\n",
    "    wait_until_start = time.time()\n",
    "    wait_until(lambda: not Text(\"Loading...\").exists(), timeout_secs=10,\n",
    "               interval_secs=0.5)  #Experimental: wait until no 'Loading...' text is visible\n",
    "    wait_until_end = time.time()\n",
    "\n",
    "    scroll_start = time.time()\n",
    "    scroll_down(20000)  # scroll down a lot\n",
    "    print(f'scrolling took {time.time() - scroll_start} seconds')\n",
    "    html = browser.page_source\n",
    "    kill_browser()\n",
    "\n",
    "    end = time.time()\n",
    "\n",
    "    print(\n",
    "        f'Browser closed in {end - start} seconds, including {wait_until_end - wait_until_start} seconds of waiting, thus {end - start - wait_until_end + wait_until_start} seconds of loading.')\n",
    "\n",
    "    return html\n",
    "\n"
   ],
   "metadata": {
    "collapsed": false,
    "pycharm": {
     "name": "#%%\n"
    }
   }
  },
  {
   "cell_type": "code",
   "execution_count": 20,
   "outputs": [],
   "source": [
    "def get_bs(url, method='requests'):\n",
    "    try:\n",
    "        if method == 'requests':\n",
    "            r = get_page_with_requests(url)\n",
    "            bs = BeautifulSoup(r.content, 'html.parser')\n",
    "        elif method == 'cloud':\n",
    "            r = get_page_with_cloudscraper(url)\n",
    "            bs = BeautifulSoup(r.content, 'html.parser')\n",
    "        # elif method == 'requests_html':\n",
    "        #     r = get_page_with_requsts_html(url)\n",
    "        #     bs = BeautifulSoup(r.content, 'html.parser')\n",
    "        elif method == 'selenium':\n",
    "            r = get_HTML_selenium(url, os='mac')\n",
    "            bs = BeautifulSoup(r, 'html.parser')  # selenium already returns html\n",
    "        elif method == 'helium':\n",
    "            r = get_HTML_helium(url)\n",
    "            bs = BeautifulSoup(r, 'html.parser')  # helium already returns html\n",
    "        else:\n",
    "            raise ValueError('Method not supported')\n",
    "\n",
    "    except Exception as e:\n",
    "        print(f'Error: {e}', url)\n",
    "        return None\n",
    "    return bs\n",
    "\n"
   ],
   "metadata": {
    "collapsed": false,
    "pycharm": {
     "name": "#%%\n"
    }
   }
  },
  {
   "cell_type": "markdown",
   "source": [
    "Create soups of test objects with cloudscraper"
   ],
   "metadata": {
    "collapsed": false,
    "pycharm": {
     "name": "#%% md\n"
    }
   }
  },
  {
   "cell_type": "code",
   "execution_count": 42,
   "outputs": [
    {
     "name": "stdout",
     "output_type": "stream",
     "text": [
      "200\n",
      "200\n",
      "200\n",
      "200\n"
     ]
    }
   ],
   "source": [
    "free1_soup = get_bs(url_free1, method='cloud')\n",
    "free2_soup = get_bs(url_free2, method='cloud')\n",
    "pay1_soup = get_bs(url_pay1, method='cloud')\n",
    "pay2_soup = get_bs(url_pay2, method='cloud')\n",
    "elsevier_soups = [free1_soup, free2_soup, pay1_soup, pay2_soup]"
   ],
   "metadata": {
    "collapsed": false,
    "pycharm": {
     "name": "#%%\n"
    }
   }
  },
  {
   "cell_type": "markdown",
   "source": [
    "Create soups of test objects with Hellium/Selenium with full content"
   ],
   "metadata": {
    "collapsed": false,
    "pycharm": {
     "name": "#%% md\n"
    }
   }
  },
  {
   "cell_type": "code",
   "execution_count": 21,
   "outputs": [
    {
     "name": "stdout",
     "output_type": "stream",
     "text": [
      "scrolling took 0.07204794883728027 seconds\n",
      "Browser closed in 26.13229489326477 seconds, including 19.128371000289917 seconds of waiting, thus 7.0039238929748535 seconds of loading.\n",
      "scrolling took 0.07414674758911133 seconds\n",
      "Browser closed in 23.928987979888916 seconds, including 15.43142294883728 seconds of waiting, thus 8.497565031051636 seconds of loading.\n",
      "scrolling took 0.07308125495910645 seconds\n",
      "Browser closed in 17.034998893737793 seconds, including 11.876393795013428 seconds of waiting, thus 5.158605098724365 seconds of loading.\n",
      "scrolling took 0.22336888313293457 seconds\n",
      "Browser closed in 16.168402910232544 seconds, including 11.266273021697998 seconds of waiting, thus 4.902129888534546 seconds of loading.\n"
     ]
    }
   ],
   "source": [
    "free1_soup_full = get_bs(url_free1, method='helium')\n",
    "free2_soup_full = get_bs(url_free2, method='helium')\n",
    "pay1_soup_full = get_bs(url_pay1, method='helium')\n",
    "pay2_soup_full = get_bs(url_pay2, method='helium')\n",
    "elsevier_soups_full = [free1_soup_full, free2_soup_full, pay1_soup_full, pay2_soup_full]"
   ],
   "metadata": {
    "collapsed": false,
    "pycharm": {
     "name": "#%%\n"
    }
   }
  },
  {
   "cell_type": "markdown",
   "source": [
    "## Main Fields\n",
    "### Title\n"
   ],
   "metadata": {
    "collapsed": false,
    "pycharm": {
     "name": "#%% md\n"
    }
   }
  },
  {
   "cell_type": "code",
   "execution_count": 22,
   "outputs": [],
   "source": [
    "def get_title(bs):\n",
    "    \"\"\"\n",
    "    Get title of a publication\n",
    "    :param bs: Bs4 object\n",
    "    :return:\n",
    "    \"\"\"\n",
    "    title = bs.find('span', class_='title-text').text.strip()\n",
    "    return title"
   ],
   "metadata": {
    "collapsed": false,
    "pycharm": {
     "name": "#%%\n"
    }
   }
  },
  {
   "cell_type": "code",
   "execution_count": 23,
   "outputs": [
    {
     "name": "stdout",
     "output_type": "stream",
     "text": [
      "Peeling the onion: Analyzing aggregate, national and sectoral energy intensity in the European Union\n",
      "A Structure-Based Platform for Predicting Chemical Reactivity\n",
      "Artistic movement recognition by consensus of boosted SVM based experts\n",
      "Semi-automatic inductive construction of reference process models that represent best practices in public administrations: A method\n"
     ]
    }
   ],
   "source": [
    "check = ['Peeling the onion: Analyzing aggregate, national and sectoral energy intensity in the European Union',\n",
    "         'A Structure-Based Platform for Predicting Chemical Reactivity',\n",
    "         'Artistic movement recognition by consensus of boosted SVM based experts',\n",
    "         'Semi-automatic inductive construction of reference process models that represent best practices in public administrations: A method']\n",
    "\n",
    "for soup, check in zip(elsevier_soups, check):\n",
    "    print(get_title(soup))\n",
    "    assert get_title(soup) == check"
   ],
   "metadata": {
    "collapsed": false,
    "pycharm": {
     "name": "#%%\n"
    }
   }
  },
  {
   "cell_type": "markdown",
   "source": [
    "### Doi"
   ],
   "metadata": {
    "collapsed": false,
    "pycharm": {
     "name": "#%% md\n"
    }
   }
  },
  {
   "cell_type": "code",
   "execution_count": 24,
   "outputs": [],
   "source": [
    "def get_doi(bs, type='doi_number'):\n",
    "    \"\"\"\n",
    "    Gets the doi_number of a publication\n",
    "    :param bs: Bs4 object\n",
    "    :return:\n",
    "    \"\"\"\n",
    "    regex_doi = re.compile(r'http(s?)://doi.org/.*')\n",
    "    doi_link = bs.find('a', class_='doi').text.strip()\n",
    "\n",
    "    if type == 'doi_number':\n",
    "        # control and clean doi\n",
    "        if regex_doi.match(doi_link):\n",
    "            doi = re.sub(r'http(s?)://doi.org/', '', doi_link)\n",
    "            return doi\n",
    "        else:\n",
    "            return None\n",
    "    if type == 'doi_link':\n",
    "        if regex_doi.match(doi_link):\n",
    "            return doi_link\n",
    "        else:\n",
    "            return None\n"
   ],
   "metadata": {
    "collapsed": false,
    "pycharm": {
     "name": "#%%\n"
    }
   }
  },
  {
   "cell_type": "code",
   "execution_count": 25,
   "outputs": [
    {
     "data": {
      "text/plain": "'10.1016/j.eneco.2015.09.004'"
     },
     "execution_count": 25,
     "metadata": {},
     "output_type": "execute_result"
    }
   ],
   "source": [
    "get_doi(free1_soup)"
   ],
   "metadata": {
    "collapsed": false,
    "pycharm": {
     "name": "#%%\n"
    }
   }
  },
  {
   "cell_type": "markdown",
   "source": [
    "### Authors"
   ],
   "metadata": {
    "collapsed": false,
    "pycharm": {
     "name": "#%% md\n"
    }
   }
  },
  {
   "cell_type": "code",
   "execution_count": 26,
   "outputs": [],
   "source": [
    "def get_authors(bs):\n",
    "    \"\"\"\n",
    "    Get authors of a publication\n",
    "    :param bs:\n",
    "    :return: Author names as list\n",
    "    \"\"\"\n",
    "    authors = []\n",
    "    try:\n",
    "        author_boxes = bs.find('div', {'class': 'author-group', 'id': 'author-group'}).find_all('a')\n",
    "\n",
    "        for box in author_boxes:\n",
    "            first_name = box.find('span', class_='text given-name').text.strip()\n",
    "            last_name = box.find('span', class_='text surname').text.strip()\n",
    "            authors.append(f'{first_name} {last_name}')\n",
    "        return authors\n",
    "    except:\n",
    "        return None"
   ],
   "metadata": {
    "collapsed": false,
    "pycharm": {
     "name": "#%%\n"
    }
   }
  },
  {
   "cell_type": "code",
   "execution_count": 27,
   "outputs": [
    {
     "name": "stdout",
     "output_type": "stream",
     "text": [
      "['Andreas Löschel', 'Frank Pothen', 'Michael Schymura']\n",
      "['Frederik Sandfort', 'Felix Strieth-Kalthoff', 'Marius Kühnemund', 'Christian Beecks', 'Frank Glorius']\n",
      "['Corneliu Florea', 'Fabian Gieseke']\n",
      "['Hendrik Scholta', 'Marco Niemann', 'Patrick Delfmann', 'Michael Räckers', 'Jörg Becker']\n"
     ]
    }
   ],
   "source": [
    "check = [3, 5, 2, 5]\n",
    "for soup, check in zip(elsevier_soups, check):\n",
    "    print(get_authors(soup))\n",
    "    assert len(get_authors(soup)) == check\n"
   ],
   "metadata": {
    "collapsed": false,
    "pycharm": {
     "name": "#%%\n"
    }
   }
  },
  {
   "cell_type": "markdown",
   "source": [
    "### Keywords"
   ],
   "metadata": {
    "collapsed": false,
    "pycharm": {
     "name": "#%% md\n"
    }
   }
  },
  {
   "cell_type": "code",
   "execution_count": 28,
   "outputs": [],
   "source": [
    "def get_keywords(bs):\n",
    "    \"\"\"\n",
    "    Get list of keywords\n",
    "    :param bs: Received bs of the publication\n",
    "    :return: List of strings\n",
    "    \"\"\"\n",
    "    keywords = []\n",
    "    try:\n",
    "        kwds = bs.find('div', class_='keywords-section').find_all('div', class_='keyword')\n",
    "        for kwd in kwds:\n",
    "            keyword = kwd.text.strip()\n",
    "            keywords.append(keyword)\n",
    "        return keywords\n",
    "    except:\n",
    "        return None"
   ],
   "metadata": {
    "collapsed": false,
    "pycharm": {
     "name": "#%%\n"
    }
   }
  },
  {
   "cell_type": "code",
   "execution_count": 29,
   "outputs": [
    {
     "name": "stdout",
     "output_type": "stream",
     "text": [
      "['Environmental and climate economics', 'Energy intensity', 'Index decomposition']\n",
      "['reactivity prediction', 'machine learning', 'molecular structures', 'organic chemistry', 'yield prediction', 'enantioselectivity prediction']\n",
      "['Randomized boosted SVMs', 'Multi-scale topography', 'Painting style recognition', 'Consensus of experts', 'Ensembles']\n",
      "['Process management', 'Process modeling', 'Reference modeling', 'Process model merge', 'E-government', 'Public administration', 'Benchmarking', 'Model querying']\n"
     ]
    }
   ],
   "source": [
    "for soup in elsevier_soups:\n",
    "    print(get_keywords(soup))"
   ],
   "metadata": {
    "collapsed": false,
    "pycharm": {
     "name": "#%%\n"
    }
   }
  },
  {
   "cell_type": "markdown",
   "source": [
    "### Abstract"
   ],
   "metadata": {
    "collapsed": false,
    "pycharm": {
     "name": "#%% md\n"
    }
   }
  },
  {
   "cell_type": "code",
   "execution_count": 30,
   "outputs": [],
   "source": [
    "def get_abstract(bs):\n",
    "    \"\"\"\n",
    "    Get abstract of a publication\n",
    "    :param bs: Received bs of the publication\n",
    "    :return: Abstract : String\n",
    "    \"\"\"\n",
    "    try:\n",
    "        abstract = bs.find('div', class_='abstract author').div.text.strip()\n",
    "        return abstract\n",
    "    except:\n",
    "        return None"
   ],
   "metadata": {
    "collapsed": false,
    "pycharm": {
     "name": "#%%\n"
    }
   }
  },
  {
   "cell_type": "code",
   "execution_count": 31,
   "outputs": [
    {
     "name": "stdout",
     "output_type": "stream",
     "text": [
      "Publication: Peeling the onion: Analyzing aggregate, national and sectoral energy intensity in the European Union\n",
      "Authors: Andreas Löschel; Frank Pothen; Michael Schymura; \n",
      "Abstract: \n",
      "One of the most promising ways of meeting climate policy targets is improving energy efficiency, i.e., reducing the amount of scarce and polluting resources needed to produce a given quantity of output. Relying upon the World Input-Output Database (WIOD), we investigate the decline in energy intensity in the EU27 countries between 1995 and 2009. Changes in energy intensity can be attributed to two different drivers: changes in the industrial composition of an economy and changes in its sectoral energy intensities. We conduct a series of index decomposition analyses (IDA) to isolate the effects exerted by these drivers. We then take the findings from the index decomposition analysis and subject them to panel estimations. The objective is to control for factors that may have shaped the evolution of energy intensity in the European Union. We estimate the changes in energy intensity as well as the changes in (energy-relevant) structural change and in the sectoral energy intensities. Therefore, we are able to reveal the channels through which factors such as economic growth, capital intensity, and energy prices affect energy intensity.\n",
      "-------- \n",
      "\n",
      "Publication: A Structure-Based Platform for Predicting Chemical Reactivity\n",
      "Authors: Frederik Sandfort; Felix Strieth-Kalthoff; Marius Kühnemund; Christian Beecks; Frank Glorius; \n",
      "Abstract: \n",
      "Despite their enormous potential, machine learning methods have only found limited application in predicting reaction outcomes, because current models are often highly complex and, most importantly, are not transferable to different problem sets. Here, we present a structure-based machine learning platform for diverse applications in organic chemistry. Therefore, an input based on multiple fingerprint features (MFFs) as a versatile molecular representation was developed that was shown to be applicable over a range of diverse problem sets. First, molecular properties across a diverse array of molecules could be predicted accurately. Next, reaction outcomes such as stereoselectivities and yields were predicted for experimental datasets that were previously evaluated using (complex) problem-oriented descriptor models. As a final application, a systematic high-throughput dataset was investigated as a “real-world problem,” and good correlation was observed when using the structure-based model.\n",
      "-------- \n",
      "\n",
      "Publication: Artistic movement recognition by consensus of boosted SVM based experts\n",
      "Authors: Corneliu Florea; Fabian Gieseke; \n",
      "Abstract: \n",
      "In this work we aim to automatically recognize the artistic movement from a digitized image of a painting. Our approach uses a new system that resorts to descriptions induced by color structure histograms and by novel topographical features for texture assessment. The topographical descriptors accumulate information from the first and second local derivatives within four layers of finer representations. The classification is performed by two layers of ensembles. The first is an adapted boosted ensemble of support vector machines, which introduces further randomization over feature categories as a regularization. The training of the ensemble yields individual experts by isolating initially misclassified images and by correcting them in further stages of the process. The solution improves the performance by a second layer build upon the consensus of multiple local experts that analyze different parts of the images. The resulting performance compares favorably with classical solutions and manages to match the ones of modern deep learning frameworks.\n",
      "-------- \n",
      "\n",
      "Publication: Semi-automatic inductive construction of reference process models that represent best practices in public administrations: A method\n",
      "Authors: Hendrik Scholta; Marco Niemann; Patrick Delfmann; Michael Räckers; Jörg Becker; \n",
      "Abstract: \n",
      "Business process management often uses reference models to improve processes or as starting point when creating individual process models. The current academic literature offers primarily deductive methods with which to develop these reference models, although some methods develop reference models inductively from a set of individual process models, focusing on deriving and representing common practices. However, there is no inductive method with which to detect best practices and represent them in a reference model. This paper addresses this research gap by proposing a method by which to develop reference process models that represent best practices in public administrations semi-automatically and inductively. The method uses a merged model that retains the structure of the source models while detecting their common parts. It identifies best practices using query constructs and ranking criteria to group the source models’ elements and to evaluate these groups. We provide a conceptualization of the method and demonstrate its functionality using an artificial example. We describe our implementation of the method in a software prototype and report on its evaluation in a workshop with domain and method experts who applied the method to real-world process models.\n",
      "-------- \n",
      "\n"
     ]
    }
   ],
   "source": [
    "for soup in elsevier_soups:\n",
    "    print(f'Publication: {get_title(soup)}')\n",
    "    a = ''\n",
    "    for x in get_authors(soup):\n",
    "        a += (x + '; ')\n",
    "    print(f'Authors: {a}')\n",
    "    print('Abstract: ')\n",
    "    print(get_abstract(soup))\n",
    "    print('-------- \\n')"
   ],
   "metadata": {
    "collapsed": false,
    "pycharm": {
     "name": "#%%\n"
    }
   }
  },
  {
   "cell_type": "markdown",
   "source": [
    "### Full text"
   ],
   "metadata": {
    "collapsed": false,
    "pycharm": {
     "name": "#%% md\n"
    }
   }
  },
  {
   "cell_type": "code",
   "execution_count": 34,
   "outputs": [],
   "source": [
    "def __extract_text_from_p_tags(p_tags):\n",
    "    \"\"\"\n",
    "    Help method to extract text from multiple p-tags\n",
    "    :param p_tags: List of p-tags as result of a bs search : bs4.element.ResultSet\n",
    "    :return: String with total text\n",
    "    \"\"\"\n",
    "    result_text = ''\n",
    "    for p in p_tags:\n",
    "        if result_text == '':\n",
    "            result_text += p.text  # No break for first paragraph\n",
    "        else:\n",
    "            result_text += f'\\n\\n{p.text}'  # Break for paragraph\n",
    "    return result_text\n",
    "\n",
    "\n",
    "def __process_text_recursive(section):\n",
    "    \"\"\"\n",
    "    Takes a HTML sections from ScienceDirect and extracts the text from it while regarding (sub-)headings.\\n\n",
    "    You can use that function to apply it to the found h1-sections so the function can\n",
    "    take care of the potential subsections in the passed section. \\n\n",
    "    Headings are recognized by the function and printed as new lines. \\n\n",
    "    The function is recursive and calls itself for sub-sections.\n",
    "    :params section: HTML section as bs4.element.Tag\n",
    "    :return: Text as string with new lines for headings\n",
    "    \"\"\"\n",
    "    # extracts the texts of given section including sub headings\n",
    "    # todo question: Filter out mathemtical formulas?\n",
    "    children = section.findAll(recursive=False)\n",
    "    t = ''\n",
    "    for child in children:\n",
    "        p_tags = []\n",
    "        if child.name == 'h3' or child.name == 'h4':\n",
    "            t += f'{child.text}\\n'\n",
    "        if child.name == 'div':\n",
    "            p_new = child.findAll('p')\n",
    "            p_tags.extend(p_new)\n",
    "        if child.name == 'section':\n",
    "            t += __extract_text_from_p_tags(p_tags)\n",
    "            p_tags = []\n",
    "            t += __process_text_recursive(child)\n",
    "        if child.name == 'p':\n",
    "            p_tags.append(child)\n",
    "        t += __extract_text_from_p_tags(p_tags) + '\\n'\n",
    "    return t\n",
    "\n",
    "\n",
    "def __check_text_available(bs):\n",
    "    \"\"\"\n",
    "    Check if test is available for a publication\n",
    "    :param bs: Received bs of the publication (HTML must be accessed with Selenium or Helium, does not work otherwise)\n",
    "    :return: Boolean\n",
    "    \"\"\"\n",
    "    try:\n",
    "        body = bs.find('div', {'class': 'Body u-font-serif', 'id': 'body'})\n",
    "    except:\n",
    "        pass\n",
    "    if body is not None:\n",
    "        return True\n",
    "    else:\n",
    "        return False\n",
    "\n",
    "\n",
    "def get_full_text(bs):\n",
    "    # todo can be easy rewritten to produce markdown files\n",
    "    \"\"\"\n",
    "    Get full text of a publication if online available\n",
    "    :param bs: Received bs of the publication (HTML must be accessed with Selenium or Helium, does not work otherwise)\n",
    "    :return: Full text : String with little formatting (new-lines for headings)\n",
    "    \"\"\"\n",
    "    if not __check_text_available(bs):\n",
    "        return None\n",
    "\n",
    "    try:\n",
    "        text = []\n",
    "        body = bs.find('div', {'class': 'Body u-font-serif', 'id': 'body'})\n",
    "        body_sections = body.div.findAll('section', recursive=False)  #sections of body -> h2 level\n",
    "        for section in body_sections:\n",
    "            chapter_name = section.h2.text\n",
    "            chapter_text = __process_text_recursive(section)\n",
    "            text.append({\n",
    "                'chapter_name': chapter_name,\n",
    "                'chapter_text': chapter_text\n",
    "            })\n",
    "        return text\n",
    "    except:\n",
    "        return None"
   ],
   "metadata": {
    "collapsed": false,
    "pycharm": {
     "name": "#%%\n"
    }
   }
  },
  {
   "cell_type": "code",
   "execution_count": 36,
   "outputs": [
    {
     "name": "stdout",
     "output_type": "stream",
     "text": [
      "Publication:\n",
      "> Peeling the onion: Analyzing aggregate, national and sectoral energy intensity in the European Union \n",
      "\n",
      "\n",
      "Full text: \n",
      "\n",
      "Kapitel: 1. Introduction \n",
      "\n",
      "\n",
      "Improving energy efficiency is one of the most promising ways of meeting the emission targets set by climate policy. What is more, it may also help reduce dependency on fossil fuels and foster industrial competitiveness (Ang et al., 2010). Fig. 1a to c tells a story about the evolution of energy intensity in Europe between 1995 and 2009. The gross aggregate output of the EU 27 increased by 37.3% (Fig. 1a) and total energy use decreased by 0.4% (Fig. 1b) in this period. As a result of both, energy intensity declined by 27.4% (Fig. 1c). Note that the gross output declined by 6.1% and energy use by 6.7% between 2008 and 2009 due to the financial crises. The energy intensity did not experience a visible shock in 2009.\n",
      "\n",
      "Fig. 1. Gross output, energy use and energy intensity in the EU27 1995–2009.\n",
      "These three figures appear to tell us everything, and yet they reveal nothing. Is the decline in energy intensity due to a shift in the composition of the European economy as it moves away from energy-intensive production towards less energy-intensive production? Or are sectoral improvements in energy utilization responsible for the decline? How did individual countries perform? What are the main economic and political drivers?\n",
      "This paper seeks to explain why the energy intensity (i.e., the reciprocal to energy efficiency) in the European Union declined between 1995 and 2009. We conduct our research in two steps. In the first step, we isolate two drivers of the evolution of energy intensity in the EU27 countries: Structural change towards less energy-intensive sectors (structural effect) and falling energy intensities on the sectoral level (sectoral intensity effect). We conduct a series of index decomposition analyses which disentangle the changes of aggregate energy intensity into the impacts exerted by these two effects.\n",
      "In the second step, we employ panel data econometrics to explain the change in energy intensity (total effect), the structural effect, and the sectoral intensity effect separately. This approach allows us to go beyond estimating if factors such as GDP, energy prices, or environmental regulation affect the aggregate energy intensity. We are able to investigate the channels through which they affect it. The results reveal, for instance, if rising energy prices impact the energy intensity predominantly via structural change or via increasing sectoral energy efficiency.\n",
      "We focus on Europe for a variety of reasons. First, the European Union regards itself as a leading actor in international climate policy and improving energy efficiency is a central pillar of its strategy. Second, the data we use allows us to consider an interesting period in Europe. Our sample starts shortly after the fall of the Iron Curtain and includes periods with climate policy and without. Finally, and most importantly, the European integration process is an outstanding example of structural change at work. Other studies have focused on the impact of NAFTA's impact on pollution (Grossman and Krueger, 1991) or on countries in which structural changes have occurred. But no case examined so far involves large charges to the openness of cross-country trade (as e.g., Antweiler et al., 2001, Cole, 2006, Cole and Elliott, 2003 and Managi et al., 2009).\n",
      "The questions posed above have fundamental importance. If the decline in energy intensity could be obtained simply by structural improvements and increasing imports of energy-intensive goods from outside Europe, the pattern in Europe would not be replicable in other, less developed regions.1 But if the decrease in energy intensity is due to increased efficiency, the trajectory would be replicable in other regions of the world. Thanks to technology transfers, spillover effects, economies of scale, and learning-by-doing, achieving the same trajectory elsewhere might even be easier. As Wolfram et al. (2012) argue, energy consumption in OECD and non-OECD countries was almost equal in 2007, “[…] but from 2007 to 2035, it [the U.S. Energy Information Administration] forecasts that energy consumption in OECD countries will grow by 14 percent, while energy consumption in non-OECD countries will grow by 84 percent” (Wolfram et al., 2012, p. 119). Given this information, the investigation of the replicability of the European decline assumes tremendous importance.\n",
      "Previous studies of energy intensity have either a different regional focus, a limited time period, or are rather descriptive.2 A number of available contributions focused on specific countries, most notably the US (among others Sue Wing, 2008, Metcalf, 2008, Huntington, 2010), and more recently also emerging economies such as China (Zhang, 2003, Fisher-Vanden et al., 2004, Ma and Stern, 2008, Wu, 2012), India, and South Korea (Sanstad et al., 2006). When an international dimension is present, the study is usually limited to industrialized economies (e.g., Mulder and De Groot, 2012). Alcantara and Duarte (2004), for example, use structural decomposition analysis to investigate the energy intensities in 14 European countries and 15 sectors in 1995. Cornillie and Fankhauser (2004) investigate the development of energy intensity for transitional economies, but their time frame is brief (six years) and spans the years in which a structural break took place: 1992 to 1998. The study by Voigt et al. (2014) investigates energy intensity development in 40 major economies (including developing countries such as China, Brazil and Russia) but it is rather descriptive since it only relies on the index decomposition methodology.\n",
      "Our index decomposition analyses suggest that improvements in sectoral energy efficiency were the predominant driver of Europe's falling energy intensity, in particular from 2004 onward. Structural change reduced the energy intensity mostly between 1995 and 2000. The country-level IDAs suggest that the importance of structural change and sectoral energy efficiency improvements differs substantially among countries.\n",
      "Estimating the total effect as well as the structural effect and the sectoral intensity effect yields important insights. We find, for instance, no significant effect of the capital-to-labor ratio on the total effect (change in energy intensity). There is, however, a positive and significant relationship between the capital-to-labor ratio and the structural effect. We also find a negative and significant effect of the capital-to-labor ratio on the sectoral intensity effect. Capital-intensive countries have more (heavy) industry and, thus, produce in a more energy-intensive manner. But once this effect is controlled for, a high capital-to-labor ratio means less sectoral energy intensity, implying that sectors substitute capital for energy.\n",
      "The paper proceeds as follows. Section 2 presents the World Input-Output Database (WIOD), the main source of data for our study, as well as other data employed. Section 3 outlines the index decomposition analysis and its results. The econometric part of our study is shown in Section 4. Section 5 concludes.\n",
      "\n",
      "\n",
      "\n",
      "Kapitel: 2. Data \n",
      "\n",
      "\n",
      "2.1. The WIOD\n",
      "\n",
      "Our analysis relies upon data from the World Input-Output Database (WIOD, Timmer, 2012, Dietzenbacher et al., 2013).3 It provides a comprehensive, harmonized dataset that permits comparison of specific environmental indicators like energy intensity over the years covered by the database (1995 to 2009). The WIOD is based on national accounts data which has been harmonized for international comparability. The dataset covers 40 countries (27 EU countries and 13 other major economies), which together account for ≈ 80–85% of the world's GDP in 2009. The data is disaggregated into 34 industries (agriculture, manufacturing, and services). Appendix A lists the regions and sectors covered by the WIOD.\n",
      "Besides the broad country coverage, the sectoral disaggregation and the time range, the dataset has another key advantage: it contains several unified satellite accounts with the same sectoral classification as the core dataset. The satellite accounts consist of socioeconomic data (different skill types of labor, sectoral and total capital stocks, etc.) and a rich set of environmental information. The environmental satellites cover energy use broke down by several energy carriers (fossil, non-fossil, renewables, etc.), emissions of greenhouse gases (CO2, N2O, CH4), air pollutants relevant for acidification (SO2, NOX, CH4) and tropospheric ozone information (NOX, NMVOC, CH4).\n",
      "To perform the index decomposition analysis and the empirical study in the second part of the paper, we have used the following information from the WIOD for 27 European Union countries: the Socioeconomic Accounts Files (SEA) and the Energy Use Files (Gross EU).\n",
      "We use annual sectoral output (GO) in year t as our measure of economic activity. It is expressed in monetary units in basic prices of 1995 and converted to US-$ (1995) using the exchange rates and sectoral price deflators which are part of the WIOD. An alternative measure of economic activity is value added. Gross output might be preferable when dealing with multi-factor productivity and it better captures disembodied technological change. Moreover, the value added for some sectors in Denmark, Slovakia and Poland turned out to be negative and hence it was not suitable for the index decomposition approach.\n",
      "We use the number of persons engaged as a measure of labor input (EMP). Data on three types of labor quality is also included (low-skilled (LABLS), medium-skilled (LABMS) and high-skilled (LABHS)). Another advantage of the WIOD is the capital stock variable. It is generally hard to obtain (physical) capital stock data from official data sources. The WIOD offers information about physical capital stocks and gross fixed capital formation for each country and sector (K_GFCF and GFCF). We used this information to construct capital-to-labor ratios and to take capital vintaging into account. Note that the capital stock estimates in Eastern European countries in the early 1990s are likely to be imprecise. This is due to high depreciation rates of capital from the era before the fall of the Iron Curtain.\n",
      "Energy is measured in physical units (TJ) and is aggregated across energy carriers. The sectoral classification of energy use is exactly congruent to the WIOD's socioeconomic data.\n",
      "\n",
      "2.2. Other data\n",
      "\n",
      "We use the Penn World Tables (Mark 7.0, Heston et al., 2011) to obtain information about real GDP per capita (variable rgdpch), real GDP per worker (rgdpwok), population (pop), real openness as defined by the sum of imports and exports divided through GDP (openk) and real investment as a fraction of GDP.\n",
      "Information on environmental regulation was collected from the International Energy Agency (International Energy Agency, 2012).4 From it we constructed an index for the extent and stringency of environmental regulation.5 In addition, we used the Barro and Lee database (Barro and Lee, 2010) on educational attainment and Psacharopoulos and Patrinos (2004) for estimated social Mincearian returns on education to construct our measure for human capital. Energy prices were collected from Eurostat.\n",
      "\n",
      "\n",
      "\n",
      "\n",
      "Kapitel: 3. The mean divisia index decomposition of energy intensity \n",
      "\n",
      "\n",
      "The development of energy intensity in an economy can be attributed to two different but equally relevant changes. On the one hand, energy intensity can increase or decline as a result of changes in the industrial activity composition (structural effect). On the other hand, energy intensity changes may also result from sectoral energy efficiency improvements or deteriorations (sectoral intensity effect).\n",
      "We apply index decomposition analysis, a method related to index number theory, to disentangle these effects.6 We use an index decomposition approach as described by Ang and Choi (1997), Ang and Liu (2007), Ang et al. (2010) and more recently by Choi and Ang (2012) or Su and Ang (2012) for total, sectoral and national energy intensities. Our index decomposition analysis is closely related to Voigt et al. (2014) as well as Pothen and Schymura (2015). We focus on the supply side of the economy (productive sectors) and thus exclude the private households.\n",
      "Following Ang and Choi (1997), we rely upon multiplicative decomposition and use the Logarithmic Mean Divisia Index (LMDI) approach (Ang, 2004). The LMDI method has three favorable properties: First, it yields a perfect decomposition. The changes in energy intensity are completely decomposed into the structural effect and the sectoral intensity effect. No unexplained residual remains. Second, it is robust to zero-values which occur if not all sectors in all countries are producing. Third, the LMDI is robust to time reversals.\n",
      "3.1. Country-level IDA\n",
      "\n",
      "Our variable of interest is the energy intensity of economy j at time t. It is defined for each country as a weighted average of sectoral energy intensities,(1)Ij,t=∑iGOi,j,tGOj,tEUi,j,tGOi,j,t=∑iSi,j,tIi,j,t,with the following notation:•period: t ∈ {1995, 2009},•sectors: i = 1, …, 34,•countries: j = 1, …, 27,•sectoral energy use of sector i in country j and period t: EUi,j,t,•energy use of country j in period t: EUj,t = ∑iEUi,j,t,•sectoral gross output of sector i in country j and period t: GOi,j,t,•gross output of country j in period t: GOj,t = ∑iGOi,j,t,•share of sector i in total gross output of country j in period t: Si,j,t=GOi,j,tGOj,t,•sectoral energy intensity of sector i in country j and period t: Ii,j,t=EUi,j,tGOi,j,t,•energy intensity of country j in period t: Ij,t=EUj,tGOj,t.\n",
      "The multiplicative decomposition of change in energy intensity of country j (total effect, DTot,j,t + 1) between the periods t and t + 1 is then described by:(2)DTot,j,t+1=Ij,t+1Ij,t=DStr,j,t+1DSei,j,t+1.\n",
      "DStr,j,t + 1 is the estimated impact of structural change on aggregate energy intensity (structural effect). DSei,j,t + 1 is the estimated impact of changes in the sectoral energy intensity (sectoral intensity effect). The formulae for the LMDI decomposition are(3)DStr,j,t+1=exp∑iLωi,j,t+1ωi,j,t∑iLωi,j,t+1ωi,j,tlogSi,j,t+1Si,j,t,(4)DSei,j,t+1=exp∑iLωi,j,t+1ωi,j,t∑iLωi,j,t+1ωi,j,tlogIi,j,t+1Ii,j,twhere Lωi,j,t+1ωi,j,t=ωi,j,t+1−ωi,j,tlnωi,j,t+1ωi,j,t is the logarithmic mean of ωi,j,t + 1 and ωi,j,t. ωi,j,t is the sectoral share of energy consumption within a given country, ωi,j,t=EUi,j,tEUj,t. As proposed by Ang et al. (2010), we use chaining decomposition, i.e., the specific annual values are computed on a rolling basis (from 1995 to 1996, from 1996 to 1997 etc.) where the value for 1995 is set equal to 1. These results are “chained” to obtain a time series from 1995 to 2009 (Ang et al., 2010, p. 1428).7\n",
      "\n",
      "3.2. EU 27 IDA\n",
      "\n",
      "The approach outlined in the previous subsection can be extended in order to conduct an index decomposition analysis at the European level. We define the European energy intensity at time t,(5)It=∑j∑iGOj,tGOtGOi,j,tGOj,tEUi,j,tGOi,j,t=∑j∑iSj,tSi,j,tIi,j,twith the additional notation:•EU27's energy use in period t: EUt = ∑jEUj,t,•EU27's gross output in period t: GOt = ∑jGOj,t,•share of country j in total EU27's gross output in period t: Sj,t=GOj,tGOt,•EU27's energy intensity in period t: It=EUtGOt.\n",
      "This enables us to perform an index decomposition at the European level:(6)DTot,t+1=It+1It=DbStr,t+1DwStr,t+1DSei,t+1.\n",
      "In this case, we distinguish two aspects of structural change, a between-country structural effect, DbStr,t + 1, and a within-country structural effect, DwStr,t + 1. An increase of the former effect corresponds to a shift of the European economy toward more energy-intensive countries. An increase in the latter effect denotes a shift toward more energy-intensive sectors. The European sectoral intensity effect, DSei,t + 1, describes the impact of changing sectoral energy efficiency. The corresponding formulae for the Log Mean Divisia Index decomposition are(7)DbStr,t+1=exp∑j∑iLω˜i,j,t+1ω˜i,j,t∑j∑iLω˜i,j,t+1ω˜i,j,tlogSj,t+1Sj,t,(8)DwStr,t+1=exp∑j∑iLω˜i,j,t+1ω˜i,j,t∑j∑iLω˜i,j,t+1ω˜i,j,tlogSi,j,t+1Si,j,t,(9)DSei,t+1=exp∑j∑iLω˜i,j,t+1ω˜i,j,t∑j∑iLω˜i,j,t+1ω˜i,j,tlogIi,j,t+1Ii,j,t.\n",
      "The logarithmic mean Lω˜i,j,t+1ω˜i,j,t is defined analogously to the country-level case, but ωi,j,t has to replaced by the more fine-grained parameter ω˜i,j,t describing the share of energy use of each country and sector within European energy use, ω˜i,j,t=EUi,j,tEUt. Again, we conduct a chaining decomposition.\n",
      "\n",
      "3.3. The EU27-aggregate: three-factor decomposition\n",
      "\n",
      "Fig. 2 presents the results of the index decomposition at the European level. The graphs can be interpreted as follows. The solid black line corresponds to the total effect. It expresses the energy intensity in the EU27 relative to 1995. Thus, a value of 0.73 in 2009 implies that the energy intensity in Europe was about 27% lower than in 1995. The other graphs correspond to the three drivers. They can be interpreted analogously.\n",
      "\n",
      "Fig. 2. Log Mean Divisia Index decomposition of energy intensity (EU 27).\n",
      "Fig. 2 suggests that the decline in energy intensity observed between 1995 and 2009 is the result of rising sectoral energy efficiency and within-country structural change in the European economy. That is, improved technology and a shift towards less energy-intensive industries drove energy intensity down. The between-country structural change increased energy intensity. Gross output has slightly shifted into countries which exhibit a higher energy intensity.\n",
      "We can differentiate between three phases. In the first phase, between 1995 and 1999, the decrease in energy intensity is more due to a shift toward less energy-intensive sectors and less due to improvements in sectoral energy intensities. In the second phase, between 2000 and 2003, energy intensity remains almost unaltered. The index for the within-country structural change remains stable. We observe slight changes in the sectoral intensity effect. The between-country structural effects rises slightly, stating a shift of production towards more energy-intensive countries. The third phase, from 2003 to 2009, is characterized by a sharply declining sectoral energy intensity. It went down from 0.92 to 0.77. The within-country structural effect remains stable, while the between-country structural effect rises. All effects combined, energy intensity declined from 0.85 to 0.73 in the period from 2003 to 2009, highlighting the importance of the sectoral energy intensity reductions. The development of this effect is the key driver for the decline in total energy intensity.\n",
      "Depicting the change of sectoral energy intensity in the 34 sectors in 2009 relative to 1995, Fig. 3 shows which sectors successfully improved their energy efficiency. While some sectors experienced an increase in energy intensity – by 21.5% in the wood and cork production (sector “20”) – most sectors experienced a decrease. The decline ranged from moderate (− 0.5% in the inland transport, sector “60”) to tremendous (− 51.2% in the coke, refined petroleum and nuclear fuel, or sector “23”).\n",
      "\n",
      "Fig. 3. Sectoral development of the EU27 energy intensity.\n",
      "\n",
      "3.4. Decomposing energy intensity on a country-level\n",
      "\n",
      "This section presents the index decomposition analyses of the individual European countries. Fig. 4 displays the average annual growth rates of gross output and energy use (both in %) between 1995 and 2009. The dotted lines represent the respective EU27 averages. Most Eastern European countries performed well (located in the lower right corner, implying above-average rise in gross output and below-average rise in energy use), while some of Europe's most mature countries performed worst (located in the upper left corner, implying above-average rise in energy use and below-average rise in gross output).\n",
      "\n",
      "Fig. 4. GO- and EU-growth.\n",
      "To structure the presentation of the 27 IDAs, we allocate the nations into four country groups. The classification is based upon the average growth of gross output and energy use. The following groups are distinguished.•Best Performers (above Ø output growth, below Ø energy use growth, lower right quadrant): Bulgaria, Cyprus, Czech Republic, Estonia, Hungary, Latvia, Poland, Romania, Slovakia•Medium I (below Ø output growth, below Ø energy use growth, lower left quadrant): France, Germany, Italy, Netherlands, Sweden, United Kingdom•Medium II (above Ø output growth, above Ø energy use growth, upper right quadrant): Ireland, Lithuania, Luxembourg•Worst Performers (below Ø output growth, above Ø energy use Growth, upper left quadrant): Austria, Belgium, Denmark, Finland, Greece, Malta, Portugal, Slovenia, Spain.\n",
      "The country-level index decomposition analyses reveal substantial heterogeneity not only in the evolution of energy intensity but also in the underlying drivers. Take Bulgaria and Romania as an example. Both countries joined the EU in 2007 and both experienced a decline in energy intensity by about 60%. While this decline was exclusively driven by improvements in sectoral energy intensity in Bulgaria, Romania benefited from both structural effect and sectoral intensity effect being below unity. This heterogeneity is exploited in the panel estimations to identify factors influencing the total effect, the structural effect or the sectoral intensity effect. In the remainder of this section, we display and briefly discuss the results of the IDAs. For a more detailed discussion of the evolution of energy intensities see Voigt et al. (2014) who also employ the LMDI approach and WIOD data. Note that they only provide results up until 2007.\n",
      "3.4.1. Best performers\n",
      "\n",
      "The Best Performers group consists of Bulgaria, Cyprus, the Czech Republic, Estonia, Hungary, Latvia, Poland, Romania and Slovakia (Fig. 5). All countries are characterized by an above-average rise in gross output and a below-average rise in energy use between 1995 and 2009.\n",
      "The Best Performers roughly halved their energy intensity between 1995 and 2009. The underlying drivers of falling energy intensities differ by country, however. Changes in the sectoral composition reduced the energy intensity of the Czech Republic and Estonia. In Bulgaria and Poland, however, falling sectoral energy intensities decreased the countries' energy intensities. The results on Poland are in line with Gurgul and Lach (2012). They state that in the past decade, Poland's economic growth has been tied to changes in electricity utilization and to new, more energy-efficient technologies in the face of international environmental policy requirements.\n",
      "\n",
      "3.4.2. Medium I\n",
      "\n",
      "The medium I country group is characterized by below-average growth in gross output and below-average growth in energy use. It consists of France, Germany, Italy, Netherlands, Sweden and the United Kingdom, all mature European economies (Fig. 6). The moderate energy intensity reductions in these countries are likely due to their status as mature economies.\n",
      "France and the Netherlands show a continuous decline in overall energy intensity, but while the economy in France shifted towards a more energy-intensive production, the economic composition in the Netherlands remained almost unaltered. The German economy moved towards more energy-intensive production, resulting in a 7% increase in the structural change index. Yet this effect is dominated by industrial improvement, as the nearly 30% decline in the sectoral intensity effect shows. The United Kingdom and Sweden are examples for countries, where both effects are decreasing, resulting in an overall energy intensity improvement of more than 30%.\n",
      "\n",
      "3.4.3. Medium II\n",
      "\n",
      "The third country group is characterized by above-average growth in gross output and above-average growth in energy use. It consists of three small counties: Ireland, Lithuania and Luxembourg (Fig. 7). Lithuania is the only Eastern European country, besides Slovenia, that is not located in the Best Performers country group.\n",
      "Ireland exhibited a continuously falling energy intensity. From 2006 onwards, the structural effect jumped to values above one while the sectoral intensity effect fell below 0.6. This might already reflect economic turbulences due to the financial crisis. The sectoral intensity effect in Lithuania shows an inverted U shaped path between 1995 and 2009. The indices in Luxembourg exhibit strong fluctuations.\n",
      "\n",
      "3.4.4. Worst performers\n",
      "\n",
      "Our final group consists of countries that performed below the European average in both categories: Austria, Belgium, Denmark, Finland, Greece, Malta, Portugal, Slovenia and Spain (Fig. 8).\n",
      "The Worst Performers country group shows substantial heterogeneity in the drivers behind falling energy intensities. Take Austria and Finland as examples. Both countries reduced their energy intensity by some 20% between 1995 and 2009. In Austria, this development was solely driven by the sectoral intensity effect. In Finland, however, structural change was almost exclusively responsible for the falling energy intensity.\n",
      "\n",
      "\n",
      "\n",
      "\n",
      "\n",
      "Kapitel: 4. Empirical investigation \n",
      "\n",
      "\n",
      "4.1. Model\n",
      "\n",
      "We use the values obtained in the IDAs to construct a panel of 26 countries over 12 years. Luxembourg is an outlier and has been excluded. In 1995, all indices equal one by definition. Thus, 1995 is excluded. We also exclude 2008 and 2009 which are distorted by the financial crisis. The three indices for the total effect, the structural effect, and the sectoral intensity effect are used as dependent variables in the second part of the paper.\n",
      "We employ a fixed-effects model to estimate the three indices. Country characteristics, such as geographical location, area, or having been part of the Eastern bloc, are likely to be correlated with at least some of the explanatory variables. This speaks in favor of the fixed-effect model with country fixed effects.\n",
      "Estimation Eq. (10) is used in the regressions. Idxx,j,t denotes the value of index x in country j and year t, with x ∈ (DTot, DStr, DSei). β0,j is a dummy capturing time-invariant characteristics of country j. Xj,t records the explanatory variables and β the corresponding coefficients. εj,t is an idiosyncratic error term. Note that both the dependent and the explanatory variables (except for the time trend) are expressed in logs.(10)logIdxx,j,t=β0,j+βXj,t+εj,t=β0,j+β1logGDPpcj,t+β2sqrlogGPDpcj,t++β3logOPENj,t+β4logK/Lj,t+β5sqrlogK/Lj,t+β6logTFPj,t+β7logPENRGj,t+β8logREGULj,t+β9logVINTAGINGj,t+β10TRENDj,t+β11sqrTRENDj,t+εjtx∈DTotDStrDSei\n",
      "The following explanatory variables are used in the regressions. They are discussed and justified the next subsection.•GDPpc = GDP per capita (logarithmic)•OPEN = trade openness (logarithmic)•K/L = relative capital-to-labor ratio (logarithmic)•TFP = total factor productivity (logarithmic)•PENRG = price of energy (logarithmic)•REGUL = index of energy regulation (logarithmic)•VINTAGING = vintaging (logarithmic)•TREND = time trend•sqrTREND = time trend squared\n",
      "\n",
      "4.2. Variables\n",
      "\n",
      "4.2.1. GDP per capita\n",
      "\n",
      "The first variables which we include in our regression are log GDPpc and sqr logGPDpc. They measure the log GDP per capita and the squared log GDP per capita. They relate to the Environmental Kuznets Curve (EKC) literature (see Copeland and Taylor, 2004 for an excellent theoretical foundation and discussion). The EKC states that there is an inverted U-shaped relationship between income and pollution: a rising income is accompanied by higher levels of pollution up to a point where the relationship inverts and pollution begins to decline with income. The reasons for this trajectory are to be found on the supply side of the economy. Higher levels of income enable better and more efficient technologies on the supply side, as higher levels of income induce a shift in preferences for environmental protection.\n",
      "We expect that the coefficient for logGPDpc will be positive and the coefficient for sqr logGPDpc will be negative. This implies higher index values for higher incomes until the peak of the EKC is reached and then a lower index value for higher rates of income. We use data on GDP per capita from the Penn World Tables 7.0 to quantify the GPDpc.\n",
      "\n",
      "4.2.2. Trade openness\n",
      "\n",
      "As Antweiler et al. (2001) demonstrate in their seminal paper, trade can have a significant and positive impact on the environment through its effects on income and economic composition. And when it does, we can expect that trade will also have a significant indirect effect on the economy's energy intensity. Accordingly, we expect the log OPEN coefficient to be negative for all indicators. The openness to trade parameter from the Penn World Tables 7.0 (openk) quantifies OPEN.\n",
      "\n",
      "\n",
      "4.3. Capital-to-labor ratio\n",
      "\n",
      "The capital-to-labor ratio K/L is also relevant for the structure of the economy under investigation. We adopt the hypothesis of Antweiler et al. (2001) that greater capital intensity correlates with greater pollution and energy use (see also Cole and Elliott, 2003 and Cole, 2006 for further evidence). The WIOD provides sectoral estimates for physical capital stocks and the numbers of persons engaged. These estimates allow us to test the hypothesis that energy intensity increases in the capital-to-labor ratio (an indirect measure of structural change). We calculate the mean of the capital-to-labor ratio and then use relative capital-to-labor ratios in logs as well as the square thereof.\n",
      "4.3.1. Total factor productivity\n",
      "\n",
      "The next variable is total factor productivity (TFP) in logarithms. We expect that the coefficient will be negative in the case of DSei, implying that the sectoral energy intensity is low if a country uses its primary factors efficiently. The effect on the economic structure is not clear ex ante.\n",
      "We rely on a standard measure for gross-output-based TFP as presented in Hsieh and Klenow (2010).8 Comparative studies of labor productivity often define the United States as the technology leader and then measure the distance between other countries and this reference. We use Italy, the nation for which we find the highest TFP in 1995, as the reference country. Our estimation equation for TFP builds on Hall and Jones (1999), Alcalá and Ciccone (2004), and Hsieh and Klenow (2010) and takes the form:(12)TFPj,t=rgdpwokj,tKGOj,t⋅rgdpwokj,tα⋅expΘj⋅SchoolingYearsj,t1−α.\n",
      "The following data is employed to compute the TFP. Real GDP per worker (rgdpwok) is taken from the Penn World Tables. We use capital-to-output ratios (K/GO) from the WIOD. α is the share of capital compensation and is taken to be 0.3, which is in line with the literature. Combining data on educational attainment and returns to education, we adjust labor inputs for human capital. The updated Barro and Lee dataset on educational attainment provides us with data on schooling years, information on Mincerian returns to education (Θ) is taken from Psacharopoulos and Patrinos (2004).9\n",
      "\n",
      "4.3.2. Energy prices\n",
      "\n",
      "The variable PENRG denotes energy prices. We used Eurostat data on average electricity prices for mid-sized industrial firms in Euro per kilowatt hour to quantify our measure of energy prices. Electricity prices vary considerably over time and between countries. Of the 312 data points (spanning 26 countries and 12 years), 63 were missing, mostly prior to 2000. To create proxies for the absent data, we extrapolated the values. PENRG enters the estimation equation in logarithms.\n",
      "\n",
      "4.3.3. Index of energy regulation\n",
      "\n",
      "To account for various energy and climate policies, we made use of the Policies and Measures Databases provided by the International Energy Agency (International Energy Agency, 2012). They encompass three different databases: Global Renewable Energy, Energy Efficiency, and Policy Measures Addressing Climate Change. Altogether, these databases contain data on more than 3600 policies and on all types of policy measures going back to 1973 for some 50 countries. The information recorded in the databases encompasses targeted sector, jurisdiction, and policy type, among others.\n",
      "We prepared the data in the following way. First, we merged the databases. Second, we broke down policies containing multiple indicators (e.g., solar PV/wind/bioenergy and R & D investments/standards) or policies assigned to multiple sectors into single policy measures. Sometimes this meant dropping observations when our manual search found no specific information or indicator for a database entry. We also dropped observations to avoid double counting, as some policies are reported in more than one of the original databases. This left us with approximately 3200 policy measures. Third, for the policy types and targeted technologies within the energy sector we constructed multi-level structures to which we assigned the types and technologies appearing in the original database to higher-level instances.10\n",
      "We apply a weighting scheme for policies to construct our regulatory index. The energy policies can be subdivided into three groups, each characterizing a level of stringency. First, technology-oriented measures such as voluntary approaches and R & D subsidies which are the least stringent measures in our regulation index. The second group consists of command-and-control policies such as standards and quotas. And finally, there are market-based instruments, which we classify as most stringent. Our index was constructed by the following formula:(13)REGULj,t=ω∑TECHj,t+θ∑COMMANDj,t+∑ϕMARKETj,tω,θandϕasweightsandTECHN,COMMANDandMARKETaspolicytypes.\n",
      "We used 0.5 for ω, 0.8 for θ and 1.0 for ϕ.11 Fig. 9 illustrates the development of our reference energy regulation index for four countries: Germany, Sweden, Poland and Slovenia. Two observations are remarkable. First, the index value is higher for mature economies. And second, an increasing trend can be found for Western countries but not for Eastern.\n",
      "\n",
      "Fig. 5. IDAs for the Best Performers country group.\n",
      "\n",
      "Fig. 6. IDAs for the Medium I country group.\n",
      "\n",
      "Fig. 7. IDAs for the Medium II country group.\n",
      "\n",
      "Fig. 8. IDAs for the Worst Performers country group.\n",
      "\n",
      "Fig. 9. Regulatory index for four countries.\n",
      "\n",
      "4.3.4. Others explanatory variables\n",
      "\n",
      "VINTAGING captures the national differences in capital stock vintaging (source: WIOD). VINTAGING is included in the model as the ratio of investment to capital stock. It enters the estimation equation in logarithms.\n",
      "The effect may be positive since fast growing countries may have newer capital stock, which uses less energy and is hence more efficient. To control for a, potentially non-linear, time trend, we used the variables TREND and sqrTREND.\n",
      "\n",
      "\n",
      "4.4. Descriptive statistics\n",
      "\n",
      "Table 1 provides summary statistics on the variables used in the estimation.\n",
      "\n",
      "Table 1. Summary statistics.\n",
      "\n",
      "4.5. Explaining the total effect\n",
      "\n",
      "Table 2 displays the estimation results for the total effect (DTot). We present five specifications of the model. Column I shows the baseline specification. The baseline covers the period from 1996 to 2007. We only exclude Luxembourg.\n",
      "\n",
      "Table 2. Regression results for the total effect.\n",
      "\n",
      "Robust standard errors in parentheses for the FE estimates, standard errors for the 2SLS. 1995 is excluded in all estimations.\n",
      "\n",
      "Robust standard errors in parentheses for the FE estimates, standard errors for the 2SLS. 1995 is excluded in all estimations.\n",
      "\n",
      "p < 0.1.\n",
      "\n",
      "p < 0.05.\n",
      "\n",
      "p < 0.01.\n",
      "The other four specifications serve as robustness checks.12 Excluding the three smallest EU countries, we drop Cypress, Malta, and Luxembourg in specification II. The year 2007 is additionally excluded in specification III. In specification IV, we replace the time trend with time dummies.\n",
      "The fifth sensitivity check tackles a potential endogeneity issue. It appears plausible that GDP per capita has an impact on the energy efficiency and its drivers. But structural change and energy intensity may also influence GDP. Thus, in specification V we follow Frankel and Rose (2005) and construct an instrument for GDP per capita. Appendix B shows how the instrument in constructed. A two-stage least squares model is used to estimate specification V. Solving the potential endogeneity problem comes at a price, however. We are not able to control for a squared GDP term in specification V.\n",
      "The results presented in Table 2 do not indicate a robust relationship between GDP and the index of energy intensity in our panel. The coefficients of log GDPpc as well as sqr log GDPpc are insignificant in all specifications. The capital-to-labor ratio is not found to have a significant effect on energy intensity either.\n",
      "Both total factor productivity and energy prices have a statistically significant and negative impact on energy intensity. A greater openness to trade is negatively correlated with energy intensity in only one of the five specifications. Furthermore, we find a deceasing trend in energy intensity.\n",
      "\n",
      "4.6. Explaining the structural effect\n",
      "\n",
      "This subsection presents the results for the structural effect DStr. Table 3 displays the results for the five specifications which are identical to those used for the total effect.\n",
      "\n",
      "Table 3. Regression results for the structural effect.\n",
      "\n",
      "Robust standard errors in parentheses for the FE estimates, standard errors for the 2SLS. 1995 is excluded in all estimations.\n",
      "\n",
      "Robust standard errors in parentheses for the FE estimates, standard errors for the 2SLS. 1995 is excluded in all estimations.\n",
      "\n",
      "p < 0.1.\n",
      "\n",
      "p < 0.05.\n",
      "\n",
      "p < 0.01.\n",
      "Specification I is the baseline. It covers the period from 1996 to 2007 and all EU27 countries except Luxembourg. In specification II, we also exclude Cypress and Malta. 2007 is excluded as well in specification III. In Specification IV, we use time dummies instead of a time trend. In specification V, we instrument for log GDP per capita.\n",
      "We find that the (energy relevant) structural change follows an environmental Kuznets curve. The coefficient on log GDP per capita is positive and significant in three out of five specifications. The coefficient on sqr logGPDpc is negative and significant. With growing GDP, the economic structure shifts towards the production of energy intensive goods until it reaches a peak and moves towards less energy-intensive goods again.\n",
      "We did not obtain a significant relationship between the instrumented GDP per capita and the structural effect. It might be that GDP per capita in logarithms alone is not able to fully capture the relationship between income and the structural effect.\n",
      "Capital-to-labor ratios have a significant and positive effect on DStr, a result in line with Antweiler et al. (2001). A capital-intensive economy implies a large share of energy-intensive industry. The total factor productivity has a negative impact on the structural effect, but is significant only in specification V. The same is the case for openness to trade and energy-related regulation. Both reduce the structural effect, implying structural change towards less energy-intensive industries.\n",
      "Energy prices have a negative effect on structural effect, indicating that high energy prices lead to specialization in less energy-intensive sectors.\n",
      "\n",
      "4.7. Explaining the sectoral intensity effect\n",
      "\n",
      "The results of our estimation for the sectoral intensity effect (DSei) are displayed in Table 4. We use the same five specifications as for DTot and DStr.\n",
      "\n",
      "Table 4. Regression results for the sectoral intensity effect.\n",
      "\n",
      "Robust standard errors in parentheses for the FE estimates, standard errors for the 2SLS. 1995 is excluded in all estimations.\n",
      "\n",
      "Robust standard errors in parentheses for the FE estimates, standard errors for the 2SLS. 1995 is excluded in all estimations.\n",
      "\n",
      "p < 0.1.\n",
      "\n",
      "p < 0.05.\n",
      "\n",
      "p < 0.01.\n",
      "The results on the sectoral intensity effect differ substantially from those on the structural effect. We find a negative and significant effect on log GDPpc as well as a positive and significant effect on sqr log GPDpc. This result is plausible, at least at the second glance. Assume a sector wants to reduce the energy input needed to produce some amount of goods. Physical laws set upper bounds on energy efficiency and investments in energy savings have decreasing returns. A concave relationship between GDP and the sectoral intensity effect can be expected.\n",
      "The capital-to-labor ratio also shows opposite results than for the structure effect: a higher capital-to-labor ratio leads to decreasing sectoral energy intensity. This can be interpreted as follows. Once the (energy relevant) structural change has been accounted for, more capital intensive production is likely to reflect substitution of capital for energy. This leads to a negative relationship between capital intensity and the sectoral intensity effect.\n",
      "Surprisingly, both energy prices and energy-related regulation have an increasing effect on the sectoral intensity effect. These impacts do not appear consistently in all specifications, however.\n",
      "\n",
      "\n",
      "\n",
      "\n",
      "Kapitel: 5. Conclusion \n",
      "\n",
      "\n",
      "This study investigates the forces driving improvements in energy intensity in the European Union between 1995 and 2009, in times with and without climate policy and economic turbulence.\n",
      "In the first part of this paper, we conduct index decomposition analyses to disentangle the falling energy intensity into two drivers: the impact of (energy-related) structural change and the impact of changing sectoral energy intensities. The IDA for the EU27 reveals that both drivers were similarly important from 1995 to 2003. From 2004 onwards, the decline in aggregate energy intensity was mostly due to falling sectoral energy intensity.\n",
      "The country-level IDAs reveal substantial heterogeneity between the 27 countries. Even in nations which exhibited similar declines in energy intensity and which might be expected to develop similarly, such as Bulgaria and Romania, the reasons for the falling energy intensities can be remarkably different.\n",
      "The second part of the paper takes advantage of this heterogeneity. A panel data set containing the indices of energy intensity, of the structural effect, and of the sectoral intensity effect is constructed. We estimate the influence of variables such as GDP per capita, capital intensity, or energy prices on the three indices. Therefore, we do not only investigate if these variables affect energy intensity, but the channel through which they effect it.\n",
      "The results of the estimations are insightful. Take capital intensity as an example. We do not find a significant effect of the capital-to-labor ratio on the aggregate energy intensity. A high capital-to-labor ratio has a significant increasing impact on the structural effect. The sectoral intensity effect decreases in capital-to-labor ratio, however.\n",
      "We find that high energy prices lead to lower energy intensities. This decrease is driven mostly by structural change, while energy prices appear to have a slightly increasing though less robust effect on the sectoral intensity effect.\n",
      "The results suggests that the two-step approach allows for deeper insights into the underlying drivers of energy intensity. Further research should improve these insights as well as check their robustness. The error terms in the regressions for the three indices are potentially correlated. Applying a seemingly unrelated regression model might lead to a more efficient estimation.13 Furthermore, the use of a bigger dataset including more countries and a longer time period would allow to increase the reliability of the results.\n",
      "\n",
      "\n",
      "\n",
      "-------- \n",
      "\n",
      "Publication:\n",
      "> A Structure-Based Platform for Predicting Chemical Reactivity \n",
      "\n",
      "\n",
      "Full text: \n",
      "\n",
      "Kapitel: Introduction \n",
      "\n",
      "\n",
      "Although chemical intuition, based on experience, expertise, and mechanistic understanding, has driven the discovery of new transformations in organic synthesis, the accurate prediction of the outcome of a single chemical reaction remains a major challenge for models based on human instinct and computers.1 In this regard, the optimization of an organic transformation therefore requires the collection of large amounts of empirical data. Even for well-established methodologies, experienced chemists frequently fail to predict whether a (complex) substrate might undergo the desired transformation, making the field of chemical synthesis highly challenging and laborious.2,3 Although qualitative estimations based on mechanistic understanding can be accurate, the quantitative prediction of chemical reactivity is almost impossible with chemical intuition alone, mainly because of the enormously complicated correlation between structure and reactivity.\n",
      "Because of this complexity, chemists have tried to simplify the overall problem by correlating (known or easily accessible) molecular properties with a compound’s reactivity. In this quantitative approach toward reactivity prediction, linear free energy relationships (LFERs) are identified and solved using multivariate linear regression (MLR) models.4,5 This statistical approach, which has been established by Sigman and co-workers, relies on physically meaningful parameters to represent the structures of interest.6, 7, 8 These molecular descriptors are electronic or steric parameters, which can be determined by experimental or computational means (mainly density functional theory [DFT] calculations). Parameter selection and model development are typically carried out in a lengthy iterative workflow until good correlation is achieved. The major strong point of this process is that in many cases, valuable information on the underlying mechanism can be obtained.9,10 Furthermore, after the successful identification of mechanistically relevant descriptors, the amount of data points required for an MLR prediction model can be comparatively small. However, this requires a representative set of training data, which has to be carefully considered.6\n",
      "A more general, statistical approach to predict reactivity building on a given dataset is machine learning. Because of their ability to recognize complex patterns, machine learning algorithms have been widely used in many scientific fields.11 In the context of chemoinformatics, they were applied for use in drug discovery,12,13 computer-aided synthesis planning (CASP),14, 15, 16 the prediction of possible organic reaction products,17, 18, 19, 20 and molecular design.21,22 Within these fields, the quantitative prediction of properties or biological activities for a given molecule has been investigated extensively, referred to as quantitative structure-activity or property relationships (QSARs or QSPRs) (Figure 1A).23,24 The fundamental concept is that all parameters and molecular characteristics can eventually be traced back to a compound’s Lewis structure, which contains the connectivity of all atoms in a simplified molecular topology. Although string representations such as simplified molecular input line entry specification (SMILES) accurately represent the (2D) molecular graph, their direct use as inputs for machine learning models has only been of limited success.25,26 Thus, a great focus of scientific research was the development and use of general and readily applicable representations to allow for algorithm-based pattern recognition in molecular structures.27,28 In many fields, the so-called molecular fingerprints are highly established.29,30 These bit vectors have originally been designed for substructure and similarity searches in virtual screening,31, 32, 33 and modern implementations such as extended-connectivity fingerprints (ECFPs) have been proven well suited as inputs for machine learning models (Figure 1A).34 Furthermore, the generation of fingerprints from the 2D molecular graph (referred to as encoding) can be carried out efficiently on a subsecond timescale.\n",
      "\n",
      "Figure 1. Quantitative Modeling in Organic Chemistry Based on Machine Learning\n",
      "\n",
      "(A) Quantitative prediction of molecular properties or biological activities. Molecular fingerprints as a structural representation for machine learning models.\n",
      "\n",
      "(B) Quantitative modeling of reaction outcomes via machine learning. Previous models rely on one-hot encoding35,36 or (physical) parameters37,38 to represent chemical reactions. The aim of this work was to apply a generally applicable structural representation such as molecular fingerprints.\n",
      "In contrast to (physical) properties or biological activities, the quantitative modeling of chemical reactivity (e.g., yield and selectivity) with machine learning algorithms has not been approached until very recently, primarily due to the lack of available data.39 In general, the generation of data points in chemistry is traditionally rather expensive. Although molecular properties can usually be obtained from DFT calculations, there is no other cheap alternative for the generation of reaction-specific data better than physically going to the laboratory and running the experiment. Thus, to generate these data, technical solutions for high-throughput experimentation under batch and flow conditions have been developed to carry out thousands of reactions in a short time by using just a few milligrams of material.40, 41, 42 Such tools, combined with in vitro and in silico compound libraries, have recently opened the field of reaction development to machine learning models.35,43,44\n",
      "In pioneering work, Doyle and co-workers were able to predict the reaction yields of C–N cross coupling reactions by using a dataset of more than 4,000 reactions.37 Furthermore, Denmark and co-workers could predict enantioselectivities by using chiral phosphoric acid (CPA) catalysts based on a dataset with more than 1,000 experiments.38 Similar to MLR studies, these methods rely on physically meaningful parameters (Figure 1B). In a thorough analysis, steric and electronic parameters are selected on the basis of the underlying mechanism of the transformation and relevant properties of each reactant. In a next step, these parameters are determined by means of DFT calculations, as uniform sets of experimental values are not usually available for such a large number of molecules. However, although DFT calculation of properties is considered fast for a specific compound, the generation of multiple descriptors for a library of substrates can be time consuming, especially so in cases where more complex structures are involved. Thus, DFT computations using established methods can easily become time limiting, as these methods typically scale with a computation time complexity of O(N4) depending on the size (N) of the system.45 It should be noted that certain descriptors for a variety of functional groups can either be found in the literature or calculated in a simple way. In this regard, Grzybowski and co-workers could predict the major isomers formed in Diels-Alder reactions by using Hammett constants and topological steric effect indices (TSEIs) as inputs.46\n",
      "Contrary to QSPRs, the quantitative modeling of reaction outcomes such as selectivities and yields can be considered a multi-dimensional problem, as each data point relies on multiple molecules as inputs. In such combinatorial datasets, the actual amount of data points can outnumber the total number of molecules by several orders of magnitude (Figure 1B). A chemical reaction can thus be represented by a one-hot encoded vector, which only contains the information whether a specific compound is included in the reaction. Although not chemically meaningful, such models can reveal inherent statistical correlation in combinatorial datasets and should thus be used to validate chemically inspired approaches. In this regard, Chuang and Keiser showed that at least in some cases, a one-hot encoded model was as good in predicting yields as the original descriptor model by Doyle and co-workers mentioned above.36,47 The use of one-hot encoding for successful pattern recognition in chemical reactions has also been utilized by Cronin and co-workers.35\n",
      "In contrast to one-hot encoding, the use of physicochemical parameters or descriptors includes chemical information and therefore allows for the prediction of new molecules that have not been included in the training set. However, (biased) manual selection of experimental or calculated descriptors can oversimplify the problem, which can introduce systematic errors through the loss of seemingly unimportant information. Moreover, as every molecule and reaction is unique, the selection of a consistent and general set of physical properties as universal molecular descriptors is highly challenging.\n",
      "These problems could potentially be circumvented by applying structural representations, such as molecular fingerprints, for each individual reaction component (Figure 1B). In terms of quantitative prediction of reaction outcomes, fingerprint-based models have so far only been applied for classification of reactions and with limited success.48 Still, QSAR/QSPR studies suggest that all chemical information can eventually be traced back to a compound’s (2D) Lewis structure.33 In fact, human chemical intuition has often been based on understanding and rationalizing 2D connectivity. However, although human receptivity is limited, machine learning algorithms bear the potential of identifying new and unknown patterns within molecular structures.11 Thus, we hypothesized that a concatenation of structural representations, inspired by QSAR/QSPR studies,49 could as well serve as inputs for the quantitative modeling of reaction outcomes. Such a model would be both chemically meaningful and readily applicable while at the same time significantly reducing the computational cost compared with models based on DFT-generated descriptors.\n",
      "\n",
      "\n",
      "\n",
      "Kapitel: Results and Discussion \n",
      "\n",
      "\n",
      "Here, we present a structure-based machine learning platform for property and reactivity prediction in (organic) chemistry. This approach can be easily adopted and applied to existing problem sets because it relies only on SMILES representations of all involved molecules as inputs, which are automatically converted into the corresponding molecular fingerprints. Specifically, for each molecule an array of 24 diversely configured fingerprints is generated using RDKit as a python package.50,51 A concatenation of multiple fingerprint features (MFFs) (one MFF for each [reaction] component), matched to the observed experimental data, is used to train a machine learning model, which is eventually capable of predicting properties or reactivity beyond the training dataset (Figure 2).\n",
      "\n",
      "Figure 2. The MFF Model\n",
      "\n",
      "(A) Use of fingerprints as a molecular representation for machine learning models. The MFF can be applied to diverse problem sets.\n",
      "\n",
      "(B) Standard workflow for the prediction model based on MFF. Only features are depicted, and targets are left out for clarity. Model selection is performed by 5-fold nested cross validation (CV).\n",
      "\n",
      "See also Figures S1 and S2; Tables S1–S16. ML, machine learning.\n",
      "A vast number of machine learning algorithms have been developed over the last decades, which can be loosely categorized into distance-based and non-distance-based methods.52 Distance-based approaches build on the assumption that similar input generates similar output, and vice versa. However, in organic chemistry, structural similarity does not necessarily correlate with similar reactivity. Thus, we assumed that non-distance-based algorithms, such as random forests or neural networks that rely on (complex) decision trees or networks, were best suited for our predictive tool. Preliminary results indicated that both random forest and neural network algorithms can deliver good regression models via the MFF input. We selected the random forest model53 for further investigations, as it was shown to be more robust over a variety of different problem sets and less prone to overfitting, i.e., a perfect modeling of the training data (R2train = 1), which typically results in poor accuracy for predicting the test set.54 This can be problematic, especially when tackling small (reaction-based) datasets using a large number of features. Although a high degree of overfitting is observed when using neural networks trained with the MFF input, the random forest model appears to be less sensitive, which is in agreement with previous literature reports.55 Further indication is obtained by the fact that generally no trees with a high tree depth are built (a high tree depth is usually considered as an indicator for overfitting).54 Despite the seemingly low sensitivity to overfitting, it should be noted that the extrapolative properties of a random forest beyond the trained target space are inherently limited. Moreover, hyperparameter optimization for model selection of the machine learning algorithms was based solely on the training data in any case (nested cross-validation, Figure 2B). The implementation was conducted using the Python package Scikit-learn.56\n",
      "At the outset of our investigations, we observed that every single fingerprint performed differently for each problem set and that no universally applicable fingerprint existed (Figure 2A). Even within a single specific dataset, the best-performing fingerprint differed for different train-test splittings. Furthermore, the selection of the best single fingerprint for the prediction of an unknown (out-of-sample) test set, solely based on the training data, could not be achieved in many cases.54 To circumvent this problem, we sought to use an array of multiple fingerprints in order to generate an input that would provide a more accurate and robust representation of the Lewis structure. In the context of reactivity prediction, this model did also outperform learnable representations, such as a graph-convolutional neural network (GCNN),54,57 which have recently gained a lot of attention.20,28,58\n",
      "Prediction of HOMO-LUMO Gaps\n",
      "\n",
      "Current machine learning models for the quantitative modeling of reaction outcomes based on DFT-calculated descriptors require molecules that have at least one structural motif, atom, or functional group—a reactive center—in common.37,38 Thus, a model, which was originally designed to predict yields for reactions of aryl halides, will—without major modifications—not be able to assess, e.g., chiral catalyst systems (and vice versa). Our fingerprint-based model, however, was developed to be applicable to a variety of organic chemical prediction problems. Therefore, as a first step, its applicability to a series of structurally different molecules was demonstrated in a QSPR study. We decided to investigate the highest occupied molecular orbital-lowest unoccupied molecular orbital (HOMO-LUMO) gap, as obtained from DFT calculations (Figure 3A). Such predictions of DFT-calculated properties are often performed on large datasets with more than 100,000 molecules, e.g., the QM9 dataset reported by von Lilienfeld and co-workers.59 For predicting HOMO-LUMO gaps from this dataset, the MFF model resulted in lower prediction errors than previously investigated molecular representations that are only based on the 2D molecular graph (R2 = 0.97).60 As reaction-based datasets usually contain significantly less data points (<5,000), we further decided to investigate a database of around 2,900 small organic molecules from our group’s chemical inventory. Here, we were pleased to find that the MFF model was still capable of predicting HOMO-LUMO gaps: for ten random 70/30 splits of the abovementioned dataset, an average R2 of 0.89 between observed and predicted HOMO-LUMO gaps was obtained (Figure 3B).\n",
      "\n",
      "Figure 3. Prediction of Orbital Energies\n",
      "\n",
      "(A) Calculated HOMO-LUMO gaps as an explicit molecular property. Calculated HOMO and LUMO geometries shown for 2-fluoro-5-nitroaniline.\n",
      "\n",
      "(B) Performance evaluation of the MFF model on the QM9 dataset59 and our group’s inventory. Correlation measure for ECFP (diameter 4, ECFP4, using a random forest regressor) was published by von Lilienfeld et al.60 MFF correlation measures were averaged over five (QM9) and ten (group inventory) random divisions. Plots are given for the MFF model for one explicit division. ΔE and MAE (mean absolute error) in kcal/mol.\n",
      "\n",
      "See also Figures S3–S27; Tables S17 and S18.\n",
      "Given that the HOMO-LUMO gap is a property of the overall molecule, the MFF model seems to represent and compare not only local substructures of a molecule but also global molecular characteristics. This result served to reinforce the original hypothesis that (computed) molecular properties can eventually be traced back to patterns in the (2D) Lewis structure.\n",
      "It should also be noted that orbital energies have commonly been used as descriptors in MLR and machine learning models.637 This indicates that our model should also be applicable to more complex reactivity-based datasets. More precisely, we aimed to investigate diverse datasets of increasing complexity available in the literature that had successfully been applied in machine learning studies. It should be emphasized that we do not intend to question the relevance and importance of the reported models but rather wish to present an alternative approach in order to provide a simple and readily applicable prediction model.\n",
      "\n",
      "Prediction of Enantioselectivities\n",
      "\n",
      "The prediction of stereoselectivities of catalytic reactions has been of great interest to the chemical community and a major focus of many MLR models.4, 5, 6, 7, 8, 9, 10 Recently, Denmark and co-workers described a machine-learning-based approach for the prediction of enantioselectivity by using CPA catalysts.38 The possibility to predict parts of these data via MLR models trained with other nucleophiles was later demonstrated by Sigman and co-workers.61 In the initial work, Denmark et al. chose an asymmetric N,S-acetal formation as a model reaction. The training set included combinatorial variations of 43 CPA catalysts, five N-acyl imines, and five thiols, resulting in a total of 1,075 reactions (Figure 4A). A new steric parameter, the average steric occupancy (ASO), based on DFT-computed 3D representations of multiple conformers was developed to represent the catalysts. Weighted grid point occupancies in combination with calculated electronic parameters were used to train a machine learning model in order to predict enantioselectivity (ΔΔG in kcal/mol). A distance-based support vector machine algorithm was found to perform best on a random 600/475 split of training and test data (<MAE> = 0.152 kcal/mol, average over ten random divisions).38 When applying a similar random splitting of the dataset, we found that our model performed with slightly higher accuracy (<MAE> = 0.144 kcal/mol, average over ten random divisions) by using a random forest algorithm, whereas a one-hot encoded model as statistical probe resulted in lower correlation (<MAE> = 0.163 kcal/mol, average over ten random divisions) (Figure 4B). In their original work, the authors divided the data for out-of-sample prediction into a common training set, a test set for substrates (sub), a test set for catalysts (cat), and one for both (sub-cat). The same division was analyzed by using our MFF model, which showed good accuracy in all three test sets. In particular, the performance for the most challenging catalyst out-of-sample predictions (cat, sub-cat) stands out. Although a one-hot encoded model resulted in low correlation measures, the simple MFF model performed nearly as well as the original complex descriptor model.\n",
      "\n",
      "Figure 4. Prediction of Enantioselectivities\n",
      "\n",
      "(A) Asymmetric N,S-acetal formation using CPA catalysts by Denmark et al.38\n",
      "\n",
      "(B) Comparison of the original model, a one-hot encoded model as statistical probe and the MFF model (MAE in kcal/mol given as correlation measure). Plots for the MFF model are given. The MFF model uses a concatenation of MFF vectors for imine, thiol, and CPA catalyst as input.\n",
      "\n",
      "See also Figures S28–S55; Table S19.\n",
      "Visualization and interpretation of prediction data obtained by machine learning methods is not straightforward and represents an ongoing challenge in computer research.62 Accordingly, an in-depth chemical interpretation and comparison of the structure-based approach with the original descriptor model is difficult and might not allow general conclusions. However, the observed trends can give hints on the strengths and weaknesses of each method. The original descriptor model is mainly focused on representing the CPA catalysts. Thus, a slightly higher accuracy for predicting catalyst out-of-sample test sets (cat, sub-cat) can be observed. In contrast, the structure-based MFF model represents all reactants and CPA catalysts in an equal fashion, which might be the reason for the superior performance regarding the random and the substrate out-of-sample test sets.\n",
      "\n",
      "Prediction of Yields\n",
      "\n",
      "In comparison to stereoselectivities, the quantitative prediction of yields can be even more demanding, because they are influenced by many parameters and do not rely on one elementary step alone. In a recent report, Doyle and co-workers described a machine learning approach to predict reaction performance in C–N cross coupling reactions.37 The training data, including combinatorial variation of four reaction components applying an additive-based approach,63 were collected by using high-throughput experimentation. All possible combinations of 15 aryl halides, four ligands, three bases, and 23 isoxazole additives were evaluated in a total of 4,140 reactions (Figure 5A). The molecules were represented by electronic, atomic, and vibrational descriptors that were extracted from DFT calculations. A variety of regression models was subjected to a random 70/30 split into training and test data, and a random forest model was found to show the best performance in predicting product yields (R2 = 0.92). Moreover, we found that our simplified model based on a structure-based input resulted in comparable correlation (Figure 5B, <R2> = 0.93, average over ten random divisions).\n",
      "\n",
      "Figure 5. Prediction of Yields\n",
      "\n",
      "(A) C–N cross coupling reactions of 4-methylaniline with various aryl halides by Doyle and co-workers.37\n",
      "\n",
      "(B) Comparison of the original model, a one-hot encoded model as statistical probe and the MFF model (R2 given as correlation measure). Plots for the MFF model are given. The MFF model uses a concatenation of MFF vectors for aryl halide, Pd-catalyst, base, and isoxazole additive as input.\n",
      "\n",
      "See also Figures S56–S91; Table S20.\n",
      "However, such a random 70/30 split of the entire combinatorial data, consisting of only 46 different molecules, results in a training set that is likely to contain all molecules at least once. Consequently, a one-hot encoded model as statistical probe showed slightly lower but still very good performance (<R2> = 0.89, average over ten random divisions).36 The appropriate test to prove the relevance of chemical features in such models is out-of-sample prediction, i.e., the prediction of reactivity for molecules that were not included in the training dataset. Thus, the authors split the isoxazole additives into a variety of representative training and test sets and could prove good performance of the chemical feature model in these cases.47 The same division for out-of-sample prediction via MFF as input, showed comparable correlation in three of four test sets.64 In contrast, one-hot encoded models were less accurate (Figure 5B). As both, the original descriptor model and the structure-based MFF approach, gave similar trends regarding the additive test sets, they seem to represent the isoxazole additives equally well.\n",
      "\n",
      "Prediction of Relative Conversion\n",
      "\n",
      "As a last—and most demanding—application, we aimed to use an experimental dataset that had neither been specifically designed nor used for machine learning. In 2015, Cernak, Dreher et al. performed an automated high-throughput screening on a nanomole scale in order to find suitable coupling conditions for C–heteroatom bond forming reactions.40 In a palladium-catalyzed reaction, coupling of one electrophile, 3-bromopyridine, with 16 different nitrogen, oxygen, carbon, phosphorus, and sulfur nucleophiles was evaluated (Figure 6A). For this, 16 catalysts and six bases were investigated, giving a total of 1,536 reactions that were carried out on nanomole scale by using around 0.2 mg of material per reaction in less than 1 day. The relative conversion, determined by liquid chromatography-mass spectrometry (LC-MS) analysis, was used for quantification. This exemplifies a “real-world problem,” as for unknown complex molecules an accurate yield determination can hardly be carried out before the synthesis of the compound. Thus, we aimed to directly predict the relative conversion by using our MFF model in a similar manner to the previously reported yield prediction. Encouragingly, a random 70/30 split of the dataset resulted in good correlation for reactivity prediction (Figure 6B, <R2> = 0.76, average over ten random divisions), whereas a one-hot encoded model as the statistical probe showed significantly lower performance (<R2> = 0.59, average over ten random divisions). Moreover, out-of-sample prediction for catalysts could be achieved. Therefore, the data of twelve catalysts were used to predict the reaction outcomes of the remaining four catalysts (test cat). Although a one-hot encoded model showed no statistical correlation (R2 = −0.17), the MFF model gave satisfactory performance (R2 = 0.64), further underlining its abilities to learn from chemical structures.\n",
      "\n",
      "Figure 6. Prediction of Reactivity\n",
      "\n",
      "(A) Nanomole-scale reactivity evaluation of C−heteroatom-coupling reactions by Cernak, Dreher et al.40\n",
      "\n",
      "(B) Comparison of a one-hot encoded model as statistical probe and the MFF model (R2 given as correlation measure). Plots for the MFF model are given. The MFF model uses a concatenation of MFF vectors for base, nucleophile, and Pd catalyst as input.\n",
      "\n",
      "See also Figures S92–S113; Table S21.\n",
      "In summary, we report a machine-learning-based prediction platform for diverse applications in organic chemistry. A numerical representation of 2D Lewis structures, the MFF, was developed, which can be computed efficiently within seconds for a large number of molecules. Because this model is solely based on the assumption that reactivity can be directly derived from molecular structures, it should be transferable to any problem related to (small) organic molecules. In this work, we demonstrate its applicability to four examples of increasing complexity by using a random forest algorithm. First, the ability of the MFF input to represent and compare diverse molecular structures was demonstrated by the prediction of HOMO-LUMO gaps as an explicit molecular property. Furthermore, prediction of reaction performance, enantioselectivities, and yields could be achieved with similar accuracy to established descriptor-based models, which rely on problem-oriented parameter selection. It should be noted that the generation of the simple and intuitive structure-based model is several orders of magnitude faster. Finally, relative conversion was predicted based on a dataset (obtained from high-throughput experimentation), which had not been used for machine learning before. To aid the rapid uptake of this approach, we provide a readily applicable software tool, and the development of an extended software package is ongoing in our group. In the light of rapid development of improved machine learning algorithms and new molecular representations such as graph-convolutional neural networks, we believe that this structure-based approach will further encourage synthetic chemists to adopt machine-learning-based prediction models.\n",
      "\n",
      "\n",
      "\n",
      "\n",
      "-------- \n",
      "\n",
      "Publication:\n",
      "> Artistic movement recognition by consensus of boosted SVM based experts \n",
      "\n",
      "\n",
      "Full text: \n",
      "\n",
      "Publication:\n",
      "Artistic movement recognition by consensus of boosted SVM based experts\n",
      ">> No full text available, the WWU probably does not own a license for this publication\n",
      "-------- \n",
      "\n",
      "Publication:\n",
      "> Semi-automatic inductive construction of reference process models that represent best practices in public administrations: A method \n",
      "\n",
      "\n",
      "Full text: \n",
      "\n",
      "Publication:\n",
      "Semi-automatic inductive construction of reference process models that represent best practices in public administrations: A method\n",
      ">> No full text available, the WWU probably does not own a license for this publication\n",
      "-------- \n",
      "\n"
     ]
    }
   ],
   "source": [
    "# Quick Demonstration of full texts\n",
    "for soup in elsevier_soups_full:\n",
    "    print(f'Publication:\\n> {get_title(soup)} \\n')\n",
    "    text = get_full_text(soup)\n",
    "    print('\\nFull text: \\n')\n",
    "    if text is None:\n",
    "        print(f'Publication:\\n{get_title(soup)}')\n",
    "        print('>> No full text available, the WWU probably does not own a license for this publication')\n",
    "        print('-------- \\n')\n",
    "        continue\n",
    "    for chapter in text:\n",
    "        chapter_name = chapter['chapter_name']\n",
    "        chapter_text = chapter['chapter_text']\n",
    "        print(f'Kapitel: {chapter_name} \\n')\n",
    "        print(chapter_text)\n",
    "        print('\\n')\n",
    "    print('-------- \\n')"
   ],
   "metadata": {
    "collapsed": false,
    "pycharm": {
     "name": "#%%\n"
    }
   }
  },
  {
   "cell_type": "markdown",
   "source": [
    "## Journal fields\n",
    "### Journal name"
   ],
   "metadata": {
    "collapsed": false,
    "pycharm": {
     "name": "#%% md\n"
    }
   }
  },
  {
   "cell_type": "code",
   "execution_count": 310,
   "outputs": [],
   "source": [
    "def get_journal_name(bs):\n",
    "    \"\"\"\n",
    "    Get the journal name where the paper has been published\n",
    "    :param bs: Received bs of the publication\n",
    "    :return: String\n",
    "    \"\"\"\n",
    "    # Some Journals have their name as text and logo, other have their name as text only and a dedicated logo\n",
    "    # We have to differentiate between both cases\n",
    "    journal_bar = bs.find('div', {'id': 'publication'})\n",
    "    if journal_bar.attrs['class'] == ['Publication', 'wordmark-layout']:\n",
    "        journal_name = journal_bar.find('h2', class_=lambda c: 'publication-title-link' in c).text.strip()\n",
    "    else:\n",
    "        journal_name = journal_bar.find('a', class_='publication-title-link').text.strip()\n",
    "    return journal_name"
   ],
   "metadata": {
    "collapsed": false,
    "pycharm": {
     "name": "#%%\n"
    }
   }
  },
  {
   "cell_type": "code",
   "execution_count": 317,
   "outputs": [
    {
     "name": "stdout",
     "output_type": "stream",
     "text": [
      "Energy Economics\n",
      "Chem\n",
      "Journal of Visual Communication and Image Representation\n",
      "Information Systems\n"
     ]
    }
   ],
   "source": [
    "check = ['Energy Economics', 'Chem', 'Journal of Visual Communication and Image Representation', 'Information Systems']\n",
    "\n",
    "for soup, check in zip(elsevier_soups, check):\n",
    "    print(get_journal_name(soup))\n",
    "    assert get_journal_name(soup) == check"
   ],
   "metadata": {
    "collapsed": false,
    "pycharm": {
     "name": "#%%\n"
    }
   }
  },
  {
   "cell_type": "markdown",
   "source": [
    "### Journal information (Volume, Publication Month/Year, Pages)\n",
    "#### volume\n",
    "#### Publication date\n",
    "#### start end page"
   ],
   "metadata": {
    "collapsed": false,
    "pycharm": {
     "name": "#%% md\n"
    }
   }
  },
  {
   "cell_type": "code",
   "execution_count": 441,
   "outputs": [],
   "source": [
    "# Information are parsed from an an unstructured div-element and thus extracted in the same method\n",
    "def get_journal_information(bs):\n",
    "    \"\"\"\n",
    "    Returns the journal information of a publication\n",
    "    :param bs: bs4 object\n",
    "    :return: Dictionary with journal information: Volume, Release, Start page, End page\n",
    "    \"\"\"\n",
    "    try:\n",
    "        journal_info = bs.find('div', {'class': 'Publication', 'id': 'publication'}).find('div',\n",
    "                                                                                          class_='text-xs')\n",
    "        # dummy comment to identify type\n",
    "        comment_markup = \"<b><!--I am an comment--></b>\"\n",
    "        _x = BeautifulSoup(comment_markup, \"html.parser\")\n",
    "        _comment = _x.b.string\n",
    "\n",
    "        counter = 0  # count HTML comments\n",
    "        result = ['Volume', 'Year', 'PageRange']  # create list of results\n",
    "        # iterate over sub-content of textbox\n",
    "        for x in journal_info.contents:\n",
    "            if x.text.strip() == ',':  # skip when comma is found\n",
    "                continue\n",
    "            # increment counter if comment is found\n",
    "            if isinstance(x, type(_comment)):\n",
    "                counter += 1\n",
    "                continue\n",
    "            # add text to result list if no special case  (comment, comma\n",
    "            result[counter] = x.text.strip()\n",
    "\n",
    "        # clean page range\n",
    "        result[2] = result[2].removeprefix(', Pages ')\n",
    "        volume, release, page_range = result\n",
    "        # Split by hyphen to get start and end_page\n",
    "        start_page = page_range.split('-')[0]\n",
    "        end_page = page_range.split('-')[1]\n",
    "\n",
    "        return {\n",
    "            'volume': volume, 'release': release, 'start_page': start_page, 'end_page': end_page\n",
    "        }\n",
    "    except:\n",
    "        return None\n",
    "\n",
    "\n",
    "def get_volume(bs):\n",
    "    \"\"\"\n",
    "    Returns the information about the volume of a jourmal in which the publication has been published\n",
    "    :param bs: bs4 object\n",
    "    :return: String\n",
    "    \"\"\"\n",
    "    try:\n",
    "        return get_journal_information(bs)['volume']\n",
    "    except:\n",
    "        return None\n",
    "\n",
    "\n",
    "def get_release(bs):\n",
    "    \"\"\"\n",
    "    Returns the information about the release of a jourmal in which the publication has been published\n",
    "    :param bs: bs4 object\n",
    "    :return: String\n",
    "    \"\"\"\n",
    "    try:\n",
    "        return get_journal_information(bs)['release']\n",
    "    except:\n",
    "        return None\n",
    "\n",
    "\n",
    "def get_start_page(bs):\n",
    "    \"\"\"\n",
    "    Returns the start page of a publication in a journal\n",
    "    :param bs: bs4 object\n",
    "    :return: String\n",
    "    \"\"\"\n",
    "    try:\n",
    "        return get_journal_information(bs)['start_page']\n",
    "    except:\n",
    "        return None\n",
    "\n",
    "\n",
    "def get_end_page(bs):\n",
    "    \"\"\"\n",
    "    Returns the end page of a publication in a journal\n",
    "    :param bs: bs4 object\n",
    "    :return: String\n",
    "    \"\"\"\n",
    "    try:\n",
    "        return get_journal_information(bs)['end_page']\n",
    "    except:\n",
    "        return None"
   ],
   "metadata": {
    "collapsed": false,
    "pycharm": {
     "name": "#%%\n"
    }
   }
  },
  {
   "cell_type": "code",
   "execution_count": 446,
   "outputs": [
    {
     "name": "stdout",
     "output_type": "stream",
     "text": [
      "Peeling the onion: Analyzing aggregate, national and sectoral energy intensity in the European Union\n",
      "{'volume': 'Volume 52, Supplement 1', 'release': 'December 2015', 'start_page': 'S63', 'end_page': 'S75'}\n",
      "Volume: Volume 52, Supplement 1\n",
      "Release: December 2015\n",
      "Start page: S63\n",
      "End page: S75\n",
      "-------- \n",
      "\n",
      "A Structure-Based Platform for Predicting Chemical Reactivity\n",
      "{'volume': 'Volume 6, Issue 6', 'release': '11 June 2020', 'start_page': '1379', 'end_page': '1390'}\n",
      "Volume: Volume 6, Issue 6\n",
      "Release: 11 June 2020\n",
      "Start page: 1379\n",
      "End page: 1390\n",
      "-------- \n",
      "\n",
      "Artistic movement recognition by consensus of boosted SVM based experts\n",
      "{'volume': 'Volume 56', 'release': 'October 2018', 'start_page': '220', 'end_page': '233'}\n",
      "Volume: Volume 56\n",
      "Release: October 2018\n",
      "Start page: 220\n",
      "End page: 233\n",
      "-------- \n",
      "\n",
      "Semi-automatic inductive construction of reference process models that represent best practices in public administrations: A method\n",
      "{'volume': 'Volume 84', 'release': 'September 2019', 'start_page': '63', 'end_page': '87'}\n",
      "Volume: Volume 84\n",
      "Release: September 2019\n",
      "Start page: 63\n",
      "End page: 87\n",
      "-------- \n",
      "\n"
     ]
    }
   ],
   "source": [
    "# Small test\n",
    "for soup in elsevier_soups:\n",
    "    print(get_title(soup))\n",
    "    print(get_journal_information(soup))\n",
    "    print(f'Volume: {get_volume(soup)}')\n",
    "    print(f'Release: {get_release(soup)}')\n",
    "    print(f'Start page: {get_start_page(soup)}')\n",
    "    print(f'End page: {get_end_page(soup)}')\n",
    "    print('-------- \\n')"
   ],
   "metadata": {
    "collapsed": false,
    "pycharm": {
     "name": "#%%\n"
    }
   }
  },
  {
   "cell_type": "markdown",
   "source": [
    "## Speciel sciencedirect fields\n",
    "### Author highlights"
   ],
   "metadata": {
    "collapsed": false,
    "pycharm": {
     "name": "#%% md\n"
    }
   }
  },
  {
   "cell_type": "code",
   "execution_count": 43,
   "outputs": [],
   "source": [
    "def get_author_highlights(bs):\n",
    "    \"\"\"\n",
    "    Returns the author highlights of a publication in bullet points\n",
    "    :param bs: bs4 object\n",
    "    :return: [String] containing bulletpoints\n",
    "    \"\"\"\n",
    "    try:\n",
    "        highlight_box = bs.find('div', class_='abstract author-highlights')\n",
    "        bullet_points = [x.text.strip() for x in highlight_box.find_all('dd', class_='list-description')]\n",
    "        return bullet_points\n",
    "    except:\n",
    "        return None"
   ],
   "metadata": {
    "collapsed": false,
    "pycharm": {
     "name": "#%%\n"
    }
   }
  },
  {
   "cell_type": "code",
   "execution_count": 44,
   "outputs": [
    {
     "name": "stdout",
     "output_type": "stream",
     "text": [
      "Peeling the onion: Analyzing aggregate, national and sectoral energy intensity in the European Union\n",
      "A Structure-Based Platform for Predicting Chemical Reactivity\n",
      " > Quantitative modeling of reaction outcomes via machine learning\n",
      " > Prediction of properties, yields, stereoselectivities, and relative conversion\n",
      " > Multiple fingerprint features as a versatile and robust molecular representation\n",
      " > Readily applicable machine learning tool, directly starting from molecular structures\n",
      "-------- \n",
      "\n",
      "Artistic movement recognition by consensus of boosted SVM based experts\n",
      " > We introduce a system for automatic art movement recognition of a digitized painting.\n",
      " > To describe images we combine Color Structure Descriptor and Multi-Scale Topography.\n",
      " > Boosted ensemble of SVMs regularized with random feature category does classification.\n",
      " > We introduce a new collection of digitized paintings to ease evaluation.\n",
      " > The accuracy compares favorably with classical and deep learning.\n",
      "-------- \n",
      "\n",
      "Semi-automatic inductive construction of reference process models that represent best practices in public administrations: A method\n",
      " > Inductive reference modeling (IRM) is regarded supportive for process management.\n",
      " > Current IRM methods consider common practices in reference models only.\n",
      " > We build the first IRM method that also allows to detect and include best practices.\n",
      " > We conceptualize the method and demonstrate its functionality using an example.\n",
      " > We implement the method and provide a workshop-based evaluation.\n",
      "-------- \n",
      "\n"
     ]
    }
   ],
   "source": [
    "for soup in elsevier_soups:\n",
    "    print(get_title(soup))\n",
    "    if get_author_highlights(soup) is not None:\n",
    "        for x in get_author_highlights(soup):\n",
    "            print(f' > {x}')\n",
    "        print('-------- \\n')"
   ],
   "metadata": {
    "collapsed": false,
    "pycharm": {
     "name": "#%%\n"
    }
   }
  },
  {
   "cell_type": "markdown",
   "source": [
    "### Editor highlights"
   ],
   "metadata": {
    "collapsed": false,
    "pycharm": {
     "name": "#%% md\n"
    }
   }
  },
  {
   "cell_type": "code",
   "execution_count": 478,
   "outputs": [],
   "source": [
    "def get_editor_highlights(bs):\n",
    "    \"\"\"\n",
    "    Returns the editor highlights of a publication in bullet points\n",
    "    :param bs: bs4 object\n",
    "    :return: String\n",
    "    \"\"\"\n",
    "    try:\n",
    "        highlight_box = bs.find('div', class_='abstract editor-highlights')\n",
    "        title = ''\n",
    "        text = ''\n",
    "        try:\n",
    "            title = highlight_box.h2.text.strip()\n",
    "        except:\n",
    "            pass\n",
    "        try:\n",
    "            text = highlight_box.find('p').text.strip()\n",
    "        except:\n",
    "            return None\n",
    "        if title == '':\n",
    "            return text\n",
    "        else:\n",
    "            return f'{title}: {text}'\n",
    "    except:\n",
    "        return None"
   ],
   "metadata": {
    "collapsed": false,
    "pycharm": {
     "name": "#%%\n"
    }
   }
  },
  {
   "cell_type": "code",
   "execution_count": 495,
   "outputs": [
    {
     "name": "stdout",
     "output_type": "stream",
     "text": [
      "Peeling the onion: Analyzing aggregate, national and sectoral energy intensity in the European Union\n",
      "> None\n",
      "-------- \n",
      "\n",
      "A Structure-Based Platform for Predicting Chemical Reactivity\n",
      "> The Bigger Picture: Statistical data-based prediction models have found widespread application in nearly all areas of science, including chemistry. In this context, the prediction of molecular properties or biological activities for a target molecule (quantitative structure-property relationships [QSPRs]) has been widely investigated, with great focus on developing new and general molecular representations. However, the underlying fundamentals have not been transferred to the prediction of chemical reactivity. In contrast, although recent progress in high-throughput data generation has enabled the generation of uniform reaction-based datasets, current prediction models suggest that complex parameterization is required for each individual case to achieve good results. Applying universal (structure-based) molecular representations to the prediction of chemical reactivity could provide a readily applicable model, which could potentially decrease the barriers to apply machine learning techniques in organic synthesis.\n",
      "-------- \n",
      "\n",
      "Artistic movement recognition by consensus of boosted SVM based experts\n",
      "> None\n",
      "-------- \n",
      "\n",
      "Semi-automatic inductive construction of reference process models that represent best practices in public administrations: A method\n",
      "> None\n",
      "-------- \n",
      "\n"
     ]
    }
   ],
   "source": [
    "for soup in elsevier_soups:\n",
    "    print(get_title(soup))\n",
    "    print(f'> {get_editor_highlights(soup)}')\n",
    "    print('-------- \\n')"
   ],
   "metadata": {
    "collapsed": false,
    "pycharm": {
     "name": "#%%\n"
    }
   }
  },
  {
   "cell_type": "markdown",
   "source": [],
   "metadata": {
    "collapsed": false,
    "pycharm": {
     "name": "#%% md\n"
    }
   }
  },
  {
   "cell_type": "markdown",
   "source": [
    "### References"
   ],
   "metadata": {
    "collapsed": false,
    "pycharm": {
     "name": "#%% md\n"
    }
   }
  },
  {
   "cell_type": "code",
   "execution_count": 773,
   "outputs": [],
   "source": [
    "def __check_references_available(bs):\n",
    "    \"\"\"\n",
    "    Check if test is available for a publication\n",
    "    :param bs: Received bs of the publication (HTML must be accessed with Selenium or Helium, does not work otherwise)\n",
    "    :return: Boolean\n",
    "    \"\"\"\n",
    "    try:\n",
    "        body = bs.find('dl', class_='references')\n",
    "    except:\n",
    "        pass\n",
    "    if body is not None:\n",
    "        return True\n",
    "    else:\n",
    "        return False\n",
    "\n",
    "\n",
    "def get_references(bs):\n",
    "    \"\"\"\n",
    "    Returns a list of references and their links, if available. \\n\n",
    "    Basic extraction of meta data, though not the focus since we can scrape in detail with doi numbers.\n",
    "    :param bs: bs4 object\n",
    "    :return:\n",
    "    \"\"\"\n",
    "\n",
    "    if not __check_references_available(bs):\n",
    "        return None\n",
    "    try:\n",
    "        references_result = []\n",
    "        ref_list = bs.find('dl', {'class': 'references', 'id': re.compile(r'reference-links-.*')})\n",
    "        found_references = ref_list.find_all('dd', class_='reference')\n",
    "        for ref in found_references:\n",
    "\n",
    "            authors = None\n",
    "            title = None\n",
    "            source = None\n",
    "            article_link = None\n",
    "            doi_link = None\n",
    "            google_scholar_link = None\n",
    "\n",
    "            try:\n",
    "                authors = ref.find('div', class_='contribution').contents[0].strip().split(',')\n",
    "            except:\n",
    "                pass\n",
    "            try:\n",
    "                title = ref.find('div', class_='contribution').contents[1].text.strip()\n",
    "            except:\n",
    "                pass\n",
    "            try:\n",
    "                source = ref.find('div', class_='host').text.strip()\n",
    "            except:\n",
    "                pass\n",
    "\n",
    "            link_box = ref.find('div', class_='ReferenceLinks u-font-sans')\n",
    "\n",
    "            try:\n",
    "                article_link = link_box.find('a', text='Article').get('href')\n",
    "                if 'http' not in article_link:\n",
    "                    article_link = 'https://www.sciencedirect.com' + article_link\n",
    "            except:\n",
    "                pass\n",
    "            try:\n",
    "                doi_link = link_box.find('a', text='CrossRef').get('href')\n",
    "            except:\n",
    "                pass\n",
    "            try:\n",
    "                google_scholar_link = link_box.find('a', text='Google Scholar').get('href')\n",
    "            except:\n",
    "                pass\n",
    "\n",
    "            references_result.append({\n",
    "                'authors': authors,\n",
    "                'title': title,\n",
    "                'source': source,\n",
    "                'article_link': article_link,\n",
    "                'doi_link': doi_link,\n",
    "                'google_scholar_link': google_scholar_link\n",
    "            })\n",
    "        return references_result\n",
    "\n",
    "    except:\n",
    "        print(\"Error in get_references\")\n",
    "        return None\n"
   ],
   "metadata": {
    "collapsed": false,
    "pycharm": {
     "name": "#%%\n"
    }
   }
  },
  {
   "cell_type": "code",
   "execution_count": 817,
   "outputs": [
    {
     "name": "stdout",
     "output_type": "stream",
     "text": [
      "###########################################################################\n",
      "Publikation: Peeling the onion: Analyzing aggregate, national and sectoral energy intensity in the European Union\n",
      "Referenzen: \n",
      "\n",
      "Quelle 0 : Trade and productivity, ['F. Alcalá', ' A. Ciccone'], Q. J. Econ., 119 (2) (2004), pp. 613-646\n",
      " > Article link: None\n",
      " > DOI link: None\n",
      "Quelle 1 : Comparison of energy intensities in European Union countries. Results of a structural decomposition analysis, ['V. Alcantara', ' R. Duarte'], Energy Policy, 32 (2004), pp. 177-189\n",
      " > Article link: https://www.sciencedirect.com/science/article/pii/S030142150200263X\n",
      " > DOI link: None\n",
      "Quelle 2 : Decomposition of industrial energy consumption, ['B.W. Ang'], Energy Econ., 16 (1994), pp. 163-174\n",
      " > Article link: https://www.sciencedirect.com/science/article/pii/0140988394900302\n",
      " > DOI link: None\n",
      "Quelle 3 : Decomposition of aggregate energy and gas emission intensities for industry: a refined Divisia index method, ['B.W. Ang', ' K.H. Choi'], Energy J., 18 (1997), pp. 59-73\n",
      " > Article link: None\n",
      " > DOI link: None\n",
      "Quelle 4 : Decomposition analysis for policymaking in energy: which is the preferred method?, ['B.W. Ang'], Energy Econ., 32 (2004), pp. 1131-1139\n",
      " > Article link: https://www.sciencedirect.com/science/article/pii/S0301421503000764\n",
      " > DOI link: None\n",
      "Quelle 5 : Energy decomposition analysis: IEA model versus other methods, ['B.W. Ang', ' N. Liu'], Energy Policy, 35 (2007), pp. 1426-1432\n",
      " > Article link: https://www.sciencedirect.com/science/article/pii/S030142150600190X\n",
      " > DOI link: None\n",
      "Quelle 6 : Accounting frameworks for tracking energy efficiency trends, ['B.W. Ang', ' A.R. Mu', ' P. Zhou'], Energy Econ., 32 (2010), pp. 1209-1219\n",
      " > Article link: https://www.sciencedirect.com/science/article/pii/S0140988310000563\n",
      " > DOI link: None\n",
      "Quelle 7 : Is free trade good for the environment?, ['W. Antweiler', ' B.R. Copeland', ' M.S. Taylor'], Am. Econ. Rev., 91 (4) (2001), pp. 877-908\n",
      " > Article link: None\n",
      " > DOI link: https://doi.org/10.1257/aer.91.4.877\n",
      "Quelle 8 : A new data set of educational attainment in the world, ['R. Barro', ' J.-W. Lee'], NBER Working Paper, 15902 (2010), pp. 1950-2010\n",
      " > Article link: None\n",
      " > DOI link: None\n",
      "Quelle 9 : Separating the changing composition of U.S. manufacturing production from energy efficiency improvements: a Divisia index approach, ['G. Boyd', ' J.F. McDonald', ' M. Ross', ' D.A. Hansont'], Energy J., 8 (2010), pp. 77-96\n",
      " > Article link: None\n",
      " > DOI link: None\n",
      "Quelle 10 : Chapter 9: accounting for cross-country income differences, ['Francesco Caselli'], Handb. Econ. Growth, 1 (1) (2005), pp. 679-741\n",
      " > Article link: https://www.sciencedirect.com/science/article/pii/S1574068405010099\n",
      " > DOI link: None\n",
      "Quelle 11 : Attribution of changes in Divisa real energy intensity index — an extension to index decomposition analysis, ['K.-H. Choi', ' B.W. Ang'], Energy Econ., 34 (2012), pp. 171-176\n",
      " > Article link: https://www.sciencedirect.com/science/article/pii/S0140988311001022\n",
      " > DOI link: None\n",
      "Quelle 12 : Determining the trade-environment composition effect: the role of capital, labor and environmental regulations, ['Mathhew A. Cole', ' Robert J.R. Elliott'], J. Environ. Econ. Manag., 46 (3) (2003), pp. 363-383\n",
      " > Article link: https://www.sciencedirect.com/science/article/pii/S0095069603000214\n",
      " > DOI link: None\n",
      "Quelle 13 : Does trade liberalization increase national energy use?, ['Matthew A. Cole'], Econ. Lett., 92 (1) (2006), pp. 108-112\n",
      " > Article link: https://www.sciencedirect.com/science/article/pii/S0165176506000322\n",
      " > DOI link: None\n",
      "Quelle 14 : Trade, growth, and the environment, ['Brian R. Copeland', ' M.S. Taylor'], J. Econ. Lit., 42 (1) (2004), pp. 7-71\n",
      " > Article link: None\n",
      " > DOI link: None\n",
      "Quelle 15 : The energy intensity of transition countries, ['J. Cornillie', ' S. Fankhauser'], Energy Econ., 26 (2004), pp. 283-295\n",
      " > Article link: https://www.sciencedirect.com/science/article/pii/S0140988304000234\n",
      " > DOI link: None\n",
      "Quelle 16 : The construction of world input-output tables in the WIOD project, ['E. Dietzenbacher', ' B. Los', ' R. Stehrer', ' M. Timmer', ' G. de Vries'], Econ. Syst. Res., 25 (1) (2013), pp. 71-98\n",
      " > Article link: None\n",
      " > DOI link: https://doi.org/10.1080/09535314.2012.761180\n",
      "Quelle 17 : Index numbers, ['E.W. Diewert'], Essays in Index Number Theory, vol. 1 (1993), pp. 71-109\n",
      " > Article link: None\n",
      " > DOI link: None\n",
      "Quelle 18 : What is driving China's decline in energy intensity?, ['K. Fisher-Vanden', ' G.H. Jefferson', ' H. Liu', ' Q. Tao'], Resour. Energy Econ., 26 (2004), pp. 77-97\n",
      " > Article link: https://www.sciencedirect.com/science/article/pii/S0928765503000502\n",
      " > DOI link: None\n",
      "Quelle 19 : Is trade good or bad for the environment? Sorting out the causality, ['J.A. Frankel', ' A.K. Rose'], Rev. Econ. Stat., 87 (1) (2005), pp. 85-91\n",
      " > Article link: None\n",
      " > DOI link: https://doi.org/10.1162/0034653053327577\n",
      "Quelle 20 : Environmental impacts of a North American free trade agreement, ['G.M. Grossman', ' A.B. Krueger'], NBER Working Paper Series, Working Paper, 3914 (1991)\n",
      " > Article link: None\n",
      " > DOI link: None\n",
      "Quelle 21 : The electricity consumption versus economic growth of the Polish economy, ['H. Gurgul', ' L. Lach'], Energy Econ., 34 (2) (2012), pp. 500-510\n",
      " > Article link: https://www.sciencedirect.com/science/article/pii/S0140988311002672\n",
      " > DOI link: None\n",
      "Quelle 22 : Why do some countries produce so much more output per worker than others?, ['R.E. Hall', ' C.I. Jones'], Q. J. Econ., 114 (1) (1999), pp. 83-116\n",
      " > Article link: None\n",
      " > DOI link: None\n",
      "Quelle 23 : Penn World Tables Version 7.0, ['A. Heston', ' R. Summers', ' B. Aten'], Center for International Comparisons of Production, Income and Prices at the University of Pennsylvania (2011)\n",
      " > Article link: None\n",
      " > DOI link: None\n",
      "Quelle 24 : Structural change and U.S. energy use: recent patterns, ['H.G. Huntington'], Energy J., 31 (2010), pp. 25-39\n",
      " > Article link: None\n",
      " > DOI link: None\n",
      "Quelle 25 : Development accounting, ['C.-T. Hsieh', ' P.J. Klenow'], Am. Econ. J. Macroecon., 2 (1) (2010), pp. 207-223\n",
      " > Article link: None\n",
      " > DOI link: https://doi.org/10.1257/mac.2.1.207\n",
      "Quelle 26 : Policies and Measures Databases, ['International Energy Agency'], http://www.iea.org/textbase/pm/index.html (2012)\n",
      " > Article link: None\n",
      " > DOI link: None\n",
      "Quelle 27 : International comparison of industrial CO2 emission trends and the energy efficiency paradox utilizing production-based decomposition, ['K. Kim', ' Y. Kim'], Energy Econ., 34 (5) (2012), pp. 1724-1741\n",
      " > Article link: https://www.sciencedirect.com/science/article/pii/S0140988312000370\n",
      " > DOI link: None\n",
      "Quelle 28 : Technology, international trade, and pollution from US manufacturing, ['A. Levinson'], Am. Econ. Rev., 87 (1) (2009), pp. 85-91\n",
      " > Article link: None\n",
      " > DOI link: None\n",
      "Quelle 29 : Energy efficiency: economics and policy, ['P. Linares', ' X. Labandeira'], Energy J. Econ. Surv., 24 (3) (2010), pp. 573-592\n",
      " > Article link: None\n",
      " > DOI link: None\n",
      "Quelle 30 : Trade and the Environment: An Application of the WIOD Database, ['A. Löschel', ' S. Rexhäuser', ' M. Schymura'], China Popul. Resour. Environ., 11 (2013), pp. 51-61\n",
      " > Article link: None\n",
      " > DOI link: https://doi.org/10.1080/10042857.2013.777213\n",
      "Quelle 31 : China's changing energy intensity trend: a decomposition analysis, ['C. Ma', ' D.I. Stern'], Energy Econ., 30 (3) (2008), pp. 1037-1053\n",
      " > Article link: https://www.sciencedirect.com/science/article/pii/S0140988307000758\n",
      " > DOI link: None\n",
      "Quelle 32 : Does trade openness improve environmental quality?, ['S. Managi', ' A. Hibiki', ' T. Tsurumi'], J. Environ. Econ. Manag., 58 (3) (2009), pp. 346-363\n",
      " > Article link: https://www.sciencedirect.com/science/article/pii/S0095069609000497\n",
      " > DOI link: None\n",
      "Quelle 33 : An empirical analysis of energy intensity and its determinants at the state level, ['G.E. Metcalf'], Energy J., 29 (3) (2008), pp. 1-25\n",
      " > Article link: None\n",
      " > DOI link: None\n",
      "Quelle 34 : Structural change and convergence of energy intensity across OECD countries, 1970–2005, ['P. Mulder', ' H.L.F. De Groot'], Energy Econ., 34 (6) (2012), pp. 1910-1921\n",
      " > Article link: https://www.sciencedirect.com/science/article/pii/S0140988312001673\n",
      " > DOI link: None\n",
      "Quelle 35 : Returns to investment in education: a further update, ['G. Psacharopoulos', ' H.A. Patrinos'], Educ. Econ., 12 (2) (2004), pp. 111-134\n",
      " > Article link: None\n",
      " > DOI link: None\n",
      "Quelle 36 : Bigger Cakes with Fewer Ingredients? A Comparison of Material Use of the World Economy, ['F. Pothen', ' M. Schymura'], Ecol. Econ., 109 (2015), pp. 109-121\n",
      " > Article link: https://www.sciencedirect.com/science/article/pii/S092180091400319X\n",
      " > DOI link: None\n",
      "Quelle 37 : Estimating energy-augmenting technological change in developing country industries, ['A.H. Sanstad', ' J. Roy', ' J.A. Sathaye'], Energy Econ., 28 (2006), pp. 720-729\n",
      " > Article link: https://www.sciencedirect.com/science/article/pii/S0140988306000934\n",
      " > DOI link: None\n",
      "Quelle 38 : Structural decomposition analysis applied to energy and emissions: some methodological developments, ['B. Su', ' B.W. Ang'], Energy Econ., 34 (2012), pp. 177-188\n",
      " > Article link: https://www.sciencedirect.com/science/article/pii/S0140988311002374\n",
      " > DOI link: None\n",
      "Quelle 39 : Explaining the declining energy intensity of the U.S., ['I. Sue Wing'], Resour. Energy Econ., 30 (2008), pp. 21-49\n",
      " > Article link: https://www.sciencedirect.com/science/article/pii/S0928765507000164\n",
      " > DOI link: None\n",
      "Quelle 40 : What determines productivity?, ['C. Syverson'], J. Econ. Lit., 49 (2) (2011), pp. 326-365\n",
      " > Article link: None\n",
      " > DOI link: https://doi.org/10.1257/jel.49.2.326\n",
      "Quelle 41 : The World Input-Output Database (WIOD): contents, sources and methods, ['Marcel Timmer'], WIOD Working Paper, 10 (2012)\n",
      " > Article link: None\n",
      " > DOI link: None\n",
      "Quelle 42 : Energy intensity developments in 40 major economies: structural change or technology improvement?, ['S. Voigt', ' E. De Cian', ' M. Schymura', ' E. Verdolini'], Energy Econ., 41 (2014), pp. 47-62\n",
      " > Article link: https://www.sciencedirect.com/science/article/pii/S0140988313002405\n",
      " > DOI link: None\n",
      "Quelle 43 : How will energy demand develop in the developing world?, ['C. Wolfram', ' O. Shelef', ' P. Gertler'], J. Econ. Perspect., 26 (1) (2012), pp. 119-138\n",
      " > Article link: None\n",
      " > DOI link: https://doi.org/10.1257/jep.26.1.119\n",
      "Quelle 44 : Energy intensity and its determinants in China's regional economies, ['Y. Wu'], Energy Policy, 41 (2012), pp. 703-711\n",
      " > Article link: https://www.sciencedirect.com/science/article/pii/S0301421511009116\n",
      " > DOI link: None\n",
      "Quelle 45 : Why did the energy intensity fall in China's industry sector in the 1990s? The relative importance of structural change and intensity change, ['Z. Zhang'], Energy Econ., 25 (2003), pp. 625-638\n",
      " > Article link: https://www.sciencedirect.com/science/article/pii/S0140988303000422\n",
      " > DOI link: None\n",
      "\n",
      " \n",
      " \n",
      "\n",
      "###########################################################################\n",
      "Publikation: A Structure-Based Platform for Predicting Chemical Reactivity\n",
      "Referenzen: \n",
      "\n",
      "Quelle 0 : The digitization of organic synthesis, ['I.W. Davies'], Nature, 570 (2019), pp. 175-181\n",
      " > Article link: None\n",
      " > DOI link: https://doi.org/10.1038/s41586-019-1288-y\n",
      "Quelle 1 : The art of total synthesis, ['I.E. Markó'], Science, 294 (2001), pp. 1842-1843\n",
      " > Article link: None\n",
      " > DOI link: None\n",
      "Quelle 2 : Synthesis at the molecular frontier, ['P.A. Wender', ' B.L. Miller'], Nature, 460 (2009), pp. 197-201\n",
      " > Article link: None\n",
      " > DOI link: https://doi.org/10.1038/460197a\n",
      "Quelle 3 : The development of multidimensional analysis tools for asymmetric catalysis and beyond, ['M.S. Sigman', ' K.C. Harper', ' E.N. Bess', ' A. Milo'], Acc. Chem. Res., 49 (2016), pp. 1292-1301\n",
      " > Article link: None\n",
      " > DOI link: https://doi.org/10.1021/acs.accounts.6b00194\n",
      "Quelle 4 : A systematic investigation of quaternary ammonium ions as asymmetric phase-transfer catalysts. Application of quantitative structure activity/selectivity relationships, ['S.E. Denmark', ' N.D. Gould', ' L.M. Wolf'], J. Org. Chem., 76 (2011), pp. 4337-4357\n",
      " > Article link: None\n",
      " > DOI link: https://doi.org/10.1021/jo2005457\n",
      "Quelle 5 : Predictive and mechanistic multivariate linear regression models for reaction development, ['C.B. Santiago', ' J.Y. Guo', ' M.S. Sigman'], Chem. Sci., 9 (2018), pp. 2398-2412\n",
      " > Article link: None\n",
      " > DOI link: None\n",
      "Quelle 6 : Interrogating selectivity in catalysis using molecular vibrations, ['A. Milo', ' E.N. Bess', ' M.S. Sigman'], Nature, 507 (2014), pp. 210-214\n",
      " > Article link: None\n",
      " > DOI link: https://doi.org/10.1038/nature13019\n",
      "Quelle 7 : Three-dimensional correlation of steric and electronic free energy relationships guides asymmetric propargylation, ['K.C. Harper', ' M.S. Sigman'], Science, 333 (2011), pp. 1875-1878\n",
      " > Article link: None\n",
      " > DOI link: https://doi.org/10.1126/science.1206997\n",
      "Quelle 8 : A data-intensive approach to mechanistic elucidation applied to chiral anion catalysis, ['A. Milo', ' A.J. Neel', ' F.D. Toste', ' M.S. Sigman'], Science, 347 (2015), pp. 737-743\n",
      " > Article link: None\n",
      " > DOI link: https://doi.org/10.1126/science.1261043\n",
      "Quelle 9 : Designer substrate library for quantitative, predictive modeling of reaction performance, ['E.N. Bess', ' A.J. Bischoff', ' M.S. Sigman'], Proc. Natl. Acad. Sci. USA, 111 (2014), pp. 14698-14703\n",
      " > Article link: None\n",
      " > DOI link: https://doi.org/10.1073/pnas.1409522111\n",
      "Quelle 10 : Machine learning: trends, perspectives, and prospects, ['M.I. Jordan', ' T.M. Mitchell'], Science, 349 (2015), pp. 255-260\n",
      " > Article link: None\n",
      " > DOI link: https://doi.org/10.1126/science.aaa8415\n",
      "Quelle 11 : Machine-learning approaches in drug discovery: methods and applications, ['A. Lavecchia'], Drug Discov. Today, 20 (2015), pp. 318-331\n",
      " > Article link: https://www.sciencedirect.com/science/article/pii/S1359644614004176\n",
      " > DOI link: None\n",
      "Quelle 12 : The rise of deep learning in drug discovery, ['H. Chen', ' O. Engkvist', ' Y. Wang', ' M. Olivecrona', ' T. Blaschke'], Drug Discov. Today, 23 (2018), pp. 1241-1250\n",
      " > Article link: https://www.sciencedirect.com/science/article/pii/S1359644617303598\n",
      " > DOI link: None\n",
      "Quelle 13 : Machine learning in computer-aided synthesis planning, ['C.W. Coley', ' W.H. Green', ' K.F. Jensen'], Acc. Chem. Res., 51 (2018), pp. 1281-1289\n",
      " > Article link: None\n",
      " > DOI link: https://doi.org/10.1021/acs.accounts.8b00087\n",
      "Quelle 14 : Planning chemical syntheses with deep neural networks and symbolic AI, ['M.H.S. Segler', ' M. Preuss', ' M.P. Waller'], Nature, 555 (2018), pp. 604-610\n",
      " > Article link: None\n",
      " > DOI link: https://doi.org/10.1038/nature25978\n",
      "Quelle 15 : Retrosynthetic reaction prediction using neural sequence-to-sequence models, ['B. Liu', ' B. Ramsundar', ' P. Kawthekar', ' J. Shi', ' J. Gomes', ' Q. Luu Nguyen', ' S. Ho', ' J. Sloane', ' P. Wender', ' V. Pande'], ACS Cent. Sci., 3 (2017), pp. 1103-1113\n",
      " > Article link: None\n",
      " > DOI link: https://doi.org/10.1021/acscentsci.7b00303\n",
      "Quelle 16 : Learning to predict chemical reactions, ['M.A. Kayala', ' C.A. Azencott', ' J.H. Chen', ' P. Baldi'], J. Chem. Inf. Model., 51 (2011), pp. 2209-2222\n",
      " > Article link: None\n",
      " > DOI link: https://doi.org/10.1021/ci200207y\n",
      "Quelle 17 : Neural networks for the prediction of organic chemistry reactions, ['J.N. Wei', ' D. Duvenaud', ' A. Aspuru-Guzik'], ACS Cent. Sci., 2 (2016), pp. 725-732\n",
      " > Article link: None\n",
      " > DOI link: https://doi.org/10.1021/acscentsci.6b00219\n",
      "Quelle 18 : Prediction of organic reaction outcomes using machine learning, ['C.W. Coley', ' R. Barzilay', ' T.S. Jaakkola', ' W.H. Green', ' K.F. Jensen'], ACS Cent. Sci., 3 (2017), pp. 434-443\n",
      " > Article link: None\n",
      " > DOI link: https://doi.org/10.1021/acscentsci.7b00064\n",
      "Quelle 19 : A graph-convolutional neural network model for the prediction of chemical reactivity, ['C.W. Coley', ' W. Jin', ' L. Rogers', ' T.F. Jamison', ' T.S. Jaakkola', ' W.H. Green', ' R. Barzilay', ' K.F. Jensen'], Chem. Sci., 10 (2019), pp. 370-377\n",
      " > Article link: None\n",
      " > DOI link: https://doi.org/10.1039/c8sc04228d\n",
      "Quelle 20 : Automatic chemical design using a data-driven continuous representation of molecules, ['R. Gómez-Bombarelli', ' J.N. Wei', ' D. Duvenaud', ' J.M. Hernández-Lobato', ' B. Sánchez-Lengeling', ' D. Sheberla', ' J. Aguilera-Iparraguirre', ' T.D. Hirzel', ' R.P. Adams', ' A. Aspuru-Guzik'], ACS Cent. Sci., 4 (2018), pp. 268-276\n",
      " > Article link: None\n",
      " > DOI link: https://doi.org/10.1021/acscentsci.7b00572\n",
      "Quelle 21 : Deep learning for molecular design–a review of the state of the art, ['D.C. Elton', ' Z. Boukouvalas', ' M.D. Fuge', ' P.W. Chung'], Mol. Syst. Des. Eng., 4 (2019), pp. 828-849\n",
      " > Article link: None\n",
      " > DOI link: https://doi.org/10.1039/c9me00039a\n",
      "Quelle 22 : Deep neural nets as a method for quantitative structure−activity relationships, ['J. Ma', ' R.P. Sheridan', ' A. Liaw', ' G.E. Dahl', ' V. Svetnik'], J. Chem. Inf. Model., 55 (2015), pp. 263-274\n",
      " > Article link: None\n",
      " > DOI link: https://doi.org/10.1021/ci500747n\n",
      "Quelle 23 : Machine learning in chemoinformatics and drug discovery, ['Y.C. Lo', ' S.E. Rensi', ' W. Torng', ' R.B. Altman'], Drug Discov. Today, 23 (2018), pp. 1538-1546\n",
      " > Article link: https://www.sciencedirect.com/science/article/pii/S1359644617304695\n",
      " > DOI link: None\n",
      "Quelle 24 : SMILES, a chemical language and information system. 1. Introduction to methodology and encoding rules, ['D. Weininger'], J. Chem. Inf. Comput. Sci., 28 (1988), pp. 31-36\n",
      " > Article link: None\n",
      " > DOI link: https://doi.org/10.1021/ci00057a005\n",
      "Quelle 25 : DeepSMILES: an adaptation of SMILES for use in machine-learning of chemical structures, [\"N. O'Boyle\", ' A. Dalke'], ChemRxiv (2018), 10.26434/chemrxiv.7097960.v1\n",
      " > Article link: None\n",
      " > DOI link: None\n",
      "Quelle 26 : 4D-fingerprints, universal QSAR and QSPR descriptors, ['C.L. Senese', ' J. Duca', ' D. Pan', ' A.J. Hopfinger', ' Y.J. Tseng'], J. Chem. Inf. Comput. Sci., 44 (2004), pp. 1526-1539\n",
      " > Article link: None\n",
      " > DOI link: None\n",
      "Quelle 27 : Convolutional networks on graphs for learning molecular fingerprints, ['D. Duvenaud', ' D. Maclaurin', ' J. Aguilera-Iparraguirre', ' R. Gómez-Bombarelli', ' T. Hirzel', ' A. Aspuru-Guzik', ' R.P. Adams'], arXiv (2015)\n",
      " > Article link: None\n",
      " > DOI link: None\n",
      "Quelle 28 : Molecular fingerprint-based artificial neural networks QSAR for ligand biological activity predictions, ['K.Z. Myint', ' L. Wang', ' Q. Tong', ' X.Q. Xie'], Mol. Pharm., 9 (2012), pp. 2912-2923\n",
      " > Article link: None\n",
      " > DOI link: https://doi.org/10.1021/mp300237z\n",
      "Quelle 29 : Using molecular fingerprint as descriptors in the QSPR study of lipophilicity, ['R. Liu', ' D. Zhou'], J. Chem. Inf. Model., 48 (2008), pp. 542-549\n",
      " > Article link: None\n",
      " > DOI link: https://doi.org/10.1021/ci700372s\n",
      "Quelle 30 : Molecular fingerprint similarity search in virtual screening, ['A. Cereto-Massagué', ' M.J. Ojeda', ' C. Valls', ' M. Mulero', ' S. Garcia-Vallvé', ' G. Pujadas'], Methods, 71 (2015), pp. 58-63\n",
      " > Article link: https://www.sciencedirect.com/science/article/pii/S1046202314002631\n",
      " > DOI link: None\n",
      "Quelle 31 : Machine learning in virtual screening, ['J.L. Melville', ' E.K. Burke', ' J.D. Hirst'], Comb. Chem. High Throughput Screen., 12 (2009), pp. 332-343\n",
      " > Article link: None\n",
      " > DOI link: https://doi.org/10.2174/138620709788167980\n",
      "Quelle 32 : Comprehensive comparison of ligand-based virtual screening tools against the DUD data set reveals limitations of current 3D methods, ['V. Venkatraman', ' V.I. Pérez-Nueno', ' L. Mavridis', ' D.W. Ritchie'], J. Chem. Inf. Model., 50 (2010), pp. 2079-2093\n",
      " > Article link: None\n",
      " > DOI link: https://doi.org/10.1021/ci100263p\n",
      "Quelle 33 : Extended-connectivity fingerprints, ['D. Rogers', ' M. Hahn'], J. Chem. Inf. Model., 50 (2010), pp. 742-754\n",
      " > Article link: None\n",
      " > DOI link: https://doi.org/10.1021/ci100050t\n",
      "Quelle 34 : Controlling an organic synthesis robot with machine learning to search for new reactivity, ['J.M. Granda', ' L. Donina', ' V. Dragone', ' D.L. Long', ' L. Cronin'], Nature, 559 (2018), pp. 377-381\n",
      " > Article link: None\n",
      " > DOI link: https://doi.org/10.1038/s41586-018-0307-8\n",
      "Quelle 35 : Comment on “Predicting reaction performance in C–N cross-coupling using machine learning”, ['K.V. Chuang', ' M.J. Keiser'], Science, 362 (2018), p. eaat8603\n",
      " > Article link: None\n",
      " > DOI link: None\n",
      "Quelle 36 : Predicting reaction performance in C–N cross-coupling using machine learning, ['D.T. Ahneman', ' J.G. Estrada', ' S. Lin', ' S.D. Dreher', ' A.G. Doyle'], Science, 360 (2018), pp. 186-190\n",
      " > Article link: None\n",
      " > DOI link: https://doi.org/10.1126/science.aar5169\n",
      "Quelle 37 : Prediction of higher-selectivity catalysts by computer-driven workflow and machine learning, ['A.F. Zahrt', ' J.J. Henle', ' B.T. Rose', ' Y. Wang', ' W.T. Darrow', ' S.E. Denmark'], Science, 363 (2019), p. eaau5631\n",
      " > Article link: None\n",
      " > DOI link: None\n",
      "Quelle 38 : Machine-learning-assisted materials discovery using failed experiments, ['P. Raccuglia', ' K.C. Elbert', ' P.D.F. Adler', ' C. Falk', ' M.B. Wenny', ' A. Mollo', ' M. Zeller', ' S.A. Friedler', ' J. Schrier', ' A.J. Norquist'], Nature, 533 (2016), pp. 73-76\n",
      " > Article link: None\n",
      " > DOI link: https://doi.org/10.1038/nature17439\n",
      "Quelle 39 : et al., ['A. Buitrago Santanilla', ' E.L. Regalado', ' T. Pereira', ' M. Shevlin', ' K. Bateman', ' L.C. Campeau', ''], Science, 347 (2015), pp. 49-53\n",
      " > Article link: None\n",
      " > DOI link: https://doi.org/10.1126/science.1259203\n",
      "Quelle 40 : Reconfigurable system for automated optimization of diverse chemical reactions, ['A.C. Bédard', ' A. Adamo', ' K.C. Aroh', ' M.G. Russell', ' A.A. Bedermann', ' J. Torosian', ' B. Yue', ' K.F. Jensen', ' T.F. Jamison'], Science, 361 (2018), pp. 1220-1225\n",
      " > Article link: None\n",
      " > DOI link: https://doi.org/10.1126/science.aat0650\n",
      "Quelle 41 : A platform for automated nanomole-scale reaction screening and micromole-scale synthesis in flow, ['D. Perera', ' J.W. Tucker', ' S. Brahmbhatt', ' C.J. Helal', ' A. Chong', ' W. Farrell', ' P. Richardson', ' N.W. Sach'], Science, 359 (2018), pp. 429-434\n",
      " > Article link: None\n",
      " > DOI link: https://doi.org/10.1126/science.aap9112\n",
      "Quelle 42 : et al., ['R. Macarron', ' M.N. Banks', ' D. Bojanic', ' D.J. Burns', ' D.A. Cirovic', ' T. Garyantes', ' D.V.S. Green', ' R.P. Hertzberg', ' W.P. Janzen', ' J.W. Paslay', ''], Nat. Rev. Drug Discov., 10 (2011), pp. 188-195\n",
      " > Article link: None\n",
      " > DOI link: https://doi.org/10.1038/nrd3368\n",
      "Quelle 43 : Medicinal chemistry database GDBMedChem, ['M. Awale', ' F. Sirockin', ' N. Stiefl', ' J.L. Reymond'], ChemRxiv (2019), 10.26434/chemrxiv.7770809.v1\n",
      " > Article link: None\n",
      " > DOI link: None\n",
      "Quelle 44 : Introduction to Computational Chemistry, ['F. Jensen'], Wiley VCH Verlag (2017)\n",
      " > Article link: None\n",
      " > DOI link: None\n",
      "Quelle 45 : Prediction of major regio-, site-, and diastereoisomers in Diels-alder reactions by using machine-learning: the importance of physically meaningful descriptors, ['W. Beker', ' E.P. Gajewska', ' T. Badowski', ' B.A. Grzybowski'], Angew. Chem. Int. Ed., 58 (2019), pp. 4515-4519\n",
      " > Article link: None\n",
      " > DOI link: https://doi.org/10.1002/anie.201806920\n",
      "Quelle 46 : Response to comment on “Predicting reaction performance in C–N cross-coupling using machine learning”, ['J.G. Estrada', ' D.T. Ahneman', ' R.P. Sheridan', ' S.D. Dreher', ' A.G. Doyle'], Science, 362 (2018), p. eaat8763\n",
      " > Article link: None\n",
      " > DOI link: None\n",
      "Quelle 47 : Predicting the outcomes of organic reactions via machine learning: are current descriptors sufficient?, ['G. Skoraczyński', ' P. Dittwald', ' B. Miasojedow', ' S. Szymkuć', ' E.P. Gajewska', ' B.A. Grzybowski', ' A. Gambin'], Sci. Rep., 7 (2017), p. 3582\n",
      " > Article link: None\n",
      " > DOI link: None\n",
      "Quelle 48 : Applying machine learning techniques to predict the properties of energetic materials, ['D.C. Elton', ' Z. Boukouvalas', ' M.S. Butrico', ' M.D. Fuge', ' P.W. Chung'], Sci. Rep., 8 (2018), p. 9059\n",
      " > Article link: None\n",
      " > DOI link: None\n",
      "Quelle 49 : None, None, http://www.rdkit.org (2019)\n",
      " > Article link: None\n",
      " > DOI link: None\n",
      "Quelle 50 : None, None, None\n",
      " > Article link: None\n",
      " > DOI link: None\n",
      "Quelle 51 : Machine learning methods in chemoinformatics, ['J.B.O. Mitchell'], Wiley Interdiscip. Rev. Comput. Mol. Sci., 4 (2014), pp. 468-481\n",
      " > Article link: None\n",
      " > DOI link: https://doi.org/10.1002/wcms.1183\n",
      "Quelle 52 : Random forests, ['L. Breiman'], Mach. Learn., 45 (2001), pp. 5-32\n",
      " > Article link: None\n",
      " > DOI link: None\n",
      "Quelle 53 : None, None, None\n",
      " > Article link: None\n",
      " > DOI link: None\n",
      "Quelle 54 : Random forest: a classification and regression tool for compound classification and QSAR modeling, ['V. Svetnik', ' A. Liaw', ' C. Tong', ' J.C. Culberson', ' R.P. Sheridan', ' B.P. Feuston'], J. Chem. Inf. Comput. Sci., 43 (2003), pp. 1947-1958\n",
      " > Article link: None\n",
      " > DOI link: None\n",
      "Quelle 55 : et al., ['F. Pedregosa', ' G. Varoquaux', ' A. Gramfort', ' V. Michel', ' B. Thirion', ' O. Grisel', ' M. Blondel', ' P. Prettenhofer', ' R. Weiss', ' V. Dubourg', ''], J. Mach. Learn. Res., 12 (2011), pp. 2825-2830\n",
      " > Article link: None\n",
      " > DOI link: None\n",
      "Quelle 56 : MoleculeNet: a benchmark for molecular machine learning, ['Z. Wu', ' B. Ramsundar', ' E.N. Feinberg', ' J. Gomes', ' C. Geniesse', ' A.S. Pappu', ' K. Leswing', ' V. Pande'], Chem. Sci., 9 (2018), pp. 513-530\n",
      " > Article link: None\n",
      " > DOI link: https://doi.org/10.1039/C7SC02664A\n",
      "Quelle 57 : Rapid and accurate prediction of pKa values of C–H acids using graph convolutional neural networks, ['R. Roszak', ' W. Beker', ' K. Molga', ' B.A. Grzybowski'], J. Am. Chem. Soc., 141 (2019), pp. 17142-17149\n",
      " > Article link: None\n",
      " > DOI link: https://doi.org/10.1021/jacs.9b05895\n",
      "Quelle 58 : Quantum chemistry structures and properties of 134 kilo molecules, ['R. Ramakrishnan', ' P.O. Dral', ' M. Rupp', ' O.A. von Lilienfeld'], Sci. Data, 1 (2014), p. 140022\n",
      " > Article link: None\n",
      " > DOI link: None\n",
      "Quelle 59 : et al., ['F.A. Faber', ' L. Hutchison', ' B. Huang', ' J. Gilmer', ' S.S. Schoenholz', ' G.E. Dahl', ''], J. Chem. Theory Comput., 13 (2017), pp. 5255-5264\n",
      " > Article link: None\n",
      " > DOI link: https://doi.org/10.1021/acs.jctc.7b00577\n",
      "Quelle 60 : Holistic prediction of enantioselectivity in asymmetric catalysis, ['J.P. Reid', ' M.S. Sigman'], Nature, 571 (2019), pp. 343-348\n",
      " > Article link: None\n",
      " > DOI link: https://doi.org/10.1038/s41586-019-1384-z\n",
      "Quelle 61 : The Elements of Statistical Learning: Data Mining, Inference, and Prediction, ['T. Hastie', ' R. Tibshirani', ' J. Friedman'], Springer (2009)\n",
      " > Article link: None\n",
      " > DOI link: None\n",
      "Quelle 62 : A robustness screen for the rapid assessment of chemical reactions, ['K.D. Collins', ' F. Glorius'], Nat. Chem., 5 (2013), pp. 597-601\n",
      " > Article link: None\n",
      " > DOI link: None\n",
      "Quelle 63 : None, None, None\n",
      " > Article link: None\n",
      " > DOI link: None\n",
      "\n",
      " \n",
      " \n",
      "\n",
      "###########################################################################\n",
      "Publikation: Artistic movement recognition by consensus of boosted SVM based experts\n",
      "Referenzen: \n",
      "\n",
      "\n",
      " \n",
      " \n",
      "\n",
      "###########################################################################\n",
      "Publikation: Semi-automatic inductive construction of reference process models that represent best practices in public administrations: A method\n",
      "Referenzen: \n",
      "\n",
      "\n",
      " \n",
      " \n",
      "\n"
     ]
    }
   ],
   "source": [
    "# Quick Test -> works\n",
    "assert len(get_references(free1_soup_full)) == 46  # correct values\n",
    "assert len(get_references(free2_soup_full)) == 64  # correct values\n",
    "\n",
    "for soup in elsevier_soups_full:\n",
    "    print('###########################################################################')\n",
    "    print(f'Publikation: {get_title(soup)}')\n",
    "    print('Referenzen: \\n')\n",
    "    if get_references(soup) is not None:\n",
    "        for idx, ref in enumerate(get_references(soup)):\n",
    "            print(f'Quelle {idx} : {ref.get(\"title\")}, {ref.get(\"authors\")}, {ref.get(\"source\")}')\n",
    "            print(f' > Article link: {ref.get(\"article_link\")}')\n",
    "            print(f' > DOI link: {ref.get(\"doi_link\")}')\n",
    "            # print(f' > Google Scholar link: {ref.get(\"google_scholar_link\")}') # skipped for readability\n",
    "    print('\\n \\n \\n')\n"
   ],
   "metadata": {
    "collapsed": false,
    "pycharm": {
     "name": "#%%\n"
    }
   }
  },
  {
   "cell_type": "markdown",
   "source": [
    "### #Citations\n",
    "According Elsevier-Plumx metric"
   ],
   "metadata": {
    "collapsed": false,
    "pycharm": {
     "name": "#%% md\n"
    }
   }
  },
  {
   "cell_type": "code",
   "execution_count": 820,
   "outputs": [],
   "source": [
    "def get_amount_citations(bs):\n",
    "    \"\"\"\n",
    "    Retuns the amount of citations according to ScienceDirect metric\n",
    "    :param bs: bs4 object\n",
    "    :return: # Citations\n",
    "    \"\"\"\n",
    "    try:\n",
    "        amount_citations = bs.find('li', class_='plx-citation').find('span', class_='pps-count').text.strip()\n",
    "        return amount_citations\n",
    "    except:\n",
    "        return None\n"
   ],
   "metadata": {
    "collapsed": false,
    "pycharm": {
     "name": "#%%\n"
    }
   }
  },
  {
   "cell_type": "code",
   "execution_count": 822,
   "outputs": [
    {
     "name": "stdout",
     "output_type": "stream",
     "text": [
      "Peeling the onion: Analyzing aggregate, national and sectoral energy intensity in the European Union\n",
      " > Amount of citations: 34\n",
      "-------- \n",
      "\n",
      "A Structure-Based Platform for Predicting Chemical Reactivity\n",
      " > Amount of citations: 77\n",
      "-------- \n",
      "\n",
      "Artistic movement recognition by consensus of boosted SVM based experts\n",
      " > Amount of citations: 7\n",
      "-------- \n",
      "\n",
      "Semi-automatic inductive construction of reference process models that represent best practices in public administrations: A method\n",
      " > Amount of citations: 9\n",
      "-------- \n",
      "\n"
     ]
    }
   ],
   "source": [
    "for soups in elsevier_soups_full:\n",
    "    print(get_title(soups))\n",
    "    print(f' > Amount of citations: {get_amount_citations(soups)}')\n",
    "    print('-------- \\n')"
   ],
   "metadata": {
    "collapsed": false,
    "pycharm": {
     "name": "#%%\n"
    }
   }
  },
  {
   "cell_type": "code",
   "execution_count": null,
   "outputs": [],
   "source": [],
   "metadata": {
    "collapsed": false,
    "pycharm": {
     "name": "#%%\n"
    }
   }
  }
 ],
 "metadata": {
  "kernelspec": {
   "display_name": "Python 3",
   "language": "python",
   "name": "python3"
  },
  "language_info": {
   "codemirror_mode": {
    "name": "ipython",
    "version": 2
   },
   "file_extension": ".py",
   "mimetype": "text/x-python",
   "name": "python",
   "nbconvert_exporter": "python",
   "pygments_lexer": "ipython2",
   "version": "2.7.6"
  }
 },
 "nbformat": 4,
 "nbformat_minor": 0
}