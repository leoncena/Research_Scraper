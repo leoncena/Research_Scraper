{
 "cells": [
  {
   "cell_type": "markdown",
   "source": [
    "# IEEE Xplore Scraper\n",
    "Here it is about the scraping commands in general, integration will follow seperately."
   ],
   "metadata": {
    "collapsed": false,
    "pycharm": {
     "name": "#%% md\n"
    }
   }
  },
  {
   "cell_type": "code",
   "execution_count": 350,
   "outputs": [],
   "source": [
    "# Example urls\n",
    "paper1 = 'https://ieeexplore.ieee.org/document/7887648'\n",
    "paper2 = 'https://ieeexplore.ieee.org/document/6324427'\n",
    "conference1 = 'https://ieeexplore.ieee.org/document/9378426'\n",
    "conference2 = 'https://ieeexplore.ieee.org/document/5694044'\n",
    "ieee_links = [paper1, paper2, conference1, conference2]"
   ],
   "metadata": {
    "collapsed": false,
    "pycharm": {
     "name": "#%%\n"
    }
   }
  },
  {
   "cell_type": "code",
   "execution_count": 351,
   "outputs": [],
   "source": [
    "import re\n",
    "import time\n",
    "import json\n",
    "\n",
    "import cloudscraper\n",
    "import requests\n",
    "from bs4 import BeautifulSoup\n",
    "from helium import *\n",
    "from selenium import webdriver\n",
    "from selenium.webdriver.chrome.options import Options"
   ],
   "metadata": {
    "collapsed": false,
    "pycharm": {
     "name": "#%%\n"
    }
   }
  },
  {
   "cell_type": "markdown",
   "source": [
    "## Accessing Soup and JSON Data\n",
    "Our primary goal is to extract the meta data json file from the HTML of the IEEE Xplore page. We will use the `requests` library for this. For more complex scraping we can load  the page with Helium, which is a wrapper for Selenium (like already used in the ScienceDirect file).\n"
   ],
   "metadata": {
    "collapsed": false,
    "pycharm": {
     "name": "#%% md\n"
    }
   }
  },
  {
   "cell_type": "code",
   "execution_count": 352,
   "outputs": [],
   "source": [
    "def get_bs(url):\n",
    "    try:\n",
    "        headers = {\n",
    "            'User-Agent': 'Mozilla/5.0 (Macintosh; Intel Mac OS X 10_15_7) AppleWebKit/605.1.15 (KHTML, like Gecko) Version/15.5 Safari/605.1.15'}\n",
    "        r = requests.get(url, headers=headers)\n",
    "        print(r.status_code)\n",
    "        bs = BeautifulSoup(r.text, 'html.parser')\n",
    "    except:\n",
    "        print('Error: ', url)\n",
    "        return None\n",
    "    return bs"
   ],
   "metadata": {
    "collapsed": false,
    "pycharm": {
     "name": "#%%\n"
    }
   }
  },
  {
   "cell_type": "markdown",
   "source": [
    "Create soups of test publications"
   ],
   "metadata": {
    "collapsed": false,
    "pycharm": {
     "name": "#%% md\n"
    }
   }
  },
  {
   "cell_type": "code",
   "execution_count": 353,
   "outputs": [
    {
     "name": "stdout",
     "output_type": "stream",
     "text": [
      "200\n",
      "200\n",
      "200\n",
      "200\n"
     ]
    },
    {
     "data": {
      "text/plain": "<!DOCTYPE html>\n\n<script type=\"text/javascript\">\n\nvar home = {\t\n\t\t\tmetadata:{\n\t\t\t\tsearchCount: '5,749,604',\n\t\t\t\tlogoRelPath: '/customer_logos',\n\t\t\t\tthirdParthAuth: false,\n\t\t\t\tcurrentPage:  'document',\n\t\t\t\txploreVirtual:'https://ieeexplore.ieee.org',\n\t\t\t\tisWebAccount: false,\n\t\t\t\tisProvisioned: false,\n\t\t\t\tglobalNotification:{},\n\t\t\t\tcart: {\n\t\t\t\t\t\tcount: 0\n\t\t\t\t}\n\t\t\t}\t\t\t\t\t\t\n\t\t};\n\t\t\n\n\n\n\n\n\t\t\n</script>\n<html lang=\"en-US\">\n<head>\n<meta content=\"Astrophysics and cosmology are rich with data. The advent of wide-area digital cameras on large aperture telescopes has led to ever more ambitious surveys of th\" id=\"meta-description\" name=\"Description\"/>\n<link href=\"https://ieeexplore.ieee.org/document/7887648\" rel=\"canonical\"/>\n<meta content=\"text/html; charset=utf-8\" http-equiv=\"Content-Type\">\n<!-- Disable \"click\" touch event 300ms delay for Chrome/Firefox on Android -->\n<meta content=\"width=device-width, initial-scale=1.0\" name=\"viewport\"/>\n<title>Big Universe, Big Data: Machine Learning and Image Analysis for Astronomy | IEEE Journals &amp; Magazine | IEEE Xplore</title>\n<meta content=\"Big Universe, Big Data: Machine Learning and Image Analysis for Astronomy\" property=\"twitter:title\">\n<meta content=\"Big Universe, Big Data: Machine Learning and Image Analysis for Astronomy\" property=\"og:title\"/>\n<meta content=\"Astrophysics and cosmology are rich with data. The advent of wide-area digital cameras on large aperture telescopes has led to ever more ambitious surveys of the sky. Data volumes of entire surveys a decade ago can now be acquired in a single night, and real-time analysis is often desired. Thus, modern astronomy requires big data know-how, in particular, highly efficient machine learning and image analysis algorithms. But scalability isn't the only challenge: astronomy applications touch several current machine learning research questions, such as learning from biased data and dealing with label and measurement noise. The authors argue that this makes astronomy a great domain for computer science research, as it pushes the boundaries of data analysis. They focus here on exemplary results, discuss main challenges, and highlight some recent methodological advancements in machine learning and image analysis triggered by astronomical applications.\" property=\"twitter:description\"/>\n<meta content=\"Astrophysics and cosmology are rich with data. The advent of wide-area digital cameras on large aperture telescopes has led to ever more ambitious surveys of the sky. Data volumes of entire surveys a decade ago can now be acquired in a single night, and real-time analysis is often desired. Thus, modern astronomy requires big data know-how, in particular, highly efficient machine learning and image analysis algorithms. But scalability isn't the only challenge: astronomy applications touch several current machine learning research questions, such as learning from biased data and dealing with label and measurement noise. The authors argue that this makes astronomy a great domain for computer science research, as it pushes the boundaries of data analysis. They focus here on exemplary results, discuss main challenges, and highlight some recent methodological advancements in machine learning and image analysis triggered by astronomical applications.\" property=\"og:description\"/>\n<meta content=\"summary\" name=\"twitter:card\"/>\n<meta content=\"https://ieeexplore.ieee.org/assets/img/ieee_logo_smedia_200X200.png\" property=\"twitter:image\"/>\n<meta content=\"https://ieeexplore.ieee.org/assets/img/ieee_logo_smedia_200X200.png\" property=\"og:image\"/>\n<script async=\"\" src=\"https://www.ieee.org/content/dam/ieee-global/js/settings.js\"></script>\n<link href=\"https://cdnjs.cloudflare.com/ajax/libs/cookieconsent2/3.0.3/cookieconsent.min.css\" rel=\"stylesheet\" type=\"text/css\"/>\n<script async=\"\" src=\"https://cdnjs.cloudflare.com/ajax/libs/cookieconsent2/3.0.3/cookieconsent.min.js\"></script>\n<script>\nwindow.addEventListener(\"load\", function(){\n window.cookieconsent.initialise(json)\n});\n</script>\n<meta content=\"text/html;charset=utf-8\" http-equiv=\"Content-Type\"/>\n<meta content=\"IE=Edge\" http-equiv=\"X-UA-Compatible\"/>\n<g:compress>\n<link href=\"/assets/css/simplePassMeter.min.css?cv=20221004_000001\" rel=\"stylesheet\"/>\n<link href=\"/assets/dist/ng-new/styles.css?cv=20221004_000001\" media=\"screen, print\" rel=\"stylesheet\" type=\"text/css\"/>\n<link href=\"/assets/dist/ng-new/customStyles.css?cv=20221004_000001\" media=\"screen, print\" rel=\"stylesheet\" type=\"text/css\"/>\n<link href=\"/assets/vendor/swiper/dist/idangerous.swiper.css?cv=20221004_000001\" rel=\"stylesheet\"/>\n<link href=\"/assets/css/jquery-ui-1.8.19.custom.css?cv=20221004_000001\" media=\"screen, print\" rel=\"stylesheet\" type=\"text/css\">\n</link></g:compress>\n<script type=\"text/javascript\">\n\t\tvar googletag = googletag || {};\n\t\tgoogletag.cmd = googletag.cmd || [];\n\t\t(function() {\n\t\tvar gads = document.createElement('script');\n\t\tgads.async = true;\n\t\tgads.type = 'text/javascript';\n\t\tvar useSSL = 'https:' == document.location.protocol;\n\t\tgads.src = (useSSL ? 'https:' : 'http:') + \n\t\t'//securepubads.g.doubleclick.net/tag/js/gpt.js';\n\t\tvar node = document.getElementsByTagName('script')[0];\n\t\tnode.parentNode.insertBefore(gads, node);\n\t\t})();\n\t</script>\n<script charset=\"utf-8\" src=\"/assets/vendor/jquery/jquery-3.5.1.min.js?cv=20221004_000001\" type=\"text/javascript\"></script>\n</meta></meta></head>\n<body class=\"body-resp\">\n<p class=\"JumpLink\" id=\"PageTop\"><a accesskey=\"s\" href=\"#\" title=\"Click here to Skip to main content\">Skip to Main Content</a></p>\n<div class=\"row stats-global-notification\" id=\"global-notification\">\n<div class=\"hide u-hide-important col Notification Notification--global Notification--fixed\">\n<a aria-label=\"close message button\" class=\"Notification-close js-close\" href=\"\"><i class=\"fa fa-close\"></i></a>\n<div class=\"Notification-header\"></div>\n<div class=\"Notification-text\"></div>\n</div>\n</div>\n<div id=\"LayoutWrapper\">\n<div class=\"container-fluid\">\n<div class=\"row\">\n<div class=\"col\">\n<script src=\"https://cdn.jwplayer.com/libraries/6Mc4deRE.js\" type=\"text/javascript\"></script>\n<div class=\"Header\" data-inst=\"false\" data-service=\"true\" data-web=\"false\" id=\"xplore-header\" style=\"display:none\"></div>\n<div id=\"global-alert-message\"></div>\n<meta content=\"eyJhbGciOiJIUzUxMiIsInppcCI6IkRFRiJ9.eNqqVkosKFCyUoooyMkvSlXSUcosLgZyK2Dc1AqgrKGZmamxibGhiTFQPrEEJmBgYmJcCwAAAP__.61N30rt7ZJQHUo6yuuXXhHRMp39iJU4RbCQsb77-0g3v3mSR_GgfowCWOOCNiMbTu4J2g9_yKNlR0I1s9nmXWw\" name=\"cToken\"/>\n<script type=\"text/javascript\">\n\t\n\t\n\t\n\tdocument.write('<base href=\"/document/\" />');\n\t\n\t\n</script>\n<!-- XPL-21560-Added as part of Universal CASA-Dev -->\n<script async=\"\" src=\"https://scholar.google.com/scholar_js/casa.js\" type=\"text/javascript\"></script>\n<script src=\"https://app.cadmoremedia.com/Scripts/Embed.js\" type=\"text/javascript\"></script>\n<!--- This is a picture popup embed for mobilew view.  -->\n<script src=\"https://app.cadmoremedia.com/Scripts/PicturePop.js\" type=\"text/javascript\"></script>\n<script type=\"text/javascript\">\nvar body_rightsLink =\"\", body_publisher = \"\";\nvar recordId = \"\";\n\n\nvar AUTHOR_PROFILE = 'ON';\nif (AUTHOR_PROFILE.toUpperCase() == \"OFF\"){\n\tvar AUTHOR_PROFILE_ENABLED = false;\n}else{\n\tvar AUTHOR_PROFILE_ENABLED = true;\n}\n\nvar xplGlobal = {\n\tdocument: {\n\t\tdisqus:{\n\t\t\tremote_auth_s3 : '',\n\t\t\tpublic_api_key:'1lxKgMbpNIbQvfk2tqLcWeSVloE8rgIY2CV1tCu3Vp641oL4eEITYBbkViJJGNYY',\n\t\t\tshort_name:'ieeexplore',\n\t\t\tclient_url:'https://ieeexplore.ieee.org',\n\t\t\tsso_enabled:'{$sessionProfile.provisioned}'\n\t\t},\n\n\t\tfullTextAccess: false,\n\t\tisAccessFromInstitution: false\n\t\t\n\t}\n};\n\t\n\txplGlobal.document.metadata={\"userInfo\":{\"institute\":false,\"member\":false,\"individual\":false,\"guest\":false,\"subscribedContent\":false,\"fileCabinetContent\":false,\"fileCabinetUser\":false,\"institutionalFileCabinetUser\":false,\"showPatentCitations\":true,\"showGet802Link\":false,\"showOpenUrlLink\":false,\"tracked\":false,\"desktop\":false,\"delegatedAdmin\":false,\"isInstitutionDashboardEnabled\":false,\"isInstitutionProfileEnabled\":false,\"isRoamingEnabled\":false,\"isDelegatedAdmin\":false,\"isMdl\":false,\"isCwg\":false,\"isIel\":false},\"authors\":[{\"name\":\"Jan Kremer\",\"affiliation\":[\"University of Copenhagen\"],\"bio\":{\"p\":[\"Jan Kremer is a data scientist at Adform. His research interests include machine learning and computer vision. Kremer received a PhD in computer science from the University of Copenhagen. Contact him at jan.kremer@adform.com.\"]},\"firstName\":\"Jan\",\"lastName\":\"Kremer\",\"id\":\"37086104276\"},{\"name\":\"Kristoffer Stensbo-Smidt\",\"affiliation\":[\"University of Copenhagen\"],\"bio\":{\"p\":[\"Kristoffer Stensbo-Smidt is a postdoctoral researcher in the Department of Computer Science, University of Copenhagen. His research interests include statistical data analysis and astrophysics. Stensbo-Smidt received a PhD in computer science from the University of Copenhagen. Contact him at k.stensbo@di.ku.dk.\"]},\"firstName\":\"Kristoffer\",\"lastName\":\"Stensbo-Smidt\",\"id\":\"37086102090\"},{\"name\":\"Fabian Gieseke\",\"affiliation\":[\"University of Copenhagen\"],\"bio\":{\"p\":[\"Fabian Gieseke is an assistant professor in the Department of Computer Science, University of Copenhagen. His research interests lie in the field of big data analytics. Gieseke received a PhD in computer science from the University of Oldenburg. Contact him at fabian.gieseke@di.km.dk.\"]},\"firstName\":\"Fabian\",\"lastName\":\"Gieseke\",\"id\":\"37857080600\"},{\"name\":\"Kim Steenstrup Pedersen\",\"affiliation\":[\"University of Copenhagen\"],\"bio\":{\"p\":[\"Kim Steenstrup Pedersen is an associate professor in the Department of Computer Science, University of Copenhagen. His research interests include computer vision and image analysis. Pedersen received a PhD in computer science from the University of Copenhagen. Contact him at kimstp@di.ku.dk.\"]},\"firstName\":\"Kim Steenstrup\",\"lastName\":\"Pedersen\",\"id\":\"37837129200\"},{\"name\":\"Christian Igel\",\"affiliation\":[\"University of Copenhagen\"],\"bio\":{\"p\":[\"Christian Igel is a professor in the Department of Computer Science, University of Copenhagen. His research area is machine learning. Igel received a PhD in computer science from Bielefeld University and a Habilitation degree from Ruhr-University Bochum. Contact him at igel@diku.dk.\"]},\"firstName\":\"Christian\",\"lastName\":\"Igel\",\"id\":\"37281518600\"}],\"issn\":[{\"format\":\"Print ISSN\",\"value\":\"1541-1672\"},{\"format\":\"Electronic ISSN\",\"value\":\"1941-1294\"}],\"articleNumber\":\"7887648\",\"dbTime\":\"3 ms\",\"metrics\":{\"citationCountPaper\":48,\"citationCountPatent\":0,\"totalDownloads\":3001},\"sponsors\":[{\"packageNumber\":0,\"name\":\"IEEE Computer Society\",\"url\":\"http://www.computer.org\"}],\"purchaseOptions\":{\"showOtherFormatPricingTab\":false,\"showPdfFormatPricingTab\":true,\"pdfPricingInfoAvailable\":true,\"otherPricingInfoAvailable\":false,\"mandatoryBundle\":false,\"optionalBundle\":false,\"pdfPricingInfo\":[{\"memberPrice\":\"$14.95\",\"nonMemberPrice\":\"$33.00\",\"partNumber\":\"7887648\",\"type\":\"PDF/HTML\"}]},\"getProgramTermsAccepted\":false,\"sections\":{\"abstract\":\"true\",\"authors\":\"true\",\"figures\":\"true\",\"multimedia\":\"false\",\"references\":\"true\",\"citedby\":\"true\",\"keywords\":\"true\",\"definitions\":\"false\",\"algorithm\":\"false\",\"dataset\":\"false\",\"cadmore\":\"false\",\"footnotes\":\"false\",\"disclaimer\":\"false\",\"relatedContent\":\"false\",\"metrics\":\"true\"},\"allowComments\":false,\"formulaStrippedArticleTitle\":\"Big Universe, Big Data: Machine Learning and Image Analysis for Astronomy\",\"keywords\":[{\"type\":\"IEEE Keywords\",\"kwd\":[\"Extraterrestrial measurements\",\"Telescopes\",\"Image analysis\",\"Extrasolar planets\",\"Big data\",\"Astronomy\",\"Computer vision\",\"Machine learning\"]},{\"type\":\"INSPEC: Controlled Indexing\",\"kwd\":[\"astronomical image processing\",\"Big Data\",\"learning (artificial intelligence)\"]},{\"type\":\"INSPEC: Non-Controlled Indexing\",\"kwd\":[\"Big Data\",\"machine learning\",\"image analysis\",\"astronomy\",\"digital cameras\",\"aperture telescopes\",\"image analysis algorithms\",\"computer science research\",\"data analysis\",\"cosmology\",\"astrophysics\"]},{\"type\":\"Author Keywords \",\"kwd\":[\"big data\",\"astronomy\",\"machine learning\",\"computer vision\",\"intelligent systems\"]}],\"abstract\":\"Astrophysics and cosmology are rich with data. The advent of wide-area digital cameras on large aperture telescopes has led to ever more ambitious surveys of the sky. Data volumes of entire surveys a decade ago can now be acquired in a single night, and real-time analysis is often desired. Thus, modern astronomy requires big data know-how, in particular, highly efficient machine learning and image analysis algorithms. But scalability isn't the only challenge: astronomy applications touch several current machine learning research questions, such as learning from biased data and dealing with label and measurement noise. The authors argue that this makes astronomy a great domain for computer science research, as it pushes the boundaries of data analysis. They focus here on exemplary results, discuss main challenges, and highlight some recent methodological advancements in machine learning and image analysis triggered by astronomical applications.\",\"articleCopyRight\":\"0 \",\"pubLink\":\"/xpl/RecentIssue.jsp?punumber=9670\",\"displayPublicationDate\":\"27 March 2017\",\"pdfUrl\":\"/stamp/stamp.jsp?tp=&arnumber=7887648\",\"doi\":\"10.1109/MIS.2017.40\",\"publicationYear\":\"2017\",\"startPage\":\"16\",\"endPage\":\"22\",\"publicationDate\":\"Mar.-Apr. 2017\",\"dateOfInsertion\":\"27 March 2017\",\"publicationTitle\":\"IEEE Intelligent Systems\",\"displayPublicationTitle\":\"IEEE Intelligent Systems\",\"pdfPath\":\"/iel7/9670/7887633/07887648.pdf\",\"issueLink\":\"/xpl/tocresult.jsp?isnumber=7887633&punumber=9670\",\"rightsLink\":\"http://s100.copyright.com/AppDispatchServlet?publisherName=ieee&publication=9670&title=Big+Universe%2C+Big+Data%3A+Machine+Learning+and+Image+Analysis+for+Astronomy&isbn=&publicationDate=Mar.-Apr.+2017&author=Jan+Kremer&ContentID=10.1109/MIS.2017.40&orderBeanReset=true&startPage=16&endPage=22&volumeNum=32&issueNum=2\",\"doiLink\":\"https://doi.org/10.1109/MIS.2017.40\",\"isReadingRoomArticle\":false,\"isGetArticle\":false,\"isGetAddressInfoCaptured\":false,\"isMarketingOptIn\":false,\"pubTopics\":[{\"name\":\"Computing and Processing\"},{\"name\":\"Signal Processing and Analysis\"},{\"name\":\"Communication, Networking and Broadcast Technologies\"},{\"name\":\"Components, Circuits, Devices and Systems\"}],\"publisher\":\"IEEE\",\"htmlAbstractLink\":\"/document/7887648/\",\"isPromo\":false,\"isNow\":false,\"isOUP\":false,\"xploreDocumentType\":\"Journals & Magazine\",\"isDynamicHtml\":true,\"displayDocTitle\":\"Big Universe, Big Data: Machine Learning and Image Analysis for Astronomy\",\"isStandard\":false,\"isNotDynamicOrStatic\":false,\"isCustomDenial\":false,\"isSMPTE\":false,\"isSAE\":false,\"isFreeDocument\":false,\"isProduct\":false,\"isSpringer\":false,\"isConference\":false,\"volume\":\"32\",\"issue\":\"2\",\"accessionNumber\":\"16776033\",\"isOpenAccess\":false,\"isEphemera\":false,\"isEarlyAccess\":false,\"isJournal\":true,\"isBook\":false,\"isBookWithoutChapters\":false,\"isChapter\":false,\"isStaticHtml\":false,\"htmlLink\":\"/document/7887648/\",\"persistentLink\":\"https://ieeexplore.ieee.org/servlet/opac?punumber=9670\",\"startPage\":\"16\",\"articleCopyRight\":\"0 \",\"openAccessFlag\":\"F\",\"insertDate\":\"27 March 2017\",\"ephemeraFlag\":\"false\",\"title\":\"Big Universe, Big Data: Machine Learning and Image Analysis for Astronomy\",\"accessionNumber\":\"16776033\",\"html_flag\":\"false\",\"ml_html_flag\":\"true\",\"sourcePdf\":\"mex2017020016.pdf\",\"displayPublicationDate\":\"27 March 2017\",\"mlTime\":\"PT0.038325S\",\"xplore-pub-id\":\"9670\",\"pdfPath\":\"/iel7/9670/7887633/07887648.pdf\",\"isNumber\":\"7887633\",\"rightsLinkFlag\":\"1\",\"contentType\":\"periodicals\",\"publicationDate\":\"Mar.-Apr. 2017\",\"publicationNumber\":\"9670\",\"citationCount\":\"48\",\"xplore-issue\":\"7887633\",\"issue\":\"2\",\"articleId\":\"7887648\",\"publicationTitle\":\"IEEE Intelligent Systems\",\"sections\":{\"abstract\":\"true\",\"authors\":\"true\",\"figures\":\"true\",\"multimedia\":\"false\",\"references\":\"true\",\"citedby\":\"true\",\"keywords\":\"true\",\"definitions\":\"false\",\"algorithm\":\"false\",\"dataset\":\"false\",\"cadmore\":\"false\",\"footnotes\":\"false\",\"disclaimer\":\"false\",\"relatedContent\":\"false\",\"metrics\":\"true\"},\"volume\":\"32\",\"contentTypeDisplay\":\"Magazines\",\"publicationYear\":\"2017\",\"subType\":\"IEEE Magazine\",\"_value\":\"IEEE\",\"lastupdate\":\"2022-10-06\",\"mediaPath\":\"/mediastore_new/IEEE/content/media/9670/7887633/7887648\",\"endPage\":\"22\",\"displayPublicationTitle\":\"IEEE Intelligent Systems\",\"doi\":\"10.1109/MIS.2017.40\"};\n\n\n\n\n\n\n\n\n</script>\n<div class=\"ng2-app\">\n<!-- <xpl-searchbar show-count=\"false\"></xpl-searchbar> -->\n<div class=\"global-content-wrapper\">\n<xpl-root>\n<div class=\"Spinner\"></div>\n</xpl-root>\n</div>\n<!-- START: Angular 2+ Migration: Due to Angualr2+ migration AngualrJs router place holder commented -->\n<!-- \t<div ng-show=\"stateIsLoading\" class=\"Spinner\"></div>\n\t<div ui-view class=\"{{stateIsLoading ? 'loading': ''}}\"\n\t\tautoscroll=\"false\"></div>\n --> <!-- END: Angular 2+ Migration-->\n</div>\n<section id=\"xploreFooter\">\n<div class=\"Footer stats-footer hide-mobile\">\n<div class=\"pure-g Footer-sections\">\n<div class=\"pure-u-1-4\">\n<h3 class=\"Footer-header\">IEEE Account</h3>\n<ul class=\"Footer-list\">\n<li><a href=\"https://www.ieee.org/profile/changeusrpwd/showChangeUsrPwdPage.html?refSite=http://ieeexplore.ieee.org&amp;refSiteName=IEEE Xplore\">Change Username/Password</a></li>\n<li><a href=\"https://www.ieee.org/profile/address/getAddrInfoPage.html?refSite=http://ieeexplore.ieee.org&amp;refSiteName=IEEE Xplore\">Update Address</a></li>\n</ul>\n</div>\n<div class=\"pure-u-1-4\">\n<h3 class=\"Footer-header\">Purchase Details</h3>\n<ul class=\"Footer-list\">\n<li><a href=\"https://www.ieee.org/profile/payment/showPaymentHome.html?refSite=http://ieeexplore.ieee.org&amp;refSiteName=IEEE Xplore\">Payment Options</a></li>\n<li><a href=\"https://www.ieee.org/profile/vieworder/showOrderHistory.html?refSite=http://ieeexplore.ieee.org&amp;refSiteName=IEEE Xplore\">Order History</a></li>\n<li><a href=\"/articleSale/purchaseHistory.jsp\">View Purchased Documents</a></li>\n</ul>\n</div>\n<div class=\"pure-u-1-4\">\n<h3 class=\"Footer-header\">Profile Information</h3>\n<ul class=\"Footer-list\">\n<li><a href=\"https://www.ieee.org/ieee-privacyportal/app/ibp?refSite=http://ieeexplore.ieee.org&amp;refSiteName=IEEE Xplore\">Communications Preferences</a></li>\n<li><a href=\"https://www.ieee.org/profile/profedu/getProfEduInformation.html?refSite=http://ieeexplore.ieee.org&amp;refSiteName=IEEE Xplore\">Profession and Education</a></li>\n<li><a href=\"https://www.ieee.org/profile/tips/getTipsInfo.html?refSite=http://ieeexplore.ieee.org&amp;refSiteName=IEEE Xplore\">Technical Interests</a></li>\n</ul>\n</div>\n<div class=\"pure-u-1-4\">\n<h3 class=\"Footer-header\">Need Help?</h3>\n<ul class=\"Footer-list\">\n<li><strong>US &amp; Canada:</strong> +1 800 678 4333</li>\n<li><strong>Worldwide: </strong> +1 732 981 0060<br/>\n</li>\n<li><a href=\"/xpl/contact\">Contact &amp; Support</a></li>\n</ul>\n</div>\n</div>\n<div class=\"row\">\n<div class=\"col-12 Footer-bottom\">\n<div class=\"Footer-bottom-inner-div row\">\n<div class=\"col\">\n<ul class=\"Menu Menu--horizontal Menu--dividers u-mb-1\">\n<li class=\"Menu-item\"><a href=\"/Xplorehelp/about-ieee-xplore.html\">About IEEE <em>Xplore</em></a></li>\n<li class=\"Menu-item\"><a href=\"/xpl/contact\">Contact Us</a></li>\n<li class=\"Menu-item\"><a href=\"/Xplorehelp/Help_start.html\" target=\"blank\">Help</a></li>\n<li class=\"Menu-item\"><a href=\"/Xplorehelp/accessibility-statement.html\" target=\"blank\">Accessibility</a></li>\n<li class=\"Menu-item\"><a href=\"/Xplorehelp/Help_Terms_of_Use.html\" target=\"_blank\">Terms of Use</a></li>\n<li class=\"Menu-item\"><a href=\"http://www.ieee.org/web/aboutus/whatis/policies/p9-26.html\">Nondiscrimination Policy</a></li>\n<li class=\"Menu-item\"><a href=\"/xpl/sitemap.jsp\">Sitemap</a></li>\n<li class=\"Menu-item\"><a href=\"http://www.ieee.org/about/help/security_privacy.html\" target=\"blank\">Privacy &amp; Opting Out of Cookies</a></li>\n</ul>\n<p class=\"Footer-bottom-terms\">\n\t\t\t\t\t\t\tA not-for-profit organization, IEEE is the world's largest technical professional organization dedicated to advancing technology for the benefit of humanity.<br/>© Copyright 2022 IEEE - All rights reserved. Use of this web site signifies your agreement to the terms and conditions.\n\t\t\t\t\t\t</p>\n</div>\n<div><i class=\"logo-ieee-white\"></i></div>\n</div>\n</div>\n</div>\n</div>\n</section>\n<!-- BEGIN: tealium in v2/common/template.jsp. We need to include tealiumAnalytics.js here since Angular 2+ app load if you load after commnon.js then tealium value will not be available in angular 2+ app  -->\n<!-- BEGIN: TealiumAnalytics.jsp -->\n<script type=\"text/javascript\">\n \t\t\t\t// tealium config vars\n\t\t\t\tvar TEALIUM_CONFIG_TAGGING_ENABLED = true;\t\t\n\t\t\t\tvar TEALIUM_CONFIG_CDN_URL = '//tags.tiqcdn.com/utag/';\n\t\t\t\tvar TEALIUM_CONFIG_ACCOUNT_PROFILE_ENV = 'ieeexplore/main/prod';\n\t\t\t\t\n\t\t\t\t// tealium utag_data values for user \n\t\t\t\tvar TEALIUM_userType = 'Anonymous';\n\t\t\t\tvar TEALIUM_userInstitutionId = '';\n\t\t\t\tvar TEALIUM_userId = '';\n\t\t\t\tvar TEALIUM_user_third_party = '';\n\t\t\t\t\n\t\t\t\tvar TEALIUM_products = '';\n\t\t\t</script>\n<script type=\"text/javascript\">\n\t\t\t// asynchronously load tealium's utag.js , which declares tealium JS variables like; utag_data, utag\n\t\t\t(function(a,b,c,d){\n\t\t\t\n\t\t\t\ta=TEALIUM_CONFIG_CDN_URL + TEALIUM_CONFIG_ACCOUNT_PROFILE_ENV + '/utag.js';\n\t\t\t\tb=document;c='script';d=b.createElement(c);d.src=a;\n\t\t\t\td.type='text/java'+c;d.async=true;\n\t\t\t\ta=b.getElementsByTagName(c)[0];a.parentNode.insertBefore(d,a);\n\t\t\t})();\n\t\t\t</script>\n<script src=\"/assets/js/analytics/tealiumTagsData.js?cv=20221004_000001\" type=\"text/javascript\"></script>\n<script src=\"/assets/js/analytics/tealiumAnalytics.js?cv=20221004_000001\" type=\"text/javascript\"></script>\n<!-- END: TealiumAnalytics.jsp -->\n<!-- END: tealium in v2/common/template.jsp -->\n<script src=\"/xploreAssets/MathJax-274/MathJax.js?config=default\" type=\"text/javascript\"></script>\n<link href=\"/assets/css/ie7Sniffer.css?cv=20221004_000001\" rel=\"stylesheet\"/>\n<script src=\"/assets/vendor/js-cookie/src/js.cookie.js?cv=20221004_000001\" type=\"text/javascript\"></script>\n<script src=\"/assets/vendor/fingerprintjs2/fingerprint2.js?cv=20221004_000001\" type=\"text/javascript\"></script>\n<script src=\"/assets/js/lib/core/fingerprint.js?cv=20221004_000001\" type=\"text/javascript\"></script>\n<!-- START OF Angular bundle assets -->\n<script charset=\"utf-8\" defer=\"\" src=\"/assets/dist/ng-new/runtime.js?cv=20221004_000001\" type=\"text/javascript\"></script>\n<script charset=\"utf-8\" defer=\"\" src=\"/assets/dist/ng-new/polyfills.js?cv=20221004_000001\" type=\"text/javascript\"></script>\n<script charset=\"utf-8\" defer=\"\" src=\"/assets/dist/ng-new/main.js?cv=20221004_000001\" type=\"text/javascript\"></script>\n<!-- END OF Angular bundle assets -->\n<!-- Usabilla Combicode for IEEE-->\n<!-- Begin Usabilla for Websites embed code -->\n<script type=\"text/javascript\">/*{literal}<![CDATA[*/window.lightningjs||function(c){function g(b,d){d&&(d+=(/\\?/.test(d)?\"&\":\"?\")+\"lv=1\");c[b]||function(){var i=window,h=document,j=b,g=h.location.protocol,l=\"load\",k=0;(function(){function b(){a.P(l);a.w=1;c[j](\"_load\")}c[j]=function(){function m(){m.id=e;return c[j].apply(m,arguments)}var b,e=++k;b=this&&this!=i?this.id||0:0;(a.s=a.s||[]).push([e,b,arguments]);m.then=function(b,c,h){var d=a.fh[e]=a.fh[e]||[],j=a.eh[e]=a.eh[e]||[],f=a.ph[e]=a.ph[e]||[];b&&d.push(b);c&&j.push(c);h&&f.push(h);return m};return m};var a=c[j]._={};a.fh={};a.eh={};a.ph={};a.l=d?d.replace(/^\\/\\//,(g==\"https:\"?g:\"http:\")+\"//\"):d;a.p={0:+new Date};a.P=function(b){a.p[b]=new Date-a.p[0]};a.w&&b();i.addEventListener?i.addEventListener(l,b,!1):i.attachEvent(\"on\"+l,b);var q=function(){function b(){return[\"<head></head><\",c,' onload=\"var d=',n,\";d.getElementsByTagName('head')[0].\",d,\"(d.\",g,\"('script')).\",i,\"='\",a.l,\"'\\\"></\",c,\">\"].join(\"\")}var c=\"body\",e=h[c];if(!e)return setTimeout(q,100);a.P(1);var d=\"appendChild\",g=\"createElement\",i=\"src\",k=h[g](\"div\"),l=k[d](h[g](\"div\")),f=h[g](\"iframe\"),n=\"document\",p;k.style.display=\"none\";e.insertBefore(k,e.firstChild).id=o+\"-\"+j;f.frameBorder=\"0\";f.id=o+\"-frame-\"+j;/MSIE[ ]+6/.test(navigator.userAgent)&&(f[i]=\"javascript:false\");f.allowTransparency=\"true\";l[d](f);try{f.contentWindow[n].open()}catch(s){a.domain=h.domain,p=\"javascript:var d=\"+n+\".open();d.domain='\"+h.domain+\"';\",f[i]=p+\"void(0);\"}try{var r=f.contentWindow[n];r.write(b());r.close()}catch(t) { f[i]=p+'d.write(\"'+b().replace(/\"/g,String.fromCharCode(92)+'\"')+'\");d.close();'}a.P(2)}; a.l&&setTimeout(q,0)})()}();c[b].lv=\"1\";return c[b]}var o=\"lightningjs\",k=window[o]=g(o);k.require=g;k.modules=c}({}); if(!navigator.userAgent.match(/Android|BlackBerry|BB10|iPhone|iPad|iPod|Opera Mini|IEMobile/i)) {window.usabilla_live = lightningjs.require(\"usabilla_live\", \"//w.usabilla.com/e9930a118e08.js\"); } else {window.usabilla_live = lightningjs.require(\"usabilla_live\", \"//w.usabilla.com/118ca38ae742.js\"); }/*]]>{/literal}*/</script>\n<!-- end usabilla live embed code -->\n<!-- START: Bombora tagging integration XPL-25079-->\n<script type=\"text/javascript\">\n\t(function (w,d,t) {\n\t\t_ml = w._ml || {};\n\t\t_ml.eid = '82420';\n\t\tvar s, cd, tag; s = d.getElementsByTagName(t)[0]; cd = new Date();\n\t\ttag = d.createElement(t); tag.async = 1;\n\t\ttag.src = 'https://ml314.com/tag.aspx?' + cd.getDate() + cd.getMonth();\n\t\ts.parentNode.insertBefore(tag, s);\n\t})(window,document,'script');\n</script>\n<!-- END: Bombora Tagging Integration-->\n<div id=\"popup_overlay\" style=\"width: 1263px;\"></div>\n<g:compress>\n<script charset=\"utf-8\" src=\"/assets/vendor/modernizr/modernizr.js?cv=20221004_000001\" type=\"text/javascript\"></script>\n<script charset=\"utf-8\" src=\"/assets/js/vendor.js?cv=20221004_000001\" type=\"text/javascript\"></script>\n<script>\n\tvar $j = jQuery.noConflict();\n\tvar j$ = jQuery.noConflict();\n\tvar membershipIncomplete;\n    var IS_INDIVIDUAL_USER=false;\n\n\tvar searchPropertiesParamQueryText = 'queryText';\n\tvar searchPropertiesParamNewSearch = 'newsearch';\n\tvar searchPropertiesParamMatchBoolean = 'matchBoolean';\n\tvar searchPropertiesParamSearchWithin = 'searchWithin';\n\tvar searchInterfaceArticleIndexTermReference = 'Search_Index_Terms';\n\tvar searchPropertiesParamRecordsPerPage = 'rowsPerPage';\n\tvar searchPropertiesParamPageNumber = 'pageNumber';\n\tvar searchPropertiesParamRemoveRefinement = 'removeRefinement';\t\n\tvar searchPropertiesParamSearchField = 'searchField';\n\tvar searchPropertiesParamArticleNumber = 'arnumber';\n\t\n\tvar authorsGetDisplay = 'Authors';\n\tvar authorsFirstNameProperty = 'First Name';\n\tvar authorsLastNameProperty = 'Last Name';\n\tvar authorsMiddleNameProperty = 'Middle Name';\n\tvar pubTitleDispNameProperty = 'Publication Title';\n\tvar volumeDispNameProperty = 'Volume';\n\tvar issueDispNameProperty = 'Issue';\n\tvar startPageDispNameProperty = 'Start Page';\n\tvar endPageDispNameProperty = 'Start Page';\n\n\tvar searchIcsTermProperty = 'Standards ICS Terms';\n\tvar SearchMapperParamSearchField = 'searchField';\n\t\n\tvar SearchMapperParamNewSearch = 'newsearch';\n\tvar SearchMapperParamArticleNumber = 'arnumber';\t\n\t\t\n\t\n\t\n\tvar NTPT_IMAGE_LOCATION = '';\n\tvar XPLORE_SSL_HOST = 'https://ieeexplore.ieee.org';\t\n\t\n\tvar SSL_YES_NO = 'yes';\n\tif (SSL_YES_NO.toUpperCase() == \"NO\"){\n\t\tvar XPLORE_SSL_YES_NO = false;\n\t}else{\n\t\tvar XPLORE_SSL_YES_NO = true;\n\t}\n\tvar WEBSERVICES_SSL_YES_NO = 'yes';\n\tif (WEBSERVICES_SSL_YES_NO.toUpperCase() == \"NO\"){\n\t\tvar XPLORE_WEBSERV_YES_NO = false;\n\t}else{\n\t\tvar XPLORE_WEBSERV_YES_NO = true;\n\t}\n\t\n\tvar AUTHOR_PROFILE = 'ON';\n\tif (AUTHOR_PROFILE.toUpperCase() == \"OFF\"){\n\t\tvar AUTHOR_PROFILE_ENABLED = false;\n\t}else{\n\t\tvar AUTHOR_PROFILE_ENABLED = true;\n\t}\n\n\tvar IMAGE_SEARCH_FLAG = 'OFF';\n\tif (IMAGE_SEARCH_FLAG.toUpperCase() == \"ON\"){\n\t\tvar IMAGE_SEARCH_ENABLED = true;\n\t} else {\n\t\tvar IMAGE_SEARCH_ENABLED = false;\n\t}\n\t\n\tvar ILN_ENABLED = true;\n\t\n\t\n\tvar IBP_MEMBEER_SIGNIN_TIME_WAIT_IN_MILLIES = '800';\n\tvar ASSETS_RELATIVE_PATH = '/assets'; // NOTE: AngularJS code relies on this\n\tvar ASSETS_RELATIVE_PATH_NO_SERVER = '/assets';\n\tvar ASSETS_VERSION = '20221004_000001'; // NOTE: AngularJS code relies on this\n\tvar IBP_WS_ASSETS='https://www.ieee.org';\n\tvar IBP_WS_ENABLED_FLAG = true;\n\tvar ENTERPRISE_CART_URL = 'https://www.ieee.org/cart/public/myCart/page.html?refSite=http://ieeexplore.ieee.org&refSiteName=IEEE%20Xplore';\n\tvar IEEE_USER_INFO_COOKIE = 'ieeeUserInfoCookie';\n\t\n\tvar ACC_MGMT_NEW = true;\n\tif (! XPLORE_WEBSERV_YES_NO) {\n\t\tvar ACC_MGMT_NEW = 'false';\n\t}\n\tvar ACC_MGMT_CREATE_URL = 'https://www.ieee.org/profile/public/createwebaccount/showCreateAccount.html?ShowMGAMarkeatbilityOptIn=true&sourceCode=xplore&car=IEEE-Xplore&autoSignin=Y';\n\tvar ACC_MGMT_FORGOT_PASSWD_URL = 'https://www.ieee.org/profile/public/forgotpassword/forgotUsernamePassword.html?sourceCode=xplore';\n\n\tvar SPECIAL_CHARACTER_MAPS = '&:.AND.,=:.EQ.,+:.PLS.,#:.HSH.';\n\tvar SPECIAL_CHARACTERS = new Array();\n\tvar SPECIAL_CHARACTER_REPLACEMENTS = new Array();\n\tvar characterMaps = SPECIAL_CHARACTER_MAPS.split(\",\");\n\tfor (var i = 0; i < characterMaps.length; i++) {\n\t\tparts = characterMaps[i].split(\":\");\n\t\tSPECIAL_CHARACTERS[i] = parts[0];\n\t\tSPECIAL_CHARACTER_REPLACEMENTS[i] = parts[1];\n\t}\n\n\tvar MAX_WILDCARDS = '8';\n\tvar MAX_SEARCH_TERMS = '25';\n\tvar ALL_SEARCH_FIELDS = 'Search_Index_Terms:Index Terms,Search_All_Text:Full Text & Metadata,Search_All:All Metadata,fullText:Full Text Only,Search_Publication_Title:Search Publication Title,Search_Related_Terms:Search Related Terms,Search_Authors:Author Name,Search_Standard_Ics_Title:ICE Terms,Search_Unsilo:Search Unsilo,Search_Unsilo_Index_Terms:Index Terms,Search_Inspec:Search Inspec,Search_Inspec_Index_Terms:Index Terms,Search_Mai:Search Mai,Search_Mai_Index_Terms:Index Terms,promoTopic:Custom Search,id:Article Number,moduleNumber:Module Number,part_num:Part_Num,issn:ISSN,isbn:ISBN,eisbn:EISBN,issueId:IS Number,pubIssueId:Pub Issue Id,accessionNumber:Accession Number,copyrightHolder:Copyright Holder,copyrightYear:Copyright Year,license:License,documentAbstract:Abstract,publicationId:Publication Number,parentPublicationId:Parent Publication Number,parentId:Parent Id,standardArticleId:Standard Article Id,title:Document Title,parentTitle:Parent Publication Title,parentDisplayTitle:Parent Display Title,publicationTitle:Publication Title,publicationDisplayTitle:Publication Display Title,volume:Volume,issue:Issue,paddedIssueNumber:Padded Issue Number,part:Part,startPage:Start Page,endPage:End Page,filePath:File Path,publicationDate:Publication Date,PublicationYear:Publication Year,onlineDate:Online Date,month:Month,Author:Author Pref Names,authorNormNames:Author Norm Names,author:Authors,authorIds:Author Ids,firstName:First Name,middleName:Middle Name,lastName:Last Name,authorAffiliations:Author Affiliations,authorBio:Author Bio,authorImg:Author Img,referenceCount:Reference Count,citationCount:Citation Count,downloadCount:Download Count,patentCount:Patent Count,multimediaFlag:Multimedia Flag,biomedicalEngFlag:Biomedical Eng Flag,nonIeee:Non IEEE,stdsProductNumber:STDS Product Number,bmsProductNumber:Bms Product Number,status:Status,doi:DOI,articleDoi:Article DOI,publicationDoi:Publication DOI,pdfPath:Pdf Path,pdfSize:Pdf Size,contentSubtype:Content Subtype,Publisher:Publisher,ControlledTerms:INSPEC Controlled Terms,freeTerms:INSPEC Non-Controlled Terms,ieeeTerms:IEEE Terms,authorTerms:Author Keywords,maiTerms:MAI Terms,meshTerms:Mesh_Terms,pacsTerms:PACS Terms,insertDate:Insert Date,ConferenceLocation:Conference Location,indexContent:Index Content,coden:CODEN,documentText:Document Text,standardNumber:Standard Number,preprintFlag:Preprint Flag,rapidPostFlag:Rapid Post Flag,lastUpdate:Last Update,newFlag:New Flag,openAccessFlag:Open Access Flag,publicationOpenAccess:Publication Open Access,promoFlag:Promo Flag,pubmedId:Pubmed Id,duration:Duration,society:Society,conference:Conference,ConferenceCountry:ConferenceCountry,conferenceStartDate:Conference Start Date,conferenceEndDate:Conference End Date,societyUrl:Society URL,idSubject:Id Subject,bookNumber:Book Number,pages:Pages,editionNumber:Edition Number,sequence:Sequence,relatedInfoType:Related Info Type,relatedInfo:Related Info,formatIsbn:Format ISBN,meetingDate:Meeting Date,courseLevel:Course level,courseParts:Course Parts,courseId:Course ID,aboutUrl:About Url,additionalUrl:Additional Url,authorsUrl:Authors Url,openAccessUrl:Open Access Url,openAccessFlag:Open Access flag,partnumVendorurlMediatype:Partnum VendorURL MediaType,brandingImageFile:Branding Image File,coverImageFile:Cover Image File,latestIssueCoverImage:Latest Issue Cover Image,frequency:Frequency,fieldOfInterest:Field Of Interest,gParentPublicationNumber:G Parent Publication Number,msUrl:Ms Url,publicationRelationship:Relationship,societyImage:Society Image,visitUrl:Visit Url,visitWebsite:Visit Website,startYear:Start Year,endYear:End Year,publicationInactive:Publication Inactive,recordType:Record Type,epub:Epub,picCodeDescription:Pic Code Description,picCode:Pic Code,sponsors:Sponsors,issueNotes:Notes,conferenceDate:Conference Date,publicationContact:Publication Contact,isbuyable:isBuyable,standardRelationships:Standard Relationships,unavailableForSale:Unavailable for Sale,availableForSale:Available for Sale,standardFamily:Standard Family,standardGroup:Standard Group,productUrl:Product Url,isbnMediatype:ISBN MediaType,htmlFlag:Html Flag,rightslinkFlag:Rightslink Flag,pageCount:Page Count,name:Name,tableOfContents:Table of Contents,timeStamp:Time Stamp,subTitle:Sub Title,relatedItem:Related Item,referenceMaterial:Reference Material,latestIssueTime:Latest Issue Time,startYear:First Published Year,insertDate:Search Latest Date,pbdFlag:Pbd Flag,lmsUrl:Lms Url,currentVolume:Current Volume,graphicalFile:Graphical File,graphicalCoverImage:Graphical Cover Image,graphicalSummary:Graphical Summary,graphicalType:Graphical Type,graphicalAbstractFile:Graphical Abstract File,graphicalAbstractImage:Graphical Abstract Image,graphicalAbstractType:Graphical Abstract Type,graphicalAbstractSummary:Graphical Abstract Summary,authorNativeNames:Native Name,externalId:Article Page Number,standardBundles:Standard Bundles,standardBundleParts:Standard Bundle Parts,virtualTitle:Virtual Title,seriesName:Series Name,seriesId:Series Id,mlHtmlFlag:ML Html flag,promoDates:Promo Dates,promoStartDate:Promo Start Date,promoEndDate:Promo End Date,issueCompleteFlag:Issue Complete Flag,scope:Scope,purpose:Purpose,standardFamilyTitle:Standard Family Title,thumbnailImg:Thumbnail Img,supplementFile:Supplement File,courseFile:Course File,supplement:Supplement,courseAuthor:Course Author,pdhs:Pdhs,ceus:Ceus,courseFirstFrame:FirstFrame Img,idSubTopic:Id Sub Topic,certificateUrl:Certificate Url,standardRoot:Standard Root,icsTerms:Standards ICS Terms,impactStatement:Impact Statement,plagiarizedFlag:Plagiarized Flag,affirmedDate:Affirmed Date,sourcePdf:Source Pdf,orcid:Author ORCID,algorithmFlag:Algorithm Flag,fundingAgency:Funding Agency,funder:Funder,pricingKey:Map Pricing Key,publicationRollup:Rollup Key,collection:Collection,previewImage:Preview Image,regularDate:Regular Date,ContentType:Content Type,ringgoldIds:Ringgold ID,figures:Figures,mediaPath:Media Path,publicationVolumeOnly:Publication Volume Only,Search_All:All Metadata,Search_All_Text:Full Text & Metadata,fullText:Full Text Only,TypeAheadTerms:Type Ahead Terms,IeeeTerm:IEEE Term,ContentType:Content Type,Author:Author,Affiliation:Affiliation,Topic:Topic,PublicationTitle:Publication Title,PublicationYear:Year,Publisher:Publisher,ConferenceCountry:Conference Country,ConferenceLocation:Conference Location,StandardStatus:Standard Status,ConferenceYear:Conference Year,PublicationPackage:Subscribed Content,StandardPackage:Standard Package,ReadingRoom:Reading Room,StandardTitle:Standard Title,StdDictionaryTerms:Standards Dictionary Terms,TitleRange:Publication Range,StandardRange:Standard Range,RecordType:Record Type,MediaType:Media Type,BookType:Book Type,CourseType:Course Type,PublicationStandardRange:Publication Standard Range,PerpetualYear:Perpetual Year,OpacTitleRange:Opac Title Range,BookSeries:Book Series,SubjectCategory:Subject Category,Sessions:Sessions,TypeAheadPublication:Type Ahead Publication,SubTopic:Sub Topic,CourseDuration:Course Duration,CourseLevel:Course Level,StandardType:Standard Type,StandardSubtype:Standard SubType,StandardModifier:Standard Modifier,IcsTerms1:Ics Terms 1,IcsTerms2:Ics Terms 2,IcsTerms3:Ics Terms 3,SupplementalItem:Supplemental Items,CourseDuration:Course Duration,SpecialSection:Topics,SocietySection:Society Sections,ControlledTerms:Publication Topics';\n\tvar SEARCH_FIELD_REFERENCES = new Array();\n\tvar SEARCH_FIELD_DISPLAYS = new Array();\n\tvar searchFields = ALL_SEARCH_FIELDS.split(\",\");\n\tfor (var j = 0; j < searchFields.length; j++) {\n\t\tparts = searchFields[j].split(\":\");\n\t\tSEARCH_FIELD_REFERENCES[j] = parts[0];\n\t\tSEARCH_FIELD_DISPLAYS[j] = parts[1];\n\t}\n\t\n\n\tvar refSite='https://ieeexplore.ieee.org';\n\tvar refSiteName=\"IEEE Xplore\";\n\tvar applicationName = 'Xplore';\n\tvar MC_OPERATION_DELAY_TIMEOUT='5000';\n\tvar MC_ADDING_DELAY_MSG='Please wait.The selected item(s) is being added to the cart.';\n\tvar MC_TIMEOUT='60000';\n\tvar MC_OPERATION_DELAY_MSG_FLAG='true';\n\n\tvar MEMBER_PROFILE_CHANGE_USERNAMEPASS_LINK = 'https://www.ieee.org/profile/changeusrpwd/showChangeUsrPwdPage.html?refSite=http://ieeexplore.ieee.org&refSiteName=IEEE Xplore';\n\tvar MEMBER_MY_PROFILE ='https://www.ieee.org/profile/myprofile/myprofile.html?refSite=http://ieeexplore.ieee.org&refSiteName=IEEE Xplore';\n\tvar MEMBER_PROFILE_ADDRESSINFO_LINK = 'https://www.ieee.org/profile/address/getAddrInfoPage.html?refSite=http://ieeexplore.ieee.org&refSiteName=IEEE Xplore';\n\tvar MEMBER_PROFILE_PAYMENTINFO_LINK = 'https://www.ieee.org/profile/payment/showPaymentHome.html?refSite=http://ieeexplore.ieee.org&refSiteName=IEEE Xplore';\n\tvar MEMBER_PROFILE_ORDER_HISTORY_LINK = 'https://www.ieee.org/profile/vieworder/showOrderHistory.html?refSite=http://ieeexplore.ieee.org&refSiteName=IEEE Xplore';\n\tvar MEMBER_USER_COMMUNICATION_LINK = 'https://www.ieee.org/ieee-privacyportal/app/ibp?refSite=http://ieeexplore.ieee.org&refSiteName=IEEE Xplore';\n\tvar MEMBER_EDUCATIONAL_PROFILE_LINK = 'https://www.ieee.org/profile/profedu/getProfEduInformation.html?refSite=http://ieeexplore.ieee.org&refSiteName=IEEE Xplore';\n\tvar MEMBER_TECHNICAL_INTERESTS_LINK = 'https://www.ieee.org/profile/tips/getTipsInfo.html?refSite=http://ieeexplore.ieee.org&refSiteName=IEEE Xplore';\n\tvar HELPFILE_RELATIVE_PATH = '/Xplorehelp';\n\t\n\t//content types\n\tvar CONTENT_TYPE_PARAM = 'contentType';\n\tvar CONTENT_TYPE_BOOKS = 'Books';\n\tvar CONTENT_TYPE_COURSES = 'Courses';\n\tvar CONTENT_TYPE_STANDARDS = 'Standards';\n\tvar CONTENT_TYPE_CONFERENCES = 'Conferences';\n\tvar CONTENT_TYPE_JOURNALS = 'Journals';\n\tvar CONTENT_TYPE_EARLY_ACCESS = 'Early Access Articles';\n\t\n\t//User Preferences\n\tvar citFormat = \"\";\n\tvar dlFormat = \"\";\n\tvar myProjectLimit = 15;\n\tvar myProjectDocumentLimit = 1000;\n\tvar myProjectDocumentTagLimit = 50;\n\t\n\t\n\t//Google ReCaptcha public Key \n\tvar RECAPTCHA_PUBLIC_KEY = '6Ld6GEUUAAAAALdaAmeGUhZyz1KFFHnd5oCaTW-t';\n\n\tvar seamlessAccessPersistenceUrl = 'https://service.seamlessaccess.org/ps/';\n</script>\n<script charset=\"utf-8\" src=\"/assets/dist/js/history.js?cv=20221004_000001\" type=\"text/javascript\"></script>\n<script charset=\"utf-8\" src=\"/assets/js/lib/conditional/cartScroll.js?cv=20221004_000001\" type=\"text/javascript\"></script>\n<script charset=\"utf-8\" src=\"/assets/js/lib/conditional/minicart.js?cv=20221004_000001\" type=\"text/javascript\"></script>\n<script charset=\"utf-8\" src=\"/assets/dist/js/core.js?cv=20221004_000001\" type=\"text/javascript\"></script>\n<script charset=\"utf-8\" src=\"/assets/dist/js/ads.js?cv=20221004_000001\" type=\"text/javascript\"></script>\n<script charset=\"utf-8\" src=\"/assets/dist/js/master.js?cv=20221004_000001\" type=\"text/javascript\"></script>\n<script>\n\nj$('document').ready(function(){\n\tif (Cookies.get('legacyUserName')) {\n\t\tif (IBP_WS_ENABLED_FLAG){\n\t\t\tModal.refreshLegacyAccountTransition('/xpl/mwLegacyAccountTransition.jsp');\n\t\t}\n\t}\n});\n\n</script>\n</g:compress>\n<script>\n\t// Get/Set XPL namespace.\n\twindow.xpl = window.xpl || {};\n\t\n\t// Set constants/application properties.\n\txpl.properties = { \n\t\t\tcollabratec: { \n\t\t\t\t\turl: 'https://ieee-collabratec.ieee.org/app/library'\n\t\t\t}\n\t};\n\t\n\txpl.properties.details = {\n\t\t\toqs: ''\n\t};\n</script>\n<!--Begin Optional Configuration-->\n<script src=\"https://www.ieee.org/ieee-mashup/js/common/jquery.json-2.2.min.js\" type=\"text/javascript\"></script>\n<script src=\"https://www.ieee.org/ieee-mashup/js/common/postmessage-min.js\" type=\"text/javascript\"></script>\n<script src=\"https://www.ieee.org/ieee-mashup/js/common/jquery.cookie-min.js\" type=\"text/javascript\"></script>\n<script src=\"https://www.ieee.org/ieee-mashup/js/auth/ieee-auth-constants-min.js\" type=\"text/javascript\"></script>\n<script src=\"https://www.ieee.org/ieee-mashup/js/auth/ieee-auth-include-min.js\" type=\"text/javascript\"></script>\n<script src=\"https://www.ieee.org/ieee-mashup/js/minicart/ieee-mini-cart-constants-min.js\" type=\"text/javascript\"></script>\n<script src=\"https://www.ieee.org/ieee-mashup/js/minicart/ieee-mashup-util-min.js\" type=\"text/javascript\"></script>\n<script src=\"https://www.ieee.org/ieee-mashup/js/common/jquery.ba-jqmq-min.js\" type=\"text/javascript\"></script>\n<script src=\"https://www.ieee.org/ieee-mashup/js/minicart/ieee-minicart-include-min.js\" type=\"text/javaScript\"> </script>\n<!--End Optional Configuration-->\n<!-- Removed due to network issues when loading in China -->\n<!-- <script type=\"text/javascript\" src=\"http://s7.addthis.com/js/250/addthis_widget.js#pubid=ra-5005a435228f9245\" async=\"async\"></script>-->\n<!-- Load Mathjax and process the document for Mathjax characters -->\n<!-- <script type=\"text/javascript\" src=\"/xploreAssets/MathJax-274/MathJax.js?config=default\"></script> -->\n<script defer=\"\">\n\tMathJax.Hub.Queue([\"Typeset\", MathJax.Hub, document.body]);\n</script>\n</div>\n</div>\n</div>\n<script>\n\t\t\t\t\t// set $ alias back to jQuery because noConflict mode is used in legacy pages\n\t\t\t\t\twindow.$ = jQuery;\n\t\t\t\t</script>\n</div><!-- /#LayoutWrapper -->\n</body>\n</html>"
     },
     "execution_count": 353,
     "metadata": {},
     "output_type": "execute_result"
    }
   ],
   "source": [
    "soup_paper1 = get_bs(paper1)\n",
    "soup_paper2 = get_bs(paper2)\n",
    "soup_conference1 = get_bs(conference1)\n",
    "soup_conference2 = get_bs(conference2)\n",
    "ieee_soups = [soup_paper1, soup_paper2, soup_conference1, soup_conference2]\n",
    "soup_paper1"
   ],
   "metadata": {
    "collapsed": false,
    "pycharm": {
     "name": "#%%\n"
    }
   }
  },
  {
   "cell_type": "markdown",
   "source": [
    "The json object can be found: xplGlobal.document.metadata={...} in the HTML. We can use a regular expression to extract it."
   ],
   "metadata": {
    "collapsed": false,
    "pycharm": {
     "name": "#%% md\n"
    }
   }
  },
  {
   "cell_type": "code",
   "execution_count": 354,
   "outputs": [],
   "source": [
    "def get_json_data(url):\n",
    "    \"\"\"\n",
    "    Extracts the json object with meta data from the page and parses it to a dict.\n",
    "    :param url: URL of th publication\n",
    "    :return: Dict with content of the JSON object\n",
    "    \"\"\"\n",
    "    # extract the line of the text containing the json object\n",
    "    headers = {\n",
    "        'User-Agent': 'Mozilla/5.0 (Macintosh; Intel Mac OS X 10_15_7) AppleWebKit/605.1.15 (KHTML, like Gecko) Version/15.5 Safari/605.1.15'}\n",
    "    try:\n",
    "        r = requests.get(url, headers=headers)\n",
    "        print(r.status_code)\n",
    "        if r.status_code != 200:\n",
    "            raise Exception('Connection not successful - Status code not 200')\n",
    "    except Exception as e:\n",
    "        print('Error: ', e)\n",
    "        print('Error: ', url)\n",
    "        return None\n",
    "    html_text = r.text\n",
    "    json_data_regex_pattern = re.compile(r'xplGlobal.document.metadata=.*};')\n",
    "    json_regex_matches = re.findall(json_data_regex_pattern, html_text)\n",
    "\n",
    "    assert len(json_regex_matches) == 1\n",
    "\n",
    "    json_string = json_regex_matches[0]\n",
    "    json_string = json_string.removeprefix('xplGlobal.document.metadata=')  # remove JS prefix\n",
    "    # delete backslashes from json_result stjson_string\n",
    "    #json_result = json_result.replace('\\\\', '')\n",
    "    # remove last character of json_result\n",
    "    json_string = json_string.removesuffix(';')  # remove semicolon at the end\n",
    "    json_parsed = json.loads(json_string)\n",
    "    assert (isinstance(json_parsed, dict))\n",
    "    return json_parsed"
   ],
   "metadata": {
    "collapsed": false,
    "pycharm": {
     "name": "#%%\n"
    }
   }
  },
  {
   "cell_type": "markdown",
   "source": [
    "Test the function"
   ],
   "metadata": {
    "collapsed": false,
    "pycharm": {
     "name": "#%% md\n"
    }
   }
  },
  {
   "cell_type": "code",
   "execution_count": 355,
   "outputs": [
    {
     "name": "stdout",
     "output_type": "stream",
     "text": [
      "200\n",
      "200\n",
      "200\n",
      "200\n"
     ]
    }
   ],
   "source": [
    "json_paper1 = get_json_data(paper1)\n",
    "json_paper2 = get_json_data(paper2)\n",
    "json_conference1 = get_json_data(conference1)\n",
    "json_conference2 = get_json_data(conference2)\n",
    "\n",
    "ieee_jsons = [json_paper1, json_paper2, json_conference1, json_conference2]"
   ],
   "metadata": {
    "collapsed": false,
    "pycharm": {
     "name": "#%%\n"
    }
   }
  },
  {
   "cell_type": "code",
   "execution_count": 356,
   "outputs": [
    {
     "name": "stdout",
     "output_type": "stream",
     "text": [
      "Big Universe, Big Data: Machine Learning and Image Analysis for Astronomy\n",
      "Bridging the Gap Between Manufacturing and Service Through IT-Based Boundary Objects\n",
      "Approximate Nearest-Neighbour Fields via Massively-Parallel Propagation-Assisted K-D Trees\n",
      "Resilient K-d Trees: K-Means in Space Revisited\n"
     ]
    }
   ],
   "source": [
    "# Quick check\n",
    "for json_data in ieee_jsons:\n",
    "    print(json_data.get('title'))"
   ],
   "metadata": {
    "collapsed": false,
    "pycharm": {
     "name": "#%%\n"
    }
   }
  },
  {
   "cell_type": "code",
   "execution_count": 357,
   "outputs": [],
   "source": [
    "# testing\n",
    "def test_function_on_publication_links(function):\n",
    "    for x in ieee_links:\n",
    "        print(function(x))\n",
    "\n",
    "\n",
    "def test_function_on_publication_soups(function):\n",
    "    for x in ieee_soups:\n",
    "        function(x)\n",
    "\n",
    "\n",
    "def test_function_on_publication_jsons(function):\n",
    "    print(f'Function: {function.__name__} \\n')\n",
    "    for idx, x in enumerate(ieee_jsons):\n",
    "        print(f'Publication No. {idx + 1}:')\n",
    "        print(function(x), '\\n')\n"
   ],
   "metadata": {
    "collapsed": false,
    "pycharm": {
     "name": "#%%\n"
    }
   }
  },
  {
   "cell_type": "markdown",
   "source": [
    "## Main fields\n",
    "### Authors\n"
   ],
   "metadata": {
    "collapsed": false,
    "pycharm": {
     "name": "#%% md\n"
    }
   }
  },
  {
   "cell_type": "code",
   "execution_count": 359,
   "outputs": [],
   "source": [
    "def get_authors(json_data):\n",
    "    \"\"\"\n",
    "    Extracts the authors from the json object.\n",
    "    :param json_data: JSON object with meta data\n",
    "    :return: List of dicts with author name and their ieee id\n",
    "    \"\"\"\n",
    "    authors_raw = json_data.get('authors')\n",
    "    authors = []\n",
    "    for el in authors_raw:\n",
    "        author_name = el.get('name')\n",
    "        author_id = el.get('id')\n",
    "        authors.append({\n",
    "            'name': author_name,\n",
    "            'id_ieee': author_id\n",
    "        })\n",
    "    return authors"
   ],
   "metadata": {
    "collapsed": false,
    "pycharm": {
     "name": "#%%\n"
    }
   }
  },
  {
   "cell_type": "code",
   "execution_count": 360,
   "outputs": [
    {
     "name": "stdout",
     "output_type": "stream",
     "text": [
      "Function: get_authors \n",
      "\n",
      "Publication No. 1:\n",
      "[{'name': 'Jan Kremer', 'id_ieee': '37086104276'}, {'name': 'Kristoffer Stensbo-Smidt', 'id_ieee': '37086102090'}, {'name': 'Fabian Gieseke', 'id_ieee': '37857080600'}, {'name': 'Kim Steenstrup Pedersen', 'id_ieee': '37837129200'}, {'name': 'Christian Igel', 'id_ieee': '37281518600'}] \n",
      "\n",
      "Publication No. 2:\n",
      "[{'name': 'Jörg Becker', 'id_ieee': '37361144400'}, {'name': 'Daniel Beverungen', 'id_ieee': '37659396600'}, {'name': 'Ralf Knackstedt', 'id_ieee': '37659396300'}, {'name': 'Martin Matzner', 'id_ieee': '37659394200'}, {'name': 'Oliver Müller', 'id_ieee': '37425634600'}, {'name': 'Jens Pöppelbuß', 'id_ieee': '38230416800'}] \n",
      "\n",
      "Publication No. 3:\n",
      "[{'name': 'Cosmin Eugen Oancea', 'id_ieee': '37706606200'}, {'name': 'Ties Robroek', 'id_ieee': '37088809064'}, {'name': 'Fabian Gieseke', 'id_ieee': '37857080600'}] \n",
      "\n",
      "Publication No. 4:\n",
      "[{'name': 'Fabian Gieseke', 'id_ieee': '37857080600'}, {'name': 'Gabriel Moruz', 'id_ieee': '37992782800'}, {'name': 'Jan Vahrenhold', 'id_ieee': '37267227100'}] \n",
      "\n"
     ]
    }
   ],
   "source": [
    "test_function_on_publication_jsons(get_authors)"
   ],
   "metadata": {
    "collapsed": false,
    "pycharm": {
     "name": "#%%\n"
    }
   }
  },
  {
   "cell_type": "markdown",
   "source": [
    "### Title"
   ],
   "metadata": {
    "collapsed": false,
    "pycharm": {
     "name": "#%% md\n"
    }
   }
  },
  {
   "cell_type": "code",
   "execution_count": 361,
   "outputs": [],
   "source": [
    "def get_title(json_data):\n",
    "    \"\"\"\n",
    "    Extracts the titleof the publication.\n",
    "    :param json_data: JSON object with meta data\n",
    "    :return: String\n",
    "    \"\"\"\n",
    "    return json_data.get('title')"
   ],
   "metadata": {
    "collapsed": false,
    "pycharm": {
     "name": "#%%\n"
    }
   }
  },
  {
   "cell_type": "code",
   "execution_count": 362,
   "outputs": [
    {
     "name": "stdout",
     "output_type": "stream",
     "text": [
      "Function: get_title \n",
      "\n",
      "Publication No. 1:\n",
      "Big Universe, Big Data: Machine Learning and Image Analysis for Astronomy \n",
      "\n",
      "Publication No. 2:\n",
      "Bridging the Gap Between Manufacturing and Service Through IT-Based Boundary Objects \n",
      "\n",
      "Publication No. 3:\n",
      "Approximate Nearest-Neighbour Fields via Massively-Parallel Propagation-Assisted K-D Trees \n",
      "\n",
      "Publication No. 4:\n",
      "Resilient K-d Trees: K-Means in Space Revisited \n",
      "\n"
     ]
    }
   ],
   "source": [
    "test_function_on_publication_jsons(get_title)"
   ],
   "metadata": {
    "collapsed": false,
    "pycharm": {
     "name": "#%%\n"
    }
   }
  },
  {
   "cell_type": "markdown",
   "source": [
    "### Keywords"
   ],
   "metadata": {
    "collapsed": false,
    "pycharm": {
     "name": "#%% md\n"
    }
   }
  },
  {
   "cell_type": "code",
   "execution_count": 363,
   "outputs": [],
   "source": [
    "def get_keywords(json_data):\n",
    "    \"\"\"\n",
    "    Extracts the keywords from the json object. \\n\n",
    "    There are multiple types of keywords merged. Can de split when demanded.\n",
    "    :param json_data: JSON object with meta data\n",
    "    :return: List of strings\n",
    "    \"\"\"\n",
    "    keywords_raw = json_data.get('keywords')\n",
    "    keywords = []\n",
    "    for el in keywords_raw:\n",
    "        keywords.extend(el.get('kwd'))\n",
    "    return keywords"
   ],
   "metadata": {
    "collapsed": false,
    "pycharm": {
     "name": "#%%\n"
    }
   }
  },
  {
   "cell_type": "code",
   "execution_count": 364,
   "outputs": [
    {
     "name": "stdout",
     "output_type": "stream",
     "text": [
      "Function: get_keywords \n",
      "\n",
      "Publication No. 1:\n",
      "['Extraterrestrial measurements', 'Telescopes', 'Image analysis', 'Extrasolar planets', 'Big data', 'Astronomy', 'Computer vision', 'Machine learning', 'astronomical image processing', 'Big Data', 'learning (artificial intelligence)', 'Big Data', 'machine learning', 'image analysis', 'astronomy', 'digital cameras', 'aperture telescopes', 'image analysis algorithms', 'computer science research', 'data analysis', 'cosmology', 'astrophysics', 'big data', 'astronomy', 'machine learning', 'computer vision', 'intelligent systems'] \n",
      "\n",
      "Publication No. 2:\n",
      "['Communities', 'Recycling', 'Manufacturing', 'Companies', 'Information management', 'Analytical models', 'manufacturing industries', 'service industries', 'manufacturing companies', 'service companies', 'IT-based boundary objects', 'integrated solution', 'complementary resources', 'supply chain management', 'business process management', 'systematic identification', 'service blueprinting', 'boundary-spanning process', 'cyclic action research project', 'business-to-business service networks', 'mechanical engineering industry', 'electrical engineering industry', 'Action research', 'boundary spanning', 'business process management (BPM)', 'service blueprinting', 'service networks'] \n",
      "\n",
      "Publication No. 3:\n",
      "['Computer vision', 'Satellites', 'Memory management', 'Big Data', 'Task analysis', 'Standards', 'Monitoring', 'approximation theory', 'computational complexity', 'computer vision', 'graphics processing units', 'image resolution', 'multiprocessing systems', 'nearest neighbour methods', 'trees (mathematics)', 'image quality standards', 'approximate nearest-neighbour fields', 'nearest neighbour fields', 'computer vision', 'induced computational complexity', 'modern parallel devices', 'practical run time', 'compute-intensive tasks', 'parallel implementation', 'computational savings', 'corresponding multicore implementation', 'high-resolution image data', 'massively-parallel propagation-assisted k-d trees', 'nearest neighbour fields', 'propagation-assisted k-d trees', 'high-performance computing', 'computer vision'] \n",
      "\n",
      "Publication No. 4:\n",
      "['Random access memory', 'Indexes', 'Clustering algorithms', 'Filtering algorithms', 'Arrays', 'Buildings', 'Runtime', 'data analysis', 'pattern clustering', 'tree data structures', 'memory corruption', 'linear space', 'data structure', 'high radiation environment', 'resiliency rate', 'revisited space', 'resilient k-d tree', 'k-means', 'k-d tree', 'resilient algorithm', 'clustering'] \n",
      "\n"
     ]
    }
   ],
   "source": [
    "test_function_on_publication_jsons(get_keywords)"
   ],
   "metadata": {
    "collapsed": false,
    "pycharm": {
     "name": "#%%\n"
    }
   }
  },
  {
   "cell_type": "markdown",
   "source": [
    "### Abstract"
   ],
   "metadata": {
    "collapsed": false,
    "pycharm": {
     "name": "#%% md\n"
    }
   }
  },
  {
   "cell_type": "code",
   "execution_count": 365,
   "outputs": [],
   "source": [
    "def get_abstract(json_data):\n",
    "    \"\"\"\n",
    "    Extracts the abstract from the publicatoin.\n",
    "    :param json_data: JSON object with meta data\n",
    "    :return: String\n",
    "    \"\"\"\n",
    "    return json_data.get('abstract')"
   ],
   "metadata": {
    "collapsed": false,
    "pycharm": {
     "name": "#%%\n"
    }
   }
  },
  {
   "cell_type": "code",
   "execution_count": 366,
   "outputs": [
    {
     "name": "stdout",
     "output_type": "stream",
     "text": [
      "Function: get_abstract \n",
      "\n",
      "Publication No. 1:\n",
      "Astrophysics and cosmology are rich with data. The advent of wide-area digital cameras on large aperture telescopes has led to ever more ambitious surveys of the sky. Data volumes of entire surveys a decade ago can now be acquired in a single night, and real-time analysis is often desired. Thus, modern astronomy requires big data know-how, in particular, highly efficient machine learning and image analysis algorithms. But scalability isn't the only challenge: astronomy applications touch several current machine learning research questions, such as learning from biased data and dealing with label and measurement noise. The authors argue that this makes astronomy a great domain for computer science research, as it pushes the boundaries of data analysis. They focus here on exemplary results, discuss main challenges, and highlight some recent methodological advancements in machine learning and image analysis triggered by astronomical applications. \n",
      "\n",
      "Publication No. 2:\n",
      "Manufacturing and service companies increasingly engage in networks to provide their customers with integrated solutions. In order to leverage complementary resources and capabilities fully, the network actors must span traditional boundaries between communities of practice in manufacturing and service. Fields like supply chain management and business process management, as well as the literature on boundary spanning, offer little guidance for the systematic identification of boundary objects that could be used to bridge this gap. Drawing on existing works on boundary objects and service blueprinting, we design a new method for diagnosing boundary-spanning processes and identifying candidates for IT-based boundary objects that integrate manufacturing and service companies' subprocesses. The method was iteratively developed over a period of three years in a cyclic action research project with two business-to-business service networks in the mechanical and electrical engineering industries. \n",
      "\n",
      "Publication No. 3:\n",
      "Nearest neighbour fields accurately and intuitively describe the transformation between two images and have been heavily used in computer vision. Generating such fields, however, is not an easy task due to the induced computational complexity, which quickly grows with the sizes of the images. Modern parallel devices such as graphics processing units depict a viable way of reducing the practical run time of such compute-intensive tasks. In this work, we propose a novel parallel implementation for one of the state-of-the-art methods for the computation of nearest neighbour fields, called p ropagation-assisted k -d trees. The resulting implementation yields valuable computational savings over a corresponding multi-core implementation. Additionally, it is tuned to consume only little additional memory and is, hence, capable of dealing with high-resolution image data, which is vital as image quality standards keep rising. \n",
      "\n",
      "Publication No. 4:\n",
      "We develop a k-d tree variant that is resilient to a pre-described number of memory corruptions while still using only linear space. We show how to use this data structure in the context of clustering in high-radiation environments and demonstrate that our approach leads to a significantly higher resiliency rate compared to previous results. \n",
      "\n"
     ]
    }
   ],
   "source": [
    "test_function_on_publication_jsons(get_abstract)"
   ],
   "metadata": {
    "collapsed": false,
    "pycharm": {
     "name": "#%%\n"
    }
   }
  },
  {
   "cell_type": "markdown",
   "source": [
    "### Publisher"
   ],
   "metadata": {
    "collapsed": false,
    "pycharm": {
     "name": "#%% md\n"
    }
   }
  },
  {
   "cell_type": "code",
   "execution_count": 367,
   "outputs": [],
   "source": [
    "def get_publisher(json_data):\n",
    "    \"\"\"\n",
    "    Extracts the publisher from the publication json data.\n",
    "    :param json_data: JSON object with meta data\n",
    "    :return: String\n",
    "    \"\"\"\n",
    "    return json_data.get('publisher')"
   ],
   "metadata": {
    "collapsed": false,
    "pycharm": {
     "name": "#%%\n"
    }
   }
  },
  {
   "cell_type": "code",
   "execution_count": 368,
   "outputs": [
    {
     "name": "stdout",
     "output_type": "stream",
     "text": [
      "Function: get_publisher \n",
      "\n",
      "Publication No. 1:\n",
      "IEEE \n",
      "\n",
      "Publication No. 2:\n",
      "IEEE \n",
      "\n",
      "Publication No. 3:\n",
      "IEEE \n",
      "\n",
      "Publication No. 4:\n",
      "IEEE \n",
      "\n"
     ]
    }
   ],
   "source": [
    "test_function_on_publication_jsons(get_publisher)"
   ],
   "metadata": {
    "collapsed": false,
    "pycharm": {
     "name": "#%%\n"
    }
   }
  },
  {
   "cell_type": "markdown",
   "source": [
    "### Publication year"
   ],
   "metadata": {
    "collapsed": false,
    "pycharm": {
     "name": "#%% md\n"
    }
   }
  },
  {
   "cell_type": "code",
   "execution_count": 369,
   "outputs": [],
   "source": [
    "def get_year(json_data):\n",
    "    \"\"\"\n",
    "    Extracts the publication year from the publication json data.\n",
    "    :param json_data: JSON object with meta data\n",
    "    :return: String\n",
    "    \"\"\"\n",
    "    return json_data.get('publicationYear')"
   ],
   "metadata": {
    "collapsed": false,
    "pycharm": {
     "name": "#%%\n"
    }
   }
  },
  {
   "cell_type": "code",
   "execution_count": 370,
   "outputs": [
    {
     "name": "stdout",
     "output_type": "stream",
     "text": [
      "Function: get_year \n",
      "\n",
      "Publication No. 1:\n",
      "2017 \n",
      "\n",
      "Publication No. 2:\n",
      "2013 \n",
      "\n",
      "Publication No. 3:\n",
      "2020 \n",
      "\n",
      "Publication No. 4:\n",
      "2010 \n",
      "\n"
     ]
    }
   ],
   "source": [
    "test_function_on_publication_jsons(get_year)"
   ],
   "metadata": {
    "collapsed": false,
    "pycharm": {
     "name": "#%%\n"
    }
   }
  },
  {
   "cell_type": "markdown",
   "source": [
    "### Page ranges"
   ],
   "metadata": {
    "collapsed": false,
    "pycharm": {
     "name": "#%% md\n"
    }
   }
  },
  {
   "cell_type": "code",
   "execution_count": 371,
   "outputs": [],
   "source": [
    "def get_start_page(json_data):\n",
    "    \"\"\"\n",
    "    Extracts the start page from the publication json data.\n",
    "    :param json_data: JSON object with meta data\n",
    "    :return: String\n",
    "    \"\"\"\n",
    "    return json_data.get('startPage')"
   ],
   "metadata": {
    "collapsed": false,
    "pycharm": {
     "name": "#%%\n"
    }
   }
  },
  {
   "cell_type": "code",
   "execution_count": 372,
   "outputs": [
    {
     "name": "stdout",
     "output_type": "stream",
     "text": [
      "Function: get_start_page \n",
      "\n",
      "Publication No. 1:\n",
      "16 \n",
      "\n",
      "Publication No. 2:\n",
      "468 \n",
      "\n",
      "Publication No. 3:\n",
      "5172 \n",
      "\n",
      "Publication No. 4:\n",
      "815 \n",
      "\n"
     ]
    }
   ],
   "source": [
    "test_function_on_publication_jsons(get_start_page)"
   ],
   "metadata": {
    "collapsed": false,
    "pycharm": {
     "name": "#%%\n"
    }
   }
  },
  {
   "cell_type": "code",
   "execution_count": 373,
   "outputs": [],
   "source": [
    "def get_end_page(json_data):\n",
    "    \"\"\"\n",
    "    Extracts the end page from the publication json data.\n",
    "    :param json_data: JSON object with meta data\n",
    "    :return: String\n",
    "    \"\"\"\n",
    "    return json_data.get('endPage')"
   ],
   "metadata": {
    "collapsed": false,
    "pycharm": {
     "name": "#%%\n"
    }
   }
  },
  {
   "cell_type": "code",
   "execution_count": 374,
   "outputs": [
    {
     "name": "stdout",
     "output_type": "stream",
     "text": [
      "Function: get_end_page \n",
      "\n",
      "Publication No. 1:\n",
      "22 \n",
      "\n",
      "Publication No. 2:\n",
      "482 \n",
      "\n",
      "Publication No. 3:\n",
      "5181 \n",
      "\n",
      "Publication No. 4:\n",
      "820 \n",
      "\n"
     ]
    }
   ],
   "source": [
    "test_function_on_publication_jsons(get_end_page)"
   ],
   "metadata": {
    "collapsed": false,
    "pycharm": {
     "name": "#%%\n"
    }
   }
  },
  {
   "cell_type": "markdown",
   "source": [
    "### Publication type"
   ],
   "metadata": {
    "collapsed": false,
    "pycharm": {
     "name": "#%% md\n"
    }
   }
  },
  {
   "cell_type": "code",
   "execution_count": 375,
   "outputs": [],
   "source": [
    "def get_publication_type(json_data):\n",
    "    \"\"\"\n",
    "    Extracts the publication type from the publication json data.\n",
    "    :param json_data: JSON object with meta data\n",
    "    :return: String\n",
    "    \"\"\"\n",
    "    return json_data.get('xploreDocumentType')"
   ],
   "metadata": {
    "collapsed": false,
    "pycharm": {
     "name": "#%%\n"
    }
   }
  },
  {
   "cell_type": "code",
   "execution_count": 376,
   "outputs": [
    {
     "name": "stdout",
     "output_type": "stream",
     "text": [
      "Function: get_publication_type \n",
      "\n",
      "Publication No. 1:\n",
      "Journals & Magazine \n",
      "\n",
      "Publication No. 2:\n",
      "Journals & Magazine \n",
      "\n",
      "Publication No. 3:\n",
      "Conference Publication \n",
      "\n",
      "Publication No. 4:\n",
      "Conference Publication \n",
      "\n"
     ]
    }
   ],
   "source": [
    "test_function_on_publication_jsons(get_publication_type)"
   ],
   "metadata": {
    "collapsed": false,
    "pycharm": {
     "name": "#%%\n"
    }
   }
  },
  {
   "cell_type": "markdown",
   "source": [
    "### Full text\n",
    "### Omitted"
   ],
   "metadata": {
    "collapsed": false,
    "pycharm": {
     "name": "#%% md\n"
    }
   }
  },
  {
   "cell_type": "code",
   "execution_count": 376,
   "outputs": [],
   "source": [],
   "metadata": {
    "collapsed": false,
    "pycharm": {
     "name": "#%%\n"
    }
   }
  },
  {
   "cell_type": "markdown",
   "source": [
    "### References"
   ],
   "metadata": {
    "collapsed": false,
    "pycharm": {
     "name": "#%% md\n"
    }
   }
  },
  {
   "cell_type": "code",
   "execution_count": 377,
   "outputs": [],
   "source": [
    "def fetch_reference_data_json(json_data):\n",
    "    \"\"\"\n",
    "    Fetches the reference data from IEEE (Rest API) and returns the the dict of the json response.\n",
    "    :param json_data: JSON meta data object\n",
    "    :return: Dict\n",
    "    \"\"\"\n",
    "    id = get_publication_id(json_data)\n",
    "    url = f'https://ieeexplore.ieee.org/rest/document/{id}/references'\n",
    "    payload = ''\n",
    "    headers = {\n",
    "        'Referer': f'https://ieeexplore.ieee.org/document/{id}'\n",
    "    }\n",
    "    response = requests.request(\"GET\", url, data=payload, headers=headers)\n",
    "    reference_data = json.loads(response.text).get('references')\n",
    "    return reference_data\n"
   ],
   "metadata": {
    "collapsed": false,
    "pycharm": {
     "name": "#%%\n"
    }
   }
  },
  {
   "cell_type": "code",
   "execution_count": 378,
   "outputs": [],
   "source": [
    "def get_references(json_data):\n",
    "    \"\"\"\n",
    "    Extracts the references of a publication\n",
    "    :param json_data: JSON meta data object\n",
    "    :return: Dict\n",
    "    \"\"\"\n",
    "    try:\n",
    "        ref_raw = fetch_reference_data_json(json_data)\n",
    "    except:\n",
    "        return None\n",
    "    references = []\n",
    "    for ref in ref_raw:\n",
    "        reference_text = None\n",
    "        doi_link = None\n",
    "        google_scholar_link = None\n",
    "        reference_text = ref.get('text')\n",
    "        if ref.get('links') is not None:\n",
    "            doi_link = ref.get('links').get('crossRefLink')\n",
    "            google_scholar_link = ref.get('links').get('googleScholarLink')\n",
    "        references.append({\n",
    "            'text': reference_text,\n",
    "            'doi_link': doi_link,\n",
    "            'google_scholar_link': google_scholar_link\n",
    "        })\n",
    "    return references"
   ],
   "metadata": {
    "collapsed": false,
    "pycharm": {
     "name": "#%%\n"
    }
   }
  },
  {
   "cell_type": "code",
   "execution_count": 379,
   "outputs": [
    {
     "name": "stdout",
     "output_type": "stream",
     "text": [
      "###########################################################################\n",
      "Publikation: Big Universe, Big Data: Machine Learning and Image Analysis for Astronomy\n",
      "Referenzen: \n",
      "\n",
      "Quelle 0 : D.J. Mortlock et al., \"A Luminous Quasar at a Redshift of z = 7.085\", <em>Nature</em>, vol. 474, no. 7353, pp. 616-619, 2011.\n",
      " > DOI link: https://doi.org/10.1038/nature10159\n",
      " > google_scholar_link: None\n",
      "Quelle 1 : A.A. Collister and O. Lahav, \"ANNz: Estimating Photometric Redshifts Using Artificial Neural Networks\", <em>Publications of the Astronomical Society of the Pacific</em>, vol. 116, no. 818, pp. 345, 2004.\n",
      " > DOI link: https://doi.org/10.1086/383254\n",
      " > google_scholar_link: None\n",
      "Quelle 2 : C.J. Lintott et al., \"Galaxy Zoo: Morphologies Derived from Visual Inspection of Galaxies from the Sloan Digital Sky Survey\", <em>Monthly Notices of the Royal Astronomical Soc.</em>, vol. 389, pp. 1179-1189, 2008.\n",
      " > DOI link: https://doi.org/10.1111/j.1365-2966.2008.13689.x\n",
      " > google_scholar_link: None\n",
      "Quelle 3 : S. Dieleman et al., \"Rotation-Invariant Convolutional Neural Networks for Galaxy Morphology Prediction\", <em>Monthly Notices of the Royal Astronomical Soc.</em>, vol. 450, pp. 1441-1459, 2015.\n",
      " > DOI link: https://doi.org/10.1093/mnras/stv632\n",
      " > google_scholar_link: None\n",
      "Quelle 4 : E. Robbrecht and D. Berghmans, \"Automated Recognition of Coronal Mass Ejections (CMEs) in Near-Real-Time Data\", <em>Astronomy & Astrophysics</em>, vol. 425, pp. 1097-1106, 2004.\n",
      " > DOI link: https://doi.org/10.1051/0004-6361:20041302\n",
      " > google_scholar_link: None\n",
      "Quelle 5 : N.M. Ball and R.J. Brunner, \"Data Mining and Machine Learning in Astronomy\", <em>Int'l J. Modern Physics D</em>, vol. 19, no. 7, pp. 1049-1106, 2010.\n",
      " > DOI link: https://doi.org/10.1142/S0218271810017160\n",
      " > google_scholar_link: None\n",
      "Quelle 6 : K.S. Pedersen et al., \"Shape Index Descriptors Applied to Texture-Based Galaxy Analysis\", <em>Int'l Conf. Computer Vision (ICCV)</em>, pp. 2440-2447, 2013.\n",
      " > DOI link: https://doi.org/10.1109/ICCV.2013.303\n",
      " > google_scholar_link: None\n",
      "Quelle 7 : K. Polsterer et al., \"Automatic Classification of Galaxies via Machine Learning Techniques: Parallelized Rotation/Flipping INvariant Kohonen Maps (PINK)\", <em>Astronomical Data Analysis Software and Systems XXVI</em>, pp. 81-86, 2015.\n",
      " > DOI link: None\n",
      " > google_scholar_link: None\n",
      "Quelle 8 : J.W. Richards et al., \"Active Learning to Overcome Sample Selection Bias: Application to Photometric Variable Star Classification\", <em>Astro-physical J.</em>, vol. 744, no. 2, pp. 192-210, 2012.\n",
      " > DOI link: https://doi.org/10.1088/0004-637X/744/2/192\n",
      " > google_scholar_link: None\n",
      "Quelle 9 : J. Kremer et al., \"Nearest Neighbor Density Ratio Estimation for Large-Scale Applications in Astronomy\", <em>Astronomy and Computing</em>, vol. 12, pp. 67-72, 2015.\n",
      " > DOI link: https://doi.org/10.1016/j.ascom.2015.06.005\n",
      " > google_scholar_link: None\n",
      "Quelle 10 : K. Polsterer et al., \"Finding New High-Redshift Quasars by Asking the Neighbours\", <em>Monthly Notices of the Royal Astronomical Society</em>, vol. 428, no. 1, pp. 226-235, 2013.\n",
      " > DOI link: https://doi.org/10.1093/mnras/sts017\n",
      " > google_scholar_link: None\n",
      "Quelle 11 : F. Gieseke et al., \"Buffer k-d Trees: Processing Massive Nearest Neighbor Queries on GPUs\", <em>J. Machine Learning Research Workshop and Conf. Proc.</em>, vol. 32, no. 1, pp. 172-180, 2014.\n",
      " > DOI link: None\n",
      " > google_scholar_link: None\n",
      "Quelle 12 : F. Gieseke et al., \"Bigger Buffer k-d Trees on Multi-Many-Core Systems\", <em>Proc. Workshop Big Data & Deep Learning in HPC</em>, pp. 172-180, 2017.\n",
      " > DOI link: None\n",
      " > google_scholar_link: None\n",
      "Quelle 13 : K. Stensbo-Smidt et al., \"Nearest Neighbour Regression Outperforms Model-Based Prediction of Specific Star Formation Rate\", <em>IEEE Int'l Conf. Big Data</em>, pp. 141-144, 2013.\n",
      " > DOI link: None\n",
      " > google_scholar_link: None\n",
      "Quelle 14 : K. Stensbo-Smidt et al., \"Sacrificing Information for the Greater Good: How to Select Photometric Bands for Optimal Accuracy\", <em>Monthly Notices of the Royal Astronomical Soc.</em>, vol. 464, no. 3, pp. 2577-2596, 2017.\n",
      " > DOI link: https://doi.org/10.1093/mnras/stw2476\n",
      " > google_scholar_link: None\n",
      "\n",
      " \n",
      " \n",
      "\n",
      "###########################################################################\n",
      "Publikation: Bridging the Gap Between Manufacturing and Service Through IT-Based Boundary Objects\n",
      "Referenzen: \n",
      "\n",
      "Quelle 0 : J. H. Gittell and L. Weiss, \"Coordination networks within and across organizations: A multi-level framework\", <em>J. Manage. Studies</em>, vol. 41, no. 1, pp. 127-153, 2004.\n",
      " > DOI link: https://doi.org/10.1111/j.1467-6486.2004.00424.x\n",
      " > google_scholar_link: None\n",
      "Quelle 1 : R. F. Lusch, S. L. Vargo and M. Tanniru, \"Service value networks and\n",
      " learning\", <em>J. Academy Marketing Sci.</em>, vol. 38, no. 1, pp. 19-31, 2010.\n",
      " > DOI link: https://doi.org/10.1007/s11747-008-0131-z\n",
      " > google_scholar_link: None\n",
      "Quelle 2 : D. R. Shaw and C. P. Holland, \"Strategy networks and systems in the global translation services market\", <em>J. Strategic Inf. Syst.</em>, vol. 19, no. 4, pp. 242-256, 2010.\n",
      " > DOI link: https://doi.org/10.1016/j.jsis.2010.08.001\n",
      " > google_scholar_link: None\n",
      "Quelle 3 : K. Hafeez, Y. B. Zhang and N. Malak, \"Core competence for sustainable\n",
      " competitive advantage: A structured methodology for identifying core competence\", <em>IEEE Trans. Eng. Manage.</em>, vol. 49, no. 1, pp. 28-35, Feb. 2002.\n",
      " > DOI link: None\n",
      " > google_scholar_link: None\n",
      "Quelle 4 : S. Alter, \"Service system fundamentals: Work system value chain and\n",
      " life cycle\", <em>IBM Syst. J.</em>, vol. 47, no. 1, pp. 71-85, 2008.\n",
      " > DOI link: https://doi.org/10.1147/sj.471.0071\n",
      " > google_scholar_link: None\n",
      "Quelle 5 : M. M. Davis, J. C. Spohrer and P. P. Maglio, \"Guest editorial: How\n",
      " technology is changing the design and delivery of services\", <em>Operations Manage. Res.</em>, vol. 4, no. 1–2, pp. 1-5, 2011.\n",
      " > DOI link: https://doi.org/10.1007/s12063-011-0046-6\n",
      " > google_scholar_link: None\n",
      "Quelle 6 : C. Kowalkowski, D. Kindström and L. Witell, \"Internalisation or externalisation?: Examining organisational arrangements for industrial services\", <em>Manag. Service Quality</em>, vol. 21, no. 4, pp. 373-391, 2011.\n",
      " > DOI link: https://doi.org/10.1108/09604521111146252\n",
      " > google_scholar_link: None\n",
      "Quelle 7 : R. Agarwal and W. Selen, \"Dynamic capability building in service value networks for achieving service\", <em>Decision Sci.</em>, vol. 40, no. 3, pp. 431-475, 2009.\n",
      " > DOI link: https://doi.org/10.1111/j.1540-5915.2009.00236.x\n",
      " > google_scholar_link: None\n",
      "Quelle 8 : R. C. Basole and W. B. Rouse, \"Complexity of service value networks: Conceptualization and empirical investigation\", <em>IBM Syst. J.</em>, vol. 47, no. 1, pp. 53-70, 2008.\n",
      " > DOI link: https://doi.org/10.1147/sj.471.0053\n",
      " > google_scholar_link: None\n",
      "Quelle 9 : J. H. Dyer and H. Singh, \"The relational view: Cooperative strategy and sources of interorganizational competitive advantage\", <em>Academy Manage. Review</em>, vol. 23, no. 4, pp. 660-679, 1998.\n",
      " > DOI link: https://doi.org/10.2307/259056\n",
      " > google_scholar_link: None\n",
      "Quelle 10 : A. Davies, T. Brady and M. Hobday, \"Charting a path toward\n",
      " integrated solutions\", <em>MIT Sloan Manage. Rev.</em>, vol. 47, no. 3, pp. 39-48, 2006.\n",
      " > DOI link: None\n",
      " > google_scholar_link: None\n",
      "Quelle 11 : C. Durugbo, A. Tiwari and J. R. Alcock, \"A review of information\n",
      " flow diagrammatic models for product–service systems\", <em>Int. J. Adv. Manuf. Technol.</em>, vol. 52, no. 9, pp. 1193-1208, 2011.\n",
      " > DOI link: https://doi.org/10.1007/s00170-010-2765-5\n",
      " > google_scholar_link: None\n",
      "Quelle 12 : A. Takeishi, \"Bridging inter- and intra-firm boundaries:\n",
      " Management of supplier involvement in automobile product development\", <em>Strategic Manage. J.</em>, vol. 22, no. 5, pp. 403-433, 2001.\n",
      " > DOI link: https://doi.org/10.1002/smj.164\n",
      " > google_scholar_link: None\n",
      "Quelle 13 : E. E. Lank, Collaborative advantage: How organizations win by working together, U.K., Basingstoke:Palgrave Macmillan, 2006.\n",
      " > DOI link: None\n",
      " > google_scholar_link: None\n",
      "Quelle 14 : D. M. Lambert, S. J. Garcia-Dastugue and K. L. Croxton, \"An\n",
      " evaluation of process-oriented supply chain management frameworks\", <em>J. Bus. Logistics</em>, vol. 26, no. 1, pp. 25-51, 2005.\n",
      " > DOI link: https://doi.org/10.1002/j.2158-1592.2005.tb00193.x\n",
      " > google_scholar_link: None\n",
      "Quelle 15 : R. Y. Y. Hung, \"Business process management as competitive advantage:\n",
      " A review and empirical study\", <em>Total Quality Manage. Bus. Excellence</em>, vol. 17, no. 1, pp. 21-40, 2006.\n",
      " > DOI link: https://doi.org/10.1080/14783360500249836\n",
      " > google_scholar_link: None\n",
      "Quelle 16 : W. J. Kettinger, J. T. C. Teng and S. Guha, \"Business\n",
      " process change: A study of methodologies techniques and tools\", <em>MIS Quarterly</em>, vol. 21, no. 1, pp. 55-80, 1997.\n",
      " > DOI link: https://doi.org/10.2307/249742\n",
      " > google_scholar_link: None\n",
      "Quelle 17 : T. H. Davenport and J. E. Short, \"The new industrial engineering: Information technology and business process redesign\", <em>Sloan Manage. Rev.</em>, vol. 31, no. 4, pp. 11-27, 1990.\n",
      " > DOI link: None\n",
      " > google_scholar_link: None\n",
      "Quelle 18 : M. Hammer, \"Reengineering work: Don’t automate obliterate\", <em>Harvard Bus. Rev.</em>, vol. 68, no. 4, pp. 104-112, 1990.\n",
      " > DOI link: None\n",
      " > google_scholar_link: None\n",
      "Quelle 19 : M. Zairi and D. Sinclair, \"Business process re-engineering and process management: A survey of current practice and future\n",
      " trends in integrated management\", <em>Bus. Process Manage. J.</em>, vol. 1, no. 1, pp. 8-30, 1995.\n",
      " > DOI link: https://doi.org/10.1108/14637159510798248\n",
      " > google_scholar_link: None\n",
      "Quelle 20 : J. Champy, X-Engineering the Corporation: the Next Frontier of Business Performance, New York:Warner Books, 2002.\n",
      " > DOI link: None\n",
      " > google_scholar_link: None\n",
      "Quelle 21 : R. McAdam and D. McCormack, \"Integrating business processes for global alignment and supply chain management\", <em>Bus. Process Manage. J.</em>, vol. 7, no. 2, pp. 113-130, 2001.\n",
      " > DOI link: https://doi.org/10.1108/14637150110389696\n",
      " > google_scholar_link: None\n",
      "Quelle 22 : B. Niehaves and R. Plattfaut, \"Collaborative business process management: Status quo and quo vadis\", <em>Bus. Process Manage. J.</em>, vol. 17, no. 3, pp. 384-402, 2011.\n",
      " > DOI link: None\n",
      " > google_scholar_link: None\n",
      "Quelle 23 : T. Skjoett-Larsen, C. Thernøe and C. Andresen, \"Supply chain collaboration: Theoretical perspectives and empirical evidence\", <em>Int. J. Phys. Distrib. Logistics Manage.</em>, vol. 33, no. 6, pp. 531-549, 2003.\n",
      " > DOI link: https://doi.org/10.1108/09600030310492788\n",
      " > google_scholar_link: None\n",
      "Quelle 24 : T. W. Malone and K. Crowston, \"The interdisciplinary study of coordination\", <em>ACM Comput. Surveys</em>, vol. 26, no. 1, pp. 87-119, 1994.\n",
      " > DOI link: https://doi.org/10.1145/174666.174668\n",
      " > google_scholar_link: None\n",
      "Quelle 25 : C. Durugbo, A. Tiwari and J. R. Alcock, \"Managing information flows\n",
      " for product-service systems delivery\", <em>Proc. 2nd CIRP IPS2 Conf.</em>, pp. 365-370, 2010.\n",
      " > DOI link: None\n",
      " > google_scholar_link: None\n",
      "Quelle 26 : C. Hsu and J. C. Spohrer, \"Improving service quality and productivity: Exploring the digital connections scaling model\", <em>Int. J. Services Technol. Manage.</em>, vol. 11, no. 3, pp. 272-292, 2009.\n",
      " > DOI link: https://doi.org/10.1504/IJSTM.2009.024093\n",
      " > google_scholar_link: None\n",
      "Quelle 27 : H. Chan and F. Chan, \"A review of coordination studies in the context of supply chain dynamics\", <em>Int. J. Prod. Res.</em>, vol. 48, no. 10, pp. 2793-2819, 2010.\n",
      " > DOI link: https://doi.org/10.1080/00207540902791843\n",
      " > google_scholar_link: None\n",
      "Quelle 28 : M. Dong and F. F. Chen, \"Process modeling and analysis of manufacturing supply chain networks using object-oriented petri nets\", <em>Robot. Comput.-Integrated Manuf.</em>, vol. 17, no. 1, pp. 121-129, 2001.\n",
      " > DOI link: https://doi.org/10.1016/S0736-5845(00)00045-4\n",
      " > google_scholar_link: None\n",
      "Quelle 29 : H. Gou, B. Huang, W. Liu and X. Li, \"A framework for virtual enterprise operation management\", <em>Comput. Ind.</em>, vol. 50, no. 3, pp. 333-352, 2003.\n",
      " > DOI link: https://doi.org/10.1016/S0166-3615(03)00021-6\n",
      " > google_scholar_link: None\n",
      "Quelle 30 : U. S. Bititci, V. Martinez, P. Albores and J. Parung, \"Creating and managing value in collaborative\n",
      " networks\", <em>Int. J. Phys. Distrib. Logistics Manage.</em>, vol. 34, no. 3/4, pp. 251-268, 2004.\n",
      " > DOI link: https://doi.org/10.1108/09600030410533574\n",
      " > google_scholar_link: None\n",
      "Quelle 31 : R. Smeds and J. Alvesalo, \"Global business process development in a virtual community of practice\", <em>Prod. Planning Control</em>, vol. 14, no. 4, pp. 361-371, 2003.\n",
      " > DOI link: https://doi.org/10.1080/0953728031000117931\n",
      " > google_scholar_link: None\n",
      "Quelle 32 : E. D. Adamides and N. Karacapilidis, \"A knowledge centred framework for collaborative business process modelling\", <em>Bus. Process Manage. J.</em>, vol. 12, no. 5, pp. 557-575, 2006.\n",
      " > DOI link: https://doi.org/10.1108/14637150610690993\n",
      " > google_scholar_link: None\n",
      "Quelle 33 : O. Adam, A. Hofer, S. Zang, C. Hammer, M. Jerrentrup and S. Leinenbach, \"A collaboration framework for\n",
      " cross-enterprise business process management\", <em>Proc. First Int. Conf. Interoperability Enterprise Softw. Appl.</em>, pp. 499-510, 2005.\n",
      " > DOI link: None\n",
      " > google_scholar_link: None\n",
      "Quelle 34 : D. Power, \"Supply chain management integration and implementation: A\n",
      " literature review\", <em>Supply Chain Manage.: Int. J.</em>, vol. 10, no. 4, pp. 252-263, 2005.\n",
      " > DOI link: https://doi.org/10.1108/13598540510612721\n",
      " > google_scholar_link: None\n",
      "Quelle 35 : R. K. L. Ko, S. S. G. Lee and E. W. Lee, \"Business process\n",
      " management (BPM) standards: a survey\", <em>Bus. Process Manage. J.</em>, vol. 15, no. 5, pp. 744-791, 2009.\n",
      " > DOI link: https://doi.org/10.1108/14637150910987937\n",
      " > google_scholar_link: None\n",
      "Quelle 36 : Z. Simsek, M. H. Lubatkin and S. W. Floyd, \"Inter-firm networks\n",
      " and entrepreneurial behavior: A structural embeddedness perspective\", <em>J. Manage.</em>, vol. 29, no. 3, pp. 427-442, 2003.\n",
      " > DOI link: https://doi.org/10.1016/S0149-2063(03)00018-7\n",
      " > google_scholar_link: None\n",
      "Quelle 37 : J. Sydow and A. Windeler, \"Organizing and evaluating interfirm networks: A structurationist perspective on network processes and\n",
      " effectiveness\", <em>Org. Sci.</em>, vol. 9, no. 3, pp. 265-284, 1998.\n",
      " > DOI link: https://doi.org/10.1287/orsc.9.3.265\n",
      " > google_scholar_link: None\n",
      "Quelle 38 : N. Levina and E. Vaast, \"The emergence of boundary spanning competence in practice: Implications for implementation and use of\n",
      " information systems\", <em>MIS Quarterly</em>, vol. 29, no. 2, pp. 335-363, 2005.\n",
      " > DOI link: None\n",
      " > google_scholar_link: None\n",
      "Quelle 39 : P. R. Carlile, \"A pragmatic view of knowledge and boundaries:\n",
      " Boundary objects in new product development\", <em>Org. Sci.</em>, vol. 13, no. 4, pp. 442-455, 2002.\n",
      " > DOI link: https://doi.org/10.1287/orsc.13.4.442.2953\n",
      " > google_scholar_link: None\n",
      "Quelle 40 : S. L. Star, \"This is not a boundary object: Reflections on the origin\n",
      " of a concept\", <em>Sci. Technol. Human Values</em>, vol. 35, no. 5, pp. 601-617, 2010.\n",
      " > DOI link: https://doi.org/10.1177/0162243910377624\n",
      " > google_scholar_link: None\n",
      "Quelle 41 : S. L. Star and J. R. Griesemer, \"Institutional ecologytranslations’ and boundary objects: Amateurs and\n",
      " professionals in Berkeley’s museum of vertebrate zoology 1907-39\", <em>Social Studies Sci.</em>, vol. 19, no. 3, pp. 387-420, 1989.\n",
      " > DOI link: https://doi.org/10.1177/030631289019003001\n",
      " > google_scholar_link: None\n",
      "Quelle 42 : U. Gal, K. Lyytinen and Y. Yoo, \"The dynamics of IT boundary\n",
      " objects information infrastructures and organisational identities: The introduction of 3D modelling technologies\n",
      " into the architecture engineering and construction industry\", <em>European J. Inf. Syst.</em>, vol. 17, no. 3, pp. 290-304, 2008.\n",
      " > DOI link: https://doi.org/10.1057/ejis.2008.13\n",
      " > google_scholar_link: None\n",
      "Quelle 43 : K. U. Koskinen and S. Mäkinen, \"Role of boundary objects in negotiations of project contracts\", <em>Int. J. Project Manage.</em>, vol. 27, no. 1, pp. 31-38, 2009.\n",
      " > DOI link: https://doi.org/10.1016/j.ijproman.2007.10.006\n",
      " > google_scholar_link: None\n",
      "Quelle 44 : E. K. Yakura, \"Charting time: Timelines as temporal boundary\n",
      " objects\", <em>Academy Manage. J.</em>, vol. 45, no. 5, pp. 956-970, 2002.\n",
      " > DOI link: https://doi.org/10.2307/3069324\n",
      " > google_scholar_link: None\n",
      "Quelle 45 : G. Mark, K. Lyytinen and M. Bergman, \"Boundary objects in design:\n",
      " An ecological view of design artifacts\", <em>J. AIS</em>, vol. 8, no. 1, pp. 34, 2007.\n",
      " > DOI link: None\n",
      " > google_scholar_link: None\n",
      "Quelle 46 : E. Wenger, Communities of practice: Learning meaning and identity, NY, New York:Cambridge Univ. Press, 1998.\n",
      " > DOI link: https://doi.org/10.1017/CBO9780511803932\n",
      " > google_scholar_link: None\n",
      "Quelle 47 : S. D. Pawlowski and D. Robey, \"Bridging user organizations: Knowledge brokering and the work of information\n",
      " technology professionals\", <em>MIS Quarterly</em>, vol. 28, no. 4, pp. 645-672, 2004.\n",
      " > DOI link: None\n",
      " > google_scholar_link: None\n",
      "Quelle 48 : \n",
      " > DOI link: None\n",
      " > google_scholar_link: None\n",
      "Quelle 49 : R. L. Baskerville, \"Investigating information systems with action\n",
      " research\", <em>Commun. ACM</em>, vol. 2, no. 3, pp. 1-32, 1999.\n",
      " > DOI link: None\n",
      " > google_scholar_link: None\n",
      "Quelle 50 : G. I. Susman and R. D. Evered, \"An assessment of the scientific merits of action research\", <em>Administ. Sci. Quarterly</em>, vol. 23, no. 4, pp. 582-603, 1978.\n",
      " > DOI link: https://doi.org/10.2307/2392581\n",
      " > google_scholar_link: None\n",
      "Quelle 51 : G. L. Shostack, \"How to design a service\", <em>European J. Marketing</em>, vol. 16, no. 1, pp. 49-63, 1982.\n",
      " > DOI link: https://doi.org/10.1108/EUM0000000004799\n",
      " > google_scholar_link: None\n",
      "Quelle 52 : J. D. Thompson, Organizations in action: Social science bases of administration, New York:McGraw-Hill, 1967.\n",
      " > DOI link: None\n",
      " > google_scholar_link: None\n",
      "Quelle 53 : V. Zeithaml and M. J. Bitner, Services Marketing, New York:McGraw-Hill, 1996.\n",
      " > DOI link: None\n",
      " > google_scholar_link: None\n",
      "Quelle 54 : U. M. Apte and R. O. Mason, \"Global disaggregation of information-intensive services\", <em>Manage. Sci.</em>, vol. 41, no. 7, pp. 1250-1262, 1995.\n",
      " > DOI link: https://doi.org/10.1287/mnsc.41.7.1250\n",
      " > google_scholar_link: None\n",
      "Quelle 55 : D. Katz and R. L. Kahn, \"Organizations and the System Concept\" in The Social Psychology of Organizations, NY, New York:Wiley, pp. 14-29, 1966.\n",
      " > DOI link: None\n",
      " > google_scholar_link: None\n",
      "Quelle 56 : J. G. March and H. A. Simon, Organizations, NY, New York:Wiley, 1958.\n",
      " > DOI link: None\n",
      " > google_scholar_link: None\n",
      "Quelle 57 : P. R. Lawrence and J. W. Lorsch, Organization and Environment, MA, Boston:Harvard University Press, 1967.\n",
      " > DOI link: None\n",
      " > google_scholar_link: None\n",
      "Quelle 58 : J. B. Barney, \"Firm resources and sustained competitive advantage\", <em>J. Manage.</em>, vol. 17, no. 1, pp. 99-120, 1991.\n",
      " > DOI link: https://doi.org/10.1177/014920639101700108\n",
      " > google_scholar_link: None\n",
      "Quelle 59 : M. Castells, The Rise of the Network Society—The Information Age: Economy Society and Culture, NJ, Hoboken:Wiley-Blackwell, vol. 1, 2010.\n",
      " > DOI link: None\n",
      " > google_scholar_link: None\n",
      "Quelle 60 : J. B. Barney, \"How a firm's capabilities affect boundary\n",
      " decisions\", <em>Sloan Manage. Rev.</em>, vol. 40, no. 3, pp. 137-145, 1999.\n",
      " > DOI link: None\n",
      " > google_scholar_link: None\n",
      "Quelle 61 : L. Araujo, A. Dubois and L. E. Gadde, \"The multiple boundaries of\n",
      " the firm\", <em>J. Manage. Studies</em>, vol. 40, no. 5, pp. 1255-1277, 2003.\n",
      " > DOI link: https://doi.org/10.1111/1467-6486.00379\n",
      " > google_scholar_link: None\n",
      "Quelle 62 : R. Gulati and H. Singh, \"The architecture of cooperation: Managing coordination costs and appropriation concerns in strategic\n",
      " alliances\", <em>Administ. Sci. Quarterly</em>, vol. 43, no. 4, pp. 781-814, 1998.\n",
      " > DOI link: https://doi.org/10.2307/2393616\n",
      " > google_scholar_link: None\n",
      "Quelle 63 : J. K. Stratman, \"Facilitating offshoring with enterprise\n",
      " technologies: Reducing operational friction in the governance and production of services\", <em>J. Operations Manage.</em>, vol. 26, no. 2, pp. 275-287, 2008.\n",
      " > DOI link: https://doi.org/10.1016/j.jom.2007.02.006\n",
      " > google_scholar_link: None\n",
      "Quelle 64 : A. Malhotra, S. Gosain and O. A. El Sawy, \"Absorptive capacity\n",
      " configurations in supply chains: Gearing for partner-enabled market knowledge creation\", <em>MIS Quarterly</em>, vol. 29, no. 1, pp. 145-187, 2005.\n",
      " > DOI link: None\n",
      " > google_scholar_link: None\n",
      "Quelle 65 : S. A. Zahra and G. George, \"Absorptive capacity: A review reconceptualization and extension\", <em>Academy Manage. Rev.</em>, pp. 185-203, 2002.\n",
      " > DOI link: https://doi.org/10.2307/4134351\n",
      " > google_scholar_link: None\n",
      "Quelle 66 : \n",
      " > DOI link: None\n",
      " > google_scholar_link: None\n",
      "Quelle 67 : \n",
      " > DOI link: None\n",
      " > google_scholar_link: None\n",
      "Quelle 68 : R. K. Yin, Case Study Research: Design and Methods, CA, Thousand Oaks:Sage Publications, 2008.\n",
      " > DOI link: None\n",
      " > google_scholar_link: None\n",
      "Quelle 69 : W. G. Astley and C. J. Fombrun, \"Collective strategy: Social ecology of organizational environments\", <em>Academy Manage. Rev.</em>, vol. 8, no. 4, pp. 576-587, 1983.\n",
      " > DOI link: https://doi.org/10.2307/258259\n",
      " > google_scholar_link: None\n",
      "Quelle 70 : C. Ciborra and O. Hanseth, \"Introduction: From Control to Drift\" in From Control to Drift: The Dynamics of Corporate Information Infrastructures, New York:Oxford Univ. Press, pp. 1-11, 2000.\n",
      " > DOI link: None\n",
      " > google_scholar_link: None\n",
      "Quelle 71 : K. Lyytinen, T. Keil and V. Fomin, \"A framework to build\n",
      " process theories of anticipatory information and communication technology (ICT) standardizing\", <em>Int. J. IT Standards Standardization Res.</em>, vol. 6, no. 1, pp. 543-573, 2008.\n",
      " > DOI link: https://doi.org/10.4018/jitsr.2008010101\n",
      " > google_scholar_link: None\n",
      "\n",
      " \n",
      " \n",
      "\n",
      "###########################################################################\n",
      "Publikation: Approximate Nearest-Neighbour Fields via Massively-Parallel Propagation-Assisted K-D Trees\n",
      "Referenzen: \n",
      "\n",
      "Quelle 0 : Y. Wexler, E. Shechtman and M. Irani, \"Space-time video completion\", <em>2004 IEEE Computer Society Conference on Computer Vision and Pattern Recognition (CVPR 2004)</em>, pp. 120-127, 27 June - 2 July 2004.\n",
      " > DOI link: None\n",
      " > google_scholar_link: None\n",
      "Quelle 1 : D. Glasner, S. Bagon and M. Irani, \"Super-resolution from a single image\", <em>IEEE 12th International Conference on Computer Vision ICCV 2009</em>, pp. 349-356, September 27 - October 4, 2009.\n",
      " > DOI link: None\n",
      " > google_scholar_link: None\n",
      "Quelle 2 : A. Buades, B. Coll and J. Morel, \"A non-local algorithm for image denoising\", pp. 60-65, 20-26 June 2005.\n",
      " > DOI link: None\n",
      " > google_scholar_link: None\n",
      "Quelle 3 : C. Barnes, E. Shechtman, A. Finkelstein and D. B. Goldman, \"Patchmatch: A randomized correspondence algorithm for structural image editing\", <em>ACM Transactions on Graphics (ToG)</em>, vol. 28, no. 3, 2009.\n",
      " > DOI link: https://doi.org/10.1145/1531326.1531330\n",
      " > google_scholar_link: None\n",
      "Quelle 4 : J. Bentley, \"Multidimensional binary search trees used for associative searching\", <em>Communications of the ACM</em>, vol. 18, no. 9, pp. 509-517, 1975.\n",
      " > DOI link: https://doi.org/10.1145/361002.361007\n",
      " > google_scholar_link: None\n",
      "Quelle 5 : S. Korman and S. Avidan, \"Coherency sensitive hashing\", <em>IEEE transactions on pattern analysis and machine intelligence</em>, vol. 38, no. 6, pp. 1099-1112, 2015.\n",
      " > DOI link: None\n",
      " > google_scholar_link: None\n",
      "Quelle 6 : K. He and J. Sun, \"Computing nearest-neighbor fields via propagation- assisted kd-trees\", <em>2012 IEEE Conference on Computer Vision and Pattern Recognition</em>, pp. 111-118, 2012.\n",
      " > DOI link: None\n",
      " > google_scholar_link: None\n",
      "Quelle 7 : T. Hastie, R. Tibshirani and J. Friedman, The Elements of Statistical Learning, Springer, 2009.\n",
      " > DOI link: https://doi.org/10.1007/978-0-387-84858-7\n",
      " > google_scholar_link: None\n",
      "Quelle 8 : J. Friedman, J. Bentley and R. Finkel, \"An algorithm for finding best matches in logarithmic expected time\", <em>ACM Transactions on Mathematical Software</em>, vol. 3, no. 3, pp. 209-226, 1977.\n",
      " > DOI link: https://doi.org/10.1145/355744.355745\n",
      " > google_scholar_link: None\n",
      "Quelle 9 : B. Catanzaro, N. Sundaram and K. Keutzer, \"Fast support vector machine training and classification on graphics processors\", <em>Proceedings ofthe 25th International Conference on Machine Learning</em>, pp. 104-111, 2008.\n",
      " > DOI link: https://doi.org/10.1145/1390156.1390170\n",
      " > google_scholar_link: None\n",
      "Quelle 10 : A. Coates, B. Huval, T. Wang, D. J. Wu, B. C. Catanzaro and A. Y. Ng, \"Deep learning with COTS HPC systems\", <em>Procs. of the 30th Int. Conference on Machine Learning</em>, pp. 1337-1345, 2013.\n",
      " > DOI link: None\n",
      " > google_scholar_link: None\n",
      "Quelle 11 : F. Gieseke, J. Heinermann, C. Oancea and C. Igel, \"Buffer k-d trees: Processing massive nearest neighbor queries on GPUs\", <em>Proceedings of the 31st International Conference on Machine Learning ser. JMLR W&CP</em>, vol. 32, no. 1, pp. 172-180, 2014.\n",
      " > DOI link: None\n",
      " > google_scholar_link: None\n",
      "Quelle 12 : Z. Wen, R. Zhang, K. Ramamohanarao, J. Qi and K. Taylor, \"Mascot: Fast and highly scalable SVM cross-validation using GPUs and SSDs\", <em>Proceedings of the 2014 IEEE International Conference on Data Mining</em>, pp. 580-589, 2014.\n",
      " > DOI link: None\n",
      " > google_scholar_link: None\n",
      "Quelle 13 : S. Popov, J. Günther, H. Seidel and P. Slusallek, \"Stackless kd-tree traversal for high performance GPU ray tracing\", <em>Computer Graphics Forum</em>, vol. 26, no. 3, pp. 415-424, 2007.\n",
      " > DOI link: https://doi.org/10.1111/j.1467-8659.2007.01064.x\n",
      " > google_scholar_link: None\n",
      "Quelle 14 : K. Zhou, Q. Hou, R. Wang and B. Guo, \"Real-time kd-tree construction on graphics hardware\", <em>ACM Transactions on Graphics</em>, vol. 27, no. 5, pp. 126:1-126:11, 2008.\n",
      " > DOI link: https://doi.org/10.1145/1409060.1409079\n",
      " > google_scholar_link: None\n",
      "Quelle 15 : I. Wald and V. Havran, \"On building fast kd-trees for ray tracing and on doing that in O(N log N)\", <em>IEEE Symposium on Interactive Ray Tracing.</em>, pp. 61-69, 2006.\n",
      " > DOI link: None\n",
      " > google_scholar_link: None\n",
      "Quelle 16 : D. Horn, J. Sugerman, M. Houston and P. Hanrahan, \"Interactive k-d tree GPU raytracing\", <em>Proceedings of the Symposium on Interactive 3D Graphics and Games</em>, pp. 167-174, 2007.\n",
      " > DOI link: https://doi.org/10.1145/1230100.1230129\n",
      " > google_scholar_link: None\n",
      "Quelle 17 : V. Garcia, E. Debreuve, F. Nielsen and M. Barlaud, \"K-nearest neighbor search: Fast GPU-based implementations and application to highdimensional feature matching\", <em>Procs. of the 17th IEEE International Conference on Image Processing</em>, pp. 3757-3760, 2010.\n",
      " > DOI link: None\n",
      " > google_scholar_link: None\n",
      "Quelle 18 : J. Pan and D. Manocha, \"Fast GPU-based locality sensitive hashing for k-nearest neighbor computation\", <em>Proceedings of the 19th ACM SIGSPATIAL International Conference on Advances in Geographic Information Systems</em>, pp. 211-220, 2011.\n",
      " > DOI link: https://doi.org/10.1145/2093973.2094002\n",
      " > google_scholar_link: None\n",
      "Quelle 19 : B. Bustos, O. Deussen, S. Hiller and D. Keim, \"A graphics hardware accelerated algorithm for nearest neighbor search\", <em>Computational Science - ICCS 2006 ser. Lecture Notes in Computer Science</em>, vol. 3994, pp. 196-199, 2006.\n",
      " > DOI link: https://doi.org/10.1007/11758549_30\n",
      " > google_scholar_link: None\n",
      "Quelle 20 : N. Sismanis, N. Pitsianis and X. Sun, \"Parallel search of k-nearest neighbors with synchronous operations\", <em>IEEE Conference on High Performance Extreme Computing</em>, pp. 1-6, 2012.\n",
      " > DOI link: None\n",
      " > google_scholar_link: None\n",
      "Quelle 21 : L. Cayton, \"Accelerating nearest neighbor search on manycore systems\", <em>Proceedings of the 2012 IEEE 26th International Parallel and Distributed Processing Symposium</em>, pp. 402-413, 2012.\n",
      " > DOI link: None\n",
      " > google_scholar_link: None\n",
      "Quelle 22 : D. Qiu, S. May and A. Nüchter, \"GPU-accelerated nearest neighbor search for 3D registration\", <em>Procs. of 7th International Conference on Computer Vision Systems</em>, pp. 194-203, 2009.\n",
      " > DOI link: https://doi.org/10.1007/978-3-642-04667-4_20\n",
      " > google_scholar_link: None\n",
      "Quelle 23 : W. Wang and L. Cao, \"Parallel k-nearest neighbor search on graphics hardware\", <em>Procs. of 3rd International Symposium on Parallel Architectures Algorithms and Programming</em>, pp. 291-294, 2010.\n",
      " > DOI link: None\n",
      " > google_scholar_link: None\n",
      "Quelle 24 : J. Heinermann, O. Kramer, K. L. Polsterer and F. Gieseke, \"On GPU- based nearest neighbor queries for large-scale photometric catalogs in astronomy\", <em>KI2013: Advances in Artificial Intelligence ser. Lecture Notes in Computer Science</em>, vol. 8077, pp. 86-97, 2013.\n",
      " > DOI link: https://doi.org/10.1007/978-3-642-40942-4_8\n",
      " > google_scholar_link: None\n",
      "Quelle 25 : N. Nakasato, \"Implementation of a parallel tree method on a GPU\", <em>Journal of Computational Science</em>, vol. 3, no. 3, pp. 132-141, 2012.\n",
      " > DOI link: https://doi.org/10.1016/j.jocs.2011.01.006\n",
      " > google_scholar_link: None\n",
      "Quelle 26 : C. E. Oancea, A. Mycroft and S. M. Watt, \"A new approach to parallelising tracing algorithms\", <em>Procs. of the 2009 International Symposium on Memory Management ser. ISMM ’09</em>, pp. 10-19.\n",
      " > DOI link: https://doi.org/10.1145/1542431.1542434\n",
      " > google_scholar_link: None\n",
      "Quelle 27 : D. Gadot and L. Wolf, \"Patchbatch: A batch augmented loss for optical flow\", <em>Proceedings of the IEEE Conference on Computer Vision and Pattern Recognition</em>, pp. 4236-4245, 2016.\n",
      " > DOI link: None\n",
      " > google_scholar_link: None\n",
      "Quelle 28 : T. Henriksen, F. Thorpe, M. Elsman and C. Oancea, \"Incremental flattening for nested data parallelism\", <em>Proceedings of the 24th Symposium on Principles and Practice of Parallel Programming ser. PPoPP ’19</em>, pp. 53-67, 2019.\n",
      " > DOI link: https://doi.org/10.1145/3293883.3295707\n",
      " > google_scholar_link: None\n",
      "Quelle 29 : M. Elsman, T. Henriksen, D. Annenkov and C. E. Oancea, \"Static interpretation of higher-order modules in Futhark: Functional GPU programming in the large\", <em>Proceedings of the ACM on Programming Languages</em>, vol. 2, pp. 97:1-97:30, Jul. 2018.\n",
      " > DOI link: https://doi.org/10.1145/3236792\n",
      " > google_scholar_link: None\n",
      "Quelle 30 : T. Henriksen, M. Dybdal, H. Urms, A. S. Kiehn, D. Gavin, H. Abelskov, et al., \"APL on GPUs: A TAIL from the Past Scribbled in Futhark\", <em>Procs. of the 5th Int. Workshop on Functional High-Performance Computing (FHPC)</em>, pp. 38-43, 2016.\n",
      " > DOI link: https://doi.org/10.1145/2975991.2975997\n",
      " > google_scholar_link: None\n",
      "Quelle 31 : Y. Chicha, M. Lloyd, C. Oancea and S. M. Watt, \"Parametric Polymorphism for Computer Algebra Software Components\", <em>Procs. 6th Int. Symposium on Symbolic and Numeric Algorithms for Scientific Computing (SYNASC)</em>, pp. 119-130, 2004.\n",
      " > DOI link: None\n",
      " > google_scholar_link: None\n",
      "Quelle 32 : C. E. Oancea and L. Rauchwerger, \"A hybrid approach to proving memory reference monotonicity\" in Languages and Compilers for Parallel Computing (LCPC), Berlin Heidelberg:Springer, pp. 61-75, 2013.\n",
      " > DOI link: https://doi.org/10.1007/978-3-642-36036-7_5\n",
      " > google_scholar_link: None\n",
      "Quelle 33 : C. E. Oancea and A. Mycroft, \"Set-congruence dynamic analysis for thread-level speculation (TLS)\", <em>Languages and Compilers for Parallel Computing (LCPC)</em>, pp. 156-171, 2008.\n",
      " > DOI link: https://doi.org/10.1007/978-3-540-89740-8_11\n",
      " > google_scholar_link: None\n",
      "\n",
      " \n",
      " \n",
      "\n",
      "###########################################################################\n",
      "Publikation: Resilient K-d Trees: K-Means in Space Revisited\n",
      "Referenzen: \n",
      "\n",
      "Quelle 0 : R. Castano, D. Mazzoni, N. Tang, T. Doggemonospace, S. Chien, R. Greeley, et al., \"Learning classifiers for science event detection in remote sensing imagery\", <em>Symp. on Artificial Intelligence Robotics and Automation in Space</em>, 2005.\n",
      " > DOI link: None\n",
      " > google_scholar_link: None\n",
      "Quelle 1 : K. L. Wagstaff and B. Bornstein, \"K-means in space: A radiation sensitivity evaluation\", <em>Intl. Conf. on Machine Learning</em>, pp. 1097-1104, 2009.\n",
      " > DOI link: https://doi.org/10.1145/1553374.1553514\n",
      " > google_scholar_link: None\n",
      "Quelle 2 : K. L. Wagstaff and B. Bornstein, \"How much memory radiation protection do onboard machine learning algorithms require?\", <em>Workshop on Artificial Intelligence in Space</em>, 2009.\n",
      " > DOI link: None\n",
      " > google_scholar_link: None\n",
      "Quelle 3 : T. C. May and M. H. Woods, \"Alpha-particle-induced soft errors in dynamic memories\", <em>IEEE Trans. Electron Devices</em>, vol. ED-26, no. 1, pp. 2-9, 1979.\n",
      " > DOI link: None\n",
      " > google_scholar_link: None\n",
      "Quelle 4 : I. Finocchi, F. Grandoni and G. F. Italiano, \"Designing reliable algorithms in unreliable memories\", <em>Computer Science Review</em>, vol. 1, no. 2, pp. 77-87, 2007.\n",
      " > DOI link: https://doi.org/10.1016/j.cosrev.2007.10.001\n",
      " > google_scholar_link: None\n",
      "Quelle 5 : J. B. MacQueen, \"Some methods for classification and analysis of multivariate observations\", <em>Berkeley Symp. on Mathematical Statistics and Probability</em>, pp. 281-297, 1967.\n",
      " > DOI link: None\n",
      " > google_scholar_link: None\n",
      "Quelle 6 : T. Kanungo, D. M. Mount, N. S. Netanyahu, C. D. Piatko, R. Silverman and A. Y. Wu, \"\n",
      "            An efficient\n",
      "            \n",
      "              \\$k\\$\n",
      "            \n",
      "            -means clustering algorithm: Analysis and implementation\n",
      "          \", <em>IEEE Trans. Pamonospaceern Analysis and Machine Intelligence</em>, vol. 24, no. 7, pp. 881-892, Jul. 2002.\n",
      " > DOI link: None\n",
      " > google_scholar_link: None\n",
      "Quelle 7 : J. L. Bentley, \"Multidimensional binary search trees used for associative searching\", <em>Comm. ACM</em>, vol. 18, no. 9, pp. 509-517, Sep. 1975.\n",
      " > DOI link: https://doi.org/10.1145/361002.361007\n",
      " > google_scholar_link: None\n",
      "Quelle 8 : M. Dickerson, C. A. Duncan and M. T. Goodrich, \"\n",
      "            \n",
      "              \\$k\\$\n",
      "            \n",
      "            -d trees are bemonospaceer when cut on the longest side\n",
      "          \", <em>European Symp. on Algorithms ser. LNCS</em>, vol. 1879, pp. 179-190, 2000.\n",
      " > DOI link: None\n",
      " > google_scholar_link: None\n",
      "Quelle 9 : G. S. Brodal, R. Fagerberg, I. Finocchi, F. Grandoni, G. italiano, A. G. Jørgensen, et al., \"Optimal resilient dynamic dictionaries\", <em>European Symp. on Algorithms ser. LNCS</em>, vol. 4698, pp. 347-358, 2007.\n",
      " > DOI link: https://doi.org/10.1007/978-3-540-75520-3_32\n",
      " > google_scholar_link: None\n",
      "Quelle 10 : I. Finocchi, F. Grandoni and G. F. Italiano, \"Optimal resilient sorting and searching in the presence of dynamic memory faults\", <em>Theoretical Computer Science</em>, vol. 410, no. 44, pp. 4457-4470, 2009.\n",
      " > DOI link: https://doi.org/10.1016/j.tcs.2009.07.026\n",
      " > google_scholar_link: None\n",
      "Quelle 11 : A. G. Jørgensen, G. Moruz and T. Mølhave, \"Priority queues resilient to memory faults\", <em>Workshop on Algorithms and Data Structures ser. LNCS</em>, vol. 4619, pp. 127-138, 2007.\n",
      " > DOI link: https://doi.org/10.1007/978-3-540-73951-7_12\n",
      " > google_scholar_link: None\n",
      "Quelle 12 : R. S. Boyer and J. S. Moore, \"MJRTY: A fast majority vote algorithm\", <em>Automated Reasoning: Essays in Honor of Woody Bledsoe</em>, pp. 105-118, 1991.\n",
      " > DOI link: https://doi.org/10.1007/978-94-011-3488-0_5\n",
      " > google_scholar_link: None\n",
      "Quelle 13 : P. Bose, A. Maheshwari, P. Morin, J. Morrison, M. Smid and J. Vahrenhold, \"Space-efficient geometric divide-and-conquer algorithms\", <em>Computational Geometry: Theory & Applications.</em>, vol. 37, no. 3, pp. 209-227, Aug. 2007.\n",
      " > DOI link: https://doi.org/10.1016/j.comgeo.2006.03.006\n",
      " > google_scholar_link: None\n",
      "Quelle 14 : L. Hubert and P. Arabie, \"Comparing partitions\", <em>Journal of Classification</em>, vol. 2, no. 1, pp. 193-218, 1985.\n",
      " > DOI link: https://doi.org/10.1007/BF01908075\n",
      " > google_scholar_link: None\n",
      "\n",
      " \n",
      " \n",
      "\n"
     ]
    }
   ],
   "source": [
    "for data in ieee_jsons:\n",
    "    print('###########################################################################')\n",
    "    print(f'Publikation: {get_title(data)}')\n",
    "    print('Referenzen: \\n')\n",
    "    if get_references(data) is not None:\n",
    "        for idx, ref in enumerate(get_references(data)):\n",
    "            print(f'Quelle {idx} : {ref.get(\"text\")}')\n",
    "            print(f' > DOI link: {ref.get(\"doi_link\")}')\n",
    "            print(f' > google_scholar_link: {ref.get(\"google_scholar_link\")}')\n",
    "    print('\\n \\n \\n')\n"
   ],
   "metadata": {
    "collapsed": false,
    "pycharm": {
     "name": "#%%\n"
    }
   }
  },
  {
   "cell_type": "markdown",
   "source": [
    "## Journal fields\n",
    "### Journal name"
   ],
   "metadata": {
    "collapsed": false,
    "pycharm": {
     "name": "#%% md\n"
    }
   }
  },
  {
   "cell_type": "code",
   "execution_count": 267,
   "outputs": [],
   "source": [
    "def get_journal_conference_name(json_data):\n",
    "    \"\"\"\n",
    "    Extracts the journal/conference publication name from the publication json data.\n",
    "    :param json_data: JSON object with meta data\n",
    "    :return: String\n",
    "    \"\"\"\n",
    "    return json_data.get('publicationTitle')"
   ],
   "metadata": {
    "collapsed": false,
    "pycharm": {
     "name": "#%%\n"
    }
   }
  },
  {
   "cell_type": "code",
   "execution_count": 269,
   "outputs": [
    {
     "name": "stdout",
     "output_type": "stream",
     "text": [
      "Function: get_journal_conference_name \n",
      "\n",
      "Publication No. 1:\n",
      "IEEE Intelligent Systems \n",
      "\n",
      "Publication No. 2:\n",
      "IEEE Transactions on Engineering Management \n",
      "\n",
      "Publication No. 3:\n",
      "2020 IEEE International Conference on Big Data (Big Data) \n",
      "\n",
      "Publication No. 4:\n",
      "2010 IEEE International Conference on Data Mining \n",
      "\n"
     ]
    }
   ],
   "source": [
    "test_function_on_publication_jsons(get_journal_conference_name)"
   ],
   "metadata": {
    "collapsed": false,
    "pycharm": {
     "name": "#%%\n"
    }
   }
  },
  {
   "cell_type": "code",
   "execution_count": 270,
   "outputs": [],
   "source": [
    "def get_journal_volume(json_data):\n",
    "    \"\"\"\n",
    "    Extracts the journal volume from the publication json data.\n",
    "    :param json_data: JSON object with meta data\n",
    "    :return: String\n",
    "    \"\"\"\n",
    "    return json_data.get('volume')"
   ],
   "metadata": {
    "collapsed": false,
    "pycharm": {
     "name": "#%%\n"
    }
   }
  },
  {
   "cell_type": "code",
   "execution_count": 271,
   "outputs": [
    {
     "name": "stdout",
     "output_type": "stream",
     "text": [
      "Function: get_journal_volume \n",
      "\n",
      "Publication No. 1:\n",
      "32 \n",
      "\n",
      "Publication No. 2:\n",
      "60 \n",
      "\n",
      "Publication No. 3:\n",
      "None \n",
      "\n",
      "Publication No. 4:\n",
      "None \n",
      "\n"
     ]
    }
   ],
   "source": [
    "test_function_on_publication_jsons(get_journal_volume)"
   ],
   "metadata": {
    "collapsed": false,
    "pycharm": {
     "name": "#%%\n"
    }
   }
  },
  {
   "cell_type": "markdown",
   "source": [
    "### Journal issue"
   ],
   "metadata": {
    "collapsed": false,
    "pycharm": {
     "name": "#%% md\n"
    }
   }
  },
  {
   "cell_type": "code",
   "execution_count": 272,
   "outputs": [],
   "source": [
    "def get_journal_issue(json_data):\n",
    "    \"\"\"\n",
    "    Extracts the journal issue from the publication json data.\n",
    "    :param json_data: JSON object with meta data\n",
    "    :return: String\n",
    "    \"\"\"\n",
    "    return json_data.get('issue')"
   ],
   "metadata": {
    "collapsed": false,
    "pycharm": {
     "name": "#%%\n"
    }
   }
  },
  {
   "cell_type": "code",
   "execution_count": 273,
   "outputs": [
    {
     "name": "stdout",
     "output_type": "stream",
     "text": [
      "Function: get_journal_issue \n",
      "\n",
      "Publication No. 1:\n",
      "2 \n",
      "\n",
      "Publication No. 2:\n",
      "3 \n",
      "\n",
      "Publication No. 3:\n",
      "None \n",
      "\n",
      "Publication No. 4:\n",
      "None \n",
      "\n"
     ]
    }
   ],
   "source": [
    "test_function_on_publication_jsons(get_journal_issue)"
   ],
   "metadata": {
    "collapsed": false,
    "pycharm": {
     "name": "#%%\n"
    }
   }
  },
  {
   "cell_type": "markdown",
   "source": [
    "## Conference fields\n",
    "### Conference name\n",
    "c.f. above\n",
    "[ ... ]\n",
    "### Venue / Location"
   ],
   "metadata": {
    "collapsed": false,
    "pycharm": {
     "name": "#%% md\n"
    }
   }
  },
  {
   "cell_type": "code",
   "execution_count": 275,
   "outputs": [],
   "source": [
    "def get_conference_location(json_data):\n",
    "    \"\"\"\n",
    "    Extracts the conference location from the publication json data.\n",
    "    :param json_data: JSON object with meta data\n",
    "    :return: String\n",
    "    \"\"\"\n",
    "    return json_data.get('confLoc')"
   ],
   "metadata": {
    "collapsed": false,
    "pycharm": {
     "name": "#%%\n"
    }
   }
  },
  {
   "cell_type": "code",
   "execution_count": 276,
   "outputs": [
    {
     "name": "stdout",
     "output_type": "stream",
     "text": [
      "Function: get_conference_location \n",
      "\n",
      "Publication No. 1:\n",
      "None \n",
      "\n",
      "Publication No. 2:\n",
      "None \n",
      "\n",
      "Publication No. 3:\n",
      "Atlanta, GA, USA \n",
      "\n",
      "Publication No. 4:\n",
      "Sydney, NSW, Australia \n",
      "\n"
     ]
    }
   ],
   "source": [
    "test_function_on_publication_jsons(get_conference_location)"
   ],
   "metadata": {
    "collapsed": false,
    "pycharm": {
     "name": "#%%\n"
    }
   }
  },
  {
   "cell_type": "markdown",
   "source": [
    "## Special IEEE fields\n",
    "### Publication id"
   ],
   "metadata": {
    "collapsed": false,
    "pycharm": {
     "name": "#%% md\n"
    }
   }
  },
  {
   "cell_type": "code",
   "execution_count": 278,
   "outputs": [],
   "source": [
    "def get_publication_id(json_data):\n",
    "    \"\"\"\n",
    "    Extracts the publication id from the publication json data.\n",
    "    :param json_data: JSON object with meta data\n",
    "    :return: String\n",
    "    \"\"\"\n",
    "    return json_data.get('articleNumber')"
   ],
   "metadata": {
    "collapsed": false,
    "pycharm": {
     "name": "#%%\n"
    }
   }
  },
  {
   "cell_type": "code",
   "execution_count": 280,
   "outputs": [
    {
     "name": "stdout",
     "output_type": "stream",
     "text": [
      "Function: get_publication_id \n",
      "\n",
      "Publication No. 1:\n",
      "7887648 \n",
      "\n",
      "Publication No. 2:\n",
      "6324427 \n",
      "\n",
      "Publication No. 3:\n",
      "9378426 \n",
      "\n",
      "Publication No. 4:\n",
      "5694044 \n",
      "\n"
     ]
    }
   ],
   "source": [
    "test_function_on_publication_jsons(get_publication_id)"
   ],
   "metadata": {
    "collapsed": false,
    "pycharm": {
     "name": "#%%\n"
    }
   }
  },
  {
   "cell_type": "markdown",
   "source": [
    "### # of citations"
   ],
   "metadata": {
    "collapsed": false,
    "pycharm": {
     "name": "#%% md\n"
    }
   }
  },
  {
   "cell_type": "code",
   "execution_count": 386,
   "outputs": [],
   "source": [
    "def get_amount_citations(json_data):\n",
    "    \"\"\"\n",
    "    Extracts the amount of citations from the publication json data.\n",
    "    :param json_data: JSON object with meta data\n",
    "    :return: String\n",
    "    \"\"\"\n",
    "    metrics = json_data.get('metrics')\n",
    "    if metrics is not None:\n",
    "        return metrics.get('citationCountPaper')"
   ],
   "metadata": {
    "collapsed": false,
    "pycharm": {
     "name": "#%%\n"
    }
   }
  },
  {
   "cell_type": "code",
   "execution_count": 387,
   "outputs": [
    {
     "name": "stdout",
     "output_type": "stream",
     "text": [
      "Function: get_amount_citations \n",
      "\n",
      "Publication No. 1:\n",
      "48 \n",
      "\n",
      "Publication No. 2:\n",
      "26 \n",
      "\n",
      "Publication No. 3:\n",
      "0 \n",
      "\n",
      "Publication No. 4:\n",
      "2 \n",
      "\n"
     ]
    }
   ],
   "source": [
    "test_function_on_publication_jsons(get_amount_citations)"
   ],
   "metadata": {
    "collapsed": false,
    "pycharm": {
     "name": "#%%\n"
    }
   }
  }
 ],
 "metadata": {
  "kernelspec": {
   "display_name": "Python 3",
   "language": "python",
   "name": "python3"
  },
  "language_info": {
   "codemirror_mode": {
    "name": "ipython",
    "version": 2
   },
   "file_extension": ".py",
   "mimetype": "text/x-python",
   "name": "python",
   "nbconvert_exporter": "python",
   "pygments_lexer": "ipython2",
   "version": "2.7.6"
  }
 },
 "nbformat": 4,
 "nbformat_minor": 0
}