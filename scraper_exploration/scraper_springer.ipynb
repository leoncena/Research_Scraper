{
 "cells": [
  {
   "cell_type": "markdown",
   "metadata": {
    "pycharm": {
     "name": "#%% md\n"
    }
   },
   "source": [
    "# Scraper commands for publications on springer\n",
    "## Examples"
   ]
  },
  {
   "cell_type": "markdown",
   "metadata": {
    "pycharm": {
     "name": "#%% md\n"
    }
   },
   "source": [
    "Here it is only about the steps, to parse are necessary so that it can be included in the end.\n",
    "\n",
    "There are different website types for publications on springer."
   ]
  },
  {
   "cell_type": "code",
   "execution_count": 1,
   "outputs": [
    {
     "data": {
      "text/plain": "['https://link.springer.com/article/10.1007/s12525-020-00445-0',\n 'https://link.springer.com/chapter/10.1007/978-3-030-49570-1_14',\n 'https://link.springer.com/book/10.1007/978-3-642-22531-4',\n 'https://link.springer.com/chapter/10.1007/978-3-030-06234-7_27']"
     },
     "execution_count": 1,
     "metadata": {},
     "output_type": "execute_result"
    }
   ],
   "source": [
    "journal_doi = 'https://doi.org/10.1007/s12525-020-00445-0'\n",
    "journal_full_link = 'https://link.springer.com/article/10.1007/s12525-020-00445-0'\n",
    "\n",
    "conference_chapter_link = 'https://link.springer.com/chapter/10.1007/978-3-030-49570-1_14'\n",
    "conference_book_link = 'https://link.springer.com/book/10.1007/978-3-642-22531-4'\n",
    "\n",
    "volume_contribution_link = 'https://link.springer.com/chapter/10.1007/978-3-030-06234-7_27'\n",
    "#volume_link = 'https://link.springer.com/book/10.1007/978-3-030-06234-7'\n",
    "\n",
    "springer_links = [journal_full_link, conference_chapter_link, conference_book_link, volume_contribution_link]\n",
    "springer_links"
   ],
   "metadata": {
    "collapsed": false,
    "pycharm": {
     "name": "#%%\n"
    }
   }
  },
  {
   "cell_type": "code",
   "execution_count": 2,
   "outputs": [],
   "source": [
    "import pandas as pd\n",
    "import requests\n",
    "import numpy as np\n",
    "from bs4 import BeautifulSoup\n",
    "import re\n",
    "import json"
   ],
   "metadata": {
    "collapsed": false,
    "pycharm": {
     "name": "#%%\n"
    }
   }
  },
  {
   "cell_type": "code",
   "execution_count": 3,
   "outputs": [],
   "source": [
    "# identify the type of the link\n",
    "def get_springer_link_type(url):\n",
    "    if '/chapter/' in url:\n",
    "        return 'chapter'\n",
    "    elif '/book/' in url:\n",
    "        return 'book'\n",
    "    elif '/article/' in url:\n",
    "        return 'article'\n",
    "    else:\n",
    "        return 'unknown'\n"
   ],
   "metadata": {
    "collapsed": false,
    "pycharm": {
     "name": "#%%\n"
    }
   }
  },
  {
   "cell_type": "code",
   "execution_count": 5,
   "outputs": [
    {
     "name": "stdout",
     "output_type": "stream",
     "text": [
      "article\n",
      "chapter\n",
      "book\n",
      "chapter\n"
     ]
    }
   ],
   "source": [
    "for link in springer_links:\n",
    "    print(get_springer_link_type(link))"
   ],
   "metadata": {
    "collapsed": false,
    "pycharm": {
     "name": "#%%\n"
    }
   }
  },
  {
   "cell_type": "code",
   "execution_count": 270,
   "outputs": [],
   "source": [
    "def get_bs(url):\n",
    "    try:\n",
    "        headers = {\n",
    "            'User-Agent': 'Mozilla/5.0 (Macintosh; Intel Mac OS X 10_15_7) AppleWebKit/605.1.15 (KHTML, like Gecko) Version/15.5 Safari/605.1.15'}\n",
    "        r = requests.get(url, headers=headers)\n",
    "        print(r.status_code)\n",
    "        bs = BeautifulSoup(r.text, 'html.parser')\n",
    "    except:\n",
    "        print('Error: ', url)\n",
    "        return None\n",
    "    return bs"
   ],
   "metadata": {
    "collapsed": false,
    "pycharm": {
     "name": "#%%\n"
    }
   }
  },
  {
   "cell_type": "code",
   "execution_count": 271,
   "outputs": [
    {
     "name": "stdout",
     "output_type": "stream",
     "text": [
      "200\n",
      "200\n",
      "200\n",
      "200\n"
     ]
    }
   ],
   "source": [
    "journal_soup = get_bs(journal_full_link)\n",
    "conference_chapter_soup = get_bs(conference_chapter_link)\n",
    "conference_book_soup = get_bs(conference_book_link)\n",
    "volume_contribution_soup = get_bs(volume_contribution_link)\n",
    "springer_soups = [journal_soup, conference_chapter_soup, conference_book_soup, volume_contribution_soup]"
   ],
   "metadata": {
    "collapsed": false,
    "pycharm": {
     "name": "#%%\n"
    }
   }
  },
  {
   "cell_type": "code",
   "execution_count": 8,
   "outputs": [],
   "source": [
    "# get whole data from json and loads to dict\n",
    "# articles need to be prefiltered because they are nested differently.'\n",
    "def get_json_data(bs):\n",
    "    json_string = bs.find('script', {'type': 'application/ld+json'}).text\n",
    "    json_data = json.loads(json_string)\n",
    "\n",
    "    if '{\"mainEntity\":' in json_string:\n",
    "        return json_data['mainEntity']\n",
    "    else:\n",
    "        return json_data\n"
   ],
   "metadata": {
    "collapsed": false,
    "pycharm": {
     "name": "#%%\n"
    }
   }
  },
  {
   "cell_type": "markdown",
   "source": [
    "Creating json files for the three different types of publications for testing"
   ],
   "metadata": {
    "collapsed": false,
    "pycharm": {
     "name": "#%% md\n"
    }
   }
  },
  {
   "cell_type": "code",
   "execution_count": 9,
   "outputs": [],
   "source": [
    "journal_json = get_json_data(journal_soup)\n",
    "conference_chapter_json = get_json_data(conference_chapter_soup)\n",
    "conference_book_json = get_json_data(conference_book_soup)\n",
    "volume_contribution_json = get_json_data(volume_contribution_soup)\n",
    "json_data_list = [journal_json, conference_chapter_json, conference_book_json, volume_contribution_json]"
   ],
   "metadata": {
    "collapsed": false,
    "pycharm": {
     "name": "#%%\n"
    }
   }
  },
  {
   "cell_type": "code",
   "execution_count": 10,
   "outputs": [],
   "source": [
    "# get names of json fields\n",
    "def get_json_fields(json_data):\n",
    "    return list(json_data.keys())"
   ],
   "metadata": {
    "collapsed": false,
    "pycharm": {
     "name": "#%%\n"
    }
   }
  },
  {
   "cell_type": "code",
   "execution_count": 11,
   "outputs": [
    {
     "data": {
      "text/plain": "['headline',\n 'description',\n 'datePublished',\n 'dateModified',\n 'pageStart',\n 'pageEnd',\n 'license',\n 'sameAs',\n 'keywords',\n 'image',\n 'isPartOf',\n 'publisher',\n 'author',\n 'isAccessibleForFree',\n '@type']"
     },
     "execution_count": 11,
     "metadata": {},
     "output_type": "execute_result"
    }
   ],
   "source": [
    "get_json_fields(journal_json)"
   ],
   "metadata": {
    "collapsed": false,
    "pycharm": {
     "name": "#%%\n"
    }
   }
  },
  {
   "cell_type": "markdown",
   "source": [
    "## Main Fields\n",
    "Title #TODO get title also for book (if instruction or with json)"
   ],
   "metadata": {
    "collapsed": false,
    "pycharm": {
     "name": "#%% md\n"
    }
   }
  },
  {
   "cell_type": "code",
   "execution_count": 12,
   "outputs": [],
   "source": [
    "def get_title(bs):\n",
    "    try:\n",
    "        title = bs.find('h1', {'class': 'c-article-title'}).text\n",
    "        return title\n",
    "    except:\n",
    "        return None"
   ],
   "metadata": {
    "collapsed": false,
    "pycharm": {
     "name": "#%%\n"
    }
   }
  },
  {
   "cell_type": "code",
   "execution_count": 13,
   "outputs": [
    {
     "name": "stdout",
     "output_type": "stream",
     "text": [
      "Exploring customers’ likeliness to use e-service touchpoints in brick and mortar retail\n",
      "A Two-Phase Framework for Detecting Manipulation Campaigns in Social Media\n",
      "None\n",
      "Applications of Artificial Intelligence in Supply Chain Management and Logistics: Focusing Onto Recognition for Supply Chain Execution\n"
     ]
    }
   ],
   "source": [
    "for soup in springer_soups:\n",
    "    print(get_title(soup))"
   ],
   "metadata": {
    "collapsed": false,
    "pycharm": {
     "name": "#%%\n"
    }
   }
  },
  {
   "cell_type": "markdown",
   "source": [
    "### Authors"
   ],
   "metadata": {
    "collapsed": false,
    "pycharm": {
     "name": "#%% md\n"
    }
   }
  },
  {
   "cell_type": "code",
   "execution_count": 63,
   "outputs": [],
   "source": [
    "def get_authors(bs):\n",
    "    \"\"\"\n",
    "    Return list of authors in the format:\n",
    "    [{'name': 'Author Name', 'orcid': orcid}, ...]\n",
    "\n",
    "    :param bs: Received bs of the publication\n",
    "    :return: list of dicts\n",
    "    \"\"\"\n",
    "    try:\n",
    "        json_data = get_json_data(bs)\n",
    "        authors = []\n",
    "        for author in json_data.get('author'):\n",
    "            name = author.get('name')\n",
    "            # split name at comma and reverse\n",
    "            name = name.split(', ')\n",
    "            name = name[1] + ' ' + name[0]\n",
    "            orcid = author.get('url')\n",
    "            authors.append({'name': name,\n",
    "                            'orcid': orcid})\n",
    "        return authors\n",
    "    except TypeError as e:  # if no author is found you cannot iterate over None\n",
    "        return None"
   ],
   "metadata": {
    "collapsed": false,
    "pycharm": {
     "name": "#%%\n"
    }
   }
  },
  {
   "cell_type": "code",
   "execution_count": 62,
   "outputs": [
    {
     "name": "stdout",
     "output_type": "stream",
     "text": [
      "[{'name': 'Benjamin Barann', 'orcid': 'http://orcid.org/0000-0002-1965-2688'}, {'name': 'Jan H. Betzing', 'orcid': None}, {'name': 'Marco Niemann', 'orcid': None}, {'name': 'Benedikt Hoffmeister', 'orcid': None}, {'name': 'Jörg Becker', 'orcid': None}]\n",
      "[{'name': 'Dennis Assenmacher', 'orcid': None}, {'name': 'Lena Clever', 'orcid': None}, {'name': 'Janina Susanne Pohl', 'orcid': None}, {'name': 'Heike Trautmann', 'orcid': None}, {'name': 'Christian Grimme', 'orcid': None}]\n",
      "'NoneType' object is not iterable\n",
      "None\n",
      "[{'name': 'Bernd Hellingrath', 'orcid': None}, {'name': 'Sandra Lechtenberg', 'orcid': None}]\n"
     ]
    }
   ],
   "source": [
    "for soup in springer_soups:\n",
    "    print(get_authors(soup))"
   ],
   "metadata": {
    "collapsed": false,
    "pycharm": {
     "name": "#%%\n"
    }
   }
  },
  {
   "cell_type": "markdown",
   "source": [
    "### Keywords #TODO may be replaced with BS scraping because weird data structure"
   ],
   "metadata": {
    "collapsed": false,
    "pycharm": {
     "name": "#%% md\n"
    }
   }
  },
  {
   "cell_type": "code",
   "execution_count": 68,
   "outputs": [],
   "source": [
    "def get_keywords(bs):\n",
    "    \"\"\"\n",
    "    Return list of keywords from json data\n",
    "    :param bs: Received bs of the publication\n",
    "    :return:\n",
    "    \"\"\"\n",
    "\n",
    "    \"\"\"\n",
    "    Return list of keywords in the format:\n",
    "    [keyword1, keyword2, ...]\n",
    "    :param bs: Received bs of the publication\n",
    "    :return: list: String\n",
    "    \"\"\"\n",
    "    try:\n",
    "        json_data = get_json_data(bs)\n",
    "        keywords_string = json_data.get('keywords')\n",
    "        keywords = keywords_string.split(',')\n",
    "        return keywords\n",
    "    except:\n",
    "        print(\"Error: no keywords found\")\n",
    "        return None"
   ],
   "metadata": {
    "collapsed": false,
    "pycharm": {
     "name": "#%%\n"
    }
   }
  },
  {
   "cell_type": "code",
   "execution_count": 69,
   "outputs": [
    {
     "name": "stdout",
     "output_type": "stream",
     "text": [
      "['IT in Business', 'e-Commerce/e-business']\n",
      "['Social campaign detection', ' Stream clustering', ' Unsupervised learning']\n",
      "['Java', ' XQuery', ' abstract interpretation', ' higher-order patterns', ' non-deterministic functions']\n",
      "['']\n"
     ]
    }
   ],
   "source": [
    "for soup in springer_soups:\n",
    "    print(get_keywords(soup))"
   ],
   "metadata": {
    "collapsed": false,
    "pycharm": {
     "name": "#%%\n"
    }
   }
  },
  {
   "cell_type": "markdown",
   "source": [
    "### Abstract"
   ],
   "metadata": {
    "collapsed": false,
    "pycharm": {
     "name": "#%% md\n"
    }
   }
  },
  {
   "cell_type": "code",
   "execution_count": 76,
   "outputs": [],
   "source": [
    "def get_abstract(bs, url):\n",
    "    \"\"\"\n",
    "    Returns the abstract of the articles, books/preceedings do not have abstracts.\n",
    "    :param bs: Received bs of the publication\n",
    "    :param url: Received url of the publication\n",
    "    :return: String\n",
    "    \"\"\"\n",
    "    if '/book/' in url:\n",
    "        return None\n",
    "\n",
    "    try:\n",
    "        json_data = get_json_data(bs)\n",
    "        abstract = json_data.get('description')\n",
    "        return abstract\n",
    "    except:\n",
    "        print(\"Error: no abstract found\")\n",
    "        return None\n"
   ],
   "metadata": {
    "collapsed": false,
    "pycharm": {
     "name": "#%%\n"
    }
   }
  },
  {
   "cell_type": "code",
   "execution_count": 77,
   "outputs": [
    {
     "name": "stdout",
     "output_type": "stream",
     "text": [
      "E-commerce has embraced the digital transformation and innovated with e-service touchpoints to improve customers’ experiences. Now some traditional, less-digitalized brick and mortar (BaM) retailers are starting to counteract the increasing competition by adopting digital touchpoints. However, the academic literature offers little in terms of what determines customers’ behavioral intentions toward e-service touchpoints. Therefore, drawing from the dominant design theory, this article first conceptually adapts selected dominant touchpoints of leading e-commerce solutions to BaM retail. Then 250 shoppers are surveyed regarding the likeliness that they will use the selected touchpoints, followed by an exploratory factor analysis to determine the touchpoints’ characteristics that lead to the shoppers’ assessments. The results suggest that customers prefer touchpoints that support product search and selection, provide information, and increase shopping efficiency. The likeliness that surveyed shoppers will use the touchpoints was affected by the functionality provided, the content conveyed, and the mediating device. The results provide a foundation for further research on customers’ behavioral intentions toward BaM e-service touchpoints and provide useful information for BaM retailers.\n",
      "-------\n",
      "The identification of coordinated campaigns within Social Media is a complex task that is often hindered by missing labels and large amounts of data that have to be processed. We propose a new two-phase framework that uses unsupervised stream clustering for detecting suspicious trends over time in a first step. Afterwards, traditional offline analyses are applied to distinguish between normal trend evolution and malicious manipulation attempts. We demonstrate the applicability of our framework in the context of the final days of the Brexit in 2019/2020.\n",
      "-------\n",
      "None\n",
      "-------\n",
      "Emerging technologies like Artificial Intelligence (AI) show the potential to contribute significantly to the digitalization of supply chains. Nonetheless, the question which approaches from the field of AI are applied within supply chains as well as which supply chain problems or tasks are addressed with AI approaches has not been answered by scientific literature yet. Based on a structured literature review this paper aims at providing an answer to these questions. A special focus is given to the application areas for recognition approaches in supply chain execution, for which this paper provides an overview of those areas research is currently focusing upon.\n",
      "-------\n"
     ]
    }
   ],
   "source": [
    "for soup, url in zip(springer_soups, springer_links):\n",
    "    print(get_abstract(soup, url))\n",
    "    print(\"-------\")"
   ],
   "metadata": {
    "collapsed": false,
    "pycharm": {
     "name": "#%%\n"
    }
   }
  },
  {
   "cell_type": "code",
   "execution_count": 19,
   "outputs": [],
   "source": [],
   "metadata": {
    "collapsed": false,
    "pycharm": {
     "name": "#%%\n"
    }
   }
  },
  {
   "cell_type": "markdown",
   "source": [
    "### Pdf #todo #TODO: download"
   ],
   "metadata": {
    "collapsed": false,
    "pycharm": {
     "name": "#%% md\n"
    }
   }
  },
  {
   "cell_type": "code",
   "execution_count": 279,
   "outputs": [],
   "source": [
    "def get_pdf(bs, url):\n",
    "    \"\"\"\n",
    "    Returns the pdf link of the publication, if available. Download might require login. Sometimes the pdf is not in the soup object unfortunately\n",
    "    :param bs: Received bs of the publication\n",
    "    :param url:\n",
    "    :return:\n",
    "    \"\"\"\n",
    "    try:\n",
    "        pdf = None\n",
    "        #todo automate download\n",
    "        # differentiate between article, chapter and book\n",
    "        if '/article/' in url:\n",
    "            pdf = bs.find('div', class_='c-pdf-container').find('a', {'data-article-pdf': 'true'}).get('href')\n",
    "\n",
    "        elif '/chapter/' in url:\n",
    "            pdf_box = bs.find('div', {'class': 'c-article-access-provider'})\n",
    "            pdf = pdf_box.find('a', {'data-track-action': 'Pdf download'}).get('href')\n",
    "\n",
    "        elif '/book/' in url:\n",
    "            pdf = bs.find('div', {'data-test': 'download-article-link-wrapper',\n",
    "                                  'class': 'js-context-bar-sticky-point-desktop'}).find('a').get('href')\n",
    "        if pdf is not None:\n",
    "            # append base url if necessary\n",
    "            if 'link.springer.com' in pdf:\n",
    "                return pdf\n",
    "            else:\n",
    "                return f'https://link.springer.com{pdf}'\n",
    "    except Exception:\n",
    "        print(\"Error: no pdf found\")\n",
    "        return None"
   ],
   "metadata": {
    "collapsed": false,
    "pycharm": {
     "name": "#%%\n"
    }
   }
  },
  {
   "cell_type": "code",
   "execution_count": 283,
   "outputs": [
    {
     "data": {
      "text/plain": "['https://link.springer.com/content/pdf/10.1007/s12525-020-00445-0.pdf',\n 'https://link.springer.com/content/pdf/10.1007/978-3-030-49570-1_14.pdf',\n 'https://link.springer.com/content/pdf/10.1007/978-3-642-22531-4.pdf',\n 'https://link.springer.com/content/pdf/10.1007/978-3-030-06234-7_27.pdf']"
     },
     "execution_count": 283,
     "metadata": {},
     "output_type": "execute_result"
    }
   ],
   "source": [
    "test_links = []\n",
    "for soup, url in zip(springer_soups, springer_links):\n",
    "    test_links.append(get_pdf(soup, url))\n",
    "\n",
    "test_links\n"
   ],
   "metadata": {
    "collapsed": false,
    "pycharm": {
     "name": "#%%\n"
    }
   }
  },
  {
   "cell_type": "code",
   "execution_count": 24,
   "outputs": [
    {
     "data": {
      "text/plain": "'https://link.springer.com/content/pdf/10.1007/s12525-020-00445-0.pdf'"
     },
     "execution_count": 24,
     "metadata": {},
     "output_type": "execute_result"
    }
   ],
   "source": [
    "journal_soup.find('div', class_='c-pdf-container').find('a', {'data-article-pdf': 'true'}).get('href')"
   ],
   "metadata": {
    "collapsed": false,
    "pycharm": {
     "name": "#%%\n"
    }
   }
  },
  {
   "cell_type": "markdown",
   "source": [
    "### Publisher"
   ],
   "metadata": {
    "collapsed": false,
    "pycharm": {
     "name": "#%% md\n"
    }
   }
  },
  {
   "cell_type": "code",
   "execution_count": 25,
   "outputs": [],
   "source": [
    "def get_publisher(bs):\n",
    "    \"\"\"\n",
    "    Returns the publisher of the publication\n",
    "    :param bs: Received bs of the publication\n",
    "    :return: String\n",
    "    \"\"\"\n",
    "    try:\n",
    "        json_data = get_json_data(bs)\n",
    "        publisher = json_data.get('publisher').get('name')\n",
    "        return publisher\n",
    "    except:\n",
    "        print(\"Error: no publisher found\")\n",
    "        return None"
   ],
   "metadata": {
    "collapsed": false,
    "pycharm": {
     "name": "#%%\n"
    }
   }
  },
  {
   "cell_type": "code",
   "execution_count": 26,
   "outputs": [
    {
     "name": "stdout",
     "output_type": "stream",
     "text": [
      "Springer Berlin Heidelberg\n",
      "Springer International Publishing\n",
      "Springer Berlin Heidelberg\n",
      "Springer International Publishing\n"
     ]
    }
   ],
   "source": [
    "for soup in springer_soups:\n",
    "    print(get_publisher(soup))"
   ],
   "metadata": {
    "collapsed": false,
    "pycharm": {
     "name": "#%%\n"
    }
   }
  },
  {
   "cell_type": "markdown",
   "source": [
    "### Year"
   ],
   "metadata": {
    "collapsed": false,
    "pycharm": {
     "name": "#%% md\n"
    }
   }
  },
  {
   "cell_type": "code",
   "execution_count": 27,
   "outputs": [],
   "source": [
    "def get_year(bs, url):\n",
    "    \"\"\"\n",
    "    Returns the year of the publication\n",
    "    :param url: URL of the publication\n",
    "    :param bs: Received bs of the publication\n",
    "    :return:\n",
    "    \"\"\"\n",
    "    try:\n",
    "        json_data = get_json_data(bs)\n",
    "        if ('/chapter/' in url) or ('/article/' in url):\n",
    "            date = json_data.get('datePublished')\n",
    "            year = date.split('-')[0]  # get year from date (if date is available)\n",
    "            return year\n",
    "        if '/book/' in url:\n",
    "            year = json_data.get('copyrightYear')\n",
    "            return year\n",
    "\n",
    "    except:\n",
    "        print(\"Error: no year found\")\n",
    "        print(bs.name)\n",
    "        return None"
   ],
   "metadata": {
    "collapsed": false,
    "pycharm": {
     "name": "#%%\n"
    }
   }
  },
  {
   "cell_type": "code",
   "execution_count": 28,
   "outputs": [
    {
     "name": "stdout",
     "output_type": "stream",
     "text": [
      "2020\n",
      "2020\n",
      "2011\n",
      "2019\n"
     ]
    }
   ],
   "source": [
    "for soup, url in zip(springer_soups, springer_links):\n",
    "    print(get_year(soup, url))\n"
   ],
   "metadata": {
    "collapsed": false,
    "pycharm": {
     "name": "#%%\n"
    }
   }
  },
  {
   "cell_type": "markdown",
   "source": [
    "### Page ranges\n",
    "For papers and contributions one can find the page range in the jsond data\n",
    "\n",
    "#### Start page"
   ],
   "metadata": {
    "collapsed": false,
    "pycharm": {
     "name": "#%% md\n"
    }
   }
  },
  {
   "cell_type": "code",
   "execution_count": 35,
   "outputs": [],
   "source": [
    "def get_start_page(bs, url):\n",
    "    \"\"\"\n",
    "    Returns the start page of the publication in the volume/journal/proceeding\n",
    "    :param bs: Received bs of the publication\n",
    "    :param url: URL of the publication\n",
    "    :return: Start page of the publication\n",
    "    \"\"\"\n",
    "    if '/book/' in url:\n",
    "        return None\n",
    "    if '/chapter/' in url or '/article/' in url:\n",
    "        try:\n",
    "            json_data = get_json_data(bs)\n",
    "            start_page = json_data.get('pageStart')\n",
    "            return start_page\n",
    "        except:\n",
    "            print(\"Error: no start page found\")\n",
    "            return None"
   ],
   "metadata": {
    "collapsed": false,
    "pycharm": {
     "name": "#%%\n"
    }
   }
  },
  {
   "cell_type": "code",
   "execution_count": 36,
   "outputs": [
    {
     "name": "stdout",
     "output_type": "stream",
     "text": [
      "523\n",
      "201\n",
      "None\n",
      "283\n"
     ]
    }
   ],
   "source": [
    "for soup, url in zip(springer_soups, springer_links):\n",
    "    print(get_start_page(soup, url))"
   ],
   "metadata": {
    "collapsed": false,
    "pycharm": {
     "name": "#%%\n"
    }
   }
  },
  {
   "cell_type": "markdown",
   "source": [
    "#### End page"
   ],
   "metadata": {
    "collapsed": false,
    "pycharm": {
     "name": "#%% md\n"
    }
   }
  },
  {
   "cell_type": "code",
   "execution_count": 37,
   "outputs": [],
   "source": [
    "def get_end_page(bs, url):\n",
    "    \"\"\"\n",
    "    Returns the end page of the publication in the volume/journal/proceeding\n",
    "    :param bs: Received bs of the publication\n",
    "    :param url: URL of the publication\n",
    "    :return: End page of the publication\n",
    "    \"\"\"\n",
    "    if '/book/' in url:\n",
    "        return None\n",
    "    if '/chapter/' in url or '/article/' in url:\n",
    "        try:\n",
    "            json_data = get_json_data(bs)\n",
    "            end_page = json_data.get('pageEnd')\n",
    "            return end_page\n",
    "        except:\n",
    "            print(\"Error: no end page found\")\n",
    "            return None\n"
   ],
   "metadata": {
    "collapsed": false,
    "pycharm": {
     "name": "#%%\n"
    }
   }
  },
  {
   "cell_type": "code",
   "execution_count": 38,
   "outputs": [
    {
     "name": "stdout",
     "output_type": "stream",
     "text": [
      "545\n",
      "214\n",
      "None\n",
      "296\n"
     ]
    }
   ],
   "source": [
    "for soup, url in zip(springer_soups, springer_links):\n",
    "    print(get_end_page(soup, url))"
   ],
   "metadata": {
    "collapsed": false,
    "pycharm": {
     "name": "#%%\n"
    }
   }
  },
  {
   "cell_type": "markdown",
   "metadata": {
    "pycharm": {
     "name": "#%% md\n"
    }
   },
   "source": [
    "### Publication type"
   ]
  },
  {
   "cell_type": "code",
   "execution_count": 40,
   "metadata": {
    "pycharm": {
     "name": "#%%\n"
    }
   },
   "outputs": [],
   "source": [
    "def get_publication_type(bs, url):\n",
    "    \"\"\"\n",
    "    Returns the publication type of the publication\n",
    "    :param url: URL of the publication\n",
    "    :param bs: Received bs of the publication\n",
    "    :return: String\n",
    "    \"\"\"\n",
    "    try:\n",
    "        if '/book/' in url:\n",
    "            type = bs.find('li', {'class': 'c-article-identifiers__item'}).text\n",
    "        else:\n",
    "            type = bs.find('li', {'class': 'c-article-identifiers__item', 'data-test': 'article-category'}).text\n",
    "        return type\n",
    "    except:\n",
    "        print(\"Error: no publication type found in bs, deriving by url\")\n",
    "        if '/book/' in url:\n",
    "            return 'Book'\n",
    "        elif '/chapter/' in url:\n",
    "            return 'Chapter'\n",
    "        elif '/article/' in url:\n",
    "            return 'Article'\n",
    "        #return None"
   ]
  },
  {
   "cell_type": "code",
   "execution_count": 41,
   "metadata": {
    "pycharm": {
     "name": "#%%\n"
    }
   },
   "outputs": [
    {
     "name": "stdout",
     "output_type": "stream",
     "text": [
      "Research Paper\n",
      "Conference paper\n",
      "Conference proceedings\n",
      "Chapter\n"
     ]
    }
   ],
   "source": [
    "for soup, url in zip(springer_soups, springer_links):\n",
    "    print(get_publication_type(soup, url))"
   ]
  },
  {
   "cell_type": "markdown",
   "source": [
    "### References\n",
    "Springer often provides Google Scholar links as well"
   ],
   "metadata": {
    "collapsed": false,
    "pycharm": {
     "name": "#%% md\n"
    }
   }
  },
  {
   "cell_type": "code",
   "execution_count": 96,
   "outputs": [],
   "source": [
    "def get_references(bs, url):\n",
    "    \"\"\"\n",
    "    Returns the information of the references of the publication\n",
    "    :param bs: Received bs of the publication\n",
    "    :param url: URL of the publication\n",
    "    :return: Returns a list of dictionaries with the reference text and the Google Scholar link (if existing) in th form of\n",
    "    {'text': 'reference text', 'link': 'link to Google Scholar'}\n",
    "    \"\"\"\n",
    "    if '/book/' in url:\n",
    "        return None\n",
    "\n",
    "    references = []\n",
    "    try:\n",
    "        reference_items = bs.find_all('li', class_='c-article-references__item')\n",
    "    except:\n",
    "        return None  # No references found\n",
    "    for item in reference_items:\n",
    "        reference_text = item.find('p', class_='c-article-references__text').text\n",
    "        try:\n",
    "            gscholar_link = item.find('a', {'data-track-action': 'google scholar reference'}).get('href')\n",
    "        except:\n",
    "            gscholar_link = None\n",
    "        references.append({\n",
    "            'reference_text': reference_text,\n",
    "            'google_scholar_link': gscholar_link\n",
    "        })\n",
    "    return references"
   ],
   "metadata": {
    "collapsed": false,
    "pycharm": {
     "name": "#%%\n"
    }
   }
  },
  {
   "cell_type": "code",
   "execution_count": 106,
   "outputs": [
    {
     "name": "stdout",
     "output_type": "stream",
     "text": [
      "183\n",
      "23\n",
      "None\n",
      "41\n"
     ]
    }
   ],
   "source": [
    "for soup, url in zip(springer_soups, springer_links):\n",
    "    try:\n",
    "        print(len(get_references(soup, url)))\n",
    "    except:\n",
    "        print(None)"
   ],
   "metadata": {
    "collapsed": false,
    "pycharm": {
     "name": "#%%\n"
    }
   }
  },
  {
   "cell_type": "code",
   "execution_count": 110,
   "outputs": [
    {
     "name": "stdout",
     "output_type": "stream",
     "text": [
      "https://scholar.google.com/scholar_lookup?&title=Mining%20text%20and%20social%20streams%3A%20a%20review&journal=SIGKDD%20Explor.%20Newsl.&doi=10.1145%2F2641190.2641194&volume=15&issue=2&pages=9-19&publication_year=2014&author=Aggarwal%2CCC\n",
      "\n",
      "https://scholar.google.com/scholar?&q=Assenmacher%2C%20D.%2C%20Adam%2C%20L.%2C%20Trautmann%2C%20H.%2C%20Grimme%2C%20C.%3A%20Semi-automatic%20campaign%20detection%20by%20means%20of%20text%20stream%20clustering.%20In%3A%20Proceedings%20of%20the%20Thirty-Three%20International%20Florida%20Artificial%20Intelligence%20Research%20Society%20Conference%20%28FLAIRS%202020%29%2C%20Florida%2C%20USA.%20AAAI%20Press%20%282020%29.%20accepted\n",
      "\n",
      "https://scholar.google.com/scholar_lookup?&title=Stream%20clustering%20of%20chat%20messages%20with%20applications%20to%20twitch%20streams&pages=79-88&publication_year=2017 2017 2017&author=Carnein%2CM&author=Assenmacher%2CD&author=Trautmann%2CH\n",
      "\n",
      "https://scholar.google.com/scholar_lookup?&title=On%20the%20capability%20of%20evolved%20spambots%20to%20evade%20detection%20via%20genetic%20engineering&journal=Online%20Soc.%20Netw.%20Media&doi=10.1016%2Fj.osnem.2018.10.005&volume=9&pages=1-16&publication_year=2019&author=Cresci%2CS&author=Petrocchi%2CM&author=Spognardi%2CA&author=Tognazzi%2CS\n",
      "\n",
      "https://scholar.google.com/scholar_lookup?&title=Changing%20perspectives%3A%20is%20it%20sufficient%20to%20detect%20social%20bots%3F&pages=445-461&publication_year=2018 2018 2018&author=Grimme%2CC&author=Assenmacher%2CD&author=Adam%2CL\n",
      "\n",
      "https://scholar.google.com/scholar_lookup?&title=Social%20bots%3A%20human-like%20by%20means%20of%20human%20control%3F&journal=Big%20Data&volume=5&issue=4&pages=279-293&publication_year=2017&author=Grimme%2CC&author=Preuss%2CM&author=Adam%2CL&author=Trautmann%2CH\n",
      "\n",
      "https://scholar.google.com/scholar_lookup?&title=Analysis%20of%20account%20engagement%20in%20onsetting%20twitter%20message%20cascades&pages=115-126&publication_year=2020 2019 2019&author=Kessling%2CP&author=Grimme%2CC\n",
      "\n",
      "https://scholar.google.com/scholar_lookup?&title=Introduction%20to%20the%20Theory%20of%20Statistics&publication_year=1974&author=Mood%2CAM&author=Graybill%2CFA&author=Boes%2CDC\n",
      "\n",
      "https://scholar.google.com/scholar_lookup?&title=Data%20stream%20clustering%3A%20a%20survey&journal=ACM%20Comput.%20Surv.&doi=10.1145%2F2522968.2522981&volume=46&issue=1&pages=13%3A1-13%3A31&publication_year=2013&author=Silva%2CJA&author=Faria%2CER&author=Barros%2CRC&author=Hruschka%2CER&author=Carvalho%2CACD&author=Gama%2CJ\n",
      "\n",
      "https://scholar.google.com/scholar_lookup?&title=Early%20detection%20of%20promoted%20campaigns%20on%20social%20media&journal=EPJ%20Data%20Sci.&doi=10.1140%2Fepjds%2Fs13688-017-0111-y&volume=6&issue=1&publication_year=2017&author=Varol%2CO&author=Ferrara%2CE&author=Menczer%2CF&author=Flammini%2CA\n",
      "\n",
      "https://scholar.google.com/scholar?&q=Woolley%2C%20S.%3A%20Automating%20power%3A%20social%20bot%20interference%20in%20global%20politics.%20First%20Monday%2021%284%29%282016%29\n",
      "\n",
      "https://scholar.google.com/scholar_lookup?&title=Arming%20the%20public%20with%20artificial%20intelligence%20to%20counter%20social%20bots&journal=Hum.%20Behav.%20Emerg.%20Technol.&doi=10.1002%2Fhbe2.115&volume=1&issue=1&pages=48-61&publication_year=2019&author=Yang%2CKC&author=Varol%2CO&author=Davis%2CCA&author=Ferrara%2CE&author=Flammini%2CA&author=Menczer%2CF\n",
      "\n"
     ]
    }
   ],
   "source": [
    "# len(journal_soup.find_all('li', class_='c-article-references__item js-c-reading-companion-references-item'))\n",
    "# for i in get_references(conference_chapter_soup, conference_chapter_link):\n",
    "#     if i['google_scholar_link'] is not None:\n",
    "#         print(i['google_scholar_link'])\n",
    "#         print(\"\")"
   ],
   "metadata": {
    "collapsed": false,
    "pycharm": {
     "name": "#%%\n"
    }
   }
  },
  {
   "cell_type": "markdown",
   "metadata": {
    "pycharm": {
     "name": "#%% md\n"
    }
   },
   "source": [
    "## Journal Fields\n",
    "### Journal name"
   ]
  },
  {
   "cell_type": "code",
   "execution_count": 43,
   "metadata": {
    "pycharm": {
     "name": "#%%\n"
    }
   },
   "outputs": [],
   "source": [
    "def get_journal_name(bs, url):\n",
    "    \"\"\"\n",
    "    Returns the journal name of the publication\n",
    "    Returns None if publication is not a journal article\n",
    "    :param bs: Received bs of the publication\n",
    "    :param url: URL of the publication\n",
    "    :return: Journal name (String)\n",
    "    \"\"\"\n",
    "\n",
    "    json_data = get_json_data(bs)\n",
    "    if '/article/' in url:\n",
    "        journal_name = json_data.get('isPartOf').get('name')\n",
    "        return journal_name\n",
    "    else:\n",
    "        return None"
   ]
  },
  {
   "cell_type": "code",
   "execution_count": 44,
   "metadata": {
    "pycharm": {
     "name": "#%%\n"
    }
   },
   "outputs": [
    {
     "name": "stdout",
     "output_type": "stream",
     "text": [
      "Electronic Markets\n",
      "None\n",
      "None\n",
      "None\n"
     ]
    }
   ],
   "source": [
    "for soup, url in zip(springer_soups, springer_links):\n",
    "    print(get_journal_name(soup, url))"
   ]
  },
  {
   "cell_type": "markdown",
   "metadata": {
    "pycharm": {
     "name": "#%% md\n"
    }
   },
   "source": [
    "### Journal volume"
   ]
  },
  {
   "cell_type": "code",
   "execution_count": 45,
   "metadata": {
    "pycharm": {
     "name": "#%%\n"
    }
   },
   "outputs": [],
   "source": [
    "def get_journal_volume(bs, url):\n",
    "    \"\"\"\n",
    "    Returns the journal volume of the publication\n",
    "    Returns None if publication is not a journal article\n",
    "    :param bs: Received bs of the publication\n",
    "    :param url: URL of the publication\n",
    "    :return: Journal volume (String)\n",
    "    \"\"\"\n",
    "    json_data = get_json_data(bs)\n",
    "    if '/article/' in url:\n",
    "        journal_volume = json_data.get('isPartOf').get('volumeNumber')\n",
    "        return journal_volume\n",
    "    else:\n",
    "        return None"
   ]
  },
  {
   "cell_type": "code",
   "execution_count": 46,
   "metadata": {
    "pycharm": {
     "name": "#%%\n"
    }
   },
   "outputs": [
    {
     "name": "stdout",
     "output_type": "stream",
     "text": [
      "32\n",
      "None\n",
      "None\n",
      "None\n"
     ]
    }
   ],
   "source": [
    "for soup, url in zip(springer_soups, springer_links):\n",
    "    print(get_journal_volume(soup, url))"
   ]
  },
  {
   "cell_type": "markdown",
   "metadata": {
    "pycharm": {
     "name": "#%% md\n"
    }
   },
   "source": [
    "## Conference fields\n",
    "### Conference name"
   ]
  },
  {
   "cell_type": "code",
   "execution_count": 41,
   "metadata": {
    "pycharm": {
     "name": "#%%\n"
    }
   },
   "outputs": [],
   "source": [
    "def get_conference_name(bs, url):\n",
    "    if get_publication_type(bs, url) == 'Conference paper':\n",
    "        conference_name = bs.find('p', class_='c-chapter-info-details u-mb-8').find('a', {\n",
    "            'data-track': 'click', 'data-track-action': 'open conference'\n",
    "        }).text\n",
    "        return conference_name\n",
    "    else:\n",
    "        return None"
   ]
  },
  {
   "cell_type": "code",
   "execution_count": 42,
   "metadata": {
    "pycharm": {
     "name": "#%%\n"
    }
   },
   "outputs": [],
   "source": [
    "for soup, url in zip(springer_soups, springer_links):\n",
    "    print(get_conference_name(soup, url))"
   ]
  },
  {
   "cell_type": "markdown",
   "metadata": {
    "pycharm": {
     "name": "#%% md\n"
    }
   },
   "source": [
    "### Venue -> omitted"
   ]
  },
  {
   "cell_type": "markdown",
   "metadata": {
    "pycharm": {
     "name": "#%% md\n"
    }
   },
   "source": [
    "### Conference proceeding/ Book title"
   ]
  },
  {
   "cell_type": "code",
   "execution_count": 284,
   "metadata": {
    "pycharm": {
     "name": "#%%\n"
    }
   },
   "outputs": [],
   "source": [
    "def get_proceedings(bs, url):\n",
    "    \"\"\"\n",
    "    Returns the title of the conference proceedings or book under which the publication was published.\n",
    "    :param bs: Received bs of the publication\n",
    "    :param url: URL of the publication\n",
    "    :return: Title of the proceedings/book (String)\n",
    "    \"\"\"\n",
    "    if get_publication_type(bs, url) == 'Conference paper':\n",
    "        try:\n",
    "            json_data = get_json_data(bs)\n",
    "            proceedings = json_data.get('isPartOf').get('name')\n",
    "            return proceedings\n",
    "        except:\n",
    "            return None\n",
    "    else:\n",
    "        return None"
   ]
  },
  {
   "cell_type": "code",
   "execution_count": 285,
   "metadata": {
    "pycharm": {
     "name": "#%%\n"
    }
   },
   "outputs": [
    {
     "name": "stdout",
     "output_type": "stream",
     "text": [
      "None\n",
      "Social Computing and Social Media. Design, Ethics, User Behavior, and Social Network Analysis\n",
      "None\n",
      "None\n"
     ]
    }
   ],
   "source": [
    "for soup, url in zip(springer_soups, springer_links):\n",
    "    print(get_proceedings(soup, url))"
   ]
  },
  {
   "cell_type": "markdown",
   "metadata": {
    "pycharm": {
     "name": "#%% md\n"
    }
   },
   "source": [
    "## Book/ volume contributions\n",
    "### Book title"
   ]
  },
  {
   "cell_type": "code",
   "execution_count": 47,
   "metadata": {
    "pycharm": {
     "name": "#%%\n"
    }
   },
   "outputs": [],
   "source": [
    "def get_book_title(bs, url):\n",
    "    \"\"\"\n",
    "    Returns the title of the book under which the publication was published.\n",
    "    :param bs: Received bs of the publication\n",
    "    :param url: URL of the publication\n",
    "    :return: Title of the book (String)\n",
    "    \"\"\"\n",
    "    if get_publication_type(bs, url) == 'Chapter':\n",
    "        try:\n",
    "            json_data = get_json_data(bs)\n",
    "            book_title = json_data.get('isPartOf').get('name')\n",
    "            return book_title\n",
    "        except:\n",
    "            return None\n",
    "    else:\n",
    "        return None"
   ]
  },
  {
   "cell_type": "code",
   "execution_count": 48,
   "metadata": {
    "pycharm": {
     "name": "#%%\n"
    }
   },
   "outputs": [
    {
     "name": "stdout",
     "output_type": "stream",
     "text": [
      "None\n",
      "None\n",
      "None\n",
      "The Art of Structuring\n"
     ]
    }
   ],
   "source": [
    "for soup, url in zip(springer_soups, springer_links):\n",
    "    print(get_book_title(soup, url))"
   ]
  },
  {
   "cell_type": "markdown",
   "metadata": {
    "pycharm": {
     "name": "#%% md\n"
    }
   },
   "source": []
  },
  {
   "cell_type": "code",
   "execution_count": 49,
   "metadata": {
    "pycharm": {
     "name": "#%%\n"
    }
   },
   "outputs": [],
   "source": [
    "def get_editors(bs, url):\n",
    "    \"\"\"\n",
    "    Returns the editors of the volume (under which the publication was published)\n",
    "    :param bs: Received bs of the publication\n",
    "    :param url: URL of the publication\n",
    "    :return: List of Editors : [String]\n",
    "    \"\"\"\n",
    "    if '/chapter/' in url:\n",
    "        try:\n",
    "            editor_div = bs.find('div', {'class': 'c-article-section__content', 'id': 'editor-information-content'})\n",
    "            editors = []\n",
    "            for editor in editor_div.find_all('p', class_='c-article-author-affiliation__authors-list'):\n",
    "                editors.append(editor.text)\n",
    "            # remove titles since we scrape the names\n",
    "            # remove Everything including the point from strings in list\n",
    "            editors = [editor.split('.')[1].strip() for editor in editors]\n",
    "            return editors\n",
    "        except:\n",
    "            return None\n",
    "    # in books the editors are in the json file\n",
    "    if '/book/' in url:\n",
    "        try:\n",
    "            json_data = get_json_data(bs)\n",
    "            editors = [editor.get('name') for editor in json_data.get('editor')]\n",
    "            return editors\n",
    "        except:\n",
    "            return None\n",
    "    else:\n",
    "        return None\n"
   ]
  },
  {
   "cell_type": "code",
   "execution_count": 50,
   "metadata": {
    "pycharm": {
     "name": "#%%\n"
    }
   },
   "outputs": [
    {
     "name": "stdout",
     "output_type": "stream",
     "text": [
      "None\n",
      "['Gabriele Meiselwitz']\n",
      "['Herbert Kuchen']\n",
      "['Katrin Bergener', 'Michael Räckers', 'Armin Stein']\n"
     ]
    }
   ],
   "source": [
    "for soup, url in zip(springer_soups, springer_links):\n",
    "    print(get_editors(soup, url))"
   ]
  },
  {
   "cell_type": "markdown",
   "metadata": {
    "pycharm": {
     "name": "#%% md\n"
    }
   },
   "source": [
    "## Books (in general: proceedings or editor volumes)\n",
    "### Book subtitle"
   ]
  },
  {
   "cell_type": "code",
   "execution_count": 51,
   "metadata": {
    "pycharm": {
     "name": "#%%\n"
    }
   },
   "outputs": [],
   "source": [
    "def get_book_subtitle(bs, url):\n",
    "    \"\"\"\n",
    "    Returns the subtitle of the book (proceedings or editor volume).\n",
    "    :param bs: Received bs of the publication\n",
    "    :param url: URL of the publication\n",
    "    :return: Subtitle of the book (String)\n",
    "    \"\"\"\n",
    "    if '/book/' in url:\n",
    "        try:\n",
    "            json_data = get_json_data(bs)\n",
    "            book_subtitle = json_data.get('alternateName')\n",
    "            return book_subtitle\n",
    "        except:\n",
    "            return None\n",
    "    return None"
   ]
  },
  {
   "cell_type": "code",
   "execution_count": 52,
   "metadata": {
    "pycharm": {
     "name": "#%%\n"
    }
   },
   "outputs": [
    {
     "name": "stdout",
     "output_type": "stream",
     "text": [
      "None\n",
      "None\n",
      "20th International Workshop, WFLP 2011, Odense, Denmark, July 19, 2011, Proceedings\n",
      "None\n"
     ]
    }
   ],
   "source": [
    "for soup, url in zip(springer_soups, springer_links):\n",
    "    print(get_book_subtitle(soup, url))"
   ]
  },
  {
   "cell_type": "markdown",
   "source": [
    "## Springer Metrics\n",
    "### Accesses"
   ],
   "metadata": {
    "collapsed": false,
    "pycharm": {
     "name": "#%% md\n"
    }
   }
  },
  {
   "cell_type": "code",
   "execution_count": 144,
   "outputs": [],
   "source": [
    "# Navigating with parent because accesses and citations do not have individual features.\n",
    "\n",
    "def get_accesses(bs, url):\n",
    "    \"\"\"\n",
    "    Returns the number of accesses of the publication according to the Springer metric.\n",
    "    :param bs: Received bs of the publication\n",
    "    :param url: URL of the publication\n",
    "    :return: Number of accesses (String) #TODO change to int\n",
    "    \"\"\"\n",
    "    try:\n",
    "        accesses = bs.find('span', text='Accesses').parent.text.strip().split(' ')[0]  # navigating up in the tree\n",
    "        return accesses\n",
    "    except:\n",
    "        print(\"error\")\n",
    "        return None\n"
   ],
   "metadata": {
    "collapsed": false,
    "pycharm": {
     "name": "#%%\n"
    }
   }
  },
  {
   "cell_type": "code",
   "execution_count": 146,
   "outputs": [
    {
     "name": "stdout",
     "output_type": "stream",
     "text": [
      "3826\n",
      "3883\n",
      "3080\n",
      "2340\n"
     ]
    }
   ],
   "source": [
    "for soup, url in zip(springer_soups, springer_links):\n",
    "    print(get_accesses(soup, url))"
   ],
   "metadata": {
    "collapsed": false,
    "pycharm": {
     "name": "#%%\n"
    }
   }
  },
  {
   "cell_type": "markdown",
   "source": [
    "### Citations"
   ],
   "metadata": {
    "collapsed": false,
    "pycharm": {
     "name": "#%% md\n"
    }
   }
  },
  {
   "cell_type": "code",
   "execution_count": 178,
   "outputs": [],
   "source": [
    "# Navigating with parent because accesses and citations do not have individual features.\n",
    "\n",
    "def get_citations(bs, url):\n",
    "    \"\"\"\n",
    "    Returns the number of citations of the publication according to the Springer metric.\n",
    "    :param bs: Received bs of the publication\n",
    "    :param url: URL of the publication\n",
    "    :return: Number of citations (String) #TODO change to int\n",
    "    \"\"\"\n",
    "    try:\n",
    "        citations = bs.find('span', text='Citations').parent.text.strip().split(' ')[0]  # navigating up in the tree\n",
    "        return citations\n",
    "    except:\n",
    "        try:\n",
    "            # Citat\n",
    "            citations = bs.find('a', class_='c-article-metrics-bar__label',\n",
    "                                text='Citations').parent.text.split(' ')[0].strip()\n",
    "            return citations\n",
    "        except:\n",
    "            return None\n",
    "    return None"
   ],
   "metadata": {
    "collapsed": false,
    "pycharm": {
     "name": "#%%\n"
    }
   }
  },
  {
   "cell_type": "code",
   "execution_count": 179,
   "outputs": [
    {
     "name": "stdout",
     "output_type": "stream",
     "text": [
      "5\n",
      "2\n",
      "46\n",
      "13\n"
     ]
    }
   ],
   "source": [
    "for soup, url in zip(springer_soups, springer_links):\n",
    "    print(get_citations(soup, url))"
   ],
   "metadata": {
    "collapsed": false,
    "pycharm": {
     "name": "#%%\n"
    }
   }
  },
  {
   "cell_type": "markdown",
   "source": [
    "### Text\n",
    "Text extraction of journal paper is simple because an unique identification of the tag is possible. For other publications we have to apply further logic"
   ],
   "metadata": {
    "collapsed": false,
    "pycharm": {
     "name": "#%% md\n"
    }
   }
  },
  {
   "cell_type": "code",
   "execution_count": 242,
   "outputs": [],
   "source": [
    "\n",
    "def extract_text_from_p_tags(p_tags):\n",
    "    \"\"\"\n",
    "    Help method to extract text from multiple p-tags\n",
    "    :param p_tags: List of p-tags as result of a bs search : bs4.element.ResultSet\n",
    "    :return: String with total text\n",
    "    \"\"\"\n",
    "    result_text = ''\n",
    "    for p in p_tags:\n",
    "        if result_text == '':\n",
    "            result_text += p.text  # No break for first paragraph\n",
    "        else:\n",
    "            result_text += f'\\n\\n{p.text}'  # Break for paragraph\n",
    "    return result_text\n",
    "\n",
    "\n",
    "def get_full_text(bs, url):\n",
    "    \"\"\"\n",
    "    Returns the accessible text of the publication structured in different paragraphs. This may be the total text or only a part of.\n",
    "    :param bs: Received bs of the publication\n",
    "    :param url: URL of the publication\n",
    "    :return: Returns a list of ordered dictionaries. Each dictionary contains the name respectively text of the paragraph.\n",
    "    \"\"\"\n",
    "    text = []\n",
    "\n",
    "    if '/article/' in url:  # article extractions works\n",
    "        try:\n",
    "            main_div = bs.find('div', class_='main-content')\n",
    "            sections = main_div.findAll('section')\n",
    "            for section in sections:\n",
    "                chapter_name = section.h2.text\n",
    "                p_tags = section.findAll('p')\n",
    "                chapter_text = extract_text_from_p_tags(p_tags)\n",
    "                text.append({\n",
    "                    'chapter_name': chapter_name,\n",
    "                    'chapter_text': chapter_text\n",
    "                })\n",
    "            return text\n",
    "        except:\n",
    "            print(\"Error try clause\")\n",
    "\n",
    "    if '/chapter/' in url:\n",
    "        pass\n",
    "        # TODO\n",
    "\n",
    "    if '/book/' in url:\n",
    "        return None\n"
   ],
   "metadata": {
    "collapsed": false,
    "pycharm": {
     "name": "#%%\n"
    }
   }
  },
  {
   "cell_type": "code",
   "execution_count": 246,
   "outputs": [
    {
     "name": "stdout",
     "output_type": "stream",
     "text": [
      "How retailers and customers interact is constantly changing. The advent of omni-channel retailing made clear that customer interaction does not stop at a particular channel’s boundaries (Lemon and Verhoef 2016; Saghiri et al. 2017), as exemplified by hybrid customer interactions, where customers use digital and physical channels in parallel (Hosseini et al. 2017; Nüesch et al. 2015).\n",
      "\n",
      "With the emergence of smart retail technologies (Roy et al. 2017) that blur the boundaries between physical and digital channels (Roy et al. 2018), the number of touchpoints (TPs) a retailer must manage is increasing (Lewis et al. 2014; von Briel 2018). While the use of information and communication technology to improve processes has a long history in brick and mortar (BaM) retail, front-stage interactions with customers have primarily been based on person-to-person interaction (Betzing et al. 2018). In contrast, e-commerce, by definition, is built upon customer contact via e-service touchpoints (eTPs). Service is the application of competencies “through deeds, processes, and performances for the benefit of another entity or the entity itself” (Vargo and Lusch 2008, p. 26), which, when conveyed through a digital interface, is called e-service (Beverungen et al. 2011; Rowley 2006). eTPs are stimuli that customers may encounter when interacting with digital interfaces (Barann et al. 2020). In this article, eTPs are assumed to be classes of TPs (Heuchert et al. 2018) with e-commerce functionalities. For example, an online shop might provide access to product-comparison TPs. Trends like “bricks-and-clicks,” where TPs from stationary channels are adapted to e-commerce settings (Herhausen et al. 2015), allow online retailers to improve their existing eTPs and innovate new ones (e.g., Garnier and Poncin 2019; Jiyeon Kim and Forsythe 2008a, 2008b). The e-commerce industry has gained experience with eTPs over the last two decades, so it can be assumed that e-commerce has converged toward a set of dominant eTPs that appear in most online shops (cf. Suárez 2004).\n",
      "\n",
      "Retailers that operate exclusively in the BaM channel face pressure to innovate their TPs since the digital transformation has profoundly impacted the competitive market structure in favor of e-commerce and digital retail business models (V. Kumar et al. 2017; Verhoef et al. 2015). In addition, customers’ expectations regarding digital services offered by BaM retailers are increasing (Blázquez 2014; Bollweg et al. 2020; Hagberg et al. 2016). To create customer value, retailers can choose from a wide variety of technologies and eTPs (Vargo and Lusch 2008; Voorhees et al. 2017; Willems et al. 2017), but doing so is challenging, as their introduction carries risks and uncertainties (Pantano 2014), and BaM retailers have little guidance regarding what eTPs to implement. Research lacks clarity regarding customers’ intentions to use eTPs in BaM retail stores. While research investigates customers’ acceptance of various eTPs in e-commerce,Footnote 1 most studies on channel choice suggest that customers’ behavior in e-commerce and BaM retail differs (Schramm-Klein et al. 2007). However, only a few studies give advice regarding individual technologies and online practices that can be offered in the physical retail servicescape.Footnote 2 To fill this gap, this article investigates customers’ behavioral intentions toward BaM eTPs.\n",
      "\n",
      "Customers are likely to be familiar with the most prominent eTPs in e-commerce, so it can be argued that comparable eTPs for physical stores are a good starting point for BaM retailers to meet customers’ ever-changing expectations and a suitable subject for investigation. Therefore, the first research question is:\n",
      "\n",
      "\n",
      "RQ1: Are customers likely to use eTPs, which have been adopted from e-commerce and adapted to BaM retail?\n",
      "\n",
      "\n",
      "Furthermore, to determine the likeliness that customers will use such adapted eTPs in BaM retail stores, this manuscript aims at assessing what TP characteristics determine customers’ interest in the eTPs. Thus, the second research question is:\n",
      "\n",
      "\n",
      "RQ2: Is the likeliness that customers will use these e-service touchpoints affected by the touchpoints’ characteristics?\n",
      "\n",
      "\n",
      "An exploratory sequential multi-method approach (Creswell 2013; Mingers 2003) was used to answer these research questions and provide a broad overview of eTPs for BaM retail stores. First, a set of dominant eTPs offered by leading e-commerce platforms was selected, and each TP was adapted for use in the physical BaM servicescape. Second, a quantitative survey (Recker 2013) was fielded to 250 potential shoppers to determine the likeliness that they would use the candidate eTPs in a BaM context. Next, the determinants of the likeliness that customers would use the eTPs were subject to statistical tests and an exploratory factor analysis (Fabrigar et al. 1999) to reveal the unobserved TP characteristics that led to the survey results. Related to studies that focus on the overarching channels and interfaces, this work explores the determinants of customers’ behavioral intentions toward eTPs in BaM retail stores. The exploratory results suggest that customers’ intentions to use various kinds of BaM eTPs vary and are affected by their characteristics. Therefore, further research that considers the individual TPs next to more coarse-grained concepts is justified, as is whether to treat groups of eTPs that have common characteristics similarly.\n",
      "\n",
      "The remainder of this article unfolds as follows: First, the research background is introduced, followed by an explanation of the research approach. Then the eTPs are adapted, and the survey results are presented to address RQ1. Next, RQ2 is addressed by revealing the results of the exploratory factor analysis. The penultimate section discusses the findings, and finally, the article concludes with a summary, a discussion of the study’s limitations, and opportunities for further research.\n",
      "Optimizing the customer experience requires companies to take a fine-grained view of all the TPs its customers have with them (von Briel 2018). Omni-channel management uses “a synergetic management” (Verhoef et al. 2015, p. 176) of TPs across all available channels to improve their overall performance. However, according to Becker and Jaakkola (2020, p. 637), customer experiences are all “non-deliberate, spontaneous responses and reactions to particular stimuli,” which cannot be directly created. Instead, they suggest that a company can define intended experiences, design TP stimuli accordingly, and manage the customers’ TP encounters that follow. Research offers various versions of what constitutes the TP and the channel (e.g., Berendes et al. 2018; Kronqvist and Leinonen 2019; Richardson 2010). The channel usually refers to a particular medium that facilitates the interaction between a company and its customers (Halvorsrud et al. 2016; Neslin et al. 2006). The concepts of offline, online/digital, and mobile channels describe collections of related media, such as online shops and social media, which are specific digital channels or TPs (e.g., Hickman et al. 2019; Jocevski et al. 2019; Straker et al. 2015). Others understand TPs as individual channels or media (e.g., Baxendale et al. 2015; Lim et al. 2015; Straker et al. 2015), actual moments of contact or encounters that constitute customer journeys (e.g., Halvorsrud et al. 2016; Homburg et al. 2017; Verhoef et al. 2015), and perceptible stimuli that offer the potential for encounters (e.g., S. Davis and Longoria 2003; Kronqvist and Leinonen 2019; Richardson 2010). This article follows a differentiated understanding (e.g., Berendes et al. 2018; Følstad and Kvale 2018; Heuchert et al. 2018; Kronqvist and Leinonen 2019) and defines the customer touchpoint as “a stimulus fulfilling a specific role within the customer journey. It has an interface, which grants access to the stimulus and is mediated by a human, an analog object, or a technology situated in a physical or digital sphere. When encountering a touchpoint, a message between the customer and the retailer, its brand, or other customers is transmitted. This encounter causes a customer experience” (Barann et al. 2020, p. 7 in preprint). The customer journey is a process or path made up of a sequence of TPs the customer encounters to use or access a service (Becker and Jaakkola 2020; Følstad and Kvale 2018; Patrício et al. 2011). A medium conveys a whole collection of stimuli via an interface like a smartphone application (app) or a human-mediated service interface. The medium is subsequently assigned to a type of channel (Barann et al. 2020).\n",
      "\n",
      "Figure 1 illustrates the hierarchical relationship among the channel, the medium, the TP interface, and the TP stimuli. Each concept is the subject of its own body of scholarly work. Transcending the hierarchy, research also discusses channel choice, technology acceptance, and customers’ behavioral intentions toward individual TPs.\n",
      "\n",
      "Exemplary Non-Exclusive and Non-Exhaustive Relationships between Channels, Media, Interfaces, and Stimuli. Adapted from Wagner (2015)\n",
      "\n",
      "In the presence of multiple and integrated channels, understanding the determinants of customers’ channel choice behavior is a complex issue that is subject to intense research (Galipoglu et al. 2018; Steven et al. 2018; Neslin et al. 2006). Research finds that marketing efforts, channel attributes, social effects, channel integration, situational factors, and individual differences among customers, such as previous channel experience, determine customers’ channel choice (Melero et al. 2016; Neslin et al. 2006).\n",
      "\n",
      "As a result of the introduction of new digital channels and their increasing interconnections, companies must now ensure that their channels meet their customers’ requirements for each stage of the customer journey, instead of the customer journey as a whole (Zhao and Deng 2020). Customers choose their channels based on the tasks they seek to complete (Maity and Dass 2014), the stage of their customer journey (Frasquet et al. 2015; Hummel et al. 2017), and the degree to which a channel’s attributes are suited to the customer’s shopping goals (Dholakia et al. 2010). The relevance of the channels’ attributes to the customer varies with the situation along the journey. In response, existing research assesses the sequences of choices as parts of customer journeys. The complexity of omni-channel customer journeys makes it a paramount concern for researchers and firms to understand customers’ choices of interactions along these journeys (Barwitz and Maas 2018).\n",
      "\n",
      "Retailers can add a variety of technologies to their BaM stores (Inman and Nikolova 2017), blending them into a holistic and integrated customer experience (Blázquez 2014). When they integrate self-service (e.g., Falk et al. 2007) or other smart retail technologies (e.g., Roy et al. 2018), BaM retailers add new digital service interfaces to their physical servicescape, impacting their customers’ perceptions about the channel. For example, Wagner (2015) finds that the interfaces provided for customers to access an electronic channel impact their channel evaluations. Therefore, retailers should not only consider each channel as a whole but also each channel’s components to understand and guide customers’ channel choice.\n",
      "\n",
      "Customers’ perceptions of value are affected by their in-store experiences, which themselves are affected by technology. To improve this experience, the applied technology has to meet the customers’ expectations and be relevant to them (Blázquez 2014). Besides self-service technologies, mobile technologies can bridge the gap between online and offline channels, as they can mirror the e-commerce experience in BaM retail (Mirsch et al. 2016). These technologies impact the customer journey and enable the introduction of new TPs (Lemon and Verhoef 2016). To select beneficial technologies (Inman and Nikolova 2017), retailers require knowledge about their customers’ acceptance of these technologies (Pantano 2014). Roy et al. (2018, p. 156) suggest academia to “explore customers’ acceptance of specific” technologies in more detail.\n",
      "\n",
      "Studies on the acceptance of retail technologies employ the well-established Technology Acceptance Model (e.g., F. D. Davis 1985, 1989) or the Unified Theory of Acceptance and Use of Technology (Venkatesh et al. 2003, 2012). Such studies analyze factors that impact customers’ attitude toward (e.g., Müller-Seitz et al. 2009; Roy et al. 2018), behavioral intention toward (e.g., Chopdar et al. 2018; Müller-Seitz et al. 2009; Roy et al. 2018), intention to use (e.g., Aloysius et al. 2018; El Azhari and Bennett 2015), and use behavior (e.g., Chopdar et al. 2018; Demoulin and Djelassi 2016) regarding retail technologies like mobile shopping apps (e.g., Chopdar et al. 2018; Natarajan et al. 2018), location-based retail apps (e.g., Kang et al. 2015; Uitz and Koitz 2013), Radio-Frequency Identification (RFID) technologies (e.g., Müller-Seitz et al. 2009; Rothensee and Spiekermann 2008), or self-service technologies (Demoulin and Djelassi 2016; Weijters et al. 2007), as well as the in-store use of personal smartphones (e.g., Mosquera et al. 2018).\n",
      "\n",
      "Studies that address what leads to customers’ acceptance of technologies often miss to consider the impact of specific functionalities when a generic type of technology or an app that might be able to fulfill various tasks along the customer journey is the subject of the analysis. Still, some authors have conducted sub-studies that compared BaM technologies that offer certain functionalities (Inman and Nikolova 2017) or have certain service characteristics (Aloysius et al. 2018). These studies find that certain functionalities and design characteristics of technologies and services affect customers’ perceptions of technology in BaM retail stores. Natarajan et al. (2018) find that the type of device moderates the effect of various variables on the customers’ intentions to use mobile shopping apps. While channel choice is affected by the available interfaces (Wagner 2015), customers’ perceptions of such interfaces depend on the specific functionalities (Aloysius et al. 2018; Inman and Nikolova 2017) and the device used (Natarajan et al. 2018). In retail, the functionalities of, for example, a smartphone app can be considered TPs intended for certain stages of the customer journey (Boyd et al. 2019). Therefore, retailers should consider not only each interface as a whole but its components (i.e., its eTPs) to understand and guide customers’ technology acceptance.\n",
      "\n",
      "TPs offer various means of interaction during the customer journey (Boyd et al. 2019; Jocevski et al. 2019). All of the TPs customers encounter during their journeys have “direct and more indirect effects on purchase and other customer behaviors” (Lemon and Verhoef 2016, p. 82), so optimizing customers’ experiences requires an understanding of what characteristics cause these effects (Ponsignon et al. 2017; Verhoef et al. 2015). This article focuses on the factors that determine customers’ behavioral intentions toward eTPs in BaM stores. This manuscript understands these behavioral intentions as “the degree to which a person has formulated conscious plans to perform or not perform some specified future behavior” (Warshaw and Davis 1985, p. 214), that is, the likelihood that a person uses a specific eTP as part of a future BaM customer journey.\n",
      "\n",
      "Few studies investigate TPs (instead of channels) on a fine-grained level. Some use the TP concept to discuss various channels, media, or interfaces that belong to channels.Footnote 3 Few explicitly name and focus on TP stimuli or encountersFootnote 4 or focus on their characteristics.Footnote 5 Several studies discuss the determinants of customers’ behavioral intentions toward eTPs in an e-commerce context without calling them “touchpoints.”Footnote 6 Some studies analyze customers’ behavioral intentions toward TPs that are adapted from BaM retail to e-commerce (e.g., Garnier and Poncin 2019; Jiyeon Kim and Forsythe 2008a, 2008b). While most research on channel choice suggests that the customer behavior in e-commerce and BaM retail differs (Cervellon et al. 2015; Schramm-Klein et al. 2007), Schramm-Klein et al. (2007) and Walsh et al. (2010) show that customers’ criteria for evaluating e-commerce and BaM stores are similar but also that customers’ evaluation of services is significantly more important in online shops. Still, smart retail technologies in particular (Roy et al. 2017; Roy et al. 2018), along with the hybrid customer interactions they foster (Hosseini et al. 2017; Nüesch et al. 2015), unfold a new smart servicescape (Sanjit K. Roy et al. 2019) that combines aspects of BaM retail with those of e-commerce, leading to a technology-mediated in-store experience (Roy et al. 2017). Therefore, whether results from studies on eTPs in e-commerce can be transferred to BaM retail remains in question.\n",
      "\n",
      "However, only a few studies focus on customers’ behavioral intentions toward eTPs in this hybrid setting, although they do not use the term TP but use online practices and technologies (Lazaris et al. 2015a, 2015b), features (Burke 2002), or services (e.g., de Kerviler et al. 2016; Schierz et al. 2010), or name the particular TP under consideration. For example, studies focus on customers’ acceptance of mobile information search (de Kerviler et al. 2016), mobile self-checkout (Johnson et al. 2019), mobile payment (de Kerviler et al. 2016; C. Kim et al. 2010; Schierz et al. 2010), mobile coupons (Liu et al. 2015), mobile recommendation agents (Kowatsch and Maass 2010), mobile marketing (Persaud and Azhar 2012), or specific fashion retail eTPs (H.-Y. Kim et al. 2017; Weinhard et al. 2017). Some articles on self-service technologies (e.g., Aloysius et al. 2018; Demoulin and Djelassi 2016) are concerned with specific self-checkout TPs. Similar to this work, Lazaris et al. (2015a, 2015b) compare customers’ valuation of various online practices and technologies in BaM retail stores.\n",
      "\n",
      "Not all studies use theoretical constructs to measure customers’ behavioral intentions toward (e.g., Liu et al. 2015), intentions to use (e.g., de Kerviler et al. 2016; C. Kim et al. 2010; H.-Y. Kim et al. 2017), intentions to participate in using (e.g., Persaud and Azhar 2012), or attitudes toward (e.g., de Kerviler et al. 2016; H.-Y. Kim et al. 2017; Schierz et al. 2010) eTP in BaM retail. Studies indicate that customers’ perceptions of, attitudes toward, and behavioral intentions differ across various eTPs (H.-Y. Kim et al. 2017) and that the predictors of their intention to use various TPs also differ (de Kerviler et al. 2016; H.-Y. Kim et al. 2017). Lazaris et al. (2015a, 2015b) use two samples in two studies to analyze customers’ perceptions of the importance of the same technologies and practices applied in BaM retail stores. In both studies, the groups of eTPs whose ratings are strong or weak are similar, and they find no significant differences in the subsets of TPs. de Kerviler et al. (2016) also find that the strength of the spillover between customers’ behavioral intentions toward different eTPs is positively related to their similarity.\n",
      "\n",
      "While such studies provide first insights into the determinants of customers’ behavioral intentions toward eTPs in BaM retail, the literature covers only a small portion of extant BaM eTPs, and there is no consensus about the approach to be used to measure the determinants that cause customers’ behavioral intentions toward eTPs in BaM retail. In summary, then, this exploratory study investigates the factors that determine the likeliness that customers would use eTPs in BaM retail, that is, how customers choose the means to communicate, interact, and exchange with other actors, such as the retailer, during their BaM customer journeys. Fig. 2 provides an overview of some of the relationships considered by the interdependent research streams at each level. Appendix A provides additional details about related works in these literature streams.\n",
      "\n",
      "Exemplary Research Perspectives in Channel Choice, Technology Acceptance, and Behavioral Intentions Toward Touchpoints (Numbers refer to the IDs in Table A.1 in Appendix A)\n",
      "\n",
      "Even though doing so is unconventional in the area of information systems research (Mingers 2001), the posited research questions ask for a combination of empirical and interpretative methods: While assessing the likeliness that customers would use eTPs (RQ1) implies empirical work, understanding the factors that cause customers to use the TPs (RQ2) requires going beyond quantitative work, so this study uses a data-driven (Müller et al. 2016) multi-method approach (Mingers 2003) to address its research questions. This mix of methods allows for an exploratory discussion of multi-sourced eTPs candidates that cover both innovative (still theoretical) eTPs and existing and implemented eTPs that are chosen from an initial qualitative web-content analysis. The structure and contextualization of the methods used in the research framework are visualized in Fig. 3. With the output of each step, typically being the input for its successor, an explanatory, sequential approach is followed (Creswell 2013). This study extends the work of Betzing et al. (2019) by using an in-depth analysis to discuss the underlying factors causing the likeliness that customers would use eTPs in BaM retail stores, transcending the mere descriptive ranking of eTPs that are likely to be used.\n",
      "\n",
      "Research Framework\n",
      "\n",
      "The first step was to identify candidate TPs for the analysis using a qualitative web-content analysis approach (Mayring 2014), following the lens of dominant design theory (Suárez and Utterback 1995) and acknowledging the lack of a formally derived list of eTPs for BaM retail in the literature. Through the systematic analysis of popular e-commerce solutions, a selection of commonly offered eTP candidates with which customers are likely to be familiar was selected.\n",
      "\n",
      "To assess the likeliness that customers would use generic BaM eTPs—and not specific e-commerce instantiations (e.g., the Amazon shopping cart)—their features were identified to adapt them to BaM retail. In keeping with Beverungen et al. (2011), service blueprints were created to transfer the services from one servicescape to the other. These blueprints were also used to support the discussions between the researchers and to inform the survey design.\n",
      "\n",
      "A quantitative survey research approach was followed (Recker 2013) to capture the likeliness that shoppers will use the BaM eTPs (RQ1) derived in the preceding step. As method advocates like Bitner et al. (2008) recommend initial training to establish a common understanding of formalized models like service blueprints, these blueprints would have been unsuitable for describing the eTPs to survey participants. Hence, similar to Inman and Nikolova (2017), Aloysius et al. (2018), and Kleijnen et al. (2007) who used textual descriptions to describe technologies or services under investigation, each eTP was described by using a less formalized description of the blueprints, keeping the semantic essence while changing the syntactical frame. Alternative approaches turned out to be inappropriate, as practical implementations of the eTPs in BaM retail stores are scattered across retailers, and several identified eTPs still lack a BaM implementation. While lab experiments would have allowed investigating specific TPs on a more detailed and technical level, the description-based survey was preferable for three reasons: First, a wider variety of TPs could be covered by avoiding costly prototype implementations. Second, abstracting from the specifics of the individual TPs allowed to observe more general TP-spanning characteristics affecting the likeliness that customers would use them. Third, by asking participants to conduct an imaginative shopping trip in a local BaM store that started to offer a series of eTPs rather than evaluating customer perceptions at a specific BaM store, the survey abstracted from contextual aspects that might have affected the results.\n",
      "\n",
      "Based on the data collected in the preceding step, correlation tests (Kendall 1938; Pearson 1895; Spearman 1904) and multivariate multiple (Dattalo 2013) ordinal logistic regressions were performed to analyze the results and provide a basis for answering RQ1. To clarify the survey results and provide a foundation to answer RQ2, an exploratory factor analysis (EFA) was conducted on the 26 survey items capturing the likeliness that the participants would use the individual eTPs. An EFA is a statistical approach that can be used to identify the common underlying dimensions or structures of survey items by analyzing their interrelationships (Hair et al. 2013). In contrast to confirmatory factor analysis, the purpose of which is to evaluate a proposed theory, EFA is used if no prior theory exists (Williams et al. 2010). The factor analysis found seven unobserved characteristics that caused the variance in the data. Finally, to ensure a theoretically grounded interpretation of these factors, three researchers independently coded each of the adapted eTPs in terms of their common TP characteristics (see Table E.4 in Appendix E.2) and the initial blueprints.\n",
      "\n",
      "This section covers the “Data Collection” phase and also the first analytical elements (i.e., the “Descriptive Statistics”). As this article is an extension to Betzing et al. (2019), the first two steps (“Qualitative Web Analysis” and “Blueprinting”) are shortened, as this article’s focus is the subsequent statistical analysis and interpretation. Further details on these steps can also be found in the Appendices B and C.\n",
      "\n",
      "Since no comprehensive scientific overview of potential eTPs for BaM retail stores was found, dominant eTPs that are promising for adaptation in the physical retail servicescape were derived from e-commerce. A qualitative web-content analysis (Mayring 2014) was conducted following the lens of dominant design theory, which proposes that a product category establishes a representative set of functions over time that is then accepted as standard (Suárez and Utterback 1995). This lens has been applied to technological milestones like microprocessor designs, PC operating systems, and television systems (Suárez 2004; Suárez and Utterback 1995). Murmann and Frenken (2006) develop a generalized framework for dominant design research, advancing this theoretical lens by making it applicable not only to technologies but to multi-level systems (Kask 2011). Therefore, as Kask (2011) argues, it is even applicable to organizational systems like market channels that are comprised of various elements with different missions. The dominance of technology can be investigated on several levels of analysis, one of which is by considering “technological artifacts as [being] composed of subsystems that are linked together [...] through specific interfaces” (Suárez 2004, p. 274).\n",
      "\n",
      "E-commerce systems can be considered such artifacts, as they are digital interfaces that belong to the online channel and are composed of various eTPs. As e-commerce is a mature domain (V. Kumar et al. 2017), it is fair to suppose that leading e-commerce systems have set a dominant design that is comprised of a set of functions that represent the requirements of various types of users (cf. Suárez and Utterback 1995). Accordingly, the designs of the eTPs that leading e-commerce systems offer most often can be considered to be dominant and that they are likely to be used in BaM retail stores as well.\n",
      "\n",
      "Therefore, the proprietary solutions of Amazon, Otto, and Zalando, the German e-commerce market leaders (Betzing et al. 2019; EHI Retail Institute 2018), were analyzed and major instances of five widespread commercial off-the-shelf (COTS) e-commerce solutions—Shopify, Magento, WooCommerce, XT:Commerce, and Shopware—were assessed (Betzing et al. 2019; Datanyze 2018). To address variances that may result from national peculiarities, customization, and differing product categories, three major European e-commerce retailers were sampled for each of the five solutions. Thirty-five eTPs were identified from which any that were not offered by at least four instances (lack of commonality) or that required an online shop for service delivery were filtered out, resulting in twenty adaptable eTPs.\n",
      "\n",
      "Service blueprints were created to transfer the eTPs from e-commerce to BaM retail (cf. Beverungen et al. 2011). Service blueprinting is a well-established, customer-focused modeling method for service innovation and improvement (Beverungen et al. 2011; Bitner et al. 2008) that yields “a picture or map that portrays the [planned] customer experience and the service system, so that the different people involved in [its development][...] can understand it objectively, regardless of their roles or their individual points of view” (Zeithaml et al. 2017, p. 238).\n",
      "\n",
      "Figure 4 illustrates the adapted In-Store Navigation (S) TP as an example of a service blueprint. Creating the service blueprints involved considering the mediating technology and the necessary activities to be performed by the customer and the BaM retailer (as the service provider). To accommodate customers’ use of various digital devices in accessing service, the original blueprinting method was extended with an additional layer that listed the digital devices that could be used to consume the service. Frequent discussion among three researchers ensured that the blueprints were (a) suitable representations of the identified eTPs and were (b) not subject to excess bias.\n",
      "\n",
      "Exemplary Service Blueprint for an Adapted In-Store Navigation (S) Touchpoint\n",
      "\n",
      "The 20 e-commerce eTPs were adapted to the 26 BaM eTPs, as depicted in Table 1, mostly mediated by a smartphone app. Numeric differences are due to the mapping applied, which mapped some multiple-input TPs to a single output TP and vice versa, and different mediating devices—i.e., terminal and smartphone—were considered for some of the TPs. The full descriptions of the adapted eTPs and their service blueprints can be found in Appendix C of this manuscript for researchers who want to reproduce (Peng 2011) and/or extend this article’s contributions.\n",
      "\n",
      "To provide additional structure, each eTP was initially categorized into one of four categories based on its value:\n",
      "\n",
      "Search & Navigation: eTPs in this category are primarily solution-oriented shopping aids (Chang and Kukar-Kinney 2011) in the pre-purchase stage (Lemon and Verhoef 2016) that assist in reducing search time and information overload (Betzing et al. 2019).\n",
      "\n",
      "Product Information: eTPs in this category are research-supporting shopping aids (Chang and Kukar-Kinney 2011) in the pre-purchase state that assist with information retrieval and alternative evaluations (Betzing et al. 2019; Lemon and Verhoef 2016).\n",
      "\n",
      "Selection & Checkout: eTPs in this category aid customers in planning, conducting, and controlling past, current, and future purchases (Betzing et al. 2019; Lemon and Verhoef 2016).\n",
      "\n",
      "Communication & Support: eTPs in this category are marketing, customer engagement, and customer care-centric eTPs that are independent of the customer journey stage (Betzing et al. 2019; Lemon and Verhoef 2016).\n",
      "\n",
      "Survey Research Approach\n",
      "\n",
      "While the adaption of dominant e-commerce TPs appears promising for BaM retailers, whether and to what extent customers are likely to use them remains unclear, as “a dominant design is not always that design which has greatest technological sweetness” (Suárez and Utterback 1995, p. 417). Therefore, a quantitative online survey (Recker 2013) was conducted to get an idea of customers’ behavioral intentions toward eTPs. Participants were first asked to imagine themselves going on a shopping trip in a futuristic BaM retail store that offers digitally enhanced services via a touchscreen terminal and/or an app on their smartphone. Participants were asked to abstract from the type of products sold and focused on the service offerings. Next, the eTP categories were introduced. Throughout the survey, each eTP was introduced in one paragraph. For example, the Product Comparison TP was described as follows: “Imagine yourself planning to select a product, e.g., a new television, out of a set of similar options. Within the Smart Store, you can use your Companion App to scan two to multiple products’ QR-Codes and compare them with each other. A table with relevant information on each product, e.g., size, price, and technical features will be displayed. Likewise, you can use a Terminal to compare multiple products by entering the product names.”\n",
      "\n",
      "The likeliness that the participant would use the eTP was surveyed using a single five-point Likert scale item (e.g., Bernard 2013) (e.g., “How likely would it be for you to use such a Product Comparison Service via an App?”). If applicable, a second item was included to investigate the alternative implementation on a terminal. The participants were also asked whether they use their smartphones to support their activities in BaM stores and how frequently they shop online. Participants provided demographic information, including their country of origin, education, gender, and age.\n",
      "\n",
      "Since BaM retail is prevalent in society, the survey was not limited to a particular audience but used prolific.co, a recruiting platform that provides researchers with representative samples of participants in terms of age, gender, and educational level, to recruit a diverse sample of more than 300 participants aged eighteen and older who were from Western countries (Betzing et al. 2019, p. 565).\n",
      "\n",
      "An attention-check question (adapted from Oppenheimer et al. (2009)) used to filter out inattentive participants yielded 250 valid responses. All but one participant had purchased goods and services online at least once: Nine participants (3.6%) engaged in e-commerce activities daily, 105 (42.0%) did so weekly, half did so roughly once a month, and ten used e-commerce as infrequently as once a year. The average age of the participants was 32.69 years (\\( \\overset{\\sim }{x} \\) = 31 years, σ = 9.96 years), 53.6% of whom were women. Participants came from the United Kingdom (145), the United States (52), Canada (12), Portugal (9), the Netherlands (4), and sixteen other European countries (28). Almost all the respondents (99.20%) reported owning a smartphone, and 72.80% reported using their smartphones or tablets in stores to support their shopping process. The average time participants required to complete the survey was 9 min and 37 s. Participants received £1.15 for their participation (Betzing et al. 2019, p. 565).\n",
      "\n",
      "Figure 5 shows the distribution of the responses to the eTPs, sorted by category and in descending order by average rating. The global average rating was 3.58 points. The Social Media TP ranked worst with an average of points, while the Mobile Self-Checkout TP ranked highest with an average of 4.35 points. The comparison of the four touchpoint categories revealed that respondents were most likely to use the selection and checkout TPs (∅ 3.92 points). Product information TPs (∅ 3.79 points) and search and navigation TPs (∅ 3.73 points) ranked similarly, whereas respondents were much less likely to use the communication and support TPs (∅ 2.94 points). The Social Media (σ2 = 1.71; σ = 1.31), Periodic Newsletter (σ2 = 1.64; σ = 1.28), Location-Based Newsletter (σ2 =1.60; σ = 1.27), and Messaging TPs (σ2 = 1.48; σ = 1.22) were the most controversial (Betzing et al. 2019, p. 565).\n",
      "\n",
      "Distribution of the Likeliness that Customers Would Use the E-Service Touchpoints (grouped by touchpoint categories, with groups in descending order of average score)\n",
      "\n",
      "Six eTPs were surveyed regarding the two service interfaces, smartphone (S) and in-store terminal (T). The results show that respondents preferred smartphones over terminals by an average of .50 points, and every e-service was ranked higher when it was accessed via a smartphone app. Differences in the likeliness that customers would use the smartphone and terminal variants were lowest for the Product Exploration (S&T) TPs (.26 points) and highest for the Product Information (S&T) TPs (.71 points) (Betzing et al. 2019, p. 565).\n",
      "\n",
      "Pairwise Spearman’s rank coefficients ρ between each e-service and the respondents’ ages indicated no significant relationships for TPs other than the TPs Product Comparison (T) (ρ = .48; p < .001), Read Product Review (T) (ρ = .45; p < .01), and FAQ (T) (ρ = .39; p < .01), all of which had a positive relationship with age. On the other hand, the Social Media TP (ρ = −.43; p < .01) had a negative relationship with age. Kendall’s τb did not indicate significant relationships between gender and the respondents’ answers, except for a weak positive relationship between female respondents and the Messaging TP (τb = .16; p < .01). However, women were, on average, .08 points more likely to use the TPs than men were. Although not statistically significant, women were more likely than men were to use a smartphone (.31 points) or an in-store terminal (.38 points) to read product reviews (Betzing et al. 2019, p. 565).\n",
      "\n",
      "Spearman’s rank coefficient was employed again to assess relationships between the eTPs. Results show that TPs accessed via a terminal correlated with each other but not with other TPs. Several communication and support TPs had comparatively strong relationships with each other: The Product Exploration (S) TP strongly correlated with the In-Store Navigation (S) (ρ = .51), and the Product Information (S) TP (ρ = .46). Likewise, the In-Store Navigation (S) and Product Information (S) TPs were also strongly correlated (ρ = .51). A scatter plot showing the results of this analysis is provided in Fig. D.1 in Appendix D.1 (Betzing et al. 2019, p. 565).\n",
      "\n",
      "Finally, 26 ordinal logistic regressions were performed, each of which considered the likeliness that participants would use one of the eTPs as the dependent variable and, as independent variables, the respondents’ BaM demographics, smartphone use, and online shopping frequency (see Table D.1 in Appendix D.2).Footnote 7 In addition to reconfirming relationships like the influence of being female on the likeliness that a participant would use the Read Product Review (S&T) and the Messaging TPs, the results revealed further effects between the independent variables and the likeliness that participants would to use certain eTPs. For example, retail-related smartphone use was a significant predictor of the likeliness that participants would use most eTPs. Other results are considered in the discussion section of this manuscript.\n",
      "\n",
      "Overall, the relationships between the variables and the correlations between the BaM eTPs differed, giving a reason to assess whether unobserved eTPs characteristics could explain these variances. Therefore, an exploratory factor analysis (Fabrigar et al. 1999) was conducted to reveal the factors behind the likeliness that customers would use the BaM eTPs in the sample. Because of this research’s exploratory nature, no a priori assumptions about the characteristics were made. Instead, a variety of possible eTPs were included. Still, a ratio of approximately five survey items to one derived factor was reached (Fabrigar et al. 1999). Regarding the suitability of the sample, the response to variable ratio is in the mid-field, approximately 10:1 (Comrey 1973; Williams et al. 2010), and the anti-image correlation matrix did not reveal any high partial correlations (Hair et al. 2013). The Kaiser-Meyer-Olkin Measure of Sampling Adequacy (Kaiser 1970; Kaiser and Rice 1974) showed a “meritorious” (Hair et al. 2013, p. 102) score of .858, and Bartlett’s Test of Sphericity also passed with a p-value of .000 (Hair et al. 2013). In keeping with the analysis’ goal of identifying the characteristics of eTPs that affect the likeliness that customers would use them, the factor extraction method was selected (Hair et al. 2013). A common factor analysis (CFA) with principal axis factoring was chosen instead of principal component analysis (PCA) because CFA identifies latent constructs, which results in a reflective model of factors that cause the observed variables (Costello and Osborne 2005; Gorsuch 1997; Henson and Roberts 2006). The frequently applied orthogonal VARIMAX rotation was used as a factor rotation method to identify unique uncorrelated factors (Henson and Roberts 2006). An initial solution with seven factors was derived based on the scree test and parallel analysis (95th percentile) (Costello and Osborne 2005; Fabrigar et al. 1999; Glorfeld 1995; Hair et al. 2013). Only the Product Availability and the App-Equipped Clerk TPs had loadings smaller than the recommended threshold value of .4 (Ferguson and Cox 1993; Hair et al. 2013). Likewise, the FAQ (T) and Read Product Review (T) TPs showed cross-loadings higher than .4 on more than one factor, causing the algorithm to return two factors that had just one variable strongly loading onto them. As suggested by literature (Ferguson and Cox 1993; Hair et al. 2013), these variables were removed from the model. Performing these tests on the reduced data revealed no issues.\n",
      "\n",
      "Fig. 6 presents the resulting factors and their loadings. This final model explains 51.578% of the variance (see Table E.1 in Appendix E.1), which is larger than the threshold value suggested by Merenda (1997). Table E.2 and Table E.3 in Appendix E.1 provide information on the rotated factor matrix, factor loadings, and the factor score coefficient matrix. Fig. E.1 in Appendix E.3 also shows that all eTPs described by a corresponding factor significantly correlate internally, and in some cases, these correlations are comparatively strong.\n",
      "\n",
      "Factors Affecting the Likeliness that Customers Would Use the E-Service Touchpoints\n",
      "\n",
      "Factor interpretation is a qualitative process that focuses on the researchers’ understanding of the survey items onto which a factor loads most heavily. Therefore, each survey item is assigned to the factor with the highest loading and only considered once during the process (Hair et al. 2013; Williams et al. 2010). To support this interpretation, TP characteristics were derived from the literature for coding the eTPs based on the survey descriptions. Only a few studies explicitly name and delimit characteristics of TPs. Table E.4 in Appendix E.2 explains the adapted characteristics that were applied. In effect, the eTPs were coded according to the themes “content display” (i.e., information, promotion, support, or revenue), “purpose of use” (i.e., function, diversion, or interaction), and “direction of communication” (i.e., simplex or duplex) (Straker et al. 2015, p. 114). They were also coded according to the “ownership” (Lemon and Verhoef 2016) of the medium that grants access to the eTP (i.e., customer-owned, employee-used, or retailer-owned). Finally, the eTPs were assigned to a stage of the customer journey (Hoyer et al. 2012; Lemon and Verhoef 2016; J. Lu 2017; Neslin et al. 2006).\n",
      "\n",
      "Three researchers independently coded the eTPs—6 categories with 18 features were coded for each of the 26 eTPs, yielding 468 items for each coder. By means of Holsti’s coefficient of reliability (Holsti 1969), an inter-coder reliability of rH = .86 was reached, which shows a strong agreement that is within the accepted range of .8–1.0 for nominal-scaled judgment-based data (Perreault and Leigh 1989). All deviations were discussed until a consensus was reached.\n",
      "\n",
      "The characteristics of all eTPs that are affected by a specific factor were then jointly considered to support the interpretation process. Groups of characteristics with strong or weak overlaps served as the basis for naming the factors. The results of this process are discussed below.\n",
      "\n",
      "F1: External Influential Messages as Content: F1 causes the likeliness that customers will use mostly promotion or support TPs independent of the customer journey stage, focusing on social aspects, recreational activities, and interactions. The Location-Based Newsletter received the highest factor score among the touchpoints affected by F1.\n",
      "\n",
      "F2: Terminal as Medium: F2 causes the likeliness that customers use functional eTPs mediated by a terminal that provides access to additional product or location information. The CFA suggested that some of the terminal TPs were also affected by the factors that cause the likeliness that customers will use the respective smartphone app variants.\n",
      "\n",
      "F3: Supported Product Search as Functionality: F3 causes the likeliness that customers will use functional eTPs that provide additional information for their search process during the customer journey. Within this group of eTPs, the In-Store Navigation (S), which is associated with customers’ search processes, received the highest factor score.\n",
      "\n",
      "F4: Answer Inquiries as Functionality: F4 affects the likeliness that customers will use informational eTPs, which mainly answer inquiries about the selection of alternatives and are shopping aids that allow customers to find the right products and get answers to questions quickly.\n",
      "\n",
      "F5: Historical Customer Data as Content: F5 describes two functional support TPs that provide access to historical customer data. While the Order History TP informs both the alternative evaluation and the post-purchase stage of the customer journey, the Recently Viewed Products TP allows customers to keep track of products they have already considered during their evaluation of alternatives.\n",
      "\n",
      "F6: Supported Checkout Procedure as TP Functionality: F5 causes the likeliness that customers will use revenue TPs that support the purchase stage of the customer journey. They provide alternative means for the checkout process and are meant to improve shopping efficiency.\n",
      "\n",
      "F7: Supported Product Collection as TP Functionality: Finally, F7 causes the likeliness that customers will use functional eTPs that keep track of the planned and actual shopping basket.\n",
      "The results provide first exploratory insights into customers’ behavioral intentions toward eTPs in BaM stores. These insights have several implications for research and practice. Overall, the survey participants were likely to use the BaM eTPs. They preferred TPs that aid in searching for products, finding information, selecting products, or facilitating a more efficient customer journey. In contrast, there was considerably less interest in communication and support eTPs. The regression showed that prior BaM retail-store-related smartphone use was a significant predictor of the likeliness that the surveyed shoppers would use many of the eTPs. Not significantly affected were most of the terminal TPs, the Order History, and the Write Product Review TPs. However, the latter two TPs were weakly but significantly positively affected by the frequency of online shopping, which also had a weak positive impact on the Product Exploration (S), App-Equipped Clerk, Read Product Review (S&T), Recently Viewed Products, Mobile Self-Checkout, Sales-Floor Checkout, Social Media, and the Location-Based Newsletter TPs. Males were less likely to use the Read Product Review (S&T) and Messaging TPs than women were. Finally, the Sales-Floor Checkout, Shopping List, and Location-Based Newsletter TPs were negatively affected by the participants’ education levelFootnote 8 (see Table D.1 in Appendix D.2). The moderate correlations between some touchpoints (see Fig. D.1 in Appendix D.1) indicate a potential for bundling service offerings, albeit, without an immediate need for BaM retailers to act. The factor analysis uncovered seven factors that affect the likeliness that customers would use the proposed eTPs. The TPs that are described by a factor correlate (see Fig. E.1 in Appendix E.3), indicating that customers could perceive the corresponding TPs as being similar. The results support research that found that customers perceive groups of eTPs as similar (Lazaris et al. 2015a, 2015b), and that found stronger spillover effects for similar TPs (de Kerviler et al. 2016). Thus, this article provides preliminary evidence that the likeliness that customers will use eTPs in BaM stores is affected by the TPs’ characteristics and, so it indicates that it could be reasonable to treat eTPs that form such groups similarly. The identified factors are discussed in the following.\n",
      "\n",
      "Since its inception, e-commerce has been primarily functional in nature (Noble et al. 2005), making its utilitarian benefits for information search vital to customers (Blázquez 2014), particularly, because the usefulness of a channel for facilitating product information search affects the frequency of product searches and purchases through that channel (Jihyun Kim and Lee 2008). By complementing physical stores with eTPs, the e-commerce experience can be replicated in BaM retail (Mirsch et al. 2016; Roy et al. 2017; Roy et al. 2018). Technology supports the in-store shopping process and improves the customer experience (Renko and Druzijanic 2014; Tyrväinen and Karjaluoto 2019; Verhoef et al. 2015). As the factor analysis indicates, the highest-rated eTPs aid customers in their search, collection, and selection of products (F3, F7, and F4) and or more efficient checkout procedures (F6). The eTPs that are affected by these factors can be considered research-supporting and solution-oriented shopping aids (Chang and Kukar-Kinney 2011) that increase customers’ shopping effectiveness (i.e., finding the right products) and efficiency (i.e., fast service) (Blázquez 2014; Meuter et al. 2003).\n",
      "\n",
      "The informational and functional eTPs that are affected by the factors F3 and F7 support customers in product search and retrieval. According to prior research, behavioral intentions toward mobile information search in BaM retail stores are typically affected by customers’ perceptions of its benefits (de Kerviler et al. 2016). In addition, prior research suggests that the utilitarian benefits of digital TPs are more important than their hedonic benefits (Vannucci and Pantano 2019). Functional in-store technologies are shown to cause fewer privacy concerns than others and may even reduce them in mobile apps, including promotional TPs (Inman and Nikolova 2017). However, the technology and its mediated information must be trustworthy, and customers’ privacy concerns could still limit their acceptance (Resatsch et al. 2008).\n",
      "\n",
      "F4 affects three eTPs that allow customers to gather information for their evaluation of alternatives or purchase decisions. Thus, the likeliness that customers will use these eTPs could be affected by their ability to find the right products and get answers to questions quickly. The information provided by these eTPs is product-related, customer-generated, and brand-generated. The survey results support extant studies’ suggestion(e.g., Tyrväinen and Karjaluoto 2019) to implement eTPs that allow customers to compare products. Also, the positive attitude of the surveyed shoppers toward the Read Product Review (S) TP is unsurprising since prior research argues for the importance of direct customer-to-customer (C2C) interaction in BaM retail stores (Harris et al. 1997). C2C interaction also has a stronger impact on satisfaction than customer-to-employee interaction does (Harris et al. 1997), which, in turn, can impact customers’ attitudes about a store (Lee and Lim 2017). However, the impact of digital C2C interactions like product reviews on purchase behavior in e-commerce differs based on the customer’s age (von Helversen et al. 2018). As channel characteristics can moderate such effects, the impact of novel digitally enabled C2C interactions in the smart BaM servicescape requires further investigation (Libai et al. 2010). In addition, the surveyed shoppers were less likely to use the FAQ (S) TP than they were to use the other two eTPs. Similarly, Kim and Stoel (2005) show that, compared to other TPs in e-commerce, customer attitudes toward FAQ TPs were, on average, the lowest. Still, Kim and Stoel (2005) find that such TPs affect purchase intentions. Therefore, further research should investigate such BaM TPs in more detail.\n",
      "\n",
      "Finally, F6 affected two TPs that are concerned with alternative checkout services. Overall, prior research finds varying impacts of perceived usefulness, the relative advantage in terms of time-savings and reduced customer confusion, ease of use, risks, perceived security, and compatibility on the customers’ intention to use mobile self-checkout or payment eTPs (Aloysius et al. 2018; de Kerviler et al. 2016; Johnson et al. 2019; C. Kim et al. 2010; Schierz et al. 2010). In the survey, Mobile Self-Checkout was the most prominent eTP. The participants’ online shopping frequency had a weak but significant positive impact on the likeliness that they would use this eTP (see Table D.1 in Appendix D.2). Usually, customers attach importance to and have a positive attitude about self-checkout TPs (Inman and Nikolova 2017; Lazaris et al. 2015a, 2015b), as they provide several benefits (Renko and Druzijanic 2014), including improved efficiency because they are faster than their employee-operated counterparts (Vannucci and Pantano 2019; Vuckovac et al. 2017). By reducing the time and effort required in shopping in BaM stores, retailers can drive store patronage intentions (Baker et al. 2002). Time convenience was also shown to have positive impacts on customers’ perceptions of the value of the mobile channel, which encourages customers to use the channel (Kleijnen et al. 2007). In contrast, the Sales-Floor Checkout received lower ratings by the shoppers surveyed on average. Further research should investigate whether dependence on employees reduces customers’ perceptions of an eTP’s potential to save time. The participants’ prior BaM-retail-related smartphone use had a significant positive impact on the likeliness that they would use this eTP (see Table D.1 in Appendix D.2). In addition, its similarity to the existing self-checkouts offered by some retailers may have positively affected the participants’ perceptions of the Mobile Self-Checkout TP, so an exposure or a spillover effect could have occurred (de Kerviler et al. 2016; Zajonc 1968), which could be subject to further research.\n",
      "\n",
      "In sum, based on the findings from the survey and prior research, BaM retailers should design and introduce easy-to-use eTPs that, depending on the industry, provide utilitarian and/or hedonic benefits with low privacy concerns for the pre-purchase stage (e.g., for additional store-generated, product-related, or customer-generated information) and the purchase stage (e.g., more efficient checkout services). However, considering prior research, in addition to customer benefits and acceptance, the retailers’ benefits and outcomes should also be considered (Inman and Nikolova 2017; Renko and Druzijanic 2014). In e-commerce, for example, search support, FAQs, and product-comparison services can affect customers’ purchase intentions (M. Kim and Stoel 2005). Therefore, further research could consider the effect of eTPs on customers’ purchase intention in BaM retail stores in more detail. For instance, digital shopping lists can contain fewer items but result in more hedonic and unplanned purchases (Huang and Yang 2018), and customers spend more money in BaM stores when they use the internet to search for information (Sands et al. 2010) and are more likely to buy fresh products if they are provided with (real-time) information via eTPs (Fagerstrøm et al. 2017), making such eTPs potential revenue drivers.\n",
      "\n",
      "Content-related factors are concerned with influential external input from the retailer or from other customers (F1) and access to historical customer data (F5). F1 loads onto several promotional and support TPs that have a diversional or interactional nature. Some of the TPs that are affected by F1 are among those that are least desirable.\n",
      "\n",
      "F1 affects three promotional eTPs—the Product Recommendation and the two Newsletter TPs—meant to stimulate customers to recognize needs based on previous purchases. According to prior research, customers’ brand trust, shopping styles, and perceived value affect their intention to participate in mobile marketing (Persaud and Azhar 2012). Research highlights customers’ negative sentiment toward intrusive communication and personalization in BaM stores (Burke 2002) and even suggests lower use intentions and stronger privacy concerns for personalized e-services in BaM retail stores than in e-commerce (Wetzlinger et al. 2017). It may be for these reasons that, similar to other studies (Lazaris et al. 2015a, 2015b), participants gave the Product Recommendation TPs mediocre ratings. In contrast, other studies argue that customers prefer stores that offer Product Recommendation TPs and show that customers’ behavioral intentions toward such eTPs are driven by their perceived usefulness (Kowatsch and Maass 2010). Relative advantages and personalization are also shown to have a positive mediated impact (i.e., via satisfaction and perceived risk) on customers’ behavioral intentions toward retail technologies (Roy et al. 2017). Vannucci and Pantano (2019) find that customers have more trust in the suggestions made by digital TPs than they have in those made by human TPs. However, past e-commerce research suggests that personalization has no effect on purchase intentions (M. Kim and Stoel 2005). Future research could consider in more detail the factors affecting customers’ behavioral intentions toward BaM Product Recommendation TPs and their impact on customers’ purchase intentions.\n",
      "\n",
      "The Location-Based Newsletter received the second-lowest average rating among the eTPs in the survey. Research on location-based retail services and apps finds varying impacts of perceived usefulness, cognitive/affective involvement, ease of use, flow (i.e., enjoyment, control, and concentration), trust, and privacy concerns on customers (Kang et al. 2015; Uitz and Koitz 2013; Zhou 2016). For example, the positive impact of affective involvement on the intention to use is greater for experientially oriented customers (Kang et al. 2015). Companies can also affect flow, trust, and privacy concerns, all of which can affect customers’ continuance intention through the quality of the system, service, and information (Zhou 2016). This article’s survey results show that privacy concerns may be reflected by the average higher rating of the Location-Based Newsletter TP’s periodic counterpart. Prior research finds that different means of delivery, interface mobility, and customers’ privacy needs affect revenues from location-based marketing differently (Banerjee et al. 2020). Therefore, research and practice should consider different design options, when designing location-based eTPs.\n",
      "\n",
      "F1 also affects three supportive TPs that are of a diversional and interactional nature (cf. Straker et al. 2015). Aside from its potential to reduce the frustration of finding store employees, the likeliness that the surveyed shoppers would use the Messaging TP, which is not bound to a specific stage of the customer journey, was lower on average than twenty of the other eTPs. In an e-commerce context, prior research shows that service quality and customer satisfaction have indirect impacts (i.e., via perceived usefulness and ease of use) on customers’ acceptance of support chats (Elmorshidy 2013). However, customers usually attach more importance to personal contact in BaM retail stores (Schramm-Klein et al. 2007) and prefer C2C interactions over customer-to-employee interactions (Harris et al. 1997). These preferences might explain the lower rating of the eTP in this regard, as an eTP might be seen as impersonal and lacking direct human interaction. Further research could investigate the impact of these preferences in more detail.\n",
      "\n",
      "The Write Product Review TP is the fourth least likely to be used, and the Social Media TP the least likely. However, prior research shows that social media can affect purchase decisions in BaM retail stores. The trust and loyalty of several customer segments are affected by user-generated content differently (Beurer-Züllig and Klaas 2020), so such TPs should not be overlooked. For example, in fashion retail, in addition to perceived usefulness, perceived enjoyment is an essential determinant of customers’ behavioral intentions toward various eTPs, including social media (H.-Y. Kim et al. 2017). Similarly, Weinhard et al. (2017) find that customers’ hedonic motivations have a strong impact on behavioral intentions and that the customers’ willingness to provide personal information is almost as important.\n",
      "\n",
      "In sum, F1 affects stage independent, post-purchase, and pre-purchase TPs that allow customers to create user-generated and consume brand-generated content. F1 could indicate that BaM shoppers are still critical of personalized and intrusive communication (cf. Burke 2002) in a hybrid BaM servicescape and, so they perceive eTPs that enable them to influence other customers as being similar to those that try to influence them through brand-generated content. F1 could also indicate that customers perceive eTPs, which complement the activities along the traditional BaM customer journey, as less useful than those supporting existing activities.\n",
      "\n",
      "The second content-related factor (F5) affects the likeliness that customers will use two functional eTPs that give them access to historical customer data, thus supporting the alternative evaluation and post-purchase stages. Both eTPs received moderate ratings from the surveyed shoppers. The frequency of online shopping had a weak positive impact on the Order History and the Recently Viewed Products TPs, and the latter was also significantly affected by prior BaM-retail-related smartphone use (see Table D.1 in Appendix D.2). Either the shoppers perceived these TPs as less intrusive (cf. Burke 2002) than those affected by F1, or they perceived more advantage from and control over them (cf. Roy et al. 2017). Further research could investigate customers’ perceptions of the collection, presentation, and analysis of customer data in the context of various BaM eTPs in more detail.\n",
      "\n",
      "Considering the survey results and the findings of prior research, BaM retailers should implement non-intrusive promotional and interactional TPs that customers perceive as useful and enjoyable, and that consider their privacy needs. When eTPs use historical data, BaM retailers should consider customers’ perceptions of the eTPs’ usefulness and customers’ control over them.\n",
      "\n",
      "Finally, one factor (F2) is concerned with the terminal as an access medium. On average, the terminal-based eTPs received a lower rating by the surveyed shoppers than their smartphone-based counterparts. Thus, the survey results suggest that customers might prefer using their smartphones to access eTPs in BaM stores. Prior research suggests that mobile shopping technologies facilitate customer-retailer interconnectedness, consumer empowerment, and proximity- as well as web-based consumer engagement (Faulds et al. 2018). However, older customers may still be more likely to favor a terminal or human-mediated eTPs (see Table D.1 in Appendix D.2), as they may be less confident using modern and sophisticated self-service technologies (Dean 2008; Y.-S. Wang and Shih 2009) and may miss human interaction when they evaluate self-service technologies (Dean 2008). Additional research could investigate older customers’ expectations about the media used to convey eTPs.\n",
      "\n",
      "In addition to customers’ age, prior research discusses several reasons for customers’ preference for one medium over another. Similar to the impact of media richness on the fit with a task and the overall choice of a channel (Maity and Dass 2014), media richness, which varies across devices (Rieger and Majchrzak 2018), may affect customers’ perceptions and acceptance of eTP interfaces. The interfaces used to access electronic channels via devices also affect customers’ evaluations of these channels (Wagner 2015). Furthermore, prior research shows that the task-technology-fit affects customers’ utilitarian motivations to use e-commerce (Klopping and McKinney 2004) and their perception of the usefulness, ease of use, and convenience of online channel interfaces (Wagner 2015). Moreover, the type of device in e-commerce affects customer engagement, increases the impact of their perceptions of the risk associated with their purchase decisions (Cozzarin and Dimitrov 2016), and moderates the relationships between their perceptions of the e-business technology’s usefulness and their attitudes toward it (Sumak et al. 2017). According to Natarajan et al. (2018), the type of device moderates the impact of perceived usefulness and enjoyment on the intention to use mobile shopping apps. Similarly, Aloysius et al. (2018) show that the relationship between ease of use of and the intention to use a mobile self-checkout is significant only in a mobile scanning and stationary payment scenario. This finding indicates that the mobility of the medium used to access an eTP in BaM stores could moderate this relationship under certain circumstances. Finally, besides in-store terminals, smartphones, and other digital interfaces (Betzing et al. 2018; Willems et al. 2017), humans can act as mediators of BaM eTPs, as illustrated by the App-Equipped Clerk and the Sales-Floor Checkout TPs. Especially as the orientation of customers toward personal communication and contact is stronger in BaM stores than it is in e-commerce stores (Schramm-Klein et al. 2007), human interfaces for e-service provision should not be neglected. However, Vannucci and Pantano (2019) suggest that customers have more trust in digital TPs than they do in human TPs. While self-service interfaces might reduce the frequency of interpersonal interactions, they provide alternatives to the human service interface and increase the quality of customer-to-employee interactions (Pantano and Migliarese 2014). Therefore, future research could investigate which media is most suitable for accessing specific groups of eTPs in BaM retail stores. BaM retailers, too, should consider the type of media and interfaces when they design eTPs and identify the most suitable options for their customers in their given context.\n",
      "\n",
      "While prior research finds that the evaluation of service offerings is significantly more important for customers in e-commerce settings, it also suggests that there are no differences in the service orientations of BaM and e-commerce customers (Schramm-Klein et al. 2007). Furthermore, in a smart servicescape (Sanjit K. Roy et al. 2019), experience with technology has a mediating impact on customers’ behavioral intentions toward such technologies and their loyalty toward the retailer (Roy et al. 2017). The variables that are known from channel choice and technology acceptance studies in an e-commerce context are also shown to affect the purchase intention in omni-channel environments (Juaneda-Ayensa et al. 2016; Kazancoglu and Aydin 2018; Susanto et al. 2018). Therefore, considering customers’ perceptions of individual eTPs in BaM retail and the determinants of customers’ behavioral intentions toward eTPs along the BaM customer journey has value. Future research could assess the potential of adapting existing theoretical models (e.g., Taherdoost 2018) and research to eTPs in BaM retail stores.\n",
      "An understanding of customers’ behavioral intentions toward eTPs in BaM retail stores is useful for researchers and practitioners alike, given the increasing number of potential TPs (Lewis et al. 2014; von Briel 2018), more complex omni-channel customer journeys (Barwitz and Maas 2018), and the risks and costs that are associated with the implementation of digital channels and technologies (Karjaluoto and Huhtamäki 2010; Pantano 2014). As empirical research is required to inform theory and promote retailers’ adoption and customers’ intentions toward these TPs, this article makes two contributions:\n",
      "\n",
      "First, the study uses a survey to provide an overview of the likeliness that customers would use BaM TPs that are adopted from e-commerce and conceptually adapted for the use in BaM retail stores. Second, based on an EFA, first exploitative insights on the factors that cause customers’ behavioral intentions toward BaM eTPs are discussed as a foundation for future research. From a managerial perspective, the results inform BaM retailers about issues that should be considered when they implement eTPs. From a theoretical perspective, this article contributes insights about customers’ behavioral intentions toward eTPs in BaM retail stores and suggests taking a closer look at TPs to clarify customers’ acceptance of interfaces and, ultimately, their choice of channel. As the results suggest that customers perceive groups of eTPs as similar in BaM retail stores, this article also guides future research in investigating the eTPs that form such groups simultaneously or treat them in a similar manner.\n",
      "\n",
      "This article’s exploratory multi-method approach comes with caveats and limitations that leave room for further research. First, this study is agnostic to contextual factors of the physical servicescape like the size of the store, the retailer’s assortment, and its location. The survey captured the likeliness that the participants would use dominant eTPs in an online survey based on simple textual descriptions (cf. Aloysius et al. 2018; Inman and Nikolova 2017; Kleijnen et al. 2007) concerned with an abstract BaM store instead of in a prototype-based lab experiment. Thus, the results derived from the generic yet artificial setting of this study should not be transferred to a real-world situation without critical reflection. The eTPs’ relevance to customers might differ based on omitted contextual factors like goods sold or certain store properties. For example, hedonic eTPs might be especially useful in fashion retail (H.-Y. Kim et al. 2017), whereas the usefulness of product information TPs might be related to the complexity of the product sold (Resatsch et al. 2008). Therefore, future research should consider BaM eTPs against the backdrop of different product categories, store sizes, and competitive strategies (e.g., service quality leadership vs. cost optimization) (Porter 1998). While such contextual factors reveal paths for future research, the generic setting of this manuscript’s exploratory multi-method approach, which is independent of such determinants, can be regarded as an unbiased greenfield approach to identifying and investigating potentially useful eTPs.\n",
      "\n",
      "Second, while the textual eTP descriptions allowed customers’ general intentions toward a variety of BaM eTPs to be investigated, the impact of detailed eTPs design characteristics was not taken into account. Future research could evaluate variants of eTP implementations in lab experiments or BaM stores and assess the effect of such design characteristics. By working with real instantiations of eTPs, such studies could integrate the likeliness of customers’ using individual TPs into existing survey instruments. Such studies should also pay attention to the interdependencies among the TPs available in the given scenario by conducting, for example, a conjoint analysis.\n",
      "\n",
      "Third, no a priori assumptions on the TPs’ characteristics were made—instead, a variety of possible eTPs were included—so the identified factors should not be considered collectively exhaustive but as first insights into the determinants of customers’ behavioral intention toward eTPs in a hybrid servicescape that mirrors e-commerce experiences in BaM retail stores. Future work on both TP characteristics in general and their impact on behavioral intentions in BaM retail stores in particular is needed.\n",
      "\n",
      "Fourth, this study took a static view (Kranzbühler et al. 2017) on firm-controlled (Becker and Jaakkola 2020) eTPs in BaM stores. Future research could consider a dynamic, relationship-oriented view (Kranzbühler et al. 2017) to investigate the spillover effects (de Kerviler et al. 2016) between eTPs within and across different customer journeys. Future research could also look into selection and design criteria for BaM eTPs from an organizational perspective (Inman and Nikolova 2017; Kranzbühler et al. 2017) or consider non-controllable eTPs that reside outside company borders (Becker and Jaakkola 2020). In addition, instead of BaM smartphone use and online shopping frequency, future research could investigate the impact of prior experiences with specific eTPs on behavioral intentions in and across various channels.\n",
      "\n",
      "Finally, future research could investigate whether a set of typical BaM eTPs could eventually prevail by using the multiple case study method (Recker 2013) to identify a generalizable dominant design (Suárez and Utterback 1995) of BaM eTPs.\n",
      "\n",
      "In sum, this manuscript lays the foundation for a better understanding of customers’ interaction choices (Barwitz and Maas 2018) in the smart BaM servicescape (Sanjit K. Roy et al. 2019) and offers ample opportunities for further research.\n"
     ]
    }
   ],
   "source": [
    "yee = get_full_text(journal_soup, journal_full_link)\n",
    "for chapter in yee:\n",
    "    print(chapter['chapter_text'])"
   ],
   "metadata": {
    "collapsed": false,
    "pycharm": {
     "name": "#%%\n"
    }
   }
  }
 ],
 "metadata": {
  "kernelspec": {
   "display_name": "Python 3 (ipykernel)",
   "language": "python",
   "name": "python3"
  },
  "language_info": {
   "codemirror_mode": {
    "name": "ipython",
    "version": 3
   },
   "file_extension": ".py",
   "mimetype": "text/x-python",
   "name": "python",
   "nbconvert_exporter": "python",
   "pygments_lexer": "ipython3",
   "version": "3.9.13"
  }
 },
 "nbformat": 4,
 "nbformat_minor": 1
}