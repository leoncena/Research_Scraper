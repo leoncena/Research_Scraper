{
 "cells": [
  {
   "cell_type": "markdown",
   "source": [
    "# Live Demo\n",
    "## Bibliotheken"
   ],
   "metadata": {
    "collapsed": false,
    "pycharm": {
     "name": "#%% md\n"
    }
   }
  },
  {
   "cell_type": "code",
   "execution_count": 1,
   "outputs": [],
   "source": [
    "from Research_Scraper_Code.Research_Scraper import ResearchScraper\n",
    "from Research_Scraper_Code import utils\n",
    "import pandas as pd\n",
    "import json\n",
    "import os\n",
    "from scholarly import scholarly, ProxyGenerator\n",
    "from scholarly import MaxTriesExceededException"
   ],
   "metadata": {
    "collapsed": false,
    "pycharm": {
     "name": "#%%\n"
    }
   }
  },
  {
   "cell_type": "code",
   "execution_count": 2,
   "outputs": [],
   "source": [
    "scraper = ResearchScraper()"
   ],
   "metadata": {
    "collapsed": false,
    "pycharm": {
     "name": "#%%\n"
    }
   }
  },
  {
   "cell_type": "markdown",
   "source": [
    "## BS Demo"
   ],
   "metadata": {
    "collapsed": false,
    "pycharm": {
     "name": "#%% md\n"
    }
   }
  },
  {
   "cell_type": "code",
   "execution_count": 3,
   "outputs": [],
   "source": [
    "sample_dois = ['10.1007/s12525-020-00445-0',\n",
    "               '10.1002/joom.1125',\n",
    "               '10.1007/978-3-030-49570-1_14',\n",
    "               '10.1016/j.jvcir.2018.09.015',\n",
    "               '10.1109/MIS.2017.40']"
   ],
   "metadata": {
    "collapsed": false,
    "pycharm": {
     "name": "#%%\n"
    }
   }
  },
  {
   "cell_type": "markdown",
   "source": [
    "Diese Liste wird jetzt gescraped"
   ],
   "metadata": {
    "collapsed": false,
    "pycharm": {
     "name": "#%% md\n"
    }
   }
  },
  {
   "cell_type": "code",
   "execution_count": 4,
   "outputs": [
    {
     "name": "stdout",
     "output_type": "stream",
     "text": [
      "Time of scrape start: 2022_10_27__09_18\n",
      "\u001B[6;30;44m>>> Scraping 10.1007/s12525-020-00445-0 #0\u001B[0m\n",
      "URL ('https://doi.org/10.1007/s12525-020-00445-0') is a DOI link, Links is now resolved properly\n",
      "Resolved DOI link to: https://link.springer.com/article/10.1007/s12525-020-00445-0\n",
      "\u001B[6;30;42m[DEBUG - ResearchScraper] - Found scraper for https://link.springer.com/article/10.1007/s12525-020-00445-0 -> ScraperSpringer\u001B[0m\n",
      "\u001B[6;30;32m Scraped keys: ['url', 'title', 'doi', 'authors', 'keywords', 'abstract', 'pdf', 'publisher', 'year', 'start_page', 'end_page', 'publication_type', 'full_text', 'references', 'journal_name', 'journal_volume', 'article_accesses', 'amount_citations']\u001B[0m\n",
      ">>>> Scraping 10.1007/s12525-020-00445-0 done\n",
      ">>>> Scraping 10.1007/s12525-020-00445-0 added to results\n",
      "\u001B[6;30;44m>>> Scraping 10.1002/joom.1125 #1\u001B[0m\n",
      "URL ('https://doi.org/10.1002/joom.1125') is a DOI link, Links is now resolved properly\n",
      "Resolved DOI link to: https://onlinelibrary.wiley.com/doi/10.1002/joom.1125\n",
      "\u001B[6;30;43m[DEBUG - ResearchScraper] - No scraper found for https://onlinelibrary.wiley.com/doi/10.1002/joom.1125\u001B[0m\n",
      ">>>> Scraping 10.1002/joom.1125 done\n",
      ">>>> Scraping 10.1002/joom.1125 added to results\n",
      "\u001B[6;30;44m>>> Scraping 10.1007/978-3-030-49570-1_14 #2\u001B[0m\n",
      "URL ('https://doi.org/10.1007/978-3-030-49570-1_14') is a DOI link, Links is now resolved properly\n",
      "Resolved DOI link to: https://link.springer.com/chapter/10.1007/978-3-030-49570-1_14\n",
      "\u001B[6;30;42m[DEBUG - ResearchScraper] - Found scraper for https://link.springer.com/chapter/10.1007/978-3-030-49570-1_14 -> ScraperSpringer\u001B[0m\n",
      "\u001B[6;30;32m Scraped keys: ['url', 'title', 'doi', 'authors', 'keywords', 'abstract', 'pdf', 'publisher', 'year', 'start_page', 'end_page', 'publication_type', 'full_text', 'references', 'conference_name', 'conference_proceedings', 'editors', 'article_accesses', 'amount_citations']\u001B[0m\n",
      ">>>> Scraping 10.1007/978-3-030-49570-1_14 done\n",
      ">>>> Scraping 10.1007/978-3-030-49570-1_14 added to results\n",
      "\u001B[6;30;44m>>> Scraping 10.1016/j.jvcir.2018.09.015 #3\u001B[0m\n",
      "URL ('https://doi.org/10.1016/j.jvcir.2018.09.015') is a DOI link, Links is now resolved properly\n",
      "Resolved DOI link to: https://linkinghub.elsevier.com/retrieve/pii/S104732031830230X\n",
      "\u001B[6;30;42m[DEBUG - ResearchScraper] - Found scraper for https://linkinghub.elsevier.com/retrieve/pii/S104732031830230X -> ScraperScienceDirect\u001B[0m\n",
      "Browser closed in 24.38423180580139 seconds, including 10.212724924087524 seconds of waiting, thus 14.171506881713867 seconds of loading.\n",
      "\u001B[6;30;32m Scraped keys: ['url', 'title', 'doi', 'authors', 'keywords', 'abstract', 'start_page', 'end_page', 'journal_name', 'journal_volume', 'release_date', 'amount_citations', 'author_highlights']\u001B[0m\n",
      ">>>> Scraping 10.1016/j.jvcir.2018.09.015 done\n",
      ">>>> Scraping 10.1016/j.jvcir.2018.09.015 added to results\n",
      "\u001B[6;30;44m>>> Scraping 10.1109/MIS.2017.40 #4\u001B[0m\n",
      "URL ('https://doi.org/10.1109/MIS.2017.40') is a DOI link, Links is now resolved properly\n",
      "Resolved DOI link to: https://ieeexplore.ieee.org/document/7887648/\n",
      "\u001B[6;30;42m[DEBUG - ResearchScraper] - Found scraper for https://ieeexplore.ieee.org/document/7887648/ -> ScraperIEEE\u001B[0m\n",
      "200\n",
      "\u001B[6;30;32m Scraped keys: ['url', 'title', 'doi', 'authors', 'keywords', 'abstract', 'publisher', 'year', 'start_page', 'end_page', 'references', 'journal_name', 'conference_name', 'journal_volume', 'journal_issue', 'amount_citations']\u001B[0m\n",
      ">>>> Scraping 10.1109/MIS.2017.40 done\n",
      ">>>> Scraping 10.1109/MIS.2017.40 added to results\n",
      ">>>> Scraping 5 publications done\n",
      "\u001B[1;30;42m5 results written to scrapings_2022_10_27__09_19.json\u001B[0m\n",
      "Time of scrape end: 2022_10_27__09_19\n",
      "Total time took: 0.56 minutes\n",
      "Anzahl der Ergebnisse: 5\n"
     ]
    }
   ],
   "source": [
    "def demo_scrape():\n",
    "    scraping_results = scraper.scrape_publication_by_doi_list(sample_dois, params=['full'])\n",
    "    print(f'Anzahl der Ergebnisse: {len(scraping_results)}')\n",
    "    return scraping_results\n",
    "\n",
    "scraping_results = demo_scrape()"
   ],
   "metadata": {
    "collapsed": false,
    "pycharm": {
     "name": "#%%\n"
    }
   }
  },
  {
   "cell_type": "markdown",
   "source": [
    "## PDF Demo\n",
    "CRIS einlesen"
   ],
   "metadata": {
    "collapsed": false,
    "pycharm": {
     "name": "#%% md\n"
    }
   }
  },
  {
   "cell_type": "code",
   "execution_count": 6,
   "outputs": [],
   "source": [
    "def load_publications_from_csv():\n",
    "    data = 'data/publications_without_abstract.csv'\n",
    "\n",
    "    with open(data) as f:\n",
    "        df = pd.read_csv(f, sep=';')\n",
    "    return df"
   ],
   "metadata": {
    "collapsed": false,
    "pycharm": {
     "name": "#%%\n"
    }
   }
  },
  {
   "cell_type": "markdown",
   "source": [
    "Cleaning"
   ],
   "metadata": {
    "collapsed": false,
    "pycharm": {
     "name": "#%% md\n"
    }
   }
  },
  {
   "cell_type": "code",
   "execution_count": 7,
   "outputs": [
    {
     "name": "stdout",
     "output_type": "stream",
     "text": [
      "There are 50 publications with a pdf url\n"
     ]
    }
   ],
   "source": [
    "df_publications = load_publications_from_csv()\n",
    "df_publications_with_url = df_publications[df_publications['url'].notna()]\n",
    "df_publications_with_url = df_publications_with_url[df_publications_with_url['url'].str.endswith('.pdf')]\n",
    "df_publications_with_url = df_publications_with_url[['id', 'url']]\n",
    "# only first 10 entries\n",
    "df_publications_with_url = df_publications_with_url.head(50)\n",
    "print(f'There are {len(df_publications_with_url)} publications with a pdf url')"
   ],
   "metadata": {
    "collapsed": false,
    "pycharm": {
     "name": "#%%\n"
    }
   }
  },
  {
   "cell_type": "code",
   "execution_count": 8,
   "outputs": [
    {
     "name": "stdout",
     "output_type": "stream",
     "text": [
      "shape of df_prepared: (50, 2)\n",
      "Downloading 1 of 50 publications\n",
      "[utils.py: download_pdf] Connection Error - could not download: error type: <class 'requests.exceptions.ConnectionError'> -> HTTPConnectionPool(host='udoo.uni-muenster.de', port=80): Max retries exceeded with url: /downloads/publications/2011.pdf (Caused by NewConnectionError('<urllib3.connection.HTTPConnection object at 0x7fac19854c40>: Failed to establish a new connection: [Errno 8] nodename nor servname provided, or not known'))\n",
      "Downloading 2 of 50 publications\n",
      "[utils.py: download_pdf] Connection Error - could not download: error type: <class 'requests.exceptions.ConnectTimeout'> -> HTTPConnectionPool(host='web.up.ac.za', port=80): Max retries exceeded with url: /ecis/ECIS2010PR/ECIS2010/Content/Papers/0451.R1.pdf (Caused by ConnectTimeoutError(<urllib3.connection.HTTPConnection object at 0x7fac29105bb0>, 'Connection to web.up.ac.za timed out. (connect timeout=2)'))\n",
      "Downloading 3 of 50 publications\n",
      "[utils.py: download_pdf] Connection Error - could not download: error type: <class 'requests.exceptions.ConnectionError'> -> HTTPConnectionPool(host='udoo.uni-muenster.de', port=80): Max retries exceeded with url: /downloads/publications/2075.pdf (Caused by NewConnectionError('<urllib3.connection.HTTPConnection object at 0x7fac29057ee0>: Failed to establish a new connection: [Errno 8] nodename nor servname provided, or not known'))\n",
      "Downloading 4 of 50 publications\n",
      "[utils.py: download_pdf] Connection Error - could not download: error type: <class 'requests.exceptions.ConnectionError'> -> HTTPConnectionPool(host='udoo.uni-muenster.de', port=80): Max retries exceeded with url: /downloads/publications/2403.pdf (Caused by NewConnectionError('<urllib3.connection.HTTPConnection object at 0x7fac29057820>: Failed to establish a new connection: [Errno 8] nodename nor servname provided, or not known'))\n",
      "Downloading 5 of 50 publications\n",
      "[utils.py: download_pdf] Connection Error - could not download: error type: <class 'requests.exceptions.ConnectionError'> -> HTTPConnectionPool(host='udoo.uni-muenster.de', port=80): Max retries exceeded with url: /downloads/publications/2364.pdf (Caused by NewConnectionError('<urllib3.connection.HTTPConnection object at 0x7fac29057dc0>: Failed to establish a new connection: [Errno 8] nodename nor servname provided, or not known'))\n",
      "Downloading 6 of 50 publications\n",
      "[utils.py: download_pdf] Connection Error - could not download: error type: <class 'requests.exceptions.ConnectTimeout'> -> HTTPConnectionPool(host='is2.lse.ac.uk', port=80): Max retries exceeded with url: /asp/aspecis/20090185.pdf (Caused by ConnectTimeoutError(<urllib3.connection.HTTPConnection object at 0x7fac29057f70>, 'Connection to is2.lse.ac.uk timed out. (connect timeout=2)'))\n",
      "Downloading 7 of 50 publications\n",
      "\u001B[1;30;42mPDF downloaded\u001B[0m : document_2865.pdf to exports/pdf_downloads/live_demo\n",
      "Downloading 8 of 50 publications\n",
      "\u001B[1;30;42mPDF downloaded\u001B[0m : document_2867.pdf to exports/pdf_downloads/live_demo\n",
      "Downloading 9 of 50 publications\n",
      "[utils.py: download_pdf] Connection Error - could not download: error type: <class 'requests.exceptions.ConnectionError'> -> HTTPConnectionPool(host='udoo.uni-muenster.de', port=80): Max retries exceeded with url: /downloads/publications/2072.pdf (Caused by NewConnectionError('<urllib3.connection.HTTPConnection object at 0x7fac291caaf0>: Failed to establish a new connection: [Errno 8] nodename nor servname provided, or not known'))\n",
      "Downloading 10 of 50 publications\n",
      "\u001B[1;30;42mPDF downloaded\u001B[0m : document_2874.pdf to exports/pdf_downloads/live_demo\n",
      "Downloading 11 of 50 publications\n",
      "[utils.py: download_pdf] Connection Error - could not download: error type: <class 'requests.exceptions.ConnectionError'> -> HTTPConnectionPool(host='udoo.uni-muenster.de', port=80): Max retries exceeded with url: /downloads/publications/1659.pdf (Caused by NewConnectionError('<urllib3.connection.HTTPConnection object at 0x7fac291e71c0>: Failed to establish a new connection: [Errno 8] nodename nor servname provided, or not known'))\n",
      "Downloading 12 of 50 publications\n",
      "[utils.py: download_pdf] Connection Error - could not download: error type: <class 'requests.exceptions.ConnectionError'> -> HTTPConnectionPool(host='udoo.uni-muenster.de', port=80): Max retries exceeded with url: /downloads/publications/1683.pdf (Caused by NewConnectionError('<urllib3.connection.HTTPConnection object at 0x7fac2903eaf0>: Failed to establish a new connection: [Errno 8] nodename nor servname provided, or not known'))\n",
      "Downloading 13 of 50 publications\n",
      "[utils.py: download_PDF] PDF Download failed: 404\n",
      "Downloading 14 of 50 publications\n",
      "[utils.py: download_pdf] Connection Error - could not download: error type: <class 'requests.exceptions.ConnectionError'> -> HTTPConnectionPool(host='udoo.uni-muenster.de', port=80): Max retries exceeded with url: /downloads/publications/2170.pdf (Caused by NewConnectionError('<urllib3.connection.HTTPConnection object at 0x7fac291a7640>: Failed to establish a new connection: [Errno 8] nodename nor servname provided, or not known'))\n",
      "Downloading 15 of 50 publications\n",
      "[utils.py: download_pdf] Connection Error - could not download: error type: <class 'requests.exceptions.ConnectionError'> -> HTTPConnectionPool(host='udoo.uni-muenster.de', port=80): Max retries exceeded with url: /downloads/publications/2373.pdf (Caused by NewConnectionError('<urllib3.connection.HTTPConnection object at 0x7fac2903eb80>: Failed to establish a new connection: [Errno 8] nodename nor servname provided, or not known'))\n",
      "Downloading 16 of 50 publications\n",
      "\u001B[1;30;42mPDF downloaded\u001B[0m : document_2942.pdf to exports/pdf_downloads/live_demo\n",
      "Downloading 17 of 50 publications\n",
      "\u001B[1;30;42mPDF downloaded\u001B[0m : document_2945.pdf to exports/pdf_downloads/live_demo\n",
      "Downloading 18 of 50 publications\n",
      "[utils.py: download_pdf] Connection Error - could not download: error type: <class 'requests.exceptions.ConnectionError'> -> HTTPConnectionPool(host='udoo.uni-muenster.de', port=80): Max retries exceeded with url: /downloads/publications/2105.pdf (Caused by NewConnectionError('<urllib3.connection.HTTPConnection object at 0x7fac291a74f0>: Failed to establish a new connection: [Errno 8] nodename nor servname provided, or not known'))\n",
      "Downloading 19 of 50 publications\n",
      "[utils.py: download_pdf] Connection Error - could not download: error type: <class 'requests.exceptions.ConnectionError'> -> HTTPConnectionPool(host='udoo.uni-muenster.de', port=80): Max retries exceeded with url: /downloads/publications/2104.pdf (Caused by NewConnectionError('<urllib3.connection.HTTPConnection object at 0x7fac2903e3a0>: Failed to establish a new connection: [Errno 8] nodename nor servname provided, or not known'))\n",
      "Downloading 20 of 50 publications\n",
      "[utils.py: download_pdf] Connection Error - could not download: error type: <class 'requests.exceptions.ConnectionError'> -> HTTPConnectionPool(host='udoo.uni-muenster.de', port=80): Max retries exceeded with url: /downloads/publications/2103.pdf (Caused by NewConnectionError('<urllib3.connection.HTTPConnection object at 0x7fac291ac130>: Failed to establish a new connection: [Errno 8] nodename nor servname provided, or not known'))\n",
      "Downloading 21 of 50 publications\n",
      "\u001B[1;30;42mPDF downloaded\u001B[0m : document_2964.pdf to exports/pdf_downloads/live_demo\n",
      "Downloading 22 of 50 publications\n",
      "[utils.py: download_pdf] Connection Error - could not download: error type: <class 'requests.exceptions.ConnectionError'> -> HTTPConnectionPool(host='udoo.uni-muenster.de', port=80): Max retries exceeded with url: /downloads/publications/1967.pdf (Caused by NewConnectionError('<urllib3.connection.HTTPConnection object at 0x7fac2903eee0>: Failed to establish a new connection: [Errno 8] nodename nor servname provided, or not known'))\n",
      "Downloading 23 of 50 publications\n",
      "[utils.py: download_pdf] Connection Error - could not download: error type: <class 'requests.exceptions.ConnectionError'> -> HTTPConnectionPool(host='udoo.uni-muenster.de', port=80): Max retries exceeded with url: /downloads/publications/2313.pdf (Caused by NewConnectionError('<urllib3.connection.HTTPConnection object at 0x7fac291e7d60>: Failed to establish a new connection: [Errno 8] nodename nor servname provided, or not known'))\n",
      "Downloading 24 of 50 publications\n",
      "[utils.py: download_pdf] Connection Error - could not download: error type: <class 'requests.exceptions.ConnectionError'> -> HTTPConnectionPool(host='udoo.uni-muenster.de', port=80): Max retries exceeded with url: /downloads/publications/2109.pdf (Caused by NewConnectionError('<urllib3.connection.HTTPConnection object at 0x7fac291bafa0>: Failed to establish a new connection: [Errno 8] nodename nor servname provided, or not known'))\n",
      "Downloading 25 of 50 publications\n",
      "[utils.py: download_pdf] Connection Error - could not download: error type: <class 'requests.exceptions.ConnectionError'> -> HTTPConnectionPool(host='udoo.uni-muenster.de', port=80): Max retries exceeded with url: /downloads/publications/2053.pdf (Caused by NewConnectionError('<urllib3.connection.HTTPConnection object at 0x7fac2903ea90>: Failed to establish a new connection: [Errno 8] nodename nor servname provided, or not known'))\n",
      "Downloading 26 of 50 publications\n",
      "[utils.py: download_pdf] Connection Error - could not download: error type: <class 'requests.exceptions.ConnectionError'> -> HTTPConnectionPool(host='udoo.uni-muenster.de', port=80): Max retries exceeded with url: /downloads/publications/2070.pdf (Caused by NewConnectionError('<urllib3.connection.HTTPConnection object at 0x7fac291e7820>: Failed to establish a new connection: [Errno 8] nodename nor servname provided, or not known'))\n",
      "Downloading 27 of 50 publications\n",
      "[utils.py: download_pdf] Connection Error - could not download: error type: <class 'requests.exceptions.ConnectionError'> -> HTTPConnectionPool(host='udoo.uni-muenster.de', port=80): Max retries exceeded with url: /downloads/publications/1988.pdf (Caused by NewConnectionError('<urllib3.connection.HTTPConnection object at 0x7fac291a2310>: Failed to establish a new connection: [Errno 8] nodename nor servname provided, or not known'))\n",
      "Downloading 28 of 50 publications\n",
      "[utils.py: download_PDF] PDF Download failed: 404\n",
      "Downloading 29 of 50 publications\n",
      "[utils.py: download_pdf] Connection Error - could not download: error type: <class 'requests.exceptions.ConnectTimeout'> -> HTTPConnectionPool(host='is2.lse.ac.uk', port=80): Max retries exceeded with url: /asp/aspecis/20080208.pdf (Caused by ConnectTimeoutError(<urllib3.connection.HTTPConnection object at 0x7fac291a7af0>, 'Connection to is2.lse.ac.uk timed out. (connect timeout=2)'))\n",
      "Downloading 30 of 50 publications\n",
      "[utils.py: download_pdf] Connection Error - could not download: error type: <class 'requests.exceptions.ConnectTimeout'> -> HTTPConnectionPool(host='web.up.ac.za', port=80): Max retries exceeded with url: /ecis/ECIS2010PR/ECIS2010/Content/Papers/0320.pdf (Caused by ConnectTimeoutError(<urllib3.connection.HTTPConnection object at 0x7fac2918d3a0>, 'Connection to web.up.ac.za timed out. (connect timeout=2)'))\n",
      "Downloading 31 of 50 publications\n",
      "\u001B[1;30;42mPDF downloaded\u001B[0m : document_3135.pdf to exports/pdf_downloads/live_demo\n",
      "Downloading 32 of 50 publications\n",
      "[utils.py: download_pdf] Connection Error - could not download: error type: <class 'requests.exceptions.ConnectionError'> -> HTTPConnectionPool(host='udoo.uni-muenster.de', port=80): Max retries exceeded with url: /downloads/publications/2361.pdf (Caused by NewConnectionError('<urllib3.connection.HTTPConnection object at 0x7fac29166700>: Failed to establish a new connection: [Errno 8] nodename nor servname provided, or not known'))\n",
      "Downloading 33 of 50 publications\n",
      "\u001B[1;30;42mPDF downloaded\u001B[0m : document_3187.pdf to exports/pdf_downloads/live_demo\n",
      "Downloading 34 of 50 publications\n",
      "[utils.py: download_pdf] Connection Error - could not download: error type: <class 'requests.exceptions.ConnectionError'> -> HTTPConnectionPool(host='udoo.uni-muenster.de', port=80): Max retries exceeded with url: /downloads/publications/2071.pdf (Caused by NewConnectionError('<urllib3.connection.HTTPConnection object at 0x7fac2918d520>: Failed to establish a new connection: [Errno 8] nodename nor servname provided, or not known'))\n",
      "Downloading 35 of 50 publications\n",
      "[utils.py: download_pdf] Connection Error - could not download: error type: <class 'requests.exceptions.ConnectionError'> -> HTTPConnectionPool(host='udoo.uni-muenster.de', port=80): Max retries exceeded with url: /downloads/publications/2025.pdf (Caused by NewConnectionError('<urllib3.connection.HTTPConnection object at 0x7fac2915faf0>: Failed to establish a new connection: [Errno 8] nodename nor servname provided, or not known'))\n",
      "Downloading 36 of 50 publications\n",
      "[utils.py: download_pdf] Connection Error - could not download: error type: <class 'requests.exceptions.ConnectionError'> -> HTTPConnectionPool(host='udoo.uni-muenster.de', port=80): Max retries exceeded with url: /downloads/publications/1984.pdf (Caused by NewConnectionError('<urllib3.connection.HTTPConnection object at 0x7fac2916cfa0>: Failed to establish a new connection: [Errno 8] nodename nor servname provided, or not known'))\n",
      "Downloading 37 of 50 publications\n",
      "\u001B[1;30;42mPDF downloaded\u001B[0m : document_3268.pdf to exports/pdf_downloads/live_demo\n",
      "Downloading 38 of 50 publications\n",
      "\u001B[1;30;42mPDF downloaded\u001B[0m : document_3269.pdf to exports/pdf_downloads/live_demo\n",
      "Downloading 39 of 50 publications\n",
      "\u001B[1;30;42mPDF downloaded\u001B[0m : document_3270.pdf to exports/pdf_downloads/live_demo\n",
      "Downloading 40 of 50 publications\n",
      "\u001B[1;30;42mPDF downloaded\u001B[0m : document_3281.pdf to exports/pdf_downloads/live_demo\n",
      "Downloading 41 of 50 publications\n",
      "[utils.py: download_PDF] PDF Download failed: 404\n",
      "Downloading 42 of 50 publications\n",
      "[utils.py: download_PDF] PDF Download failed: 404\n",
      "Downloading 43 of 50 publications\n",
      "[utils.py: download_pdf] Connection Error - could not download: error type: <class 'requests.exceptions.ConnectionError'> -> HTTPConnectionPool(host='udoo.uni-muenster.de', port=80): Max retries exceeded with url: /downloads/publications/1539.pdf (Caused by NewConnectionError('<urllib3.connection.HTTPConnection object at 0x7fac2915f040>: Failed to establish a new connection: [Errno 8] nodename nor servname provided, or not known'))\n",
      "Downloading 44 of 50 publications\n",
      "\u001B[1;30;42mPDF downloaded\u001B[0m : document_3729.pdf to exports/pdf_downloads/live_demo\n",
      "Downloading 45 of 50 publications\n",
      "\u001B[1;30;42mPDF downloaded\u001B[0m : document_3730.pdf to exports/pdf_downloads/live_demo\n",
      "Downloading 46 of 50 publications\n",
      "\u001B[1;30;42mPDF downloaded\u001B[0m : document_3731.pdf to exports/pdf_downloads/live_demo\n",
      "Downloading 47 of 50 publications\n",
      "\u001B[1;30;42mPDF downloaded\u001B[0m : document_3735.pdf to exports/pdf_downloads/live_demo\n",
      "Downloading 48 of 50 publications\n",
      "\u001B[1;30;42mPDF downloaded\u001B[0m : document_3737.pdf to exports/pdf_downloads/live_demo\n",
      "Downloading 49 of 50 publications\n",
      "\u001B[1;30;42mPDF downloaded\u001B[0m : document_3738.pdf to exports/pdf_downloads/live_demo\n",
      "Downloading 50 of 50 publications\n",
      "\u001B[1;30;42mPDF downloaded\u001B[0m : document_3752.pdf to exports/pdf_downloads/live_demo\n"
     ]
    }
   ],
   "source": [
    "def download_pdf_from_cris(df_publications):\n",
    "    df_prepared = df_publications[df_publications['url'].notna()]\n",
    "    df_prepared = df_prepared[df_prepared['url'].str.endswith('.pdf')]\n",
    "    df_prepared = df_prepared[['id', 'url']]\n",
    "    df_prepared = df_prepared.reset_index(drop=True)\n",
    "    print(f'shape of df_prepared: {df_prepared.shape}')\n",
    "\n",
    "    folder = 'exports/pdf_downloads/live_demo'\n",
    "    for index, row in df_prepared.iterrows():\n",
    "        print(f'Downloading {index + 1} of {len(df_prepared)} publications')\n",
    "        filename = f'document_{row[\"id\"]}'\n",
    "        pdf_url = row['url']\n",
    "        utils.download_pdf(url=pdf_url, filename=filename, write_folder_path=folder, timeout=2)\n",
    "\n",
    "\n",
    "download_pdf_from_cris(df_publications_with_url)"
   ],
   "metadata": {
    "collapsed": false,
    "pycharm": {
     "name": "#%%\n"
    }
   }
  },
  {
   "cell_type": "code",
   "execution_count": null,
   "outputs": [],
   "source": [],
   "metadata": {
    "collapsed": false,
    "pycharm": {
     "name": "#%%\n"
    }
   }
  }
 ],
 "metadata": {
  "kernelspec": {
   "display_name": "Python 3",
   "language": "python",
   "name": "python3"
  },
  "language_info": {
   "codemirror_mode": {
    "name": "ipython",
    "version": 2
   },
   "file_extension": ".py",
   "mimetype": "text/x-python",
   "name": "python",
   "nbconvert_exporter": "python",
   "pygments_lexer": "ipython2",
   "version": "2.7.6"
  }
 },
 "nbformat": 4,
 "nbformat_minor": 0
}