{
 "cells": [
  {
   "cell_type": "markdown",
   "source": [
    "# Live Demo\n",
    "## Bibliotheken"
   ],
   "metadata": {
    "collapsed": false,
    "pycharm": {
     "name": "#%% md\n"
    }
   }
  },
  {
   "cell_type": "code",
   "execution_count": 24,
   "outputs": [],
   "source": [
    "from Research_Scraper_Code.Research_Scraper import ResearchScraper\n",
    "from Research_Scraper_Code import utils\n",
    "import pandas as pd\n",
    "import json\n",
    "import os\n",
    "from scholarly import scholarly, ProxyGenerator\n",
    "from scholarly import MaxTriesExceededException"
   ],
   "metadata": {
    "collapsed": false,
    "pycharm": {
     "name": "#%%\n"
    }
   }
  },
  {
   "cell_type": "code",
   "execution_count": 25,
   "outputs": [],
   "source": [
    "scraper = ResearchScraper()"
   ],
   "metadata": {
    "collapsed": false,
    "pycharm": {
     "name": "#%%\n"
    }
   }
  },
  {
   "cell_type": "markdown",
   "source": [
    "## BS Demo"
   ],
   "metadata": {
    "collapsed": false,
    "pycharm": {
     "name": "#%% md\n"
    }
   }
  },
  {
   "cell_type": "code",
   "execution_count": 29,
   "outputs": [],
   "source": [
    "sample_dois = ['10.1007/s12525-020-00445-0',\n",
    "               '10.1002/joom.1125',\n",
    "               '10.1007/978-3-030-49570-1_14',\n",
    "               '10.1016/j.jvcir.2018.09.015'\n",
    "               '10.1109/MIS.2017.40']"
   ],
   "metadata": {
    "collapsed": false,
    "pycharm": {
     "name": "#%%\n"
    }
   }
  },
  {
   "cell_type": "markdown",
   "source": [
    "Diese Liste wird jetzt gescraped"
   ],
   "metadata": {
    "collapsed": false,
    "pycharm": {
     "name": "#%% md\n"
    }
   }
  },
  {
   "cell_type": "code",
   "execution_count": 30,
   "outputs": [
    {
     "name": "stdout",
     "output_type": "stream",
     "text": [
      "Time of scrape start: 2022_10_27__01_55\n",
      "\u001B[6;30;44m>>> Scraping 10.1007/s12525-020-00445-0 #0\u001B[0m\n",
      "URL ('https://doi.org/10.1007/s12525-020-00445-0') is a DOI link, Links is now resolved properly\n",
      "Resolved DOI link to: https://link.springer.com/article/10.1007/s12525-020-00445-0\n",
      "\u001B[6;30;42m[DEBUG - ResearchScraper] - Found scraper for https://link.springer.com/article/10.1007/s12525-020-00445-0 -> ScraperSpringer\u001B[0m\n",
      "\u001B[6;30;32m Scraped keys: ['url', 'title', 'doi', 'authors', 'keywords', 'abstract', 'pdf', 'publisher', 'year', 'start_page', 'end_page', 'publication_type', 'full_text', 'references', 'journal_name', 'journal_volume', 'article_accesses', 'amount_citations']\u001B[0m\n",
      ">>>> Scraping 10.1007/s12525-020-00445-0 done\n",
      ">>>> Scraping 10.1007/s12525-020-00445-0 added to results\n",
      "\u001B[6;30;44m>>> Scraping 10.1002/joom.1125 #1\u001B[0m\n",
      "URL ('https://doi.org/10.1002/joom.1125') is a DOI link, Links is now resolved properly\n",
      "Resolved DOI link to: https://onlinelibrary.wiley.com/doi/10.1002/joom.1125\n",
      "\u001B[6;30;43m[DEBUG - ResearchScraper] - No scraper found for https://onlinelibrary.wiley.com/doi/10.1002/joom.1125\u001B[0m\n",
      ">>>> Scraping 10.1002/joom.1125 done\n",
      ">>>> Scraping 10.1002/joom.1125 added to results\n",
      "\u001B[6;30;44m>>> Scraping 10.1007/978-3-030-49570-1_14 #2\u001B[0m\n",
      "URL ('https://doi.org/10.1007/978-3-030-49570-1_14') is a DOI link, Links is now resolved properly\n",
      "Resolved DOI link to: https://link.springer.com/chapter/10.1007/978-3-030-49570-1_14\n",
      "\u001B[6;30;42m[DEBUG - ResearchScraper] - Found scraper for https://link.springer.com/chapter/10.1007/978-3-030-49570-1_14 -> ScraperSpringer\u001B[0m\n",
      "\u001B[6;30;32m Scraped keys: ['url', 'title', 'doi', 'authors', 'keywords', 'abstract', 'pdf', 'publisher', 'year', 'start_page', 'end_page', 'publication_type', 'full_text', 'references', 'conference_name', 'conference_proceedings', 'editors', 'article_accesses', 'amount_citations']\u001B[0m\n",
      ">>>> Scraping 10.1007/978-3-030-49570-1_14 done\n",
      ">>>> Scraping 10.1007/978-3-030-49570-1_14 added to results\n",
      "\u001B[6;30;44m>>> Scraping 10.1109/MIS.2017.40 #3\u001B[0m\n",
      "URL ('https://doi.org/10.1109/MIS.2017.40') is a DOI link, Links is now resolved properly\n",
      "Resolved DOI link to: https://ieeexplore.ieee.org/document/7887648/\n",
      "\u001B[6;30;42m[DEBUG - ResearchScraper] - Found scraper for https://ieeexplore.ieee.org/document/7887648/ -> ScraperIEEE\u001B[0m\n",
      "200\n",
      "\u001B[6;30;32m Scraped keys: ['url', 'title', 'doi', 'authors', 'keywords', 'abstract', 'publisher', 'year', 'start_page', 'end_page', 'references', 'journal_name', 'conference_name', 'journal_volume', 'journal_issue', 'amount_citations']\u001B[0m\n",
      ">>>> Scraping 10.1109/MIS.2017.40 done\n",
      ">>>> Scraping 10.1109/MIS.2017.40 added to results\n",
      ">>>> Scraping 4 publications done\n",
      "\u001B[1;30;42m4 results written to scrapings_2022_10_27__01_55.json\u001B[0m\n",
      "Time of scrape end: 2022_10_27__01_55\n",
      "Total time took: 0.07 minutes\n",
      "Anzahl der Ergebnisse: 4\n"
     ]
    }
   ],
   "source": [
    "def demo_scrape():\n",
    "    scraping_results = scraper.scrape_publication_by_doi_list(sample_dois, params=['full'])\n",
    "    print(f'Anzahl der Ergebnisse: {len(scraping_results)}')\n",
    "    return scraping_results\n",
    "\n",
    "scraping_results = demo_scrape()"
   ],
   "metadata": {
    "collapsed": false,
    "pycharm": {
     "name": "#%%\n"
    }
   }
  },
  {
   "cell_type": "markdown",
   "source": [
    "## PDF Demo\n",
    "CRIS einlesen"
   ],
   "metadata": {
    "collapsed": false,
    "pycharm": {
     "name": "#%% md\n"
    }
   }
  },
  {
   "cell_type": "code",
   "execution_count": 31,
   "outputs": [],
   "source": [
    "def load_publications_from_csv():\n",
    "    data = 'data/publications_without_abstract.csv'\n",
    "\n",
    "    with open(data) as f:\n",
    "        df = pd.read_csv(f, sep=';')\n",
    "    return df"
   ],
   "metadata": {
    "collapsed": false,
    "pycharm": {
     "name": "#%%\n"
    }
   }
  },
  {
   "cell_type": "markdown",
   "source": [
    "Cleaning"
   ],
   "metadata": {
    "collapsed": false,
    "pycharm": {
     "name": "#%% md\n"
    }
   }
  },
  {
   "cell_type": "code",
   "execution_count": 37,
   "outputs": [
    {
     "name": "stdout",
     "output_type": "stream",
     "text": [
      "There are 50 publications with a pdf url\n"
     ]
    }
   ],
   "source": [
    "df_publications = load_publications_from_csv()\n",
    "df_publications_with_url = df_publications[df_publications['url'].notna()]\n",
    "df_publications_with_url = df_publications_with_url[df_publications_with_url['url'].str.endswith('.pdf')]\n",
    "df_publications_with_url = df_publications_with_url[['id', 'url']]\n",
    "# only first 10 entries\n",
    "df_publications_with_url = df_publications_with_url.head(50)\n",
    "print(f'There are {len(df_publications_with_url)} publications with a pdf url')"
   ],
   "metadata": {
    "collapsed": false,
    "pycharm": {
     "name": "#%%\n"
    }
   }
  },
  {
   "cell_type": "code",
   "execution_count": 39,
   "outputs": [
    {
     "name": "stdout",
     "output_type": "stream",
     "text": [
      "shape of df_prepared: (50, 2)\n",
      "Downloading 1 of 50 publications\n",
      "[utils.py: download_pdf] Connection Error - could not download: error type: <class 'requests.exceptions.ConnectionError'> -> HTTPConnectionPool(host='udoo.uni-muenster.de', port=80): Max retries exceeded with url: /downloads/publications/2011.pdf (Caused by NewConnectionError('<urllib3.connection.HTTPConnection object at 0x7fdbf19f6460>: Failed to establish a new connection: [Errno 8] nodename nor servname provided, or not known'))\n",
      "Downloading 2 of 50 publications\n",
      "[utils.py: download_pdf] Connection Error - could not download: error type: <class 'requests.exceptions.ConnectTimeout'> -> HTTPConnectionPool(host='web.up.ac.za', port=80): Max retries exceeded with url: /ecis/ECIS2010PR/ECIS2010/Content/Papers/0451.R1.pdf (Caused by ConnectTimeoutError(<urllib3.connection.HTTPConnection object at 0x7fdbf19f64f0>, 'Connection to web.up.ac.za timed out. (connect timeout=2)'))\n",
      "Downloading 3 of 50 publications\n",
      "[utils.py: download_pdf] Connection Error - could not download: error type: <class 'requests.exceptions.ConnectionError'> -> HTTPConnectionPool(host='udoo.uni-muenster.de', port=80): Max retries exceeded with url: /downloads/publications/2075.pdf (Caused by NewConnectionError('<urllib3.connection.HTTPConnection object at 0x7fdbf19f6d90>: Failed to establish a new connection: [Errno 8] nodename nor servname provided, or not known'))\n",
      "Downloading 4 of 50 publications\n",
      "[utils.py: download_pdf] Connection Error - could not download: error type: <class 'requests.exceptions.ConnectionError'> -> HTTPConnectionPool(host='udoo.uni-muenster.de', port=80): Max retries exceeded with url: /downloads/publications/2403.pdf (Caused by NewConnectionError('<urllib3.connection.HTTPConnection object at 0x7fdbf19f6fa0>: Failed to establish a new connection: [Errno 8] nodename nor servname provided, or not known'))\n",
      "Downloading 5 of 50 publications\n",
      "[utils.py: download_pdf] Connection Error - could not download: error type: <class 'requests.exceptions.ConnectionError'> -> HTTPConnectionPool(host='udoo.uni-muenster.de', port=80): Max retries exceeded with url: /downloads/publications/2364.pdf (Caused by NewConnectionError('<urllib3.connection.HTTPConnection object at 0x7fdbf19f6f10>: Failed to establish a new connection: [Errno 8] nodename nor servname provided, or not known'))\n",
      "Downloading 6 of 50 publications\n",
      "[utils.py: download_pdf] Connection Error - could not download: error type: <class 'requests.exceptions.ConnectTimeout'> -> HTTPConnectionPool(host='is2.lse.ac.uk', port=80): Max retries exceeded with url: /asp/aspecis/20090185.pdf (Caused by ConnectTimeoutError(<urllib3.connection.HTTPConnection object at 0x7fdbf19f6c70>, 'Connection to is2.lse.ac.uk timed out. (connect timeout=2)'))\n",
      "Downloading 7 of 50 publications\n",
      "\u001B[1;30;42mPDF downloaded\u001B[0m : document_2865.pdf to exports/pdf_downloads/live_demo\n",
      "Downloading 8 of 50 publications\n",
      "\u001B[1;30;42mPDF downloaded\u001B[0m : document_2867.pdf to exports/pdf_downloads/live_demo\n",
      "Downloading 9 of 50 publications\n",
      "[utils.py: download_pdf] Connection Error - could not download: error type: <class 'requests.exceptions.ConnectionError'> -> HTTPConnectionPool(host='udoo.uni-muenster.de', port=80): Max retries exceeded with url: /downloads/publications/2072.pdf (Caused by NewConnectionError('<urllib3.connection.HTTPConnection object at 0x7fdbf19f6340>: Failed to establish a new connection: [Errno 8] nodename nor servname provided, or not known'))\n",
      "Downloading 10 of 50 publications\n",
      "\u001B[1;30;42mPDF downloaded\u001B[0m : document_2874.pdf to exports/pdf_downloads/live_demo\n",
      "Downloading 11 of 50 publications\n",
      "[utils.py: download_pdf] Connection Error - could not download: error type: <class 'requests.exceptions.ConnectionError'> -> HTTPConnectionPool(host='udoo.uni-muenster.de', port=80): Max retries exceeded with url: /downloads/publications/1659.pdf (Caused by NewConnectionError('<urllib3.connection.HTTPConnection object at 0x7fdbf19f6e80>: Failed to establish a new connection: [Errno 8] nodename nor servname provided, or not known'))\n",
      "Downloading 12 of 50 publications\n",
      "[utils.py: download_pdf] Connection Error - could not download: error type: <class 'requests.exceptions.ConnectionError'> -> HTTPConnectionPool(host='udoo.uni-muenster.de', port=80): Max retries exceeded with url: /downloads/publications/1683.pdf (Caused by NewConnectionError('<urllib3.connection.HTTPConnection object at 0x7fdbf19f61c0>: Failed to establish a new connection: [Errno 8] nodename nor servname provided, or not known'))\n",
      "Downloading 13 of 50 publications\n",
      "[utils.py: download_PDF] PDF Download failed: 404\n",
      "Downloading 14 of 50 publications\n",
      "[utils.py: download_pdf] Connection Error - could not download: error type: <class 'requests.exceptions.ConnectionError'> -> HTTPConnectionPool(host='udoo.uni-muenster.de', port=80): Max retries exceeded with url: /downloads/publications/2170.pdf (Caused by NewConnectionError('<urllib3.connection.HTTPConnection object at 0x7fdc3260cbe0>: Failed to establish a new connection: [Errno 8] nodename nor servname provided, or not known'))\n",
      "Downloading 15 of 50 publications\n",
      "[utils.py: download_pdf] Connection Error - could not download: error type: <class 'requests.exceptions.ConnectionError'> -> HTTPConnectionPool(host='udoo.uni-muenster.de', port=80): Max retries exceeded with url: /downloads/publications/2373.pdf (Caused by NewConnectionError('<urllib3.connection.HTTPConnection object at 0x7fdc327492e0>: Failed to establish a new connection: [Errno 8] nodename nor servname provided, or not known'))\n",
      "Downloading 16 of 50 publications\n",
      "\u001B[1;30;42mPDF downloaded\u001B[0m : document_2942.pdf to exports/pdf_downloads/live_demo\n",
      "Downloading 17 of 50 publications\n",
      "\u001B[1;30;42mPDF downloaded\u001B[0m : document_2945.pdf to exports/pdf_downloads/live_demo\n",
      "Downloading 18 of 50 publications\n",
      "[utils.py: download_pdf] Connection Error - could not download: error type: <class 'requests.exceptions.ConnectionError'> -> HTTPConnectionPool(host='udoo.uni-muenster.de', port=80): Max retries exceeded with url: /downloads/publications/2105.pdf (Caused by NewConnectionError('<urllib3.connection.HTTPConnection object at 0x7fdbf19f6400>: Failed to establish a new connection: [Errno 8] nodename nor servname provided, or not known'))\n",
      "Downloading 19 of 50 publications\n",
      "[utils.py: download_pdf] Connection Error - could not download: error type: <class 'requests.exceptions.ConnectionError'> -> HTTPConnectionPool(host='udoo.uni-muenster.de', port=80): Max retries exceeded with url: /downloads/publications/2104.pdf (Caused by NewConnectionError('<urllib3.connection.HTTPConnection object at 0x7fdbf19f6be0>: Failed to establish a new connection: [Errno 8] nodename nor servname provided, or not known'))\n",
      "Downloading 20 of 50 publications\n",
      "[utils.py: download_pdf] Connection Error - could not download: error type: <class 'requests.exceptions.ConnectionError'> -> HTTPConnectionPool(host='udoo.uni-muenster.de', port=80): Max retries exceeded with url: /downloads/publications/2103.pdf (Caused by NewConnectionError('<urllib3.connection.HTTPConnection object at 0x7fdbf19f6be0>: Failed to establish a new connection: [Errno 8] nodename nor servname provided, or not known'))\n",
      "Downloading 21 of 50 publications\n",
      "\u001B[1;30;42mPDF downloaded\u001B[0m : document_2964.pdf to exports/pdf_downloads/live_demo\n",
      "Downloading 22 of 50 publications\n",
      "[utils.py: download_pdf] Connection Error - could not download: error type: <class 'requests.exceptions.ConnectionError'> -> HTTPConnectionPool(host='udoo.uni-muenster.de', port=80): Max retries exceeded with url: /downloads/publications/1967.pdf (Caused by NewConnectionError('<urllib3.connection.HTTPConnection object at 0x7fdc32749370>: Failed to establish a new connection: [Errno 8] nodename nor servname provided, or not known'))\n",
      "Downloading 23 of 50 publications\n",
      "[utils.py: download_pdf] Connection Error - could not download: error type: <class 'requests.exceptions.ConnectionError'> -> HTTPConnectionPool(host='udoo.uni-muenster.de', port=80): Max retries exceeded with url: /downloads/publications/2313.pdf (Caused by NewConnectionError('<urllib3.connection.HTTPConnection object at 0x7fdc32749b20>: Failed to establish a new connection: [Errno 8] nodename nor servname provided, or not known'))\n",
      "Downloading 24 of 50 publications\n",
      "[utils.py: download_pdf] Connection Error - could not download: error type: <class 'requests.exceptions.ConnectionError'> -> HTTPConnectionPool(host='udoo.uni-muenster.de', port=80): Max retries exceeded with url: /downloads/publications/2109.pdf (Caused by NewConnectionError('<urllib3.connection.HTTPConnection object at 0x7fdc32749490>: Failed to establish a new connection: [Errno 8] nodename nor servname provided, or not known'))\n",
      "Downloading 25 of 50 publications\n",
      "[utils.py: download_pdf] Connection Error - could not download: error type: <class 'requests.exceptions.ConnectionError'> -> HTTPConnectionPool(host='udoo.uni-muenster.de', port=80): Max retries exceeded with url: /downloads/publications/2053.pdf (Caused by NewConnectionError('<urllib3.connection.HTTPConnection object at 0x7fdc32749970>: Failed to establish a new connection: [Errno 8] nodename nor servname provided, or not known'))\n",
      "Downloading 26 of 50 publications\n",
      "[utils.py: download_pdf] Connection Error - could not download: error type: <class 'requests.exceptions.ConnectionError'> -> HTTPConnectionPool(host='udoo.uni-muenster.de', port=80): Max retries exceeded with url: /downloads/publications/2070.pdf (Caused by NewConnectionError('<urllib3.connection.HTTPConnection object at 0x7fdc32749400>: Failed to establish a new connection: [Errno 8] nodename nor servname provided, or not known'))\n",
      "Downloading 27 of 50 publications\n",
      "[utils.py: download_pdf] Connection Error - could not download: error type: <class 'requests.exceptions.ConnectionError'> -> HTTPConnectionPool(host='udoo.uni-muenster.de', port=80): Max retries exceeded with url: /downloads/publications/1988.pdf (Caused by NewConnectionError('<urllib3.connection.HTTPConnection object at 0x7fdc32749130>: Failed to establish a new connection: [Errno 8] nodename nor servname provided, or not known'))\n",
      "Downloading 28 of 50 publications\n",
      "[utils.py: download_PDF] PDF Download failed: 404\n",
      "Downloading 29 of 50 publications\n",
      "[utils.py: download_pdf] Connection Error - could not download: error type: <class 'requests.exceptions.ConnectTimeout'> -> HTTPConnectionPool(host='is2.lse.ac.uk', port=80): Max retries exceeded with url: /asp/aspecis/20080208.pdf (Caused by ConnectTimeoutError(<urllib3.connection.HTTPConnection object at 0x7fdbf19fb8b0>, 'Connection to is2.lse.ac.uk timed out. (connect timeout=2)'))\n",
      "Downloading 30 of 50 publications\n",
      "[utils.py: download_pdf] Connection Error - could not download: error type: <class 'requests.exceptions.ConnectTimeout'> -> HTTPConnectionPool(host='web.up.ac.za', port=80): Max retries exceeded with url: /ecis/ECIS2010PR/ECIS2010/Content/Papers/0320.pdf (Caused by ConnectTimeoutError(<urllib3.connection.HTTPConnection object at 0x7fdbf19f4100>, 'Connection to web.up.ac.za timed out. (connect timeout=2)'))\n",
      "Downloading 31 of 50 publications\n",
      "\u001B[1;30;42mPDF downloaded\u001B[0m : document_3135.pdf to exports/pdf_downloads/live_demo\n",
      "Downloading 32 of 50 publications\n",
      "[utils.py: download_pdf] Connection Error - could not download: error type: <class 'requests.exceptions.ConnectionError'> -> HTTPConnectionPool(host='udoo.uni-muenster.de', port=80): Max retries exceeded with url: /downloads/publications/2361.pdf (Caused by NewConnectionError('<urllib3.connection.HTTPConnection object at 0x7fdbf19f41f0>: Failed to establish a new connection: [Errno 8] nodename nor servname provided, or not known'))\n",
      "Downloading 33 of 50 publications\n",
      "\u001B[1;30;42mPDF downloaded\u001B[0m : document_3187.pdf to exports/pdf_downloads/live_demo\n",
      "Downloading 34 of 50 publications\n",
      "[utils.py: download_pdf] Connection Error - could not download: error type: <class 'requests.exceptions.ConnectionError'> -> HTTPConnectionPool(host='udoo.uni-muenster.de', port=80): Max retries exceeded with url: /downloads/publications/2071.pdf (Caused by NewConnectionError('<urllib3.connection.HTTPConnection object at 0x7fdc31816250>: Failed to establish a new connection: [Errno 8] nodename nor servname provided, or not known'))\n",
      "Downloading 35 of 50 publications\n",
      "[utils.py: download_pdf] Connection Error - could not download: error type: <class 'requests.exceptions.ConnectionError'> -> HTTPConnectionPool(host='udoo.uni-muenster.de', port=80): Max retries exceeded with url: /downloads/publications/2025.pdf (Caused by NewConnectionError('<urllib3.connection.HTTPConnection object at 0x7fdbf19f44c0>: Failed to establish a new connection: [Errno 8] nodename nor servname provided, or not known'))\n",
      "Downloading 36 of 50 publications\n",
      "[utils.py: download_pdf] Connection Error - could not download: error type: <class 'requests.exceptions.ConnectionError'> -> HTTPConnectionPool(host='udoo.uni-muenster.de', port=80): Max retries exceeded with url: /downloads/publications/1984.pdf (Caused by NewConnectionError('<urllib3.connection.HTTPConnection object at 0x7fdbf19f42b0>: Failed to establish a new connection: [Errno 8] nodename nor servname provided, or not known'))\n",
      "Downloading 37 of 50 publications\n",
      "\u001B[1;30;42mPDF downloaded\u001B[0m : document_3268.pdf to exports/pdf_downloads/live_demo\n",
      "Downloading 38 of 50 publications\n",
      "\u001B[1;30;42mPDF downloaded\u001B[0m : document_3269.pdf to exports/pdf_downloads/live_demo\n",
      "Downloading 39 of 50 publications\n",
      "\u001B[1;30;42mPDF downloaded\u001B[0m : document_3270.pdf to exports/pdf_downloads/live_demo\n",
      "Downloading 40 of 50 publications\n",
      "\u001B[1;30;42mPDF downloaded\u001B[0m : document_3281.pdf to exports/pdf_downloads/live_demo\n",
      "Downloading 41 of 50 publications\n",
      "[utils.py: download_PDF] PDF Download failed: 404\n",
      "Downloading 42 of 50 publications\n",
      "[utils.py: download_PDF] PDF Download failed: 404\n",
      "Downloading 43 of 50 publications\n",
      "[utils.py: download_pdf] Connection Error - could not download: error type: <class 'requests.exceptions.ConnectionError'> -> HTTPConnectionPool(host='udoo.uni-muenster.de', port=80): Max retries exceeded with url: /downloads/publications/1539.pdf (Caused by NewConnectionError('<urllib3.connection.HTTPConnection object at 0x7fdbf19f45b0>: Failed to establish a new connection: [Errno 8] nodename nor servname provided, or not known'))\n",
      "Downloading 44 of 50 publications\n",
      "\u001B[1;30;42mPDF downloaded\u001B[0m : document_3729.pdf to exports/pdf_downloads/live_demo\n",
      "Downloading 45 of 50 publications\n",
      "\u001B[1;30;42mPDF downloaded\u001B[0m : document_3730.pdf to exports/pdf_downloads/live_demo\n",
      "Downloading 46 of 50 publications\n",
      "\u001B[1;30;42mPDF downloaded\u001B[0m : document_3731.pdf to exports/pdf_downloads/live_demo\n",
      "Downloading 47 of 50 publications\n",
      "\u001B[1;30;42mPDF downloaded\u001B[0m : document_3735.pdf to exports/pdf_downloads/live_demo\n",
      "Downloading 48 of 50 publications\n",
      "\u001B[1;30;42mPDF downloaded\u001B[0m : document_3737.pdf to exports/pdf_downloads/live_demo\n",
      "Downloading 49 of 50 publications\n",
      "\u001B[1;30;42mPDF downloaded\u001B[0m : document_3738.pdf to exports/pdf_downloads/live_demo\n",
      "Downloading 50 of 50 publications\n",
      "\u001B[1;30;42mPDF downloaded\u001B[0m : document_3752.pdf to exports/pdf_downloads/live_demo\n"
     ]
    }
   ],
   "source": [
    "def download_pdf_from_cris(df_publications):\n",
    "    df_prepared = df_publications[df_publications['url'].notna()]\n",
    "    df_prepared = df_prepared[df_prepared['url'].str.endswith('.pdf')]\n",
    "    df_prepared = df_prepared[['id', 'url']]\n",
    "    df_prepared = df_prepared.reset_index(drop=True)\n",
    "    print(f'shape of df_prepared: {df_prepared.shape}')\n",
    "\n",
    "    folder = 'exports/pdf_downloads/live_demo'\n",
    "    for index, row in df_prepared.iterrows():\n",
    "        print(f'Downloading {index + 1} of {len(df_prepared)} publications')\n",
    "        filename = f'document_{row[\"id\"]}'\n",
    "        pdf_url = row['url']\n",
    "        utils.download_pdf(url=pdf_url, filename=filename, write_folder_path=folder, timeout=2)\n",
    "\n",
    "\n",
    "download_pdf_from_cris(df_publications_with_url)"
   ],
   "metadata": {
    "collapsed": false,
    "pycharm": {
     "name": "#%%\n"
    }
   }
  },
  {
   "cell_type": "markdown",
   "source": [
    "## Scholarly"
   ],
   "metadata": {
    "collapsed": false,
    "pycharm": {
     "name": "#%% md\n"
    }
   }
  },
  {
   "cell_type": "code",
   "execution_count": 9,
   "outputs": [],
   "source": [
    "def handle_proxy(proxy=None):\n",
    "    \"\"\"\n",
    "    Starts the proxy, by default no proxy thus None\n",
    "    :param proxy: choose whether to use proxy, we can add premium proxied if needed later\n",
    "    :return: void\n",
    "    \"\"\"\n",
    "\n",
    "    if proxy is None:\n",
    "        scholarly.use_proxy(None)  # no proxy\n",
    "    elif proxy == 'free':\n",
    "        pg = ProxyGenerator()\n",
    "        success = pg.FreeProxies()\n",
    "        print(f'Free proxy success: {success}')\n",
    "        scholarly.use_proxy(pg)\n",
    "    elif proxy == 'scraper_api':\n",
    "        pg = ProxyGenerator()\n",
    "        success = pg.ScraperAPI('641f7fb55bd1e65ee847412731234835')\n",
    "        scholarly.use_proxy(pg)\n",
    "    else:\n",
    "        print('No proxy recognized')\n",
    "\n",
    "handle_proxy()"
   ],
   "metadata": {
    "collapsed": false,
    "pycharm": {
     "name": "#%%\n"
    }
   }
  },
  {
   "cell_type": "code",
   "execution_count": 34,
   "outputs": [
    {
     "data": {
      "text/plain": "{'container_type': 'Author',\n 'filled': [],\n 'source': <AuthorSource.SEARCH_AUTHOR_SNIPPETS: 'SEARCH_AUTHOR_SNIPPETS'>,\n 'scholar_id': 'g3ZiieoAAAAJ',\n 'url_picture': 'https://scholar.google.com/citations?view_op=medium_photo&user=g3ZiieoAAAAJ',\n 'name': 'Fabian Gieseke',\n 'affiliation': 'Department of Information Systems, University of Münster',\n 'email_domain': '@uni-muenster.de',\n 'interests': ['Data Engineering', 'Maschine Learning'],\n 'citedby': 1381}"
     },
     "execution_count": 34,
     "metadata": {},
     "output_type": "execute_result"
    }
   ],
   "source": [
    "search_query = scholarly.search_author('Fabian Gieseke, Münster')\n",
    "next(search_query)"
   ],
   "metadata": {
    "collapsed": false,
    "pycharm": {
     "name": "#%%\n"
    }
   }
  },
  {
   "cell_type": "code",
   "execution_count": 35,
   "outputs": [
    {
     "data": {
      "text/plain": "{'container_type': 'Publication',\n 'source': <PublicationSource.PUBLICATION_SEARCH_SNIPPET: 'PUBLICATION_SEARCH_SNIPPET'>,\n 'bib': {'title': 'Theories of Language in IS Research–A Review',\n  'author': ['K Bergener', 'B Niehaves'],\n  'pub_year': '2009',\n  'venue': 'Wissenschaftstheorie und gestaltungsorientierte …',\n  'abstract': ', are based on a theory of linguistic phenomena.”  language theories in IS research: Speech  Act Theory (Subsection 2.1), Theory of Communicative Action (2.2), Structural Linguistics (2.3'},\n 'filled': False,\n 'gsrank': 1,\n 'pub_url': 'https://link.springer.com/chapter/10.1007/978-3-7908-2336-3_5',\n 'author_id': ['Fw3nrmAAAAAJ', 'xH4aTOsAAAAJ'],\n 'url_scholarbib': '/scholar?hl=en&q=info:udyY4s0q2PUJ:scholar.google.com/&output=cite&scirp=0&hl=en',\n 'url_add_sclib': '/citations?hl=en&xsrf=&continue=/scholar%3Fq%3DLinguistic%2BTheories%2Bin%2BIS%2BResearch%2B-%2BA%2BReview%2BBecker%2BJ,%2BFielenbach%2BK,%2BNiehaves%2BB%26hl%3Den%26as_sdt%3D0,33&citilm=1&update_op=library_add&info=udyY4s0q2PUJ&ei=wMlZY6O2MoqUy9YPhOmTiA4&json=',\n 'num_citations': 0,\n 'url_related_articles': '/scholar?q=related:udyY4s0q2PUJ:scholar.google.com/&scioq=Linguistic+Theories+in+IS+Research+-+A+Review+Becker+J,+Fielenbach+K,+Niehaves+B&hl=en&as_sdt=0,33'}"
     },
     "execution_count": 35,
     "metadata": {},
     "output_type": "execute_result"
    }
   ],
   "source": [
    "# cris_data (the publication has no doi/url in cris)\n",
    "title = 'Linguistic Theories in IS Research - A Review'  # cris data\n",
    "authors = 'Becker J, Fielenbach K, Niehaves B'  # cris data\n",
    "scholarly_search = scholarly.search_pubs(f'{title} {authors}')\n",
    "publication = next(scholarly_search)\n",
    "url = publication.get('pub_url')\n",
    "\n",
    "publication"
   ],
   "metadata": {
    "collapsed": false,
    "pycharm": {
     "name": "#%%\n"
    }
   }
  },
  {
   "cell_type": "code",
   "execution_count": null,
   "outputs": [],
   "source": [],
   "metadata": {
    "collapsed": false,
    "pycharm": {
     "name": "#%%\n"
    }
   }
  }
 ],
 "metadata": {
  "kernelspec": {
   "display_name": "Python 3",
   "language": "python",
   "name": "python3"
  },
  "language_info": {
   "codemirror_mode": {
    "name": "ipython",
    "version": 2
   },
   "file_extension": ".py",
   "mimetype": "text/x-python",
   "name": "python",
   "nbconvert_exporter": "python",
   "pygments_lexer": "ipython2",
   "version": "2.7.6"
  }
 },
 "nbformat": 4,
 "nbformat_minor": 0
}