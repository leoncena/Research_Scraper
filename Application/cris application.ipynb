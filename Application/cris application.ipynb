{
 "cells": [
  {
   "cell_type": "code",
   "execution_count": 1,
   "outputs": [],
   "source": [
    "import requests.exceptions\n",
    "\n",
    "from Research_Scraper_Code.Research_Scraper import ResearchScraper\n",
    "from Research_Scraper_Code import utils\n",
    "import pandas as pd\n",
    "import time\n",
    "import json\n",
    "import urllib.parse\n",
    "import random\n",
    "from scholarly import scholarly, ProxyGenerator\n",
    "from scholarly import MaxTriesExceededException\n",
    "import os"
   ],
   "metadata": {
    "collapsed": false,
    "pycharm": {
     "name": "#%%\n"
    }
   }
  },
  {
   "cell_type": "markdown",
   "source": [
    "### Init scraper and load the publications from the csv"
   ],
   "metadata": {
    "collapsed": false,
    "pycharm": {
     "name": "#%% md\n"
    }
   }
  },
  {
   "cell_type": "code",
   "execution_count": 2,
   "outputs": [],
   "source": [
    "scraper = ResearchScraper()"
   ],
   "metadata": {
    "collapsed": false,
    "pycharm": {
     "name": "#%%\n"
    }
   }
  },
  {
   "cell_type": "code",
   "execution_count": 3,
   "outputs": [],
   "source": [
    "def load_publications_from_csv():\n",
    "    data = 'data/publications_without_abstract.csv'\n",
    "\n",
    "    with open(data) as f:\n",
    "        df = pd.read_csv(f, sep=';')\n",
    "    return df\n"
   ],
   "metadata": {
    "collapsed": false,
    "pycharm": {
     "name": "#%%\n"
    }
   }
  },
  {
   "cell_type": "code",
   "execution_count": 4,
   "outputs": [],
   "source": [
    "df_publications = load_publications_from_csv()"
   ],
   "metadata": {
    "collapsed": false,
    "pycharm": {
     "name": "#%%\n"
    }
   }
  },
  {
   "cell_type": "markdown",
   "source": [
    "## Scraping utils"
   ],
   "metadata": {
    "collapsed": false,
    "pycharm": {
     "name": "#%% md\n"
    }
   }
  },
  {
   "cell_type": "code",
   "execution_count": 5,
   "outputs": [],
   "source": [
    "def get_all_dois(df):\n",
    "    dois = df['doi']\n",
    "    # remove NaNs\n",
    "    dois = dois.dropna()\n",
    "    dois.tolist()\n",
    "    return dois\n",
    "\n",
    "\n",
    "publication_dois = get_all_dois(df_publications)"
   ],
   "metadata": {
    "collapsed": false,
    "pycharm": {
     "name": "#%%\n"
    }
   }
  },
  {
   "cell_type": "markdown",
   "source": [
    "Create a sample of cris data and scrape them"
   ],
   "metadata": {
    "collapsed": false,
    "pycharm": {
     "name": "#%% md\n"
    }
   }
  },
  {
   "cell_type": "code",
   "execution_count": 6,
   "outputs": [],
   "source": [
    "def scrape_sample_of_dois(dois, n):\n",
    "    \"\"\"\n",
    "    Chooses random n entries from the list of dois and scrapes them. For debugging purposes\n",
    "    :param dois: list of dois to sample from\n",
    "    :param n: size of the sample\n",
    "    :return: results of the scraping\n",
    "    \"\"\"\n",
    "    # get a sample of 10 from dois\n",
    "    sample = dois.sample(n)\n",
    "    #print(sample)\n",
    "    results = []\n",
    "\n",
    "    for doi in sample:\n",
    "        print(f'Scraping {doi}')\n",
    "        start = time.time()\n",
    "        result = scraper.scrape_publication_by_doi(doi, params=['full'])\n",
    "        end = time.time()\n",
    "        print(f'Total time : {end - start}')\n",
    "        old_len = len(results)\n",
    "        results.append(result)\n",
    "        print(f'\\n \\t  >>>>>> added new result, n went from {old_len} to n={len(results)}')\n",
    "        # print(f'\\t -> Results: {results}')\n",
    "\n",
    "    #write_results(results, f'sample_{time.strftime(\"%Y_%m_%d__%H_%M\")}')\n",
    "    return results\n"
   ],
   "metadata": {
    "collapsed": false,
    "pycharm": {
     "name": "#%%\n"
    }
   }
  },
  {
   "cell_type": "code",
   "execution_count": null,
   "outputs": [],
   "source": [
    "# run_cell = Truex\n",
    "# # scrape sample of 3\n",
    "# if run_cell:\n",
    "#     res = None\n",
    "#     res = scrape_sample_of_dois(publication_dois, 3)\n",
    "#     utils.write_results(res, f'sample_scrapings_{time.strftime(\"%Y_%m_%d__%H_%M\")}')"
   ],
   "metadata": {
    "collapsed": false,
    "pycharm": {
     "name": "#%%\n"
    }
   }
  },
  {
   "cell_type": "markdown",
   "source": [
    "Scraping a list of DOIs"
   ],
   "metadata": {
    "collapsed": false,
    "pycharm": {
     "name": "#%% md\n"
    }
   }
  },
  {
   "cell_type": "code",
   "execution_count": null,
   "outputs": [],
   "source": [
    "# def scrape_publication_by_doi_list(doi_list, params=['full']):\n",
    "#     print(f'Time of scrape start: {time.strftime(\"%Y_%m_%d__%H_%M\")}')\n",
    "#     results = []\n",
    "#     for doi in doi_list:\n",
    "#         print(f'>>> Scraping {doi}')\n",
    "#         result = scraper.scrape_publication_by_doi(doi, params)\n",
    "#         print(f'>>>> Scraping {doi} done')\n",
    "#         results.append(result)\n",
    "#         print(f'>>>> Scraping {doi} added to results')\n",
    "#     print(f'>>>> Scraping {len(doi_list)} publications done')\n",
    "#     utils.write_results(results, f'scrapings_{time.strftime(\"%Y_%m_%d__%H_%M\")}')\n",
    "#     print(f'Time of scrape end: {time.strftime(\"%Y_%m_%d__%H_%M\")}')\n",
    "#     return results"
   ],
   "metadata": {
    "collapsed": false,
    "pycharm": {
     "name": "#%%\n"
    }
   }
  },
  {
   "cell_type": "markdown",
   "source": [
    "## Importing results of scraping"
   ],
   "metadata": {
    "collapsed": false,
    "pycharm": {
     "name": "#%% md\n"
    }
   }
  },
  {
   "cell_type": "markdown",
   "source": [
    "Read the results of scraping from a file"
   ],
   "metadata": {
    "collapsed": false,
    "pycharm": {
     "name": "#%% md\n"
    }
   }
  },
  {
   "cell_type": "code",
   "execution_count": null,
   "outputs": [],
   "source": [
    "# read json file with scraping results (all cris doi numbers)\n",
    "with open('exports/scrapings/scrapings_2022_10_21__03_38.json') as f:\n",
    "    scraping_results_imported = json.load(f)\n",
    "\n",
    "# old file 582 after clean"
   ],
   "metadata": {
    "collapsed": false,
    "pycharm": {
     "name": "#%%\n"
    }
   }
  },
  {
   "cell_type": "markdown",
   "source": [
    "Drop nones and errors, extract error rows"
   ],
   "metadata": {
    "collapsed": false,
    "pycharm": {
     "name": "#%% md\n"
    }
   }
  },
  {
   "cell_type": "code",
   "execution_count": null,
   "outputs": [],
   "source": [
    "scraping_results_imported_cleaned = [x for x in scraping_results_imported if x is not None and x.get('error') is None]"
   ],
   "metadata": {
    "collapsed": false,
    "pycharm": {
     "name": "#%%\n"
    }
   }
  },
  {
   "cell_type": "code",
   "execution_count": null,
   "outputs": [],
   "source": [
    "# rows from the dict with the key 'error'\n",
    "error_rows = [x for x in scraping_results_imported if x is not None and x.get('error') is not None]\n",
    "error_rows_unknown = [x for x in error_rows if x.get('error') != 'No scraper found for this url']"
   ],
   "metadata": {
    "collapsed": false,
    "pycharm": {
     "name": "#%%\n"
    }
   }
  },
  {
   "cell_type": "markdown",
   "source": [
    "You can search for a publication in the scraped results by url"
   ],
   "metadata": {
    "collapsed": false,
    "pycharm": {
     "name": "#%% md\n"
    }
   }
  },
  {
   "cell_type": "code",
   "execution_count": null,
   "outputs": [],
   "source": [
    "[x for x in scraping_results_imported_cleaned if\n",
    " x.get('url') == urllib.parse.unquote('https://link.springer.com/article/10.1007%2Fs12599-019-00623-1')]"
   ],
   "metadata": {
    "collapsed": false,
    "pycharm": {
     "name": "#%%\n"
    }
   }
  },
  {
   "cell_type": "markdown",
   "source": [
    "With the scraper we can fill missing keywords, imagine we would want to find some keywords"
   ],
   "metadata": {
    "collapsed": false,
    "pycharm": {
     "name": "#%% md\n"
    }
   }
  },
  {
   "cell_type": "code",
   "execution_count": 19,
   "outputs": [
    {
     "name": "stdout",
     "output_type": "stream",
     "text": [
      "\u001B[6;30;42m[DEBUG - ResearchScraper] - Found scraper for https://link.springer.com/article/10.1007%2Fs12599-019-00623-1 -> ScraperSpringer\u001B[0m\n",
      "\u001B[6;30;32m Scraped keys: ['url', 'keywords']\u001B[0m\n"
     ]
    },
    {
     "data": {
      "text/plain": "['Reference modeling',\n 'Forms',\n 'Standardization',\n 'E-government',\n 'Digital government',\n 'Public administration',\n 'Meta-modeling',\n 'Graphical user interface']"
     },
     "execution_count": 19,
     "metadata": {},
     "output_type": "execute_result"
    }
   ],
   "source": [
    "scraper = ResearchScraper()\n",
    "link = 'https://link.springer.com/article/10.1007%2Fs12599-019-00623-1'\n",
    "result = scraper.scrape_publication_by_url(link, params=['keywords']).get('keywords')\n",
    "result"
   ],
   "metadata": {
    "collapsed": false,
    "pycharm": {
     "name": "#%%\n"
    }
   }
  },
  {
   "cell_type": "markdown",
   "source": [
    "## Cris data exploration\n",
    "### Find pdf links directly from cris"
   ],
   "metadata": {
    "collapsed": false,
    "pycharm": {
     "name": "#%% md\n"
    }
   }
  },
  {
   "cell_type": "code",
   "execution_count": 10,
   "outputs": [
    {
     "name": "stdout",
     "output_type": "stream",
     "text": [
      "There are 543 publications with a pdf url\n"
     ]
    },
    {
     "data": {
      "text/plain": "id                                                152557\nurl    http://www.ifg-muenster.de/forschen/veroeffent...\nName: 9294, dtype: object"
     },
     "execution_count": 10,
     "metadata": {},
     "output_type": "execute_result"
    }
   ],
   "source": [
    "df_publications = load_publications_from_csv()\n",
    "# filter url not nan\n",
    "df_publications_with_url = df_publications[df_publications['url'].notna()]\n",
    "# df_publications_with_url['url'] must end with .pdf\n",
    "df_publications_with_url = df_publications_with_url[df_publications_with_url['url'].str.endswith('.pdf')]\n",
    "# get id and url col (so we can join later)\n",
    "df_publications_with_url = df_publications_with_url[['id', 'url']]\n",
    "# convert to list of dicts\n",
    "#dict_publications_with_url = df_publications_with_url.to_dict('records')\n",
    "print(f'There are {len(df_publications_with_url)} publications with a pdf url')\n",
    "\n",
    "# iterate over the rows of dataframe df_publications_with_url and get the url\n",
    "\n",
    "#for index, row in df_publications_with_url.iterrows():\n",
    "\n",
    "\n",
    "df_publications_with_url.iloc[466]"
   ],
   "metadata": {
    "collapsed": false,
    "pycharm": {
     "name": "#%%\n"
    }
   }
  },
  {
   "cell_type": "code",
   "execution_count": 8,
   "outputs": [
    {
     "name": "stdout",
     "output_type": "stream",
     "text": [
      "http://udoo.uni-muenster.de/downloads/publications/2072.pdf\n",
      "[utils.py: download_pdf] Connection Error - could not download: HTTPConnectionPool(host='udoo.uni-muenster.de', port=80): Max retries exceeded with url: /downloads/publications/2072.pdf (Caused by NewConnectionError('<urllib3.connection.HTTPConnection object at 0x7f8a0a511160>: Failed to establish a new connection: [Errno 8] nodename nor servname provided, or not known'))\n"
     ]
    }
   ],
   "source": [
    "test_row = df_publications_with_url.iloc[8]\n",
    "filename = f'document_{test_row[\"id\"]}'\n",
    "pdf_url = test_row['url']\n",
    "print(pdf_url)\n",
    "folder = 'exports/pdf_downloads/0_cris_downloads'\n",
    "utils.download_pdf(url=pdf_url, filename=filename, write_folder_path=folder)\n"
   ],
   "metadata": {
    "collapsed": false,
    "pycharm": {
     "name": "#%%\n"
    }
   }
  },
  {
   "cell_type": "markdown",
   "source": [
    "## Download all the pdf from cris"
   ],
   "metadata": {
    "collapsed": false,
    "pycharm": {
     "name": "#%% md\n"
    }
   }
  },
  {
   "cell_type": "code",
   "execution_count": 8,
   "outputs": [
    {
     "name": "stdout",
     "output_type": "stream",
     "text": [
      "Downloading 1 of 543 publications\n",
      "[utils.py: download_pdf] Connection Error - could not download: error type: <class 'requests.exceptions.ConnectionError'> -> HTTPConnectionPool(host='udoo.uni-muenster.de', port=80): Max retries exceeded with url: /downloads/publications/2011.pdf (Caused by NewConnectionError('<urllib3.connection.HTTPConnection object at 0x7fbe29de79d0>: Failed to establish a new connection: [Errno 8] nodename nor servname provided, or not known'))\n",
      "Downloading 2 of 543 publications\n",
      "[utils.py: download_pdf] Connection Error - could not download: error type: <class 'requests.exceptions.ConnectTimeout'> -> HTTPConnectionPool(host='web.up.ac.za', port=80): Max retries exceeded with url: /ecis/ECIS2010PR/ECIS2010/Content/Papers/0451.R1.pdf (Caused by ConnectTimeoutError(<urllib3.connection.HTTPConnection object at 0x7fbe39bd3fd0>, 'Connection to web.up.ac.za timed out. (connect timeout=10)'))\n",
      "Downloading 3 of 543 publications\n",
      "[utils.py: download_pdf] Connection Error - could not download: error type: <class 'requests.exceptions.ConnectionError'> -> HTTPConnectionPool(host='udoo.uni-muenster.de', port=80): Max retries exceeded with url: /downloads/publications/2075.pdf (Caused by NewConnectionError('<urllib3.connection.HTTPConnection object at 0x7fbe39bdf190>: Failed to establish a new connection: [Errno 8] nodename nor servname provided, or not known'))\n",
      "Downloading 4 of 543 publications\n",
      "[utils.py: download_pdf] Connection Error - could not download: error type: <class 'requests.exceptions.ConnectionError'> -> HTTPConnectionPool(host='udoo.uni-muenster.de', port=80): Max retries exceeded with url: /downloads/publications/2403.pdf (Caused by NewConnectionError('<urllib3.connection.HTTPConnection object at 0x7fbe39bdf160>: Failed to establish a new connection: [Errno 8] nodename nor servname provided, or not known'))\n",
      "Downloading 5 of 543 publications\n",
      "[utils.py: download_pdf] Connection Error - could not download: error type: <class 'requests.exceptions.ConnectionError'> -> HTTPConnectionPool(host='udoo.uni-muenster.de', port=80): Max retries exceeded with url: /downloads/publications/2364.pdf (Caused by NewConnectionError('<urllib3.connection.HTTPConnection object at 0x7fbe39bdf2b0>: Failed to establish a new connection: [Errno 8] nodename nor servname provided, or not known'))\n",
      "Downloading 6 of 543 publications\n",
      "[utils.py: download_pdf] Connection Error - could not download: error type: <class 'requests.exceptions.ConnectTimeout'> -> HTTPConnectionPool(host='is2.lse.ac.uk', port=80): Max retries exceeded with url: /asp/aspecis/20090185.pdf (Caused by ConnectTimeoutError(<urllib3.connection.HTTPConnection object at 0x7fbe39bdf310>, 'Connection to is2.lse.ac.uk timed out. (connect timeout=10)'))\n",
      "Downloading 7 of 543 publications\n",
      "\u001B[1;30;42mPDF downloaded\u001B[0m : document_2865.pdf to exports/pdf_downloads/0_cris_downloads\n",
      "Downloading 8 of 543 publications\n",
      "\u001B[1;30;42mPDF downloaded\u001B[0m : document_2867.pdf to exports/pdf_downloads/0_cris_downloads\n",
      "Downloading 9 of 543 publications\n",
      "[utils.py: download_pdf] Connection Error - could not download: error type: <class 'requests.exceptions.ConnectionError'> -> HTTPConnectionPool(host='udoo.uni-muenster.de', port=80): Max retries exceeded with url: /downloads/publications/2072.pdf (Caused by NewConnectionError('<urllib3.connection.HTTPConnection object at 0x7fbe39bdf8b0>: Failed to establish a new connection: [Errno 8] nodename nor servname provided, or not known'))\n",
      "Downloading 10 of 543 publications\n",
      "\u001B[1;30;42mPDF downloaded\u001B[0m : document_2874.pdf to exports/pdf_downloads/0_cris_downloads\n",
      "Downloading 11 of 543 publications\n",
      "[utils.py: download_pdf] Connection Error - could not download: error type: <class 'requests.exceptions.ConnectionError'> -> HTTPConnectionPool(host='udoo.uni-muenster.de', port=80): Max retries exceeded with url: /downloads/publications/1659.pdf (Caused by NewConnectionError('<urllib3.connection.HTTPConnection object at 0x7fbe39bdf790>: Failed to establish a new connection: [Errno 8] nodename nor servname provided, or not known'))\n",
      "Downloading 12 of 543 publications\n",
      "[utils.py: download_pdf] Connection Error - could not download: error type: <class 'requests.exceptions.ConnectionError'> -> HTTPConnectionPool(host='udoo.uni-muenster.de', port=80): Max retries exceeded with url: /downloads/publications/1683.pdf (Caused by NewConnectionError('<urllib3.connection.HTTPConnection object at 0x7fbe39bdf880>: Failed to establish a new connection: [Errno 8] nodename nor servname provided, or not known'))\n",
      "Downloading 13 of 543 publications\n",
      "[utils.py: download_PDF] PDF Download failed: 404\n",
      "Downloading 14 of 543 publications\n",
      "[utils.py: download_pdf] Connection Error - could not download: error type: <class 'requests.exceptions.ConnectionError'> -> HTTPConnectionPool(host='udoo.uni-muenster.de', port=80): Max retries exceeded with url: /downloads/publications/2170.pdf (Caused by NewConnectionError('<urllib3.connection.HTTPConnection object at 0x7fbe3980d880>: Failed to establish a new connection: [Errno 8] nodename nor servname provided, or not known'))\n",
      "Downloading 15 of 543 publications\n",
      "[utils.py: download_pdf] Connection Error - could not download: error type: <class 'requests.exceptions.ConnectionError'> -> HTTPConnectionPool(host='udoo.uni-muenster.de', port=80): Max retries exceeded with url: /downloads/publications/2373.pdf (Caused by NewConnectionError('<urllib3.connection.HTTPConnection object at 0x7fbe3980da90>: Failed to establish a new connection: [Errno 8] nodename nor servname provided, or not known'))\n",
      "Downloading 16 of 543 publications\n",
      "\u001B[1;30;42mPDF downloaded\u001B[0m : document_2942.pdf to exports/pdf_downloads/0_cris_downloads\n",
      "Downloading 17 of 543 publications\n",
      "\u001B[1;30;42mPDF downloaded\u001B[0m : document_2945.pdf to exports/pdf_downloads/0_cris_downloads\n",
      "Downloading 18 of 543 publications\n",
      "[utils.py: download_pdf] Connection Error - could not download: error type: <class 'requests.exceptions.ConnectionError'> -> HTTPConnectionPool(host='udoo.uni-muenster.de', port=80): Max retries exceeded with url: /downloads/publications/2105.pdf (Caused by NewConnectionError('<urllib3.connection.HTTPConnection object at 0x7fbe3980d610>: Failed to establish a new connection: [Errno 8] nodename nor servname provided, or not known'))\n",
      "Downloading 19 of 543 publications\n",
      "[utils.py: download_pdf] Connection Error - could not download: error type: <class 'requests.exceptions.ConnectionError'> -> HTTPConnectionPool(host='udoo.uni-muenster.de', port=80): Max retries exceeded with url: /downloads/publications/2104.pdf (Caused by NewConnectionError('<urllib3.connection.HTTPConnection object at 0x7fbe3980dac0>: Failed to establish a new connection: [Errno 8] nodename nor servname provided, or not known'))\n",
      "Downloading 20 of 543 publications\n",
      "[utils.py: download_pdf] Connection Error - could not download: error type: <class 'requests.exceptions.ConnectionError'> -> HTTPConnectionPool(host='udoo.uni-muenster.de', port=80): Max retries exceeded with url: /downloads/publications/2103.pdf (Caused by NewConnectionError('<urllib3.connection.HTTPConnection object at 0x7fbe3980d160>: Failed to establish a new connection: [Errno 8] nodename nor servname provided, or not known'))\n",
      "Downloading 21 of 543 publications\n",
      "\u001B[1;30;42mPDF downloaded\u001B[0m : document_2964.pdf to exports/pdf_downloads/0_cris_downloads\n",
      "Downloading 22 of 543 publications\n",
      "[utils.py: download_pdf] Connection Error - could not download: error type: <class 'requests.exceptions.ConnectionError'> -> HTTPConnectionPool(host='udoo.uni-muenster.de', port=80): Max retries exceeded with url: /downloads/publications/1967.pdf (Caused by NewConnectionError('<urllib3.connection.HTTPConnection object at 0x7fbe3980d9d0>: Failed to establish a new connection: [Errno 8] nodename nor servname provided, or not known'))\n",
      "Downloading 23 of 543 publications\n",
      "[utils.py: download_pdf] Connection Error - could not download: error type: <class 'requests.exceptions.ConnectionError'> -> HTTPConnectionPool(host='udoo.uni-muenster.de', port=80): Max retries exceeded with url: /downloads/publications/2313.pdf (Caused by NewConnectionError('<urllib3.connection.HTTPConnection object at 0x7fbe3980d970>: Failed to establish a new connection: [Errno 8] nodename nor servname provided, or not known'))\n",
      "Downloading 24 of 543 publications\n",
      "[utils.py: download_pdf] Connection Error - could not download: error type: <class 'requests.exceptions.ConnectionError'> -> HTTPConnectionPool(host='udoo.uni-muenster.de', port=80): Max retries exceeded with url: /downloads/publications/2109.pdf (Caused by NewConnectionError('<urllib3.connection.HTTPConnection object at 0x7fbe3980de80>: Failed to establish a new connection: [Errno 8] nodename nor servname provided, or not known'))\n",
      "Downloading 25 of 543 publications\n",
      "[utils.py: download_pdf] Connection Error - could not download: error type: <class 'requests.exceptions.ConnectionError'> -> HTTPConnectionPool(host='udoo.uni-muenster.de', port=80): Max retries exceeded with url: /downloads/publications/2053.pdf (Caused by NewConnectionError('<urllib3.connection.HTTPConnection object at 0x7fbe3980dac0>: Failed to establish a new connection: [Errno 8] nodename nor servname provided, or not known'))\n",
      "Downloading 26 of 543 publications\n",
      "[utils.py: download_pdf] Connection Error - could not download: error type: <class 'requests.exceptions.ConnectionError'> -> HTTPConnectionPool(host='udoo.uni-muenster.de', port=80): Max retries exceeded with url: /downloads/publications/2070.pdf (Caused by NewConnectionError('<urllib3.connection.HTTPConnection object at 0x7fbe3980d3d0>: Failed to establish a new connection: [Errno 8] nodename nor servname provided, or not known'))\n",
      "Downloading 27 of 543 publications\n",
      "[utils.py: download_pdf] Connection Error - could not download: error type: <class 'requests.exceptions.ConnectionError'> -> HTTPConnectionPool(host='udoo.uni-muenster.de', port=80): Max retries exceeded with url: /downloads/publications/1988.pdf (Caused by NewConnectionError('<urllib3.connection.HTTPConnection object at 0x7fbe3980de20>: Failed to establish a new connection: [Errno 8] nodename nor servname provided, or not known'))\n",
      "Downloading 28 of 543 publications\n",
      "[utils.py: download_PDF] PDF Download failed: 404\n",
      "Downloading 29 of 543 publications\n",
      "[utils.py: download_pdf] Connection Error - could not download: error type: <class 'requests.exceptions.ConnectTimeout'> -> HTTPConnectionPool(host='is2.lse.ac.uk', port=80): Max retries exceeded with url: /asp/aspecis/20080208.pdf (Caused by ConnectTimeoutError(<urllib3.connection.HTTPConnection object at 0x7fbe398909d0>, 'Connection to is2.lse.ac.uk timed out. (connect timeout=10)'))\n",
      "Downloading 30 of 543 publications\n",
      "[utils.py: download_pdf] Connection Error - could not download: error type: <class 'requests.exceptions.ConnectTimeout'> -> HTTPConnectionPool(host='web.up.ac.za', port=80): Max retries exceeded with url: /ecis/ECIS2010PR/ECIS2010/Content/Papers/0320.pdf (Caused by ConnectTimeoutError(<urllib3.connection.HTTPConnection object at 0x7fbe3980dd00>, 'Connection to web.up.ac.za timed out. (connect timeout=10)'))\n",
      "Downloading 31 of 543 publications\n",
      "\u001B[1;30;42mPDF downloaded\u001B[0m : document_3135.pdf to exports/pdf_downloads/0_cris_downloads\n",
      "Downloading 32 of 543 publications\n",
      "[utils.py: download_pdf] Connection Error - could not download: error type: <class 'requests.exceptions.ConnectionError'> -> HTTPConnectionPool(host='udoo.uni-muenster.de', port=80): Max retries exceeded with url: /downloads/publications/2361.pdf (Caused by NewConnectionError('<urllib3.connection.HTTPConnection object at 0x7fbe3980dbb0>: Failed to establish a new connection: [Errno 8] nodename nor servname provided, or not known'))\n",
      "Downloading 33 of 543 publications\n",
      "\u001B[1;30;42mPDF downloaded\u001B[0m : document_3187.pdf to exports/pdf_downloads/0_cris_downloads\n",
      "Downloading 34 of 543 publications\n",
      "[utils.py: download_pdf] Connection Error - could not download: error type: <class 'requests.exceptions.ConnectionError'> -> HTTPConnectionPool(host='udoo.uni-muenster.de', port=80): Max retries exceeded with url: /downloads/publications/2071.pdf (Caused by NewConnectionError('<urllib3.connection.HTTPConnection object at 0x7fbe39bdf550>: Failed to establish a new connection: [Errno 8] nodename nor servname provided, or not known'))\n",
      "Downloading 35 of 543 publications\n",
      "[utils.py: download_pdf] Connection Error - could not download: error type: <class 'requests.exceptions.ConnectionError'> -> HTTPConnectionPool(host='udoo.uni-muenster.de', port=80): Max retries exceeded with url: /downloads/publications/2025.pdf (Caused by NewConnectionError('<urllib3.connection.HTTPConnection object at 0x7fbe39bdf850>: Failed to establish a new connection: [Errno 8] nodename nor servname provided, or not known'))\n",
      "Downloading 36 of 543 publications\n",
      "[utils.py: download_pdf] Connection Error - could not download: error type: <class 'requests.exceptions.ConnectionError'> -> HTTPConnectionPool(host='udoo.uni-muenster.de', port=80): Max retries exceeded with url: /downloads/publications/1984.pdf (Caused by NewConnectionError('<urllib3.connection.HTTPConnection object at 0x7fbe39bdf8b0>: Failed to establish a new connection: [Errno 8] nodename nor servname provided, or not known'))\n",
      "Downloading 37 of 543 publications\n",
      "\u001B[1;30;42mPDF downloaded\u001B[0m : document_3268.pdf to exports/pdf_downloads/0_cris_downloads\n",
      "Downloading 38 of 543 publications\n",
      "\u001B[1;30;42mPDF downloaded\u001B[0m : document_3269.pdf to exports/pdf_downloads/0_cris_downloads\n",
      "Downloading 39 of 543 publications\n",
      "\u001B[1;30;42mPDF downloaded\u001B[0m : document_3270.pdf to exports/pdf_downloads/0_cris_downloads\n",
      "Downloading 40 of 543 publications\n",
      "\u001B[1;30;42mPDF downloaded\u001B[0m : document_3281.pdf to exports/pdf_downloads/0_cris_downloads\n",
      "Downloading 41 of 543 publications\n",
      "[utils.py: download_PDF] PDF Download failed: 404\n",
      "Downloading 42 of 543 publications\n",
      "[utils.py: download_PDF] PDF Download failed: 404\n",
      "Downloading 43 of 543 publications\n",
      "[utils.py: download_pdf] Connection Error - could not download: error type: <class 'requests.exceptions.ConnectionError'> -> HTTPConnectionPool(host='udoo.uni-muenster.de', port=80): Max retries exceeded with url: /downloads/publications/1539.pdf (Caused by NewConnectionError('<urllib3.connection.HTTPConnection object at 0x7fbe39bdf670>: Failed to establish a new connection: [Errno 8] nodename nor servname provided, or not known'))\n",
      "Downloading 44 of 543 publications\n",
      "\u001B[1;30;42mPDF downloaded\u001B[0m : document_3729.pdf to exports/pdf_downloads/0_cris_downloads\n",
      "Downloading 45 of 543 publications\n",
      "\u001B[1;30;42mPDF downloaded\u001B[0m : document_3730.pdf to exports/pdf_downloads/0_cris_downloads\n",
      "Downloading 46 of 543 publications\n",
      "\u001B[1;30;42mPDF downloaded\u001B[0m : document_3731.pdf to exports/pdf_downloads/0_cris_downloads\n",
      "Downloading 47 of 543 publications\n",
      "\u001B[1;30;42mPDF downloaded\u001B[0m : document_3735.pdf to exports/pdf_downloads/0_cris_downloads\n",
      "Downloading 48 of 543 publications\n",
      "\u001B[1;30;42mPDF downloaded\u001B[0m : document_3737.pdf to exports/pdf_downloads/0_cris_downloads\n",
      "Downloading 49 of 543 publications\n",
      "\u001B[1;30;42mPDF downloaded\u001B[0m : document_3738.pdf to exports/pdf_downloads/0_cris_downloads\n",
      "Downloading 50 of 543 publications\n",
      "\u001B[1;30;42mPDF downloaded\u001B[0m : document_3752.pdf to exports/pdf_downloads/0_cris_downloads\n",
      "Downloading 51 of 543 publications\n",
      "[utils.py: download_PDF] PDF Download failed: 404\n",
      "Downloading 52 of 543 publications\n",
      "\u001B[1;30;42mPDF downloaded\u001B[0m : document_3756.pdf to exports/pdf_downloads/0_cris_downloads\n",
      "Downloading 53 of 543 publications\n",
      "\u001B[1;30;42mPDF downloaded\u001B[0m : document_3757.pdf to exports/pdf_downloads/0_cris_downloads\n",
      "Downloading 54 of 543 publications\n",
      "\u001B[1;30;42mPDF downloaded\u001B[0m : document_3759.pdf to exports/pdf_downloads/0_cris_downloads\n",
      "Downloading 55 of 543 publications\n",
      "\u001B[1;30;42mPDF downloaded\u001B[0m : document_3760.pdf to exports/pdf_downloads/0_cris_downloads\n",
      "Downloading 56 of 543 publications\n",
      "[utils.py: download_PDF] PDF Download failed: 404\n",
      "Downloading 57 of 543 publications\n",
      "\u001B[1;30;42mPDF downloaded\u001B[0m : document_3778.pdf to exports/pdf_downloads/0_cris_downloads\n",
      "Downloading 58 of 543 publications\n",
      "\u001B[1;30;42mPDF downloaded\u001B[0m : document_3779.pdf to exports/pdf_downloads/0_cris_downloads\n",
      "Downloading 59 of 543 publications\n",
      "\u001B[1;30;42mPDF downloaded\u001B[0m : document_3795.pdf to exports/pdf_downloads/0_cris_downloads\n",
      "Downloading 60 of 543 publications\n",
      "\u001B[1;30;42mPDF downloaded\u001B[0m : document_3799.pdf to exports/pdf_downloads/0_cris_downloads\n",
      "Downloading 61 of 543 publications\n",
      "\u001B[1;30;42mPDF downloaded\u001B[0m : document_3800.pdf to exports/pdf_downloads/0_cris_downloads\n",
      "Downloading 62 of 543 publications\n",
      "\u001B[1;30;42mPDF downloaded\u001B[0m : document_3801.pdf to exports/pdf_downloads/0_cris_downloads\n",
      "Downloading 63 of 543 publications\n",
      "\u001B[1;30;42mPDF downloaded\u001B[0m : document_3804.pdf to exports/pdf_downloads/0_cris_downloads\n",
      "Downloading 64 of 543 publications\n",
      "[utils.py: download_pdf] Connection Error - could not download: error type: <class 'requests.exceptions.ConnectTimeout'> -> HTTPConnectionPool(host='web.up.ac.za', port=80): Max retries exceeded with url: /ecis/ECIS2010PR/ECIS2010/Content/Papers/0421.R1.pdf (Caused by ConnectTimeoutError(<urllib3.connection.HTTPConnection object at 0x7fbe39bdf070>, 'Connection to web.up.ac.za timed out. (connect timeout=10)'))\n",
      "Downloading 65 of 543 publications\n",
      "\u001B[1;30;42mPDF downloaded\u001B[0m : document_3999.pdf to exports/pdf_downloads/0_cris_downloads\n",
      "Downloading 66 of 543 publications\n",
      "\u001B[1;30;42mPDF downloaded\u001B[0m : document_4012.pdf to exports/pdf_downloads/0_cris_downloads\n",
      "Downloading 67 of 543 publications\n",
      "\u001B[1;30;42mPDF downloaded\u001B[0m : document_4017.pdf to exports/pdf_downloads/0_cris_downloads\n",
      "Downloading 68 of 543 publications\n",
      "\u001B[1;30;42mPDF downloaded\u001B[0m : document_4022.pdf to exports/pdf_downloads/0_cris_downloads\n",
      "Downloading 69 of 543 publications\n",
      "[utils.py: download_PDF] PDF Download failed: 410\n",
      "Downloading 70 of 543 publications\n",
      "[utils.py: download_PDF] PDF Download failed: 404\n",
      "Downloading 71 of 543 publications\n",
      "[utils.py: download_PDF] PDF Download failed: 404\n",
      "Downloading 72 of 543 publications\n",
      "\u001B[1;30;42mPDF downloaded\u001B[0m : document_18430.pdf to exports/pdf_downloads/0_cris_downloads\n",
      "Downloading 73 of 543 publications\n",
      "\u001B[1;30;42mPDF downloaded\u001B[0m : document_18437.pdf to exports/pdf_downloads/0_cris_downloads\n",
      "Downloading 74 of 543 publications\n",
      "\u001B[1;30;42mPDF downloaded\u001B[0m : document_18439.pdf to exports/pdf_downloads/0_cris_downloads\n",
      "Downloading 75 of 543 publications\n",
      "\u001B[1;30;42mPDF downloaded\u001B[0m : document_18456.pdf to exports/pdf_downloads/0_cris_downloads\n",
      "Downloading 76 of 543 publications\n",
      "\u001B[1;30;42mPDF downloaded\u001B[0m : document_18458.pdf to exports/pdf_downloads/0_cris_downloads\n",
      "Downloading 77 of 543 publications\n",
      "\u001B[1;30;42mPDF downloaded\u001B[0m : document_18468.pdf to exports/pdf_downloads/0_cris_downloads\n",
      "Downloading 78 of 543 publications\n",
      "\u001B[1;30;42mPDF downloaded\u001B[0m : document_18473.pdf to exports/pdf_downloads/0_cris_downloads\n",
      "Downloading 79 of 543 publications\n",
      "\u001B[1;30;42mPDF downloaded\u001B[0m : document_18474.pdf to exports/pdf_downloads/0_cris_downloads\n",
      "Downloading 80 of 543 publications\n",
      "\u001B[1;30;42mPDF downloaded\u001B[0m : document_18485.pdf to exports/pdf_downloads/0_cris_downloads\n",
      "Downloading 81 of 543 publications\n",
      "\u001B[1;30;42mPDF downloaded\u001B[0m : document_18486.pdf to exports/pdf_downloads/0_cris_downloads\n",
      "Downloading 82 of 543 publications\n",
      "\u001B[1;30;42mPDF downloaded\u001B[0m : document_18487.pdf to exports/pdf_downloads/0_cris_downloads\n",
      "Downloading 83 of 543 publications\n",
      "\u001B[1;30;42mPDF downloaded\u001B[0m : document_18488.pdf to exports/pdf_downloads/0_cris_downloads\n",
      "Downloading 84 of 543 publications\n",
      "\u001B[1;30;42mPDF downloaded\u001B[0m : document_18490.pdf to exports/pdf_downloads/0_cris_downloads\n",
      "Downloading 85 of 543 publications\n",
      "\u001B[1;30;42mPDF downloaded\u001B[0m : document_18493.pdf to exports/pdf_downloads/0_cris_downloads\n",
      "Downloading 86 of 543 publications\n",
      "\u001B[1;30;42mPDF downloaded\u001B[0m : document_18497.pdf to exports/pdf_downloads/0_cris_downloads\n",
      "Downloading 87 of 543 publications\n",
      "\u001B[1;30;42mPDF downloaded\u001B[0m : document_18498.pdf to exports/pdf_downloads/0_cris_downloads\n",
      "Downloading 88 of 543 publications\n",
      "\u001B[1;30;42mPDF downloaded\u001B[0m : document_18499.pdf to exports/pdf_downloads/0_cris_downloads\n",
      "Downloading 89 of 543 publications\n",
      "\u001B[1;30;42mPDF downloaded\u001B[0m : document_18500.pdf to exports/pdf_downloads/0_cris_downloads\n",
      "Downloading 90 of 543 publications\n",
      "\u001B[1;30;42mPDF downloaded\u001B[0m : document_18502.pdf to exports/pdf_downloads/0_cris_downloads\n",
      "Downloading 91 of 543 publications\n",
      "\u001B[1;30;42mPDF downloaded\u001B[0m : document_18504.pdf to exports/pdf_downloads/0_cris_downloads\n",
      "Downloading 92 of 543 publications\n",
      "\u001B[1;30;42mPDF downloaded\u001B[0m : document_18505.pdf to exports/pdf_downloads/0_cris_downloads\n",
      "Downloading 93 of 543 publications\n",
      "\u001B[1;30;42mPDF downloaded\u001B[0m : document_18507.pdf to exports/pdf_downloads/0_cris_downloads\n",
      "Downloading 94 of 543 publications\n",
      "\u001B[1;30;42mPDF downloaded\u001B[0m : document_18508.pdf to exports/pdf_downloads/0_cris_downloads\n",
      "Downloading 95 of 543 publications\n",
      "\u001B[1;30;42mPDF downloaded\u001B[0m : document_18510.pdf to exports/pdf_downloads/0_cris_downloads\n",
      "Downloading 96 of 543 publications\n",
      "\u001B[1;30;42mPDF downloaded\u001B[0m : document_18511.pdf to exports/pdf_downloads/0_cris_downloads\n",
      "Downloading 97 of 543 publications\n",
      "\u001B[1;30;42mPDF downloaded\u001B[0m : document_18512.pdf to exports/pdf_downloads/0_cris_downloads\n",
      "Downloading 98 of 543 publications\n",
      "\u001B[1;30;42mPDF downloaded\u001B[0m : document_18513.pdf to exports/pdf_downloads/0_cris_downloads\n",
      "Downloading 99 of 543 publications\n",
      "\u001B[1;30;42mPDF downloaded\u001B[0m : document_18514.pdf to exports/pdf_downloads/0_cris_downloads\n",
      "Downloading 100 of 543 publications\n",
      "\u001B[1;30;42mPDF downloaded\u001B[0m : document_18515.pdf to exports/pdf_downloads/0_cris_downloads\n",
      "Downloading 101 of 543 publications\n",
      "\u001B[1;30;42mPDF downloaded\u001B[0m : document_18516.pdf to exports/pdf_downloads/0_cris_downloads\n",
      "Downloading 102 of 543 publications\n",
      "\u001B[1;30;42mPDF downloaded\u001B[0m : document_18517.pdf to exports/pdf_downloads/0_cris_downloads\n",
      "Downloading 103 of 543 publications\n",
      "\u001B[1;30;42mPDF downloaded\u001B[0m : document_18519.pdf to exports/pdf_downloads/0_cris_downloads\n",
      "Downloading 104 of 543 publications\n",
      "\u001B[1;30;42mPDF downloaded\u001B[0m : document_18520.pdf to exports/pdf_downloads/0_cris_downloads\n",
      "Downloading 105 of 543 publications\n",
      "\u001B[1;30;42mPDF downloaded\u001B[0m : document_18522.pdf to exports/pdf_downloads/0_cris_downloads\n",
      "Downloading 106 of 543 publications\n",
      "\u001B[1;30;42mPDF downloaded\u001B[0m : document_18523.pdf to exports/pdf_downloads/0_cris_downloads\n",
      "Downloading 107 of 543 publications\n",
      "\u001B[1;30;42mPDF downloaded\u001B[0m : document_18525.pdf to exports/pdf_downloads/0_cris_downloads\n",
      "Downloading 108 of 543 publications\n",
      "\u001B[1;30;42mPDF downloaded\u001B[0m : document_18526.pdf to exports/pdf_downloads/0_cris_downloads\n",
      "Downloading 109 of 543 publications\n",
      "\u001B[1;30;42mPDF downloaded\u001B[0m : document_18527.pdf to exports/pdf_downloads/0_cris_downloads\n",
      "Downloading 110 of 543 publications\n",
      "\u001B[1;30;42mPDF downloaded\u001B[0m : document_18528.pdf to exports/pdf_downloads/0_cris_downloads\n",
      "Downloading 111 of 543 publications\n",
      "\u001B[1;30;42mPDF downloaded\u001B[0m : document_18529.pdf to exports/pdf_downloads/0_cris_downloads\n",
      "Downloading 112 of 543 publications\n",
      "\u001B[1;30;42mPDF downloaded\u001B[0m : document_18530.pdf to exports/pdf_downloads/0_cris_downloads\n",
      "Downloading 113 of 543 publications\n",
      "[utils.py: download_PDF] PDF Download failed: 404\n",
      "Downloading 114 of 543 publications\n",
      "[utils.py: download_pdf] Connection Error - could not download: error type: <class 'requests.exceptions.ConnectTimeout'> -> HTTPConnectionPool(host='is2.lse.ac.uk', port=80): Max retries exceeded with url: /asp/aspecis/20080074.pdf (Caused by ConnectTimeoutError(<urllib3.connection.HTTPConnection object at 0x7fbe28f16220>, 'Connection to is2.lse.ac.uk timed out. (connect timeout=10)'))\n",
      "Downloading 115 of 543 publications\n",
      "\u001B[1;30;42mPDF downloaded\u001B[0m : document_18716.pdf to exports/pdf_downloads/0_cris_downloads\n",
      "Downloading 116 of 543 publications\n",
      "\u001B[1;30;42mPDF downloaded\u001B[0m : document_18728.pdf to exports/pdf_downloads/0_cris_downloads\n",
      "Downloading 117 of 543 publications\n",
      "[utils.py: download_pdf] Connection Error - could not download: error type: <class 'requests.exceptions.ConnectionError'> -> HTTPConnectionPool(host='deposit.ddb.de', port=80): Max retries exceeded with url: /cgi-bin/dokserv?idn=988036150&dok_var=d1&dok_ext=pdf&filename=988036150.pdf (Caused by NewConnectionError('<urllib3.connection.HTTPConnection object at 0x7fbe39611520>: Failed to establish a new connection: [Errno 8] nodename nor servname provided, or not known'))\n",
      "Downloading 118 of 543 publications\n",
      "[utils.py: download_PDF] PDF Download failed: 404\n",
      "Downloading 119 of 543 publications\n",
      "\u001B[1;30;42mPDF downloaded\u001B[0m : document_19797.pdf to exports/pdf_downloads/0_cris_downloads\n",
      "Downloading 120 of 543 publications\n",
      "\u001B[1;30;42mPDF downloaded\u001B[0m : document_21766.pdf to exports/pdf_downloads/0_cris_downloads\n",
      "Downloading 121 of 543 publications\n",
      "[utils.py: download_pdf] Connection Error - could not download: error type: <class 'requests.exceptions.ConnectionError'> -> HTTPConnectionPool(host='www.springerlink.com', port=80): Max retries exceeded with url: /content/2366176x1q653800/fulltext.pdf (Caused by NewConnectionError('<urllib3.connection.HTTPConnection object at 0x7fbe39bd4100>: Failed to establish a new connection: [Errno 8] nodename nor servname provided, or not known'))\n",
      "Downloading 122 of 543 publications\n",
      "[utils.py: download_PDF] PDF Download failed: 404\n",
      "Downloading 123 of 543 publications\n",
      "[utils.py: download_PDF] PDF Download failed: 404\n",
      "Downloading 124 of 543 publications\n",
      "[utils.py: download_PDF] PDF Download failed: 404\n",
      "Downloading 125 of 543 publications\n",
      "\u001B[1;30;42mPDF downloaded\u001B[0m : document_22918.pdf to exports/pdf_downloads/0_cris_downloads\n",
      "Downloading 126 of 543 publications\n",
      "\u001B[1;30;42mPDF downloaded\u001B[0m : document_24182.pdf to exports/pdf_downloads/0_cris_downloads\n",
      "Downloading 127 of 543 publications\n",
      "\u001B[1;30;42mPDF downloaded\u001B[0m : document_24183.pdf to exports/pdf_downloads/0_cris_downloads\n",
      "Downloading 128 of 543 publications\n",
      "[utils.py: download_PDF] PDF Download failed: 404\n",
      "Downloading 129 of 543 publications\n",
      "[utils.py: download_PDF] PDF Download failed: 404\n",
      "Downloading 130 of 543 publications\n",
      "[utils.py: download_PDF] PDF Download failed: 404\n",
      "Downloading 131 of 543 publications\n",
      "[utils.py: download_PDF] PDF Download failed: 404\n",
      "Downloading 132 of 543 publications\n",
      "[utils.py: download_PDF] PDF Download failed: 404\n",
      "Downloading 133 of 543 publications\n",
      "[utils.py: download_PDF] PDF Download failed: 404\n",
      "Downloading 134 of 543 publications\n",
      "\u001B[1;30;42mPDF downloaded\u001B[0m : document_24395.pdf to exports/pdf_downloads/0_cris_downloads\n",
      "Downloading 135 of 543 publications\n",
      "[utils.py: download_PDF] PDF Download failed: 404\n",
      "Downloading 136 of 543 publications\n",
      "[utils.py: download_pdf] Connection Error - could not download: error type: <class 'requests.exceptions.ConnectionError'> -> HTTPConnectionPool(host='udoo.uni-muenster.de', port=80): Max retries exceeded with url: /downloads/userfiles/3/dissertation.pdf (Caused by NewConnectionError('<urllib3.connection.HTTPConnection object at 0x7fbe3980df10>: Failed to establish a new connection: [Errno 8] nodename nor servname provided, or not known'))\n",
      "Downloading 137 of 543 publications\n",
      "[utils.py: download_PDF] PDF Download failed: 404\n",
      "Downloading 138 of 543 publications\n",
      "\u001B[1;30;42mPDF downloaded\u001B[0m : document_27880.pdf to exports/pdf_downloads/0_cris_downloads\n",
      "Downloading 139 of 543 publications\n",
      "[utils.py: download_PDF] PDF Download failed: 404\n",
      "Downloading 140 of 543 publications\n",
      "[utils.py: download_PDF] PDF Download failed: 404\n",
      "Downloading 141 of 543 publications\n",
      "[utils.py: download_PDF] PDF Download failed: 404\n",
      "Downloading 142 of 543 publications\n",
      "[utils.py: download_PDF] PDF Download failed: 404\n",
      "Downloading 143 of 543 publications\n",
      "\u001B[1;30;42mPDF downloaded\u001B[0m : document_43910.pdf to exports/pdf_downloads/0_cris_downloads\n",
      "Downloading 144 of 543 publications\n",
      "[utils.py: download_PDF] PDF Download failed: 404\n",
      "Downloading 145 of 543 publications\n",
      "[utils.py: download_PDF] PDF Download failed: 404\n",
      "Downloading 146 of 543 publications\n",
      "[utils.py: download_PDF] PDF Download failed: 404\n",
      "Downloading 147 of 543 publications\n",
      "[utils.py: download_PDF] PDF Download failed: 404\n",
      "Downloading 148 of 543 publications\n",
      "[utils.py: download_PDF] PDF Download failed: 404\n",
      "Downloading 149 of 543 publications\n",
      "[utils.py: download_PDF] PDF Download failed: 404\n",
      "Downloading 150 of 543 publications\n",
      "[utils.py: download_PDF] PDF Download failed: 404\n",
      "Downloading 151 of 543 publications\n",
      "[utils.py: download_PDF] PDF Download failed: 404\n",
      "Downloading 152 of 543 publications\n",
      "[utils.py: download_PDF] PDF Download failed: 404\n",
      "Downloading 153 of 543 publications\n",
      "[utils.py: download_PDF] PDF Download failed: 404\n",
      "Downloading 154 of 543 publications\n",
      "[utils.py: download_PDF] PDF Download failed: 404\n",
      "Downloading 155 of 543 publications\n",
      "[utils.py: download_PDF] PDF Download failed: 404\n",
      "Downloading 156 of 543 publications\n",
      "[utils.py: download_PDF] PDF Download failed: 404\n",
      "Downloading 157 of 543 publications\n",
      "[utils.py: download_PDF] PDF Download failed: 404\n",
      "Downloading 158 of 543 publications\n",
      "[utils.py: download_PDF] PDF Download failed: 404\n",
      "Downloading 159 of 543 publications\n",
      "[utils.py: download_pdf] Connection Error - could not download: error type: <class 'requests.exceptions.ConnectionError'> -> HTTPConnectionPool(host='www.springerlink.com', port=80): Max retries exceeded with url: /content/q714783pmr464g71/fulltext.pdf (Caused by NewConnectionError('<urllib3.connection.HTTPConnection object at 0x7fbe39890c70>: Failed to establish a new connection: [Errno 8] nodename nor servname provided, or not known'))\n",
      "Downloading 160 of 543 publications\n",
      "\u001B[1;30;42mPDF downloaded\u001B[0m : document_48543.pdf to exports/pdf_downloads/0_cris_downloads\n",
      "Downloading 161 of 543 publications\n",
      "[utils.py: download_PDF] PDF Download failed: 404\n",
      "Downloading 162 of 543 publications\n",
      "[utils.py: download_PDF] PDF Download failed: 404\n",
      "Downloading 163 of 543 publications\n",
      "[utils.py: download_PDF] PDF Download failed: 404\n",
      "Downloading 164 of 543 publications\n",
      "[utils.py: download_PDF] PDF Download failed: 404\n",
      "Downloading 165 of 543 publications\n",
      "\u001B[1;30;42mPDF downloaded\u001B[0m : document_49881.pdf to exports/pdf_downloads/0_cris_downloads\n",
      "Downloading 166 of 543 publications\n",
      "\u001B[1;30;42mPDF downloaded\u001B[0m : document_49896.pdf to exports/pdf_downloads/0_cris_downloads\n",
      "Downloading 167 of 543 publications\n",
      "[utils.py: download_PDF] PDF Download failed: 404\n",
      "Downloading 168 of 543 publications\n",
      "\u001B[1;30;42mPDF downloaded\u001B[0m : document_49933.pdf to exports/pdf_downloads/0_cris_downloads\n",
      "Downloading 169 of 543 publications\n",
      "[utils.py: download_PDF] PDF Download failed: 404\n",
      "Downloading 170 of 543 publications\n",
      "[utils.py: download_PDF] PDF Download failed: 404\n",
      "Downloading 171 of 543 publications\n",
      "[utils.py: download_PDF] PDF Download failed: 404\n",
      "Downloading 172 of 543 publications\n",
      "[utils.py: download_PDF] PDF Download failed: 404\n",
      "Downloading 173 of 543 publications\n",
      "\u001B[1;30;42mPDF downloaded\u001B[0m : document_50317.pdf to exports/pdf_downloads/0_cris_downloads\n",
      "Downloading 174 of 543 publications\n",
      "[utils.py: download_PDF] PDF Download failed: 404\n",
      "Downloading 175 of 543 publications\n",
      "[utils.py: download_PDF] PDF Download failed: 404\n",
      "Downloading 176 of 543 publications\n",
      "\u001B[1;30;42mPDF downloaded\u001B[0m : document_50680.pdf to exports/pdf_downloads/0_cris_downloads\n",
      "Downloading 177 of 543 publications\n",
      "\u001B[1;30;42mPDF downloaded\u001B[0m : document_50705.pdf to exports/pdf_downloads/0_cris_downloads\n",
      "Downloading 178 of 543 publications\n",
      "\u001B[1;30;42mPDF downloaded\u001B[0m : document_53385.pdf to exports/pdf_downloads/0_cris_downloads\n",
      "Downloading 179 of 543 publications\n",
      "\u001B[1;30;42mPDF downloaded\u001B[0m : document_62664.pdf to exports/pdf_downloads/0_cris_downloads\n",
      "Downloading 180 of 543 publications\n",
      "\u001B[1;30;42mPDF downloaded\u001B[0m : document_64062.pdf to exports/pdf_downloads/0_cris_downloads\n",
      "Downloading 181 of 543 publications\n",
      "\u001B[1;30;42mPDF downloaded\u001B[0m : document_64074.pdf to exports/pdf_downloads/0_cris_downloads\n",
      "Downloading 182 of 543 publications\n",
      "[utils.py: download_PDF] PDF Download failed: 404\n",
      "Downloading 183 of 543 publications\n",
      "\u001B[1;30;42mPDF downloaded\u001B[0m : document_66343.pdf to exports/pdf_downloads/0_cris_downloads\n",
      "Downloading 184 of 543 publications\n",
      "\u001B[1;30;42mPDF downloaded\u001B[0m : document_66415.pdf to exports/pdf_downloads/0_cris_downloads\n",
      "Downloading 185 of 543 publications\n",
      "[utils.py: download_PDF] PDF Download failed: 404\n",
      "Downloading 186 of 543 publications\n",
      "[utils.py: download_PDF] PDF Download failed: 404\n",
      "Downloading 187 of 543 publications\n",
      "[utils.py: download_PDF] PDF Download failed: 404\n",
      "Downloading 188 of 543 publications\n",
      "[utils.py: download_PDF] PDF Download failed: 404\n",
      "Downloading 189 of 543 publications\n",
      "\u001B[1;30;42mPDF downloaded\u001B[0m : document_67311.pdf to exports/pdf_downloads/0_cris_downloads\n",
      "Downloading 190 of 543 publications\n",
      "[utils.py: download_PDF] PDF Download failed: 404\n",
      "Downloading 191 of 543 publications\n",
      "\u001B[1;30;42mPDF downloaded\u001B[0m : document_68568.pdf to exports/pdf_downloads/0_cris_downloads\n",
      "Downloading 192 of 543 publications\n",
      "\u001B[1;30;42mPDF downloaded\u001B[0m : document_68573.pdf to exports/pdf_downloads/0_cris_downloads\n",
      "Downloading 193 of 543 publications\n",
      "\u001B[1;30;42mPDF downloaded\u001B[0m : document_68784.pdf to exports/pdf_downloads/0_cris_downloads\n",
      "Downloading 194 of 543 publications\n",
      "[utils.py: download_PDF] PDF Download failed: 404\n",
      "Downloading 195 of 543 publications\n",
      "[utils.py: download_PDF] PDF Download failed: 404\n",
      "Downloading 196 of 543 publications\n",
      "\u001B[1;30;42mPDF downloaded\u001B[0m : document_69217.pdf to exports/pdf_downloads/0_cris_downloads\n",
      "Downloading 197 of 543 publications\n",
      "\u001B[1;30;42mPDF downloaded\u001B[0m : document_69555.pdf to exports/pdf_downloads/0_cris_downloads\n",
      "Downloading 198 of 543 publications\n",
      "[utils.py: download_pdf] Connection Error - could not download: error type: <class 'requests.exceptions.ConnectionError'> -> HTTPConnectionPool(host='www.ejov.org', port=80): Max retries exceeded with url: /projects/264/Issues/eJOV%20Vol8/eJOV8_5_Wehmeyer_Riemer_Trust-building%20potential.pdf (Caused by NewConnectionError('<urllib3.connection.HTTPConnection object at 0x7fbe39bdf4f0>: Failed to establish a new connection: [Errno 8] nodename nor servname provided, or not known'))\n",
      "Downloading 199 of 543 publications\n",
      "[utils.py: download_PDF] PDF Download failed: 404\n",
      "Downloading 200 of 543 publications\n",
      "[utils.py: download_PDF] PDF Download failed: 404\n",
      "Downloading 201 of 543 publications\n",
      "[utils.py: download_PDF] PDF Download failed: 404\n",
      "Downloading 202 of 543 publications\n",
      "\u001B[1;30;42mPDF downloaded\u001B[0m : document_69786.pdf to exports/pdf_downloads/0_cris_downloads\n",
      "Downloading 203 of 543 publications\n",
      "[utils.py: download_pdf] Connection Error - could not download: error type: <class 'requests.exceptions.ConnectionError'> -> HTTPConnectionPool(host='www-wi.uni-muenster.de', port=80): Max retries exceeded with url: /wi/orga/wikari_buch.pdf (Caused by NewConnectionError('<urllib3.connection.HTTPConnection object at 0x7fbe396111c0>: Failed to establish a new connection: [Errno 8] nodename nor servname provided, or not known'))\n",
      "Downloading 204 of 543 publications\n",
      "\u001B[1;30;42mPDF downloaded\u001B[0m : document_69833.pdf to exports/pdf_downloads/0_cris_downloads\n",
      "Downloading 205 of 543 publications\n",
      "[utils.py: download_pdf] Connection Error - could not download: error type: <class 'requests.exceptions.ConnectTimeout'> -> HTTPConnectionPool(host='domino.fov.uni-mb.si', port=80): Max retries exceeded with url: /proceedings.nsf/Proceedings/B49739CCB14CA7C9C12570140049A49E/$File/20Wehmeyer.pdf (Caused by ConnectTimeoutError(<urllib3.connection.HTTPConnection object at 0x7fbe39611fd0>, 'Connection to domino.fov.uni-mb.si timed out. (connect timeout=10)'))\n",
      "Downloading 206 of 543 publications\n",
      "[utils.py: download_pdf] Connection Error - could not download: error type: <class 'requests.exceptions.ConnectTimeout'> -> HTTPConnectionPool(host='mis.ucd.ie', port=80): Max retries exceeded with url: /conferences/rseem2004/RSEEM2004-Proceedings_v6.pdf (Caused by ConnectTimeoutError(<urllib3.connection.HTTPConnection object at 0x7fbe398909d0>, 'Connection to mis.ucd.ie timed out. (connect timeout=10)'))\n",
      "Downloading 207 of 543 publications\n",
      "[utils.py: download_pdf] Connection Error - could not download: error type: <class 'requests.exceptions.ConnectTimeout'> -> HTTPConnectionPool(host='domino.fov.uni-mb.si', port=80): Max retries exceeded with url: /proceedings.nsf/Proceedings/F34EAB4F37BE882EC12572EE007A8672/$File/Paper96.pdf (Caused by ConnectTimeoutError(<urllib3.connection.HTTPConnection object at 0x7fbe3980dd90>, 'Connection to domino.fov.uni-mb.si timed out. (connect timeout=10)'))\n",
      "Downloading 208 of 543 publications\n",
      "[utils.py: download_pdf] Connection Error - could not download: error type: <class 'requests.exceptions.ConnectTimeout'> -> HTTPConnectionPool(host='domino.fov.uni-mb.si', port=80): Max retries exceeded with url: /proceedings.nsf/Proceedings/6C46B82122E4298EC12572EE0077E0EA/$File/Paper68.pdf (Caused by ConnectTimeoutError(<urllib3.connection.HTTPConnection object at 0x7fbe3980d6a0>, 'Connection to domino.fov.uni-mb.si timed out. (connect timeout=10)'))\n",
      "Downloading 209 of 543 publications\n",
      "[utils.py: download_pdf] Connection Error - could not download: error type: <class 'requests.exceptions.ConnectionError'> -> HTTPConnectionPool(host='udoo.uni-muenster.de', port=80): Max retries exceeded with url: /downloads/publications/2531.pdf (Caused by NewConnectionError('<urllib3.connection.HTTPConnection object at 0x7fbe19b124c0>: Failed to establish a new connection: [Errno 8] nodename nor servname provided, or not known'))\n",
      "Downloading 210 of 543 publications\n",
      "\u001B[1;30;42mPDF downloaded\u001B[0m : document_71136.pdf to exports/pdf_downloads/0_cris_downloads\n",
      "Downloading 211 of 543 publications\n",
      "[utils.py: download_pdf] Connection Error - could not download: error type: <class 'requests.exceptions.ConnectionError'> -> HTTPConnectionPool(host='udoo.uni-muenster.de', port=80): Max retries exceeded with url: /downloads/publications/2536.pdf (Caused by NewConnectionError('<urllib3.connection.HTTPConnection object at 0x7fbe19b12610>: Failed to establish a new connection: [Errno 8] nodename nor servname provided, or not known'))\n",
      "Downloading 212 of 543 publications\n",
      "[utils.py: download_pdf] Connection Error - could not download: error type: <class 'requests.exceptions.ConnectionError'> -> HTTPConnectionPool(host='udoo.uni-muenster.de', port=80): Max retries exceeded with url: /downloads/publications/2571.pdf (Caused by NewConnectionError('<urllib3.connection.HTTPConnection object at 0x7fbe19b125e0>: Failed to establish a new connection: [Errno 8] nodename nor servname provided, or not known'))\n",
      "Downloading 213 of 543 publications\n",
      "[utils.py: download_pdf] Connection Error - could not download: error type: <class 'requests.exceptions.ConnectionError'> -> HTTPConnectionPool(host='udoo.uni-muenster.de', port=80): Max retries exceeded with url: /downloads/publications/2526.pdf (Caused by NewConnectionError('<urllib3.connection.HTTPConnection object at 0x7fbe19b12790>: Failed to establish a new connection: [Errno 8] nodename nor servname provided, or not known'))\n",
      "Downloading 214 of 543 publications\n",
      "[utils.py: download_pdf] Connection Error - could not download: error type: <class 'requests.exceptions.ConnectionError'> -> HTTPConnectionPool(host='udoo.uni-muenster.de', port=80): Max retries exceeded with url: /downloads/publications/2484.pdf (Caused by NewConnectionError('<urllib3.connection.HTTPConnection object at 0x7fbe19b12400>: Failed to establish a new connection: [Errno 8] nodename nor servname provided, or not known'))\n",
      "Downloading 215 of 543 publications\n",
      "[utils.py: download_PDF] PDF Download failed: 404\n",
      "Downloading 216 of 543 publications\n",
      "[utils.py: download_PDF] PDF Download failed: 404\n",
      "Downloading 217 of 543 publications\n",
      "[utils.py: download_PDF] PDF Download failed: 404\n",
      "Downloading 218 of 543 publications\n",
      "[utils.py: download_PDF] PDF Download failed: 404\n",
      "Downloading 219 of 543 publications\n",
      "[utils.py: download_PDF] PDF Download failed: 404\n",
      "Downloading 220 of 543 publications\n",
      "\u001B[1;30;42mPDF downloaded\u001B[0m : document_73100.pdf to exports/pdf_downloads/0_cris_downloads\n",
      "Downloading 221 of 543 publications\n",
      "\u001B[1;30;42mPDF downloaded\u001B[0m : document_73240.pdf to exports/pdf_downloads/0_cris_downloads\n",
      "Downloading 222 of 543 publications\n",
      "\u001B[1;30;42mPDF downloaded\u001B[0m : document_73540.pdf to exports/pdf_downloads/0_cris_downloads\n",
      "Downloading 223 of 543 publications\n",
      "\u001B[1;30;42mPDF downloaded\u001B[0m : document_73541.pdf to exports/pdf_downloads/0_cris_downloads\n",
      "Downloading 224 of 543 publications\n",
      "\u001B[1;30;42mPDF downloaded\u001B[0m : document_73611.pdf to exports/pdf_downloads/0_cris_downloads\n",
      "Downloading 225 of 543 publications\n",
      "\u001B[1;30;42mPDF downloaded\u001B[0m : document_73612.pdf to exports/pdf_downloads/0_cris_downloads\n",
      "Downloading 226 of 543 publications\n",
      "\u001B[1;30;42mPDF downloaded\u001B[0m : document_73614.pdf to exports/pdf_downloads/0_cris_downloads\n",
      "Downloading 227 of 543 publications\n",
      "[utils.py: download_pdf] Connection Error - could not download: error type: <class 'requests.exceptions.ConnectionError'> -> HTTPConnectionPool(host='www.springerlink.com', port=80): Max retries exceeded with url: /content/r30t110754744mw2/fulltext.pdf (Caused by NewConnectionError('<urllib3.connection.HTTPConnection object at 0x7fbe398b4250>: Failed to establish a new connection: [Errno 8] nodename nor servname provided, or not known'))\n",
      "Downloading 228 of 543 publications\n",
      "[utils.py: download_pdf] Connection Error - could not download: error type: <class 'requests.exceptions.ConnectionError'> -> HTTPConnectionPool(host='www.springerlink.com', port=80): Max retries exceeded with url: /content/h8qn4t327h3w4p31/fulltext.pdf (Caused by NewConnectionError('<urllib3.connection.HTTPConnection object at 0x7fbe398b40d0>: Failed to establish a new connection: [Errno 8] nodename nor servname provided, or not known'))\n",
      "Downloading 229 of 543 publications\n",
      "[utils.py: download_PDF] PDF Download failed: 404\n",
      "Downloading 230 of 543 publications\n",
      "[utils.py: download_PDF] PDF Download failed: 404\n",
      "Downloading 231 of 543 publications\n",
      "\u001B[1;30;42mPDF downloaded\u001B[0m : document_74909.pdf to exports/pdf_downloads/0_cris_downloads\n",
      "\u001B[1;30;43mbut PDF might be corrupted, file size: 1004 bytes\u001B[0m\n",
      "Downloading 232 of 543 publications\n",
      "\u001B[1;30;42mPDF downloaded\u001B[0m : document_75659.pdf to exports/pdf_downloads/0_cris_downloads\n",
      "Downloading 233 of 543 publications\n",
      "[utils.py: download_PDF] PDF Download failed: 404\n",
      "Downloading 234 of 543 publications\n",
      "\u001B[1;30;42mPDF downloaded\u001B[0m : document_76197.pdf to exports/pdf_downloads/0_cris_downloads\n",
      "Downloading 235 of 543 publications\n",
      "[utils.py: download_PDF] PDF Download failed: 404\n",
      "Downloading 236 of 543 publications\n",
      "\u001B[1;30;42mPDF downloaded\u001B[0m : document_77352.pdf to exports/pdf_downloads/0_cris_downloads\n",
      "Downloading 237 of 543 publications\n",
      "\u001B[1;30;42mPDF downloaded\u001B[0m : document_78342.pdf to exports/pdf_downloads/0_cris_downloads\n",
      "Downloading 238 of 543 publications\n",
      "[utils.py: download_PDF] PDF Download failed: 404\n",
      "Downloading 239 of 543 publications\n",
      "[utils.py: download_PDF] PDF Download failed: 404\n",
      "Downloading 240 of 543 publications\n",
      "[utils.py: download_PDF] PDF Download failed: 404\n",
      "Downloading 241 of 543 publications\n",
      "[utils.py: download_PDF] PDF Download failed: 404\n",
      "Downloading 242 of 543 publications\n",
      "\u001B[1;30;42mPDF downloaded\u001B[0m : document_80471.pdf to exports/pdf_downloads/0_cris_downloads\n",
      "Downloading 243 of 543 publications\n",
      "\u001B[1;30;42mPDF downloaded\u001B[0m : document_81093.pdf to exports/pdf_downloads/0_cris_downloads\n",
      "Downloading 244 of 543 publications\n",
      "\u001B[1;30;42mPDF downloaded\u001B[0m : document_81612.pdf to exports/pdf_downloads/0_cris_downloads\n",
      "Downloading 245 of 543 publications\n",
      "[utils.py: download_PDF] PDF Download failed: 404\n",
      "Downloading 246 of 543 publications\n",
      "[utils.py: download_PDF] PDF Download failed: 404\n",
      "Downloading 247 of 543 publications\n",
      "[utils.py: download_PDF] PDF Download failed: 404\n",
      "Downloading 248 of 543 publications\n",
      "\u001B[1;30;42mPDF downloaded\u001B[0m : document_82213.pdf to exports/pdf_downloads/0_cris_downloads\n",
      "\u001B[1;30;43mbut PDF might be corrupted, file size: 1004 bytes\u001B[0m\n",
      "Downloading 249 of 543 publications\n",
      "\u001B[1;30;42mPDF downloaded\u001B[0m : document_82470.pdf to exports/pdf_downloads/0_cris_downloads\n",
      "Downloading 250 of 543 publications\n",
      "\u001B[1;30;42mPDF downloaded\u001B[0m : document_82603.pdf to exports/pdf_downloads/0_cris_downloads\n",
      "Downloading 251 of 543 publications\n",
      "\u001B[1;30;42mPDF downloaded\u001B[0m : document_82782.pdf to exports/pdf_downloads/0_cris_downloads\n",
      "Downloading 252 of 543 publications\n",
      "[utils.py: download_PDF] PDF Download failed: 404\n",
      "Downloading 253 of 543 publications\n",
      "\u001B[1;30;42mPDF downloaded\u001B[0m : document_84858.pdf to exports/pdf_downloads/0_cris_downloads\n",
      "Downloading 254 of 543 publications\n",
      "[utils.py: download_PDF] PDF Download failed: 404\n",
      "Downloading 255 of 543 publications\n",
      "[utils.py: download_PDF] PDF Download failed: 404\n",
      "Downloading 256 of 543 publications\n",
      "\u001B[1;30;42mPDF downloaded\u001B[0m : document_87449.pdf to exports/pdf_downloads/0_cris_downloads\n",
      "\u001B[1;30;43mbut PDF might be corrupted, file size: 1004 bytes\u001B[0m\n",
      "Downloading 257 of 543 publications\n",
      "\u001B[1;30;42mPDF downloaded\u001B[0m : document_87468.pdf to exports/pdf_downloads/0_cris_downloads\n",
      "\u001B[1;30;43mbut PDF might be corrupted, file size: 1004 bytes\u001B[0m\n",
      "Downloading 258 of 543 publications\n",
      "\u001B[1;30;42mPDF downloaded\u001B[0m : document_87599.pdf to exports/pdf_downloads/0_cris_downloads\n",
      "Downloading 259 of 543 publications\n",
      "\u001B[1;30;42mPDF downloaded\u001B[0m : document_87982.pdf to exports/pdf_downloads/0_cris_downloads\n",
      "Downloading 260 of 543 publications\n",
      "\u001B[1;30;42mPDF downloaded\u001B[0m : document_87983.pdf to exports/pdf_downloads/0_cris_downloads\n",
      "Downloading 261 of 543 publications\n",
      "\u001B[1;30;42mPDF downloaded\u001B[0m : document_87985.pdf to exports/pdf_downloads/0_cris_downloads\n",
      "Downloading 262 of 543 publications\n",
      "\u001B[1;30;42mPDF downloaded\u001B[0m : document_88194.pdf to exports/pdf_downloads/0_cris_downloads\n",
      "Downloading 263 of 543 publications\n",
      "\u001B[1;30;42mPDF downloaded\u001B[0m : document_88216.pdf to exports/pdf_downloads/0_cris_downloads\n",
      "Downloading 264 of 543 publications\n",
      "\u001B[1;30;42mPDF downloaded\u001B[0m : document_88256.pdf to exports/pdf_downloads/0_cris_downloads\n",
      "Downloading 265 of 543 publications\n",
      "\u001B[1;30;42mPDF downloaded\u001B[0m : document_88261.pdf to exports/pdf_downloads/0_cris_downloads\n",
      "Downloading 266 of 543 publications\n",
      "\u001B[1;30;42mPDF downloaded\u001B[0m : document_88262.pdf to exports/pdf_downloads/0_cris_downloads\n",
      "Downloading 267 of 543 publications\n",
      "\u001B[1;30;42mPDF downloaded\u001B[0m : document_88264.pdf to exports/pdf_downloads/0_cris_downloads\n",
      "Downloading 268 of 543 publications\n",
      "\u001B[1;30;42mPDF downloaded\u001B[0m : document_88265.pdf to exports/pdf_downloads/0_cris_downloads\n",
      "Downloading 269 of 543 publications\n",
      "\u001B[1;30;42mPDF downloaded\u001B[0m : document_88287.pdf to exports/pdf_downloads/0_cris_downloads\n",
      "\u001B[1;30;43mbut PDF might be corrupted, file size: 1004 bytes\u001B[0m\n",
      "Downloading 270 of 543 publications\n",
      "\u001B[1;30;42mPDF downloaded\u001B[0m : document_90364.pdf to exports/pdf_downloads/0_cris_downloads\n",
      "Downloading 271 of 543 publications\n",
      "[utils.py: download_pdf] Connection Error - could not download: error type: <class 'requests.exceptions.ConnectTimeout'> -> HTTPConnectionPool(host='www.socialmediathinklab.com', port=80): Max retries exceeded with url: /wp-content/uploads/2013/02/WWU_Social-Media-Consumer-Report_0213_Ansicht.pdf (Caused by ConnectTimeoutError(<urllib3.connection.HTTPConnection object at 0x7fbe398b4190>, 'Connection to www.socialmediathinklab.com timed out. (connect timeout=10)'))\n",
      "Downloading 272 of 543 publications\n",
      "[utils.py: download_PDF] PDF Download failed: 404\n",
      "Downloading 273 of 543 publications\n",
      "[utils.py: download_PDF] PDF Download failed: 404\n",
      "Downloading 274 of 543 publications\n",
      "\u001B[1;30;42mPDF downloaded\u001B[0m : document_92490.pdf to exports/pdf_downloads/0_cris_downloads\n",
      "Downloading 275 of 543 publications\n",
      "\u001B[1;30;42mPDF downloaded\u001B[0m : document_92833.pdf to exports/pdf_downloads/0_cris_downloads\n",
      "\u001B[1;30;43mbut PDF might be corrupted, file size: 0 bytes\u001B[0m\n",
      "Downloading 276 of 543 publications\n",
      "\u001B[1;30;42mPDF downloaded\u001B[0m : document_94680.pdf to exports/pdf_downloads/0_cris_downloads\n",
      "\u001B[1;30;43mbut PDF might be corrupted, file size: 0 bytes\u001B[0m\n",
      "Downloading 277 of 543 publications\n",
      "\u001B[1;30;42mPDF downloaded\u001B[0m : document_94939.pdf to exports/pdf_downloads/0_cris_downloads\n",
      "Downloading 278 of 543 publications\n",
      "\u001B[1;30;42mPDF downloaded\u001B[0m : document_96081.pdf to exports/pdf_downloads/0_cris_downloads\n",
      "Downloading 279 of 543 publications\n",
      "\u001B[1;30;42mPDF downloaded\u001B[0m : document_96564.pdf to exports/pdf_downloads/0_cris_downloads\n",
      "\u001B[1;30;43mbut PDF might be corrupted, file size: 1004 bytes\u001B[0m\n",
      "Downloading 280 of 543 publications\n",
      "\u001B[1;30;42mPDF downloaded\u001B[0m : document_96860.pdf to exports/pdf_downloads/0_cris_downloads\n",
      "Downloading 281 of 543 publications\n",
      "\u001B[1;30;42mPDF downloaded\u001B[0m : document_97048.pdf to exports/pdf_downloads/0_cris_downloads\n",
      "Downloading 282 of 543 publications\n",
      "\u001B[1;30;42mPDF downloaded\u001B[0m : document_97470.pdf to exports/pdf_downloads/0_cris_downloads\n",
      "Downloading 283 of 543 publications\n",
      "\u001B[1;30;42mPDF downloaded\u001B[0m : document_97630.pdf to exports/pdf_downloads/0_cris_downloads\n",
      "Downloading 284 of 543 publications\n",
      "[utils.py: download_PDF] PDF Download failed: 404\n",
      "Downloading 285 of 543 publications\n",
      "[utils.py: download_pdf] Connection Error - could not download: error type: <class 'requests.exceptions.SSLError'> -> HTTPSConnectionPool(host='www.cs.dartmouth.edu', port=443): Max retries exceeded with url: /farid/downloads/publications/spie13.pdf (Caused by SSLError(SSLCertVerificationError(1, '[SSL: CERTIFICATE_VERIFY_FAILED] certificate verify failed: unable to get local issuer certificate (_ssl.c:1129)')))\n",
      "Downloading 286 of 543 publications\n",
      "\u001B[1;30;42mPDF downloaded\u001B[0m : document_98279.pdf to exports/pdf_downloads/0_cris_downloads\n",
      "Downloading 287 of 543 publications\n",
      "[utils.py: download_pdf] Connection Error - could not download: error type: <class 'requests.exceptions.ConnectionError'> -> HTTPConnectionPool(host='www.is.uni-muenster.de', port=80): Max retries exceeded with url: /security/publications/KB2014_WS-CFA.pdf (Caused by NewConnectionError('<urllib3.connection.HTTPConnection object at 0x7fbe19b12880>: Failed to establish a new connection: [Errno 8] nodename nor servname provided, or not known'))\n",
      "Downloading 288 of 543 publications\n",
      "[utils.py: download_PDF] PDF Download failed: 404\n",
      "Downloading 289 of 543 publications\n",
      "[utils.py: download_pdf] Connection Error - could not download: error type: <class 'requests.exceptions.ConnectionError'> -> HTTPConnectionPool(host='www.is.uni-muenster.de', port=80): Max retries exceeded with url: /security/publications/FK2014_ENF-mobile-devices.pdf (Caused by NewConnectionError('<urllib3.connection.HTTPConnection object at 0x7fbe19b12f40>: Failed to establish a new connection: [Errno 8] nodename nor servname provided, or not known'))\n",
      "Downloading 290 of 543 publications\n",
      "[utils.py: download_PDF] PDF Download failed: 404\n",
      "Downloading 291 of 543 publications\n",
      "[utils.py: download_PDF] PDF Download failed: 404\n",
      "Downloading 292 of 543 publications\n",
      "[utils.py: download_pdf] Connection Error - could not download: error type: <class 'requests.exceptions.ConnectionError'> -> HTTPConnectionPool(host='www.wi2015.uni-osnabrueck.de', port=80): Max retries exceeded with url: /Files//WI2015-D-14-00311.pdf (Caused by NewConnectionError('<urllib3.connection.HTTPConnection object at 0x7fbe19b129d0>: Failed to establish a new connection: [Errno 8] nodename nor servname provided, or not known'))\n",
      "Downloading 293 of 543 publications\n",
      "[utils.py: download_pdf] Connection Error - could not download: error type: <class 'requests.exceptions.ConnectionError'> -> HTTPConnectionPool(host='www.wi2015.uni-osnabrueck.de', port=80): Max retries exceeded with url: /Files/WI2015-D-14-00279.pdf (Caused by NewConnectionError('<urllib3.connection.HTTPConnection object at 0x7fbe19b129d0>: Failed to establish a new connection: [Errno 8] nodename nor servname provided, or not known'))\n",
      "Downloading 294 of 543 publications\n",
      "\u001B[1;30;42mPDF downloaded\u001B[0m : document_99162.pdf to exports/pdf_downloads/0_cris_downloads\n",
      "Downloading 295 of 543 publications\n",
      "\u001B[1;30;42mPDF downloaded\u001B[0m : document_99169.pdf to exports/pdf_downloads/0_cris_downloads\n",
      "Downloading 296 of 543 publications\n",
      "\u001B[1;30;42mPDF downloaded\u001B[0m : document_99170.pdf to exports/pdf_downloads/0_cris_downloads\n",
      "Downloading 297 of 543 publications\n",
      "\u001B[1;30;42mPDF downloaded\u001B[0m : document_99171.pdf to exports/pdf_downloads/0_cris_downloads\n",
      "Downloading 298 of 543 publications\n",
      "\u001B[1;30;42mPDF downloaded\u001B[0m : document_99172.pdf to exports/pdf_downloads/0_cris_downloads\n",
      "Downloading 299 of 543 publications\n",
      "\u001B[1;30;42mPDF downloaded\u001B[0m : document_99173.pdf to exports/pdf_downloads/0_cris_downloads\n",
      "Downloading 300 of 543 publications\n",
      "\u001B[1;30;42mPDF downloaded\u001B[0m : document_99174.pdf to exports/pdf_downloads/0_cris_downloads\n",
      "Downloading 301 of 543 publications\n",
      "\u001B[1;30;42mPDF downloaded\u001B[0m : document_99175.pdf to exports/pdf_downloads/0_cris_downloads\n",
      "Downloading 302 of 543 publications\n",
      "\u001B[1;30;42mPDF downloaded\u001B[0m : document_99177.pdf to exports/pdf_downloads/0_cris_downloads\n",
      "Downloading 303 of 543 publications\n",
      "\u001B[1;30;42mPDF downloaded\u001B[0m : document_99178.pdf to exports/pdf_downloads/0_cris_downloads\n",
      "Downloading 304 of 543 publications\n",
      "\u001B[1;30;42mPDF downloaded\u001B[0m : document_99179.pdf to exports/pdf_downloads/0_cris_downloads\n",
      "Downloading 305 of 543 publications\n",
      "\u001B[1;30;42mPDF downloaded\u001B[0m : document_99182.pdf to exports/pdf_downloads/0_cris_downloads\n",
      "Downloading 306 of 543 publications\n",
      "\u001B[1;30;42mPDF downloaded\u001B[0m : document_99185.pdf to exports/pdf_downloads/0_cris_downloads\n",
      "Downloading 307 of 543 publications\n",
      "\u001B[1;30;42mPDF downloaded\u001B[0m : document_99186.pdf to exports/pdf_downloads/0_cris_downloads\n",
      "Downloading 308 of 543 publications\n",
      "\u001B[1;30;42mPDF downloaded\u001B[0m : document_99187.pdf to exports/pdf_downloads/0_cris_downloads\n",
      "Downloading 309 of 543 publications\n",
      "\u001B[1;30;42mPDF downloaded\u001B[0m : document_99190.pdf to exports/pdf_downloads/0_cris_downloads\n",
      "Downloading 310 of 543 publications\n",
      "[utils.py: download_pdf] Connection Error - could not download: error type: <class 'requests.exceptions.ConnectionError'> -> HTTPConnectionPool(host='www.wi2015.uni-osnabrueck.de', port=80): Max retries exceeded with url: /Files/WI2015-D-14-00045.pdf (Caused by NewConnectionError('<urllib3.connection.HTTPConnection object at 0x7fbe19b12f10>: Failed to establish a new connection: [Errno 8] nodename nor servname provided, or not known'))\n",
      "Downloading 311 of 543 publications\n",
      "[utils.py: download_PDF] PDF Download failed: 404\n",
      "Downloading 312 of 543 publications\n",
      "[utils.py: download_PDF] PDF Download failed: 404\n",
      "Downloading 313 of 543 publications\n",
      "[utils.py: download_PDF] PDF Download failed: 404\n",
      "Downloading 314 of 543 publications\n",
      "[utils.py: download_PDF] PDF Download failed: 404\n",
      "Downloading 315 of 543 publications\n",
      "\u001B[1;30;42mPDF downloaded\u001B[0m : document_102591.pdf to exports/pdf_downloads/0_cris_downloads\n",
      "Downloading 316 of 543 publications\n",
      "\u001B[1;30;42mPDF downloaded\u001B[0m : document_102595.pdf to exports/pdf_downloads/0_cris_downloads\n",
      "Downloading 317 of 543 publications\n",
      "[utils.py: download_PDF] PDF Download failed: 404\n",
      "Downloading 318 of 543 publications\n",
      "[utils.py: download_PDF] PDF Download failed: 404\n",
      "Downloading 319 of 543 publications\n",
      "[utils.py: download_pdf] Connection Error - could not download: error type: <class 'requests.exceptions.ConnectionError'> -> HTTPConnectionPool(host='www.wi2015.uni-osnabrueck.de', port=80): Max retries exceeded with url: /Files//WI2015-D-14-00163.pdf (Caused by NewConnectionError('<urllib3.connection.HTTPConnection object at 0x7fbe19b12f40>: Failed to establish a new connection: [Errno 8] nodename nor servname provided, or not known'))\n",
      "Downloading 320 of 543 publications\n",
      "\u001B[1;30;42mPDF downloaded\u001B[0m : document_104246.pdf to exports/pdf_downloads/0_cris_downloads\n",
      "Downloading 321 of 543 publications\n",
      "\u001B[1;30;42mPDF downloaded\u001B[0m : document_104739.pdf to exports/pdf_downloads/0_cris_downloads\n",
      "\u001B[1;30;43mbut PDF might be corrupted, file size: 1004 bytes\u001B[0m\n",
      "Downloading 322 of 543 publications\n",
      "\u001B[1;30;42mPDF downloaded\u001B[0m : document_104892.pdf to exports/pdf_downloads/0_cris_downloads\n",
      "Downloading 323 of 543 publications\n",
      "\u001B[1;30;42mPDF downloaded\u001B[0m : document_104914.pdf to exports/pdf_downloads/0_cris_downloads\n",
      "Downloading 324 of 543 publications\n",
      "\u001B[1;30;42mPDF downloaded\u001B[0m : document_105061.pdf to exports/pdf_downloads/0_cris_downloads\n",
      "Downloading 325 of 543 publications\n",
      "\u001B[1;30;42mPDF downloaded\u001B[0m : document_105278.pdf to exports/pdf_downloads/0_cris_downloads\n",
      "Downloading 326 of 543 publications\n",
      "\u001B[1;30;42mPDF downloaded\u001B[0m : document_105320.pdf to exports/pdf_downloads/0_cris_downloads\n",
      "\u001B[1;30;43mbut PDF might be corrupted, file size: 1004 bytes\u001B[0m\n",
      "Downloading 327 of 543 publications\n",
      "\u001B[1;30;42mPDF downloaded\u001B[0m : document_105527.pdf to exports/pdf_downloads/0_cris_downloads\n",
      "Downloading 328 of 543 publications\n",
      "\u001B[1;30;42mPDF downloaded\u001B[0m : document_105704.pdf to exports/pdf_downloads/0_cris_downloads\n",
      "Downloading 329 of 543 publications\n",
      "\u001B[1;30;42mPDF downloaded\u001B[0m : document_105705.pdf to exports/pdf_downloads/0_cris_downloads\n",
      "Downloading 330 of 543 publications\n",
      "\u001B[1;30;42mPDF downloaded\u001B[0m : document_105905.pdf to exports/pdf_downloads/0_cris_downloads\n",
      "Downloading 331 of 543 publications\n",
      "\u001B[1;30;42mPDF downloaded\u001B[0m : document_105955.pdf to exports/pdf_downloads/0_cris_downloads\n",
      "Downloading 332 of 543 publications\n",
      "\u001B[1;30;42mPDF downloaded\u001B[0m : document_105956.pdf to exports/pdf_downloads/0_cris_downloads\n",
      "Downloading 333 of 543 publications\n",
      "[utils.py: download_PDF] PDF Download failed: 404\n",
      "Downloading 334 of 543 publications\n",
      "\u001B[1;30;42mPDF downloaded\u001B[0m : document_106289.pdf to exports/pdf_downloads/0_cris_downloads\n",
      "Downloading 335 of 543 publications\n",
      "[utils.py: download_PDF] PDF Download failed: 404\n",
      "Downloading 336 of 543 publications\n",
      "\u001B[1;30;42mPDF downloaded\u001B[0m : document_107491.pdf to exports/pdf_downloads/0_cris_downloads\n",
      "Downloading 337 of 543 publications\n",
      "\u001B[1;30;42mPDF downloaded\u001B[0m : document_107594.pdf to exports/pdf_downloads/0_cris_downloads\n",
      "Downloading 338 of 543 publications\n",
      "\u001B[1;30;42mPDF downloaded\u001B[0m : document_107636.pdf to exports/pdf_downloads/0_cris_downloads\n",
      "Downloading 339 of 543 publications\n",
      "[utils.py: download_PDF] PDF Download failed: 404\n",
      "Downloading 340 of 543 publications\n",
      "[utils.py: download_PDF] PDF Download failed: 404\n",
      "Downloading 341 of 543 publications\n",
      "\u001B[1;30;42mPDF downloaded\u001B[0m : document_107892.pdf to exports/pdf_downloads/0_cris_downloads\n",
      "Downloading 342 of 543 publications\n",
      "\u001B[1;30;42mPDF downloaded\u001B[0m : document_108465.pdf to exports/pdf_downloads/0_cris_downloads\n",
      "Downloading 343 of 543 publications\n",
      "\u001B[1;30;42mPDF downloaded\u001B[0m : document_108467.pdf to exports/pdf_downloads/0_cris_downloads\n",
      "Downloading 344 of 543 publications\n",
      "[utils.py: download_PDF] PDF Download failed: 403\n",
      "Downloading 345 of 543 publications\n",
      "\u001B[1;30;42mPDF downloaded\u001B[0m : document_108937.pdf to exports/pdf_downloads/0_cris_downloads\n",
      "Downloading 346 of 543 publications\n",
      "\u001B[1;30;42mPDF downloaded\u001B[0m : document_109127.pdf to exports/pdf_downloads/0_cris_downloads\n",
      "Downloading 347 of 543 publications\n",
      "[utils.py: download_PDF] PDF Download failed: 404\n",
      "Downloading 348 of 543 publications\n",
      "[utils.py: download_PDF] PDF Download failed: 404\n",
      "Downloading 349 of 543 publications\n",
      "[utils.py: download_PDF] PDF Download failed: 404\n",
      "Downloading 350 of 543 publications\n",
      "[utils.py: download_pdf] Connection Error - could not download: error type: <class 'requests.exceptions.SSLError'> -> HTTPSConnectionPool(host='www.businessperspectives.org', port=443): Max retries exceeded with url: /journals_free/ppm/2014/PPM_2014_02cont_Wohrmann.pdf (Caused by SSLError(SSLCertVerificationError(1, '[SSL: CERTIFICATE_VERIFY_FAILED] certificate verify failed: unable to get local issuer certificate (_ssl.c:1129)')))\n",
      "Downloading 351 of 543 publications\n",
      "\u001B[1;30;42mPDF downloaded\u001B[0m : document_110743.pdf to exports/pdf_downloads/0_cris_downloads\n",
      "Downloading 352 of 543 publications\n",
      "\u001B[1;30;42mPDF downloaded\u001B[0m : document_110747.pdf to exports/pdf_downloads/0_cris_downloads\n",
      "Downloading 353 of 543 publications\n",
      "\u001B[1;30;42mPDF downloaded\u001B[0m : document_110748.pdf to exports/pdf_downloads/0_cris_downloads\n",
      "Downloading 354 of 543 publications\n",
      "\u001B[1;30;42mPDF downloaded\u001B[0m : document_110752.pdf to exports/pdf_downloads/0_cris_downloads\n",
      "Downloading 355 of 543 publications\n",
      "\u001B[1;30;42mPDF downloaded\u001B[0m : document_110753.pdf to exports/pdf_downloads/0_cris_downloads\n",
      "Downloading 356 of 543 publications\n",
      "[utils.py: download_PDF] PDF Download failed: 404\n",
      "Downloading 357 of 543 publications\n",
      "[utils.py: download_PDF] PDF Download failed: 404\n",
      "Downloading 358 of 543 publications\n",
      "[utils.py: download_PDF] PDF Download failed: 404\n",
      "Downloading 359 of 543 publications\n",
      "[utils.py: download_PDF] PDF Download failed: 404\n",
      "Downloading 360 of 543 publications\n",
      "[utils.py: download_PDF] PDF Download failed: 404\n",
      "Downloading 361 of 543 publications\n",
      "[utils.py: download_PDF] PDF Download failed: 404\n",
      "Downloading 362 of 543 publications\n",
      "[utils.py: download_PDF] PDF Download failed: 404\n",
      "Downloading 363 of 543 publications\n",
      "[utils.py: download_PDF] PDF Download failed: 404\n",
      "Downloading 364 of 543 publications\n",
      "\u001B[1;30;42mPDF downloaded\u001B[0m : document_115345.pdf to exports/pdf_downloads/0_cris_downloads\n",
      "Downloading 365 of 543 publications\n",
      "[utils.py: download_PDF] PDF Download failed: 404\n",
      "Downloading 366 of 543 publications\n",
      "\u001B[1;30;42mPDF downloaded\u001B[0m : document_115560.pdf to exports/pdf_downloads/0_cris_downloads\n",
      "Downloading 367 of 543 publications\n",
      "\u001B[1;30;42mPDF downloaded\u001B[0m : document_115678.pdf to exports/pdf_downloads/0_cris_downloads\n",
      "Downloading 368 of 543 publications\n",
      "\u001B[1;30;42mPDF downloaded\u001B[0m : document_115848.pdf to exports/pdf_downloads/0_cris_downloads\n",
      "Downloading 369 of 543 publications\n",
      "\u001B[1;30;42mPDF downloaded\u001B[0m : document_115857.pdf to exports/pdf_downloads/0_cris_downloads\n",
      "Downloading 370 of 543 publications\n",
      "\u001B[1;30;42mPDF downloaded\u001B[0m : document_115859.pdf to exports/pdf_downloads/0_cris_downloads\n",
      "Downloading 371 of 543 publications\n",
      "\u001B[1;30;42mPDF downloaded\u001B[0m : document_115909.pdf to exports/pdf_downloads/0_cris_downloads\n",
      "Downloading 372 of 543 publications\n",
      "\u001B[1;30;42mPDF downloaded\u001B[0m : document_116249.pdf to exports/pdf_downloads/0_cris_downloads\n",
      "Downloading 373 of 543 publications\n",
      "\u001B[1;30;42mPDF downloaded\u001B[0m : document_116267.pdf to exports/pdf_downloads/0_cris_downloads\n",
      "Downloading 374 of 543 publications\n",
      "\u001B[1;30;42mPDF downloaded\u001B[0m : document_116502.pdf to exports/pdf_downloads/0_cris_downloads\n",
      "Downloading 375 of 543 publications\n",
      "[utils.py: download_PDF] PDF Download failed: 404\n",
      "Downloading 376 of 543 publications\n",
      "\u001B[1;30;42mPDF downloaded\u001B[0m : document_116855.pdf to exports/pdf_downloads/0_cris_downloads\n",
      "Downloading 377 of 543 publications\n",
      "[utils.py: download_PDF] PDF Download failed: 404\n",
      "Downloading 378 of 543 publications\n",
      "\u001B[1;30;42mPDF downloaded\u001B[0m : document_117601.pdf to exports/pdf_downloads/0_cris_downloads\n",
      "Downloading 379 of 543 publications\n",
      "[utils.py: download_PDF] PDF Download failed: 404\n",
      "Downloading 380 of 543 publications\n",
      "[utils.py: download_PDF] PDF Download failed: 404\n",
      "Downloading 381 of 543 publications\n",
      "[utils.py: download_PDF] PDF Download failed: 404\n",
      "Downloading 382 of 543 publications\n",
      "[utils.py: download_PDF] PDF Download failed: 404\n",
      "Downloading 383 of 543 publications\n",
      "[utils.py: download_PDF] PDF Download failed: 404\n",
      "Downloading 384 of 543 publications\n",
      "\u001B[1;30;42mPDF downloaded\u001B[0m : document_119691.pdf to exports/pdf_downloads/0_cris_downloads\n",
      "Downloading 385 of 543 publications\n",
      "[utils.py: download_PDF] PDF Download failed: 404\n",
      "Downloading 386 of 543 publications\n",
      "\u001B[1;30;42mPDF downloaded\u001B[0m : document_120497.pdf to exports/pdf_downloads/0_cris_downloads\n",
      "Downloading 387 of 543 publications\n",
      "\u001B[1;30;42mPDF downloaded\u001B[0m : document_120498.pdf to exports/pdf_downloads/0_cris_downloads\n",
      "Downloading 388 of 543 publications\n",
      "\u001B[1;30;42mPDF downloaded\u001B[0m : document_120499.pdf to exports/pdf_downloads/0_cris_downloads\n",
      "Downloading 389 of 543 publications\n",
      "\u001B[1;30;42mPDF downloaded\u001B[0m : document_120537.pdf to exports/pdf_downloads/0_cris_downloads\n",
      "Downloading 390 of 543 publications\n",
      "[utils.py: download_PDF] PDF Download failed: 404\n",
      "Downloading 391 of 543 publications\n",
      "[utils.py: download_PDF] PDF Download failed: 404\n",
      "Downloading 392 of 543 publications\n",
      "[utils.py: download_pdf] Connection Error - could not download: error type: <class 'requests.exceptions.ConnectionError'> -> HTTPSConnectionPool(host='wi2017.blob.core.windows.net', port=443): Max retries exceeded with url: /website/download/papers/WI2017-0195.pdf (Caused by NewConnectionError('<urllib3.connection.HTTPSConnection object at 0x7fbe3980d730>: Failed to establish a new connection: [Errno 8] nodename nor servname provided, or not known'))\n",
      "Downloading 393 of 543 publications\n",
      "\u001B[1;30;42mPDF downloaded\u001B[0m : document_122125.pdf to exports/pdf_downloads/0_cris_downloads\n",
      "Downloading 394 of 543 publications\n",
      "\u001B[1;30;42mPDF downloaded\u001B[0m : document_122257.pdf to exports/pdf_downloads/0_cris_downloads\n",
      "Downloading 395 of 543 publications\n",
      "\u001B[1;30;42mPDF downloaded\u001B[0m : document_122396.pdf to exports/pdf_downloads/0_cris_downloads\n",
      "Downloading 396 of 543 publications\n",
      "\u001B[1;30;42mPDF downloaded\u001B[0m : document_124868.pdf to exports/pdf_downloads/0_cris_downloads\n",
      "Downloading 397 of 543 publications\n",
      "\u001B[1;30;42mPDF downloaded\u001B[0m : document_124992.pdf to exports/pdf_downloads/0_cris_downloads\n",
      "Downloading 398 of 543 publications\n",
      "\u001B[1;30;42mPDF downloaded\u001B[0m : document_126167.pdf to exports/pdf_downloads/0_cris_downloads\n",
      "Downloading 399 of 543 publications\n",
      "\u001B[1;30;42mPDF downloaded\u001B[0m : document_126169.pdf to exports/pdf_downloads/0_cris_downloads\n",
      "Downloading 400 of 543 publications\n",
      "\u001B[1;30;42mPDF downloaded\u001B[0m : document_127377.pdf to exports/pdf_downloads/0_cris_downloads\n",
      "Downloading 401 of 543 publications\n",
      "\u001B[1;30;42mPDF downloaded\u001B[0m : document_127666.pdf to exports/pdf_downloads/0_cris_downloads\n",
      "Downloading 402 of 543 publications\n",
      "\u001B[1;30;42mPDF downloaded\u001B[0m : document_127774.pdf to exports/pdf_downloads/0_cris_downloads\n",
      "Downloading 403 of 543 publications\n",
      "\u001B[1;30;42mPDF downloaded\u001B[0m : document_128688.pdf to exports/pdf_downloads/0_cris_downloads\n",
      "Downloading 404 of 543 publications\n",
      "\u001B[1;30;42mPDF downloaded\u001B[0m : document_128715.pdf to exports/pdf_downloads/0_cris_downloads\n",
      "Downloading 405 of 543 publications\n",
      "\u001B[1;30;42mPDF downloaded\u001B[0m : document_128832.pdf to exports/pdf_downloads/0_cris_downloads\n",
      "Downloading 406 of 543 publications\n",
      "\u001B[1;30;42mPDF downloaded\u001B[0m : document_128870.pdf to exports/pdf_downloads/0_cris_downloads\n",
      "Downloading 407 of 543 publications\n",
      "\u001B[1;30;42mPDF downloaded\u001B[0m : document_129190.pdf to exports/pdf_downloads/0_cris_downloads\n",
      "Downloading 408 of 543 publications\n",
      "\u001B[1;30;42mPDF downloaded\u001B[0m : document_129643.pdf to exports/pdf_downloads/0_cris_downloads\n",
      "Downloading 409 of 543 publications\n",
      "\u001B[1;30;42mPDF downloaded\u001B[0m : document_129715.pdf to exports/pdf_downloads/0_cris_downloads\n",
      "Downloading 410 of 543 publications\n",
      "\u001B[1;30;42mPDF downloaded\u001B[0m : document_129762.pdf to exports/pdf_downloads/0_cris_downloads\n",
      "Downloading 411 of 543 publications\n",
      "\u001B[1;30;42mPDF downloaded\u001B[0m : document_130069.pdf to exports/pdf_downloads/0_cris_downloads\n",
      "Downloading 412 of 543 publications\n",
      "[utils.py: download_pdf] Connection Error - could not download: error type: <class 'requests.exceptions.ConnectionError'> -> HTTPConnectionPool(host='www.eccfjournal.mk', port=80): Max retries exceeded with url: /wp-content/uploads/2015/12/55-64.pdf (Caused by NewConnectionError('<urllib3.connection.HTTPConnection object at 0x7fbdf8082d90>: Failed to establish a new connection: [Errno 8] nodename nor servname provided, or not known'))\n",
      "Downloading 413 of 543 publications\n",
      "\u001B[1;30;42mPDF downloaded\u001B[0m : document_130380.pdf to exports/pdf_downloads/0_cris_downloads\n",
      "Downloading 414 of 543 publications\n",
      "[utils.py: download_PDF] PDF Download failed: 404\n",
      "Downloading 415 of 543 publications\n",
      "\u001B[1;30;42mPDF downloaded\u001B[0m : document_131445.pdf to exports/pdf_downloads/0_cris_downloads\n",
      "Downloading 416 of 543 publications\n",
      "\u001B[1;30;42mPDF downloaded\u001B[0m : document_131536.pdf to exports/pdf_downloads/0_cris_downloads\n",
      "Downloading 417 of 543 publications\n",
      "[utils.py: download_PDF] PDF Download failed: 404\n",
      "Downloading 418 of 543 publications\n",
      "[utils.py: download_PDF] PDF Download failed: 404\n",
      "Downloading 419 of 543 publications\n",
      "[utils.py: download_PDF] PDF Download failed: 404\n",
      "Downloading 420 of 543 publications\n",
      "\u001B[1;30;42mPDF downloaded\u001B[0m : document_131863.pdf to exports/pdf_downloads/0_cris_downloads\n",
      "Downloading 421 of 543 publications\n",
      "\u001B[1;30;42mPDF downloaded\u001B[0m : document_132153.pdf to exports/pdf_downloads/0_cris_downloads\n",
      "Downloading 422 of 543 publications\n",
      "\u001B[1;30;42mPDF downloaded\u001B[0m : document_132154.pdf to exports/pdf_downloads/0_cris_downloads\n",
      "Downloading 423 of 543 publications\n",
      "\u001B[1;30;42mPDF downloaded\u001B[0m : document_132772.pdf to exports/pdf_downloads/0_cris_downloads\n",
      "Downloading 424 of 543 publications\n",
      "\u001B[1;30;42mPDF downloaded\u001B[0m : document_133653.pdf to exports/pdf_downloads/0_cris_downloads\n",
      "Downloading 425 of 543 publications\n",
      "\u001B[1;30;42mPDF downloaded\u001B[0m : document_133953.pdf to exports/pdf_downloads/0_cris_downloads\n",
      "Downloading 426 of 543 publications\n",
      "\u001B[1;30;42mPDF downloaded\u001B[0m : document_134625.pdf to exports/pdf_downloads/0_cris_downloads\n",
      "Downloading 427 of 543 publications\n",
      "\u001B[1;30;42mPDF downloaded\u001B[0m : document_136683.pdf to exports/pdf_downloads/0_cris_downloads\n",
      "Downloading 428 of 543 publications\n",
      "[utils.py: download_pdf] Connection Error - could not download: error type: <class 'requests.exceptions.ConnectionError'> -> HTTPSConnectionPool(host='wi2017.blob.core.windows.net', port=443): Max retries exceeded with url: /website/download/papers/WI2017-0195.pdf (Caused by NewConnectionError('<urllib3.connection.HTTPSConnection object at 0x7fbe2908c370>: Failed to establish a new connection: [Errno 8] nodename nor servname provided, or not known'))\n",
      "Downloading 429 of 543 publications\n",
      "[utils.py: download_PDF] PDF Download failed: 404\n",
      "Downloading 430 of 543 publications\n",
      "\u001B[1;30;42mPDF downloaded\u001B[0m : document_139343.pdf to exports/pdf_downloads/0_cris_downloads\n",
      "Downloading 431 of 543 publications\n",
      "\u001B[1;30;42mPDF downloaded\u001B[0m : document_139529.pdf to exports/pdf_downloads/0_cris_downloads\n",
      "Downloading 432 of 543 publications\n",
      "\u001B[1;30;42mPDF downloaded\u001B[0m : document_139624.pdf to exports/pdf_downloads/0_cris_downloads\n",
      "Downloading 433 of 543 publications\n",
      "\u001B[1;30;42mPDF downloaded\u001B[0m : document_139625.pdf to exports/pdf_downloads/0_cris_downloads\n",
      "Downloading 434 of 543 publications\n",
      "\u001B[1;30;42mPDF downloaded\u001B[0m : document_139847.pdf to exports/pdf_downloads/0_cris_downloads\n",
      "Downloading 435 of 543 publications\n",
      "\u001B[1;30;42mPDF downloaded\u001B[0m : document_139864.pdf to exports/pdf_downloads/0_cris_downloads\n",
      "Downloading 436 of 543 publications\n",
      "\u001B[1;30;42mPDF downloaded\u001B[0m : document_140570.pdf to exports/pdf_downloads/0_cris_downloads\n",
      "Downloading 437 of 543 publications\n",
      "\u001B[1;30;42mPDF downloaded\u001B[0m : document_140960.pdf to exports/pdf_downloads/0_cris_downloads\n",
      "Downloading 438 of 543 publications\n",
      "[utils.py: download_PDF] PDF Download failed: 404\n",
      "Downloading 439 of 543 publications\n",
      "\u001B[1;30;42mPDF downloaded\u001B[0m : document_142023.pdf to exports/pdf_downloads/0_cris_downloads\n",
      "Downloading 440 of 543 publications\n",
      "\u001B[1;30;42mPDF downloaded\u001B[0m : document_142024.pdf to exports/pdf_downloads/0_cris_downloads\n",
      "Downloading 441 of 543 publications\n",
      "\u001B[1;30;42mPDF downloaded\u001B[0m : document_142413.pdf to exports/pdf_downloads/0_cris_downloads\n",
      "Downloading 442 of 543 publications\n",
      "\u001B[1;30;42mPDF downloaded\u001B[0m : document_143357.pdf to exports/pdf_downloads/0_cris_downloads\n",
      "Downloading 443 of 543 publications\n",
      "[utils.py: download_PDF] PDF Download failed: 400\n",
      "Downloading 444 of 543 publications\n",
      "\u001B[1;30;42mPDF downloaded\u001B[0m : document_144465.pdf to exports/pdf_downloads/0_cris_downloads\n",
      "Downloading 445 of 543 publications\n",
      "\u001B[1;30;42mPDF downloaded\u001B[0m : document_144958.pdf to exports/pdf_downloads/0_cris_downloads\n",
      "Downloading 446 of 543 publications\n",
      "\u001B[1;30;42mPDF downloaded\u001B[0m : document_145163.pdf to exports/pdf_downloads/0_cris_downloads\n",
      "Downloading 447 of 543 publications\n",
      "[utils.py: download_PDF] PDF Download failed: 404\n",
      "Downloading 448 of 543 publications\n",
      "\u001B[1;30;42mPDF downloaded\u001B[0m : document_145869.pdf to exports/pdf_downloads/0_cris_downloads\n",
      "Downloading 449 of 543 publications\n",
      "\u001B[1;30;42mPDF downloaded\u001B[0m : document_145870.pdf to exports/pdf_downloads/0_cris_downloads\n",
      "Downloading 450 of 543 publications\n",
      "\u001B[1;30;42mPDF downloaded\u001B[0m : document_146289.pdf to exports/pdf_downloads/0_cris_downloads\n",
      "Downloading 451 of 543 publications\n",
      "\u001B[1;30;42mPDF downloaded\u001B[0m : document_146322.pdf to exports/pdf_downloads/0_cris_downloads\n",
      "Downloading 452 of 543 publications\n",
      "\u001B[1;30;42mPDF downloaded\u001B[0m : document_146446.pdf to exports/pdf_downloads/0_cris_downloads\n",
      "Downloading 453 of 543 publications\n",
      "\u001B[1;30;42mPDF downloaded\u001B[0m : document_146448.pdf to exports/pdf_downloads/0_cris_downloads\n",
      "Downloading 454 of 543 publications\n",
      "\u001B[1;30;42mPDF downloaded\u001B[0m : document_147619.pdf to exports/pdf_downloads/0_cris_downloads\n",
      "Downloading 455 of 543 publications\n",
      "\u001B[1;30;42mPDF downloaded\u001B[0m : document_147997.pdf to exports/pdf_downloads/0_cris_downloads\n",
      "Downloading 456 of 543 publications\n",
      "\u001B[1;30;42mPDF downloaded\u001B[0m : document_149506.pdf to exports/pdf_downloads/0_cris_downloads\n",
      "Downloading 457 of 543 publications\n",
      "\u001B[1;30;42mPDF downloaded\u001B[0m : document_149510.pdf to exports/pdf_downloads/0_cris_downloads\n",
      "Downloading 458 of 543 publications\n",
      "[utils.py: download_PDF] PDF Download failed: 404\n",
      "Downloading 459 of 543 publications\n",
      "\u001B[1;30;42mPDF downloaded\u001B[0m : document_150227.pdf to exports/pdf_downloads/0_cris_downloads\n",
      "Downloading 460 of 543 publications\n",
      "\u001B[1;30;42mPDF downloaded\u001B[0m : document_150228.pdf to exports/pdf_downloads/0_cris_downloads\n",
      "Downloading 461 of 543 publications\n",
      "\u001B[1;30;42mPDF downloaded\u001B[0m : document_151028.pdf to exports/pdf_downloads/0_cris_downloads\n",
      "Downloading 462 of 543 publications\n",
      "\u001B[1;30;42mPDF downloaded\u001B[0m : document_151029.pdf to exports/pdf_downloads/0_cris_downloads\n",
      "Downloading 463 of 543 publications\n",
      "\u001B[1;30;42mPDF downloaded\u001B[0m : document_151030.pdf to exports/pdf_downloads/0_cris_downloads\n",
      "Downloading 464 of 543 publications\n",
      "\u001B[1;30;42mPDF downloaded\u001B[0m : document_151167.pdf to exports/pdf_downloads/0_cris_downloads\n",
      "Downloading 465 of 543 publications\n",
      "\u001B[1;30;42mPDF downloaded\u001B[0m : document_152484.pdf to exports/pdf_downloads/0_cris_downloads\n",
      "Downloading 466 of 543 publications\n",
      "[utils.py: download_PDF] PDF Download failed: 404\n",
      "Downloading 467 of 543 publications\n",
      "[utils.py: download_PDF] PDF Download failed: 404\n",
      "Downloading 468 of 543 publications\n",
      "[utils.py: download_PDF] PDF Download failed: 404\n",
      "Downloading 469 of 543 publications\n",
      "[utils.py: download_pdf] Connection Error - could not download: error type: <class 'requests.exceptions.MissingSchema'> -> Invalid URL 'www.ifg-muenster.de/forschen/veroeffentlichungen/2019/material/dombrowa(2019).pdf': No scheme supplied. Perhaps you meant http://www.ifg-muenster.de/forschen/veroeffentlichungen/2019/material/dombrowa(2019).pdf?\n",
      "Downloading 470 of 543 publications\n",
      "\u001B[1;30;42mPDF downloaded\u001B[0m : document_152576.pdf to exports/pdf_downloads/0_cris_downloads\n",
      "Downloading 471 of 543 publications\n",
      "\u001B[1;30;42mPDF downloaded\u001B[0m : document_152857.pdf to exports/pdf_downloads/0_cris_downloads\n",
      "Downloading 472 of 543 publications\n",
      "[utils.py: download_PDF] PDF Download failed: 403\n",
      "Downloading 473 of 543 publications\n",
      "\u001B[1;30;42mPDF downloaded\u001B[0m : document_153724.pdf to exports/pdf_downloads/0_cris_downloads\n",
      "Downloading 474 of 543 publications\n",
      "\u001B[1;30;42mPDF downloaded\u001B[0m : document_153915.pdf to exports/pdf_downloads/0_cris_downloads\n",
      "Downloading 475 of 543 publications\n",
      "[utils.py: download_PDF] PDF Download failed: 404\n",
      "Downloading 476 of 543 publications\n",
      "\u001B[1;30;42mPDF downloaded\u001B[0m : document_153974.pdf to exports/pdf_downloads/0_cris_downloads\n",
      "Downloading 477 of 543 publications\n",
      "\u001B[1;30;42mPDF downloaded\u001B[0m : document_154480.pdf to exports/pdf_downloads/0_cris_downloads\n",
      "Downloading 478 of 543 publications\n",
      "\u001B[1;30;42mPDF downloaded\u001B[0m : document_154601.pdf to exports/pdf_downloads/0_cris_downloads\n",
      "Downloading 479 of 543 publications\n",
      "\u001B[1;30;42mPDF downloaded\u001B[0m : document_154697.pdf to exports/pdf_downloads/0_cris_downloads\n",
      "Downloading 480 of 543 publications\n",
      "[utils.py: download_PDF] PDF Download failed: 404\n",
      "Downloading 481 of 543 publications\n",
      "\u001B[1;30;42mPDF downloaded\u001B[0m : document_155849.pdf to exports/pdf_downloads/0_cris_downloads\n",
      "Downloading 482 of 543 publications\n",
      "[utils.py: download_PDF] PDF Download failed: 404\n",
      "Downloading 483 of 543 publications\n",
      "[utils.py: download_PDF] PDF Download failed: 404\n",
      "Downloading 484 of 543 publications\n",
      "\u001B[1;30;42mPDF downloaded\u001B[0m : document_156264.pdf to exports/pdf_downloads/0_cris_downloads\n",
      "Downloading 485 of 543 publications\n",
      "\u001B[1;30;42mPDF downloaded\u001B[0m : document_156728.pdf to exports/pdf_downloads/0_cris_downloads\n",
      "Downloading 486 of 543 publications\n",
      "\u001B[1;30;42mPDF downloaded\u001B[0m : document_156729.pdf to exports/pdf_downloads/0_cris_downloads\n",
      "Downloading 487 of 543 publications\n",
      "\u001B[1;30;42mPDF downloaded\u001B[0m : document_156777.pdf to exports/pdf_downloads/0_cris_downloads\n",
      "Downloading 488 of 543 publications\n",
      "\u001B[1;30;42mPDF downloaded\u001B[0m : document_158409.pdf to exports/pdf_downloads/0_cris_downloads\n",
      "Downloading 489 of 543 publications\n",
      "[utils.py: download_PDF] PDF Download failed: 404\n",
      "Downloading 490 of 543 publications\n",
      "[utils.py: download_PDF] PDF Download failed: 404\n",
      "Downloading 491 of 543 publications\n",
      "[utils.py: download_PDF] PDF Download failed: 404\n",
      "Downloading 492 of 543 publications\n",
      "[utils.py: download_pdf] Connection Error - could not download: error type: <class 'requests.exceptions.ConnectionError'> -> HTTPConnectionPool(host='www.elen.ucl.ac.be', port=80): Max retries exceeded with url: /Proceedings/esann/esannpdf/es2016-116.pdf (Caused by NewConnectionError('<urllib3.connection.HTTPConnection object at 0x7fbe39bdf400>: Failed to establish a new connection: [Errno 61] Connection refused'))\n",
      "Downloading 493 of 543 publications\n",
      "[utils.py: download_pdf] Connection Error - could not download: error type: <class 'requests.exceptions.ConnectionError'> -> HTTPConnectionPool(host='www.elen.ucl.ac.be', port=80): Max retries exceeded with url: /Proceedings/esann/esannpdf/es2014-171.pdf (Caused by NewConnectionError('<urllib3.connection.HTTPConnection object at 0x7fbdf8082a30>: Failed to establish a new connection: [Errno 61] Connection refused'))\n",
      "Downloading 494 of 543 publications\n",
      "\u001B[1;30;42mPDF downloaded\u001B[0m : document_159608.pdf to exports/pdf_downloads/0_cris_downloads\n",
      "Downloading 495 of 543 publications\n",
      "\u001B[1;30;42mPDF downloaded\u001B[0m : document_159609.pdf to exports/pdf_downloads/0_cris_downloads\n",
      "Downloading 496 of 543 publications\n",
      "\u001B[1;30;42mPDF downloaded\u001B[0m : document_159699.pdf to exports/pdf_downloads/0_cris_downloads\n",
      "Downloading 497 of 543 publications\n",
      "\u001B[1;30;42mPDF downloaded\u001B[0m : document_159747.pdf to exports/pdf_downloads/0_cris_downloads\n",
      "Downloading 498 of 543 publications\n",
      "\u001B[1;30;42mPDF downloaded\u001B[0m : document_159872.pdf to exports/pdf_downloads/0_cris_downloads\n",
      "Downloading 499 of 543 publications\n",
      "\u001B[1;30;42mPDF downloaded\u001B[0m : document_159909.pdf to exports/pdf_downloads/0_cris_downloads\n",
      "Downloading 500 of 543 publications\n",
      "\u001B[1;30;42mPDF downloaded\u001B[0m : document_160092.pdf to exports/pdf_downloads/0_cris_downloads\n",
      "Downloading 501 of 543 publications\n",
      "\u001B[1;30;42mPDF downloaded\u001B[0m : document_160106.pdf to exports/pdf_downloads/0_cris_downloads\n",
      "Downloading 502 of 543 publications\n",
      "[utils.py: download_pdf] Connection Error - could not download: error type: <class 'requests.exceptions.InvalidSchema'> -> No connection adapters were found for 'ftp://ftp.cencenelec.eu/EN/ResearchInnovation/CWA/CWA17514_2020.pdf'\n",
      "Downloading 503 of 543 publications\n",
      "\u001B[1;30;42mPDF downloaded\u001B[0m : document_161145.pdf to exports/pdf_downloads/0_cris_downloads\n",
      "Downloading 504 of 543 publications\n",
      "\u001B[1;30;42mPDF downloaded\u001B[0m : document_161486.pdf to exports/pdf_downloads/0_cris_downloads\n",
      "Downloading 505 of 543 publications\n",
      "\u001B[1;30;42mPDF downloaded\u001B[0m : document_161941.pdf to exports/pdf_downloads/0_cris_downloads\n",
      "Downloading 506 of 543 publications\n",
      "\u001B[1;30;42mPDF downloaded\u001B[0m : document_162124.pdf to exports/pdf_downloads/0_cris_downloads\n",
      "Downloading 507 of 543 publications\n",
      "\u001B[1;30;42mPDF downloaded\u001B[0m : document_162127.pdf to exports/pdf_downloads/0_cris_downloads\n",
      "Downloading 508 of 543 publications\n",
      "[utils.py: download_PDF] PDF Download failed: 404\n",
      "Downloading 509 of 543 publications\n",
      "[utils.py: download_PDF] PDF Download failed: 404\n",
      "Downloading 510 of 543 publications\n",
      "[utils.py: download_pdf] Connection Error - could not download: error type: <class 'requests.exceptions.ConnectionError'> -> HTTPConnectionPool(host='www.plastikvermeidung.de', port=80): Max retries exceeded with url: /veroeffentlichungen/_wissenschaft/Plastikverpackungen%20in%20der%20textilen%20Lieferkette_Diskussionspapier_VerPlaPoS_2019.pdf (Caused by NewConnectionError('<urllib3.connection.HTTPConnection object at 0x7fbe39890cd0>: Failed to establish a new connection: [Errno 8] nodename nor servname provided, or not known'))\n",
      "Downloading 511 of 543 publications\n",
      "[utils.py: download_pdf] Connection Error - could not download: error type: <class 'requests.exceptions.ConnectionError'> -> HTTPConnectionPool(host='www.plastikvermeidung.de', port=80): Max retries exceeded with url: /veroeffentlichungen/_wissenschaft/Plastikverpackungen%20in%20der%20textilen%20Lieferkette_Diskussionspapier_VerPlaPoS_2019.pdf (Caused by NewConnectionError('<urllib3.connection.HTTPConnection object at 0x7fbe39890f10>: Failed to establish a new connection: [Errno 8] nodename nor servname provided, or not known'))\n",
      "Downloading 512 of 543 publications\n",
      "\u001B[1;30;42mPDF downloaded\u001B[0m : document_163962.pdf to exports/pdf_downloads/0_cris_downloads\n",
      "Downloading 513 of 543 publications\n",
      "\u001B[1;30;42mPDF downloaded\u001B[0m : document_163964.pdf to exports/pdf_downloads/0_cris_downloads\n",
      "Downloading 514 of 543 publications\n",
      "[utils.py: download_PDF] PDF Download failed: 404\n",
      "Downloading 515 of 543 publications\n",
      "\u001B[1;30;42mPDF downloaded\u001B[0m : document_164423.pdf to exports/pdf_downloads/0_cris_downloads\n",
      "Downloading 516 of 543 publications\n",
      "\u001B[1;30;42mPDF downloaded\u001B[0m : document_165134.pdf to exports/pdf_downloads/0_cris_downloads\n",
      "Downloading 517 of 543 publications\n",
      "[utils.py: download_PDF] PDF Download failed: 404\n",
      "Downloading 518 of 543 publications\n",
      "\u001B[1;30;42mPDF downloaded\u001B[0m : document_166026.pdf to exports/pdf_downloads/0_cris_downloads\n",
      "Downloading 519 of 543 publications\n",
      "[utils.py: download_PDF] PDF Download failed: 404\n",
      "Downloading 520 of 543 publications\n",
      "\u001B[1;30;42mPDF downloaded\u001B[0m : document_166243.pdf to exports/pdf_downloads/0_cris_downloads\n",
      "Downloading 521 of 543 publications\n",
      "\u001B[1;30;42mPDF downloaded\u001B[0m : document_167254.pdf to exports/pdf_downloads/0_cris_downloads\n",
      "Downloading 522 of 543 publications\n",
      "\u001B[1;30;42mPDF downloaded\u001B[0m : document_167478.pdf to exports/pdf_downloads/0_cris_downloads\n",
      "Downloading 523 of 543 publications\n",
      "\u001B[1;30;42mPDF downloaded\u001B[0m : document_167667.pdf to exports/pdf_downloads/0_cris_downloads\n",
      "Downloading 524 of 543 publications\n",
      "[utils.py: download_pdf] Connection Error - could not download: error type: <class 'requests.exceptions.SSLError'> -> HTTPSConnectionPool(host='www.driver-project.eu', port=443): Max retries exceeded with url: /wp-content/uploads/2019/03/DRIVER_D922.41_Trial-guidance-methodology-and-guidance-tool-specifications-version-2-1_120319-FINAL.pdf (Caused by SSLError(SSLCertVerificationError(1, '[SSL: CERTIFICATE_VERIFY_FAILED] certificate verify failed: unable to get local issuer certificate (_ssl.c:1129)')))\n",
      "Downloading 525 of 543 publications\n",
      "[utils.py: download_pdf] Connection Error - could not download: error type: <class 'requests.exceptions.SSLError'> -> HTTPSConnectionPool(host='www.driver-project.eu', port=443): Max retries exceeded with url: /wp-content/uploads/2019/11/DRIVER_D922.42_Handbook-for-systematic-designing-of-trials-Final.pdf (Caused by SSLError(SSLCertVerificationError(1, '[SSL: CERTIFICATE_VERIFY_FAILED] certificate verify failed: unable to get local issuer certificate (_ssl.c:1129)')))\n",
      "Downloading 526 of 543 publications\n",
      "[utils.py: download_pdf] Connection Error - could not download: error type: <class 'requests.exceptions.SSLError'> -> HTTPSConnectionPool(host='www.driver-project.eu', port=443): Max retries exceeded with url: /wp-content/uploads/2018/06/DRIVERPLUS_D934.13_Experiment-44-Design-Report.pdf (Caused by SSLError(SSLCertVerificationError(1, '[SSL: CERTIFICATE_VERIFY_FAILED] certificate verify failed: unable to get local issuer certificate (_ssl.c:1129)')))\n",
      "Downloading 527 of 543 publications\n",
      "[utils.py: download_pdf] Connection Error - could not download: error type: <class 'requests.exceptions.MissingSchema'> -> Invalid URL 'driver-project.eu/wp-content/uploads/2019/01/DRIVER_D922.21_Trial-guidance-methodology-and-guidance-tool-specifications-version-1-compressed.pdf': No scheme supplied. Perhaps you meant http://driver-project.eu/wp-content/uploads/2019/01/DRIVER_D922.21_Trial-guidance-methodology-and-guidance-tool-specifications-version-1-compressed.pdf?\n",
      "Downloading 528 of 543 publications\n",
      "[utils.py: download_pdf] Connection Error - could not download: error type: <class 'requests.exceptions.SSLError'> -> HTTPSConnectionPool(host='www.driver-project.eu', port=443): Max retries exceeded with url: /wp-content/uploads/2019/01/DRIVER_D924.11_Materials-for-the-Training-Module-1.pdf (Caused by SSLError(SSLCertVerificationError(1, '[SSL: CERTIFICATE_VERIFY_FAILED] certificate verify failed: unable to get local issuer certificate (_ssl.c:1129)')))\n",
      "Downloading 529 of 543 publications\n",
      "[utils.py: download_pdf] Connection Error - could not download: error type: <class 'requests.exceptions.SSLError'> -> HTTPSConnectionPool(host='www.driver-project.eu', port=443): Max retries exceeded with url: /wp-content/uploads/2018/08/DRIVERPLUS_D942.11_Report-on-review-and-selection-process.pdf (Caused by SSLError(SSLCertVerificationError(1, '[SSL: CERTIFICATE_VERIFY_FAILED] certificate verify failed: unable to get local issuer certificate (_ssl.c:1129)')))\n",
      "Downloading 530 of 543 publications\n",
      "[utils.py: download_pdf] Connection Error - could not download: error type: <class 'requests.exceptions.SSLError'> -> HTTPSConnectionPool(host='driver-project.eu', port=443): Max retries exceeded with url: /wp-content/uploads/2017/11/Performance-and-Effectiveness-Metrics-in-Crisis-Management-Experiments.pdf (Caused by SSLError(SSLCertVerificationError(1, '[SSL: CERTIFICATE_VERIFY_FAILED] certificate verify failed: unable to get local issuer certificate (_ssl.c:1129)')))\n",
      "Downloading 531 of 543 publications\n",
      "[utils.py: download_PDF] PDF Download failed: 404\n",
      "Downloading 532 of 543 publications\n",
      "\u001B[1;30;42mPDF downloaded\u001B[0m : document_171186.pdf to exports/pdf_downloads/0_cris_downloads\n",
      "Downloading 533 of 543 publications\n",
      "\u001B[1;30;42mPDF downloaded\u001B[0m : document_171637.pdf to exports/pdf_downloads/0_cris_downloads\n",
      "Downloading 534 of 543 publications\n",
      "\u001B[1;30;42mPDF downloaded\u001B[0m : document_172487.pdf to exports/pdf_downloads/0_cris_downloads\n",
      "Downloading 535 of 543 publications\n",
      "\u001B[1;30;42mPDF downloaded\u001B[0m : document_173010.pdf to exports/pdf_downloads/0_cris_downloads\n",
      "Downloading 536 of 543 publications\n",
      "\u001B[1;30;42mPDF downloaded\u001B[0m : document_174277.pdf to exports/pdf_downloads/0_cris_downloads\n",
      "Downloading 537 of 543 publications\n",
      "\u001B[1;30;42mPDF downloaded\u001B[0m : document_174293.pdf to exports/pdf_downloads/0_cris_downloads\n",
      "Downloading 538 of 543 publications\n",
      "\u001B[1;30;42mPDF downloaded\u001B[0m : document_174423.pdf to exports/pdf_downloads/0_cris_downloads\n",
      "Downloading 539 of 543 publications\n",
      "\u001B[1;30;42mPDF downloaded\u001B[0m : document_81817283.pdf to exports/pdf_downloads/0_cris_downloads\n",
      "Downloading 540 of 543 publications\n",
      "\u001B[1;30;42mPDF downloaded\u001B[0m : document_82463225.pdf to exports/pdf_downloads/0_cris_downloads\n",
      "Downloading 541 of 543 publications\n",
      "\u001B[1;30;42mPDF downloaded\u001B[0m : document_82723581.pdf to exports/pdf_downloads/0_cris_downloads\n",
      "Downloading 542 of 543 publications\n",
      "\u001B[1;30;42mPDF downloaded\u001B[0m : document_82732973.pdf to exports/pdf_downloads/0_cris_downloads\n",
      "Downloading 543 of 543 publications\n",
      "\u001B[1;30;42mPDF downloaded\u001B[0m : document_82752916.pdf to exports/pdf_downloads/0_cris_downloads\n"
     ]
    }
   ],
   "source": [
    "def download_pdf_from_cris(df_publications):\n",
    "    df_prepared = df_publications[df_publications['url'].notna()]\n",
    "    df_prepared = df_prepared[df_prepared['url'].str.endswith('.pdf')]\n",
    "    df_prepared = df_prepared[['id', 'url']]\n",
    "    df_prepared = df_prepared.reset_index(drop=True)\n",
    "\n",
    "    folder = 'exports/pdf_downloads/0_cris_downloads'\n",
    "    for index, row in df_prepared.iterrows():\n",
    "        print(f'Downloading {index + 1} of {len(df_prepared)} publications')\n",
    "        filename = f'document_{row[\"id\"]}'\n",
    "        pdf_url = row['url']\n",
    "        utils.download_pdf(url=pdf_url, filename=filename, write_folder_path=folder, timeout=10)\n",
    "\n",
    "\n",
    "download_pdf_from_cris(df_publications)\n",
    "\n"
   ],
   "metadata": {
    "collapsed": false,
    "pycharm": {
     "name": "#%%\n"
    }
   }
  },
  {
   "cell_type": "markdown",
   "source": [
    "### Example: Finding missing keywords\n",
    "Searching for publications that are not complete, with the scrape we could get the missing keywords here"
   ],
   "metadata": {
    "collapsed": false,
    "pycharm": {
     "name": "#%% md\n"
    }
   }
  },
  {
   "cell_type": "code",
   "execution_count": 22,
   "outputs": [
    {
     "data": {
      "text/plain": "           id   cris_id  cris_c4_id  \\\n1703    22913  17292119       22913   \n1797    25524  17456544       25524   \n2258    30720  17807442       30720   \n2737    46125  18894525       46125   \n2914    48566  19063464       48566   \n4133    80987  21568164       80987   \n4872    92164  20829855       92164   \n5386    99652  20345089       99652   \n5429   101077  20258749      101077   \n5628   104246  20053043      104246   \n5704   105297  19979297      105297   \n5741   105530  19965578      105530   \n6190   108664  19785480      108664   \n6316   110807  24209894      110807   \n6412   114996  23900550      114996   \n6724   116534  23797635      116534   \n6779   117697  23714719      117697   \n6965   119309  23644587      119309   \n7105   119689  23615857      119689   \n7555   127519   4518005      127519   \n8084   131015  14077460      131015   \n8085   131017  14077627      131017   \n8086   131018  14077707      131018   \n8087   131019  14077787      131019   \n8160   132255  16452315      132255   \n8664   143040  61330996      143040   \n8665   143041  61330897      143041   \n8795   145495  61172974      145495   \n8815   146464  61089188      146464   \n8816   146465  61089089      146465   \n8831   146839  61057348      146839   \n9134   148210  60937468      148210   \n9184   150242  60808068      150242   \n9210   150841  60754924      150841   \n9211   150911  60748666      150911   \n9214   150998  60741026      150998   \n9582   157855  60159236      157855   \n9591   158258  60123773      158258   \n9597   158580  60095426      158580   \n9602   158762  60078675      158762   \n9798   161186  73882517      161186   \n10120  166025  77667418      166025   \n10425  169525  80037894      169525   \n10427  169547  80035627      169547   \n10436  170005  79994853      170005   \n10522  172582  79754068      172582   \n10535  172690  79743147      172690   \n10587  173594  79654159      173594   \n\n                                                   title  subtitle  \\\n1703   Tracking down the business cycle: A dynamic fa...       NaN   \n1797   The Dynamic of Bicycle Finals: A Theoretical a...       NaN   \n2258                          The Absent-Minded Prisoner       NaN   \n2737   Rankings von Zeitschriften und Personen in der...       NaN   \n2914   Arbeitsmarktregulierung und nachvertraglicher ...       NaN   \n4133   Why Social Currency Becomes a Key Driver of a ...       NaN   \n4872   Graph Theory and Model Collection Management –...       NaN   \n5386   Bitcoin: A First Legal Analysis – with referen...       NaN   \n5429   Improving the State of the Art in Inexact TSP ...       NaN   \n5628   Extending Battery Management Systems for Makin...       NaN   \n5704   Scholars’ Physical Appearance, Research Perfor...       NaN   \n5741             Do Governments Tax Agglomeration Rents?       NaN   \n6190   The role and impact of comparison websites on ...       NaN   \n6316   Guiding the Introduction of Big Data in Organi...       NaN   \n6412   The R-Package FLACCO for Exploratory Landscape...       NaN   \n6724   ASlib: A Benchmark Library for Algorithm Selec...       NaN   \n6779    Medication infrastructure development in Germany       NaN   \n6965   Not all digital word of mouth is created equal...       NaN   \n7105   Empirical Generalizations on the Impact of Sta...       NaN   \n7555   All Citizens Are the Same, Aren’t They? – Deve...       NaN   \n8084             Grundlagen der Informationsmodellierung       NaN   \n8085   Entwicklung und Anwendung der Cooperation Expe...       NaN   \n8086   Management von Informationsobjekten in hybride...       NaN   \n8087   Erfahrbarkeit von hybriden Wertschöpfungsnetzw...       NaN   \n8160   A longitudinal comparison of capital structure...       NaN   \n8664                              Tutorials at PPSN 2018       NaN   \n8665                              Workshops at PPSN 2018       NaN   \n8795   Multimodality in Multi-Objective Optimization ...       NaN   \n8815   Interaktive, digitale Einkaufserlebnisse in In...       NaN   \n8816   Gestaltungsprinzipien für mobile, kontextbezog...       NaN   \n8831   From one-stop shop to no-stop shop: An e-gover...       NaN   \n9134   The Art of Structuring - Bridging the Gap Betw...       NaN   \n9184   App Adoption: The Effect On Purchasing Of Cust...       NaN   \n9210   Fiscal disparity, institutions and asymmetric ...       NaN   \n9211   Market reaction to asymmetric cost behavior: t...       NaN   \n9214   Semi-automatic inductive construction of refer...       NaN   \n9582   Standardization of Forms in Governments: A Met...       NaN   \n9591   Seven Paradoxes of Business Process Management...       NaN   \n9597   Building an Integrated Comment Moderation Syst...       NaN   \n9602   Abusive Comments in Online Media and How to Fi...       NaN   \n9798   Walking a Mile in Their Shoes—A Citizen Journe...       NaN   \n10120  High-Level Parallel Ant Colony Optimization wi...       NaN   \n10425  Hochschulübergreifende Digitale Lehr-/Lernkonz...       NaN   \n10427  Is YouTube Still a Radicalizer? An Exploratory...       NaN   \n10436            “Pay to Play” in the German Book Trade?       NaN   \n10522  Paper or Screen - Differences in Customer Pref...       NaN   \n10535  AI-Based Digital Assistants: Opportunities, Th...       NaN   \n10587  Do Environmental Policies Affect MNEs’ Foreign...       NaN   \n\n       title_in_source language external  content_type peer_reviewed  ...  \\\n1703               NaN  English      NaN           NaN            Ja  ...   \n1797               NaN  English       Ja           NaN            Ja  ...   \n2258               NaN  English       Ja           NaN            Ja  ...   \n2737               NaN   German       Ja           NaN            Ja  ...   \n2914               NaN   German     Nein           NaN            Ja  ...   \n4133               NaN  English       Ja           NaN            Ja  ...   \n4872               NaN  English       Ja           NaN            Ja  ...   \n5386               NaN  English       Ja           NaN            Ja  ...   \n5429               NaN  English       Ja           NaN            Ja  ...   \n5628               NaN  English       Ja           NaN            Ja  ...   \n5704               NaN  English       Ja           NaN            Ja  ...   \n5741               NaN  English       Ja           NaN            Ja  ...   \n6190               NaN  English       Ja           NaN            Ja  ...   \n6316               NaN  English       Ja           NaN            Ja  ...   \n6412               NaN  English       Ja           NaN            Ja  ...   \n6724               NaN  English       Ja           NaN            Ja  ...   \n6779               NaN  English       Ja           NaN            Ja  ...   \n6965               NaN  English       Ja           NaN            Ja  ...   \n7105               NaN  English       Ja           NaN            Ja  ...   \n7555               NaN  English       Ja           NaN            Ja  ...   \n8084               NaN   German       Ja           NaN          Nein  ...   \n8085               NaN   German       Ja           NaN          Nein  ...   \n8086               NaN   German       Ja           NaN          Nein  ...   \n8087               NaN   German       Ja           NaN          Nein  ...   \n8160               NaN  English       Ja           NaN            Ja  ...   \n8664               NaN  English       Ja           NaN            Ja  ...   \n8665               NaN  English       Ja           NaN            Ja  ...   \n8795               NaN  English       Ja           NaN            Ja  ...   \n8815               NaN   German       Ja           NaN            Ja  ...   \n8816               NaN   German       Ja           NaN            Ja  ...   \n8831               NaN  English       Ja           NaN            Ja  ...   \n9134               NaN  English       Ja           NaN          Nein  ...   \n9184               NaN  English     Nein           NaN            Ja  ...   \n9210               NaN  English       Ja           NaN            Ja  ...   \n9211               NaN  English       Ja           NaN            Ja  ...   \n9214               NaN  English       Ja           NaN            Ja  ...   \n9582               NaN  English       Ja           NaN            Ja  ...   \n9591               NaN  English       Ja           NaN            Ja  ...   \n9597               NaN  English       Ja           NaN            Ja  ...   \n9602               NaN  English       Ja           NaN            Ja  ...   \n9798               NaN  English       Ja           NaN            Ja  ...   \n10120              NaN  English       Ja           NaN            Ja  ...   \n10425              NaN   German       Ja           NaN            Ja  ...   \n10427              NaN  English       Ja           NaN            Ja  ...   \n10436              NaN  English       Ja           NaN          Nein  ...   \n10522              NaN  English     Nein           NaN            Ja  ...   \n10535              NaN  English     Nein           NaN          Nein  ...   \n10587              NaN  English       Ja           NaN            Ja  ...   \n\n                                title_of_series               place  \\\n1703                                        NaN                 NaN   \n1797                                        NaN             Münster   \n2258                                        NaN                 NaN   \n2737                                        NaN             Münster   \n2914                                        NaN                 NaN   \n4133                                        NaN                 NaN   \n4872                                        NaN                 NaN   \n5386                                        NaN                 NaN   \n5429                                        NaN                Cham   \n5628          Lecture Notes in Computer Science                 NaN   \n5704                                        NaN                 NaN   \n5741                                        NaN                 NaN   \n6190                                        NaN                 NaN   \n6316                                        NaN                 NaN   \n6412                                        NaN                 NaN   \n6724                                        NaN                 NaN   \n6779                         Health Informatics                 NaN   \n6965                                        NaN                 NaN   \n7105                                        NaN                 NaN   \n7555   Lecture Notes in Computer Science (LNCS)                 NaN   \n8084                                        NaN  Berlin, Heidelberg   \n8085                                        NaN  Berlin, Heidelberg   \n8086                                        NaN  Berlin, Heidelberg   \n8087                                        NaN  Berlin, Heidelberg   \n8160                                        NaN                 NaN   \n8664                                        NaN                Cham   \n8665                                        NaN                Cham   \n8795          Lecture Notes in Computer Science                 NaN   \n8815                                Edition HMD           Wiesbaden   \n8816                                Edition HMD           Wiesbaden   \n8831                                        NaN                 NaN   \n9134                                        NaN                 NaN   \n9184                                        NaN                 NaN   \n9210                                        NaN                 NaN   \n9211                                        NaN                 NaN   \n9214                                        NaN                 NaN   \n9582                                        NaN                 NaN   \n9591                                        NaN                 NaN   \n9597                                        NaN                 NaN   \n9602                                        NaN                 NaN   \n9798   Lecture Notes in Computer Science (LNCS)                Cham   \n10120                                       NaN                 NaN   \n10425                                       NaN                 NaN   \n10427                                       NaN                Cham   \n10436                                       NaN                 NaN   \n10522                                       NaN                 NaN   \n10535                                       NaN                 NaN   \n10587                                       NaN                 NaN   \n\n                               publisher               isbn  \\\n1703                                 NaN                NaN   \n1797                                 NaN                NaN   \n2258                                 NaN                NaN   \n2737                                 NaN                NaN   \n2914                                 NaN                NaN   \n4133                                 NaN                NaN   \n4872                                 NaN                NaN   \n5386                                 NaN                NaN   \n5429   Springer International Publishing                NaN   \n5628   Springer International Publishing                NaN   \n5704                                 NaN                NaN   \n5741                                 NaN                NaN   \n6190                                 NaN                NaN   \n6316                                 NaN                NaN   \n6412                                 NaN                NaN   \n6724                                 NaN                NaN   \n6779   Springer International Publishing  978-3-319-51020-0   \n6965                                 NaN                NaN   \n7105                                 NaN                NaN   \n7555                            Springer  978-3-319-64676-3   \n8084                     Springer Gabler  978-3-662-55361-9   \n8085                     Springer Gabler  978-3-662-55361-9   \n8086                     Springer Gabler  978-3-662-55361-9   \n8087                     Springer Gabler  978-3-662-55361-9   \n8160                                 NaN                NaN   \n8664   Springer International Publishing  978-3-319-99259-4   \n8665   Springer International Publishing  978-3-319-99259-4   \n8795                            Springer                NaN   \n8815                     Springer Vieweg  978-3-658-22541-4   \n8816                     Springer Vieweg  978-3-658-22541-4   \n8831                                 NaN                NaN   \n9134   Springer International Publishing  978-3-030-06233-0   \n9184                                 NaN                NaN   \n9210                                 NaN                NaN   \n9211                                 NaN                NaN   \n9214                                 NaN                NaN   \n9582                                 NaN                NaN   \n9591                                 NaN                NaN   \n9597                                 NaN                NaN   \n9602                                 NaN                NaN   \n9798                            Springer                NaN   \n10120                                NaN                NaN   \n10425                                NaN                NaN   \n10427  Springer International Publishing                NaN   \n10436                                NaN                NaN   \n10522                                NaN                NaN   \n10535                                NaN                NaN   \n10587                                NaN                NaN   \n\n                                 doi  \\\n1703       10.1016/j.eeh.2009.04.002   \n1797   10.1016/S0313-5926(09)50037-9   \n2258       10.1007/s10108-006-9011-1   \n2737       10.1007/s12354-010-0119-8   \n2914     10.1007/978-3-663-07711-4_9   \n4133       10.1016/j.lrp.2012.11.004   \n4872       10.1007/s10257-014-0243-6   \n5386     10.1007/978-3-662-44774-1_4   \n5429    10.1007/978-3-319-19084-6_18   \n5628    10.1007/978-3-319-18714-3_37   \n5704       10.1007/s11192-015-1623-5   \n5741       10.1016/j.jue.2012.11.004   \n6190       10.1007/s40558-015-0037-9   \n6316                             NaN   \n6412        10.1109/CEC.2016.7748359   \n6724    10.1016/j.artint.2016.04.003   \n6779       10.1007/978-3-319-51020-0   \n6965                             NaN   \n7105                             NaN   \n7555       10.1007/978-3-319-64677-0   \n8084     10.1007/978-3-662-55362-6_2   \n8085     10.1007/978-3-662-55362-6_2   \n8086     10.1007/978-3-662-55362-6_3   \n8087     10.1007/978-3-662-55362-6_3   \n8160                             NaN   \n8664    10.1007/978-3-319-99259-4_38   \n8665    10.1007/978-3-319-99259-4_39   \n8795    10.1007/978-3-030-12598-1_11   \n8815     10.1007/978-3-658-22542-1_8   \n8816     10.1007/978-3-658-22542-1_9   \n8831       10.1016/j.giq.2018.11.010   \n9134       10.1007/978-3-030-06234-7   \n9184    10.1016/j.intmar.2018.12.001   \n9210   10.1016/j.econlet.2019.04.029   \n9211      10.1007/s11846-019-00341-8   \n9214        10.1016/j.is.2019.03.001   \n9582      10.1007/s12599-019-00623-1   \n9591      10.1007/s12599-020-00646-z   \n9597     10.1007/978-3-030-49576-3_6   \n9602     10.1007/978-3-030-61841-4_9   \n9798    10.1007/978-3-030-57599-1_13   \n10120     10.1007/s10766-021-00714-1   \n10425     10.1365/s40702-021-00802-3   \n10427    10.1007/978-3-030-87031-7_4   \n10436     10.1007/s12109-021-09804-x   \n10522                            NaN   \n10535     10.1007/s12599-019-00600-8   \n10587     10.1007/s11575-021-00458-7   \n\n                                                     url  \\\n1703   http://www.sciencedirect.com/science?_ob=Artic...   \n1797   http://www.sciencedirect.com/science/article/p...   \n2258   http://link.springer.com/article/10.1007%2Fs10...   \n2737   http://link.springer.com/article/10.1007%2Fs12...   \n2914   http://link.springer.com/chapter/10.1007%2F978...   \n4133   http://www.sciencedirect.com/science/article/p...   \n4872   http://link.springer.com/article/10.1007/s1025...   \n5386   http://link.springer.com/chapter/10.1007%2F978...   \n5429   http://download.springer.com/static/pdf/93/chp...   \n5628   https://link.springer.com/content/pdf/10.1007%...   \n5704   http://link.springer.com/article/10.1007/s1119...   \n5741   http://www.sciencedirect.com/science/article/p...   \n6190   http://link.springer.com/article/10.1007/s4055...   \n6316   http://ieeexplore.ieee.org/xpls/abs_all.jsp?ar...   \n6412   http://ieeexplore.ieee.org/stamp/stamp.jsp?arn...   \n6724   http://www.sciencedirect.com/science/article/p...   \n6779   https://link.springer.com/book/10.1007%2F978-3...   \n6965   http://www.sciencedirect.com/science/article/p...   \n7105   http://www.sciencedirect.com/science/article/p...   \n7555   https://link.springer.com/book/10.1007/978-3-3...   \n8084   https://link.springer.com/chapter/10.1007/978-...   \n8085   https://link.springer.com/chapter/10.1007/978-...   \n8086   https://link.springer.com/chapter/10.1007/978-...   \n8087   https://link.springer.com/chapter/10.1007/978-...   \n8160   http://www.sciencedirect.com/science/article/p...   \n8664   https://link.springer.com/chapter/10.1007/978-...   \n8665   https://link.springer.com/chapter/10.1007/978-...   \n8795   https://link.springer.com/chapter/10.1007/978-...   \n8815   https://link.springer.com/chapter/10.1007/978-...   \n8816   https://link.springer.com/chapter/10.1007/978-...   \n8831   https://www.sciencedirect.com/science/article/...   \n9134   https://link.springer.com/book/10.1007%2F978-3...   \n9184   https://www.sciencedirect.com/science/article/...   \n9210   https://www.sciencedirect.com/science/article/...   \n9211   https://link.springer.com/article/10.1007/s118...   \n9214   https://www.sciencedirect.com/science/article/...   \n9582   https://link.springer.com/article/10.1007%2Fs1...   \n9591   https://link.springer.com/article/10.1007/s125...   \n9597   https://link.springer.com/chapter/10.1007/978-...   \n9602   https://link.springer.com/chapter/10.1007%2F97...   \n9798   https://link.springer.com/chapter/10.1007/978-...   \n10120  https://link.springer.com/article/10.1007/s107...   \n10425  https://link.springer.com/article/10.1365%2Fs4...   \n10427  https://link.springer.com/chapter/10.1007/978-...   \n10436  https://link.springer.com/article/10.1007/s121...   \n10522       https://ieeexplore.ieee.org/document/7070223   \n10535  https://link.springer.com/article/10.1007/s125...   \n10587  https://link.springer.com/article/10.1007/s115...   \n\n                                                 authors  \\\n1703                                Sarferaz S, Uebele M   \n1797                      Dilger Alexander, Geyer Hannah   \n2258                                    Dilger Alexander   \n2737                                    Dilger Alexander   \n2914        Frick Bernd, Dilger Alexander, Prinz Joachim   \n4133   Lobschat L, Zinnbauer MA, Pallas F, Joachimsth...   \n4872   Breuker Dominic, Delfmann Patrick, Dietrich Ha...   \n5386                                        Boehm, Pesch   \n5429   Kotthoff Lars, Kerschke Pascal, Hoos Holger H,...   \n5628   Monhof Markus, Beverungen Daniel, Klör Benjami...   \n5704   Dilger Alexander, Lütkenhöner Laura, Müller Harry   \n5741                    Böhm T. , Koh H.  and  Riedel N.   \n6190                      Holland CP, Jacobs JA, Klein S   \n6316   Vanauer, Martin, Bohle, Carsten, & Hellingrath...   \n6412                    Kerschke Pascal, Trautmann Heike   \n6724   Bischl Bernd, Kerschke Pascal, Kotthoff Lars, ...   \n6779                             Klein S, Schellhammer S   \n6965   Marchand André, Hennig-Thurau Thorsten, Wiertz...   \n7105   Hofmann Julian, Clement Michel, Völckner Franz...   \n7555                         Distel Bettina, Becker Jörg   \n8084   Bräuer Sebastian, Knackstedt Ralf, Scholta Hen...   \n8085   Bräuer Sebastian, Scholta Hendrik, Strotmeier ...   \n8086   Runschke Florian, Dageförde Jan, Scholta Hendr...   \n8087                   Bräuer Sebastian, Scholta Hendrik   \n8160   Siqueira Ana Cristina O., Guenster Nadja, Vana...   \n8664   Pappa Gisele Lobo, Emmerich Michael TM, Bazzan...   \n8665   Purshouse Robin, Zarges Christine, Cussat-Blan...   \n8795   Grimme Christian, Kerschke Pascal, Trautmann H...   \n8815   Betzing Jan Hendrik, Beverungen Daniel, Becker...   \n8816   Betzing Jan Hendrik, Beverungen Daniel, Becker...   \n8831   Scholta Hendrik, Mertens Willem, Kowalkiewicz ...   \n9134                                                 NaN   \n9184                Liu H, Lobschat L, Verhoef P, Zhao H   \n9210                                         Farah, Alfa   \n9211                         Silge, Lisa; Wöhrmann, Arnt   \n9214   Scholta Hendrik, Niemann Marco, Delfmann Patri...   \n9582   Scholta Hendrik, Balta Dian, Räckers Michael, ...   \n9591   Beverungen Daniel, Buijs Joos, Becker Jörg, di...   \n9597   Riehle Dennis M.,\\nNiemann Marco,\\nBrunk Jens,...   \n9602   Niemann Marco, Welsing Jens, Riehle Dennis M, ...   \n9798   Scholta Hendrik, Halsbenning Sebastian, Distel...   \n10120  Menezes Breno, Herrmann Nina, Kuchen Herbert, ...   \n10425       Plattfaut Ralf, Stein Armin, Bergener Katrin   \n10427                               Markmann S, Grimme C   \n10436  Norrick-Rühl Corinna, Peter Christian, Schüler...   \n10522  Berger Benedikt, Matt Christian, Steininger De...   \n10535  Mädche Alexander, Legner Christine, Benlian Al...   \n10587  Zilja Flladina, Adarkwah Gilbert, Sabel Christ...   \n\n                                                 strings  \\\n1703   [[[entry:ApaHtml]]]Sarferaz, S., & Uebele, M. ...   \n1797   [[[entry:ApaHtml]]]Dilger, A., & Geyer, H. (20...   \n2258   [[[entry:ApaHtml]]]Dilger, A. (2006). The Abse...   \n2737   [[[entry:ApaHtml]]]Dilger, A. (2010). Rankings...   \n2914   [[[entry:ApaHtml]]]Frick, B., Dilger, A., & Pr...   \n4133   [[[entry:ApaHtml]]]Lobschat, L., Zinnbauer, M....   \n4872   [[[entry:ApaHtml]]]Breuker, D., Delfmann, P., ...   \n5386   [[[entry:ApaHtml]]]Boehm, P. (2014). Bitcoin: ...   \n5429   [[[entry:ApaHtml]]]Kotthoff, L., Kerschke, P.,...   \n5628   [[[entry:ApaHtml]]]Monhof, M., Beverungen, D.,...   \n5704   [[[entry:ApaHtml]]]Dilger, A., Lütkenhöner, L....   \n5741   [[[entry:ApaHtml]]]Böhm, T., & Koh, H.  a.  R....   \n6190   [[[entry:ApaHtml]]]Holland, C., Jacobs, J., & ...   \n6316   [[[entry:ApaHtml]]]Vanauer, M., Bohle, C., & H...   \n6412   [[[entry:ApaHtml]]]Kerschke, P., & Trautmann, ...   \n6724   [[[entry:ApaHtml]]]Bischl, B., Kerschke, P., K...   \n6779   [[[entry:ApaHtml]]]Klein, S., & Schellhammer, ...   \n6965   [[[entry:ApaHtml]]]Marchand, A., Hennig-Thurau...   \n7105   [[[entry:ApaHtml]]]Hofmann, J., Clement, M., V...   \n7555   [[[entry:ApaHtml]]]Distel, B., & Becker, J. (2...   \n8084   [[[entry:ApaHtml]]]Bräuer, S., Knackstedt, R.,...   \n8085   [[[entry:ApaHtml]]]Bräuer, S., Scholta, H., St...   \n8086   [[[entry:ApaHtml]]]Runschke, F., Dageförde, J....   \n8087   [[[entry:ApaHtml]]]Bräuer, S., & Scholta, H. (...   \n8160   [[[entry:ApaHtml]]]Siqueira, A. C. O., Guenste...   \n8664   [[[entry:ApaHtml]]]Pappa, G. L., Emmerich, M. ...   \n8665   [[[entry:ApaHtml]]]Purshouse, R., Zarges, C., ...   \n8795   [[[entry:ApaHtml]]]Grimme, C., Kerschke, P., &...   \n8815   [[[entry:ApaHtml]]]Betzing, J. H., Beverungen,...   \n8816   [[[entry:ApaHtml]]]Betzing, J. H., Beverungen,...   \n8831   [[[entry:ApaHtml]]]Scholta, H., Mertens, W., K...   \n9134   [[[entry:ApaHtml]]]Bergener, K., Räckers, M., ...   \n9184   [[[entry:ApaHtml]]]Liu, H., Lobschat, L., Verh...   \n9210   [[[entry:ApaHtml]]]Farah, A. (2019). Fiscal di...   \n9211   [[[entry:ApaHtml]]]Silge, L., & Wöhrmann, A. (...   \n9214   [[[entry:ApaHtml]]]Scholta, H., Niemann, M., D...   \n9582   [[[entry:ApaHtml]]]Scholta, H., Balta, D., Räc...   \n9591   [[[entry:ApaHtml]]]Beverungen, D., Buijs, J., ...   \n9597   [[[entry:ApaHtml]]]Riehle, D. M., Niemann, M.,...   \n9602   [[[entry:ApaHtml]]]Niemann, M., Welsing, J., R...   \n9798   [[[entry:ApaHtml]]]Scholta, H., Halsbenning, S...   \n10120  [[[entry:ApaHtml]]]Menezes, B., Herrmann, N., ...   \n10425  [[[entry:ApaHtml]]]Plattfaut, R., Stein, A., &...   \n10427  [[[entry:ApaHtml]]]Markmann, S., & Grimme, C. ...   \n10436  [[[entry:ApaHtml]]]Norrick-Rühl, C., Peter, C....   \n10522  [[[entry:ApaHtml]]]Berger, B., Matt, C., Stein...   \n10535  [[[entry:ApaHtml]]]Mädche, A., Legner, C., Ben...   \n10587  [[[entry:ApaHtml]]]Zilja, F., Adarkwah, G., & ...   \n\n                                              sort_order client_purpose  \n1703                      7990-1060-Sarferaz S, Uebele M            NaN  \n1797            7990-1060-Dilger Alexander, Geyer Hannah            NaN  \n2258                          7993-1060-Dilger Alexander            NaN  \n2737                          7989-1060-Dilger Alexander            NaN  \n2914   7997-1060-Frick Bernd, Dilger Alexander, Prinz...            NaN  \n4133   7986-1060-Lobschat L, Zinnbauer MA, Pallas F, ...            NaN  \n4872   7984-1060-Breuker Dominic, Delfmann Patrick, D...            NaN  \n5386                              7985-1040-Boehm, Pesch            NaN  \n5429   7984-1040-Kotthoff Lars, Kerschke Pascal, Hoos...            NaN  \n5628   7984-1040-Monhof Markus, Beverungen Daniel, Kl...            NaN  \n5704   7984-1060-Dilger Alexander, Lütkenhöner Laura,...            NaN  \n5741          7986-1060-Böhm T. , Koh H.  and  Riedel N.            NaN  \n6190            7983-1060-Holland CP, Jacobs JA, Klein S            NaN  \n6316   7984-1040-Vanauer, Martin, Bohle, Carsten, & H...            NaN  \n6412          7983-1040-Kerschke Pascal, Trautmann Heike            NaN  \n6724   7983-1060-Bischl Bernd, Kerschke Pascal, Kotth...            NaN  \n6779                   7982-1030-Klein S, Schellhammer S            NaN  \n6965   7982-1060-Marchand André, Hennig-Thurau Thorst...            NaN  \n7105   7982-1060-Hofmann Julian, Clement Michel, Völc...            NaN  \n7555               7982-1040-Distel Bettina, Becker Jörg            NaN  \n8084   7982-1030-Bräuer Sebastian, Knackstedt Ralf, S...            NaN  \n8085   7982-1030-Bräuer Sebastian, Scholta Hendrik, S...            NaN  \n8086   7982-1030-Runschke Florian, Dageförde Jan, Sch...            NaN  \n8087         7982-1030-Bräuer Sebastian, Scholta Hendrik            NaN  \n8160   7981-1060-Siqueira Ana Cristina O., Guenster N...            NaN  \n8664   7981-1040-Pappa Gisele Lobo, Emmerich Michael ...            NaN  \n8665   7981-1040-Purshouse Robin, Zarges Christine, C...            NaN  \n8795   7980-1040-Grimme Christian, Kerschke Pascal, T...            NaN  \n8815   7980-1030-Betzing Jan Hendrik, Beverungen Dani...            NaN  \n8816   7980-1030-Betzing Jan Hendrik, Beverungen Dani...            NaN  \n8831   7980-1060-Scholta Hendrik, Mertens Willem, Kow...            NaN  \n9134                                          7980-1020-            NaN  \n9184      7980-1060-Liu H, Lobschat L, Verhoef P, Zhao H            NaN  \n9210                               7980-1060-Farah, Alfa            NaN  \n9211               7978-1060-Silge, Lisa; Wöhrmann, Arnt            NaN  \n9214   7980-1060-Scholta Hendrik, Niemann Marco, Delf...            NaN  \n9582   7979-1060-Scholta Hendrik, Balta Dian, Räckers...            NaN  \n9591   7979-1060-Beverungen Daniel, Buijs Joos, Becke...            NaN  \n9597   7979-1040-Riehle Dennis M.,\\nNiemann Marco,\\nB...            NaN  \n9602   7979-1040-Niemann Marco, Welsing Jens, Riehle ...            NaN  \n9798   7979-1040-Scholta Hendrik, Halsbenning Sebasti...            NaN  \n10120  7978-1060-Menezes Breno, Herrmann Nina, Kuchen...            NaN  \n10425  7978-1060-Plattfaut Ralf, Stein Armin, Bergene...            NaN  \n10427                     7978-1040-Markmann S, Grimme C            NaN  \n10436  7978-1060-Norrick-Rühl Corinna, Peter Christia...            NaN  \n10522  7984-1040-Berger Benedikt, Matt Christian, Ste...            NaN  \n10535  7980-1060-Mädche Alexander, Legner Christine, ...            NaN  \n10587  7977-1060-Zilja Flladina, Adarkwah Gilbert, Sa...            NaN  \n\n[48 rows x 46 columns]",
      "text/html": "<div>\n<style scoped>\n    .dataframe tbody tr th:only-of-type {\n        vertical-align: middle;\n    }\n\n    .dataframe tbody tr th {\n        vertical-align: top;\n    }\n\n    .dataframe thead th {\n        text-align: right;\n    }\n</style>\n<table border=\"1\" class=\"dataframe\">\n  <thead>\n    <tr style=\"text-align: right;\">\n      <th></th>\n      <th>id</th>\n      <th>cris_id</th>\n      <th>cris_c4_id</th>\n      <th>title</th>\n      <th>subtitle</th>\n      <th>title_in_source</th>\n      <th>language</th>\n      <th>external</th>\n      <th>content_type</th>\n      <th>peer_reviewed</th>\n      <th>...</th>\n      <th>title_of_series</th>\n      <th>place</th>\n      <th>publisher</th>\n      <th>isbn</th>\n      <th>doi</th>\n      <th>url</th>\n      <th>authors</th>\n      <th>strings</th>\n      <th>sort_order</th>\n      <th>client_purpose</th>\n    </tr>\n  </thead>\n  <tbody>\n    <tr>\n      <th>1703</th>\n      <td>22913</td>\n      <td>17292119</td>\n      <td>22913</td>\n      <td>Tracking down the business cycle: A dynamic fa...</td>\n      <td>NaN</td>\n      <td>NaN</td>\n      <td>English</td>\n      <td>NaN</td>\n      <td>NaN</td>\n      <td>Ja</td>\n      <td>...</td>\n      <td>NaN</td>\n      <td>NaN</td>\n      <td>NaN</td>\n      <td>NaN</td>\n      <td>10.1016/j.eeh.2009.04.002</td>\n      <td>http://www.sciencedirect.com/science?_ob=Artic...</td>\n      <td>Sarferaz S, Uebele M</td>\n      <td>[[[entry:ApaHtml]]]Sarferaz, S., &amp; Uebele, M. ...</td>\n      <td>7990-1060-Sarferaz S, Uebele M</td>\n      <td>NaN</td>\n    </tr>\n    <tr>\n      <th>1797</th>\n      <td>25524</td>\n      <td>17456544</td>\n      <td>25524</td>\n      <td>The Dynamic of Bicycle Finals: A Theoretical a...</td>\n      <td>NaN</td>\n      <td>NaN</td>\n      <td>English</td>\n      <td>Ja</td>\n      <td>NaN</td>\n      <td>Ja</td>\n      <td>...</td>\n      <td>NaN</td>\n      <td>Münster</td>\n      <td>NaN</td>\n      <td>NaN</td>\n      <td>10.1016/S0313-5926(09)50037-9</td>\n      <td>http://www.sciencedirect.com/science/article/p...</td>\n      <td>Dilger Alexander, Geyer Hannah</td>\n      <td>[[[entry:ApaHtml]]]Dilger, A., &amp; Geyer, H. (20...</td>\n      <td>7990-1060-Dilger Alexander, Geyer Hannah</td>\n      <td>NaN</td>\n    </tr>\n    <tr>\n      <th>2258</th>\n      <td>30720</td>\n      <td>17807442</td>\n      <td>30720</td>\n      <td>The Absent-Minded Prisoner</td>\n      <td>NaN</td>\n      <td>NaN</td>\n      <td>English</td>\n      <td>Ja</td>\n      <td>NaN</td>\n      <td>Ja</td>\n      <td>...</td>\n      <td>NaN</td>\n      <td>NaN</td>\n      <td>NaN</td>\n      <td>NaN</td>\n      <td>10.1007/s10108-006-9011-1</td>\n      <td>http://link.springer.com/article/10.1007%2Fs10...</td>\n      <td>Dilger Alexander</td>\n      <td>[[[entry:ApaHtml]]]Dilger, A. (2006). The Abse...</td>\n      <td>7993-1060-Dilger Alexander</td>\n      <td>NaN</td>\n    </tr>\n    <tr>\n      <th>2737</th>\n      <td>46125</td>\n      <td>18894525</td>\n      <td>46125</td>\n      <td>Rankings von Zeitschriften und Personen in der...</td>\n      <td>NaN</td>\n      <td>NaN</td>\n      <td>German</td>\n      <td>Ja</td>\n      <td>NaN</td>\n      <td>Ja</td>\n      <td>...</td>\n      <td>NaN</td>\n      <td>Münster</td>\n      <td>NaN</td>\n      <td>NaN</td>\n      <td>10.1007/s12354-010-0119-8</td>\n      <td>http://link.springer.com/article/10.1007%2Fs12...</td>\n      <td>Dilger Alexander</td>\n      <td>[[[entry:ApaHtml]]]Dilger, A. (2010). Rankings...</td>\n      <td>7989-1060-Dilger Alexander</td>\n      <td>NaN</td>\n    </tr>\n    <tr>\n      <th>2914</th>\n      <td>48566</td>\n      <td>19063464</td>\n      <td>48566</td>\n      <td>Arbeitsmarktregulierung und nachvertraglicher ...</td>\n      <td>NaN</td>\n      <td>NaN</td>\n      <td>German</td>\n      <td>Nein</td>\n      <td>NaN</td>\n      <td>Ja</td>\n      <td>...</td>\n      <td>NaN</td>\n      <td>NaN</td>\n      <td>NaN</td>\n      <td>NaN</td>\n      <td>10.1007/978-3-663-07711-4_9</td>\n      <td>http://link.springer.com/chapter/10.1007%2F978...</td>\n      <td>Frick Bernd, Dilger Alexander, Prinz Joachim</td>\n      <td>[[[entry:ApaHtml]]]Frick, B., Dilger, A., &amp; Pr...</td>\n      <td>7997-1060-Frick Bernd, Dilger Alexander, Prinz...</td>\n      <td>NaN</td>\n    </tr>\n    <tr>\n      <th>4133</th>\n      <td>80987</td>\n      <td>21568164</td>\n      <td>80987</td>\n      <td>Why Social Currency Becomes a Key Driver of a ...</td>\n      <td>NaN</td>\n      <td>NaN</td>\n      <td>English</td>\n      <td>Ja</td>\n      <td>NaN</td>\n      <td>Ja</td>\n      <td>...</td>\n      <td>NaN</td>\n      <td>NaN</td>\n      <td>NaN</td>\n      <td>NaN</td>\n      <td>10.1016/j.lrp.2012.11.004</td>\n      <td>http://www.sciencedirect.com/science/article/p...</td>\n      <td>Lobschat L, Zinnbauer MA, Pallas F, Joachimsth...</td>\n      <td>[[[entry:ApaHtml]]]Lobschat, L., Zinnbauer, M....</td>\n      <td>7986-1060-Lobschat L, Zinnbauer MA, Pallas F, ...</td>\n      <td>NaN</td>\n    </tr>\n    <tr>\n      <th>4872</th>\n      <td>92164</td>\n      <td>20829855</td>\n      <td>92164</td>\n      <td>Graph Theory and Model Collection Management –...</td>\n      <td>NaN</td>\n      <td>NaN</td>\n      <td>English</td>\n      <td>Ja</td>\n      <td>NaN</td>\n      <td>Ja</td>\n      <td>...</td>\n      <td>NaN</td>\n      <td>NaN</td>\n      <td>NaN</td>\n      <td>NaN</td>\n      <td>10.1007/s10257-014-0243-6</td>\n      <td>http://link.springer.com/article/10.1007/s1025...</td>\n      <td>Breuker Dominic, Delfmann Patrick, Dietrich Ha...</td>\n      <td>[[[entry:ApaHtml]]]Breuker, D., Delfmann, P., ...</td>\n      <td>7984-1060-Breuker Dominic, Delfmann Patrick, D...</td>\n      <td>NaN</td>\n    </tr>\n    <tr>\n      <th>5386</th>\n      <td>99652</td>\n      <td>20345089</td>\n      <td>99652</td>\n      <td>Bitcoin: A First Legal Analysis – with referen...</td>\n      <td>NaN</td>\n      <td>NaN</td>\n      <td>English</td>\n      <td>Ja</td>\n      <td>NaN</td>\n      <td>Ja</td>\n      <td>...</td>\n      <td>NaN</td>\n      <td>NaN</td>\n      <td>NaN</td>\n      <td>NaN</td>\n      <td>10.1007/978-3-662-44774-1_4</td>\n      <td>http://link.springer.com/chapter/10.1007%2F978...</td>\n      <td>Boehm, Pesch</td>\n      <td>[[[entry:ApaHtml]]]Boehm, P. (2014). Bitcoin: ...</td>\n      <td>7985-1040-Boehm, Pesch</td>\n      <td>NaN</td>\n    </tr>\n    <tr>\n      <th>5429</th>\n      <td>101077</td>\n      <td>20258749</td>\n      <td>101077</td>\n      <td>Improving the State of the Art in Inexact TSP ...</td>\n      <td>NaN</td>\n      <td>NaN</td>\n      <td>English</td>\n      <td>Ja</td>\n      <td>NaN</td>\n      <td>Ja</td>\n      <td>...</td>\n      <td>NaN</td>\n      <td>Cham</td>\n      <td>Springer International Publishing</td>\n      <td>NaN</td>\n      <td>10.1007/978-3-319-19084-6_18</td>\n      <td>http://download.springer.com/static/pdf/93/chp...</td>\n      <td>Kotthoff Lars, Kerschke Pascal, Hoos Holger H,...</td>\n      <td>[[[entry:ApaHtml]]]Kotthoff, L., Kerschke, P.,...</td>\n      <td>7984-1040-Kotthoff Lars, Kerschke Pascal, Hoos...</td>\n      <td>NaN</td>\n    </tr>\n    <tr>\n      <th>5628</th>\n      <td>104246</td>\n      <td>20053043</td>\n      <td>104246</td>\n      <td>Extending Battery Management Systems for Makin...</td>\n      <td>NaN</td>\n      <td>NaN</td>\n      <td>English</td>\n      <td>Ja</td>\n      <td>NaN</td>\n      <td>Ja</td>\n      <td>...</td>\n      <td>Lecture Notes in Computer Science</td>\n      <td>NaN</td>\n      <td>Springer International Publishing</td>\n      <td>NaN</td>\n      <td>10.1007/978-3-319-18714-3_37</td>\n      <td>https://link.springer.com/content/pdf/10.1007%...</td>\n      <td>Monhof Markus, Beverungen Daniel, Klör Benjami...</td>\n      <td>[[[entry:ApaHtml]]]Monhof, M., Beverungen, D.,...</td>\n      <td>7984-1040-Monhof Markus, Beverungen Daniel, Kl...</td>\n      <td>NaN</td>\n    </tr>\n    <tr>\n      <th>5704</th>\n      <td>105297</td>\n      <td>19979297</td>\n      <td>105297</td>\n      <td>Scholars’ Physical Appearance, Research Perfor...</td>\n      <td>NaN</td>\n      <td>NaN</td>\n      <td>English</td>\n      <td>Ja</td>\n      <td>NaN</td>\n      <td>Ja</td>\n      <td>...</td>\n      <td>NaN</td>\n      <td>NaN</td>\n      <td>NaN</td>\n      <td>NaN</td>\n      <td>10.1007/s11192-015-1623-5</td>\n      <td>http://link.springer.com/article/10.1007/s1119...</td>\n      <td>Dilger Alexander, Lütkenhöner Laura, Müller Harry</td>\n      <td>[[[entry:ApaHtml]]]Dilger, A., Lütkenhöner, L....</td>\n      <td>7984-1060-Dilger Alexander, Lütkenhöner Laura,...</td>\n      <td>NaN</td>\n    </tr>\n    <tr>\n      <th>5741</th>\n      <td>105530</td>\n      <td>19965578</td>\n      <td>105530</td>\n      <td>Do Governments Tax Agglomeration Rents?</td>\n      <td>NaN</td>\n      <td>NaN</td>\n      <td>English</td>\n      <td>Ja</td>\n      <td>NaN</td>\n      <td>Ja</td>\n      <td>...</td>\n      <td>NaN</td>\n      <td>NaN</td>\n      <td>NaN</td>\n      <td>NaN</td>\n      <td>10.1016/j.jue.2012.11.004</td>\n      <td>http://www.sciencedirect.com/science/article/p...</td>\n      <td>Böhm T. , Koh H.  and  Riedel N.</td>\n      <td>[[[entry:ApaHtml]]]Böhm, T., &amp; Koh, H.  a.  R....</td>\n      <td>7986-1060-Böhm T. , Koh H.  and  Riedel N.</td>\n      <td>NaN</td>\n    </tr>\n    <tr>\n      <th>6190</th>\n      <td>108664</td>\n      <td>19785480</td>\n      <td>108664</td>\n      <td>The role and impact of comparison websites on ...</td>\n      <td>NaN</td>\n      <td>NaN</td>\n      <td>English</td>\n      <td>Ja</td>\n      <td>NaN</td>\n      <td>Ja</td>\n      <td>...</td>\n      <td>NaN</td>\n      <td>NaN</td>\n      <td>NaN</td>\n      <td>NaN</td>\n      <td>10.1007/s40558-015-0037-9</td>\n      <td>http://link.springer.com/article/10.1007/s4055...</td>\n      <td>Holland CP, Jacobs JA, Klein S</td>\n      <td>[[[entry:ApaHtml]]]Holland, C., Jacobs, J., &amp; ...</td>\n      <td>7983-1060-Holland CP, Jacobs JA, Klein S</td>\n      <td>NaN</td>\n    </tr>\n    <tr>\n      <th>6316</th>\n      <td>110807</td>\n      <td>24209894</td>\n      <td>110807</td>\n      <td>Guiding the Introduction of Big Data in Organi...</td>\n      <td>NaN</td>\n      <td>NaN</td>\n      <td>English</td>\n      <td>Ja</td>\n      <td>NaN</td>\n      <td>Ja</td>\n      <td>...</td>\n      <td>NaN</td>\n      <td>NaN</td>\n      <td>NaN</td>\n      <td>NaN</td>\n      <td>NaN</td>\n      <td>http://ieeexplore.ieee.org/xpls/abs_all.jsp?ar...</td>\n      <td>Vanauer, Martin, Bohle, Carsten, &amp; Hellingrath...</td>\n      <td>[[[entry:ApaHtml]]]Vanauer, M., Bohle, C., &amp; H...</td>\n      <td>7984-1040-Vanauer, Martin, Bohle, Carsten, &amp; H...</td>\n      <td>NaN</td>\n    </tr>\n    <tr>\n      <th>6412</th>\n      <td>114996</td>\n      <td>23900550</td>\n      <td>114996</td>\n      <td>The R-Package FLACCO for Exploratory Landscape...</td>\n      <td>NaN</td>\n      <td>NaN</td>\n      <td>English</td>\n      <td>Ja</td>\n      <td>NaN</td>\n      <td>Ja</td>\n      <td>...</td>\n      <td>NaN</td>\n      <td>NaN</td>\n      <td>NaN</td>\n      <td>NaN</td>\n      <td>10.1109/CEC.2016.7748359</td>\n      <td>http://ieeexplore.ieee.org/stamp/stamp.jsp?arn...</td>\n      <td>Kerschke Pascal, Trautmann Heike</td>\n      <td>[[[entry:ApaHtml]]]Kerschke, P., &amp; Trautmann, ...</td>\n      <td>7983-1040-Kerschke Pascal, Trautmann Heike</td>\n      <td>NaN</td>\n    </tr>\n    <tr>\n      <th>6724</th>\n      <td>116534</td>\n      <td>23797635</td>\n      <td>116534</td>\n      <td>ASlib: A Benchmark Library for Algorithm Selec...</td>\n      <td>NaN</td>\n      <td>NaN</td>\n      <td>English</td>\n      <td>Ja</td>\n      <td>NaN</td>\n      <td>Ja</td>\n      <td>...</td>\n      <td>NaN</td>\n      <td>NaN</td>\n      <td>NaN</td>\n      <td>NaN</td>\n      <td>10.1016/j.artint.2016.04.003</td>\n      <td>http://www.sciencedirect.com/science/article/p...</td>\n      <td>Bischl Bernd, Kerschke Pascal, Kotthoff Lars, ...</td>\n      <td>[[[entry:ApaHtml]]]Bischl, B., Kerschke, P., K...</td>\n      <td>7983-1060-Bischl Bernd, Kerschke Pascal, Kotth...</td>\n      <td>NaN</td>\n    </tr>\n    <tr>\n      <th>6779</th>\n      <td>117697</td>\n      <td>23714719</td>\n      <td>117697</td>\n      <td>Medication infrastructure development in Germany</td>\n      <td>NaN</td>\n      <td>NaN</td>\n      <td>English</td>\n      <td>Ja</td>\n      <td>NaN</td>\n      <td>Ja</td>\n      <td>...</td>\n      <td>Health Informatics</td>\n      <td>NaN</td>\n      <td>Springer International Publishing</td>\n      <td>978-3-319-51020-0</td>\n      <td>10.1007/978-3-319-51020-0</td>\n      <td>https://link.springer.com/book/10.1007%2F978-3...</td>\n      <td>Klein S, Schellhammer S</td>\n      <td>[[[entry:ApaHtml]]]Klein, S., &amp; Schellhammer, ...</td>\n      <td>7982-1030-Klein S, Schellhammer S</td>\n      <td>NaN</td>\n    </tr>\n    <tr>\n      <th>6965</th>\n      <td>119309</td>\n      <td>23644587</td>\n      <td>119309</td>\n      <td>Not all digital word of mouth is created equal...</td>\n      <td>NaN</td>\n      <td>NaN</td>\n      <td>English</td>\n      <td>Ja</td>\n      <td>NaN</td>\n      <td>Ja</td>\n      <td>...</td>\n      <td>NaN</td>\n      <td>NaN</td>\n      <td>NaN</td>\n      <td>NaN</td>\n      <td>NaN</td>\n      <td>http://www.sciencedirect.com/science/article/p...</td>\n      <td>Marchand André, Hennig-Thurau Thorsten, Wiertz...</td>\n      <td>[[[entry:ApaHtml]]]Marchand, A., Hennig-Thurau...</td>\n      <td>7982-1060-Marchand André, Hennig-Thurau Thorst...</td>\n      <td>NaN</td>\n    </tr>\n    <tr>\n      <th>7105</th>\n      <td>119689</td>\n      <td>23615857</td>\n      <td>119689</td>\n      <td>Empirical Generalizations on the Impact of Sta...</td>\n      <td>NaN</td>\n      <td>NaN</td>\n      <td>English</td>\n      <td>Ja</td>\n      <td>NaN</td>\n      <td>Ja</td>\n      <td>...</td>\n      <td>NaN</td>\n      <td>NaN</td>\n      <td>NaN</td>\n      <td>NaN</td>\n      <td>NaN</td>\n      <td>http://www.sciencedirect.com/science/article/p...</td>\n      <td>Hofmann Julian, Clement Michel, Völckner Franz...</td>\n      <td>[[[entry:ApaHtml]]]Hofmann, J., Clement, M., V...</td>\n      <td>7982-1060-Hofmann Julian, Clement Michel, Völc...</td>\n      <td>NaN</td>\n    </tr>\n    <tr>\n      <th>7555</th>\n      <td>127519</td>\n      <td>4518005</td>\n      <td>127519</td>\n      <td>All Citizens Are the Same, Aren’t They? – Deve...</td>\n      <td>NaN</td>\n      <td>NaN</td>\n      <td>English</td>\n      <td>Ja</td>\n      <td>NaN</td>\n      <td>Ja</td>\n      <td>...</td>\n      <td>Lecture Notes in Computer Science (LNCS)</td>\n      <td>NaN</td>\n      <td>Springer</td>\n      <td>978-3-319-64676-3</td>\n      <td>10.1007/978-3-319-64677-0</td>\n      <td>https://link.springer.com/book/10.1007/978-3-3...</td>\n      <td>Distel Bettina, Becker Jörg</td>\n      <td>[[[entry:ApaHtml]]]Distel, B., &amp; Becker, J. (2...</td>\n      <td>7982-1040-Distel Bettina, Becker Jörg</td>\n      <td>NaN</td>\n    </tr>\n    <tr>\n      <th>8084</th>\n      <td>131015</td>\n      <td>14077460</td>\n      <td>131015</td>\n      <td>Grundlagen der Informationsmodellierung</td>\n      <td>NaN</td>\n      <td>NaN</td>\n      <td>German</td>\n      <td>Ja</td>\n      <td>NaN</td>\n      <td>Nein</td>\n      <td>...</td>\n      <td>NaN</td>\n      <td>Berlin, Heidelberg</td>\n      <td>Springer Gabler</td>\n      <td>978-3-662-55361-9</td>\n      <td>10.1007/978-3-662-55362-6_2</td>\n      <td>https://link.springer.com/chapter/10.1007/978-...</td>\n      <td>Bräuer Sebastian, Knackstedt Ralf, Scholta Hen...</td>\n      <td>[[[entry:ApaHtml]]]Bräuer, S., Knackstedt, R.,...</td>\n      <td>7982-1030-Bräuer Sebastian, Knackstedt Ralf, S...</td>\n      <td>NaN</td>\n    </tr>\n    <tr>\n      <th>8085</th>\n      <td>131017</td>\n      <td>14077627</td>\n      <td>131017</td>\n      <td>Entwicklung und Anwendung der Cooperation Expe...</td>\n      <td>NaN</td>\n      <td>NaN</td>\n      <td>German</td>\n      <td>Ja</td>\n      <td>NaN</td>\n      <td>Nein</td>\n      <td>...</td>\n      <td>NaN</td>\n      <td>Berlin, Heidelberg</td>\n      <td>Springer Gabler</td>\n      <td>978-3-662-55361-9</td>\n      <td>10.1007/978-3-662-55362-6_2</td>\n      <td>https://link.springer.com/chapter/10.1007/978-...</td>\n      <td>Bräuer Sebastian, Scholta Hendrik, Strotmeier ...</td>\n      <td>[[[entry:ApaHtml]]]Bräuer, S., Scholta, H., St...</td>\n      <td>7982-1030-Bräuer Sebastian, Scholta Hendrik, S...</td>\n      <td>NaN</td>\n    </tr>\n    <tr>\n      <th>8086</th>\n      <td>131018</td>\n      <td>14077707</td>\n      <td>131018</td>\n      <td>Management von Informationsobjekten in hybride...</td>\n      <td>NaN</td>\n      <td>NaN</td>\n      <td>German</td>\n      <td>Ja</td>\n      <td>NaN</td>\n      <td>Nein</td>\n      <td>...</td>\n      <td>NaN</td>\n      <td>Berlin, Heidelberg</td>\n      <td>Springer Gabler</td>\n      <td>978-3-662-55361-9</td>\n      <td>10.1007/978-3-662-55362-6_3</td>\n      <td>https://link.springer.com/chapter/10.1007/978-...</td>\n      <td>Runschke Florian, Dageförde Jan, Scholta Hendr...</td>\n      <td>[[[entry:ApaHtml]]]Runschke, F., Dageförde, J....</td>\n      <td>7982-1030-Runschke Florian, Dageförde Jan, Sch...</td>\n      <td>NaN</td>\n    </tr>\n    <tr>\n      <th>8087</th>\n      <td>131019</td>\n      <td>14077787</td>\n      <td>131019</td>\n      <td>Erfahrbarkeit von hybriden Wertschöpfungsnetzw...</td>\n      <td>NaN</td>\n      <td>NaN</td>\n      <td>German</td>\n      <td>Ja</td>\n      <td>NaN</td>\n      <td>Nein</td>\n      <td>...</td>\n      <td>NaN</td>\n      <td>Berlin, Heidelberg</td>\n      <td>Springer Gabler</td>\n      <td>978-3-662-55361-9</td>\n      <td>10.1007/978-3-662-55362-6_3</td>\n      <td>https://link.springer.com/chapter/10.1007/978-...</td>\n      <td>Bräuer Sebastian, Scholta Hendrik</td>\n      <td>[[[entry:ApaHtml]]]Bräuer, S., &amp; Scholta, H. (...</td>\n      <td>7982-1030-Bräuer Sebastian, Scholta Hendrik</td>\n      <td>NaN</td>\n    </tr>\n    <tr>\n      <th>8160</th>\n      <td>132255</td>\n      <td>16452315</td>\n      <td>132255</td>\n      <td>A longitudinal comparison of capital structure...</td>\n      <td>NaN</td>\n      <td>NaN</td>\n      <td>English</td>\n      <td>Ja</td>\n      <td>NaN</td>\n      <td>Ja</td>\n      <td>...</td>\n      <td>NaN</td>\n      <td>NaN</td>\n      <td>NaN</td>\n      <td>NaN</td>\n      <td>NaN</td>\n      <td>http://www.sciencedirect.com/science/article/p...</td>\n      <td>Siqueira Ana Cristina O., Guenster Nadja, Vana...</td>\n      <td>[[[entry:ApaHtml]]]Siqueira, A. C. O., Guenste...</td>\n      <td>7981-1060-Siqueira Ana Cristina O., Guenster N...</td>\n      <td>NaN</td>\n    </tr>\n    <tr>\n      <th>8664</th>\n      <td>143040</td>\n      <td>61330996</td>\n      <td>143040</td>\n      <td>Tutorials at PPSN 2018</td>\n      <td>NaN</td>\n      <td>NaN</td>\n      <td>English</td>\n      <td>Ja</td>\n      <td>NaN</td>\n      <td>Ja</td>\n      <td>...</td>\n      <td>NaN</td>\n      <td>Cham</td>\n      <td>Springer International Publishing</td>\n      <td>978-3-319-99259-4</td>\n      <td>10.1007/978-3-319-99259-4_38</td>\n      <td>https://link.springer.com/chapter/10.1007/978-...</td>\n      <td>Pappa Gisele Lobo, Emmerich Michael TM, Bazzan...</td>\n      <td>[[[entry:ApaHtml]]]Pappa, G. L., Emmerich, M. ...</td>\n      <td>7981-1040-Pappa Gisele Lobo, Emmerich Michael ...</td>\n      <td>NaN</td>\n    </tr>\n    <tr>\n      <th>8665</th>\n      <td>143041</td>\n      <td>61330897</td>\n      <td>143041</td>\n      <td>Workshops at PPSN 2018</td>\n      <td>NaN</td>\n      <td>NaN</td>\n      <td>English</td>\n      <td>Ja</td>\n      <td>NaN</td>\n      <td>Ja</td>\n      <td>...</td>\n      <td>NaN</td>\n      <td>Cham</td>\n      <td>Springer International Publishing</td>\n      <td>978-3-319-99259-4</td>\n      <td>10.1007/978-3-319-99259-4_39</td>\n      <td>https://link.springer.com/chapter/10.1007/978-...</td>\n      <td>Purshouse Robin, Zarges Christine, Cussat-Blan...</td>\n      <td>[[[entry:ApaHtml]]]Purshouse, R., Zarges, C., ...</td>\n      <td>7981-1040-Purshouse Robin, Zarges Christine, C...</td>\n      <td>NaN</td>\n    </tr>\n    <tr>\n      <th>8795</th>\n      <td>145495</td>\n      <td>61172974</td>\n      <td>145495</td>\n      <td>Multimodality in Multi-Objective Optimization ...</td>\n      <td>NaN</td>\n      <td>NaN</td>\n      <td>English</td>\n      <td>Ja</td>\n      <td>NaN</td>\n      <td>Ja</td>\n      <td>...</td>\n      <td>Lecture Notes in Computer Science</td>\n      <td>NaN</td>\n      <td>Springer</td>\n      <td>NaN</td>\n      <td>10.1007/978-3-030-12598-1_11</td>\n      <td>https://link.springer.com/chapter/10.1007/978-...</td>\n      <td>Grimme Christian, Kerschke Pascal, Trautmann H...</td>\n      <td>[[[entry:ApaHtml]]]Grimme, C., Kerschke, P., &amp;...</td>\n      <td>7980-1040-Grimme Christian, Kerschke Pascal, T...</td>\n      <td>NaN</td>\n    </tr>\n    <tr>\n      <th>8815</th>\n      <td>146464</td>\n      <td>61089188</td>\n      <td>146464</td>\n      <td>Interaktive, digitale Einkaufserlebnisse in In...</td>\n      <td>NaN</td>\n      <td>NaN</td>\n      <td>German</td>\n      <td>Ja</td>\n      <td>NaN</td>\n      <td>Ja</td>\n      <td>...</td>\n      <td>Edition HMD</td>\n      <td>Wiesbaden</td>\n      <td>Springer Vieweg</td>\n      <td>978-3-658-22541-4</td>\n      <td>10.1007/978-3-658-22542-1_8</td>\n      <td>https://link.springer.com/chapter/10.1007/978-...</td>\n      <td>Betzing Jan Hendrik, Beverungen Daniel, Becker...</td>\n      <td>[[[entry:ApaHtml]]]Betzing, J. H., Beverungen,...</td>\n      <td>7980-1030-Betzing Jan Hendrik, Beverungen Dani...</td>\n      <td>NaN</td>\n    </tr>\n    <tr>\n      <th>8816</th>\n      <td>146465</td>\n      <td>61089089</td>\n      <td>146465</td>\n      <td>Gestaltungsprinzipien für mobile, kontextbezog...</td>\n      <td>NaN</td>\n      <td>NaN</td>\n      <td>German</td>\n      <td>Ja</td>\n      <td>NaN</td>\n      <td>Ja</td>\n      <td>...</td>\n      <td>Edition HMD</td>\n      <td>Wiesbaden</td>\n      <td>Springer Vieweg</td>\n      <td>978-3-658-22541-4</td>\n      <td>10.1007/978-3-658-22542-1_9</td>\n      <td>https://link.springer.com/chapter/10.1007/978-...</td>\n      <td>Betzing Jan Hendrik, Beverungen Daniel, Becker...</td>\n      <td>[[[entry:ApaHtml]]]Betzing, J. H., Beverungen,...</td>\n      <td>7980-1030-Betzing Jan Hendrik, Beverungen Dani...</td>\n      <td>NaN</td>\n    </tr>\n    <tr>\n      <th>8831</th>\n      <td>146839</td>\n      <td>61057348</td>\n      <td>146839</td>\n      <td>From one-stop shop to no-stop shop: An e-gover...</td>\n      <td>NaN</td>\n      <td>NaN</td>\n      <td>English</td>\n      <td>Ja</td>\n      <td>NaN</td>\n      <td>Ja</td>\n      <td>...</td>\n      <td>NaN</td>\n      <td>NaN</td>\n      <td>NaN</td>\n      <td>NaN</td>\n      <td>10.1016/j.giq.2018.11.010</td>\n      <td>https://www.sciencedirect.com/science/article/...</td>\n      <td>Scholta Hendrik, Mertens Willem, Kowalkiewicz ...</td>\n      <td>[[[entry:ApaHtml]]]Scholta, H., Mertens, W., K...</td>\n      <td>7980-1060-Scholta Hendrik, Mertens Willem, Kow...</td>\n      <td>NaN</td>\n    </tr>\n    <tr>\n      <th>9134</th>\n      <td>148210</td>\n      <td>60937468</td>\n      <td>148210</td>\n      <td>The Art of Structuring - Bridging the Gap Betw...</td>\n      <td>NaN</td>\n      <td>NaN</td>\n      <td>English</td>\n      <td>Ja</td>\n      <td>NaN</td>\n      <td>Nein</td>\n      <td>...</td>\n      <td>NaN</td>\n      <td>NaN</td>\n      <td>Springer International Publishing</td>\n      <td>978-3-030-06233-0</td>\n      <td>10.1007/978-3-030-06234-7</td>\n      <td>https://link.springer.com/book/10.1007%2F978-3...</td>\n      <td>NaN</td>\n      <td>[[[entry:ApaHtml]]]Bergener, K., Räckers, M., ...</td>\n      <td>7980-1020-</td>\n      <td>NaN</td>\n    </tr>\n    <tr>\n      <th>9184</th>\n      <td>150242</td>\n      <td>60808068</td>\n      <td>150242</td>\n      <td>App Adoption: The Effect On Purchasing Of Cust...</td>\n      <td>NaN</td>\n      <td>NaN</td>\n      <td>English</td>\n      <td>Nein</td>\n      <td>NaN</td>\n      <td>Ja</td>\n      <td>...</td>\n      <td>NaN</td>\n      <td>NaN</td>\n      <td>NaN</td>\n      <td>NaN</td>\n      <td>10.1016/j.intmar.2018.12.001</td>\n      <td>https://www.sciencedirect.com/science/article/...</td>\n      <td>Liu H, Lobschat L, Verhoef P, Zhao H</td>\n      <td>[[[entry:ApaHtml]]]Liu, H., Lobschat, L., Verh...</td>\n      <td>7980-1060-Liu H, Lobschat L, Verhoef P, Zhao H</td>\n      <td>NaN</td>\n    </tr>\n    <tr>\n      <th>9210</th>\n      <td>150841</td>\n      <td>60754924</td>\n      <td>150841</td>\n      <td>Fiscal disparity, institutions and asymmetric ...</td>\n      <td>NaN</td>\n      <td>NaN</td>\n      <td>English</td>\n      <td>Ja</td>\n      <td>NaN</td>\n      <td>Ja</td>\n      <td>...</td>\n      <td>NaN</td>\n      <td>NaN</td>\n      <td>NaN</td>\n      <td>NaN</td>\n      <td>10.1016/j.econlet.2019.04.029</td>\n      <td>https://www.sciencedirect.com/science/article/...</td>\n      <td>Farah, Alfa</td>\n      <td>[[[entry:ApaHtml]]]Farah, A. (2019). Fiscal di...</td>\n      <td>7980-1060-Farah, Alfa</td>\n      <td>NaN</td>\n    </tr>\n    <tr>\n      <th>9211</th>\n      <td>150911</td>\n      <td>60748666</td>\n      <td>150911</td>\n      <td>Market reaction to asymmetric cost behavior: t...</td>\n      <td>NaN</td>\n      <td>NaN</td>\n      <td>English</td>\n      <td>Ja</td>\n      <td>NaN</td>\n      <td>Ja</td>\n      <td>...</td>\n      <td>NaN</td>\n      <td>NaN</td>\n      <td>NaN</td>\n      <td>NaN</td>\n      <td>10.1007/s11846-019-00341-8</td>\n      <td>https://link.springer.com/article/10.1007/s118...</td>\n      <td>Silge, Lisa; Wöhrmann, Arnt</td>\n      <td>[[[entry:ApaHtml]]]Silge, L., &amp; Wöhrmann, A. (...</td>\n      <td>7978-1060-Silge, Lisa; Wöhrmann, Arnt</td>\n      <td>NaN</td>\n    </tr>\n    <tr>\n      <th>9214</th>\n      <td>150998</td>\n      <td>60741026</td>\n      <td>150998</td>\n      <td>Semi-automatic inductive construction of refer...</td>\n      <td>NaN</td>\n      <td>NaN</td>\n      <td>English</td>\n      <td>Ja</td>\n      <td>NaN</td>\n      <td>Ja</td>\n      <td>...</td>\n      <td>NaN</td>\n      <td>NaN</td>\n      <td>NaN</td>\n      <td>NaN</td>\n      <td>10.1016/j.is.2019.03.001</td>\n      <td>https://www.sciencedirect.com/science/article/...</td>\n      <td>Scholta Hendrik, Niemann Marco, Delfmann Patri...</td>\n      <td>[[[entry:ApaHtml]]]Scholta, H., Niemann, M., D...</td>\n      <td>7980-1060-Scholta Hendrik, Niemann Marco, Delf...</td>\n      <td>NaN</td>\n    </tr>\n    <tr>\n      <th>9582</th>\n      <td>157855</td>\n      <td>60159236</td>\n      <td>157855</td>\n      <td>Standardization of Forms in Governments: A Met...</td>\n      <td>NaN</td>\n      <td>NaN</td>\n      <td>English</td>\n      <td>Ja</td>\n      <td>NaN</td>\n      <td>Ja</td>\n      <td>...</td>\n      <td>NaN</td>\n      <td>NaN</td>\n      <td>NaN</td>\n      <td>NaN</td>\n      <td>10.1007/s12599-019-00623-1</td>\n      <td>https://link.springer.com/article/10.1007%2Fs1...</td>\n      <td>Scholta Hendrik, Balta Dian, Räckers Michael, ...</td>\n      <td>[[[entry:ApaHtml]]]Scholta, H., Balta, D., Räc...</td>\n      <td>7979-1060-Scholta Hendrik, Balta Dian, Räckers...</td>\n      <td>NaN</td>\n    </tr>\n    <tr>\n      <th>9591</th>\n      <td>158258</td>\n      <td>60123773</td>\n      <td>158258</td>\n      <td>Seven Paradoxes of Business Process Management...</td>\n      <td>NaN</td>\n      <td>NaN</td>\n      <td>English</td>\n      <td>Ja</td>\n      <td>NaN</td>\n      <td>Ja</td>\n      <td>...</td>\n      <td>NaN</td>\n      <td>NaN</td>\n      <td>NaN</td>\n      <td>NaN</td>\n      <td>10.1007/s12599-020-00646-z</td>\n      <td>https://link.springer.com/article/10.1007/s125...</td>\n      <td>Beverungen Daniel, Buijs Joos, Becker Jörg, di...</td>\n      <td>[[[entry:ApaHtml]]]Beverungen, D., Buijs, J., ...</td>\n      <td>7979-1060-Beverungen Daniel, Buijs Joos, Becke...</td>\n      <td>NaN</td>\n    </tr>\n    <tr>\n      <th>9597</th>\n      <td>158580</td>\n      <td>60095426</td>\n      <td>158580</td>\n      <td>Building an Integrated Comment Moderation Syst...</td>\n      <td>NaN</td>\n      <td>NaN</td>\n      <td>English</td>\n      <td>Ja</td>\n      <td>NaN</td>\n      <td>Ja</td>\n      <td>...</td>\n      <td>NaN</td>\n      <td>NaN</td>\n      <td>NaN</td>\n      <td>NaN</td>\n      <td>10.1007/978-3-030-49576-3_6</td>\n      <td>https://link.springer.com/chapter/10.1007/978-...</td>\n      <td>Riehle Dennis M.,\\nNiemann Marco,\\nBrunk Jens,...</td>\n      <td>[[[entry:ApaHtml]]]Riehle, D. M., Niemann, M.,...</td>\n      <td>7979-1040-Riehle Dennis M.,\\nNiemann Marco,\\nB...</td>\n      <td>NaN</td>\n    </tr>\n    <tr>\n      <th>9602</th>\n      <td>158762</td>\n      <td>60078675</td>\n      <td>158762</td>\n      <td>Abusive Comments in Online Media and How to Fi...</td>\n      <td>NaN</td>\n      <td>NaN</td>\n      <td>English</td>\n      <td>Ja</td>\n      <td>NaN</td>\n      <td>Ja</td>\n      <td>...</td>\n      <td>NaN</td>\n      <td>NaN</td>\n      <td>NaN</td>\n      <td>NaN</td>\n      <td>10.1007/978-3-030-61841-4_9</td>\n      <td>https://link.springer.com/chapter/10.1007%2F97...</td>\n      <td>Niemann Marco, Welsing Jens, Riehle Dennis M, ...</td>\n      <td>[[[entry:ApaHtml]]]Niemann, M., Welsing, J., R...</td>\n      <td>7979-1040-Niemann Marco, Welsing Jens, Riehle ...</td>\n      <td>NaN</td>\n    </tr>\n    <tr>\n      <th>9798</th>\n      <td>161186</td>\n      <td>73882517</td>\n      <td>161186</td>\n      <td>Walking a Mile in Their Shoes—A Citizen Journe...</td>\n      <td>NaN</td>\n      <td>NaN</td>\n      <td>English</td>\n      <td>Ja</td>\n      <td>NaN</td>\n      <td>Ja</td>\n      <td>...</td>\n      <td>Lecture Notes in Computer Science (LNCS)</td>\n      <td>Cham</td>\n      <td>Springer</td>\n      <td>NaN</td>\n      <td>10.1007/978-3-030-57599-1_13</td>\n      <td>https://link.springer.com/chapter/10.1007/978-...</td>\n      <td>Scholta Hendrik, Halsbenning Sebastian, Distel...</td>\n      <td>[[[entry:ApaHtml]]]Scholta, H., Halsbenning, S...</td>\n      <td>7979-1040-Scholta Hendrik, Halsbenning Sebasti...</td>\n      <td>NaN</td>\n    </tr>\n    <tr>\n      <th>10120</th>\n      <td>166025</td>\n      <td>77667418</td>\n      <td>166025</td>\n      <td>High-Level Parallel Ant Colony Optimization wi...</td>\n      <td>NaN</td>\n      <td>NaN</td>\n      <td>English</td>\n      <td>Ja</td>\n      <td>NaN</td>\n      <td>Ja</td>\n      <td>...</td>\n      <td>NaN</td>\n      <td>NaN</td>\n      <td>NaN</td>\n      <td>NaN</td>\n      <td>10.1007/s10766-021-00714-1</td>\n      <td>https://link.springer.com/article/10.1007/s107...</td>\n      <td>Menezes Breno, Herrmann Nina, Kuchen Herbert, ...</td>\n      <td>[[[entry:ApaHtml]]]Menezes, B., Herrmann, N., ...</td>\n      <td>7978-1060-Menezes Breno, Herrmann Nina, Kuchen...</td>\n      <td>NaN</td>\n    </tr>\n    <tr>\n      <th>10425</th>\n      <td>169525</td>\n      <td>80037894</td>\n      <td>169525</td>\n      <td>Hochschulübergreifende Digitale Lehr-/Lernkonz...</td>\n      <td>NaN</td>\n      <td>NaN</td>\n      <td>German</td>\n      <td>Ja</td>\n      <td>NaN</td>\n      <td>Ja</td>\n      <td>...</td>\n      <td>NaN</td>\n      <td>NaN</td>\n      <td>NaN</td>\n      <td>NaN</td>\n      <td>10.1365/s40702-021-00802-3</td>\n      <td>https://link.springer.com/article/10.1365%2Fs4...</td>\n      <td>Plattfaut Ralf, Stein Armin, Bergener Katrin</td>\n      <td>[[[entry:ApaHtml]]]Plattfaut, R., Stein, A., &amp;...</td>\n      <td>7978-1060-Plattfaut Ralf, Stein Armin, Bergene...</td>\n      <td>NaN</td>\n    </tr>\n    <tr>\n      <th>10427</th>\n      <td>169547</td>\n      <td>80035627</td>\n      <td>169547</td>\n      <td>Is YouTube Still a Radicalizer? An Exploratory...</td>\n      <td>NaN</td>\n      <td>NaN</td>\n      <td>English</td>\n      <td>Ja</td>\n      <td>NaN</td>\n      <td>Ja</td>\n      <td>...</td>\n      <td>NaN</td>\n      <td>Cham</td>\n      <td>Springer International Publishing</td>\n      <td>NaN</td>\n      <td>10.1007/978-3-030-87031-7_4</td>\n      <td>https://link.springer.com/chapter/10.1007/978-...</td>\n      <td>Markmann S, Grimme C</td>\n      <td>[[[entry:ApaHtml]]]Markmann, S., &amp; Grimme, C. ...</td>\n      <td>7978-1040-Markmann S, Grimme C</td>\n      <td>NaN</td>\n    </tr>\n    <tr>\n      <th>10436</th>\n      <td>170005</td>\n      <td>79994853</td>\n      <td>170005</td>\n      <td>“Pay to Play” in the German Book Trade?</td>\n      <td>NaN</td>\n      <td>NaN</td>\n      <td>English</td>\n      <td>Ja</td>\n      <td>NaN</td>\n      <td>Nein</td>\n      <td>...</td>\n      <td>NaN</td>\n      <td>NaN</td>\n      <td>NaN</td>\n      <td>NaN</td>\n      <td>10.1007/s12109-021-09804-x</td>\n      <td>https://link.springer.com/article/10.1007/s121...</td>\n      <td>Norrick-Rühl Corinna, Peter Christian, Schüler...</td>\n      <td>[[[entry:ApaHtml]]]Norrick-Rühl, C., Peter, C....</td>\n      <td>7978-1060-Norrick-Rühl Corinna, Peter Christia...</td>\n      <td>NaN</td>\n    </tr>\n    <tr>\n      <th>10522</th>\n      <td>172582</td>\n      <td>79754068</td>\n      <td>172582</td>\n      <td>Paper or Screen - Differences in Customer Pref...</td>\n      <td>NaN</td>\n      <td>NaN</td>\n      <td>English</td>\n      <td>Nein</td>\n      <td>NaN</td>\n      <td>Ja</td>\n      <td>...</td>\n      <td>NaN</td>\n      <td>NaN</td>\n      <td>NaN</td>\n      <td>NaN</td>\n      <td>NaN</td>\n      <td>https://ieeexplore.ieee.org/document/7070223</td>\n      <td>Berger Benedikt, Matt Christian, Steininger De...</td>\n      <td>[[[entry:ApaHtml]]]Berger, B., Matt, C., Stein...</td>\n      <td>7984-1040-Berger Benedikt, Matt Christian, Ste...</td>\n      <td>NaN</td>\n    </tr>\n    <tr>\n      <th>10535</th>\n      <td>172690</td>\n      <td>79743147</td>\n      <td>172690</td>\n      <td>AI-Based Digital Assistants: Opportunities, Th...</td>\n      <td>NaN</td>\n      <td>NaN</td>\n      <td>English</td>\n      <td>Nein</td>\n      <td>NaN</td>\n      <td>Nein</td>\n      <td>...</td>\n      <td>NaN</td>\n      <td>NaN</td>\n      <td>NaN</td>\n      <td>NaN</td>\n      <td>10.1007/s12599-019-00600-8</td>\n      <td>https://link.springer.com/article/10.1007/s125...</td>\n      <td>Mädche Alexander, Legner Christine, Benlian Al...</td>\n      <td>[[[entry:ApaHtml]]]Mädche, A., Legner, C., Ben...</td>\n      <td>7980-1060-Mädche Alexander, Legner Christine, ...</td>\n      <td>NaN</td>\n    </tr>\n    <tr>\n      <th>10587</th>\n      <td>173594</td>\n      <td>79654159</td>\n      <td>173594</td>\n      <td>Do Environmental Policies Affect MNEs’ Foreign...</td>\n      <td>NaN</td>\n      <td>NaN</td>\n      <td>English</td>\n      <td>Ja</td>\n      <td>NaN</td>\n      <td>Ja</td>\n      <td>...</td>\n      <td>NaN</td>\n      <td>NaN</td>\n      <td>NaN</td>\n      <td>NaN</td>\n      <td>10.1007/s11575-021-00458-7</td>\n      <td>https://link.springer.com/article/10.1007/s115...</td>\n      <td>Zilja Flladina, Adarkwah Gilbert, Sabel Christ...</td>\n      <td>[[[entry:ApaHtml]]]Zilja, F., Adarkwah, G., &amp; ...</td>\n      <td>7977-1060-Zilja Flladina, Adarkwah Gilbert, Sa...</td>\n      <td>NaN</td>\n    </tr>\n  </tbody>\n</table>\n<p>48 rows × 46 columns</p>\n</div>"
     },
     "execution_count": 22,
     "metadata": {},
     "output_type": "execute_result"
    }
   ],
   "source": [
    "# filter df_publications url not nan and doi not nan\n",
    "df_publications_filtered = df_publications[df_publications['url'].notna() & df_publications['doi'].notna()]\n",
    "# filter rows with nan in keywords\n",
    "df_publications_filtered = df_publications[df_publications['keywords'].isna()]\n",
    "# filter rows with supported url\n",
    "df_publications_filtered = df_publications_filtered[(df_publications_filtered['url'].str.contains('link.springer')) | (\n",
    "    df_publications_filtered['url'].str.contains('sciencedirect')) | (\n",
    "                                                        df_publications_filtered['url'].str.contains('ieeexplore'))]\n",
    "df_publications_filtered\n"
   ],
   "metadata": {
    "collapsed": false,
    "pycharm": {
     "name": "#%%\n"
    }
   }
  },
  {
   "cell_type": "code",
   "execution_count": null,
   "outputs": [],
   "source": [
    "# Scraping only that keywords\n",
    "# get {id: id, url: url, doi: doi}\n",
    "scrape_dict = df_publications_filtered[['id', 'url', 'doi', 'title']].to_dict('records')\n",
    "for idx, row in enumerate(scrape_dict):\n",
    "    print(f'Row {idx + 1} of {len(scrape_dict)}')\n",
    "\n",
    "    ## if url not na\n",
    "    #row['url'] = urllib.parse.unquote(row['url'])  # make sure url is fine\n",
    "    #row['doi'] = urllib.parse.unquote(row['doi'])  # make sure doi is fine\n",
    "\n",
    "    if pd.notna(row.get('doi')):\n",
    "        row['keywords'] = scraper.scrape_publication_by_doi(row.get('doi'), params=['keywords']).get('keywords')\n",
    "    elif pd.notna(row.get('url')):\n",
    "        # if url ends with '.pdf' then skip\n",
    "        if row.get('url').endswith('.pdf'):\n",
    "            print(f'Row {idx + 1} of {len(scrape_dict)} is pdf, skipping')\n",
    "            continue\n",
    "        row['keywords'] = scraper.scrape_publication_by_url(row.get('url'), params=['keywords']).get('keywords')\n",
    "    else:\n",
    "        row['keywords'] = None"
   ],
   "metadata": {
    "collapsed": false,
    "pycharm": {
     "name": "#%%\n"
    }
   }
  },
  {
   "cell_type": "markdown",
   "source": [
    "Our scraper found the missing keywords, out of the 48 publications it found 37 keywords. We could now add these keywords to the cris data and do this search for other attributes as well."
   ],
   "metadata": {
    "collapsed": false,
    "pycharm": {
     "name": "#%% md\n"
    }
   }
  },
  {
   "cell_type": "code",
   "execution_count": null,
   "outputs": [],
   "source": [
    "# found keywords\n",
    "scrape_dict_found = [x for x in scrape_dict if x.get('keywords') is not None]\n",
    "scrape_dict_keywords = [x.get('keywords') for x in scrape_dict_found]\n",
    "print(f'Found {len(scrape_dict_found)} keywords out of {len(scrape_dict)} publications')"
   ],
   "metadata": {
    "collapsed": false,
    "pycharm": {
     "name": "#%%\n"
    }
   }
  },
  {
   "cell_type": "markdown",
   "source": [
    "1623 entries with DOI"
   ],
   "metadata": {
    "collapsed": false,
    "pycharm": {
     "name": "#%% md\n"
    }
   }
  },
  {
   "cell_type": "code",
   "execution_count": null,
   "outputs": [],
   "source": [
    "# filter where doi not nan\n",
    "df_publications_filtered = df_publications[df_publications['doi'].notna()]\n",
    "df_publications_filtered.shape"
   ],
   "metadata": {
    "collapsed": false,
    "pycharm": {
     "name": "#%%\n"
    }
   }
  },
  {
   "cell_type": "markdown",
   "source": [
    "675 with URL"
   ],
   "metadata": {
    "collapsed": false,
    "pycharm": {
     "name": "#%% md\n"
    }
   }
  },
  {
   "cell_type": "code",
   "execution_count": null,
   "outputs": [],
   "source": [
    "# filter where url not nan\n",
    "df_publications_filtered = df_publications_filtered[df_publications_filtered['url'].notna()]\n",
    "df_publications_filtered.shape"
   ],
   "metadata": {
    "collapsed": false,
    "pycharm": {
     "name": "#%%\n"
    }
   }
  },
  {
   "cell_type": "markdown",
   "source": [
    "948 entries only with doi"
   ],
   "metadata": {
    "collapsed": false,
    "pycharm": {
     "name": "#%% md\n"
    }
   }
  },
  {
   "cell_type": "code",
   "execution_count": null,
   "outputs": [],
   "source": [
    "df_publications_filtered = df_publications[df_publications['doi'].notna() & df_publications['url'].isna()]\n",
    "df_publications_filtered.shape\n",
    "df_publications_filtered"
   ],
   "metadata": {
    "collapsed": false,
    "pycharm": {
     "name": "#%%\n"
    }
   }
  },
  {
   "cell_type": "markdown",
   "source": [
    "1162 entries only with url"
   ],
   "metadata": {
    "collapsed": false,
    "pycharm": {
     "name": "#%% md\n"
    }
   }
  },
  {
   "cell_type": "code",
   "execution_count": null,
   "outputs": [],
   "source": [
    "df_publications_filtered = df_publications[df_publications['doi'].isna() & df_publications['url'].notna()]\n",
    "df_publications_filtered.shape\n",
    "df_publications_filtered"
   ],
   "metadata": {
    "collapsed": false,
    "pycharm": {
     "name": "#%%\n"
    }
   }
  },
  {
   "cell_type": "markdown",
   "source": [
    "entries with DOI and url"
   ],
   "metadata": {
    "collapsed": false,
    "pycharm": {
     "name": "#%% md\n"
    }
   }
  },
  {
   "cell_type": "code",
   "execution_count": null,
   "outputs": [],
   "source": [
    "df_publications_filtered = df_publications[df_publications['doi'].notna() & df_publications['url'].notna()]\n",
    "print(df_publications_filtered.shape)\n",
    "df_publications_filtered"
   ],
   "metadata": {
    "collapsed": false,
    "pycharm": {
     "name": "#%%\n"
    }
   }
  },
  {
   "cell_type": "markdown",
   "source": [
    "2785 with DOI or url"
   ],
   "metadata": {
    "collapsed": false,
    "pycharm": {
     "name": "#%% md\n"
    }
   }
  },
  {
   "cell_type": "code",
   "execution_count": null,
   "outputs": [],
   "source": [
    "df_publications_filtered = df_publications[df_publications['doi'].notna() | df_publications['url'].notna()]\n",
    "df_publications_filtered.shape\n",
    "df_publications_filtered\n",
    "print(df_publications.shape)\n",
    "# relative amount of publications with DOI or URL\n",
    "print((df_publications_filtered.shape[0] / df_publications.shape[0]) * 100, '%')"
   ],
   "metadata": {
    "collapsed": false,
    "pycharm": {
     "name": "#%%\n"
    }
   }
  },
  {
   "cell_type": "markdown",
   "source": [
    "## Exploring our scraping results"
   ],
   "metadata": {
    "collapsed": false,
    "pycharm": {
     "name": "#%% md\n"
    }
   }
  },
  {
   "cell_type": "code",
   "execution_count": null,
   "outputs": [],
   "source": [
    "final_scraping_result = scraping_results_imported_cleaned"
   ],
   "metadata": {
    "collapsed": false,
    "pycharm": {
     "name": "#%%\n"
    }
   }
  },
  {
   "cell_type": "code",
   "execution_count": null,
   "outputs": [],
   "source": [
    "# extract all the pdf links in the format {doi, pdf_link}, if not null\n",
    "all_found_pdf_links = [(x.get('doi'), x.get('pdf')) for x in final_scraping_result if\n",
    "                       x.get('pdf') is not None]"
   ],
   "metadata": {
    "collapsed": false,
    "pycharm": {
     "name": "#%%\n"
    }
   }
  },
  {
   "cell_type": "code",
   "execution_count": 14,
   "outputs": [],
   "source": [
    "# get all domains from resolved links (using exported csv file)\n",
    "def domain(url):\n",
    "    if url is not None and pd.notna(url):\n",
    "        return urllib.parse.urlparse(url).netloc  # returns domain\n",
    "    else:\n",
    "        return None\n"
   ],
   "metadata": {
    "collapsed": false,
    "pycharm": {
     "name": "#%%\n"
    }
   }
  },
  {
   "cell_type": "code",
   "execution_count": null,
   "outputs": [],
   "source": [
    "\n",
    "# apply domain to all results\n",
    "domains_of_dois = [{'doi': x.get('doi'), 'domain': domain(x.get('url'))} for x in final_scraping_result if\n",
    "                   x.get('url') is not None]"
   ],
   "metadata": {
    "collapsed": false,
    "pycharm": {
     "name": "#%%\n"
    }
   }
  },
  {
   "cell_type": "code",
   "execution_count": null,
   "outputs": [],
   "source": [
    "# describe domains_of_dois\n",
    "df_domains_of_dois = pd.DataFrame(domains_of_dois)\n",
    "# custom col name\n",
    "df_domains_of_dois.columns = ['doi', 'domain']\n",
    "# count the domains\n",
    "counts = df_domains_of_dois['domain'].value_counts()\n",
    "print(counts / len(df_domains_of_dois))\n",
    "# plot\n",
    "df_domains_of_dois['domain'].value_counts().plot(kind='bar')"
   ],
   "metadata": {
    "collapsed": false,
    "pycharm": {
     "name": "#%%\n"
    }
   }
  },
  {
   "cell_type": "markdown",
   "source": [],
   "metadata": {
    "collapsed": false,
    "pycharm": {
     "name": "#%% md\n"
    }
   }
  },
  {
   "cell_type": "code",
   "execution_count": null,
   "outputs": [],
   "source": [
    "# get all publications from domain 'link.springer.com' from final_scraping_result\n",
    "springer_publications = [x for x in final_scraping_result if\n",
    "                         x.get('url') is not None and domain(x.get('url')) == 'link.springer.com']\n",
    "# create overview of all publication types\n",
    "springer_publication_types = [x.get('publication_type') for x in springer_publications]\n",
    "# count the publication types\n",
    "counts = pd.Series(springer_publication_types).value_counts()\n",
    "counts\n"
   ],
   "metadata": {
    "collapsed": false,
    "pycharm": {
     "name": "#%%\n"
    }
   }
  },
  {
   "cell_type": "markdown",
   "source": [
    "### Get authors with listed orcid"
   ],
   "metadata": {
    "collapsed": false,
    "pycharm": {
     "name": "#%% md\n"
    }
   }
  },
  {
   "cell_type": "code",
   "execution_count": null,
   "outputs": [],
   "source": [
    "def get_orcid_authors(scraping_result):\n",
    "    # search authors with orcid\n",
    "    # get all authors\n",
    "    all_authors = [x.get('authors') for x in scraping_result if x.get('authors') is not None]\n",
    "    all_authors\n",
    "    # flatten list\n",
    "    all_authors = [item for sublist in all_authors for item in sublist]\n",
    "    # authors with orcid\n",
    "    authors_with_orcid = [x for x in all_authors if type(x) is not str and x.get('orcid') is not None]\n",
    "    authors_with_orcid\n",
    "    # remove duplicate double entries\n",
    "    authors_with_orcid = list({v['orcid']: v for v in authors_with_orcid}.values())\n",
    "    # sort by name\n",
    "    authors_with_orcid = sorted(authors_with_orcid, key=lambda k: k['name'])\n",
    "\n",
    "    return authors_with_orcid\n",
    "\n",
    "\n",
    "authors_with_orcid = get_orcid_authors(final_scraping_result)\n",
    "authors_with_orcid"
   ],
   "metadata": {
    "collapsed": false,
    "pycharm": {
     "name": "#%%\n"
    }
   }
  },
  {
   "cell_type": "markdown",
   "source": [
    "## Downloading pdf documents"
   ],
   "metadata": {
    "collapsed": false,
    "pycharm": {
     "name": "#%% md\n"
    }
   }
  },
  {
   "cell_type": "code",
   "execution_count": null,
   "outputs": [],
   "source": [
    "final_scraping_result = scraping_results_imported_cleaned\n",
    "# get {doi:doi, pdf_link:pdf} for all entries with pdf_link\n",
    "all_found_pdf_links = [{'doi': x.get('doi'), 'pdf': x.get('pdf')} for x in final_scraping_result if\n",
    "                       x.get('pdf') is not None]"
   ],
   "metadata": {
    "collapsed": false,
    "pycharm": {
     "name": "#%%\n"
    }
   }
  },
  {
   "cell_type": "code",
   "execution_count": null,
   "outputs": [],
   "source": [
    "scraper = ResearchScraper()\n",
    "scraping_results = utils.load_and_clean_scraping_results(filename='scrapings_2022_10_21__03_38')\n",
    "scraper.download_pdf_of_publications_by_scraping_results(scraping_results)"
   ],
   "metadata": {
    "collapsed": false,
    "pycharm": {
     "name": "#%%\n"
    }
   }
  },
  {
   "cell_type": "markdown",
   "source": [
    "## FIind urls with scholar\n",
    "We need first to get the data from cris to apply the scholar search"
   ],
   "metadata": {
    "collapsed": false,
    "pycharm": {
     "name": "#%% md\n"
    }
   }
  },
  {
   "cell_type": "code",
   "execution_count": null,
   "outputs": [],
   "source": [
    "def get_publication_target_dict(df_publications):\n",
    "    #global df_publications_target, dict_publication_target\n",
    "    # filter rows without doi and without url\n",
    "    df_publications_target = df_publications[df_publications['doi'].isna() & df_publications['url'].isna()]\n",
    "    # df_publications cols: cris_id, title and authors\n",
    "    df_publications_target = df_publications_target[['cris_id', 'title', 'authors']]\n",
    "    #convert to dict\n",
    "    dict_publication_target = df_publications_target.to_dict('records')\n",
    "    return dict_publication_target\n",
    "\n",
    "\n",
    "def get_publication_target_dict_chunks(dict_publication_target):\n",
    "    dict_publication_target_split = [dict_publication_target[i:i + 50] for i in\n",
    "                                     range(0, len(dict_publication_target), 50)]\n",
    "    return dict_publication_target_split\n",
    "\n",
    "\n",
    "df_publications_target = get_publication_target_dict(df_publications)\n",
    "# # first 50 rows\n",
    "# df_publications_sample = df_publications_target.head(50)\n",
    "# # convert to dict\n",
    "# dict_publications_sample = df_publications_sample.to_dict('records')\n",
    "\n",
    "\n"
   ],
   "metadata": {
    "collapsed": false,
    "pycharm": {
     "name": "#%%\n"
    }
   }
  },
  {
   "cell_type": "code",
   "execution_count": null,
   "outputs": [],
   "source": [],
   "metadata": {
    "collapsed": false,
    "pycharm": {
     "name": "#%%\n"
    }
   }
  },
  {
   "cell_type": "markdown",
   "source": [
    "For large scale application we can make chunks of 50 each (worth 1250 api credits"
   ],
   "metadata": {
    "collapsed": false,
    "pycharm": {
     "name": "#%% md\n"
    }
   }
  },
  {
   "cell_type": "code",
   "execution_count": null,
   "outputs": [],
   "source": [
    "# split dict_publication_target into pieces of 50 with list comprehension\n",
    "#dict_publication_target_split = [dict_publication_target[i:i + 50] for i in range(0, len(dict_publication_target), 50)]"
   ],
   "metadata": {
    "collapsed": false,
    "pycharm": {
     "name": "#%%\n"
    }
   }
  },
  {
   "cell_type": "code",
   "execution_count": null,
   "outputs": [],
   "source": [
    "# method that takes list of dict {cris_id: cris-id, title:title, authors:authors} an tries to receive a url from scholar\n",
    "def get_urls_from_scholar_list_of_publications(publications, filename):\n",
    "    # create a list of publications with {cris_id: cris-id, title:title, authors:authors, url:url}\n",
    "    publications_with_url = []\n",
    "    # iterate over publications\n",
    "    for idx, publication in enumerate(publications):\n",
    "        print(f'publication {idx + 1} of {len(publications)}: {publication.get(\"title\")}')\n",
    "        # get title and authors\n",
    "        title = publication.get('title')\n",
    "        authors = publication.get('authors')\n",
    "        # if authors nan then make ''\n",
    "        if pd.isna(authors):\n",
    "            authors = ''\n",
    "        cris_id = publication.get('cris_id')\n",
    "\n",
    "        # create a query\n",
    "        query = title\n",
    "        # if authors are available add them to the query\n",
    "        if authors is not None:\n",
    "            query = query + ' ' + authors\n",
    "\n",
    "        try:\n",
    "            # search for url with query\n",
    "            publication['url'] = get_url_from_publication_with_scholarly(query)\n",
    "            print(f' Found url: {publication[\"url\"]}')\n",
    "        except Exception as e:\n",
    "            print(f' Error: {e}')\n",
    "            print(f'Could not find url for cris: {cris_id}, Google scholar blocked us')\n",
    "        else:\n",
    "            # add complete publication to publications_with_url\n",
    "            publications_with_url.append(publication)\n",
    "            utils.write_results(publications_with_url, filename)\n",
    "\n",
    "    return publications_with_url"
   ],
   "metadata": {
    "collapsed": false,
    "pycharm": {
     "name": "#%%\n"
    }
   }
  },
  {
   "cell_type": "code",
   "execution_count": null,
   "outputs": [],
   "source": [
    "#pub_res = get_urls_from_scholar_list_of_publications(dict_publications_sample, 'url_scrape_results_0_to_49')"
   ],
   "metadata": {
    "collapsed": false,
    "pycharm": {
     "name": "#%%\n"
    }
   }
  },
  {
   "cell_type": "code",
   "execution_count": null,
   "outputs": [],
   "source": [
    "def handle_proxy(proxy=None):\n",
    "    \"\"\"\n",
    "    Handle the procxy, by default no proxy thus None\n",
    "    :param proxy: choose whether to use proxy, we can add premium proxied if needed later\n",
    "    :return: void\n",
    "    \"\"\"\n",
    "\n",
    "    if proxy is None:\n",
    "        scholarly.use_proxy(None)\n",
    "    elif proxy == 'free':\n",
    "        pg = ProxyGenerator()\n",
    "        success = pg.FreeProxies()\n",
    "        print(f'Free proxy success: {success}')\n",
    "        scholarly.use_proxy(pg)\n",
    "    elif proxy == 'scraper_api':\n",
    "        pg = ProxyGenerator()\n",
    "        success = pg.ScraperAPI(os.environ['SCRAPER_API_KEY'])\n",
    "        scholarly.use_proxy(pg)\n",
    "    else:\n",
    "        print('No proxy recognized')\n",
    "\n",
    "\n",
    "def get_url_from_publication_with_scholarly(search_query):\n",
    "    scholarly_search = scholarly.search_pubs(search_query)\n",
    "    publication = next(scholarly_search)\n",
    "    url = publication.get('pub_url')\n",
    "\n",
    "    return url\n",
    "\n",
    "\n",
    "handle_proxy('scraper_api')"
   ],
   "metadata": {
    "collapsed": false,
    "pycharm": {
     "name": "#%%\n"
    }
   }
  },
  {
   "cell_type": "markdown",
   "source": [
    "### Extract second chunk of 50"
   ],
   "metadata": {
    "collapsed": false,
    "pycharm": {
     "name": "#%% md\n"
    }
   }
  },
  {
   "cell_type": "code",
   "execution_count": null,
   "outputs": [],
   "source": [
    "# get all target publications\n",
    "pub_target = get_publication_target_dict(df_publications)\n",
    "pub_target_chunks = get_publication_target_dict_chunks(pub_target)\n"
   ],
   "metadata": {
    "collapsed": false,
    "pycharm": {
     "name": "#%%\n"
    }
   }
  },
  {
   "cell_type": "code",
   "execution_count": null,
   "outputs": [],
   "source": [
    "# scraper api is active\n",
    "pub_res_chunk_0 = None  # see above\n",
    "pub_res_chunk_1 = get_urls_from_scholar_list_of_publications(pub_target_chunks[1], 'url_scrape_results_50_to_99')"
   ],
   "metadata": {
    "collapsed": false,
    "pycharm": {
     "name": "#%%\n"
    }
   }
  },
  {
   "cell_type": "code",
   "execution_count": null,
   "outputs": [],
   "source": [
    "pub_res_chunk_2 = get_urls_from_scholar_list_of_publications(pub_target_chunks[2], 'url_scrape_results_100_to_149')"
   ],
   "metadata": {
    "collapsed": false,
    "pycharm": {
     "name": "#%%\n"
    }
   }
  },
  {
   "cell_type": "code",
   "execution_count": null,
   "outputs": [],
   "source": [
    "# Quick Demo for Blogpost\n",
    "# cris_data\n",
    "title = 'Linguistic Theories in IS Research - A Review'\n",
    "authors = 'Becker J, Fielenbach K, Niehaves B'\n",
    "scholarly_search = scholarly.search_pubs(f'{title} {authors}')\n",
    "publication = next(scholarly_search)\n",
    "url = publication.get('pub_url')\n",
    "\n",
    "url"
   ],
   "metadata": {
    "collapsed": false,
    "pycharm": {
     "name": "#%%\n"
    }
   }
  },
  {
   "cell_type": "code",
   "execution_count": null,
   "outputs": [],
   "source": [
    "scraper.s"
   ],
   "metadata": {
    "collapsed": false,
    "pycharm": {
     "name": "#%%\n"
    }
   }
  },
  {
   "cell_type": "code",
   "execution_count": null,
   "outputs": [],
   "source": [
    "# get all target publications\n",
    "pub_target = get_publication_target_dict(df_publications)\n",
    "pub_target_chunks = get_publication_target_dict_chunks(pub_target)\n"
   ],
   "metadata": {
    "collapsed": false,
    "pycharm": {
     "name": "#%%\n"
    }
   }
  },
  {
   "cell_type": "code",
   "execution_count": null,
   "outputs": [],
   "source": [
    "# scraper api is active\n",
    "pub_res_chunk_0 = None  # see above\n",
    "pub_res_chunk_1 = get_urls_from_scholar_list_of_publications(pub_target_chunks[1], 'url_scrape_results_50_to_99')"
   ],
   "metadata": {
    "collapsed": false,
    "pycharm": {
     "name": "#%%\n"
    }
   }
  },
  {
   "cell_type": "code",
   "execution_count": null,
   "outputs": [],
   "source": [
    "pub_res_chunk_2 = get_urls_from_scholar_list_of_publications(pub_target_chunks[2], 'url_scrape_results_100_to_149')"
   ],
   "metadata": {
    "collapsed": false,
    "pycharm": {
     "name": "#%%\n"
    }
   }
  },
  {
   "cell_type": "code",
   "execution_count": null,
   "outputs": [],
   "source": [
    "# Quick Demo for Blogpost\n",
    "# cris_data\n",
    "title = 'Linguistic Theories in IS Research - A Review'\n",
    "authors = 'Becker J, Fielenbach K, Niehaves B'\n",
    "scholarly_search = scholarly.search_pubs(f'{title} {authors}')\n",
    "publication = next(scholarly_search)\n",
    "url = publication.get('pub_url')\n",
    "\n",
    "url"
   ],
   "metadata": {
    "collapsed": false,
    "pycharm": {
     "name": "#%%\n"
    }
   }
  },
  {
   "cell_type": "code",
   "execution_count": 18,
   "outputs": [
    {
     "name": "stdout",
     "output_type": "stream",
     "text": [
      "Amount of urls found: 118\n"
     ]
    },
    {
     "data": {
      "text/plain": "                              domain  count\n6                  link.springer.com     38\n0                   aisel.aisnet.org     37\n16              www.researchgate.net     13\n11                   www.econstor.eu      4\n1                   books.google.com      4\n9                   www.academia.edu      4\n5                ieeexplore.ieee.org      4\n2                         cs.emis.de      3\n4                 eprints.qut.edu.au      2\n7   osnascholar.ub.uni-osnabrueck.de      1\n8            pascal-francis.inist.fr      1\n10     www.digitale-soziale-netze.de      1\n3                  emisa-journal.org      1\n12                   www.emerald.com      1\n13             www.emisa-journal.org      1\n14             www.hb.fh-muenster.de      1\n15                www.igi-global.com      1\n17             www.sciencedirect.com      1",
      "text/html": "<div>\n<style scoped>\n    .dataframe tbody tr th:only-of-type {\n        vertical-align: middle;\n    }\n\n    .dataframe tbody tr th {\n        vertical-align: top;\n    }\n\n    .dataframe thead th {\n        text-align: right;\n    }\n</style>\n<table border=\"1\" class=\"dataframe\">\n  <thead>\n    <tr style=\"text-align: right;\">\n      <th></th>\n      <th>domain</th>\n      <th>count</th>\n    </tr>\n  </thead>\n  <tbody>\n    <tr>\n      <th>6</th>\n      <td>link.springer.com</td>\n      <td>38</td>\n    </tr>\n    <tr>\n      <th>0</th>\n      <td>aisel.aisnet.org</td>\n      <td>37</td>\n    </tr>\n    <tr>\n      <th>16</th>\n      <td>www.researchgate.net</td>\n      <td>13</td>\n    </tr>\n    <tr>\n      <th>11</th>\n      <td>www.econstor.eu</td>\n      <td>4</td>\n    </tr>\n    <tr>\n      <th>1</th>\n      <td>books.google.com</td>\n      <td>4</td>\n    </tr>\n    <tr>\n      <th>9</th>\n      <td>www.academia.edu</td>\n      <td>4</td>\n    </tr>\n    <tr>\n      <th>5</th>\n      <td>ieeexplore.ieee.org</td>\n      <td>4</td>\n    </tr>\n    <tr>\n      <th>2</th>\n      <td>cs.emis.de</td>\n      <td>3</td>\n    </tr>\n    <tr>\n      <th>4</th>\n      <td>eprints.qut.edu.au</td>\n      <td>2</td>\n    </tr>\n    <tr>\n      <th>7</th>\n      <td>osnascholar.ub.uni-osnabrueck.de</td>\n      <td>1</td>\n    </tr>\n    <tr>\n      <th>8</th>\n      <td>pascal-francis.inist.fr</td>\n      <td>1</td>\n    </tr>\n    <tr>\n      <th>10</th>\n      <td>www.digitale-soziale-netze.de</td>\n      <td>1</td>\n    </tr>\n    <tr>\n      <th>3</th>\n      <td>emisa-journal.org</td>\n      <td>1</td>\n    </tr>\n    <tr>\n      <th>12</th>\n      <td>www.emerald.com</td>\n      <td>1</td>\n    </tr>\n    <tr>\n      <th>13</th>\n      <td>www.emisa-journal.org</td>\n      <td>1</td>\n    </tr>\n    <tr>\n      <th>14</th>\n      <td>www.hb.fh-muenster.de</td>\n      <td>1</td>\n    </tr>\n    <tr>\n      <th>15</th>\n      <td>www.igi-global.com</td>\n      <td>1</td>\n    </tr>\n    <tr>\n      <th>17</th>\n      <td>www.sciencedirect.com</td>\n      <td>1</td>\n    </tr>\n  </tbody>\n</table>\n</div>"
     },
     "execution_count": 18,
     "metadata": {},
     "output_type": "execute_result"
    }
   ],
   "source": [
    "# read them in\n",
    "with open('exports/scrapings/url_scrape_results_0_to_49.json') as f:\n",
    "    pub_res_chunk_0 = json.load(f)\n",
    "with open('exports/scrapings/url_scrape_results_50_to_99.json') as f:\n",
    "    pub_res_chunk_1 = json.load(f)\n",
    "with open('exports/scrapings/url_scrape_results_100_to_149.json') as f:\n",
    "    pub_res_chunk_2 = json.load(f)\n",
    "\n",
    "# combine them into one list\n",
    "pub_res_0_to_149 = pub_res_chunk_0 + pub_res_chunk_1 + pub_res_chunk_2\n",
    "# count how many urls were found\n",
    "amount_urls_found = len([pub for pub in pub_res_0_to_149 if pub.get('url') is not None])\n",
    "print(f'Amount of urls found: {amount_urls_found}')\n",
    "\n",
    "# get those urls\n",
    "urls = [pub.get('url') for pub in pub_res_0_to_149 if pub.get('url') is not None]\n",
    "domains = [domain(url) for url in urls]\n",
    "\n",
    "# look what domains were found and how often\n",
    "domains_grouped = pd.DataFrame(domains, columns=['domain']).groupby('domain').size().reset_index(name='count')\n",
    "# sort desc\n",
    "domains_grouped = domains_grouped.sort_values(by='count', ascending=False)\n",
    "domains_grouped"
   ],
   "metadata": {
    "collapsed": false,
    "pycharm": {
     "name": "#%%\n"
    }
   }
  },
  {
   "cell_type": "code",
   "execution_count": 8,
   "outputs": [
    {
     "name": "stdout",
     "output_type": "stream",
     "text": [
      "\u001B[1;30;433\u001B[0m\n"
     ]
    }
   ],
   "source": [
    "x = 3\n",
    "print(f'\\033[1;30;43{x}\\033[0m')"
   ],
   "metadata": {
    "collapsed": false,
    "pycharm": {
     "name": "#%%\n"
    }
   }
  },
  {
   "cell_type": "code",
   "execution_count": 10,
   "outputs": [
    {
     "name": "stdout",
     "output_type": "stream",
     "text": [
      "\u001B[1;30;43mhel\u001B[0m\n"
     ]
    }
   ],
   "source": [
    "msg = 'hel'\n",
    "print(f'\\033[1;30;43m{msg}\\033[0m')"
   ],
   "metadata": {
    "collapsed": false,
    "pycharm": {
     "name": "#%%\n"
    }
   }
  },
  {
   "cell_type": "code",
   "execution_count": 7,
   "outputs": [],
   "source": [],
   "metadata": {
    "collapsed": false,
    "pycharm": {
     "name": "#%%\n"
    }
   }
  },
  {
   "cell_type": "code",
   "execution_count": null,
   "outputs": [],
   "source": [],
   "metadata": {
    "collapsed": false,
    "pycharm": {
     "name": "#%%\n"
    }
   }
  },
  {
   "cell_type": "code",
   "execution_count": 28,
   "outputs": [],
   "source": [
    "# get all target publications\n",
    "pub_target = get_publication_target_dict(df_publications)\n",
    "pub_target_chunks = get_publication_target_dict_chunks(pub_target)\n"
   ],
   "metadata": {
    "collapsed": false,
    "pycharm": {
     "name": "#%%\n"
    }
   }
  },
  {
   "cell_type": "code",
   "execution_count": 33,
   "outputs": [
    {
     "name": "stdout",
     "output_type": "stream",
     "text": [
      "publication 1 of 50: Business Process Reference Models for Reorganizing Public Administrations - A Case Study\n",
      " Found url: https://www.academia.edu/download/42050734/Business_Process_Reference_Models_for_Re20160204-7902-77x3te.pdf\n",
      "\u001B[1;30;42m1 results written to url_scrape_results_50_to_99.json\u001B[0m\n",
      "publication 2 of 50: Perspectives on Process Documentation - A Case Study\n",
      " Found url: https://link.springer.com/chapter/10.1007/978-1-4020-5347-4_19\n",
      "\u001B[1;30;42m2 results written to url_scrape_results_50_to_99.json\u001B[0m\n",
      "publication 3 of 50: Open Source Software for Virtual Town-Halls\n",
      " Found url: https://www.researchgate.net/profile/Patrick-Delfmann/publication/265021197_Open_Source_Software_for_Virtual_Town-Halls/links/56123bbc08ae6b29b49e509f/Open-Source-Software-for-Virtual-Town-Halls.pdf\n",
      "\u001B[1;30;42m3 results written to url_scrape_results_50_to_99.json\u001B[0m\n",
      "publication 4 of 50: Identifikation von Best Practices durch Geschäftsprozessmodellierung in öffentlichen Verwaltungen\n",
      " Found url: https://www.researchgate.net/profile/Patrick-Delfmann/publication/220515189_Identifikation_von_Best_Practices_durch_Geschaftsprozessmodellierung_in_offentlichen_Verwaltungen/links/53fc6aa10cf2364ccc0497f8/Identifikation-von-Best-Practices-durch-Geschaeftsprozessmodellierung-in-oeffentlichen-Verwaltungen.pdf\n",
      "\u001B[1;30;42m4 results written to url_scrape_results_50_to_99.json\u001B[0m\n",
      "publication 5 of 50: Prozessorientierte Reorganisation in öffentlichen Verwaltungen - Erfahrungen bei der Anwendung eines Referenzvorgehensmodells\n",
      " Found url: https://link.springer.com/chapter/10.1007/978-3-7908-2698-2_7\n",
      "\u001B[1;30;42m5 results written to url_scrape_results_50_to_99.json\u001B[0m\n",
      "publication 6 of 50: Configurative Process Modeling - Outlining an Approach to Increased Business Process Model Usability\n",
      " Found url: https://www.researchgate.net/profile/Dominik-Kuropka-2/publication/245767093_Configurative_Process_Modeling-Outlining_an_Approach_to_increased_Business_Process_Model_Usability/links/00b7d53ca263d7e2d1000000/Configurative-Process-Modeling-Outlining-an-Approach-to-increased-Business-Process-Model-Usability.pdf\n",
      "\u001B[1;30;42m6 results written to url_scrape_results_50_to_99.json\u001B[0m\n",
      "publication 7 of 50: RefMod06 - Wiederverwendung fachkonzeptioneller Softwaremodelle für kleine und mittlere Softwareunternehmen durch adaptive, komponentenorientierte Referenzmodellierung\n",
      " Found url: https://www.hb.fh-muenster.de/opus4/frontdoor/index/index/docId/7732\n",
      "\u001B[1;30;42m7 results written to url_scrape_results_50_to_99.json\u001B[0m\n",
      "publication 8 of 50: Adaption fachkonzeptioneller Referenzprozessmodelle\n",
      " Found url: None\n",
      "\u001B[1;30;42m8 results written to url_scrape_results_50_to_99.json\u001B[0m\n",
      "publication 9 of 50: Referenzmodellierung. Grundlagen, Techniken und domänenbezogene Anwendung\n",
      " Found url: https://books.google.com/books?hl=en&lr=&id=zLgcBgAAQBAJ&oi=fnd&pg=PR5&dq=Referenzmodellierung.+Grundlagen,+Techniken+und+dom%C3%A4nenbezogene+Anwendung+&ots=pu3qnjAkQN&sig=KO44bKmb0rWTAw_xZVfqIrnYhvI\n",
      "\u001B[1;30;42m9 results written to url_scrape_results_50_to_99.json\u001B[0m\n",
      "publication 10 of 50: Konstruktion konfigurierbarer Referenzmodelle für die öffentliche Verwaltung\n",
      " Found url: http://cs.emis.de/LNI/Proceedings/Proceedings34/GI-Proceedings.34-38.pdf\n",
      "\u001B[1;30;42m10 results written to url_scrape_results_50_to_99.json\u001B[0m\n",
      "publication 11 of 50: Multiperspektivische Ereignisgesteuerte Prozessketten\n",
      " Found url: None\n",
      "\u001B[1;30;42m11 results written to url_scrape_results_50_to_99.json\u001B[0m\n",
      "publication 12 of 50: Konfiguration fachkonzeptioneller Referenzmodelle\n",
      " Found url: https://link.springer.com/chapter/10.1007/978-3-642-57445-0_45\n",
      "\u001B[1;30;42m12 results written to url_scrape_results_50_to_99.json\u001B[0m\n",
      "publication 13 of 50: Referenzmodellierung\n",
      " Found url: None\n",
      "\u001B[1;30;42m13 results written to url_scrape_results_50_to_99.json\u001B[0m\n",
      "publication 14 of 50: Subjektivitätsmanagement für die Referenzmodellierung: Vorgehensmodell und Werkzeugkonzept\n",
      " Found url: https://www.researchgate.net/profile/Dominik-Kuropka-2/publication/239589130_Subjektivitatsmanagement_fur_die_Referenzmodellierung_Vorgehensmodell_und_Werkzeugkonzept/links/0deec53ca224275c1e000000/Subjektivitaetsmanagement-fuer-die-Referenzmodellierung-Vorgehensmodell-und-Werkzeugkonzept.pdf\n",
      "\u001B[1;30;42m14 results written to url_scrape_results_50_to_99.json\u001B[0m\n",
      "publication 15 of 50: Ontology Support For Configurative Reference Modelling\n",
      " Found url: https://aisel.aisnet.org/cgi/viewcontent.cgi?article=1166&context=ecis2008\n",
      "\u001B[1;30;42m15 results written to url_scrape_results_50_to_99.json\u001B[0m\n",
      "publication 16 of 50: Conceptual Modeling of Enterprise Content\n",
      " Found url: https://aisel.aisnet.org/cgi/viewcontent.cgi?article=1355&context=amcis2008\n",
      "\u001B[1;30;42m16 results written to url_scrape_results_50_to_99.json\u001B[0m\n",
      "publication 17 of 50: Towards the Specification of Digital Content – The Enterprise Content Modeling Language (ECML)\n",
      " Found url: https://aisel.aisnet.org/cgi/viewcontent.cgi?article=1355&context=amcis2008\n",
      "\u001B[1;30;42m17 results written to url_scrape_results_50_to_99.json\u001B[0m\n",
      "publication 18 of 50: Funktionale Gestaltungsoptionen von Online-Bewertungssystemen\n",
      " Found url: http://cs.emis.de/LNI/Proceedings/Proceedings154/gi-proc-154-177.pdf\n",
      "\u001B[1;30;42m18 results written to url_scrape_results_50_to_99.json\u001B[0m\n",
      "publication 19 of 50: Bewertungsmechanismen zur beruflichen Weiterqualifizierung in sozialen Web 2.0-Netzwerken\n",
      " Found url: http://www.digitale-soziale-netze.de/gi-workshop/gi-workshop2008-offline/papers/Bewertungsmechanismen%20zur%20beruflichen%20Weiterqualifizierung.pdf\n",
      "\u001B[1;30;42m19 results written to url_scrape_results_50_to_99.json\u001B[0m\n",
      "publication 20 of 50: Applying Theory-Building Techniques to the Design of Modeling Languages\n",
      " Found url: https://aisel.aisnet.org/ecis2009/274/\n",
      "\u001B[1;30;42m20 results written to url_scrape_results_50_to_99.json\u001B[0m\n",
      "publication 21 of 50: Toward Process Modeling in Creative Domains\n",
      " Found url: https://aisel.aisnet.org/amcis2009/596/\n",
      "\u001B[1;30;42m21 results written to url_scrape_results_50_to_99.json\u001B[0m\n",
      "publication 22 of 50: Toward the Concept of Pockets of Creativity in Business Processes\n",
      " Found url: https://aisel.aisnet.org/ecis2009/440/\n",
      "\u001B[1;30;42m22 results written to url_scrape_results_50_to_99.json\u001B[0m\n",
      "publication 23 of 50: On the Transition from Computation Independent to Platform Independent Models\n",
      " Found url: https://aisel.aisnet.org/cgi/viewcontent.cgi?article=2017&context=amcis2006\n",
      "\u001B[1;30;42m23 results written to url_scrape_results_50_to_99.json\u001B[0m\n",
      "publication 24 of 50: Engineering, Sales, and Delivery of Modular Value Bundles – A Framework for Configurative Modeling\n",
      " Found url: https://link.springer.com/chapter/10.1007/978-3-8349-6445-8_22\n",
      "\u001B[1;30;42m24 results written to url_scrape_results_50_to_99.json\u001B[0m\n",
      "publication 25 of 50: Verbundgruppen im Internet: Ein Referenzmodell\n",
      " Found url: https://link.springer.com/chapter/10.1007/978-3-642-11859-3_14\n",
      "\u001B[1;30;42m25 results written to url_scrape_results_50_to_99.json\u001B[0m\n",
      "publication 26 of 50: Vergleich von Reifegradmodellen für die hybride Wertschöpfung und Entwicklungsperspektiven\n",
      " Found url: https://books.google.com/books?hl=en&lr=&id=3lmRBAv0w54C&oi=fnd&pg=PA415&dq=Vergleich+von+Reifegradmodellen+f%C3%BCr+die+hybride+Wertsch%C3%B6pfung+und+Entwicklungsperspektiven+Becker+J,+Knackstedt+R,+P%C3%B6ppelbu%C3%9F+J&ots=bu-d_M7pFP&sig=IBC7oxeKE5BAA19jlDJti8dQuak\n",
      "\u001B[1;30;42m26 results written to url_scrape_results_50_to_99.json\u001B[0m\n",
      "publication 27 of 50: Vorgehensmodell zur Entwicklung von Reifegradmodellen\n",
      " Found url: https://aisel.aisnet.org/wi2009/44/\n",
      "\u001B[1;30;42m27 results written to url_scrape_results_50_to_99.json\u001B[0m\n",
      "publication 28 of 50: Modellierung integrierter Produktion und Dienstleistung mit dem SCOR-Modell – Bestehende Ansätze und Entwicklungsperspektiven\n",
      " Found url: https://aisel.aisnet.org/wi2009/92/\n",
      "\u001B[1;30;42m28 results written to url_scrape_results_50_to_99.json\u001B[0m\n",
      "publication 29 of 50: Towards a Consolidated Concept of Maturity in Providing Customer Solutions\n",
      " Found url: None\n",
      "\u001B[1;30;42m29 results written to url_scrape_results_50_to_99.json\u001B[0m\n",
      "publication 30 of 50: Dokumentationsqualität von Reifegradmodellentwicklungen\n",
      " Found url: https://www.econstor.eu/bitstream/10419/59549/1/718173538.pdf\n",
      "\u001B[1;30;42m30 results written to url_scrape_results_50_to_99.json\u001B[0m\n",
      "publication 31 of 50: Serviceorientierte Informationssystemarchitekturen zur Integration von Produktion und Dienstleistung am Beispiel des WEEE-Recycling\n",
      " Found url: https://link.springer.com/chapter/10.1007/978-3-7908-2056-0_12\n",
      "\u001B[1;30;42m31 results written to url_scrape_results_50_to_99.json\u001B[0m\n",
      "publication 32 of 50: Das IT Performance Measurement Maturity Model - Ein Reifegradmodell für die Business Intelligence-Unterstützung des IT-Managements\n",
      " Found url: https://www.researchgate.net/profile/Jens-Poeppelbuss/publication/221138357_Das_IT_Performance_Measurement_Maturity_Model_-_Ein_Reifegradmodell_fur_die_Business_Intelligence-Unterstutzung_des_IT-Managements/links/55a77cbe08ae345d61db3e34/Das-IT-Performance-Measurement-Maturity-Model-Ein-Reifegradmodell-fuer-die-Business-Intelligence-Unterstuetzung-des-IT-Managements.pdf\n",
      "\u001B[1;30;42m32 results written to url_scrape_results_50_to_99.json\u001B[0m\n",
      "publication 33 of 50: An Ontology-based Service Discovery Approach for the Provisioning of Product-Service Bundles\n",
      " Found url: https://eprints.qut.edu.au/70716/\n",
      "\u001B[1;30;42m33 results written to url_scrape_results_50_to_99.json\u001B[0m\n",
      "publication 34 of 50: Referenzmodellgestütztes Compliance Reporting am Beispiel der EU-Finanzmarktrichtlinie MiFID\n",
      " Found url: https://link.springer.com/article/10.1007/BF03341249\n",
      "\u001B[1;30;42m34 results written to url_scrape_results_50_to_99.json\u001B[0m\n",
      "publication 35 of 50: Softwarequalität als Auswahlmerkmal: Eine empirische Untersuchung\n",
      " Found url: None\n",
      "\u001B[1;30;42m35 results written to url_scrape_results_50_to_99.json\u001B[0m\n",
      "publication 36 of 50: Extending the Supply Chain Operations Reference Model: Potentials and their Tool Support\n",
      " Found url: https://aisel.aisnet.org/cgi/viewcontent.cgi?article=1073&context=ecis2007\n",
      "\u001B[1;30;42m36 results written to url_scrape_results_50_to_99.json\u001B[0m\n",
      "publication 37 of 50: Plädoyer für die Entwicklung perspektivenspezifischer Problemlösungskomponenten zur Unterstützung der Prozessverbesserung\n",
      " Found url: https://aisel.aisnet.org/cgi/viewcontent.cgi?article=1043&context=wi2007\n",
      "\u001B[1;30;42m37 results written to url_scrape_results_50_to_99.json\u001B[0m\n",
      "publication 38 of 50: Dynamic Alignment of ERP Systems and their Documentations. An Approach for Documentation Quality Improvement\n",
      " Found url: https://aisel.aisnet.org/cgi/viewcontent.cgi?article=2017&context=amcis2007\n",
      "\u001B[1;30;42m38 results written to url_scrape_results_50_to_99.json\u001B[0m\n",
      "publication 39 of 50: Knowledge Transfer in Information Systems Research. State of the Art and Perspectives for Internet Literature Services\n",
      " Found url: https://aisel.aisnet.org/cgi/viewcontent.cgi?article=2018&context=amcis2007\n",
      "\u001B[1;30;42m39 results written to url_scrape_results_50_to_99.json\u001B[0m\n",
      "publication 40 of 50: Facilitating Change Management with Configurative Reference Modelling\n",
      " Found url: None\n",
      "\u001B[1;30;42m40 results written to url_scrape_results_50_to_99.json\u001B[0m\n",
      "publication 41 of 50: Serviceidentifikation für die Produktionsplanung eines mittelständischen Auftragsfertigers\n",
      " Found url: https://link.springer.com/article/10.1007/BF03340247\n",
      "\u001B[1;30;42m41 results written to url_scrape_results_50_to_99.json\u001B[0m\n",
      "publication 42 of 50: Anpassung und Entwicklung von Warenwirtschaftssystemen - eine explorative Untersuchung\n",
      " Found url: https://books.google.com/books?hl=en&lr=&id=XN8fBAAAQBAJ&oi=fnd&pg=PR6&dq=Anpassung+und+Entwicklung+von+Warenwirtschaftssystemen+-+eine+explorative+Untersuchung+Winkelmann+A,+Knackstedt+R,+Vering+O&ots=8wj-arDg5T&sig=GO63thfNf6tF1n1Q0tyVadCQVbU\n",
      "\u001B[1;30;42m42 results written to url_scrape_results_50_to_99.json\u001B[0m\n",
      "publication 43 of 50: Configuring Reference Models - An Integrated Approach for Transaction Processing and Decision Support\n",
      " Found url: None\n",
      "\u001B[1;30;42m43 results written to url_scrape_results_50_to_99.json\u001B[0m\n",
      "publication 44 of 50: Konfigurative Referenzmodellierung zur Fachkonzeption von Data-Warehouse-Systemen mit dem H2-Toolset\n",
      " Found url: https://www.researchgate.net/profile/Christian_Janiesch/publication/221138362_Konfigurative_Referenzmodellierung_zur_Fachkonzeption_von_Data_Warehouse-Systemen_mit_dem_H2-Toolset/links/02e7e5369ef28cbc3c000000/Konfigurative-Referenzmodellierung-zur-Fachkonzeption-von-Data-Warehouse-Systemen-mit-dem-H2-Toolset.pdf\n",
      "\u001B[1;30;42m44 results written to url_scrape_results_50_to_99.json\u001B[0m\n",
      "publication 45 of 50: Procedure Model for the Analysis and Design of Reporting Systems - A Case Study in Conceptual Modelling\n",
      " Found url: https://aisel.aisnet.org/acis2006/59/\n",
      "\u001B[1;30;42m45 results written to url_scrape_results_50_to_99.json\u001B[0m\n",
      "publication 46 of 50: Online-Literaturdatenbanken im Bereich der Wirtschaftsinformatik. Bereitstellung wissenschaftlicher Literatur und Analyse von Interaktionen der Wissensteilung\n",
      " Found url: https://link.springer.com/article/10.1007/s11576-006-0006-1\n",
      "\u001B[1;30;42m46 results written to url_scrape_results_50_to_99.json\u001B[0m\n",
      "publication 47 of 50: Fachkonzeptionelle Referenzmodellierung einer Managementunterstützung mit quantiativen und qualitativen Daten. Methodische Konzepte zur Konstruktion und Anwendung\n",
      " Found url: None\n",
      "\u001B[1;30;42m47 results written to url_scrape_results_50_to_99.json\u001B[0m\n",
      "publication 48 of 50: OLAP-Techniken aus Sicht der industriellen Auftragsaabwicklung\n",
      " Found url: https://link.springer.com/chapter/10.1007/3-7908-1612-4_13\n",
      "\u001B[1;30;42m48 results written to url_scrape_results_50_to_99.json\u001B[0m\n",
      "publication 49 of 50: Process Modelling for Service Processes. Modelling methods extensions for specifying and analysing customer integration\n",
      " Found url: None\n",
      "\u001B[1;30;42m49 results written to url_scrape_results_50_to_99.json\u001B[0m\n",
      "publication 50 of 50: Configurative Reference Model-Based Development of Data Warehouse Systems\n",
      " Found url: None\n",
      "\u001B[1;30;42m50 results written to url_scrape_results_50_to_99.json\u001B[0m\n"
     ]
    }
   ],
   "source": [
    "# scraper api is active\n",
    "pub_res_chunk_0 = None  # see above\n",
    "pub_res_chunk_1 = get_urls_from_scholar_list_of_publications(pub_target_chunks[1], 'url_scrape_results_50_to_99')"
   ],
   "metadata": {
    "collapsed": false,
    "pycharm": {
     "name": "#%%\n"
    }
   }
  },
  {
   "cell_type": "code",
   "execution_count": 34,
   "outputs": [
    {
     "name": "stdout",
     "output_type": "stream",
     "text": [
      "publication 1 of 50: Process Reference Model for Data Warehouse Development - A Consensus-oriented Approach\n",
      " Found url: None\n",
      "\u001B[1;30;42m1 results written to url_scrape_results_100_to_149.json\u001B[0m\n",
      "publication 2 of 50: Epistemological Perspectives on IS-Development - A Consensus-Oriented Approach on Conceptual Modeling\n",
      " Found url: https://link.springer.com/chapter/10.1007/11590019_71\n",
      "\u001B[1;30;42m2 results written to url_scrape_results_100_to_149.json\u001B[0m\n",
      "publication 3 of 50: Epistemologische Positionierung in der Wirtschaftsinformatik am Beispiel einer konsensorientierten Informationsmodellierung\n",
      " Found url: https://www.econstor.eu/handle/10419/59562\n",
      "\u001B[1;30;42m3 results written to url_scrape_results_100_to_149.json\u001B[0m\n",
      "publication 4 of 50: Bezugsrahmen zur epistemologischen Positionierung der Referenzmodellierung\n",
      " Found url: https://link.springer.com/chapter/10.1007/978-3-7908-2698-2_1\n",
      "\u001B[1;30;42m4 results written to url_scrape_results_100_to_149.json\u001B[0m\n",
      "publication 5 of 50: Customer Process Management\n",
      " Found url: None\n",
      "\u001B[1;30;42m5 results written to url_scrape_results_100_to_149.json\u001B[0m\n",
      "publication 6 of 50: Wissenschaftstheoretische Grundlagen und ihre Rolle für eine konsensorientierte Informationsmodellierung\n",
      " Found url: https://www.academia.edu/download/3470783/Die_Rolle_von_Geschichten_im_betrieblichen_Knowledge-Management.pdf#page=313\n",
      "\u001B[1;30;42m6 results written to url_scrape_results_100_to_149.json\u001B[0m\n",
      "publication 7 of 50: Konstruktion und Anwendung fachkonzeptioneller Referenzmodelle im Data Warehousing\n",
      " Found url: https://link.springer.com/chapter/10.1007/978-3-642-57445-0_21\n",
      "\u001B[1;30;42m7 results written to url_scrape_results_100_to_149.json\u001B[0m\n",
      "publication 8 of 50: Prozessorientierte Balanced Scorecard als Instrument des IT-Managements\n",
      " Found url: https://cs.emis.de/LNI/Proceedings/Proceedings34/GI-Proceedings.34-43.pdf\n",
      "\u001B[1;30;42m8 results written to url_scrape_results_100_to_149.json\u001B[0m\n",
      "publication 9 of 50: Architectures for Enterprise Information Portals: An Approach to Integrate Data Warehousing and Content Management\n",
      " Found url: None\n",
      "\u001B[1;30;42m9 results written to url_scrape_results_100_to_149.json\u001B[0m\n",
      "publication 10 of 50: Aufbau von prozessorientierten, integrierten Scorecard-Systemen\n",
      " Found url: https://link.springer.com/chapter/10.1007/978-3-663-01569-7_6\n",
      "\u001B[1;30;42m10 results written to url_scrape_results_100_to_149.json\u001B[0m\n",
      "publication 11 of 50: Informationsportale für das Management: Integration von Data-Warehouse- und Content-Management-Systemen\n",
      " Found url: https://link.springer.com/chapter/10.1007/978-3-642-57491-7_15\n",
      "\u001B[1;30;42m11 results written to url_scrape_results_100_to_149.json\u001B[0m\n",
      "publication 12 of 50: Die digitale Brücke: Hersteller - Händler - Kunden\n",
      " Found url: https://link.springer.com/content/pdf/10.1007/978-3-8349-9894-1.pdf#page=210\n",
      "\u001B[1;30;42m12 results written to url_scrape_results_100_to_149.json\u001B[0m\n",
      "publication 13 of 50: Konfigurative Referenzmodelle als operative Instrumente des Wissensmanagements bei der Data-Warehouse-Entwicklung\n",
      " Found url: None\n",
      "\u001B[1;30;42m13 results written to url_scrape_results_100_to_149.json\u001B[0m\n",
      "publication 14 of 50: Kundenintegration als Perspektive der Prozessmodellierung\n",
      " Found url: None\n",
      "\u001B[1;30;42m14 results written to url_scrape_results_100_to_149.json\u001B[0m\n",
      "publication 15 of 50: Fachliche Konzeption von Führungsinformationssystemen\n",
      " Found url: None\n",
      "\u001B[1;30;42m15 results written to url_scrape_results_100_to_149.json\u001B[0m\n",
      "publication 16 of 50: Referenz-Informationsmodellierung\n",
      " Found url: None\n",
      "\u001B[1;30;42m16 results written to url_scrape_results_100_to_149.json\u001B[0m\n",
      "publication 17 of 50: Fachkonzeptuelle Modellierung von Führungsinformationssystemen am Beispiel eines filialisierenden Einzelhandelsunternehmens\n",
      " Found url: None\n",
      "\u001B[1;30;42m17 results written to url_scrape_results_100_to_149.json\u001B[0m\n",
      "publication 18 of 50: Elektronik unterstützt Entscheidungen in Unternehmen\n",
      " Found url: https://link.springer.com/article/10.1365/s11576-008-0049-6\n",
      "\u001B[1;30;42m18 results written to url_scrape_results_100_to_149.json\u001B[0m\n",
      "publication 19 of 50: Führungsinformationssysteme - Historische Entwicklung und Konzeption\n",
      " Found url: None\n",
      "\u001B[1;30;42m19 results written to url_scrape_results_100_to_149.json\u001B[0m\n",
      "publication 20 of 50: IT-supported Strategic Management in Municipal Public Administration in Brazil\n",
      " Found url: https://www.researchgate.net/profile/Matthias-Voigt-2/publication/236624966_IT-supported_Strategic_Management_in_Municipal_Public_Administration_in_Brazil/links/00b4953b9208f2185f000000/IT-supported-Strategic-Management-in-Municipal-Public-Administration-in-Brazil.pdf\n",
      "\u001B[1;30;42m20 results written to url_scrape_results_100_to_149.json\u001B[0m\n",
      "publication 21 of 50: Design and Evaluation of Interactive Decision Aids for Value-Added Services\n",
      " Found url: https://link.springer.com/article/10.1007/s12525-010-0032-0\n",
      "\u001B[1;30;42m21 results written to url_scrape_results_100_to_149.json\u001B[0m\n",
      "publication 22 of 50: Amazon Web Services - Eine Betrachtung technischer, ökonomischer und sozialer Aspekte\n",
      " Found url: https://www.econstor.eu/handle/10419/46587\n",
      "\u001B[1;30;42m22 results written to url_scrape_results_100_to_149.json\u001B[0m\n",
      "publication 23 of 50: The Concept of Creativity in the Information Systems Discipline: Past, Present, and Prospects\n",
      " Found url: https://aisel.aisnet.org/cais/vol27/iss1/14/\n",
      "\u001B[1;30;42m23 results written to url_scrape_results_100_to_149.json\u001B[0m\n",
      "publication 24 of 50: Managing Creative Risks\n",
      " Found url: https://aisel.aisnet.org/amcis2008/348/\n",
      "\u001B[1;30;42m24 results written to url_scrape_results_100_to_149.json\u001B[0m\n",
      "publication 25 of 50: Spezialisiertes Suchen im Web\n",
      " Found url: https://www.academia.edu/download/49431558/Universelles_Suchen_im_Web_-_Eine_techni20161007-6450-1wlm1s7.pdf#page=149\n",
      "\u001B[1;30;42m25 results written to url_scrape_results_100_to_149.json\u001B[0m\n",
      "publication 26 of 50: Business Intelligence in Local Public Administrations - Project Experiences from Germany\n",
      " Found url: https://link.springer.com/chapter/10.1007/978-0-387-68772-8_29\n",
      "\u001B[1;30;42m26 results written to url_scrape_results_100_to_149.json\u001B[0m\n",
      "publication 27 of 50: Designing Open Source Business Intelligence for Public Administrations\n",
      " Found url: https://aisel.aisnet.org/cgi/viewcontent.cgi?article=1037&context=wi2007\n",
      "\u001B[1;30;42m27 results written to url_scrape_results_100_to_149.json\u001B[0m\n",
      "publication 28 of 50: Open Source Business Intelligence in Public Administrations\n",
      " Found url: https://link.springer.com/chapter/10.1007/978-0-387-68772-8_29\n",
      "\u001B[1;30;42m28 results written to url_scrape_results_100_to_149.json\u001B[0m\n",
      "publication 29 of 50: OSS for Public Sector Management Information Systems\n",
      " Found url: https://aisel.aisnet.org/cgi/viewcontent.cgi?article=1555&context=amcis2007\n",
      "\u001B[1;30;42m29 results written to url_scrape_results_100_to_149.json\u001B[0m\n",
      "publication 30 of 50: Public Sector Business Intelligence - An Open Source Approach\n",
      " Found url: https://aisel.aisnet.org/cgi/viewcontent.cgi?article=1555&context=amcis2007\n",
      "\u001B[1;30;42m30 results written to url_scrape_results_100_to_149.json\u001B[0m\n",
      "publication 31 of 50: Navigational Design of Web Information Systems: Framework Development and Case Study\n",
      " Found url: https://eprints.qut.edu.au/4634/\n",
      "\u001B[1;30;42m31 results written to url_scrape_results_100_to_149.json\u001B[0m\n",
      "publication 32 of 50: Governmental Projects for the Aging Society: An Explorative Study in Russia\n",
      " Found url: https://www.researchgate.net/profile/Joern-Lucke/publication/276294239_Markenbildung_von_Stadt-_und_Regiowikis/links/555657c208ae6943a8733b52/Markenbildung-von-Stadt-und-Regiowikis.pdf#page=89\n",
      "\u001B[1;30;42m32 results written to url_scrape_results_100_to_149.json\u001B[0m\n",
      "publication 33 of 50: T-Government for the Citizens: Digital Divide and Internet Technology Acceptance among the Elderly\n",
      " Found url: None\n",
      "\u001B[1;30;42m33 results written to url_scrape_results_100_to_149.json\u001B[0m\n",
      "publication 34 of 50: Transformation Networks – The Case of Business Process Management in Local Governments\n",
      " Found url: https://aisel.aisnet.org/amcis2010/292/\n",
      "\u001B[1;30;42m34 results written to url_scrape_results_100_to_149.json\u001B[0m\n",
      "publication 35 of 50: Information Society and Aging - A Study on E-Inclusion Projects in Russian Municipalities\n",
      " Found url: https://www.researchgate.net/profile/Piet-Kommers-2/publication/323277180_E-Society_2010/links/5a8b957b0f7e9b1a9555ba9b/E-Society-2010.pdf#page=162\n",
      "\u001B[1;30;42m35 results written to url_scrape_results_100_to_149.json\u001B[0m\n",
      "publication 36 of 50: Intermediaries in E-Inclusion: A Literature Review\n",
      " Found url: https://ieeexplore.ieee.org/abstract/document/5428295/\n",
      "\u001B[1;30;42m36 results written to url_scrape_results_100_to_149.json\u001B[0m\n",
      "publication 37 of 50: Open Process Innovation: The Impact of Personnel Resource Scarcity on the Involvement of Customers and Consultants in Public Sector BPM\n",
      " Found url: https://www.emerald.com/insight/content/doi/10.1108/14637151011049412/full/html\n",
      "\u001B[1;30;42m37 results written to url_scrape_results_100_to_149.json\u001B[0m\n",
      "publication 38 of 50: Verwaltungsreform in Deutschland und Japan - Eine empirisch-vergleichende Analyse Kooperativer Kommunaler Reformpolitik\n",
      " Found url: https://link.springer.com/content/pdf/10.1007/978-3-531-91878-5.pdf\n",
      "\u001B[1;30;42m38 results written to url_scrape_results_100_to_149.json\u001B[0m\n",
      "publication 39 of 50: Verwaltungsreform in Deutschland und Japan - Kooperative Kommunale Reformpolitik im Vergleich. Dissertation der Philosophischen Fakultät, Westfälische Wilhelms-Universität Münster\n",
      " Found url: https://link.springer.com/content/pdf/10.1007/978-3-531-91878-5.pdf\n",
      "\u001B[1;30;42m39 results written to url_scrape_results_100_to_149.json\u001B[0m\n",
      "publication 40 of 50: Why Do We Toil? Benefiting Research at the Cost of Practice or Vice Versa?\n",
      " Found url: https://aisel.aisnet.org/cgi/viewcontent.cgi?article=1227&context=ecis2009\n",
      "\u001B[1;30;42m40 results written to url_scrape_results_100_to_149.json\u001B[0m\n",
      "publication 41 of 50: Shared Services Strategies and Their Determinants: A Multiple Case Study Analysis in the Public Sector\n",
      " Found url: https://aisel.aisnet.org/amcis2009/14/\n",
      "\u001B[1;30;42m41 results written to url_scrape_results_100_to_149.json\u001B[0m\n",
      "publication 42 of 50: Does the Answer Lie in Collaboration? - A Case Study on E-Government and Societal Aging\n",
      " Found url: https://aisel.aisnet.org/cgi/viewcontent.cgi?article=1013&context=ecis2008\n",
      "\u001B[1;30;42m42 results written to url_scrape_results_100_to_149.json\u001B[0m\n",
      "publication 43 of 50: Open Innovation and Public Sector Business Process Management – A Multi-Method Study\n",
      " Found url: https://aisel.aisnet.org/amcis2009/633/\n",
      "\u001B[1;30;42m43 results written to url_scrape_results_100_to_149.json\u001B[0m\n",
      "publication 44 of 50: Open Process Innovation: A Multi-Method Study on the Involvement of Customers and Consultant in Public Sector BPM\n",
      " Found url: https://aisel.aisnet.org/ecis2009/355/\n",
      "\u001B[1;30;42m44 results written to url_scrape_results_100_to_149.json\u001B[0m\n",
      "publication 45 of 50: Towards a Theory of Reform Governance: Do Politico-Administrative System Variables Influence Reform Policy Networks in German and Japanese Local Governments?\n",
      " Found url: None\n",
      "\u001B[1;30;42m45 results written to url_scrape_results_100_to_149.json\u001B[0m\n",
      "publication 46 of 50: E-Government Research and Societal Aging\n",
      " Found url: https://www.sciencedirect.com/science/article/pii/S0740624X14001634\n",
      "\u001B[1;30;42m46 results written to url_scrape_results_100_to_149.json\u001B[0m\n",
      "publication 47 of 50: Der demografische Wandel und seine Konsequenzen für das E-Govemment - Eine Fallstudie\n",
      " Found url: https://aisel.aisnet.org/wi2009/142/\n",
      "\u001B[1;30;42m47 results written to url_scrape_results_100_to_149.json\u001B[0m\n",
      "publication 48 of 50: Age-Aware E-Government – A Research Agenda\n",
      " Found url: https://ieeexplore.ieee.org/abstract/document/4755560/\n",
      "\u001B[1;30;42m48 results written to url_scrape_results_100_to_149.json\u001B[0m\n",
      "publication 49 of 50: The Demographic Challenge: Aging and Depopulation and their Consequences for eGovernment.\n",
      " Found url: https://ieeexplore.ieee.org/abstract/document/4755560/\n",
      "\u001B[1;30;42m49 results written to url_scrape_results_100_to_149.json\u001B[0m\n",
      "publication 50 of 50: Comparative Study of Local Government Administrative Reforms in Japan and Germany – Critical Factors for Innovation and Performance [In Japanese]\n",
      " Found url: https://link.springer.com/chapter/10.1007/978-3-540-74444-3_3\n",
      "\u001B[1;30;42m50 results written to url_scrape_results_100_to_149.json\u001B[0m\n"
     ]
    }
   ],
   "source": [
    "pub_res_chunk_2 = get_urls_from_scholar_list_of_publications(pub_target_chunks[2], 'url_scrape_results_100_to_149')"
   ],
   "metadata": {
    "collapsed": false,
    "pycharm": {
     "name": "#%%\n"
    }
   }
  },
  {
   "cell_type": "code",
   "execution_count": 36,
   "outputs": [
    {
     "data": {
      "text/plain": "'https://link.springer.com/chapter/10.1007/978-3-7908-2336-3_5'"
     },
     "execution_count": 36,
     "metadata": {},
     "output_type": "execute_result"
    }
   ],
   "source": [
    "# Quick Demo for Blogpost\n",
    "# cris_data\n",
    "title = 'Linguistic Theories in IS Research - A Review'\n",
    "authors = 'Becker J, Fielenbach K, Niehaves B'\n",
    "scholarly_search = scholarly.search_pubs(f'{title} {authors}')\n",
    "publication = next(scholarly_search)\n",
    "url = publication.get('pub_url')\n",
    "\n",
    "url"
   ],
   "metadata": {
    "collapsed": false,
    "pycharm": {
     "name": "#%%\n"
    }
   }
  },
  {
   "cell_type": "code",
   "execution_count": null,
   "outputs": [],
   "source": [
    "scraper.s"
   ],
   "metadata": {
    "collapsed": false,
    "pycharm": {
     "name": "#%%\n"
    }
   }
  }
 ],
 "metadata": {
  "kernelspec": {
   "display_name": "Python 3 (ipykernel)",
   "language": "python",
   "name": "python3"
  },
  "language_info": {
   "codemirror_mode": {
    "name": "ipython",
    "version": 3
   },
   "file_extension": ".py",
   "mimetype": "text/x-python",
   "name": "python",
   "nbconvert_exporter": "python",
   "pygments_lexer": "ipython3",
   "version": "3.9.13"
  }
 },
 "nbformat": 4,
 "nbformat_minor": 1
}