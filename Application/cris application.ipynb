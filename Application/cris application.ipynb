{
 "cells": [
  {
   "cell_type": "markdown",
   "source": [
    "# Workbook with examples how to use the research scraper with CRIS for easy testing"
   ],
   "metadata": {
    "collapsed": false,
    "pycharm": {
     "name": "#%% md\n"
    }
   }
  },
  {
   "cell_type": "code",
   "execution_count": 1,
   "outputs": [],
   "source": [
    "import json\n",
    "import os\n",
    "import time\n",
    "import urllib.parse\n",
    "\n",
    "import pandas as pd\n",
    "from scholarly import scholarly, ProxyGenerator\n",
    "\n",
    "from Research_Scraper_Code import utils\n",
    "from Research_Scraper_Code.Research_Scraper import ResearchScraper"
   ],
   "metadata": {
    "collapsed": false,
    "pycharm": {
     "name": "#%%\n"
    }
   }
  },
  {
   "cell_type": "markdown",
   "source": [
    "### Init scraper and load the publications from the csv"
   ],
   "metadata": {
    "collapsed": false,
    "pycharm": {
     "name": "#%% md\n"
    }
   }
  },
  {
   "cell_type": "code",
   "execution_count": 2,
   "outputs": [],
   "source": [
    "scraper = ResearchScraper()"
   ],
   "metadata": {
    "collapsed": false,
    "pycharm": {
     "name": "#%%\n"
    }
   }
  },
  {
   "cell_type": "code",
   "execution_count": 3,
   "outputs": [],
   "source": [
    "df_publications = utils.load_publications_from_csv()"
   ],
   "metadata": {
    "collapsed": false,
    "pycharm": {
     "name": "#%%\n"
    }
   }
  },
  {
   "cell_type": "markdown",
   "source": [
    "## Scraping utils"
   ],
   "metadata": {
    "collapsed": false,
    "pycharm": {
     "name": "#%% md\n"
    }
   }
  },
  {
   "cell_type": "code",
   "execution_count": 4,
   "outputs": [],
   "source": [
    "publication_dois = utils.get_all_dois(df_publications)"
   ],
   "metadata": {
    "collapsed": false,
    "pycharm": {
     "name": "#%%\n"
    }
   }
  },
  {
   "cell_type": "markdown",
   "source": [
    "Create a sample of cris data and scrape them"
   ],
   "metadata": {
    "collapsed": false,
    "pycharm": {
     "name": "#%% md\n"
    }
   }
  },
  {
   "cell_type": "code",
   "execution_count": 5,
   "outputs": [],
   "source": [
    "def scrape_sample_of_dois(dois, n):\n",
    "    \"\"\"\n",
    "    Chooses random n entries from the list of dois and scrapes them. For debugging purposes\n",
    "    :param dois: list of dois to sample from\n",
    "    :param n: size of the sample\n",
    "    :return: results of the scraping\n",
    "    \"\"\"\n",
    "    # get a sample of 10 from dois\n",
    "    sample = dois.sample(n)\n",
    "    #print(sample)\n",
    "    results = []\n",
    "\n",
    "    for doi in sample:\n",
    "        print(f'Scraping {doi}')\n",
    "        start = time.time()\n",
    "        result = scraper.scrape_publication_by_doi(doi, params=['full'])\n",
    "        end = time.time()\n",
    "        print(f'Total time : {end - start}')\n",
    "        old_len = len(results)\n",
    "        results.append(result)\n",
    "        print(f'\\n \\t  >>>>>> added new result, n went from {old_len} to n={len(results)}')\n",
    "        # print(f'\\t -> Results: {results}')\n",
    "\n",
    "    #write_results(results, f'sample_{time.strftime(\"%Y_%m_%d__%H_%M\")}')\n",
    "    return results\n"
   ],
   "metadata": {
    "collapsed": false,
    "pycharm": {
     "name": "#%%\n"
    }
   }
  },
  {
   "cell_type": "code",
   "execution_count": null,
   "outputs": [],
   "source": [
    "# run_cell = Truex\n",
    "# # scrape sample of 3\n",
    "# if run_cell:\n",
    "#     res = None\n",
    "#     res = scrape_sample_of_dois(publication_dois, 3)\n",
    "#     utils.write_results(res, f'sample_scrapings_{time.strftime(\"%Y_%m_%d__%H_%M\")}')"
   ],
   "metadata": {
    "collapsed": false,
    "pycharm": {
     "name": "#%%\n"
    }
   }
  },
  {
   "cell_type": "markdown",
   "source": [
    "## Importing results of scraping"
   ],
   "metadata": {
    "collapsed": false,
    "pycharm": {
     "name": "#%% md\n"
    }
   }
  },
  {
   "cell_type": "markdown",
   "source": [
    "Read the results of scraping from a file"
   ],
   "metadata": {
    "collapsed": false,
    "pycharm": {
     "name": "#%% md\n"
    }
   }
  },
  {
   "cell_type": "code",
   "execution_count": 6,
   "outputs": [],
   "source": [
    "# read json file with scraping results (all cris doi numbers)\n",
    "with open('exports/scrapings/scrapings_2022_10_21__03_38.json') as f:\n",
    "    scraping_results_imported = json.load(f)\n",
    "\n",
    "# old file 582 after clean"
   ],
   "metadata": {
    "collapsed": false,
    "pycharm": {
     "name": "#%%\n"
    }
   }
  },
  {
   "cell_type": "markdown",
   "source": [
    "Drop nones and errors, extract error rows"
   ],
   "metadata": {
    "collapsed": false,
    "pycharm": {
     "name": "#%% md\n"
    }
   }
  },
  {
   "cell_type": "code",
   "execution_count": 7,
   "outputs": [],
   "source": [
    "scraping_results_imported_cleaned = [x for x in scraping_results_imported if x is not None and x.get('error') is None]"
   ],
   "metadata": {
    "collapsed": false,
    "pycharm": {
     "name": "#%%\n"
    }
   }
  },
  {
   "cell_type": "code",
   "execution_count": 8,
   "outputs": [],
   "source": [
    "# rows from the dict with the key 'error'\n",
    "error_rows = [x for x in scraping_results_imported if x is not None and x.get('error') is not None]\n",
    "error_rows_unknown = [x for x in error_rows if x.get('error') != 'No scraper found for this url']"
   ],
   "metadata": {
    "collapsed": false,
    "pycharm": {
     "name": "#%%\n"
    }
   }
  },
  {
   "cell_type": "markdown",
   "source": [
    "You can search for a publication in the scraped results by url"
   ],
   "metadata": {
    "collapsed": false,
    "pycharm": {
     "name": "#%% md\n"
    }
   }
  },
  {
   "cell_type": "code",
   "execution_count": 9,
   "outputs": [
    {
     "data": {
      "text/plain": "[{'url': 'https://link.springer.com/article/10.1007/s12599-019-00623-1',\n  'title': 'Standardization of Forms in Governments',\n  'doi': '10.1007/s12599-019-00623-1',\n  'authors': [{'name': 'Hendrik Scholta', 'orcid': None},\n   {'name': 'Dian Balta', 'orcid': None},\n   {'name': 'Michael Räckers', 'orcid': None},\n   {'name': 'Jörg Becker', 'orcid': None},\n   {'name': 'Helmut Krcmar', 'orcid': None}],\n  'keywords': ['Reference modeling',\n   'Forms',\n   'Standardization',\n   'E-government',\n   'Digital government',\n   'Public administration',\n   'Meta-modeling',\n   'Graphical user interface'],\n  'abstract': 'Forms are central interfaces for information exchange between a government and its citizens. As a way to translate laws into practice, forms are an essential part facilitating this exchange. Unfortunately, forms often require substantial development effort to ensure they comply with legal requirements, with the result that citizens often describe them as highly complex. Standardization of forms through reference modeling would help to minimize governments’ effort by reusing elements and would reduce complexity for citizens by providing a unified representation of information. The article contributes a meta-model for a modeling language that can be used in representing reference models for forms. It follows a design science research approach to elicit form structure and editorial process requirements and to iteratively design the meta-model. The paper demonstrates and evaluates the meta-model using focus groups and application in three case studies. It extends research on standardization to reference modeling and government forms.',\n  'pdf': 'https://link.springer.com/content/pdf/10.1007/s12599-019-00623-1.pdf',\n  'publisher': 'Springer Fachmedien Wiesbaden',\n  'year': '2020',\n  'start_page': '535',\n  'end_page': '560',\n  'publication_type': 'Research Paper',\n  'full_text': [{'chapter_name': 'Introduction',\n    'chapter_text': 'Forms are the central interfaces for information exchanges between the government and its citizens in the course of government service delivery (Klischewski 2006; Axelsson and Ventura 2007; Sourouni et al. 2008; Becker et al. 2012). Essential for any transactional government service delivery (Layne and Lee 2001), forms are objects containing information that are exchanged among the actors involved in a service. At the beginning of a service transaction, the citizen transmits information to the government through a form, such as an application form, that consists of fields that the citizen fills out. Based on that input, the government analyzes the information and decides whether the applicant is eligible to receive the service. If the decision is positive, the government issues a document, such as a certificate, that consists of fields the government fills out to describe its decision. Thus, forms serve two purposes in government service delivery: to start the process when a citizen wants to receive a government service and to exchange the necessary information.\\n\\nAlthough forms have a central role in the delivery of government services, both citizens and governments are challenged by their complexity. The convenience of electronic forms has a substantial impact on citizens’ perceptions of the quality of e-government services (Papadomichelaki and Mentzas 2012; Veeramootoo et al. 2018), but citizens often indicate that governments’ forms are too complex. For instance, in the United States, citizens are of the opinion that forms ask for too much information (Accenture 2015), and 60% of Germany’s citizens think forms have a significant influence on their satisfaction with government services, but they complain about difficulties in filling them out (Federal Statistical Office 2015) and sometimes even have to engage lawyers to assist them with the completion (Hampel 2017).\\n\\nFor their part, governments, especially governments with a federal structure, struggle to manage the complexity of forms. The idea of a federal system is to share power and sovereignty across levels of government (Wheare 1946; Hueglin and Fenna 2015), so jurisdictions are distributed not only horizontally across functional departments (Layne and Lee 2001) but also vertically across federal levels (Scharpf 1988), which means that many government organizations delivering services use their own forms independent of other government bodies. For example, Germany has approximately 12,000 local governments with similar service portfolios (Algermissen et al. 2005) and 16 partly independent states with various departments, all of which deliver services to citizens. Because of the similarity of their services, these government bodies should be able to use similar forms, but currently they each develop their own forms, leading to a high degree of variation in their forms, even when they are used to request the same services (Scholta 2017). Certainly, governments can benefit from some kind of harmonization in the forms they use if only to reduce the number of requests for support from citizens who are trying to complete them (Jarrett 2015). Government bodies themselves have recognized the need for an increased level of form standardization and comprehensibility (National Regulatory Control Council 2016).\\n\\nThe complexity of forms has multiple causes, suggesting multiple solutions. Generally, forms that are exchanged across organizational boundaries are influenced by the organizations’ laws, policies, bureaucracy, and processes (Yang and Maxwell 2011). For instance, two forms may refer to the same real-world entity but present it differently, e.g., different data attributes are used to describe the entity (Hiller and Bélanger 2001; Otjacques et al. 2007). Specifically, complexity in forms for the same service often occurs when government bodies’ forms differ in terms of their content, structure, captions, and representations (Scholta 2017). Although taking into account the various sources of complexity and considering that managing such a complexity effectively would benefit both citizens and governments, academia and practice still lack an approach to address the issue.\\n\\nStandardization is a feasible approach to counter complexity (Van De Ven et al. 1976; Thompson 2007; Okhuysen and Bechky 2009; Williams and Karahanna 2013). In general, a standard is “a uniform set of measures, agreements, conditions, or specifications between parties” (Spivak and Brenner 2001, p. 16). Reaching a standard requires stabilizing and solidifying its definition and boundaries (David and Greenstein 1990; Hanseth et al. 2006) for which reference models can be used, as they are “generic conceptual models that formalize recommended practices for a certain domain” (Rosemann 2003, p. 595). In particular, forms can be designed from reference models that constitute the required standard in order to reduce the complexity of forms across governments. Reference models take into account the established practices or best practices of government services to manage complexity by bundling and reusing elements.\\n\\nTo support the standardization of forms which benefits citizens and governments, this article’s research goal is the design of a meta-model for a reference form modeling language in governments. Governments can use the language to define reference form models that serve as standards for forms and to harmonize their forms across levels of government and functional departments. Following the design science research (DSR) paradigm (Hevner et al. 2004) and applying Peffers et al.’s (2007) DSR methodology (DSRM), we propose the use of a meta-model (Strahringer 1996; Aßmann et al. 2006). Vendors of form-management systems can use this meta-model to develop a corresponding software tool for defining reference form models. With such a tool to implement the constructs introduced in the meta-model, ministry staff can develop reference form models that designers of forms in public administrations can use to define standardized forms efficiently and effectively. Public IT departments can implement these forms to provide digitized forms, and users can benefit from harmonized forms that reuse standardized elements at each service point and do not require special effort to understand and fill out. Moreover, with current prospective developments regarding the once-only principle of information exchange between users and governments (Krimmer et al. 2017), the need for reference form models is central to focusing on user needs and improving service quality.\\n\\nThe rest of the article is structured as follows. Section\\xa02 presents the research background, while Sect.\\xa03 describes our research design. We introduce the requirements for a solution to our research problem in Sect. 4, and Sect. 5 explains our meta-model. Section\\xa06 provides an instantiation of our meta-model with a real-world example. We report the results of our evaluation in Sect.\\xa07, discuss our findings in Sect.\\xa08, and conclude in Sect.\\xa09.'},\n   {'chapter_name': 'Research Background and Idea',\n    'chapter_text': 'Conceptualizations of government services (e.g., Lindgren and Jansson 2013; Jansen and Ølnes 2016), the management of their quality (e.g., Buckley 2003; Halaris et al. 2007; Bhattacharya et al. 2012; Papadomichelaki and Mentzas 2012; Tan et al. 2013), and the emergence of online provision (e.g., Sá et al. 2016) have seen considerable research interest. According to Jansen and Ølnes (2016), electronic government services should be studied from their users’\\xa0and\\xa0providers’ perspectives and from that of the digital interactions, particularly the information exchanged (Lindgren and Jansson 2013) between users and providers.\\n\\nGovernments that seek to design high-quality services must consider the quality of both service content and service delivery (Tan et al. 2013). Service content refers to the effectiveness of the service-related functionality offered to users in fulfilling their needs. Service content comprises functions like customizing the service to the users’ requirements, upgrading parts of the service content without having to rebuild the whole service transaction, and accepting user input in a manner that allows the potential service outcome to be forecast (Tan et al. 2013). Service delivery, which refers to efficient use of service content, covers the interaction between users and providers based on the service content (Papadomichelaki and Mentzas 2012) and comprises functions like interactivity (e.g., compared to using paper forms), interoperability of service content provided by multiple government departments, and adaptability to demand patterns (Tan et al. 2013). In particular, interoperability of service content, such as the exchange of a data set or handling a complete case along the service process, requires a formalized information exchange process (Lee et al. 2011; Jansen and Ølnes 2016) that can be made possible by electronic forms (Axelsson and Ventura 2007; Papadomichelaki and Mentzas 2012).\\n\\nAlthough information exchange is a valuable part of service quality (e.g., Dawes 1996; Tambouris et al. 2009), technical challenges like heterogeneous data structures for single identifiers in tax agencies in the European Union are common (Otjacques et al. 2007), so the management of effective information exchange is challenged by issues from the organizational, technological, semantic, legal, political, and environmental perspectives (e.g., Soares and Amaral 2011; Praditya et al. 2017; Wang 2018). In particular, extant research has identified organizational culture and structures as major barriers to information exchange (Drake et al. 2004).\\n\\nWhile governments differ in their cultural traditions, socio-economic characteristics, and value-drivers (Misuraca et al. 2011), they have to align information exchange both vertically (e.g., federal systems, supranational bodies) and horizontally (e.g., jurisdictions of business areas) (e.g., Klischewski and Scholl 2008). In government settings in which both dimensions are present and jurisdiction and functions are separated (e.g., Germany, Spain, the US, the European Union), the challenges of information exchange are even greater, especially in governments that use a federal system, where independence and equality are ensured through constitutional guarantees and influence to what extent these government bodies cooperate (Watts 1998). In a country in which one level of government passes the laws and another level executes them, the former level specifies the requirements for forms and the latter interprets them to design the forms. In such a setting, efficient cooperation is required to design forms in a way that reduces effort and misinterpretations.\\n\\nWe define a form as a structured interface that provides predefined labeled spaces for manual data input and is used repeatedly to transfer data to one or more natural or legal persons. In the case of electronic forms, we view forms as specific graphical user interfaces that are applied in their role as instruments to transfer data that the receiving person requests from the sender (Tsichritzis 1982; Papadomichelaki and Mentzas 2012). Their role in transferring data distinguishes forms from other graphical user interfaces that also allow for manual data input. For instance, the graphical user interface of an address book app is not a form, since it primarily administers and manipulates data but does not transmit data between persons. Forms also differ from data in that the data perspective comprises storing, processing, and administrating data separate from the user’s view, whereas the form perspective captures data and prepares a view of a relevant subset of data for users (Yao et al. 1984; van der Aalst et al. 2005b). Despite the difference between the form perspective and the data perspective, form fields must be mapped to fields in databases since forms capture data that is finally stored in databases. Therefore, data models can serve as basis for the development of forms.\\n\\nPrevious work on forms has focused on interoperable data exchange between information systems and separation of concerns regarding the modelling, layout, and processing of data in forms [e.g., XML-based markup languages like XForms and Extensible Forms Description Language (XFDL)]. Recent research has emphasized the improvement of form usability in web and mobile applications and has introduced design guidelines for forms (e.g., Wroblewski 2008; Jarrett and Gaffney 2009; Bargas-Avila et al. 2010) that, for example, make recommendations for date fields (Bargas-Avila et al. 2011) or recommend how to design electronic forms for the elderly (Money et al. 2011). Concepts have been proposed that support the completion of a form, such as auto-filling (Araujo et al. 2010), which prefills fields with data that the user has entered previously.\\n\\nDesigning forms in a government context is a challenging task, as governments must analyze regulations at multiple levels of government that specify which data may be captured from a citizen during delivery of a government service (Axelsson and Ventura 2007) and must design forms that represent the contents adequately. A form consists of fields and groups, where groups can include fields and other groups (Lum et al. 1982). A form designer builds and graphically arranges a form with fields and groups, whereas a form user fills out fields with data. Fields have captions that indicate what data a form user is to enter.\\n\\nIn government service delivery, citizens use forms to exchange information and indicate their wish to receive a service (Scholta et al. 2019a). The output of government services are documents such as certificates, notifications, permits and licenses. We denote such documents as output forms and refer to forms that follow the definition stated above as input forms. In contrast to input forms, the government fills out output forms’ fields in advance, so manual data input is not possible. In general, a citizen reads output forms but does not fill them out. Governments can structure output forms’ layout in the same way as input forms.\\n\\nStandards play an important role in the interoperable exchange of information among actors (International Organization for Standardization 2015). Particularly in governments, standards enhance communication between agencies (European Commission 2010), so standards for managing information – and forms as interfaces to government services in particular – are a necessity in improving electronic government services (Lam 2005). As a result, standardization has gained increasing attention in research and practice in the government context (Charalabidis et al. 2009; Hellberg and Grönlund 2013; Folmer et al. 2016).\\n\\nResearch on standardization in organizations (Brunsson et al. 2012) and information systems management (Lyytinen and King 2006) has emphasized measures that can address complexity challenges in information management (e.g. Hanseth et al. 2006; Markus et al. 2006), but these measures’ applicability in a government context is limited by the many differences between private organizations and government bodies (Rainey et al. 2010; Jurisch 2014). In particular, standardization is challenged by the complexity of government procedures (Bharosa et al. 2010; Janssen et al. 2011), the coordination of the actors involved, and their interactions (Balta and Krcmar 2018), so standardization is often ineffective in practice (Blum 2005; Scholl and Klischewski 2007). Various approaches to standardization that are tailored to the context of government services have been developed in response (Guijarro 2007; Büttner et al. 2014). For example, frameworks like SAGA (Federal Government Commissioner for Information Technology 2017), with its focus on software specifications and development methods in the context of government bodies, and the European Interoperability Framework (European Commission 2017) have been proposed to management practice.\\n\\nWe focus on standardization – that is, the process of developing standards for forms – as a means of form management in governments. According to de Vries (1999, p 155), standardization refers to “the activity of establishing and recording a limited set of solutions to actual or potential matching problems directed at benefits for the party or parties involved balancing their needs and intending and expecting that these solutions will be repeatedly or continuously used during a certain period by a substantial number of the parties for whom they are meant” [emphasis added]. Based on this definition, our meta-model presents a basis for standardization because it allows governments to establish and record reference models of forms (reference form models) in a socio-technical process (Hanseth et al. 1996) using predefined form elements from the perspectives of both form designers and form users.\\n\\nWe refer to reference models as “special information models that serve to be reused in the design process of other information models” (vom Brocke 2007, p 49). In the case of governments that use a federal structure, ensuring that reference models are effective and are widely used means that all levels of government should be involved in their development (Hinkelmann et al. 2005).\\n\\nReference modelers have applied various languages to the development of reference models. For instance, conventional modeling languages like event-driven process chains (EPCs) (Keller et al. 1992; Scheer et al. 2005) and entity-relationship models (ERM) (Chen 1976) have been applied (Fettke and Loos 2003; vom Brocke 2007), although their original intent was to represent organizations’ individual models. However, modeling languages that are dedicated to reference modeling, such as Configurable EPCs (Rosemann and van der Aalst 2007), have also been developed. The literature refers to modeling languages used to represent reference models as reference modeling languages (van der Aalst et al. 2005a; Fettke and Loos 2006, 2007; Becker and Delfmann 2007; Recker et al. 2007; Rosemann and van der Aalst 2007).\\n\\nThe constructs of modeling languages can be specified by meta-models. A meta-model contains the definition of the abstract syntax of a modeling language and specifies the modeling language’s constructs and their syntactical relationships, whereas a concrete syntax is comprised of the visual representations of the constructs and their relationships that the meta-model has structurally specified (Kühne 2006).\\n\\nOur goal is to combine forms and reference modeling by presenting the design of a meta-model for a reference form modeling language in governments. Our solution facilitates the development of reference form models that serve as templates for the design of forms, so multiple forms can result from the same reference form model, increasing standardization. Figure\\xa01 provides an overview of our solution and its incorporation into the form-design process along four steps.\\n\\nOur idea\\n\\nIn the first step, reference modelers select a suitable modeling language for the creation of reference form models. We advocate for the use of a specific reference form modeling language because of the characteristics of reference form models and their development and application processes. For instance, laws can have strict requirements or allow for individual approaches to the structure of government forms; that is, they have differing degrees of obligation. Therefore, as indicated in Fig.\\xa01, reference modelers should be able to indicate whether elements of a reference form model have to occur on forms (obligatory) or can be adapted or removed (optional). In our view, such a language is superior to a language that is dedicated to the representation of organization-specific form models, so we propose an abstract syntax of a reference form modeling language. Concrete syntax is part of future work on, for instance, the decision concerning whether to represent fields as ellipses, as suggested in Fig.\\xa01.\\n\\nIn the second step, a reference modeler builds the reference form models using the selected reference form modeling language. In the example in Fig.\\xa01, the reference form model suggests a form structure with three fields, where “given name” and “surname” have to occur on each form model, and “gender” is optional.\\n\\nThird, form designers construct form models by reusing elements from the reference form model. In the example presented in Fig.\\xa01, the language XForms is applied to describe an organization’s form model that contains the fields “given name,” “surname,” “place of birth,” and “gender,” so the form model extends the reference form model by adding the field “place of birth.” In contrast to the reference form model, the form model is a textual, machine-readable specification of a form structure. Form designers create such form models using graphical user interfaces in form-management systems.\\n\\nFinally, the form-management system transforms the form models into actual forms, so forms instantiate form models and materialize an arrangement of fields and groups, such as in PDF forms or web forms. Figure\\xa01 shows an exemplary form instance that uses a two-column structure and radio buttons to capture the gender. Other forms can instantiate the same form model by, for instance, using a linear sequence of fields and representing the gender with a drop-down list.'},\n   {'chapter_name': 'Research Design',\n    'chapter_text': 'In designing the meta-model, we used the DSRM proposed by Peffers et al. (2007) and executed three DSRM cycles: We first defined the problem and explained our research’s relevance to it. Then, in each cycle, we elicited requirements for a solution, developed a version of our artifact, demonstrated its functionality, and evaluated it for various criteria. The demonstration and evaluation took place in Germany since Germany has a federal structure with vertical and horizontal jurisdictions and offers complex government services using many forms.\\n\\nIn the first cycle, we elicited requirements by conducting a literature study and organizing two focus groups (Morgan 1997; Krueger and Casey 2015) with practitioners and researchers. We performed a semi-structured literature study to define the initial set of requirements and synthesized the key findings as input for the initial definition of requirements that was conducted in internal discussions with five domain and method experts in the core research group. Then we used these requirements as a starting point in discussions with two focus groups.\\n\\nThe two focus groups comprised two kinds of participants. One focus group consisted of fifteen experts from all three levels of government in Germany. The members, who worked in various business areas and did not have a technical focus, were recruited from the middle management of their organizations and were experts for the business and legal requirements of forms. A typical role of these participants was that of functional manager of organizational departments, so most of the members of the group were responsible for their organizations’ processes and organizational structures and participated in the discussion from this business perspective. The other focus group consisted of twenty experts from government IT departments and providers of form-management systems, so their jobs had a technical focus. The government experts were recruited from the middle management of all levels of government, whereas the representatives of providers of form-management systems were recruited from top management. The government representatives were responsible for their organizations’ IT architectures, so they had a profound understanding of the solutions that were in use and could discuss shortcomings and problems with actual systems and formulate clear expectations for improvement from the technical perspective. Thus, the first focus group discussed the issue from a business perspective, and the second focus group did so from a technical perspective.\\n\\nThe government experts were selected based on our goal of including all levels of government and as many regional areas of Germany as possible, whereas the experts from form-management system providers were recruited based on their market shares. There was no overlap in people of the two focus groups. The focus groups were provided with the current set of requirements and explanations via email as preparation before the meetings.\\n\\nThe set of requirements was derived iteratively and updated after each focus group meeting. After two meetings with each of the focus groups, no requirements were deleted or adapted and no new requirements emerged, so we assumed a stable, complete, and relevant set of requirements. In the subsequent DSRM cycles, the set of requirements was updated after each evaluation in response to the feedback we received.\\n\\nSubsequently, we developed and updated the meta-model in the three DSRM cycles. In each of the cycles, we sought to determine how the requirements could be met. If a solution did not emerge from discussions in our research group based on our knowledge and experience, we conducted semi-structured literature studies. Once we agreed on a solution, we proceeded with demonstration and evaluation of the existing version of the meta-model.\\n\\nIn all three cycles, we jointly demonstrated and evaluated the meta-model, which led to updates of the requirements and the design of the meta-model in the next cycle. At the end of the third cycle, we reached a stable version of the meta-model so did not require another DSRM cycle. The evaluation was guided by three criteria: efficacy, which indicated whether the requirements were adequately fulfilled; completeness, which indicated whether no further requirements were to be addressed; and effectiveness, which indicated whether the solution was valuable for use in practice. We chose the first two criteria to obtain a satisfactory solution to our research problem and the third to create a solution that is implementable in practice.\\n\\nThe research methods applied differed between the first cycle and the second and third cycles. In the first cycle, we conducted iterative meetings with the two focus groups about the conceptualization of our solution, while in the second and third cycles, we implemented the meta-model in a software tool that served as a proof-of-concept and performed three case studies from Germany using this tool. The software tool incorporated all constructs of our meta-model and provided a simple user interface for reference modelers. In the case studies, we created reference form models for input forms and output forms in the areas of (a) firearms licenses and (b) the business register in the second cycle, and (c) housing benefits in the third cycle.\\n\\nThe design of the case studies was guided by four criteria for trustworthiness in qualitative research – credibility, transferability, dependability and confirmability – and strategies to establish them (Guba 1981; Krefting 1991; Morse 2015). We addressed transferability using three cases, the selection of which was based on two factors: (1) the cases had to originate from different business areas to ensure that we minimize bias from laws and regulations that are specific to one area and that the results cover the facets and constructs of the meta-model, and (2) the ministries had to be willing to support us over a period of twelve to eighteen months. The firearms licenses case was in the jurisdiction of the Federal Ministry of the Interior, while the Federal Minister for Economic Affairs and Energy supported the business register case, and the housing benefits case was under the responsibility of the Federal Minister for the Environment, Nature Conservation, Building and Reactor Safety.\\n\\nWe addressed credibility, dependability, and confirmability using an investigator triangulation and member checking. People from the research group and project members from practice created and reviewed the reference form models that resulted from our cooperation with the departments from the federal ministries that were responsible for formulating the relevant laws and regulations. We constructed the reference form models iteratively until the domain experts from the ministries confirmed their appropriateness and agreed to the final version. In so doing, we ensured that the reference form models followed the syntax of our meta-model (method expertise), complied with the relevant laws, and were valuable for use in practice (domain expertise). Thus, we removed ambiguity in the interpretation of laws and evaluated the reference form models’ adequacy and suitability.\\n\\nWe used deduction and induction to develop the reference form models using the constructs introduced in our meta-model (Becker and Schütte 2007). Deductively, we analyzed laws, regulations, interoperability frameworks, and existing reference process models. Although laws and regulations specify the data that citizens must provide, some of these regulations provide precise data requirements, while others are vague. In the latter case, we consulted applicable interoperability frameworks to shape the structures of the reference form models. If reference process models existed, they provided additional information about processed data and required data and the forms that were to be exchanged and standardized. A method triangulation for credibility, dependability, and confirmability was used since we not only analyzed written sources like laws and interoperability frameworks, but also consulted domain experts in the ministries for their expertise. Inductively, we recorded and compared existing forms from government practice to avoid mistakes in the deductively developed reference form models. We compared our inductively derived results to the reference form models and, after consulting with the experts from the ministries, adapted the models if necessary. We kept the minutes of the meetings and discussions to document the feedback gathered and stored the reference form models in the software tool, thus addressing dependability through comprehensive descriptions of research methods and results.'},\n   {'chapter_name': 'Requirements and Their Fulfillment',\n    'chapter_text': 'In the following, we present six requirements for a meta-model for a reference form modeling language. We categorize the requirements as follows:\\n\\nRequirements that deal with the structure and purpose of a form, such as a field’s occurrence on a form.\\n\\nRequirements that cover the editorial and usage process, such as the maintenance of a reference form model.\\n\\nThree of the six requirements are in the structure and purpose category.\\n\\nREQ\\xa01 – modular structure A form’s structure has to be modular so its elements can be designed independently but can be combined easily and work as an integrated whole (Baldwin and Clark 2003). Hence, by using a structure that contains separately defined and reusable modules, single modules can easily be substituted into or removed from the whole. A form comprises fields and groups that can occur on multiple forms, so a meta-model has to provide constructs for modules that can be reused on multiple reference form models to reduce the variety of fields and groups and achieve a high degree of harmonization.\\n\\nREQ\\xa02 – static properties Each form has properties like its name and purpose that are associated with and fulfilled by its structure. Separation between the form’s name and purpose and its structure allows one to take into account various kinds and frequencies of changes. Governmental practice suggests that properties like a form’s name and purpose change significantly less frequently than structures since the laws that affect a form might change some required fields but are unlikely to change a form’s name or purpose. Such is the case for the German identification card, where the form’s name and purpose have remained unchanged since 1951, but the last structural modification was performed in 2010, when date of birth and place of birth were separated into two fields. Consequently, a solution has to separate a reference form model’s structure clearly from its static properties.\\n\\nREQ\\xa03 – electronic form Whereas traditional paper forms are still important artifacts in government services, electronic forms like fillable PDF documents and web forms provide enhanced functionality, with benefits for both citizens and governments. This enhanced functionality represents a major shift in handling the context-specific business logic for a form derived from law: paper forms can only explain how to fill out a form, while electronic forms allow for novel interactions with form users, such as highlighting or hiding fields and groups that are required from or irrelevant to a citizen based on his or her previous entries or performing plausibility checks on the data entered. The meta-model has to allow the enhanced functionality of electronic forms to be modeled based on domain experts’ knowledge and laws.\\n\\nThree of the six requirements are in the editorial and usage process category.\\n\\nREQ\\xa04 – decentralized jurisdiction The legal basis for government services and corresponding forms can be defined on each level of government according to its area of responsibility. In turn, each of these levels of government contains functional departments that represent business areas. For example, most social services like housing benefits are defined by the federal government in Germany but each state can adjust the legal basis and, thus, the decision criteria and the information needs. Consequently, the requirements for the design of forms are formulated in laws, as laws define the data that is necessary to deliver a service and that must be requested from and provided by the citizen (Axelsson and Ventura 2007). Assuming a three-level structure of jurisdiction, based on its laws a functional department of the federal government can suggest reference form models that are refined on the state level, and local governments can instantiate reference form models to implement forms. For instance, because of a regulation, the German federal government specifies a template for application for a business registration that is to be used in the lower levels but can be adapted. In other cases, the federal government’s specifications are binding, and no modifications are allowed in subsequent levels. For example, the identity card is an output form that is structurally equal for each German citizen. The meta-model has to incorporate mechanisms that enable specifications and modifications on various levels of government and their functional departments.\\n\\nREQ\\xa05 – precise law Form designers are encouraged or, in some cases, obliged to request from the citizen only the data that is required to deliver the service and to avoid unnecessary fields and groups (Jarrett and Gaffney 2009). When laws regarding the data requirements are vague, creators of reference form models can model a form structure in various ways by reusing one of the existing modules. However, when laws are precise in their data requirements and even contain obligatory templates with specifications for the graphic arrangement of fields and groups, the data requirements have to be represented even if they contradict existing standardized modules, as the data requirements are defined by law. For example, a law that is the basis for the identity card in Germany requires a group with “given name,” “surname,” “birth name,” and “alias,” but the existing module contains only “given name” and “surname.” Although the purpose should be to omit conflicting modules, the meta-model has to support a transition to harmonized laws. It must provide a mechanism that allows for appropriate representation of legally binding forms and their elements since such elements are required but may to be used only in restricted scenarios. Since laws work as standards from a government perspective, this requirement takes into account that standardization should allow a level of flexibility (Hanseth et al. 1996) and that particular elements in practice will not change (Hanseth et al. 2006).\\n\\nREQ\\xa06 – practical applicability Reference form modelers are encouraged to reuse modules to achieve a high degree of standardization. However, a reference modeler can be forced to create a new module if no existing module exactly meets the modeler’s needs, even if the difference is only marginal. Thus, the number of modules is expected to grow to a level at which reference modelers have difficulty identifying suitable modules for their reference form models. For instance, consider the legally specified form that initiates a business registration in Germany. It contains a group for the address and contact details of the “commercial unit” and a group for the same details of the “headquarters.” These groups have equal structures and are semantically similar since a headquarters is a specific commercial unit. In this case, two modules must be created, even though the groups are semantically similar and have the same structure, differing only in regard to their captions. To ensure the meta-model’s practical applicability, the meta-model must achieve standardization while simultaneously providing a mechanism with which to maintain control over an increasing number of modules.\\n\\nAs the extant research has suggested (e.g., Soares and Amaral 2011; Scholl et al. 2012; Praditya et al. 2017), the challenge of designing standardized forms that allow for an efficient information exchange eventually improve service quality for form users is not solely a technical challenge. The six requirements derived and presented above support this argument, since REQ\\xa01–3 address technical issues, while REQ\\xa04–6 address organizational and legal issues.\\n\\nVarious extant modeling languages support the definition of forms as interfaces. On one hand, markup languages like XForms [currently used in various government and non-government organizations (cf., e.g., Orbeon 2019)], Extensible Forms Description Language (XFDL, used by government organizations like the United States Army), and XML Forms Data Format (XFDF, developed by Adobe for creating forms in PDF files) focus on defining forms’ data structure, layout, and functionality. On the other hand, markup languages like Extensible Application Markup Language (XAML), USer Interface eXtended Markup Language (UsiXML), Web Modeling Language (WebML), and Interaction Flow Modeling Language (IFML) focus on the definition of interfaces of web-based and other types of applications and, like the form-specific languages mentioned above, cover data structures, layout, and functionality. What extant modeling languages have in common is that they predominantly address requirements REQ\\xa01–3.\\n\\nREQ\\xa01 is fulfilled by these languages. For instance, XForms can be applied to define a field using an element named “input.” The field can be addressed later on by referring to its ID, which is defined in an attribute named “ref.” Fields can be grouped together in XForms using an element named “group,” which can be identified based on the value stored in its “ref” attribute. Since XForms uses namespaces, elements can be reused on multiple forms.\\n\\nExtant languages meet REQ\\xa02 to a limited extent. For instance, XFDL suggests storing a form in a file named after the form’s name followed by “.xfdl” as the file extension. Although existing languages are flexible and allow custom elements and attributes to be defined in a form (e.g., by applying a custom namespace and a corresponding schema), there are no predefined properties that fit the domain-specific requirements of forms’ static properties in the government domain. For instance, there are no predefined elements or attributes for the purpose of a form. Moreover, existing languages are document-centric, such that a form’s structure and the static properties are merged into one document.\\n\\nREQ\\xa03 is addressed by extant languages. For instance, XForms, XFDL and XFDF allow for defining actions and functions that use an electronic form to support an enhanced user experience. In particular, XFDL defines “button” as an “item” on a form that can execute the “action” named “signature,” thus allowing the application of a digital signature. XFDL seeks to ensure non-repudiation of a filled-out electronic form, which is similar to signing a paper form. Moreover, IFML allows the whole business process related to a form, including “actions” and “data flows,” to be defined.\\n\\nTo our knowledge, none of the extant languages address REQ\\xa04-6 in the government domain to a full extent. They address these requirements only rudimentarily. Languages like XForms and XFDF might directly or based on bindings to files defined in further XML or non-XML languages support the implementation of a form according to role and policy models that correspond to a decentralized government structure (REQ\\xa04) and with elements of its structure that correspond to precise laws (REQ\\xa05). For example, a group of fields to represent an “address” on a form could be bound to a namespace reserved for a particular legal body or law. In the case of XForms, this example could be implemented by defining a “group” element with an attribute named “xmlns” and an attribute value that represents to what the namespace should be linked. REQ\\xa06 is focused on practical applicability and reuse of forms and form elements. A number of extant languages are widely adopted in form-management practice and provide modeling language constructs that allow structure, semantics, and captions of form elements to be separated. For instance, binding XML schemes would allow the structure and semantics of general form elements to be modeled and a set of attributes that can be customized for a specific form element instance to be added. Still, the set of customizable attributes has to be determined for the domain of government forms, which extant languages have not addressed.\\n\\nIn summary, extant languages address the stated requirements to a limited extent and provide elements that are useful in guiding software engineers on how to realize form models technically. Hence, extant modeling languages can be applied to transform a reference form model into a form. Once the required constructs are defined, they can be realized with existing languages. For instance, once a static property like “description” (REQ\\xa02) and a mechanism to account for the implications of precise laws (REQ\\xa05) are defined as concepts, they can be implemented as attributes of an element using XForms. Further, once a link to jurisdiction in regard to levels of government (REQ\\xa04) and a set of a form’s elements recognized as supporting a manageable number of modules (REQ\\xa06) are defined as concepts, a reference modeler can define corresponding elements in XFDL and provide an XML Schema to validate reference form models.\\n\\nHowever, it remains unclear to reference modelers what constructs are necessary to address the requirements that focus beyond the technical perspective of forms in government. Although applied to conceptual models like data models and process models (e.g., Hars 1994; Schütte 1998; Fettke et al. 2005; Hinkelmann et al. 2005; Ardalani et al. 2013; Scholta 2016; Rehse et al. 2017; Sonntag et al. 2017; Scholta et al. 2019b) and service models (e.g., Palmonari et al. 2008; Loutas et al. 2011; Narducci et al. 2016), the concept of reference modeling has not yet been transferred to government forms. Consequently, we advocate for a meta-model of a modeling language that would allow reference form models for the government domain to be created, which would extend related approaches that have been focused on the technical perspective. Such a reference form model can be transformed into a form using existing languages like XForms or XFDL and a suitable XML Schema.'},\n   {'chapter_name': 'The Artifact',\n    'chapter_text': 'This section presents our meta-model for a reference form modeling language to be used by governments. For each of the six requirements that were introduced, we present the part of the meta-model that addresses the requirement. The parts are modeled using the ERM notation and are consolidated in a holistic meta-model visualized in Fig.\\xa010 (in the Online Appendix). We choose the ERM notation since we present a conceptual model and ERM has been shown to be a suitable notation for meta-modeling (e.g., Strahringer 1996; Rosemann and zur Muehlen 1998; Becker et al. 2002; Rosemann and Green 2002; Delfmann 2006; vom Brocke 2007). To annotate cardinalities, we apply the look-here convention (Ferg 1991; Song et al. 1995). The reading direction of the model parts is first from left to right and then from top to bottom.\\n\\nTo address REQ\\xa01 (Fig.\\xa02), the meta-model provides two kinds of modules for forms: fields and groups. A reference modeler can use a module on both input and output forms since we aim at standardization across both. Thus, a module bundles input and output information that refers to the same underlying data entity. However, the attribute values may vary depending on whether a module is used for input or output. Therefore, we have attributes that apply if a form user inputs data to a module (e.g., caption input) or a module outputs data to the form user (e.g., caption output). For example, although the caption of a field can be the same on input and output forms (e.g., “Address”), a helptext on an input form (e.g., “Please enter your address”) can differ from a helptext on an output form (e.g., “This group presents address information”).\\n\\nMeta-model part that addresses REQ 1\\n\\nIf required, a reference modeler can justify or align a module’s design with legal foundations or other standardization initiatives, such as interoperability frameworks. Legal foundations can be structured hierarchically; that is, they can be superordinate to other legal foundations. For instance, the German Weapons Act “WaffG” consists of the article “§ 14 WaffG,” which contains paragraph “§ 14 (4) WaffG.” Modeling legal foundations in this way facilitates a rigorous maintenance regime since the responsible reference modelers of all affected entities can be informed automatically if a law changes and requires changes to modules and forms.\\n\\nTo depict the structure of groups and reference form models, groups and form structures consist of modules. We introduce the entity types module assignment and module instance and do not link module and group/form structure via a relationship type since a relationship requires a unique combination of module and group/form structure, but a module can occur in a group/form structure more than once, which requires more than one such combination. To suggest a sequence of modules in a group or form structure, a module assignment/instance can succeed another module assignment/instance.\\n\\nA module can replace another module when the first module is no longer valid. Since a module can remain valid in some areas of the government, the reference modeler can decide whether to keep the old version or substitute it with the new version in a reference form model.\\n\\nA module derives from another module to extend it or to omit some of its elements. For example, whereas an international address requires a country to be specified, this information can be omitted in a national address. This relationship type helps to illustrate what modules exist regarding a real-world entity.\\n\\nTo fulfill REQ\\xa02 (Fig.\\xa03), we introduce two constructs that constitute a reference form model: static form properties and dynamic form structure. Static form properties describe the structure and are comprised of name, definition, caption, and helptext. Because of the varying frequencies of change, the legal foundations may differ between the static properties and the structure, so a separate relationship type between form structure and legal foundation is required.\\n\\nMeta-model part that addresses REQ 2\\n\\nForms can have purposes. For example, Germany’s identification card, passport, and residence permit can all be used as identification documents for all services, but there are also forms whose purposes are related to specific services. Thus, forms can serve government services with a certain purpose. For example, a proof of need for something like a firearm-holder permit in Germany is supplementary to an input form and dedicated to a specific government service. Purposes and government services are related to the static form properties and not to the form structure since they are applicable to the form in general, regardless of its structure.\\n\\nREQ\\xa03 (Fig.\\xa04) is addressed by the entity types rule and codelist, and the attributes cardinality and data type. For example, rules can check whether a field’s value is plausible, such as whether a date of birth is that of an adult or a person’s name does not contain a certain set of characters. The content of a rule contains information regarding the triggering conditions, the execution’s logic, and the output from applying the rule. We do not aim to specify a rule formally but define it with natural language since domain experts with little implementation expertise are involved in the construction of reference form models and must be able to understand and ensure the quality of the resulting reference form models. By using data types and codelists, electronic forms can prevent users from making entries that are in the wrong input format by restricting the entries to certain values.\\n\\nMeta-model part that addresses REQ 3\\n\\nA reference modeler can define lower and upper bounds for the number of instances of a module using cardinalities by assigning to a cardinality attribute typical values known from data modeling, such as “(0, 1)” or “(1, n).” For example, a module instance of a group that captures information on household members receives the cardinality “(1, n)” for a form structure if there is 1 to an unlimited number of household members. With the introduction of cardinalities, an electronic form can simplify the interaction between the user and the form by, for example, showing the exact number of modules that must be filled out or requiring at least one user input.\\n\\nSince in a government system the government can be subdivided vertically into levels and horizontally into functional departments, we structure a government such that a level of government (e.g., “Federal Government”) contains several functional departments (e.g., “Federal Ministry of Finance”) to address REQ\\xa04 (Fig.\\xa05). To indicate the hierarchical relationships, a level of government is superordinate to other levels. Since a functional department can be subdivided, it is superordinate to other functional departments. For example, the German Federal Ministry of Finance has divisions for the federal government’s budget and financial market policy.\\n\\nMeta-model part that addresses REQ 4\\n\\nSince functional departments have competencies and jurisdictions in the business areas of a government, functional departments define modules. As in government systems, the power can be balanced among the levels; the levels of government can declare such modules relevant to their departments and reference form models so the modules become usable for the departments. For example, a subordinate level of government may extend the laws of a superordinate level, so an additional field is needed that does not occur in the common set of modules. Therefore, a field is created that is relevant to the subordinate level of government but is not sufficiently generic that it is aligned with the superordinate level. For instance, a module with information on a person’s public transportation card, such as Queensland’s go card, is relevant only to Queensland and is not to be used in other Australian states.\\n\\nStatic form properties and form structure are defined by governments’ functional departments, which create, maintain, release, and terminate reference form models. Functional departments can derive static form properties and form structures from superordinate levels of government, so lower levels can copy and adapt a reference form model to their own laws and guidelines, including deletions from and insertions to the superordinate reference form model. In this way, a reference form model flows through all levels of government. A reference form model that covers the regulations of all levels is provided to governmental bodies that instantiate it to forms for use in government service delivery.\\n\\nSince the ability of subordinate levels of government to derive and adapt reference form models depends on laws and the distribution of jurisdictions across the levels of government, functional departments of superordinate levels can restrict subordinate levels’ adaptations of their reference form models. Modifiability of static properties indicates the right to adapt static form properties, modifiability of structure provides permission to adapt a form structure, and modifiability of representation indicates whether the “cosmetic” aspects of a form can be modified on the module instance between a form structure and a module (REQ\\xa06).\\n\\nThe modifiability attributes affect reference form models and the final forms. For example, the German federal government can specify that the structure of the reference form model for the application for housing benefits can be extended by the state level’s reference form models (value “extendable” for modifiability of structure). The state level can then extend the structure and allow the local government level that uses the state level’s reference form model to create a form by, for example, adding some specific information that is relevant to a municipality. However, since the form’s name and purpose should be the same in all states, the static form properties remain unchanged across the levels of government (value “no” for modifiability of static properties). The law does not make mandatory specifications regarding the appearance of each field or the layout (value “yes” for modifiability of representation).\\n\\nThe values for the modifiability attributes are specified by the reference modeler and result from law. The modifiability attributes and their values constitute rules that determine what can be changed when one is deriving a reference form model. Whereas the values for the modifiability of static properties and representation can be “yes” or “no,” the structural modifiability is on multiple levels: modifiable, extendable, restrictable, and not modifiable.\\n\\nHow a reference modeler uses the values depends on the scenario. For example, the “modifiable” value is assigned in cases like that of the application form for the German certificate of eligibility for public housing, where a law on the federal government level applies only if a state has not passed its own law. Another example is an output form that is given to a citizen after s/he registers at the German residents’ registration office. Since the law specifies a maximum amount of data that can be presented on the form, the value is “restrictable.” A reference modeler assigns the value “extendable” in cases such as the application form for the German business registration, where the law provides a template and advises – but does not oblige – governments to use it in designing their forms. However, a government cannot remove fields from this template since, according to law, the government must be able to share the data specified in the template with other organizations. Therefore, the structure can only be extended. In cases like that of the German identification card, the value “not modifiable” is applicable since it is the same for all German citizens.\\n\\nTo meet REQ\\xa05 (Fig.\\xa06), we take into account that, in the context of reference form models, some modules’ possibilities for standardization are restricted. For that reason, our meta-model introduces two module types: standardized and non-standardized. We decided to differentiate between these two module types so reference modelers can filter the set of modules to identify the modules they can use in their scenarios. “Standardized” modules should always be used in reference form models if no legal restrictions are present, but if an existing standardized module does not meet the needs of a reference form model, a new module must be created. If the new module is prescribed by law and contradicts existing modules, and if its creator does not have standardization competence, the module’s type is non-standardized. Modules of this type are used only in the restricted scenario specified by the respective law and are strictly defined in terms of their attributes and – in the case of groups – the modules they consist of.\\n\\nMeta-model part that addresses REQ 5\\n\\nFor instance, German law proposes a template for the application form for a business registration that suggests using a single field to capture an address’s street, number, zip code, city, and optionally e-mail address and homepage. Since the address usually constitutes a group subdivided into multiple fields, the template’s address field is “non-standardized” whereas the address group is “standardized,” although it is not usable for this template.\\n\\nTo fulfill REQ\\xa06 (Fig.\\xa07), the meta-model allows representational modifications to be made for module instances. If an existing module is semantically similar to a reference modeler’s needs, then it can be reused by changing the attributes that are related to syntax on the module instance between a form structure and a module. Thus, the reuse of the existing module does not increase the number of modules since no new module must be created to make representational modifications.\\n\\nMeta-model part that addresses REQ 6\\n\\nWe divide a module’s attributes into two subsets, the first of which consists of syntax-related attributes applied in the representation of a module: captions, helptexts, and contents. Equivalent attributes are also assigned to a module instance, so their values that are specified for the module in general can be overridden and specialized on the module instance between a form structure and a module. Therefore, if these attributes must be changed, the need to create a new module can be avoided. Since fields and groups can belong to groups and so can be indirectly allocated to reference form models, representational attributes can also be overridden on a module assignment. The second subset comprises all other attributes that define a module’s semantics, such as name and definition. Since a module should have a clear meaning, the values of these attributes are specified only in general and remain the same for all occurrences of the module. If these attributes must be changed, a reference modeler should create a new module since the semantics differ from those of existing modules.\\n\\nIn the example of the business registration in Germany that contains a structurally equal and semantically similar “commercial unit” group and “headquarters” group, instead of defining two structurally identical groups with different captions, we can override the caption on the module instance to create only one group. In contrast, two groups, “Birth” and “Death,” both include the fields “Date” and “Place” and so have the same structure, but their definitions differ substantially. Therefore, a reference modeler has to keep them as separate modules and cannot consolidate them into a single module with different captions on module instances.'},\n   {'chapter_name': 'Demonstration',\n    'chapter_text': 'Here we provide an instantiation of our meta-model by designing a reference form model for the application for a firearm-holder permit for sports shooters in Germany (application for “WBK gelb”). The firearm-holder permit enables sports shooters to acquire certain firearms and the according munitions. The German states assign responsibility for the service’s delivery differently: For example, in Saxony municipalities or district administrations deliver the service to citizens, whereas in Berlin the state criminal police office provides the service (Saxon State Ministry of the Interior 2018; The Police President in Berlin 2018).\\n\\nFigure\\xa08 presents the static form properties. If an attribute is not listed for an entity, then the attribute has a null value. The reference form model is related to the government service that issues the “WBK gelb,” and its purpose is to serve as an application form for this government service. The functional department “Department KM5” (ID: FD000116) of the responsible ministry at the level “Federal Government” (ID: FL000001) defines the form properties and form structure of the reference form model and provides the model to the subordinate levels of government, such as “Bavaria” (ID: FL000005) on the state level and “Nuremberg” (ID: FL000118) on the local government level. The static form properties are justified by the legal foundation “§ 14 (4) WaffG” (ID: LF0001134). We modeled the structure of legal foundations using a high level of detail. Depending on the purpose of the modeling, the reference modeler can apply a lower level of detail and, for example, relate LF0001134 directly to LF000065.\\n\\nStatic form properties of the application for “WBK gelb”\\n\\nThe static form properties are defined as not modifiable, so government bodies at subordinate levels cannot change them. However, the structure of the reference form model can be extended, and its representation can be modified (Fig.\\xa08, attributes modifiability of structure and modifiability of representation), as the legal foundation defines what information must be requested from a citizen so her or his request can be processed, but it does not define how the information must be presented on a form. For instance, the structure contains the minimum required information as defined in federal government law, but at the state level additional fields might be required because of differences in firearm ledgers.\\n\\nThe entire form structure of the application for “WBK gelb” consists of 202 module instances, an excerpt of which is depicted in Fig.\\xa09. The group “Firearm” (ID: G000049) occurs twice in the form structure, first to request information required for the firearm acquisition and then to describe a firearm that the applicant already owns. Since our meta-model seeks to minimize the number of modules, it allows the various purposes of the group to be distinguished based on the attribute caption input. While the caption input that is defined for the group in general (“Firearm”) is overwritten on the module assignment between G000001 and G000049 (“Firearm for acquisition”), it is valid for G000049 in G000022 since a value is not defined for caption input in the module assignment. The cardinalities of the group G000049 also differ, as there may not be a new firearm to be registered if the form is used only to register a firearm the applicant already owns (cardinality 0:n in G000001), and because if a firearm is already owned, its information has to be provided exactly once (cardinality 1:1 in G000022). The group G000049 has the module type “standardized” since it is defined in accordance with the German Weapons Act “WaffG” and the responsible ministry has the jurisdiction to prescribe the representation of firearms on forms. Within the responsible “Federal Ministry of the Interior” (ID: FD000002), the “Department KM5” is dedicated to firearms, so this functional department defines module G000049. To allow “Department KM5” to build form structures with the module, G000049 can be used on the “Federal Government” level.\\n\\nExcerpt of the dynamic form structure of the application for “WBK gelb”\\n\\nThe field “Data privacy hint” (ID: F000022) exemplifies the application of the attribute content output on a module instance. Since the hint is specific to each reference form model, the data privacy field’s content must be adapted on the module instance, so the content is set to a value based on the requirements of the reference form model to which it relates.\\n\\nAnother notable detail is a firearm’s caliber. One of the fields – field “Caliber (list)” (ID: F000042), which can be filled out up to four times, as described by its cardinality “0:4” according to corresponding law – provides a list of known calibers that is modeled using a codelist assigned to the field. The codelist (ID: C000003) refers to an external source and is managed externally, so we do not list its codes. If the firearm the citizen wishes to register is of a caliber that has not been included in the codelist, he or she can add a free-text description of the caliber (ID: F000041). Since the numbers of entries in both caliber fields will be added, a rule (ID: R000007) requires between one and four entries. As the free-text field is an extension of the list field, F000041 derives from F000042.'},\n   {'chapter_name': 'Evaluation',\n    'chapter_text': 'We evaluated our artifact in all three DSRM cycles (cf. Table\\xa01), guided by the criteria efficacy (are the requirements adequately fulfilled?), completeness (are there other requirements to be addressed?) and effectiveness (is the solution valuable for practice?). We evaluated effectiveness only in the third cycle since it was there that we had achieved a stable version of the meta-model that addressed all requirements satisfactorily.\\n\\nIn the first cycle, we discussed the meta-model in the course of the two focus groups to evaluate its efficacy. For this purpose, we developed an initial draft of our meta-model that addressed REQ\\xa01, REQ\\xa02, REQ\\xa03, and REQ\\xa04, as these requirements emerged from the focus groups. It was important to the focus group with experts from the business perspective that we address the decentralized and leveled structure of the German government system, so we emphasized REQ\\xa04. The members of this group were used to consider the various levels of government and distributed responsibilities. In the version of the meta-model at that time, we modeled the federal government level and state level as relevant levels of government. The focus group members emphasized that the meta-model would be beneficial only if it also incorporated the local government level and allowed for a generic representation of a government structure with no statically predefined levels.\\n\\nThe focus group with experts from the technical perspective gave priority to REQ\\xa01, REQ\\xa02, and REQ\\xa03. REQ\\xa02 was especially important to this focus group, who praised our realization of the separation between static form properties and dynamic form structure. An intense discussion around REQ\\xa01 on whether the meta-model should allow for a specification of the sequence of modules found some experts opposed to specifying the sequence of modules since it is barely legally defined. Others, however, were in favor of it since the form standardization is useful only if the order of modules is also standardized. Therefore, we incorporated optional “succeeds” relationship types into the meta-model that can, but do not have to be, specified in a model. All experts were convinced by the modular representation of a form. To address REQ\\xa03, the meta-model at that time depicted the enhanced functionality of electronic forms by rules, but the experts promoted a more precise representation with data type, codelist, and cardinality.\\n\\nAs a result, we evaluated the solutions for REQ\\xa01–4 in this DSRM cycle and used the focus groups’ feedback to refine the solution in the next cycle. In contrast, the results did not require an update of the requirements in the next cycle, suggesting their completeness.\\n\\nIn the second and third cycles, we applied our meta-model to three case studies in Germany. The cases were set in the German government system, which consists three levels of government. The federal and state governments can pass laws, although in most cases, a general law is defined on the federal government level and handed over to the state level, where it is refined and tailored to the states’ individual specifics and then forwarded to the local government level where a service is executed based on the law. The German legal system follows civil law instead of common law. Various councils and institutions work to align the legal regulations and policies between the states and the federal government. For example, the IT Planning Council consists of federal and state CIOs to reconcile e-government strategies and pass IT standards, and the interior ministers attend the regular Conferences of Interior Ministers for political exchange and cooperation. It was in this cooperative and interwoven setting that we performed our three case studies. For all of these cases, the federal government specifies the base law, whereas the states are responsible for its execution but forward the practicalities of this execution to local governments. This distribution of jurisdictions requires that some reference models be in place, especially on the federal government level, to support the form design on the local government level.\\n\\nThe results of the second cycle’s evaluation with the first two case studies were twofold: First, the application to the cases revealed the efficacy of our meta-model’s realization of the structural requirements REQ\\xa01, REQ\\xa02, and REQ\\xa03 and the process requirement REQ\\xa04. Fields and groups were suitable mechanisms with which to build a reference form model’s structure and to support the forms’ modularity (REQ\\xa01). After the second cycle, the tool contained 324 fields and 187 groups, among which 135 fields and 86 groups appeared more than once in a form structure and were reused in other reference form models. Reference form models contained between 14 and 76 fields and between 2 and 47 groups. We were able to separate the forms’ static properties from their structures adequately (REQ\\xa02). The tool contained 36 reference form models that were described by both static form properties and form structures. The constructs of rule, code, codelist, cardinality, and data type captured the specifics of electronic forms (REQ\\xa03). Reference form models had between 1 and 23 rules. In total, we used 11 simple data types and 29 codelists. We represented the relevant parts of the German federal structure and indicated the reference form models’ degree of commitment through the modifiability attributes (REQ\\xa04).\\n\\nThe second result of the second DSRM cycle regarded the requirements’ completeness. In contrast to the structure-related requirements, process-related requirements had rarely been regarded, as indicated by a rapidly increasing number of modules. Despite the high reusability of some modules, 121 modules were case-specific and not useable for other scenarios, so we were confronted with many semantically similar modules and groups with only slight structural differences. For instance, twenty groups represented an address, seven of which differed in only one or even no fields. We also had privacy information for each application form that differed only in the content. These issues occurred because of laws that contradicted existing standardized modules (REQ\\xa05) and because of structurally identical groups whose representational attribute values differed (REQ\\xa06).\\n\\nThe third DSRM cycle indicated the efficacy and appropriateness of the meta-model’s constructs. All constructs were used and tested. The new concepts that were established in the third cycle had positive effects on the issues identified in the second cycle’s evaluation. Defining modules as “non-standardized” helped us to separate modules that would not be applicable to various reference form models (REQ\\xa05). For instance, all six of the output reference form models for firearm-holder permits and all three input reference form models for business registries contained “non-standardized” modules. Adapting representational attributes on the module instance between a module and a reference form model helped us to reduce the number of modules (REQ\\xa06). Two modules exemplify the suitability of the mechanism we introduced. First, four fields that defined the texts that summarize the permissions for firearm holders were consolidated in one field, which was applied in four output reference form models with semantics unchanged but with different values for caption output and content output. Second, the field “Data privacy hint” consolidated twelve privacy statements and was applied in twelve reference form models with the same semantics but varying content outputs on the module instance. The feedback from the ministries and practitioners confirmed the appropriateness of our solution and the reference form models we created, so no adaptions to the meta-model were necessary after the third cycle’s evaluation. The results of the third cycle did not lead to additional requirements, indicating the requirements’ completeness.\\n\\nThe effectiveness of our meta-model for harmonization initiatives is underpinned by two results. First, in the housing benefits case, we were able to reduce the number of fields substantially. We compared the current application forms of Germany’s sixteen states’ capitols by mapping equal fields of the various forms to reveal commonalities and differences. Our analysis indicated that the forms contained 778 different fields. Unfortunately, the differences were manifold – different captions, helptexts, structures, or contents – and were not rooted in requirements by law or jurisdiction, which practitioners suggested as one reason for citizens’ perception of forms’ complexity. After creating a reference form model, we were able to implement all requirements using only 189 fields. A form that instantiates our reference form model reduces the complexity for citizens because less information is requested. Second, to indicate the feasibility of a reference form model’s instantiation for creating a new form, we derived one exemplary form from our reference form model for the application for “WBK gelb.” This instantiation shows that suitable forms can be derived from reference form models that are depicted with our meta-model’s constructs.'},\n   {'chapter_name': 'Discussion',\n    'chapter_text': 'This article supports the management of forms’ complexity by means of three major contributions to research. First, it provides requirements for a meta-model for a reference form modeling language in governments. Researchers can transfer these requirements, which cover the specifics of reference models, to other perspectives and artifacts in governments, such as process models, service descriptions for citizens, and organigrams. While the extant research has addressed the requirements of the structure and the purpose of a form–how to design a form from a technical perspective–and technical tools exist in practice, our work presents a first structured approach to summarizing these requirements (REQ\\xa01–3). Moreover, we address a research gap related to insights into what constructs are necessary to model government forms beyond the technical perspective. We address this gap by defining requirements for the editorial and usage process (REQ\\xa04–6) that refer to reference modeling in governments, and their transfer to other perspectives allows governmental institutions to be comprehensively harmonized.\\n\\nSecond, this article presents a meta-model that meets these requirements (cf. Table\\xa02). It proposes mechanisms which are able to account for the effects of laws that constitute a government service, the separation of governments into horizontal and vertical jurisdictions, and the number of elements to be managed on standardization initiatives, and ultimately the management of the quality of service content (customizing, upgrading, accepting) and service delivery (interactivity, interoperability, adaptability) in government. The meta-model can be used for a new reference form modeling language and it, or parts of it, can be applied to extend existing languages. Since reference models can constitute theoretical contributions on their own (Schütte and Becker 1998; vom Brocke 2003), researchers can use our meta-model as the basis for developing and representing reference form models. When interoperability frameworks are absent, researchers can develop such frameworks based on the reference form models.\\n\\nThird, this article suggests the application of reference modeling to addresses major challenges of inefficient domain-expertise-focused form design from the government perspective and insufficient form comprehensibility from the citizen perspective. In particular, reference models can constitute standards that should be followed in governments, as they “establish and record a limited set of solutions” (de Vries 1999, p 155) toward harmonization between laws and the data required in government services, and they represent a level of abstraction – compared to forms – that still allows for modifications and corresponds to the flexibility of standards (Hanseth et al. 1996). Governments benefit from this standardization through reduced design effort, and citizens obtain harmonized and more recognizable forms. A reference modeler can use modules to model a form’s security and safety aspects, such those for as a signature field. For example, to specify whether and how verification of an identity is to be performed, a reference modeler could create a group “Verification of identity” that consists of two fields, “In person” or “Electronic,” where only one of the two fields has to be filled out.\\n\\nThe meta-model can be transferred to standardize forms in sectors like the health sector, but also in retail and industry to an extent. Companies can also use electronic forms (REQ\\xa03) with modular structures (REQ\\xa01). Further, separation between static form properties and dynamic form structure might be appropriate (REQ\\xa02). However, the editorial and usage processes differ between companies and governments, as companies align their product portfolios to market demands, while the law defines governments’ service portfolios (Lee and Hong 2002; Becker et al. 2012). Therefore, precise laws are not relevant to the standardization of forms in other sectors (REQ\\xa05). In addition, whereas governments rely on constitutionally defined organizational structures with clearly assigned responsibilities, private companies can decide on their organization structure themselves (Zwicker et al. 2010). Therefore, leveled and decentralized jurisdictions have a limited impact on the standardization of forms in other sectors (REQ\\xa04). In contrast, companies may need to pay attention to the number of modules to ensure practical applicability if they offer services like governments do and have a high number of forms like insurance companies and banks do (REQ\\xa06).\\n\\nOur research also has implications for practice. First, our meta-model enables governments to develop reference form models in cooperation across horizontal and vertical jurisdictions. Form designers can use the developed reference form models as a basis for the construction and implementation of government forms, especially when the number of laws, corresponding forms, and/or levels of government is high. Exemplary applications include approaches like that of eForms, which focuses on the standardization of procurement notices in the EU; eSENS, a pan-European project to strengthen the EU digital single market and facilitate public services across borders; and the GSA Forms Library provided by the US General Services Administration. To apply our artifact in practice, form designers who use form models in structured formats like XML can easily translate their domain-specific information based on reference form models to support reuse and more efficient form management. If reference form models are provided when a law is passed, then they constitute an operationalization of the law in regard to forms and provide legal certainty regarding the interpretation of the law.\\n\\nSecond, the use of our meta-model in practice can also reveal potential for improvements in laws, such as the elimination of “non-standardized” modules and the missing alignment with interoperability frameworks for data exchange between government bodies. It can encourage the legislature to formulate laws in such a way that they request the minimum set of data from citizens.\\n\\nThird, software vendors can apply the reference form models created with the constructs introduced in our meta-model to design information systems and their interfaces, which government bodies use to make decisions and to deliver services to citizens. For instance, reference form models can be transformed into forms using languages and technologies that are already common in practice: the validation of a form with predefined rules can be based on XForms or any other XML-based (non-)proprietary format, combined with XML Schema. The form’s layout can be realized using a stylesheet transformation, and non-repudiation of a form modeled as a signature module in the reference form model can be implemented based on XFDL. Such efforts will reduce customization efforts since, even in the default configuration, the systems’ data structures will be similar to the data attributes in practice. Ultimately, as harmonization of government service provision increases (e.g., the Single Digital Gateway in the EU), reference form models will be the basis for user-focused services that require the exchange of information across organizational and national borders.'},\n   {'chapter_name': 'Conclusion and Outlook',\n    'chapter_text': 'The quality of government service content and delivery depends on forms, since forms are central interfaces for information exchanges between the government and its citizens. Unfortunately, both citizens and governments are challenged with forms’ complexity: the latter struggle to manage forms because of vertical and horizontal jurisdictions, and the former struggle with understanding and using forms when they apply for a service. To counter this complexity, we propose a standardized-forms approach based on reference modeling that benefits both citizens and governments. In particular, we present the design of a meta-model for a reference form modeling language in governments. In the course of our research, we applied the DSRM and derived six requirements for our meta-model. For each of these requirements, we introduced constructs, demonstrated their functionalities with an example from practice, and described the artifact evaluation along three DSRM cycles. Finally, we discussed the implications of our research for academia and practice.\\n\\nOur research has some limitations that lead to suggestions for future work. First, we address complexity only from a standardization perspective and do not deal with the graphical layout of forms. Future research can, for example, address forms’ complexity by substituting forms with chatbots that assist citizens in applying for a government service (Rubel 2017), as chatbots enable interactions that are more intuitive and dynamic than forms (Buyle et al. 2018; Androutsopoulou et al. 2019). The complexity of forms is also inherited from laws, so as long as laws remain complex, forms will be complex as well since they are an implementation of laws. Future research should focus on finding ways to formulate simpler laws or – from an information systems perspective – to transfer laws automatically or semi-automatically into operationalizations like processes and forms.\\n\\nSecond, using our meta-model in practice requires that it be extended by a concrete syntax to cover the representational aspect of a modeling language. When implementing our meta-model, software vendors should pay attention to mechanisms that allow for a high degree of usability. For instance, templates can be created for similar reference form models so that models can be devised easily. Knowledge structures, such as taxonomies, can be established to organize reference form models and modules. Structural comparisons of groups that refer to the same real-world entity allow modelers to select the most appropriate group for their scenarios. If desired, implementations of our meta-model could allow guidelines to be attached to reference form models that explain how to process and analyze the data that is submitted through forms.\\n\\nThird, we evaluated our meta-model in three case studies in Germany, but the German government’s law and regulation system’s differences from those of states like the US, France, and the United Kingdom pose a limitation to the requirements derived and to the development and evaluation of our research artifact. Still, the meta-model is constructed to be beneficial in a general context, independent of a government structure, so it should be applicable to other government settings and their laws and regulations. Upcoming studies should transfer and evaluate the meta-model in other countries to demonstrate its general suitability.\\n\\nThe complexity of governmental forms is an important issue. We suggest the concept of reference modeling to address this complexity through standardization. Our meta-model is the first meta-model for a reference form modeling language in governments that addresses the complexity related to domain-expert design and service-focused use of forms. The results from the demonstration and evaluation of the meta-model suggest that our solution is appropriate, and its practical usefulness is indicated by the German federal and state governments’ decision to implement the meta-model in Germany’s governmental practice.\\n'}],\n  'references': [{'reference_text': 'Accenture (2015) Digital government: your digital citizens are ready, willing… and waiting. https://www.accenture.com/t20151014T210834__w__/us-en/_acnmedia/Accenture/Conversion-Assets/DotCom/Documents/Global/PDF/Dualpub_16/Accenture-Your-Digital-Citizens-Ready-Willing-Waiting-2.pdf. Accessed 3 March 2016',\n    'google_scholar_link': None},\n   {'reference_text': 'Algermissen L, Delfmann P, Niehaves B (2005) Experiences in process-oriented reorganisation through reference modelling in public administrations – the case study Regio@KomM. In: Proceedings of the 13th European conference on information systems, Regensburg',\n    'google_scholar_link': None},\n   {'reference_text': 'Androutsopoulou A, Karacapilidis N, Loukis E, Charalabidis Y (2019) Transforming the communication between citizens and government through AI-guided chatbots. Gov Inf Q 36(2):358–367',\n    'google_scholar_link': 'http://scholar.google.com/scholar_lookup?&title=Transforming%20the%20communication%20between%20citizens%20and%20government%20through%20AI-guided%20chatbots&journal=Gov%20Inf%20Q&volume=36&issue=2&pages=358-367&publication_year=2019&author=Androutsopoulou%2CA&author=Karacapilidis%2CN&author=Loukis%2CE&author=Charalabidis%2CY'},\n   {'reference_text': 'Araujo S, Gao Q, Leonardi E, Houben G-J (2010) Carbon: domain-independent automatic web form filling. In: Benatallah B, Casati F, Kappel G, Rossi G (eds) Proceedings of the 10th international conference on web engineering, Vienna, pp 292–306',\n    'google_scholar_link': None},\n   {'reference_text': 'Ardalani P, Houy C, Fettke P, Loos P (2013) Towards a minimal cost of change approach for inductive reference process model development. In: Proceedings of the 21st European conference on information systems. Utrecht',\n    'google_scholar_link': None},\n   {'reference_text': 'Aßmann U, Zschaler S, Wagner G (2006) Ontologies, meta-models, and the model-driven paradigm. In: Calero C, Ruiz F, Piattini M (eds) Ontologies for software engineering and software technology. Springer, Heidelberg, pp 249–273',\n    'google_scholar_link': 'http://scholar.google.com/scholar_lookup?&title=Ontologies%2C%20meta-models%2C%20and%20the%20model-driven%20paradigm&pages=249-273&publication_year=2006&author=A%C3%9Fmann%2CU&author=Zschaler%2CS&author=Wagner%2CG'},\n   {'reference_text': 'Axelsson K, Ventura S (2007) Reaching communication quality in public e-forms – a communicative perspective on e-form design. In: Wimmer MA, Scholl J, Grönlund Å (eds) Proceedings of the 6th international conference on electronic government. Regensburg, pp 342–353',\n    'google_scholar_link': None},\n   {'reference_text': 'Baldwin CY, Clark KB (2003) Managing in an age of modularity. In: Garud R, Kumaraswamy A, Langlois RN (eds) Managing in the modular age: architectures, networks, and organizations. Blackwell, Oxford, pp 149–160',\n    'google_scholar_link': 'http://scholar.google.com/scholar_lookup?&title=Managing%20in%20an%20age%20of%20modularity&pages=149-160&publication_year=2003&author=Baldwin%2CCY&author=Clark%2CKB'},\n   {'reference_text': 'Balta D, Krcmar H (2018) Managing standardization in eGovernment: a coordination theory based analysis framework. In: Parycek P, Glassey O, Janssen M, et al (eds) Proceedings of the 17th IFIP WG 8.5 international conference on electronic government. Krems, pp 60–72',\n    'google_scholar_link': None},\n   {'reference_text': 'Bargas-Avila JA, Brenzikofer O, Roth SP et al (2010) Simple but crucial user interfaces in the world wide web: introducing 20 guidelines for usable web form design. In: Mátrai R (ed) user interfaces. InTech, Rijeka, pp 1–10',\n    'google_scholar_link': 'http://scholar.google.com/scholar_lookup?&title=Simple%20but%20crucial%20user%20interfaces%20in%20the%20world%20wide%20web%3A%20introducing%2020%20guidelines%20for%20usable%20web%20form%20design&pages=1-10&publication_year=2010&author=Bargas-Avila%2CJA&author=Brenzikofer%2CO&author=Roth%2CSP'},\n   {'reference_text': 'Bargas-Avila JA, Brenzikofer O, Tuch AN et al (2011) Working towards usable forms on the world wide web: optimizing date entry input fields. Adv Hum Comput Interact 2011:1–8',\n    'google_scholar_link': 'http://scholar.google.com/scholar_lookup?&title=Working%20towards%20usable%20forms%20on%20the%20world%20wide%20web%3A%20optimizing%20date%20entry%20input%20fields&journal=Adv%20Hum%20Comput%20Interact&volume=2011&pages=1-8&publication_year=2011&author=Bargas-Avila%2CJA&author=Brenzikofer%2CO&author=Tuch%2CAN'},\n   {'reference_text': 'Becker J, Delfmann P (2007) Reference modeling: efficient information systems design through reuse of information models. Physica, Heidelberg',\n    'google_scholar_link': 'http://scholar.google.com/scholar_lookup?&title=Reference%20modeling%3A%20efficient%20information%20systems%20design%20through%20reuse%20of%20information%20models&publication_year=2007&author=Becker%2CJ&author=Delfmann%2CP'},\n   {'reference_text': 'Becker J, Schütte R (2007) A reference model for retail enterprises. In: Fettke P, Loos P (eds) Reference modeling for business systems analysis. Idea Group Publishing, Hershey, pp 182–205',\n    'google_scholar_link': 'http://scholar.google.com/scholar_lookup?&title=A%20reference%20model%20for%20retail%20enterprises&pages=182-205&publication_year=2007&author=Becker%2CJ&author=Sch%C3%BCtte%2CR'},\n   {'reference_text': 'Becker J, Delfmann P, Knackstedt R, Kuropka D (2002) Konfigurative Referenzmodellierung. In: Becker J, Knackstedt R (eds) Wissensmanagement mit Referenzmodellen: Konzepte für die Anwendungssystem- und Organisationsgestaltung. Physica, Heidelberg, pp 25–144',\n    'google_scholar_link': 'http://scholar.google.com/scholar_lookup?&title=Konfigurative%20referenzmodellierung&pages=25-144&publication_year=2002&author=Becker%2CJ&author=Delfmann%2CP&author=Knackstedt%2CR&author=Kuropka%2CD'},\n   {'reference_text': 'Becker J, Algermissen L, Falk T (2012) Modernizing processes in public administrations: process management in the age of e-government and new public management. Springer, Heidelberg',\n    'google_scholar_link': 'http://scholar.google.com/scholar_lookup?&title=Modernizing%20processes%20in%20public%20administrations%3A%20process%20management%20in%20the%20age%20of%20e-government%20and%20new%20public%20management&publication_year=2012&author=Becker%2CJ&author=Algermissen%2CL&author=Falk%2CT'},\n   {'reference_text': 'Bharosa N, Lee J, Janssen M (2010) Challenges and obstacles in sharing and coordinating information during multi-agency disaster response: propositions from field exercises. Inf Syst Front 12(1):49–65',\n    'google_scholar_link': 'http://scholar.google.com/scholar_lookup?&title=Challenges%20and%20obstacles%20in%20sharing%20and%20coordinating%20information%20during%20multi-agency%20disaster%20response%3A%20propositions%20from%20field%20exercises&journal=Inf%20Syst%20Front&volume=12&issue=1&pages=49-65&publication_year=2010&author=Bharosa%2CN&author=Lee%2CJ&author=Janssen%2CM'},\n   {'reference_text': 'Bhattacharya D, Gulla U, Gupta MP (2012) E-service quality model for Indian government portals: citizens’ perspective. J Enterp Inf Manag 25(3):246–271',\n    'google_scholar_link': 'http://scholar.google.com/scholar_lookup?&title=E-service%20quality%20model%20for%20Indian%20government%20portals%3A%20citizens%E2%80%99%20perspective&journal=J%20Enterp%20Inf%20Manag&volume=25&issue=3&pages=246-271&publication_year=2012&author=Bhattacharya%2CD&author=Gulla%2CU&author=Gupta%2CMP'},\n   {'reference_text': 'Blum U (2005) Lessons from the past: public standardization in the spotlight. Int J IT Stand Stand Res 3(1):1–20',\n    'google_scholar_link': 'http://scholar.google.com/scholar_lookup?&title=Lessons%20from%20the%20past%3A%20public%20standardization%20in%20the%20spotlight&journal=Int%20J%20IT%20Stand%20Stand%20Res&volume=3&issue=1&pages=1-20&publication_year=2005&author=Blum%2CU'},\n   {'reference_text': 'Brunsson N, Rasche A, Seidl D (2012) The dynamics of standardization: three perspectives on standards in organization studies. Organ Stud 33(5–6):613–632',\n    'google_scholar_link': 'http://scholar.google.com/scholar_lookup?&title=The%20dynamics%20of%20standardization%3A%20three%20perspectives%20on%20standards%20in%20organization%20studies&journal=Organ%20Stud&volume=33&issue=5%E2%80%936&pages=613-632&publication_year=2012&author=Brunsson%2CN&author=Rasche%2CA&author=Seidl%2CD'},\n   {'reference_text': 'Buckley J (2003) E-service quality and the public sector. Manag Serv Qual An Int J 13(6):453–462',\n    'google_scholar_link': 'http://scholar.google.com/scholar_lookup?&title=E-service%20quality%20and%20the%20public%20sector&journal=Manag%20Serv%20Qual%20An%20Int%20J&volume=13&issue=6&pages=453-462&publication_year=2003&author=Buckley%2CJ'},\n   {'reference_text': 'Büttner F, Bartels U, Hamann L et al (2014) Model-driven standardization of public authority data interchange. Sci Comput Progr 89:162–175',\n    'google_scholar_link': 'http://scholar.google.com/scholar_lookup?&title=Model-driven%20standardization%20of%20public%20authority%20data%20interchange&journal=Sci%20Comput%20Progr&volume=89&pages=162-175&publication_year=2014&author=B%C3%BCttner%2CF&author=Bartels%2CU&author=Hamann%2CL'},\n   {'reference_text': 'Buyle R, Van Compernolle M, De Paepe D et al (2018) Semantics in the wild: a digital assistant for Flemish citizens. In: Proceedings of the 11th international conference on theory and practice of electronic governance, Galway, pp 1–6',\n    'google_scholar_link': None},\n   {'reference_text': 'Charalabidis Y, Lampathaki F, Askounis D (2009) A comparative analysis of national interoperability frameworks. In: Proceedings of Americas conference on information systems (AMCIS 2009), San Francisco',\n    'google_scholar_link': None},\n   {'reference_text': 'Chen PP-S (1976) The entity-relationship model – toward a unified view of data. ACM Trans Database Syst 1(1):9–36',\n    'google_scholar_link': 'http://scholar.google.com/scholar_lookup?&title=The%20entity-relationship%20model%20%E2%80%93%20toward%20a%20unified%20view%20of%20data&journal=ACM%20Trans%20Database%20Syst&volume=1&issue=1&pages=9-36&publication_year=1976&author=Chen%2CPP-S'},\n   {'reference_text': 'David PA, Greenstein S (1990) The economics of compatibility standards: an introduction to recent research. Econ Innov New Technol 1(1–2):3–41',\n    'google_scholar_link': 'http://scholar.google.com/scholar_lookup?&title=The%20economics%20of%20compatibility%20standards%3A%20an%20introduction%20to%20recent%20research&journal=Econ%20Innov%20New%20Technol&volume=1&issue=1%E2%80%932&pages=3-41&publication_year=1990&author=David%2CPA&author=Greenstein%2CS'},\n   {'reference_text': 'Dawes SS (1996) Interagency information sharing: expected benefits, manageable risks. J Policy Anal Manag 15(3):377–394',\n    'google_scholar_link': 'http://scholar.google.com/scholar_lookup?&title=Interagency%20information%20sharing%3A%20expected%20benefits%2C%20manageable%20risks&journal=J%20Policy%20Anal%20Manag&volume=15&issue=3&pages=377-394&publication_year=1996&author=Dawes%2CSS'},\n   {'reference_text': 'de Vries HJ (1999) Standardization: a business approach to the role of national standardization organizations. Springer, New York',\n    'google_scholar_link': 'http://scholar.google.com/scholar_lookup?&title=Standardization%3A%20a%20business%20approach%20to%20the%20role%20of%20national%20standardization%20organizations&publication_year=1999&author=Vries%2CHJ'},\n   {'reference_text': 'Delfmann P (2006) Adaptive Referenzmodellierung: Methodische Konzepte zur Konstruktion und Anwendung wiederverwendungsorientierter Informationsmodelle. University of Münster, Doctoral Thesis, Münster',\n    'google_scholar_link': None},\n   {'reference_text': 'Drake DB, Steckler NA, Koch MJ (2004) Information sharing in and across government agencies: the role and influence of scientist, politician, and bureaucrat subcultures. Soc Sci Comput Rev 22(1):67–84',\n    'google_scholar_link': 'http://scholar.google.com/scholar_lookup?&title=Information%20sharing%20in%20and%20across%20government%20agencies%3A%20the%20role%20and%20influence%20of%20scientist%2C%20politician%2C%20and%20bureaucrat%20subcultures&journal=Soc%20Sci%20Comput%20Rev&volume=22&issue=1&pages=67-84&publication_year=2004&author=Drake%2CDB&author=Steckler%2CNA&author=Koch%2CMJ'},\n   {'reference_text': 'European Commission (2010) European interoperability framework (EIF) for European public services. http://ec.europa.eu/isa/documents/isa_annex_ii_eif_en.pdf. Accessed 12 Nov 2015',\n    'google_scholar_link': None},\n   {'reference_text': 'European Commission (2017) New European interoperability framework. https://ec.europa.eu/isa2/eif_en. Accessed 15 Apr 2017',\n    'google_scholar_link': None},\n   {'reference_text': 'Federal Government Commissioner for Information Technology (2017) SAGA 5 für die Bundesverwaltung. http://www.cio.bund.de/Web/DE/Architekturen-und-Standards/SAGA/saga_node.html. Accessed 12 Aug 2017',\n    'google_scholar_link': None},\n   {'reference_text': 'Federal Statistical Office (2015) Zufriedenheit der Bürgerinnen und Bürger in Deutschland mit behördlichen Dienstleistungen: Ausgewählte Ergebnisse der Zufriedenheitsbefragung 2015. https://www.amtlich-einfach.de/SharedDocs/Downloads/Ergebnisse_Buerger.pdf?__blob=publicationFile&v=3. Accessed 16 Feb 2016',\n    'google_scholar_link': None},\n   {'reference_text': 'Ferg S (1991) Cardinality concepts in entity-relationship modeling. In: Teorey T (ed) Proceedings of 10th international conference on the entity-relationship approach, San Mateo, pp 1–30',\n    'google_scholar_link': None},\n   {'reference_text': 'Fettke P, Loos P (2003) Classification of reference models: a methodology and its application. Inf Syst E-Bus Manag 1(1):35–53',\n    'google_scholar_link': 'http://scholar.google.com/scholar_lookup?&title=Classification%20of%20reference%20models%3A%20a%20methodology%20and%20its%20application&journal=Inf%20Syst%20E-Bus%20Manag&volume=1&issue=1&pages=35-53&publication_year=2003&author=Fettke%2CP&author=Loos%2CP'},\n   {'reference_text': 'Fettke P, Loos P (2006) Using reference models for business engineering – state-of-the-art and future developments. In: Proceedings of the international conference on innovations in information technology, Dubai',\n    'google_scholar_link': None},\n   {'reference_text': 'Fettke P, Loos P (2007) Perspectives on reference modeling. In: Fettke P, Loos P (eds) Reference modeling for business systems analysis. Idea Group Publishing, Hershey, pp 1–20',\n    'google_scholar_link': 'http://scholar.google.com/scholar_lookup?&title=Perspectives%20on%20reference%20modeling&pages=1-20&publication_year=2007&author=Fettke%2CP&author=Loos%2CP'},\n   {'reference_text': 'Fettke P, Loos P, Zwicker J (2005) Business process reference models: survey and classification. In: Bussler CJ, Haller A (eds) Proceedings of the BPM 2005 international workshops, BPI, BPD, ENEI, BPRM, WSCOBPM, BPS. Nancy, pp 469–483',\n    'google_scholar_link': None},\n   {'reference_text': 'Folmer E, Matzner M, Räckers M et al (2016) Standardized but flexible information exchange for networked public administrations – a method. Trans Gov People Process Policy 10(2):239–255',\n    'google_scholar_link': 'http://scholar.google.com/scholar_lookup?&title=Standardized%20but%20flexible%20information%20exchange%20for%20networked%20public%20administrations%20%E2%80%93%20a%20method&journal=Trans%20Gov%20People%20Process%20Policy&volume=10&issue=2&pages=239-255&publication_year=2016&author=Folmer%2CE&author=Matzner%2CM&author=R%C3%A4ckers%2CM'},\n   {'reference_text': 'Guba EG (1981) Criteria for assessing the trustworthiness of naturalistic inquiries. Educ Commun Technol 29(2):75–91',\n    'google_scholar_link': 'http://scholar.google.com/scholar_lookup?&title=Criteria%20for%20assessing%20the%20trustworthiness%20of%20naturalistic%20inquiries&journal=Educ%20Commun%20Technol&volume=29&issue=2&pages=75-91&publication_year=1981&author=Guba%2CEG'},\n   {'reference_text': 'Guijarro L (2007) Interoperability frameworks and enterprise architectures in e-government initiatives in Europe and the United States. Gov Inf Q 24(1):89–101',\n    'google_scholar_link': 'http://scholar.google.com/scholar_lookup?&title=Interoperability%20frameworks%20and%20enterprise%20architectures%20in%20e-government%20initiatives%20in%20Europe%20and%20the%20United%20States&journal=Gov%20Inf%20Q&volume=24&issue=1&pages=89-101&publication_year=2007&author=Guijarro%2CL'},\n   {'reference_text': 'Halaris C, Magoutas B, Papadomichelaki X, Mentzas G (2007) Classification and synthesis of quality approaches in e-government services. Internet Res 17(4):378–401',\n    'google_scholar_link': 'http://scholar.google.com/scholar_lookup?&title=Classification%20and%20synthesis%20of%20quality%20approaches%20in%20e-government%20services&journal=Internet%20Res&volume=17&issue=4&pages=378-401&publication_year=2007&author=Halaris%2CC&author=Magoutas%2CB&author=Papadomichelaki%2CX&author=Mentzas%2CG'},\n   {'reference_text': 'Hampel L (2017) Elterngeld: Für das ausgefüllte Formular zahlen Eltern bis zu 500 Euro. http://www.sueddeutsche.de/karriere/elterngeld-fuer-das-ausgefuellte-formular-zahlen-eltern-bis-zu-euro-1.3389134. Accessed 2 Mar 2017',\n    'google_scholar_link': None},\n   {'reference_text': 'Hanseth O, Monteiro E, Hatling M (1996) Developing information infrastructure: the tension between standardisation and flexibility. Sci Technol Hum Values 21(4):407–426',\n    'google_scholar_link': 'http://scholar.google.com/scholar_lookup?&title=Developing%20information%20infrastructure%3A%20the%20tension%20between%20standardisation%20and%20flexibility&journal=Sci%20Technol%20Hum%20Values&volume=21&issue=4&pages=407-426&publication_year=1996&author=Hanseth%2CO&author=Monteiro%2CE&author=Hatling%2CM'},\n   {'reference_text': 'Hanseth O, Jacucci E, Grisot M, Aanestad M (2006) Reflexive standardization: side effects and complexity in standard making. MIS Q 30(Special Issue):563–581',\n    'google_scholar_link': 'http://scholar.google.com/scholar_lookup?&title=Reflexive%20standardization%3A%20side%20effects%20and%20complexity%20in%20standard%20making&journal=MIS%20Q&volume=30&issue=Special%20Issue&pages=563-581&publication_year=2006&author=Hanseth%2CO&author=Jacucci%2CE&author=Grisot%2CM&author=Aanestad%2CM'},\n   {'reference_text': 'Hars A (1994) Referenzdatenmodelle: Grundlagen effizienter Datenmodellierung. Gabler Verlag, Wiesbaden',\n    'google_scholar_link': 'http://scholar.google.com/scholar_lookup?&title=Referenzdatenmodelle%3A%20grundlagen%20effizienter%20datenmodellierung&publication_year=1994&author=Hars%2CA'},\n   {'reference_text': 'Hellberg A-S, Grönlund Å (2013) Conflicts in implementing interoperability: re-operationalizing basic values. Gov Inf Q 30(2):154–162',\n    'google_scholar_link': 'http://scholar.google.com/scholar_lookup?&title=Conflicts%20in%20implementing%20interoperability%3A%20re-operationalizing%20basic%20values&journal=Gov%20Inf%20Q&volume=30&issue=2&pages=154-162&publication_year=2013&author=Hellberg%2CA-S&author=Gr%C3%B6nlund%2C%C3%85'},\n   {'reference_text': 'Hevner AR, March ST, Park J, Ram S (2004) Design science in information systems research. MIS Q 28(1):75–105',\n    'google_scholar_link': 'http://scholar.google.com/scholar_lookup?&title=Design%20science%20in%20information%20systems%20research&journal=MIS%20Q&volume=28&issue=1&pages=75-105&publication_year=2004&author=Hevner%2CAR&author=March%2CST&author=Park%2CJ&author=Ram%2CS'},\n   {'reference_text': 'Hiller JS, Bélanger F (2001) Privacy strategies for electronic government. The PricewaterhouseCoopers Endowment for The Business of Government, Arlington',\n    'google_scholar_link': 'http://scholar.google.com/scholar_lookup?&title=Privacy%20strategies%20for%20electronic%20government&publication_year=2001&author=Hiller%2CJS&author=B%C3%A9langer%2CF'},\n   {'reference_text': 'Hinkelmann K, Thönssen B, Probst F (2005) Referenzmodellierung für E-Government-Services. Wirtschaftsinformatik 47(5):356–366',\n    'google_scholar_link': 'http://scholar.google.com/scholar_lookup?&title=Referenzmodellierung%20f%C3%BCr%20e-government-services&journal=Wirtschaftsinformatik&volume=47&issue=5&pages=356-366&publication_year=2005&author=Hinkelmann%2CK&author=Th%C3%B6nssen%2CB&author=Probst%2CF'},\n   {'reference_text': 'Hueglin TO, Fenna A (2015) Comparative federalism: a systematic inquiry. University of Toronto Press, Toronto',\n    'google_scholar_link': 'http://scholar.google.com/scholar_lookup?&title=Comparative%20federalism%3A%20a%20systematic%20inquiry&publication_year=2015&author=Hueglin%2CTO&author=Fenna%2CA'},\n   {'reference_text': 'International Organization for Standardization (2015) ISO/IEC 2382:2015(en): Information technology – vocabulary. https://www.iso.org/obp/ui/#iso:std:iso-iec:2382:ed-1:v1:en. Accessed 12 Aug 2017',\n    'google_scholar_link': None},\n   {'reference_text': 'Jansen A, Ølnes S (2016) The nature of public e-services and their quality dimensions. Gov Inf Q 33(4):647–657',\n    'google_scholar_link': 'http://scholar.google.com/scholar_lookup?&title=The%20nature%20of%20public%20e-services%20and%20their%20quality%20dimensions&journal=Gov%20Inf%20Q&volume=33&issue=4&pages=647-657&publication_year=2016&author=Jansen%2CA&author=%C3%98lnes%2CS'},\n   {'reference_text': 'Janssen M, Charalabidis Y, Kuk G, Cresswell T (2011) Guest editors’ introduction: e-government interoperability, infrastructure and architecture: state-of-the-art and challenges. J Theor Appl Electron Commer Res 6(1):I–VIII',\n    'google_scholar_link': 'http://scholar.google.com/scholar_lookup?&title=Guest%20editors%E2%80%99%20introduction%3A%20e-government%20interoperability%2C%20infrastructure%20and%20architecture%3A%20state-of-the-art%20and%20challenges&journal=J%20Theor%20Appl%20Electron%20Commer%20Res&volume=6&issue=1&pages=1-8&publication_year=2011&author=Janssen%2CM&author=Charalabidis%2CY&author=Kuk%2CG&author=Cresswell%2CT'},\n   {'reference_text': 'Jarrett C (2015) My new favourite form. Really. https://gds.blog.gov.uk/2015/09/22/my-new-favourite-form-really/. Accessed 8 Feb 2018',\n    'google_scholar_link': None},\n   {'reference_text': 'Jarrett C, Gaffney G (2009) Forms that work: designing web forms for usability. Morgan Kaufmann, Burlington',\n    'google_scholar_link': 'http://scholar.google.com/scholar_lookup?&title=Forms%20that%20work%3A%20designing%20web%20forms%20for%20usability&publication_year=2009&author=Jarrett%2CC&author=Gaffney%2CG'},\n   {'reference_text': 'Jurisch MC (2014) IT-enabled business process change in private and in public sector organizations. Technical University of Munich, Munich',\n    'google_scholar_link': 'http://scholar.google.com/scholar_lookup?&title=IT-enabled%20business%20process%20change%20in%20private%20and%20in%20public%20sector%20organizations&publication_year=2014&author=Jurisch%2CMC'},\n   {'reference_text': 'Keller G, Nüttgens M, Scheer A-W (1992) Semantische Prozeßmodellierung auf der Grundlage “Ereignisgesteuerter Prozeßketten (EPK)”. Institut für Wirtschaftsinformatik, Universität des Saarlandes, Saarbrücken',\n    'google_scholar_link': 'http://scholar.google.com/scholar_lookup?&title=Semantische%20proze%C3%9Fmodellierung%20auf%20der%20grundlage%20%E2%80%9Cereignisgesteuerter%20proze%C3%9Fketten%20%28EPK%29%E2%80%9D&publication_year=1992&author=Keller%2CG&author=N%C3%BCttgens%2CM&author=Scheer%2CA-W'},\n   {'reference_text': 'Klischewski R (2006) Ontologies for e-document management in public administration. Bus Process Manag J 12(1):34–47',\n    'google_scholar_link': 'http://scholar.google.com/scholar_lookup?&title=Ontologies%20for%20e-document%20management%20in%20public%20administration&journal=Bus%20Process%20Manag%20J&volume=12&issue=1&pages=34-47&publication_year=2006&author=Klischewski%2CR'},\n   {'reference_text': 'Klischewski R, Scholl HJ (2008) Information quality as capstone in negotiating e-government integration, interoperation and information sharing. Electron Gov Int J 5(2):203–225',\n    'google_scholar_link': 'http://scholar.google.com/scholar_lookup?&title=Information%20quality%20as%20capstone%20in%20negotiating%20e-government%20integration%2C%20interoperation%20and%20information%20sharing&journal=Electron%20Gov%20Int%20J&volume=5&issue=2&pages=203-225&publication_year=2008&author=Klischewski%2CR&author=Scholl%2CHJ'},\n   {'reference_text': 'Krefting L (1991) Rigor in qualitative research: the assessment of trustworthiness. Am J Occup Ther 45(3):214–222',\n    'google_scholar_link': 'http://scholar.google.com/scholar_lookup?&title=Rigor%20in%20qualitative%20research%3A%20the%20assessment%20of%20trustworthiness&journal=Am%20J%20Occup%20Ther&volume=45&issue=3&pages=214-222&publication_year=1991&author=Krefting%2CL'},\n   {'reference_text': 'Krimmer R, Kalvet T, Toots M et al (2017) Exploring and demonstrating the once-only principle: a European perspective. In: Hinnant CC, Ojo A (eds) Proceedings of the 18th annual international conference on digital government research. Staten Island, pp 546–551',\n    'google_scholar_link': None},\n   {'reference_text': 'Krueger RA, Casey MA (2015) Focus groups: a practical guide for applied research, 5th edn. SAGE Publications, New Delhi',\n    'google_scholar_link': 'http://scholar.google.com/scholar_lookup?&title=Focus%20groups%3A%20a%20practical%20guide%20for%20applied%20research&publication_year=2015&author=Krueger%2CRA&author=Casey%2CMA'},\n   {'reference_text': 'Kühne T (2006) Matters of (meta-) modeling. Softw Syst Model 5(4):369–385',\n    'google_scholar_link': 'http://scholar.google.com/scholar_lookup?&title=Matters%20of%20%28meta-%29%20modeling&journal=Softw%20Syst%20Model&volume=5&issue=4&pages=369-385&publication_year=2006&author=K%C3%BChne%2CT'},\n   {'reference_text': 'Lam W (2005) Barriers to e-government integration. J Enterp Inf Manag 18(5):511–530',\n    'google_scholar_link': 'http://scholar.google.com/scholar_lookup?&title=Barriers%20to%20e-government%20integration&journal=J%20Enterp%20Inf%20Manag&volume=18&issue=5&pages=511-530&publication_year=2005&author=Lam%2CW'},\n   {'reference_text': 'Layne K, Lee J (2001) Developing fully functional e-government: a four stage model. Gov Inf Q 18(2):122–136',\n    'google_scholar_link': 'http://scholar.google.com/scholar_lookup?&title=Developing%20fully%20functional%20e-government%3A%20a%20four%20stage%20model&journal=Gov%20Inf%20Q&volume=18&issue=2&pages=122-136&publication_year=2001&author=Layne%2CK&author=Lee%2CJ'},\n   {'reference_text': 'Lee KJ, Hong J-H (2002) Development of an e-government service model: a business model approach. Int Rev Public Adm 7(2):109–118',\n    'google_scholar_link': 'http://scholar.google.com/scholar_lookup?&title=Development%20of%20an%20e-government%20service%20model%3A%20a%20business%20model%20approach&journal=Int%20Rev%20Public%20Adm&volume=7&issue=2&pages=109-118&publication_year=2002&author=Lee%2CKJ&author=Hong%2CJ-H'},\n   {'reference_text': 'Lee J, Kim HJ, Ahn MJ (2011) The willingness of e-government service adoption by business users: the role of offline service quality and trust in technology. Gov Inf Q 28(2):222–230',\n    'google_scholar_link': 'http://scholar.google.com/scholar_lookup?&title=The%20willingness%20of%20e-government%20service%20adoption%20by%20business%20users%3A%20the%20role%20of%20offline%20service%20quality%20and%20trust%20in%20technology&journal=Gov%20Inf%20Q&volume=28&issue=2&pages=222-230&publication_year=2011&author=Lee%2CJ&author=Kim%2CHJ&author=Ahn%2CMJ'},\n   {'reference_text': 'Lindgren I, Jansson G (2013) Electronic services in the public sector: a conceptual framework. Gov Inf Q 30(2):163–172',\n    'google_scholar_link': 'http://scholar.google.com/scholar_lookup?&title=Electronic%20services%20in%20the%20public%20sector%3A%20a%20conceptual%20framework&journal=Gov%20Inf%20Q&volume=30&issue=2&pages=163-172&publication_year=2013&author=Lindgren%2CI&author=Jansson%2CG'},\n   {'reference_text': 'Loutas N, Peristeras V, Tarabanis K (2011) Towards a reference service model for the web of services. Data Knowl Eng 70(9):753–774',\n    'google_scholar_link': 'http://scholar.google.com/scholar_lookup?&title=Towards%20a%20reference%20service%20model%20for%20the%20web%20of%20services&journal=Data%20Knowl%20Eng&volume=70&issue=9&pages=753-774&publication_year=2011&author=Loutas%2CN&author=Peristeras%2CV&author=Tarabanis%2CK'},\n   {'reference_text': 'Lum VY, Choy DM, Shu NC (1982) OPAS: an office procedure automation system. IBM Syst J 21(3):327–350',\n    'google_scholar_link': 'http://scholar.google.com/scholar_lookup?&title=OPAS%3A%20an%20office%20procedure%20automation%20system&journal=IBM%20Syst%20J&volume=21&issue=3&pages=327-350&publication_year=1982&author=Lum%2CVY&author=Choy%2CDM&author=Shu%2CNC'},\n   {'reference_text': 'Lyytinen K, King JL (2006) Standard making: a critical research frontier for information systems research. MIS Q 30(Special Issue):405–411',\n    'google_scholar_link': 'http://scholar.google.com/scholar_lookup?&title=Standard%20making%3A%20a%20critical%20research%20frontier%20for%20information%20systems%20research&journal=MIS%20Q&volume=30&issue=Special%20Issue&pages=405-411&publication_year=2006&author=Lyytinen%2CK&author=King%2CJL'},\n   {'reference_text': 'Markus ML, Steinfield CW, Wigand RT, Minton G (2006) Industry-wide information systems standardization as collective action: the case of the US residential mortgage industry. MIS Q 30(1):439–465',\n    'google_scholar_link': 'http://scholar.google.com/scholar_lookup?&title=Industry-wide%20information%20systems%20standardization%20as%20collective%20action%3A%20the%20case%20of%20the%20US%20residential%20mortgage%20industry&journal=MIS%20Q&volume=30&issue=1&pages=439-465&publication_year=2006&author=Markus%2CML&author=Steinfield%2CCW&author=Wigand%2CRT&author=Minton%2CG'},\n   {'reference_text': 'Misuraca G, Alfano G, Viscusi G (2011) Interoperability challenges for ICT-enabled governance: towards a pan-European conceptual framework. J Theor Appl Electron Commer Res 6(1):95–111',\n    'google_scholar_link': 'http://scholar.google.com/scholar_lookup?&title=Interoperability%20challenges%20for%20ICT-enabled%20governance%3A%20towards%20a%20pan-European%20conceptual%20framework&journal=J%20Theor%20Appl%20Electron%20Commer%20Res&volume=6&issue=1&pages=95-111&publication_year=2011&author=Misuraca%2CG&author=Alfano%2CG&author=Viscusi%2CG'},\n   {'reference_text': 'Money AG, Lines L, Fernando S, Elliman AD (2011) E-government online forms: design guidelines for older adults in Europe. Univers Access Inf Soc 10(1):1–16',\n    'google_scholar_link': 'http://scholar.google.com/scholar_lookup?&title=e-government%20online%20forms%3A%20design%20guidelines%20for%20older%20adults%20in%20Europe&journal=Univers%20Access%20Inf%20Soc&volume=10&issue=1&pages=1-16&publication_year=2011&author=Money%2CAG&author=Lines%2CL&author=Fernando%2CS&author=Elliman%2CAD'},\n   {'reference_text': 'Morgan DL (1997) Focus groups as qualitative research, 2nd edn. SAGE Publications, Thousand Oaks',\n    'google_scholar_link': 'http://scholar.google.com/scholar_lookup?&title=Focus%20groups%20as%20qualitative%20research&publication_year=1997&author=Morgan%2CDL'},\n   {'reference_text': 'Morse JM (2015) Critical analysis of strategies for determining rigor in qualitative inquiry. Qual Health Res 25(9):1212–1222',\n    'google_scholar_link': 'http://scholar.google.com/scholar_lookup?&title=Critical%20analysis%20of%20strategies%20for%20determining%20rigor%20in%20qualitative%20inquiry&journal=Qual%20Health%20Res&volume=25&issue=9&pages=1212-1222&publication_year=2015&author=Morse%2CJM'},\n   {'reference_text': 'Narducci F, Comerio M, Batini C, Castelli M (2016) A similarity-based framework for service repository integration. Data Knowl Eng 106:18–35',\n    'google_scholar_link': 'http://scholar.google.com/scholar_lookup?&title=A%20similarity-based%20framework%20for%20service%20repository%20integration&journal=Data%20Knowl%20Eng&volume=106&pages=18-35&publication_year=2016&author=Narducci%2CF&author=Comerio%2CM&author=Batini%2CC&author=Castelli%2CM'},\n   {'reference_text': 'National Regulatory Control Council (2016) 10\\xa0Jahre NKR – Gute Bilanz bei Bürokratieabbau und Folgekostenbegrenzung – Alarmierender Rückstand bei E-Government. https://www.normenkontrollrat.bund.de/Webs/NKR/Content/DE/Publikationen/Jahresberichte/2016-09-21-nkr-jahresbericht-2016.pdf?__blob=publicationFile&v=2. Accessed 12 Aug 2017',\n    'google_scholar_link': None},\n   {'reference_text': 'Okhuysen GA, Bechky BA (2009) Coordination in organizations: an integrative perspective. Acad Manag Ann 3(1):463–502',\n    'google_scholar_link': 'http://scholar.google.com/scholar_lookup?&title=Coordination%20in%20organizations%3A%20an%20integrative%20perspective&journal=Acad%20Manag%20Ann&volume=3&issue=1&pages=463-502&publication_year=2009&author=Okhuysen%2CGA&author=Bechky%2CBA'},\n   {'reference_text': 'Orbeon (2019) Customers. https://www.orbeon.com/customers. Accessed 28 Feb 2019',\n    'google_scholar_link': None},\n   {'reference_text': 'Otjacques B, Hitzelberger P, Feltz F (2007) Interoperability of e-government information systems: issues of identification and data sharing. J Manag Inf Syst 23(4):29–51',\n    'google_scholar_link': 'http://scholar.google.com/scholar_lookup?&title=Interoperability%20of%20e-government%20information%20systems%3A%20issues%20of%20identification%20and%20data%20sharing&journal=J%20Manag%20Inf%20Syst&volume=23&issue=4&pages=29-51&publication_year=2007&author=Otjacques%2CB&author=Hitzelberger%2CP&author=Feltz%2CF'},\n   {'reference_text': 'Palmonari M, Viscusi G, Batini C (2008) A semantic repository approach to improve the government to business relationship. Data Knowl Eng 65(3):485–511',\n    'google_scholar_link': 'http://scholar.google.com/scholar_lookup?&title=A%20semantic%20repository%20approach%20to%20improve%20the%20government%20to%20business%20relationship&journal=Data%20Knowl%20Eng&volume=65&issue=3&pages=485-511&publication_year=2008&author=Palmonari%2CM&author=Viscusi%2CG&author=Batini%2CC'},\n   {'reference_text': 'Papadomichelaki X, Mentzas G (2012) e-GovQual: a multiple-item scale for assessing e-government service quality. Gov Inf Q 29(1):98–109',\n    'google_scholar_link': 'http://scholar.google.com/scholar_lookup?&title=e-GovQual%3A%20a%20multiple-item%20scale%20for%20assessing%20e-government%20service%20quality&journal=Gov%20Inf%20Q&volume=29&issue=1&pages=98-109&publication_year=2012&author=Papadomichelaki%2CX&author=Mentzas%2CG'},\n   {'reference_text': 'Peffers K, Tuunanen T, Rothenberger MA, Chatterjee S (2007) A design science research methodology for information systems research. J Manag Inf Syst 24(3):45–77',\n    'google_scholar_link': 'http://scholar.google.com/scholar_lookup?&title=A%20design%20science%20research%20methodology%20for%20information%20systems%20research&journal=J%20Manag%20Inf%20Syst&volume=24&issue=3&pages=45-77&publication_year=2007&author=Peffers%2CK&author=Tuunanen%2CT&author=Rothenberger%2CMA&author=Chatterjee%2CS'},\n   {'reference_text': 'Praditya D, Janssen M, Sulastri R (2017) Determinants of business-to-government information sharing arrangements. Electron J e-Gov 15(1):44–56',\n    'google_scholar_link': 'http://scholar.google.com/scholar_lookup?&title=Determinants%20of%20business-to-government%20information%20sharing%20arrangements&journal=Electron%20J%20e-Gov&volume=15&issue=1&pages=44-56&publication_year=2017&author=Praditya%2CD&author=Janssen%2CM&author=Sulastri%2CR'},\n   {'reference_text': 'Rainey HG, Ronquillo JC, Avellaneda CN (2010) Decision making in public organizations. In: Nutt PC, Wilson DC (eds) Handbook of decision making. Wiley-Blackwell, Oxford, pp 349–377',\n    'google_scholar_link': 'http://scholar.google.com/scholar_lookup?&title=Decision%20making%20in%20public%20organizations&pages=349-377&publication_year=2010&author=Rainey%2CHG&author=Ronquillo%2CJC&author=Avellaneda%2CCN'},\n   {'reference_text': 'Recker J, Rosemann M, van der Aalst WMP et al (2007) Configurable reference modeling languages. In: Fettke P, Loos P (eds) Reference modeling for business systems analysis. Idea Group Publishing, Hershey, pp 22–46',\n    'google_scholar_link': 'http://scholar.google.com/scholar_lookup?&title=Configurable%20reference%20modeling%20languages&pages=22-46&publication_year=2007&author=Recker%2CJ&author=Rosemann%2CM&author=Aalst%2CWMP'},\n   {'reference_text': 'Rehse J-R, Fettke P, Loos P (2017) A graph-theoretic method for the inductive development of reference process models. Softw Syst Model 16(3):833–873',\n    'google_scholar_link': 'http://scholar.google.com/scholar_lookup?&title=A%20graph-theoretic%20method%20for%20the%20inductive%20development%20of%20reference%20process%20models&journal=Softw%20Syst%20Model&volume=16&issue=3&pages=833-873&publication_year=2017&author=Rehse%2CJ-R&author=Fettke%2CP&author=Loos%2CP'},\n   {'reference_text': 'Rosemann M (2003) Application reference models and building blocks for management and control. In: Bernus P, Nemes L, Schmidt G (eds) Handbook on enterprise architecture. Springer, Berlin, pp 595–615',\n    'google_scholar_link': 'http://scholar.google.com/scholar_lookup?&title=Application%20reference%20models%20and%20building%20blocks%20for%20management%20and%20control&pages=595-615&publication_year=2003&author=Rosemann%2CM'},\n   {'reference_text': 'Rosemann M, Green P (2002) Developing a meta model for the Bunge–Wand–Weber ontological constructs. Inf Syst 27(2):75–91',\n    'google_scholar_link': 'http://scholar.google.com/scholar_lookup?&title=Developing%20a%20meta%20model%20for%20the%20Bunge%E2%80%93Wand%E2%80%93Weber%20ontological%20constructs&journal=Inf%20Syst&volume=27&issue=2&pages=75-91&publication_year=2002&author=Rosemann%2CM&author=Green%2CP'},\n   {'reference_text': 'Rosemann M, van der Aalst WMP (2007) A configurable reference modelling language. Inf Syst 32(1):1–23',\n    'google_scholar_link': 'http://scholar.google.com/scholar_lookup?&title=A%20configurable%20reference%20modelling%20language&journal=Inf%20Syst&volume=32&issue=1&pages=1-23&publication_year=2007&author=Rosemann%2CM&author=Aalst%2CWMP'},\n   {'reference_text': 'Rosemann M, zur Muehlen M (1998) Evaluation of workflow management systems - a meta model approach. Australas J Inf Syst 6(1):103–116',\n    'google_scholar_link': 'http://scholar.google.com/scholar_lookup?&title=Evaluation%20of%20workflow%20management%20systems%20-%20a%20meta%20model%20approach&journal=Australas%20J%20Inf%20Syst&volume=6&issue=1&pages=103-116&publication_year=1998&author=Rosemann%2CM&author=zur%20Muehlen%2CM'},\n   {'reference_text': 'Rubel B (2017) Asylantrag: Chatbot führt Flüchtlinge durch die Formulare. https://www.mobilegeeks.de/news/chatbot-fluechtlinge-asylantrag-anwalt/. Accessed 29 Jul 2017',\n    'google_scholar_link': None},\n   {'reference_text': 'Sá F, Rocha Á, Pérez Cota M (2016) From the quality of traditional services to the quality of local e-government online services: a literature review. Gov Inf Q 33(1):149–160',\n    'google_scholar_link': 'http://scholar.google.com/scholar_lookup?&title=From%20the%20quality%20of%20traditional%20services%20to%20the%20quality%20of%20local%20e-government%20online%20services%3A%20a%20literature%20review&journal=Gov%20Inf%20Q&volume=33&issue=1&pages=149-160&publication_year=2016&author=S%C3%A1%2CF&author=Rocha%2C%C3%81&author=P%C3%A9rez%20Cota%2CM'},\n   {'reference_text': 'Saxon State Ministry of the Interior (2018) Waffenbesitzkarte beantragen. https://amt24.sachsen.de/web/guest/leistung/-/sbw/Waffenbesitzkarte+beantragen-6000839-leistung-0. Accessed 29 Mar 2018',\n    'google_scholar_link': None},\n   {'reference_text': 'Scharpf FW (1988) The joint-decision trap: lessons from German federalism and european integration. Public Adm 66(3):239–278',\n    'google_scholar_link': 'http://scholar.google.com/scholar_lookup?&title=The%20joint-decision%20trap%3A%20lessons%20from%20German%20federalism%20and%20european%20integration&journal=Public%20Adm&volume=66&issue=3&pages=239-278&publication_year=1988&author=Scharpf%2CFW'},\n   {'reference_text': 'Scheer A-W, Thomas O, Adam O (2005) Process modeling using event-driven process chains. In: Dumas M, van der Aalst WMP, ter Hofstede AHM (eds) Process-aware information systems: bridging people and software through process technology. Wiley, Hoboken, pp 119–145',\n    'google_scholar_link': 'http://scholar.google.com/scholar_lookup?&title=Process%20modeling%20using%20event-driven%20process%20chains&pages=119-145&publication_year=2005&author=Scheer%2CA-W&author=Thomas%2CO&author=Adam%2CO'},\n   {'reference_text': 'Scholl HJ, Klischewski R (2007) E-government integration and interoperability: framing the research agenda. Int J Public Adm 30(8–9):889–920',\n    'google_scholar_link': 'http://scholar.google.com/scholar_lookup?&title=E-government%20integration%20and%20interoperability%3A%20framing%20the%20research%20agenda&journal=Int%20J%20Public%20Adm&volume=30&issue=8%E2%80%939&pages=889-920&publication_year=2007&author=Scholl%2CHJ&author=Klischewski%2CR'},\n   {'reference_text': 'Scholl HJ, Kubicek H, Cimander R, Klischewski R (2012) Process integration, information sharing, and system interoperation in government: a comparative case analysis. Gov Inf Q 29(3):313–323',\n    'google_scholar_link': 'http://scholar.google.com/scholar_lookup?&title=Process%20integration%2C%20information%20sharing%2C%20and%20system%20interoperation%20in%20government%3A%20a%20comparative%20case%20analysis&journal=Gov%20Inf%20Q&volume=29&issue=3&pages=313-323&publication_year=2012&author=Scholl%2CHJ&author=Kubicek%2CH&author=Cimander%2CR&author=Klischewski%2CR'},\n   {'reference_text': 'Scholta H (2016) Semi-automatic inductive derivation of reference process models that represent best practices in public administrations. In: Proceedings of the 24th European conference on information systems (ECIS 2016), İstanbul',\n    'google_scholar_link': None},\n   {'reference_text': 'Scholta H (2017) The same but still different: forms in e-government. In: Proceedings of the 50th Hawaii international conference on system sciences (HICSS 2017), Waikoloa Village, pp 2559–2568',\n    'google_scholar_link': None},\n   {'reference_text': 'Scholta H, Mertens W, Kowalkiewicz M, Becker J (2019a) From one-stop shop to no-stop shop: an e-government stage model. Gov Inf Q 36(1):11–26',\n    'google_scholar_link': 'http://scholar.google.com/scholar_lookup?&title=From%20one-stop%20shop%20to%20no-stop%20shop%3A%20an%20e-government%20stage%20model&journal=Gov%20Inf%20Q&volume=36&issue=1&pages=11-26&publication_year=2019&author=Scholta%2CH&author=Mertens%2CW&author=Kowalkiewicz%2CM&author=Becker%2CJ'},\n   {'reference_text': 'Scholta H, Niemann M, Delfmann P et al (2019b) Semi-automatic inductive construction of reference process models that represent best practices in public administrations: a method. Inf Syst 84:63–87',\n    'google_scholar_link': 'http://scholar.google.com/scholar_lookup?&title=Semi-automatic%20inductive%20construction%20of%20reference%20process%20models%20that%20represent%20best%20practices%20in%20public%20administrations%3A%20a%20method&journal=Inf%20Syst&volume=84&pages=63-87&publication_year=2019&author=Scholta%2CH&author=Niemann%2CM&author=Delfmann%2CP'},\n   {'reference_text': 'Schütte R (1998) Grundsätze ordnungsmäßiger Referenzmodellierung: Konstruktion konfigurations- und anpassungsorientierter Modelle. Gabler Verlag, Wiesbaden',\n    'google_scholar_link': 'http://scholar.google.com/scholar_lookup?&title=Grunds%C3%A4tze%20ordnungsm%C3%A4%C3%9Figer%20referenzmodellierung%3A%20konstruktion%20konfigurations-%20und%20anpassungsorientierter%20modelle&publication_year=1998&author=Sch%C3%BCtte%2CR'},\n   {'reference_text': 'Schütte R, Becker J (1998) Subjektivitätsmanagement bei Informationsmodellen. In: Pohl K, Schürr A, Vossen G (eds) Proceedings of the modellierung, Münster, pp 81–86',\n    'google_scholar_link': None},\n   {'reference_text': 'Soares D, Amaral L (2011) Information systems interoperability in public administration: identifying the major acting forces through a Delphi study. J Theor Appl Electron Commer Res 6(1):61–94',\n    'google_scholar_link': 'http://scholar.google.com/scholar_lookup?&title=Information%20systems%20interoperability%20in%20public%20administration%3A%20identifying%20the%20major%20acting%20forces%20through%20a%20Delphi%20study&journal=J%20Theor%20Appl%20Electron%20Commer%20Res&volume=6&issue=1&pages=61-94&publication_year=2011&author=Soares%2CD&author=Amaral%2CL'},\n   {'reference_text': 'Song I-Y, Evans M, Park EK (1995) A comparative analysis of entity-relationship diagrams. J Comput Softw Eng 3(4):427–459',\n    'google_scholar_link': 'http://scholar.google.com/scholar_lookup?&title=A%20comparative%20analysis%20of%20entity-relationship%20diagrams&journal=J%20Comput%20Softw%20Eng&volume=3&issue=4&pages=427-459&publication_year=1995&author=Song%2CI-Y&author=Evans%2CM&author=Park%2CEK'},\n   {'reference_text': 'Sonntag A, Fettke P, Loos P (2017) Inductive reference modelling based on simulated social collaboration. In: Leimeister JM, Brenner W (eds) Proceedings of the 13th international conference on wirtschaftsinformatik (WI 2017), St. Gallen, pp 701–715',\n    'google_scholar_link': None},\n   {'reference_text': 'Sourouni A-M, Lampathaki F, Mouzakitis S et al (2008) Paving the way to eGovernment transformation: interoperability registry infrastructure development. In: Wimmer MA, Scholl HJ, Ferro E (eds) Proceedings of the 7th international conference on electronic government, Turin, pp 340–351',\n    'google_scholar_link': None},\n   {'reference_text': 'Spivak SM, Brenner FC (2001) Standardization essentials: principles and practice. Marcel Dekker, New York',\n    'google_scholar_link': 'http://scholar.google.com/scholar_lookup?&title=Standardization%20essentials%3A%20principles%20and%20practice&publication_year=2001&author=Spivak%2CSM&author=Brenner%2CFC'},\n   {'reference_text': 'Strahringer S (1996) Metamodellierung als Instrument des Methodenvergleichs: Eine Evaluierung am Beispiel objektorientierter Analysenmethoden. Shaker Verlag, Aachen',\n    'google_scholar_link': 'http://scholar.google.com/scholar_lookup?&title=Metamodellierung%20als%20instrument%20des%20methodenvergleichs%3A%20eine%20evaluierung%20am%20beispiel%20objektorientierter%20analysenmethoden&publication_year=1996&author=Strahringer%2CS'},\n   {'reference_text': 'Tambouris E, Loutas N, Peristeras V, Tarabanis KA (2009) The role of interoperability in eGovernment applications: an investigation of critical factors. J Digit Inf Manag 7(4):235–243',\n    'google_scholar_link': 'http://scholar.google.com/scholar_lookup?&title=The%20role%20of%20interoperability%20in%20eGovernment%20applications%3A%20an%20investigation%20of%20critical%20factors&journal=J%20Digit%20Inf%20Manag&volume=7&issue=4&pages=235-243&publication_year=2009&author=Tambouris%2CE&author=Loutas%2CN&author=Peristeras%2CV&author=Tarabanis%2CKA'},\n   {'reference_text': 'Tan C-W, Benbasat I, Cenfetelli RT (2013) IT-mediated customer service content and delivery in electronic governments: an empirical investigation of the antecedents of service quality. MIS Q 37(1):77–109',\n    'google_scholar_link': 'http://scholar.google.com/scholar_lookup?&title=IT-mediated%20customer%20service%20content%20and%20delivery%20in%20electronic%20governments%3A%20an%20empirical%20investigation%20of%20the%20antecedents%20of%20service%20quality&journal=MIS%20Q&volume=37&issue=1&pages=77-109&publication_year=2013&author=Tan%2CC-W&author=Benbasat%2CI&author=Cenfetelli%2CRT'},\n   {'reference_text': 'The Police President in Berlin (2018) Erlaubnisse und Formulare. https://www.berlin.de/polizei/service/waffenbehoerde/erlaubnisse-und-formulare. Accessed 29 Mar 2018',\n    'google_scholar_link': None},\n   {'reference_text': 'Thompson JD (2007) Organizations in action: social science bases of administrative theory, 5th edn. Transaction Publishers, New Brunswick',\n    'google_scholar_link': 'http://scholar.google.com/scholar_lookup?&title=Organizations%20in%20action%3A%20social%20science%20bases%20of%20administrative%20theory&publication_year=2007&author=Thompson%2CJD'},\n   {'reference_text': 'Tsichritzis D (1982) Form management. Commun ACM 25(7):453–478',\n    'google_scholar_link': 'http://scholar.google.com/scholar_lookup?&title=Form%20management&journal=Commun%20ACM&volume=25&issue=7&pages=453-478&publication_year=1982&author=Tsichritzis%2CD'},\n   {'reference_text': 'Van De Ven AH, Delbecq AL, Koenig R Jr (1976) Determinants of coordination modes within organizations. Am Soc Rev 41(2):322–338',\n    'google_scholar_link': 'http://scholar.google.com/scholar_lookup?&title=Determinants%20of%20coordination%20modes%20within%20organizations&journal=Am%20Soc%20Rev&volume=41&issue=2&pages=322-338&publication_year=1976&author=Ven%2CAH&author=Delbecq%2CAL&author=Koenig%2CR'},\n   {'reference_text': 'van der Aalst WMP, Dreiling A, Gottschalk F et al (2005a) Configurable process models as a basis for reference modeling. In: Bussler CJ, Haller A (eds) Proceedings of the BPM 2005 international workshops, Nancy, pp 512–518',\n    'google_scholar_link': None},\n   {'reference_text': 'van der Aalst WMP, Weske M, Grünbauer D (2005b) Case handling: a new paradigm for business process support. Data Knowl Eng 53(2):129–162',\n    'google_scholar_link': 'http://scholar.google.com/scholar_lookup?&title=Case%20handling%3A%20a%20new%20paradigm%20for%20business%20process%20support&journal=Data%20Knowl%20Eng&volume=53&issue=2&pages=129-162&publication_year=2005&author=Aalst%2CWMP&author=Weske%2CM&author=Gr%C3%BCnbauer%2CD'},\n   {'reference_text': 'Veeramootoo N, Nunkoo R, Dwivedi YK (2018) What determines success of an e-government service? Validation of an integrative model of e-filing continuance usage. Gov Inf Q 35(2):161–174',\n    'google_scholar_link': 'http://scholar.google.com/scholar_lookup?&title=What%20determines%20success%20of%20an%20e-government%20service%3F%20Validation%20of%20an%20integrative%20model%20of%20e-filing%20continuance%20usage&journal=Gov%20Inf%20Q&volume=35&issue=2&pages=161-174&publication_year=2018&author=Veeramootoo%2CN&author=Nunkoo%2CR&author=Dwivedi%2CYK'},\n   {'reference_text': 'vom Brocke J (2003) Referenzmodellierung: Gestaltung und Verteilung von Konstruktionsprozessen. Logos Verlag, Berlin',\n    'google_scholar_link': 'http://scholar.google.com/scholar_lookup?&title=Referenzmodellierung%3A%20gestaltung%20und%20verteilung%20von%20konstruktionsprozessen&publication_year=2003&author=Brocke%2CJ'},\n   {'reference_text': 'vom Brocke J (2007) Design principles for reference modeling: reusing information models by means of aggregation, specialisation, instantiation, and analogy. In: Fettke P, Loos P (eds) Reference modeling for business systems analysis. Idea Group Publishing, Hershey, pp 47–75',\n    'google_scholar_link': 'http://scholar.google.com/scholar_lookup?&title=Design%20principles%20for%20reference%20modeling%3A%20reusing%20information%20models%20by%20means%20of%20aggregation%2C%20specialisation%2C%20instantiation%2C%20and%20analogy&pages=47-75&publication_year=2007&author=Brocke%2CJ'},\n   {'reference_text': 'Wang F (2018) Understanding the dynamic mechanism of interagency government data sharing. Gov Inf Q 35(4):536–546',\n    'google_scholar_link': 'http://scholar.google.com/scholar_lookup?&title=Understanding%20the%20dynamic%20mechanism%20of%20interagency%20government%20data%20sharing&journal=Gov%20Inf%20Q&volume=35&issue=4&pages=536-546&publication_year=2018&author=Wang%2CF'},\n   {'reference_text': 'Watts RL (1998) Federalism, federal political systems, and federations. Annu Rev Polit Sci 1:117–137',\n    'google_scholar_link': 'http://scholar.google.com/scholar_lookup?&title=Federalism%2C%20federal%20political%20systems%2C%20and%20federations&journal=Annu%20Rev%20Polit%20Sci&volume=1&pages=117-137&publication_year=1998&author=Watts%2CRL'},\n   {'reference_text': 'Wheare KC (1946) Federal government. Oxford University Press, London',\n    'google_scholar_link': 'http://scholar.google.com/scholar_lookup?&title=Federal%20government&publication_year=1946&author=Wheare%2CKC'},\n   {'reference_text': 'Williams CK, Karahanna E (2013) Causal explanation in the coordinating process: a critical realist case study of federated IT governance structures. MIS Q 37(3):933–964',\n    'google_scholar_link': 'http://scholar.google.com/scholar_lookup?&title=Causal%20explanation%20in%20the%20coordinating%20process%3A%20a%20critical%20realist%20case%20study%20of%20federated%20IT%20governance%20structures&journal=MIS%20Q&volume=37&issue=3&pages=933-964&publication_year=2013&author=Williams%2CCK&author=Karahanna%2CE'},\n   {'reference_text': 'Wroblewski L (2008) Web form design: filling in the blanks. Rosenfeld Media, Brooklyn',\n    'google_scholar_link': 'http://scholar.google.com/scholar_lookup?&title=Web%20form%20design%3A%20filling%20in%20the%20blanks&publication_year=2008&author=Wroblewski%2CL'},\n   {'reference_text': 'Yang T-M, Maxwell TA (2011) Information-sharing in public organizations: a literature review of interpersonal, intra-organizational and inter-organizational success factors. Gov Inf Q 28(2):164–175',\n    'google_scholar_link': 'http://scholar.google.com/scholar_lookup?&title=Information-sharing%20in%20public%20organizations%3A%20a%20literature%20review%20of%20interpersonal%2C%20intra-organizational%20and%20inter-organizational%20success%20factors&journal=Gov%20Inf%20Q&volume=28&issue=2&pages=164-175&publication_year=2011&author=Yang%2CT-M&author=Maxwell%2CTA'},\n   {'reference_text': 'Yao SB, Hevner AR, Shi Z, Luo D (1984) FORMANAGER: an office forms management system. ACM Trans Inf Syst 2(3):235–262',\n    'google_scholar_link': 'http://scholar.google.com/scholar_lookup?&title=FORMANAGER%3A%20an%20office%20forms%20management%20system&journal=ACM%20Trans%20Inf%20Syst&volume=2&issue=3&pages=235-262&publication_year=1984&author=Yao%2CSB&author=Hevner%2CAR&author=Shi%2CZ&author=Luo%2CD'},\n   {'reference_text': 'Zwicker J, Fettke P, Loos P (2010) Business process maturity in public administrations. In: vom Brocke J, Rosemann M (eds) Handbook on business process management 2: Strategic alignment, governance, people and culture. Springer, Heidelberg, pp 369–396',\n    'google_scholar_link': 'http://scholar.google.com/scholar_lookup?&title=Business%20process%20maturity%20in%20public%20administrations&pages=369-396&publication_year=2010&author=Zwicker%2CJ&author=Fettke%2CP&author=Loos%2CP'}],\n  'journal_name': 'Business & Information Systems Engineering',\n  'journal_volume': '62',\n  'article_accesses': '651',\n  'amount_citations': '4'}]"
     },
     "execution_count": 9,
     "metadata": {},
     "output_type": "execute_result"
    }
   ],
   "source": [
    "[x for x in scraping_results_imported_cleaned if\n",
    " x.get('url') == urllib.parse.unquote('https://link.springer.com/article/10.1007%2Fs12599-019-00623-1')]"
   ],
   "metadata": {
    "collapsed": false,
    "pycharm": {
     "name": "#%%\n"
    }
   }
  },
  {
   "cell_type": "markdown",
   "source": [
    "With the scraper we can fill missing keywords, imagine we would want to find some keywords"
   ],
   "metadata": {
    "collapsed": false,
    "pycharm": {
     "name": "#%% md\n"
    }
   }
  },
  {
   "cell_type": "code",
   "execution_count": 10,
   "outputs": [
    {
     "name": "stdout",
     "output_type": "stream",
     "text": [
      "\u001B[6;30;42m[DEBUG - ResearchScraper] - Found scraper for https://link.springer.com/article/10.1007%2Fs12599-019-00623-1 -> ScraperSpringer\u001B[0m\n",
      "\u001B[6;30;32m Scraped keys: ['url', 'keywords']\u001B[0m\n"
     ]
    },
    {
     "data": {
      "text/plain": "['Reference modeling',\n 'Forms',\n 'Standardization',\n 'E-government',\n 'Digital government',\n 'Public administration',\n 'Meta-modeling',\n 'Graphical user interface']"
     },
     "execution_count": 10,
     "metadata": {},
     "output_type": "execute_result"
    }
   ],
   "source": [
    "scraper = ResearchScraper()\n",
    "link = 'https://link.springer.com/article/10.1007%2Fs12599-019-00623-1'\n",
    "result = scraper.scrape_publication_by_url(link, params=['keywords']).get('keywords')\n",
    "result"
   ],
   "metadata": {
    "collapsed": false,
    "pycharm": {
     "name": "#%%\n"
    }
   }
  },
  {
   "cell_type": "markdown",
   "source": [
    "## Cris data exploration\n",
    "### Find pdf links directly from cris"
   ],
   "metadata": {
    "collapsed": false,
    "pycharm": {
     "name": "#%% md\n"
    }
   }
  },
  {
   "cell_type": "code",
   "execution_count": 12,
   "outputs": [
    {
     "name": "stdout",
     "output_type": "stream",
     "text": [
      "There are 543 publications with a pdf url\n"
     ]
    }
   ],
   "source": [
    "df_publications = utils.load_publications_from_csv()\n",
    "# filter url not nan\n",
    "df_publications_with_url = df_publications[df_publications['url'].notna()]\n",
    "# df_publications_with_url['url'] must end with .pdf\n",
    "df_publications_with_url = df_publications_with_url[df_publications_with_url['url'].str.endswith('.pdf')]\n",
    "# get id and url col (so we can join later)\n",
    "df_publications_with_url = df_publications_with_url[['id', 'url']]\n",
    "# convert to list of dicts\n",
    "#dict_publications_with_url = df_publications_with_url.to_dict('records')\n",
    "print(f'There are {len(df_publications_with_url)} publications with a pdf url')\n"
   ],
   "metadata": {
    "collapsed": false,
    "pycharm": {
     "name": "#%%\n"
    }
   }
  },
  {
   "cell_type": "code",
   "execution_count": 14,
   "outputs": [
    {
     "name": "stdout",
     "output_type": "stream",
     "text": [
      "http://subs.emis.de/LNI/Proceedings/Proceedings152/gi-proc-152-002.pdf\n",
      "\u001B[1;30;42mPDF downloaded\u001B[0m : document_2867.pdf to exports/pdf_downloads/0_cris_downloads\n"
     ]
    }
   ],
   "source": [
    "# small test\n",
    "test_row = df_publications_with_url.iloc[7]\n",
    "filename = f'document_{test_row[\"id\"]}'\n",
    "pdf_url = test_row['url']\n",
    "print(pdf_url)\n",
    "folder = 'exports/pdf_downloads/0_cris_downloads'\n",
    "utils.download_pdf(url=pdf_url, filename=filename, write_folder_path=folder)\n"
   ],
   "metadata": {
    "collapsed": false,
    "pycharm": {
     "name": "#%%\n"
    }
   }
  },
  {
   "cell_type": "markdown",
   "source": [
    "## Download all the pdf from cris\n",
    "Use the download util pdf method to download pdfs from cris"
   ],
   "metadata": {
    "collapsed": false,
    "pycharm": {
     "name": "#%% md\n"
    }
   }
  },
  {
   "cell_type": "code",
   "execution_count": 8,
   "outputs": [
    {
     "name": "stdout",
     "output_type": "stream",
     "text": [
      "Downloading 1 of 543 publications\n",
      "[utils.py: download_pdf] Connection Error - could not download: error type: <class 'requests.exceptions.ConnectionError'> -> HTTPConnectionPool(host='udoo.uni-muenster.de', port=80): Max retries exceeded with url: /downloads/publications/2011.pdf (Caused by NewConnectionError('<urllib3.connection.HTTPConnection object at 0x7fbe29de79d0>: Failed to establish a new connection: [Errno 8] nodename nor servname provided, or not known'))\n",
      "Downloading 2 of 543 publications\n",
      "[utils.py: download_pdf] Connection Error - could not download: error type: <class 'requests.exceptions.ConnectTimeout'> -> HTTPConnectionPool(host='web.up.ac.za', port=80): Max retries exceeded with url: /ecis/ECIS2010PR/ECIS2010/Content/Papers/0451.R1.pdf (Caused by ConnectTimeoutError(<urllib3.connection.HTTPConnection object at 0x7fbe39bd3fd0>, 'Connection to web.up.ac.za timed out. (connect timeout=10)'))\n",
      "Downloading 3 of 543 publications\n",
      "[utils.py: download_pdf] Connection Error - could not download: error type: <class 'requests.exceptions.ConnectionError'> -> HTTPConnectionPool(host='udoo.uni-muenster.de', port=80): Max retries exceeded with url: /downloads/publications/2075.pdf (Caused by NewConnectionError('<urllib3.connection.HTTPConnection object at 0x7fbe39bdf190>: Failed to establish a new connection: [Errno 8] nodename nor servname provided, or not known'))\n",
      "Downloading 4 of 543 publications\n",
      "[utils.py: download_pdf] Connection Error - could not download: error type: <class 'requests.exceptions.ConnectionError'> -> HTTPConnectionPool(host='udoo.uni-muenster.de', port=80): Max retries exceeded with url: /downloads/publications/2403.pdf (Caused by NewConnectionError('<urllib3.connection.HTTPConnection object at 0x7fbe39bdf160>: Failed to establish a new connection: [Errno 8] nodename nor servname provided, or not known'))\n",
      "Downloading 5 of 543 publications\n",
      "[utils.py: download_pdf] Connection Error - could not download: error type: <class 'requests.exceptions.ConnectionError'> -> HTTPConnectionPool(host='udoo.uni-muenster.de', port=80): Max retries exceeded with url: /downloads/publications/2364.pdf (Caused by NewConnectionError('<urllib3.connection.HTTPConnection object at 0x7fbe39bdf2b0>: Failed to establish a new connection: [Errno 8] nodename nor servname provided, or not known'))\n",
      "Downloading 6 of 543 publications\n",
      "[utils.py: download_pdf] Connection Error - could not download: error type: <class 'requests.exceptions.ConnectTimeout'> -> HTTPConnectionPool(host='is2.lse.ac.uk', port=80): Max retries exceeded with url: /asp/aspecis/20090185.pdf (Caused by ConnectTimeoutError(<urllib3.connection.HTTPConnection object at 0x7fbe39bdf310>, 'Connection to is2.lse.ac.uk timed out. (connect timeout=10)'))\n",
      "Downloading 7 of 543 publications\n",
      "\u001B[1;30;42mPDF downloaded\u001B[0m : document_2865.pdf to exports/pdf_downloads/0_cris_downloads\n",
      "Downloading 8 of 543 publications\n",
      "\u001B[1;30;42mPDF downloaded\u001B[0m : document_2867.pdf to exports/pdf_downloads/0_cris_downloads\n",
      "Downloading 9 of 543 publications\n",
      "[utils.py: download_pdf] Connection Error - could not download: error type: <class 'requests.exceptions.ConnectionError'> -> HTTPConnectionPool(host='udoo.uni-muenster.de', port=80): Max retries exceeded with url: /downloads/publications/2072.pdf (Caused by NewConnectionError('<urllib3.connection.HTTPConnection object at 0x7fbe39bdf8b0>: Failed to establish a new connection: [Errno 8] nodename nor servname provided, or not known'))\n",
      "Downloading 10 of 543 publications\n",
      "\u001B[1;30;42mPDF downloaded\u001B[0m : document_2874.pdf to exports/pdf_downloads/0_cris_downloads\n",
      "Downloading 11 of 543 publications\n",
      "[utils.py: download_pdf] Connection Error - could not download: error type: <class 'requests.exceptions.ConnectionError'> -> HTTPConnectionPool(host='udoo.uni-muenster.de', port=80): Max retries exceeded with url: /downloads/publications/1659.pdf (Caused by NewConnectionError('<urllib3.connection.HTTPConnection object at 0x7fbe39bdf790>: Failed to establish a new connection: [Errno 8] nodename nor servname provided, or not known'))\n",
      "Downloading 12 of 543 publications\n",
      "[utils.py: download_pdf] Connection Error - could not download: error type: <class 'requests.exceptions.ConnectionError'> -> HTTPConnectionPool(host='udoo.uni-muenster.de', port=80): Max retries exceeded with url: /downloads/publications/1683.pdf (Caused by NewConnectionError('<urllib3.connection.HTTPConnection object at 0x7fbe39bdf880>: Failed to establish a new connection: [Errno 8] nodename nor servname provided, or not known'))\n",
      "Downloading 13 of 543 publications\n",
      "[utils.py: download_PDF] PDF Download failed: 404\n",
      "Downloading 14 of 543 publications\n",
      "[utils.py: download_pdf] Connection Error - could not download: error type: <class 'requests.exceptions.ConnectionError'> -> HTTPConnectionPool(host='udoo.uni-muenster.de', port=80): Max retries exceeded with url: /downloads/publications/2170.pdf (Caused by NewConnectionError('<urllib3.connection.HTTPConnection object at 0x7fbe3980d880>: Failed to establish a new connection: [Errno 8] nodename nor servname provided, or not known'))\n",
      "Downloading 15 of 543 publications\n",
      "[utils.py: download_pdf] Connection Error - could not download: error type: <class 'requests.exceptions.ConnectionError'> -> HTTPConnectionPool(host='udoo.uni-muenster.de', port=80): Max retries exceeded with url: /downloads/publications/2373.pdf (Caused by NewConnectionError('<urllib3.connection.HTTPConnection object at 0x7fbe3980da90>: Failed to establish a new connection: [Errno 8] nodename nor servname provided, or not known'))\n",
      "Downloading 16 of 543 publications\n",
      "\u001B[1;30;42mPDF downloaded\u001B[0m : document_2942.pdf to exports/pdf_downloads/0_cris_downloads\n",
      "Downloading 17 of 543 publications\n",
      "\u001B[1;30;42mPDF downloaded\u001B[0m : document_2945.pdf to exports/pdf_downloads/0_cris_downloads\n",
      "Downloading 18 of 543 publications\n",
      "[utils.py: download_pdf] Connection Error - could not download: error type: <class 'requests.exceptions.ConnectionError'> -> HTTPConnectionPool(host='udoo.uni-muenster.de', port=80): Max retries exceeded with url: /downloads/publications/2105.pdf (Caused by NewConnectionError('<urllib3.connection.HTTPConnection object at 0x7fbe3980d610>: Failed to establish a new connection: [Errno 8] nodename nor servname provided, or not known'))\n",
      "Downloading 19 of 543 publications\n",
      "[utils.py: download_pdf] Connection Error - could not download: error type: <class 'requests.exceptions.ConnectionError'> -> HTTPConnectionPool(host='udoo.uni-muenster.de', port=80): Max retries exceeded with url: /downloads/publications/2104.pdf (Caused by NewConnectionError('<urllib3.connection.HTTPConnection object at 0x7fbe3980dac0>: Failed to establish a new connection: [Errno 8] nodename nor servname provided, or not known'))\n",
      "Downloading 20 of 543 publications\n",
      "[utils.py: download_pdf] Connection Error - could not download: error type: <class 'requests.exceptions.ConnectionError'> -> HTTPConnectionPool(host='udoo.uni-muenster.de', port=80): Max retries exceeded with url: /downloads/publications/2103.pdf (Caused by NewConnectionError('<urllib3.connection.HTTPConnection object at 0x7fbe3980d160>: Failed to establish a new connection: [Errno 8] nodename nor servname provided, or not known'))\n",
      "Downloading 21 of 543 publications\n",
      "\u001B[1;30;42mPDF downloaded\u001B[0m : document_2964.pdf to exports/pdf_downloads/0_cris_downloads\n",
      "Downloading 22 of 543 publications\n",
      "[utils.py: download_pdf] Connection Error - could not download: error type: <class 'requests.exceptions.ConnectionError'> -> HTTPConnectionPool(host='udoo.uni-muenster.de', port=80): Max retries exceeded with url: /downloads/publications/1967.pdf (Caused by NewConnectionError('<urllib3.connection.HTTPConnection object at 0x7fbe3980d9d0>: Failed to establish a new connection: [Errno 8] nodename nor servname provided, or not known'))\n",
      "Downloading 23 of 543 publications\n",
      "[utils.py: download_pdf] Connection Error - could not download: error type: <class 'requests.exceptions.ConnectionError'> -> HTTPConnectionPool(host='udoo.uni-muenster.de', port=80): Max retries exceeded with url: /downloads/publications/2313.pdf (Caused by NewConnectionError('<urllib3.connection.HTTPConnection object at 0x7fbe3980d970>: Failed to establish a new connection: [Errno 8] nodename nor servname provided, or not known'))\n",
      "Downloading 24 of 543 publications\n",
      "[utils.py: download_pdf] Connection Error - could not download: error type: <class 'requests.exceptions.ConnectionError'> -> HTTPConnectionPool(host='udoo.uni-muenster.de', port=80): Max retries exceeded with url: /downloads/publications/2109.pdf (Caused by NewConnectionError('<urllib3.connection.HTTPConnection object at 0x7fbe3980de80>: Failed to establish a new connection: [Errno 8] nodename nor servname provided, or not known'))\n",
      "Downloading 25 of 543 publications\n",
      "[utils.py: download_pdf] Connection Error - could not download: error type: <class 'requests.exceptions.ConnectionError'> -> HTTPConnectionPool(host='udoo.uni-muenster.de', port=80): Max retries exceeded with url: /downloads/publications/2053.pdf (Caused by NewConnectionError('<urllib3.connection.HTTPConnection object at 0x7fbe3980dac0>: Failed to establish a new connection: [Errno 8] nodename nor servname provided, or not known'))\n",
      "Downloading 26 of 543 publications\n",
      "[utils.py: download_pdf] Connection Error - could not download: error type: <class 'requests.exceptions.ConnectionError'> -> HTTPConnectionPool(host='udoo.uni-muenster.de', port=80): Max retries exceeded with url: /downloads/publications/2070.pdf (Caused by NewConnectionError('<urllib3.connection.HTTPConnection object at 0x7fbe3980d3d0>: Failed to establish a new connection: [Errno 8] nodename nor servname provided, or not known'))\n",
      "Downloading 27 of 543 publications\n",
      "[utils.py: download_pdf] Connection Error - could not download: error type: <class 'requests.exceptions.ConnectionError'> -> HTTPConnectionPool(host='udoo.uni-muenster.de', port=80): Max retries exceeded with url: /downloads/publications/1988.pdf (Caused by NewConnectionError('<urllib3.connection.HTTPConnection object at 0x7fbe3980de20>: Failed to establish a new connection: [Errno 8] nodename nor servname provided, or not known'))\n",
      "Downloading 28 of 543 publications\n",
      "[utils.py: download_PDF] PDF Download failed: 404\n",
      "Downloading 29 of 543 publications\n",
      "[utils.py: download_pdf] Connection Error - could not download: error type: <class 'requests.exceptions.ConnectTimeout'> -> HTTPConnectionPool(host='is2.lse.ac.uk', port=80): Max retries exceeded with url: /asp/aspecis/20080208.pdf (Caused by ConnectTimeoutError(<urllib3.connection.HTTPConnection object at 0x7fbe398909d0>, 'Connection to is2.lse.ac.uk timed out. (connect timeout=10)'))\n",
      "Downloading 30 of 543 publications\n",
      "[utils.py: download_pdf] Connection Error - could not download: error type: <class 'requests.exceptions.ConnectTimeout'> -> HTTPConnectionPool(host='web.up.ac.za', port=80): Max retries exceeded with url: /ecis/ECIS2010PR/ECIS2010/Content/Papers/0320.pdf (Caused by ConnectTimeoutError(<urllib3.connection.HTTPConnection object at 0x7fbe3980dd00>, 'Connection to web.up.ac.za timed out. (connect timeout=10)'))\n",
      "Downloading 31 of 543 publications\n",
      "\u001B[1;30;42mPDF downloaded\u001B[0m : document_3135.pdf to exports/pdf_downloads/0_cris_downloads\n",
      "Downloading 32 of 543 publications\n",
      "[utils.py: download_pdf] Connection Error - could not download: error type: <class 'requests.exceptions.ConnectionError'> -> HTTPConnectionPool(host='udoo.uni-muenster.de', port=80): Max retries exceeded with url: /downloads/publications/2361.pdf (Caused by NewConnectionError('<urllib3.connection.HTTPConnection object at 0x7fbe3980dbb0>: Failed to establish a new connection: [Errno 8] nodename nor servname provided, or not known'))\n",
      "Downloading 33 of 543 publications\n",
      "\u001B[1;30;42mPDF downloaded\u001B[0m : document_3187.pdf to exports/pdf_downloads/0_cris_downloads\n",
      "Downloading 34 of 543 publications\n",
      "[utils.py: download_pdf] Connection Error - could not download: error type: <class 'requests.exceptions.ConnectionError'> -> HTTPConnectionPool(host='udoo.uni-muenster.de', port=80): Max retries exceeded with url: /downloads/publications/2071.pdf (Caused by NewConnectionError('<urllib3.connection.HTTPConnection object at 0x7fbe39bdf550>: Failed to establish a new connection: [Errno 8] nodename nor servname provided, or not known'))\n",
      "Downloading 35 of 543 publications\n",
      "[utils.py: download_pdf] Connection Error - could not download: error type: <class 'requests.exceptions.ConnectionError'> -> HTTPConnectionPool(host='udoo.uni-muenster.de', port=80): Max retries exceeded with url: /downloads/publications/2025.pdf (Caused by NewConnectionError('<urllib3.connection.HTTPConnection object at 0x7fbe39bdf850>: Failed to establish a new connection: [Errno 8] nodename nor servname provided, or not known'))\n",
      "Downloading 36 of 543 publications\n",
      "[utils.py: download_pdf] Connection Error - could not download: error type: <class 'requests.exceptions.ConnectionError'> -> HTTPConnectionPool(host='udoo.uni-muenster.de', port=80): Max retries exceeded with url: /downloads/publications/1984.pdf (Caused by NewConnectionError('<urllib3.connection.HTTPConnection object at 0x7fbe39bdf8b0>: Failed to establish a new connection: [Errno 8] nodename nor servname provided, or not known'))\n",
      "Downloading 37 of 543 publications\n",
      "\u001B[1;30;42mPDF downloaded\u001B[0m : document_3268.pdf to exports/pdf_downloads/0_cris_downloads\n",
      "Downloading 38 of 543 publications\n",
      "\u001B[1;30;42mPDF downloaded\u001B[0m : document_3269.pdf to exports/pdf_downloads/0_cris_downloads\n",
      "Downloading 39 of 543 publications\n",
      "\u001B[1;30;42mPDF downloaded\u001B[0m : document_3270.pdf to exports/pdf_downloads/0_cris_downloads\n",
      "Downloading 40 of 543 publications\n",
      "\u001B[1;30;42mPDF downloaded\u001B[0m : document_3281.pdf to exports/pdf_downloads/0_cris_downloads\n",
      "Downloading 41 of 543 publications\n",
      "[utils.py: download_PDF] PDF Download failed: 404\n",
      "Downloading 42 of 543 publications\n",
      "[utils.py: download_PDF] PDF Download failed: 404\n",
      "Downloading 43 of 543 publications\n",
      "[utils.py: download_pdf] Connection Error - could not download: error type: <class 'requests.exceptions.ConnectionError'> -> HTTPConnectionPool(host='udoo.uni-muenster.de', port=80): Max retries exceeded with url: /downloads/publications/1539.pdf (Caused by NewConnectionError('<urllib3.connection.HTTPConnection object at 0x7fbe39bdf670>: Failed to establish a new connection: [Errno 8] nodename nor servname provided, or not known'))\n",
      "Downloading 44 of 543 publications\n",
      "\u001B[1;30;42mPDF downloaded\u001B[0m : document_3729.pdf to exports/pdf_downloads/0_cris_downloads\n",
      "Downloading 45 of 543 publications\n",
      "\u001B[1;30;42mPDF downloaded\u001B[0m : document_3730.pdf to exports/pdf_downloads/0_cris_downloads\n",
      "Downloading 46 of 543 publications\n",
      "\u001B[1;30;42mPDF downloaded\u001B[0m : document_3731.pdf to exports/pdf_downloads/0_cris_downloads\n",
      "Downloading 47 of 543 publications\n",
      "\u001B[1;30;42mPDF downloaded\u001B[0m : document_3735.pdf to exports/pdf_downloads/0_cris_downloads\n",
      "Downloading 48 of 543 publications\n",
      "\u001B[1;30;42mPDF downloaded\u001B[0m : document_3737.pdf to exports/pdf_downloads/0_cris_downloads\n",
      "Downloading 49 of 543 publications\n",
      "\u001B[1;30;42mPDF downloaded\u001B[0m : document_3738.pdf to exports/pdf_downloads/0_cris_downloads\n",
      "Downloading 50 of 543 publications\n",
      "\u001B[1;30;42mPDF downloaded\u001B[0m : document_3752.pdf to exports/pdf_downloads/0_cris_downloads\n",
      "Downloading 51 of 543 publications\n",
      "[utils.py: download_PDF] PDF Download failed: 404\n",
      "Downloading 52 of 543 publications\n",
      "\u001B[1;30;42mPDF downloaded\u001B[0m : document_3756.pdf to exports/pdf_downloads/0_cris_downloads\n",
      "Downloading 53 of 543 publications\n",
      "\u001B[1;30;42mPDF downloaded\u001B[0m : document_3757.pdf to exports/pdf_downloads/0_cris_downloads\n",
      "Downloading 54 of 543 publications\n",
      "\u001B[1;30;42mPDF downloaded\u001B[0m : document_3759.pdf to exports/pdf_downloads/0_cris_downloads\n",
      "Downloading 55 of 543 publications\n",
      "\u001B[1;30;42mPDF downloaded\u001B[0m : document_3760.pdf to exports/pdf_downloads/0_cris_downloads\n",
      "Downloading 56 of 543 publications\n",
      "[utils.py: download_PDF] PDF Download failed: 404\n",
      "Downloading 57 of 543 publications\n",
      "\u001B[1;30;42mPDF downloaded\u001B[0m : document_3778.pdf to exports/pdf_downloads/0_cris_downloads\n",
      "Downloading 58 of 543 publications\n",
      "\u001B[1;30;42mPDF downloaded\u001B[0m : document_3779.pdf to exports/pdf_downloads/0_cris_downloads\n",
      "Downloading 59 of 543 publications\n",
      "\u001B[1;30;42mPDF downloaded\u001B[0m : document_3795.pdf to exports/pdf_downloads/0_cris_downloads\n",
      "Downloading 60 of 543 publications\n",
      "\u001B[1;30;42mPDF downloaded\u001B[0m : document_3799.pdf to exports/pdf_downloads/0_cris_downloads\n",
      "Downloading 61 of 543 publications\n",
      "\u001B[1;30;42mPDF downloaded\u001B[0m : document_3800.pdf to exports/pdf_downloads/0_cris_downloads\n",
      "Downloading 62 of 543 publications\n",
      "\u001B[1;30;42mPDF downloaded\u001B[0m : document_3801.pdf to exports/pdf_downloads/0_cris_downloads\n",
      "Downloading 63 of 543 publications\n",
      "\u001B[1;30;42mPDF downloaded\u001B[0m : document_3804.pdf to exports/pdf_downloads/0_cris_downloads\n",
      "Downloading 64 of 543 publications\n",
      "[utils.py: download_pdf] Connection Error - could not download: error type: <class 'requests.exceptions.ConnectTimeout'> -> HTTPConnectionPool(host='web.up.ac.za', port=80): Max retries exceeded with url: /ecis/ECIS2010PR/ECIS2010/Content/Papers/0421.R1.pdf (Caused by ConnectTimeoutError(<urllib3.connection.HTTPConnection object at 0x7fbe39bdf070>, 'Connection to web.up.ac.za timed out. (connect timeout=10)'))\n",
      "Downloading 65 of 543 publications\n",
      "\u001B[1;30;42mPDF downloaded\u001B[0m : document_3999.pdf to exports/pdf_downloads/0_cris_downloads\n",
      "Downloading 66 of 543 publications\n",
      "\u001B[1;30;42mPDF downloaded\u001B[0m : document_4012.pdf to exports/pdf_downloads/0_cris_downloads\n",
      "Downloading 67 of 543 publications\n",
      "\u001B[1;30;42mPDF downloaded\u001B[0m : document_4017.pdf to exports/pdf_downloads/0_cris_downloads\n",
      "Downloading 68 of 543 publications\n",
      "\u001B[1;30;42mPDF downloaded\u001B[0m : document_4022.pdf to exports/pdf_downloads/0_cris_downloads\n",
      "Downloading 69 of 543 publications\n",
      "[utils.py: download_PDF] PDF Download failed: 410\n",
      "Downloading 70 of 543 publications\n",
      "[utils.py: download_PDF] PDF Download failed: 404\n",
      "Downloading 71 of 543 publications\n",
      "[utils.py: download_PDF] PDF Download failed: 404\n",
      "Downloading 72 of 543 publications\n",
      "\u001B[1;30;42mPDF downloaded\u001B[0m : document_18430.pdf to exports/pdf_downloads/0_cris_downloads\n",
      "Downloading 73 of 543 publications\n",
      "\u001B[1;30;42mPDF downloaded\u001B[0m : document_18437.pdf to exports/pdf_downloads/0_cris_downloads\n",
      "Downloading 74 of 543 publications\n",
      "\u001B[1;30;42mPDF downloaded\u001B[0m : document_18439.pdf to exports/pdf_downloads/0_cris_downloads\n",
      "Downloading 75 of 543 publications\n",
      "\u001B[1;30;42mPDF downloaded\u001B[0m : document_18456.pdf to exports/pdf_downloads/0_cris_downloads\n",
      "Downloading 76 of 543 publications\n",
      "\u001B[1;30;42mPDF downloaded\u001B[0m : document_18458.pdf to exports/pdf_downloads/0_cris_downloads\n",
      "Downloading 77 of 543 publications\n",
      "\u001B[1;30;42mPDF downloaded\u001B[0m : document_18468.pdf to exports/pdf_downloads/0_cris_downloads\n",
      "Downloading 78 of 543 publications\n",
      "\u001B[1;30;42mPDF downloaded\u001B[0m : document_18473.pdf to exports/pdf_downloads/0_cris_downloads\n",
      "Downloading 79 of 543 publications\n",
      "\u001B[1;30;42mPDF downloaded\u001B[0m : document_18474.pdf to exports/pdf_downloads/0_cris_downloads\n",
      "Downloading 80 of 543 publications\n",
      "\u001B[1;30;42mPDF downloaded\u001B[0m : document_18485.pdf to exports/pdf_downloads/0_cris_downloads\n",
      "Downloading 81 of 543 publications\n",
      "\u001B[1;30;42mPDF downloaded\u001B[0m : document_18486.pdf to exports/pdf_downloads/0_cris_downloads\n",
      "Downloading 82 of 543 publications\n",
      "\u001B[1;30;42mPDF downloaded\u001B[0m : document_18487.pdf to exports/pdf_downloads/0_cris_downloads\n",
      "Downloading 83 of 543 publications\n",
      "\u001B[1;30;42mPDF downloaded\u001B[0m : document_18488.pdf to exports/pdf_downloads/0_cris_downloads\n",
      "Downloading 84 of 543 publications\n",
      "\u001B[1;30;42mPDF downloaded\u001B[0m : document_18490.pdf to exports/pdf_downloads/0_cris_downloads\n",
      "Downloading 85 of 543 publications\n",
      "\u001B[1;30;42mPDF downloaded\u001B[0m : document_18493.pdf to exports/pdf_downloads/0_cris_downloads\n",
      "Downloading 86 of 543 publications\n",
      "\u001B[1;30;42mPDF downloaded\u001B[0m : document_18497.pdf to exports/pdf_downloads/0_cris_downloads\n",
      "Downloading 87 of 543 publications\n",
      "\u001B[1;30;42mPDF downloaded\u001B[0m : document_18498.pdf to exports/pdf_downloads/0_cris_downloads\n",
      "Downloading 88 of 543 publications\n",
      "\u001B[1;30;42mPDF downloaded\u001B[0m : document_18499.pdf to exports/pdf_downloads/0_cris_downloads\n",
      "Downloading 89 of 543 publications\n",
      "\u001B[1;30;42mPDF downloaded\u001B[0m : document_18500.pdf to exports/pdf_downloads/0_cris_downloads\n",
      "Downloading 90 of 543 publications\n",
      "\u001B[1;30;42mPDF downloaded\u001B[0m : document_18502.pdf to exports/pdf_downloads/0_cris_downloads\n",
      "Downloading 91 of 543 publications\n",
      "\u001B[1;30;42mPDF downloaded\u001B[0m : document_18504.pdf to exports/pdf_downloads/0_cris_downloads\n",
      "Downloading 92 of 543 publications\n",
      "\u001B[1;30;42mPDF downloaded\u001B[0m : document_18505.pdf to exports/pdf_downloads/0_cris_downloads\n",
      "Downloading 93 of 543 publications\n",
      "\u001B[1;30;42mPDF downloaded\u001B[0m : document_18507.pdf to exports/pdf_downloads/0_cris_downloads\n",
      "Downloading 94 of 543 publications\n",
      "\u001B[1;30;42mPDF downloaded\u001B[0m : document_18508.pdf to exports/pdf_downloads/0_cris_downloads\n",
      "Downloading 95 of 543 publications\n",
      "\u001B[1;30;42mPDF downloaded\u001B[0m : document_18510.pdf to exports/pdf_downloads/0_cris_downloads\n",
      "Downloading 96 of 543 publications\n",
      "\u001B[1;30;42mPDF downloaded\u001B[0m : document_18511.pdf to exports/pdf_downloads/0_cris_downloads\n",
      "Downloading 97 of 543 publications\n",
      "\u001B[1;30;42mPDF downloaded\u001B[0m : document_18512.pdf to exports/pdf_downloads/0_cris_downloads\n",
      "Downloading 98 of 543 publications\n",
      "\u001B[1;30;42mPDF downloaded\u001B[0m : document_18513.pdf to exports/pdf_downloads/0_cris_downloads\n",
      "Downloading 99 of 543 publications\n",
      "\u001B[1;30;42mPDF downloaded\u001B[0m : document_18514.pdf to exports/pdf_downloads/0_cris_downloads\n",
      "Downloading 100 of 543 publications\n",
      "\u001B[1;30;42mPDF downloaded\u001B[0m : document_18515.pdf to exports/pdf_downloads/0_cris_downloads\n",
      "Downloading 101 of 543 publications\n",
      "\u001B[1;30;42mPDF downloaded\u001B[0m : document_18516.pdf to exports/pdf_downloads/0_cris_downloads\n",
      "Downloading 102 of 543 publications\n",
      "\u001B[1;30;42mPDF downloaded\u001B[0m : document_18517.pdf to exports/pdf_downloads/0_cris_downloads\n",
      "Downloading 103 of 543 publications\n",
      "\u001B[1;30;42mPDF downloaded\u001B[0m : document_18519.pdf to exports/pdf_downloads/0_cris_downloads\n",
      "Downloading 104 of 543 publications\n",
      "\u001B[1;30;42mPDF downloaded\u001B[0m : document_18520.pdf to exports/pdf_downloads/0_cris_downloads\n",
      "Downloading 105 of 543 publications\n",
      "\u001B[1;30;42mPDF downloaded\u001B[0m : document_18522.pdf to exports/pdf_downloads/0_cris_downloads\n",
      "Downloading 106 of 543 publications\n",
      "\u001B[1;30;42mPDF downloaded\u001B[0m : document_18523.pdf to exports/pdf_downloads/0_cris_downloads\n",
      "Downloading 107 of 543 publications\n",
      "\u001B[1;30;42mPDF downloaded\u001B[0m : document_18525.pdf to exports/pdf_downloads/0_cris_downloads\n",
      "Downloading 108 of 543 publications\n",
      "\u001B[1;30;42mPDF downloaded\u001B[0m : document_18526.pdf to exports/pdf_downloads/0_cris_downloads\n",
      "Downloading 109 of 543 publications\n",
      "\u001B[1;30;42mPDF downloaded\u001B[0m : document_18527.pdf to exports/pdf_downloads/0_cris_downloads\n",
      "Downloading 110 of 543 publications\n",
      "\u001B[1;30;42mPDF downloaded\u001B[0m : document_18528.pdf to exports/pdf_downloads/0_cris_downloads\n",
      "Downloading 111 of 543 publications\n",
      "\u001B[1;30;42mPDF downloaded\u001B[0m : document_18529.pdf to exports/pdf_downloads/0_cris_downloads\n",
      "Downloading 112 of 543 publications\n",
      "\u001B[1;30;42mPDF downloaded\u001B[0m : document_18530.pdf to exports/pdf_downloads/0_cris_downloads\n",
      "Downloading 113 of 543 publications\n",
      "[utils.py: download_PDF] PDF Download failed: 404\n",
      "Downloading 114 of 543 publications\n",
      "[utils.py: download_pdf] Connection Error - could not download: error type: <class 'requests.exceptions.ConnectTimeout'> -> HTTPConnectionPool(host='is2.lse.ac.uk', port=80): Max retries exceeded with url: /asp/aspecis/20080074.pdf (Caused by ConnectTimeoutError(<urllib3.connection.HTTPConnection object at 0x7fbe28f16220>, 'Connection to is2.lse.ac.uk timed out. (connect timeout=10)'))\n",
      "Downloading 115 of 543 publications\n",
      "\u001B[1;30;42mPDF downloaded\u001B[0m : document_18716.pdf to exports/pdf_downloads/0_cris_downloads\n",
      "Downloading 116 of 543 publications\n",
      "\u001B[1;30;42mPDF downloaded\u001B[0m : document_18728.pdf to exports/pdf_downloads/0_cris_downloads\n",
      "Downloading 117 of 543 publications\n",
      "[utils.py: download_pdf] Connection Error - could not download: error type: <class 'requests.exceptions.ConnectionError'> -> HTTPConnectionPool(host='deposit.ddb.de', port=80): Max retries exceeded with url: /cgi-bin/dokserv?idn=988036150&dok_var=d1&dok_ext=pdf&filename=988036150.pdf (Caused by NewConnectionError('<urllib3.connection.HTTPConnection object at 0x7fbe39611520>: Failed to establish a new connection: [Errno 8] nodename nor servname provided, or not known'))\n",
      "Downloading 118 of 543 publications\n",
      "[utils.py: download_PDF] PDF Download failed: 404\n",
      "Downloading 119 of 543 publications\n",
      "\u001B[1;30;42mPDF downloaded\u001B[0m : document_19797.pdf to exports/pdf_downloads/0_cris_downloads\n",
      "Downloading 120 of 543 publications\n",
      "\u001B[1;30;42mPDF downloaded\u001B[0m : document_21766.pdf to exports/pdf_downloads/0_cris_downloads\n",
      "Downloading 121 of 543 publications\n",
      "[utils.py: download_pdf] Connection Error - could not download: error type: <class 'requests.exceptions.ConnectionError'> -> HTTPConnectionPool(host='www.springerlink.com', port=80): Max retries exceeded with url: /content/2366176x1q653800/fulltext.pdf (Caused by NewConnectionError('<urllib3.connection.HTTPConnection object at 0x7fbe39bd4100>: Failed to establish a new connection: [Errno 8] nodename nor servname provided, or not known'))\n",
      "Downloading 122 of 543 publications\n",
      "[utils.py: download_PDF] PDF Download failed: 404\n",
      "Downloading 123 of 543 publications\n",
      "[utils.py: download_PDF] PDF Download failed: 404\n",
      "Downloading 124 of 543 publications\n",
      "[utils.py: download_PDF] PDF Download failed: 404\n",
      "Downloading 125 of 543 publications\n",
      "\u001B[1;30;42mPDF downloaded\u001B[0m : document_22918.pdf to exports/pdf_downloads/0_cris_downloads\n",
      "Downloading 126 of 543 publications\n",
      "\u001B[1;30;42mPDF downloaded\u001B[0m : document_24182.pdf to exports/pdf_downloads/0_cris_downloads\n",
      "Downloading 127 of 543 publications\n",
      "\u001B[1;30;42mPDF downloaded\u001B[0m : document_24183.pdf to exports/pdf_downloads/0_cris_downloads\n",
      "Downloading 128 of 543 publications\n",
      "[utils.py: download_PDF] PDF Download failed: 404\n",
      "Downloading 129 of 543 publications\n",
      "[utils.py: download_PDF] PDF Download failed: 404\n",
      "Downloading 130 of 543 publications\n",
      "[utils.py: download_PDF] PDF Download failed: 404\n",
      "Downloading 131 of 543 publications\n",
      "[utils.py: download_PDF] PDF Download failed: 404\n",
      "Downloading 132 of 543 publications\n",
      "[utils.py: download_PDF] PDF Download failed: 404\n",
      "Downloading 133 of 543 publications\n",
      "[utils.py: download_PDF] PDF Download failed: 404\n",
      "Downloading 134 of 543 publications\n",
      "\u001B[1;30;42mPDF downloaded\u001B[0m : document_24395.pdf to exports/pdf_downloads/0_cris_downloads\n",
      "Downloading 135 of 543 publications\n",
      "[utils.py: download_PDF] PDF Download failed: 404\n",
      "Downloading 136 of 543 publications\n",
      "[utils.py: download_pdf] Connection Error - could not download: error type: <class 'requests.exceptions.ConnectionError'> -> HTTPConnectionPool(host='udoo.uni-muenster.de', port=80): Max retries exceeded with url: /downloads/userfiles/3/dissertation.pdf (Caused by NewConnectionError('<urllib3.connection.HTTPConnection object at 0x7fbe3980df10>: Failed to establish a new connection: [Errno 8] nodename nor servname provided, or not known'))\n",
      "Downloading 137 of 543 publications\n",
      "[utils.py: download_PDF] PDF Download failed: 404\n",
      "Downloading 138 of 543 publications\n",
      "\u001B[1;30;42mPDF downloaded\u001B[0m : document_27880.pdf to exports/pdf_downloads/0_cris_downloads\n",
      "Downloading 139 of 543 publications\n",
      "[utils.py: download_PDF] PDF Download failed: 404\n",
      "Downloading 140 of 543 publications\n",
      "[utils.py: download_PDF] PDF Download failed: 404\n",
      "Downloading 141 of 543 publications\n",
      "[utils.py: download_PDF] PDF Download failed: 404\n",
      "Downloading 142 of 543 publications\n",
      "[utils.py: download_PDF] PDF Download failed: 404\n",
      "Downloading 143 of 543 publications\n",
      "\u001B[1;30;42mPDF downloaded\u001B[0m : document_43910.pdf to exports/pdf_downloads/0_cris_downloads\n",
      "Downloading 144 of 543 publications\n",
      "[utils.py: download_PDF] PDF Download failed: 404\n",
      "Downloading 145 of 543 publications\n",
      "[utils.py: download_PDF] PDF Download failed: 404\n",
      "Downloading 146 of 543 publications\n",
      "[utils.py: download_PDF] PDF Download failed: 404\n",
      "Downloading 147 of 543 publications\n",
      "[utils.py: download_PDF] PDF Download failed: 404\n",
      "Downloading 148 of 543 publications\n",
      "[utils.py: download_PDF] PDF Download failed: 404\n",
      "Downloading 149 of 543 publications\n",
      "[utils.py: download_PDF] PDF Download failed: 404\n",
      "Downloading 150 of 543 publications\n",
      "[utils.py: download_PDF] PDF Download failed: 404\n",
      "Downloading 151 of 543 publications\n",
      "[utils.py: download_PDF] PDF Download failed: 404\n",
      "Downloading 152 of 543 publications\n",
      "[utils.py: download_PDF] PDF Download failed: 404\n",
      "Downloading 153 of 543 publications\n",
      "[utils.py: download_PDF] PDF Download failed: 404\n",
      "Downloading 154 of 543 publications\n",
      "[utils.py: download_PDF] PDF Download failed: 404\n",
      "Downloading 155 of 543 publications\n",
      "[utils.py: download_PDF] PDF Download failed: 404\n",
      "Downloading 156 of 543 publications\n",
      "[utils.py: download_PDF] PDF Download failed: 404\n",
      "Downloading 157 of 543 publications\n",
      "[utils.py: download_PDF] PDF Download failed: 404\n",
      "Downloading 158 of 543 publications\n",
      "[utils.py: download_PDF] PDF Download failed: 404\n",
      "Downloading 159 of 543 publications\n",
      "[utils.py: download_pdf] Connection Error - could not download: error type: <class 'requests.exceptions.ConnectionError'> -> HTTPConnectionPool(host='www.springerlink.com', port=80): Max retries exceeded with url: /content/q714783pmr464g71/fulltext.pdf (Caused by NewConnectionError('<urllib3.connection.HTTPConnection object at 0x7fbe39890c70>: Failed to establish a new connection: [Errno 8] nodename nor servname provided, or not known'))\n",
      "Downloading 160 of 543 publications\n",
      "\u001B[1;30;42mPDF downloaded\u001B[0m : document_48543.pdf to exports/pdf_downloads/0_cris_downloads\n",
      "Downloading 161 of 543 publications\n",
      "[utils.py: download_PDF] PDF Download failed: 404\n",
      "Downloading 162 of 543 publications\n",
      "[utils.py: download_PDF] PDF Download failed: 404\n",
      "Downloading 163 of 543 publications\n",
      "[utils.py: download_PDF] PDF Download failed: 404\n",
      "Downloading 164 of 543 publications\n",
      "[utils.py: download_PDF] PDF Download failed: 404\n",
      "Downloading 165 of 543 publications\n",
      "\u001B[1;30;42mPDF downloaded\u001B[0m : document_49881.pdf to exports/pdf_downloads/0_cris_downloads\n",
      "Downloading 166 of 543 publications\n",
      "\u001B[1;30;42mPDF downloaded\u001B[0m : document_49896.pdf to exports/pdf_downloads/0_cris_downloads\n",
      "Downloading 167 of 543 publications\n",
      "[utils.py: download_PDF] PDF Download failed: 404\n",
      "Downloading 168 of 543 publications\n",
      "\u001B[1;30;42mPDF downloaded\u001B[0m : document_49933.pdf to exports/pdf_downloads/0_cris_downloads\n",
      "Downloading 169 of 543 publications\n",
      "[utils.py: download_PDF] PDF Download failed: 404\n",
      "Downloading 170 of 543 publications\n",
      "[utils.py: download_PDF] PDF Download failed: 404\n",
      "Downloading 171 of 543 publications\n",
      "[utils.py: download_PDF] PDF Download failed: 404\n",
      "Downloading 172 of 543 publications\n",
      "[utils.py: download_PDF] PDF Download failed: 404\n",
      "Downloading 173 of 543 publications\n",
      "\u001B[1;30;42mPDF downloaded\u001B[0m : document_50317.pdf to exports/pdf_downloads/0_cris_downloads\n",
      "Downloading 174 of 543 publications\n",
      "[utils.py: download_PDF] PDF Download failed: 404\n",
      "Downloading 175 of 543 publications\n",
      "[utils.py: download_PDF] PDF Download failed: 404\n",
      "Downloading 176 of 543 publications\n",
      "\u001B[1;30;42mPDF downloaded\u001B[0m : document_50680.pdf to exports/pdf_downloads/0_cris_downloads\n",
      "Downloading 177 of 543 publications\n",
      "\u001B[1;30;42mPDF downloaded\u001B[0m : document_50705.pdf to exports/pdf_downloads/0_cris_downloads\n",
      "Downloading 178 of 543 publications\n",
      "\u001B[1;30;42mPDF downloaded\u001B[0m : document_53385.pdf to exports/pdf_downloads/0_cris_downloads\n",
      "Downloading 179 of 543 publications\n",
      "\u001B[1;30;42mPDF downloaded\u001B[0m : document_62664.pdf to exports/pdf_downloads/0_cris_downloads\n",
      "Downloading 180 of 543 publications\n",
      "\u001B[1;30;42mPDF downloaded\u001B[0m : document_64062.pdf to exports/pdf_downloads/0_cris_downloads\n",
      "Downloading 181 of 543 publications\n",
      "\u001B[1;30;42mPDF downloaded\u001B[0m : document_64074.pdf to exports/pdf_downloads/0_cris_downloads\n",
      "Downloading 182 of 543 publications\n",
      "[utils.py: download_PDF] PDF Download failed: 404\n",
      "Downloading 183 of 543 publications\n",
      "\u001B[1;30;42mPDF downloaded\u001B[0m : document_66343.pdf to exports/pdf_downloads/0_cris_downloads\n",
      "Downloading 184 of 543 publications\n",
      "\u001B[1;30;42mPDF downloaded\u001B[0m : document_66415.pdf to exports/pdf_downloads/0_cris_downloads\n",
      "Downloading 185 of 543 publications\n",
      "[utils.py: download_PDF] PDF Download failed: 404\n",
      "Downloading 186 of 543 publications\n",
      "[utils.py: download_PDF] PDF Download failed: 404\n",
      "Downloading 187 of 543 publications\n",
      "[utils.py: download_PDF] PDF Download failed: 404\n",
      "Downloading 188 of 543 publications\n",
      "[utils.py: download_PDF] PDF Download failed: 404\n",
      "Downloading 189 of 543 publications\n",
      "\u001B[1;30;42mPDF downloaded\u001B[0m : document_67311.pdf to exports/pdf_downloads/0_cris_downloads\n",
      "Downloading 190 of 543 publications\n",
      "[utils.py: download_PDF] PDF Download failed: 404\n",
      "Downloading 191 of 543 publications\n",
      "\u001B[1;30;42mPDF downloaded\u001B[0m : document_68568.pdf to exports/pdf_downloads/0_cris_downloads\n",
      "Downloading 192 of 543 publications\n",
      "\u001B[1;30;42mPDF downloaded\u001B[0m : document_68573.pdf to exports/pdf_downloads/0_cris_downloads\n",
      "Downloading 193 of 543 publications\n",
      "\u001B[1;30;42mPDF downloaded\u001B[0m : document_68784.pdf to exports/pdf_downloads/0_cris_downloads\n",
      "Downloading 194 of 543 publications\n",
      "[utils.py: download_PDF] PDF Download failed: 404\n",
      "Downloading 195 of 543 publications\n",
      "[utils.py: download_PDF] PDF Download failed: 404\n",
      "Downloading 196 of 543 publications\n",
      "\u001B[1;30;42mPDF downloaded\u001B[0m : document_69217.pdf to exports/pdf_downloads/0_cris_downloads\n",
      "Downloading 197 of 543 publications\n",
      "\u001B[1;30;42mPDF downloaded\u001B[0m : document_69555.pdf to exports/pdf_downloads/0_cris_downloads\n",
      "Downloading 198 of 543 publications\n",
      "[utils.py: download_pdf] Connection Error - could not download: error type: <class 'requests.exceptions.ConnectionError'> -> HTTPConnectionPool(host='www.ejov.org', port=80): Max retries exceeded with url: /projects/264/Issues/eJOV%20Vol8/eJOV8_5_Wehmeyer_Riemer_Trust-building%20potential.pdf (Caused by NewConnectionError('<urllib3.connection.HTTPConnection object at 0x7fbe39bdf4f0>: Failed to establish a new connection: [Errno 8] nodename nor servname provided, or not known'))\n",
      "Downloading 199 of 543 publications\n",
      "[utils.py: download_PDF] PDF Download failed: 404\n",
      "Downloading 200 of 543 publications\n",
      "[utils.py: download_PDF] PDF Download failed: 404\n",
      "Downloading 201 of 543 publications\n",
      "[utils.py: download_PDF] PDF Download failed: 404\n",
      "Downloading 202 of 543 publications\n",
      "\u001B[1;30;42mPDF downloaded\u001B[0m : document_69786.pdf to exports/pdf_downloads/0_cris_downloads\n",
      "Downloading 203 of 543 publications\n",
      "[utils.py: download_pdf] Connection Error - could not download: error type: <class 'requests.exceptions.ConnectionError'> -> HTTPConnectionPool(host='www-wi.uni-muenster.de', port=80): Max retries exceeded with url: /wi/orga/wikari_buch.pdf (Caused by NewConnectionError('<urllib3.connection.HTTPConnection object at 0x7fbe396111c0>: Failed to establish a new connection: [Errno 8] nodename nor servname provided, or not known'))\n",
      "Downloading 204 of 543 publications\n",
      "\u001B[1;30;42mPDF downloaded\u001B[0m : document_69833.pdf to exports/pdf_downloads/0_cris_downloads\n",
      "Downloading 205 of 543 publications\n",
      "[utils.py: download_pdf] Connection Error - could not download: error type: <class 'requests.exceptions.ConnectTimeout'> -> HTTPConnectionPool(host='domino.fov.uni-mb.si', port=80): Max retries exceeded with url: /proceedings.nsf/Proceedings/B49739CCB14CA7C9C12570140049A49E/$File/20Wehmeyer.pdf (Caused by ConnectTimeoutError(<urllib3.connection.HTTPConnection object at 0x7fbe39611fd0>, 'Connection to domino.fov.uni-mb.si timed out. (connect timeout=10)'))\n",
      "Downloading 206 of 543 publications\n",
      "[utils.py: download_pdf] Connection Error - could not download: error type: <class 'requests.exceptions.ConnectTimeout'> -> HTTPConnectionPool(host='mis.ucd.ie', port=80): Max retries exceeded with url: /conferences/rseem2004/RSEEM2004-Proceedings_v6.pdf (Caused by ConnectTimeoutError(<urllib3.connection.HTTPConnection object at 0x7fbe398909d0>, 'Connection to mis.ucd.ie timed out. (connect timeout=10)'))\n",
      "Downloading 207 of 543 publications\n",
      "[utils.py: download_pdf] Connection Error - could not download: error type: <class 'requests.exceptions.ConnectTimeout'> -> HTTPConnectionPool(host='domino.fov.uni-mb.si', port=80): Max retries exceeded with url: /proceedings.nsf/Proceedings/F34EAB4F37BE882EC12572EE007A8672/$File/Paper96.pdf (Caused by ConnectTimeoutError(<urllib3.connection.HTTPConnection object at 0x7fbe3980dd90>, 'Connection to domino.fov.uni-mb.si timed out. (connect timeout=10)'))\n",
      "Downloading 208 of 543 publications\n",
      "[utils.py: download_pdf] Connection Error - could not download: error type: <class 'requests.exceptions.ConnectTimeout'> -> HTTPConnectionPool(host='domino.fov.uni-mb.si', port=80): Max retries exceeded with url: /proceedings.nsf/Proceedings/6C46B82122E4298EC12572EE0077E0EA/$File/Paper68.pdf (Caused by ConnectTimeoutError(<urllib3.connection.HTTPConnection object at 0x7fbe3980d6a0>, 'Connection to domino.fov.uni-mb.si timed out. (connect timeout=10)'))\n",
      "Downloading 209 of 543 publications\n",
      "[utils.py: download_pdf] Connection Error - could not download: error type: <class 'requests.exceptions.ConnectionError'> -> HTTPConnectionPool(host='udoo.uni-muenster.de', port=80): Max retries exceeded with url: /downloads/publications/2531.pdf (Caused by NewConnectionError('<urllib3.connection.HTTPConnection object at 0x7fbe19b124c0>: Failed to establish a new connection: [Errno 8] nodename nor servname provided, or not known'))\n",
      "Downloading 210 of 543 publications\n",
      "\u001B[1;30;42mPDF downloaded\u001B[0m : document_71136.pdf to exports/pdf_downloads/0_cris_downloads\n",
      "Downloading 211 of 543 publications\n",
      "[utils.py: download_pdf] Connection Error - could not download: error type: <class 'requests.exceptions.ConnectionError'> -> HTTPConnectionPool(host='udoo.uni-muenster.de', port=80): Max retries exceeded with url: /downloads/publications/2536.pdf (Caused by NewConnectionError('<urllib3.connection.HTTPConnection object at 0x7fbe19b12610>: Failed to establish a new connection: [Errno 8] nodename nor servname provided, or not known'))\n",
      "Downloading 212 of 543 publications\n",
      "[utils.py: download_pdf] Connection Error - could not download: error type: <class 'requests.exceptions.ConnectionError'> -> HTTPConnectionPool(host='udoo.uni-muenster.de', port=80): Max retries exceeded with url: /downloads/publications/2571.pdf (Caused by NewConnectionError('<urllib3.connection.HTTPConnection object at 0x7fbe19b125e0>: Failed to establish a new connection: [Errno 8] nodename nor servname provided, or not known'))\n",
      "Downloading 213 of 543 publications\n",
      "[utils.py: download_pdf] Connection Error - could not download: error type: <class 'requests.exceptions.ConnectionError'> -> HTTPConnectionPool(host='udoo.uni-muenster.de', port=80): Max retries exceeded with url: /downloads/publications/2526.pdf (Caused by NewConnectionError('<urllib3.connection.HTTPConnection object at 0x7fbe19b12790>: Failed to establish a new connection: [Errno 8] nodename nor servname provided, or not known'))\n",
      "Downloading 214 of 543 publications\n",
      "[utils.py: download_pdf] Connection Error - could not download: error type: <class 'requests.exceptions.ConnectionError'> -> HTTPConnectionPool(host='udoo.uni-muenster.de', port=80): Max retries exceeded with url: /downloads/publications/2484.pdf (Caused by NewConnectionError('<urllib3.connection.HTTPConnection object at 0x7fbe19b12400>: Failed to establish a new connection: [Errno 8] nodename nor servname provided, or not known'))\n",
      "Downloading 215 of 543 publications\n",
      "[utils.py: download_PDF] PDF Download failed: 404\n",
      "Downloading 216 of 543 publications\n",
      "[utils.py: download_PDF] PDF Download failed: 404\n",
      "Downloading 217 of 543 publications\n",
      "[utils.py: download_PDF] PDF Download failed: 404\n",
      "Downloading 218 of 543 publications\n",
      "[utils.py: download_PDF] PDF Download failed: 404\n",
      "Downloading 219 of 543 publications\n",
      "[utils.py: download_PDF] PDF Download failed: 404\n",
      "Downloading 220 of 543 publications\n",
      "\u001B[1;30;42mPDF downloaded\u001B[0m : document_73100.pdf to exports/pdf_downloads/0_cris_downloads\n",
      "Downloading 221 of 543 publications\n",
      "\u001B[1;30;42mPDF downloaded\u001B[0m : document_73240.pdf to exports/pdf_downloads/0_cris_downloads\n",
      "Downloading 222 of 543 publications\n",
      "\u001B[1;30;42mPDF downloaded\u001B[0m : document_73540.pdf to exports/pdf_downloads/0_cris_downloads\n",
      "Downloading 223 of 543 publications\n",
      "\u001B[1;30;42mPDF downloaded\u001B[0m : document_73541.pdf to exports/pdf_downloads/0_cris_downloads\n",
      "Downloading 224 of 543 publications\n",
      "\u001B[1;30;42mPDF downloaded\u001B[0m : document_73611.pdf to exports/pdf_downloads/0_cris_downloads\n",
      "Downloading 225 of 543 publications\n",
      "\u001B[1;30;42mPDF downloaded\u001B[0m : document_73612.pdf to exports/pdf_downloads/0_cris_downloads\n",
      "Downloading 226 of 543 publications\n",
      "\u001B[1;30;42mPDF downloaded\u001B[0m : document_73614.pdf to exports/pdf_downloads/0_cris_downloads\n",
      "Downloading 227 of 543 publications\n",
      "[utils.py: download_pdf] Connection Error - could not download: error type: <class 'requests.exceptions.ConnectionError'> -> HTTPConnectionPool(host='www.springerlink.com', port=80): Max retries exceeded with url: /content/r30t110754744mw2/fulltext.pdf (Caused by NewConnectionError('<urllib3.connection.HTTPConnection object at 0x7fbe398b4250>: Failed to establish a new connection: [Errno 8] nodename nor servname provided, or not known'))\n",
      "Downloading 228 of 543 publications\n",
      "[utils.py: download_pdf] Connection Error - could not download: error type: <class 'requests.exceptions.ConnectionError'> -> HTTPConnectionPool(host='www.springerlink.com', port=80): Max retries exceeded with url: /content/h8qn4t327h3w4p31/fulltext.pdf (Caused by NewConnectionError('<urllib3.connection.HTTPConnection object at 0x7fbe398b40d0>: Failed to establish a new connection: [Errno 8] nodename nor servname provided, or not known'))\n",
      "Downloading 229 of 543 publications\n",
      "[utils.py: download_PDF] PDF Download failed: 404\n",
      "Downloading 230 of 543 publications\n",
      "[utils.py: download_PDF] PDF Download failed: 404\n",
      "Downloading 231 of 543 publications\n",
      "\u001B[1;30;42mPDF downloaded\u001B[0m : document_74909.pdf to exports/pdf_downloads/0_cris_downloads\n",
      "\u001B[1;30;43mbut PDF might be corrupted, file size: 1004 bytes\u001B[0m\n",
      "Downloading 232 of 543 publications\n",
      "\u001B[1;30;42mPDF downloaded\u001B[0m : document_75659.pdf to exports/pdf_downloads/0_cris_downloads\n",
      "Downloading 233 of 543 publications\n",
      "[utils.py: download_PDF] PDF Download failed: 404\n",
      "Downloading 234 of 543 publications\n",
      "\u001B[1;30;42mPDF downloaded\u001B[0m : document_76197.pdf to exports/pdf_downloads/0_cris_downloads\n",
      "Downloading 235 of 543 publications\n",
      "[utils.py: download_PDF] PDF Download failed: 404\n",
      "Downloading 236 of 543 publications\n",
      "\u001B[1;30;42mPDF downloaded\u001B[0m : document_77352.pdf to exports/pdf_downloads/0_cris_downloads\n",
      "Downloading 237 of 543 publications\n",
      "\u001B[1;30;42mPDF downloaded\u001B[0m : document_78342.pdf to exports/pdf_downloads/0_cris_downloads\n",
      "Downloading 238 of 543 publications\n",
      "[utils.py: download_PDF] PDF Download failed: 404\n",
      "Downloading 239 of 543 publications\n",
      "[utils.py: download_PDF] PDF Download failed: 404\n",
      "Downloading 240 of 543 publications\n",
      "[utils.py: download_PDF] PDF Download failed: 404\n",
      "Downloading 241 of 543 publications\n",
      "[utils.py: download_PDF] PDF Download failed: 404\n",
      "Downloading 242 of 543 publications\n",
      "\u001B[1;30;42mPDF downloaded\u001B[0m : document_80471.pdf to exports/pdf_downloads/0_cris_downloads\n",
      "Downloading 243 of 543 publications\n",
      "\u001B[1;30;42mPDF downloaded\u001B[0m : document_81093.pdf to exports/pdf_downloads/0_cris_downloads\n",
      "Downloading 244 of 543 publications\n",
      "\u001B[1;30;42mPDF downloaded\u001B[0m : document_81612.pdf to exports/pdf_downloads/0_cris_downloads\n",
      "Downloading 245 of 543 publications\n",
      "[utils.py: download_PDF] PDF Download failed: 404\n",
      "Downloading 246 of 543 publications\n",
      "[utils.py: download_PDF] PDF Download failed: 404\n",
      "Downloading 247 of 543 publications\n",
      "[utils.py: download_PDF] PDF Download failed: 404\n",
      "Downloading 248 of 543 publications\n",
      "\u001B[1;30;42mPDF downloaded\u001B[0m : document_82213.pdf to exports/pdf_downloads/0_cris_downloads\n",
      "\u001B[1;30;43mbut PDF might be corrupted, file size: 1004 bytes\u001B[0m\n",
      "Downloading 249 of 543 publications\n",
      "\u001B[1;30;42mPDF downloaded\u001B[0m : document_82470.pdf to exports/pdf_downloads/0_cris_downloads\n",
      "Downloading 250 of 543 publications\n",
      "\u001B[1;30;42mPDF downloaded\u001B[0m : document_82603.pdf to exports/pdf_downloads/0_cris_downloads\n",
      "Downloading 251 of 543 publications\n",
      "\u001B[1;30;42mPDF downloaded\u001B[0m : document_82782.pdf to exports/pdf_downloads/0_cris_downloads\n",
      "Downloading 252 of 543 publications\n",
      "[utils.py: download_PDF] PDF Download failed: 404\n",
      "Downloading 253 of 543 publications\n",
      "\u001B[1;30;42mPDF downloaded\u001B[0m : document_84858.pdf to exports/pdf_downloads/0_cris_downloads\n",
      "Downloading 254 of 543 publications\n",
      "[utils.py: download_PDF] PDF Download failed: 404\n",
      "Downloading 255 of 543 publications\n",
      "[utils.py: download_PDF] PDF Download failed: 404\n",
      "Downloading 256 of 543 publications\n",
      "\u001B[1;30;42mPDF downloaded\u001B[0m : document_87449.pdf to exports/pdf_downloads/0_cris_downloads\n",
      "\u001B[1;30;43mbut PDF might be corrupted, file size: 1004 bytes\u001B[0m\n",
      "Downloading 257 of 543 publications\n",
      "\u001B[1;30;42mPDF downloaded\u001B[0m : document_87468.pdf to exports/pdf_downloads/0_cris_downloads\n",
      "\u001B[1;30;43mbut PDF might be corrupted, file size: 1004 bytes\u001B[0m\n",
      "Downloading 258 of 543 publications\n",
      "\u001B[1;30;42mPDF downloaded\u001B[0m : document_87599.pdf to exports/pdf_downloads/0_cris_downloads\n",
      "Downloading 259 of 543 publications\n",
      "\u001B[1;30;42mPDF downloaded\u001B[0m : document_87982.pdf to exports/pdf_downloads/0_cris_downloads\n",
      "Downloading 260 of 543 publications\n",
      "\u001B[1;30;42mPDF downloaded\u001B[0m : document_87983.pdf to exports/pdf_downloads/0_cris_downloads\n",
      "Downloading 261 of 543 publications\n",
      "\u001B[1;30;42mPDF downloaded\u001B[0m : document_87985.pdf to exports/pdf_downloads/0_cris_downloads\n",
      "Downloading 262 of 543 publications\n",
      "\u001B[1;30;42mPDF downloaded\u001B[0m : document_88194.pdf to exports/pdf_downloads/0_cris_downloads\n",
      "Downloading 263 of 543 publications\n",
      "\u001B[1;30;42mPDF downloaded\u001B[0m : document_88216.pdf to exports/pdf_downloads/0_cris_downloads\n",
      "Downloading 264 of 543 publications\n",
      "\u001B[1;30;42mPDF downloaded\u001B[0m : document_88256.pdf to exports/pdf_downloads/0_cris_downloads\n",
      "Downloading 265 of 543 publications\n",
      "\u001B[1;30;42mPDF downloaded\u001B[0m : document_88261.pdf to exports/pdf_downloads/0_cris_downloads\n",
      "Downloading 266 of 543 publications\n",
      "\u001B[1;30;42mPDF downloaded\u001B[0m : document_88262.pdf to exports/pdf_downloads/0_cris_downloads\n",
      "Downloading 267 of 543 publications\n",
      "\u001B[1;30;42mPDF downloaded\u001B[0m : document_88264.pdf to exports/pdf_downloads/0_cris_downloads\n",
      "Downloading 268 of 543 publications\n",
      "\u001B[1;30;42mPDF downloaded\u001B[0m : document_88265.pdf to exports/pdf_downloads/0_cris_downloads\n",
      "Downloading 269 of 543 publications\n",
      "\u001B[1;30;42mPDF downloaded\u001B[0m : document_88287.pdf to exports/pdf_downloads/0_cris_downloads\n",
      "\u001B[1;30;43mbut PDF might be corrupted, file size: 1004 bytes\u001B[0m\n",
      "Downloading 270 of 543 publications\n",
      "\u001B[1;30;42mPDF downloaded\u001B[0m : document_90364.pdf to exports/pdf_downloads/0_cris_downloads\n",
      "Downloading 271 of 543 publications\n",
      "[utils.py: download_pdf] Connection Error - could not download: error type: <class 'requests.exceptions.ConnectTimeout'> -> HTTPConnectionPool(host='www.socialmediathinklab.com', port=80): Max retries exceeded with url: /wp-content/uploads/2013/02/WWU_Social-Media-Consumer-Report_0213_Ansicht.pdf (Caused by ConnectTimeoutError(<urllib3.connection.HTTPConnection object at 0x7fbe398b4190>, 'Connection to www.socialmediathinklab.com timed out. (connect timeout=10)'))\n",
      "Downloading 272 of 543 publications\n",
      "[utils.py: download_PDF] PDF Download failed: 404\n",
      "Downloading 273 of 543 publications\n",
      "[utils.py: download_PDF] PDF Download failed: 404\n",
      "Downloading 274 of 543 publications\n",
      "\u001B[1;30;42mPDF downloaded\u001B[0m : document_92490.pdf to exports/pdf_downloads/0_cris_downloads\n",
      "Downloading 275 of 543 publications\n",
      "\u001B[1;30;42mPDF downloaded\u001B[0m : document_92833.pdf to exports/pdf_downloads/0_cris_downloads\n",
      "\u001B[1;30;43mbut PDF might be corrupted, file size: 0 bytes\u001B[0m\n",
      "Downloading 276 of 543 publications\n",
      "\u001B[1;30;42mPDF downloaded\u001B[0m : document_94680.pdf to exports/pdf_downloads/0_cris_downloads\n",
      "\u001B[1;30;43mbut PDF might be corrupted, file size: 0 bytes\u001B[0m\n",
      "Downloading 277 of 543 publications\n",
      "\u001B[1;30;42mPDF downloaded\u001B[0m : document_94939.pdf to exports/pdf_downloads/0_cris_downloads\n",
      "Downloading 278 of 543 publications\n",
      "\u001B[1;30;42mPDF downloaded\u001B[0m : document_96081.pdf to exports/pdf_downloads/0_cris_downloads\n",
      "Downloading 279 of 543 publications\n",
      "\u001B[1;30;42mPDF downloaded\u001B[0m : document_96564.pdf to exports/pdf_downloads/0_cris_downloads\n",
      "\u001B[1;30;43mbut PDF might be corrupted, file size: 1004 bytes\u001B[0m\n",
      "Downloading 280 of 543 publications\n",
      "\u001B[1;30;42mPDF downloaded\u001B[0m : document_96860.pdf to exports/pdf_downloads/0_cris_downloads\n",
      "Downloading 281 of 543 publications\n",
      "\u001B[1;30;42mPDF downloaded\u001B[0m : document_97048.pdf to exports/pdf_downloads/0_cris_downloads\n",
      "Downloading 282 of 543 publications\n",
      "\u001B[1;30;42mPDF downloaded\u001B[0m : document_97470.pdf to exports/pdf_downloads/0_cris_downloads\n",
      "Downloading 283 of 543 publications\n",
      "\u001B[1;30;42mPDF downloaded\u001B[0m : document_97630.pdf to exports/pdf_downloads/0_cris_downloads\n",
      "Downloading 284 of 543 publications\n",
      "[utils.py: download_PDF] PDF Download failed: 404\n",
      "Downloading 285 of 543 publications\n",
      "[utils.py: download_pdf] Connection Error - could not download: error type: <class 'requests.exceptions.SSLError'> -> HTTPSConnectionPool(host='www.cs.dartmouth.edu', port=443): Max retries exceeded with url: /farid/downloads/publications/spie13.pdf (Caused by SSLError(SSLCertVerificationError(1, '[SSL: CERTIFICATE_VERIFY_FAILED] certificate verify failed: unable to get local issuer certificate (_ssl.c:1129)')))\n",
      "Downloading 286 of 543 publications\n",
      "\u001B[1;30;42mPDF downloaded\u001B[0m : document_98279.pdf to exports/pdf_downloads/0_cris_downloads\n",
      "Downloading 287 of 543 publications\n",
      "[utils.py: download_pdf] Connection Error - could not download: error type: <class 'requests.exceptions.ConnectionError'> -> HTTPConnectionPool(host='www.is.uni-muenster.de', port=80): Max retries exceeded with url: /security/publications/KB2014_WS-CFA.pdf (Caused by NewConnectionError('<urllib3.connection.HTTPConnection object at 0x7fbe19b12880>: Failed to establish a new connection: [Errno 8] nodename nor servname provided, or not known'))\n",
      "Downloading 288 of 543 publications\n",
      "[utils.py: download_PDF] PDF Download failed: 404\n",
      "Downloading 289 of 543 publications\n",
      "[utils.py: download_pdf] Connection Error - could not download: error type: <class 'requests.exceptions.ConnectionError'> -> HTTPConnectionPool(host='www.is.uni-muenster.de', port=80): Max retries exceeded with url: /security/publications/FK2014_ENF-mobile-devices.pdf (Caused by NewConnectionError('<urllib3.connection.HTTPConnection object at 0x7fbe19b12f40>: Failed to establish a new connection: [Errno 8] nodename nor servname provided, or not known'))\n",
      "Downloading 290 of 543 publications\n",
      "[utils.py: download_PDF] PDF Download failed: 404\n",
      "Downloading 291 of 543 publications\n",
      "[utils.py: download_PDF] PDF Download failed: 404\n",
      "Downloading 292 of 543 publications\n",
      "[utils.py: download_pdf] Connection Error - could not download: error type: <class 'requests.exceptions.ConnectionError'> -> HTTPConnectionPool(host='www.wi2015.uni-osnabrueck.de', port=80): Max retries exceeded with url: /Files//WI2015-D-14-00311.pdf (Caused by NewConnectionError('<urllib3.connection.HTTPConnection object at 0x7fbe19b129d0>: Failed to establish a new connection: [Errno 8] nodename nor servname provided, or not known'))\n",
      "Downloading 293 of 543 publications\n",
      "[utils.py: download_pdf] Connection Error - could not download: error type: <class 'requests.exceptions.ConnectionError'> -> HTTPConnectionPool(host='www.wi2015.uni-osnabrueck.de', port=80): Max retries exceeded with url: /Files/WI2015-D-14-00279.pdf (Caused by NewConnectionError('<urllib3.connection.HTTPConnection object at 0x7fbe19b129d0>: Failed to establish a new connection: [Errno 8] nodename nor servname provided, or not known'))\n",
      "Downloading 294 of 543 publications\n",
      "\u001B[1;30;42mPDF downloaded\u001B[0m : document_99162.pdf to exports/pdf_downloads/0_cris_downloads\n",
      "Downloading 295 of 543 publications\n",
      "\u001B[1;30;42mPDF downloaded\u001B[0m : document_99169.pdf to exports/pdf_downloads/0_cris_downloads\n",
      "Downloading 296 of 543 publications\n",
      "\u001B[1;30;42mPDF downloaded\u001B[0m : document_99170.pdf to exports/pdf_downloads/0_cris_downloads\n",
      "Downloading 297 of 543 publications\n",
      "\u001B[1;30;42mPDF downloaded\u001B[0m : document_99171.pdf to exports/pdf_downloads/0_cris_downloads\n",
      "Downloading 298 of 543 publications\n",
      "\u001B[1;30;42mPDF downloaded\u001B[0m : document_99172.pdf to exports/pdf_downloads/0_cris_downloads\n",
      "Downloading 299 of 543 publications\n",
      "\u001B[1;30;42mPDF downloaded\u001B[0m : document_99173.pdf to exports/pdf_downloads/0_cris_downloads\n",
      "Downloading 300 of 543 publications\n",
      "\u001B[1;30;42mPDF downloaded\u001B[0m : document_99174.pdf to exports/pdf_downloads/0_cris_downloads\n",
      "Downloading 301 of 543 publications\n",
      "\u001B[1;30;42mPDF downloaded\u001B[0m : document_99175.pdf to exports/pdf_downloads/0_cris_downloads\n",
      "Downloading 302 of 543 publications\n",
      "\u001B[1;30;42mPDF downloaded\u001B[0m : document_99177.pdf to exports/pdf_downloads/0_cris_downloads\n",
      "Downloading 303 of 543 publications\n",
      "\u001B[1;30;42mPDF downloaded\u001B[0m : document_99178.pdf to exports/pdf_downloads/0_cris_downloads\n",
      "Downloading 304 of 543 publications\n",
      "\u001B[1;30;42mPDF downloaded\u001B[0m : document_99179.pdf to exports/pdf_downloads/0_cris_downloads\n",
      "Downloading 305 of 543 publications\n",
      "\u001B[1;30;42mPDF downloaded\u001B[0m : document_99182.pdf to exports/pdf_downloads/0_cris_downloads\n",
      "Downloading 306 of 543 publications\n",
      "\u001B[1;30;42mPDF downloaded\u001B[0m : document_99185.pdf to exports/pdf_downloads/0_cris_downloads\n",
      "Downloading 307 of 543 publications\n",
      "\u001B[1;30;42mPDF downloaded\u001B[0m : document_99186.pdf to exports/pdf_downloads/0_cris_downloads\n",
      "Downloading 308 of 543 publications\n",
      "\u001B[1;30;42mPDF downloaded\u001B[0m : document_99187.pdf to exports/pdf_downloads/0_cris_downloads\n",
      "Downloading 309 of 543 publications\n",
      "\u001B[1;30;42mPDF downloaded\u001B[0m : document_99190.pdf to exports/pdf_downloads/0_cris_downloads\n",
      "Downloading 310 of 543 publications\n",
      "[utils.py: download_pdf] Connection Error - could not download: error type: <class 'requests.exceptions.ConnectionError'> -> HTTPConnectionPool(host='www.wi2015.uni-osnabrueck.de', port=80): Max retries exceeded with url: /Files/WI2015-D-14-00045.pdf (Caused by NewConnectionError('<urllib3.connection.HTTPConnection object at 0x7fbe19b12f10>: Failed to establish a new connection: [Errno 8] nodename nor servname provided, or not known'))\n",
      "Downloading 311 of 543 publications\n",
      "[utils.py: download_PDF] PDF Download failed: 404\n",
      "Downloading 312 of 543 publications\n",
      "[utils.py: download_PDF] PDF Download failed: 404\n",
      "Downloading 313 of 543 publications\n",
      "[utils.py: download_PDF] PDF Download failed: 404\n",
      "Downloading 314 of 543 publications\n",
      "[utils.py: download_PDF] PDF Download failed: 404\n",
      "Downloading 315 of 543 publications\n",
      "\u001B[1;30;42mPDF downloaded\u001B[0m : document_102591.pdf to exports/pdf_downloads/0_cris_downloads\n",
      "Downloading 316 of 543 publications\n",
      "\u001B[1;30;42mPDF downloaded\u001B[0m : document_102595.pdf to exports/pdf_downloads/0_cris_downloads\n",
      "Downloading 317 of 543 publications\n",
      "[utils.py: download_PDF] PDF Download failed: 404\n",
      "Downloading 318 of 543 publications\n",
      "[utils.py: download_PDF] PDF Download failed: 404\n",
      "Downloading 319 of 543 publications\n",
      "[utils.py: download_pdf] Connection Error - could not download: error type: <class 'requests.exceptions.ConnectionError'> -> HTTPConnectionPool(host='www.wi2015.uni-osnabrueck.de', port=80): Max retries exceeded with url: /Files//WI2015-D-14-00163.pdf (Caused by NewConnectionError('<urllib3.connection.HTTPConnection object at 0x7fbe19b12f40>: Failed to establish a new connection: [Errno 8] nodename nor servname provided, or not known'))\n",
      "Downloading 320 of 543 publications\n",
      "\u001B[1;30;42mPDF downloaded\u001B[0m : document_104246.pdf to exports/pdf_downloads/0_cris_downloads\n",
      "Downloading 321 of 543 publications\n",
      "\u001B[1;30;42mPDF downloaded\u001B[0m : document_104739.pdf to exports/pdf_downloads/0_cris_downloads\n",
      "\u001B[1;30;43mbut PDF might be corrupted, file size: 1004 bytes\u001B[0m\n",
      "Downloading 322 of 543 publications\n",
      "\u001B[1;30;42mPDF downloaded\u001B[0m : document_104892.pdf to exports/pdf_downloads/0_cris_downloads\n",
      "Downloading 323 of 543 publications\n",
      "\u001B[1;30;42mPDF downloaded\u001B[0m : document_104914.pdf to exports/pdf_downloads/0_cris_downloads\n",
      "Downloading 324 of 543 publications\n",
      "\u001B[1;30;42mPDF downloaded\u001B[0m : document_105061.pdf to exports/pdf_downloads/0_cris_downloads\n",
      "Downloading 325 of 543 publications\n",
      "\u001B[1;30;42mPDF downloaded\u001B[0m : document_105278.pdf to exports/pdf_downloads/0_cris_downloads\n",
      "Downloading 326 of 543 publications\n",
      "\u001B[1;30;42mPDF downloaded\u001B[0m : document_105320.pdf to exports/pdf_downloads/0_cris_downloads\n",
      "\u001B[1;30;43mbut PDF might be corrupted, file size: 1004 bytes\u001B[0m\n",
      "Downloading 327 of 543 publications\n",
      "\u001B[1;30;42mPDF downloaded\u001B[0m : document_105527.pdf to exports/pdf_downloads/0_cris_downloads\n",
      "Downloading 328 of 543 publications\n",
      "\u001B[1;30;42mPDF downloaded\u001B[0m : document_105704.pdf to exports/pdf_downloads/0_cris_downloads\n",
      "Downloading 329 of 543 publications\n",
      "\u001B[1;30;42mPDF downloaded\u001B[0m : document_105705.pdf to exports/pdf_downloads/0_cris_downloads\n",
      "Downloading 330 of 543 publications\n",
      "\u001B[1;30;42mPDF downloaded\u001B[0m : document_105905.pdf to exports/pdf_downloads/0_cris_downloads\n",
      "Downloading 331 of 543 publications\n",
      "\u001B[1;30;42mPDF downloaded\u001B[0m : document_105955.pdf to exports/pdf_downloads/0_cris_downloads\n",
      "Downloading 332 of 543 publications\n",
      "\u001B[1;30;42mPDF downloaded\u001B[0m : document_105956.pdf to exports/pdf_downloads/0_cris_downloads\n",
      "Downloading 333 of 543 publications\n",
      "[utils.py: download_PDF] PDF Download failed: 404\n",
      "Downloading 334 of 543 publications\n",
      "\u001B[1;30;42mPDF downloaded\u001B[0m : document_106289.pdf to exports/pdf_downloads/0_cris_downloads\n",
      "Downloading 335 of 543 publications\n",
      "[utils.py: download_PDF] PDF Download failed: 404\n",
      "Downloading 336 of 543 publications\n",
      "\u001B[1;30;42mPDF downloaded\u001B[0m : document_107491.pdf to exports/pdf_downloads/0_cris_downloads\n",
      "Downloading 337 of 543 publications\n",
      "\u001B[1;30;42mPDF downloaded\u001B[0m : document_107594.pdf to exports/pdf_downloads/0_cris_downloads\n",
      "Downloading 338 of 543 publications\n",
      "\u001B[1;30;42mPDF downloaded\u001B[0m : document_107636.pdf to exports/pdf_downloads/0_cris_downloads\n",
      "Downloading 339 of 543 publications\n",
      "[utils.py: download_PDF] PDF Download failed: 404\n",
      "Downloading 340 of 543 publications\n",
      "[utils.py: download_PDF] PDF Download failed: 404\n",
      "Downloading 341 of 543 publications\n",
      "\u001B[1;30;42mPDF downloaded\u001B[0m : document_107892.pdf to exports/pdf_downloads/0_cris_downloads\n",
      "Downloading 342 of 543 publications\n",
      "\u001B[1;30;42mPDF downloaded\u001B[0m : document_108465.pdf to exports/pdf_downloads/0_cris_downloads\n",
      "Downloading 343 of 543 publications\n",
      "\u001B[1;30;42mPDF downloaded\u001B[0m : document_108467.pdf to exports/pdf_downloads/0_cris_downloads\n",
      "Downloading 344 of 543 publications\n",
      "[utils.py: download_PDF] PDF Download failed: 403\n",
      "Downloading 345 of 543 publications\n",
      "\u001B[1;30;42mPDF downloaded\u001B[0m : document_108937.pdf to exports/pdf_downloads/0_cris_downloads\n",
      "Downloading 346 of 543 publications\n",
      "\u001B[1;30;42mPDF downloaded\u001B[0m : document_109127.pdf to exports/pdf_downloads/0_cris_downloads\n",
      "Downloading 347 of 543 publications\n",
      "[utils.py: download_PDF] PDF Download failed: 404\n",
      "Downloading 348 of 543 publications\n",
      "[utils.py: download_PDF] PDF Download failed: 404\n",
      "Downloading 349 of 543 publications\n",
      "[utils.py: download_PDF] PDF Download failed: 404\n",
      "Downloading 350 of 543 publications\n",
      "[utils.py: download_pdf] Connection Error - could not download: error type: <class 'requests.exceptions.SSLError'> -> HTTPSConnectionPool(host='www.businessperspectives.org', port=443): Max retries exceeded with url: /journals_free/ppm/2014/PPM_2014_02cont_Wohrmann.pdf (Caused by SSLError(SSLCertVerificationError(1, '[SSL: CERTIFICATE_VERIFY_FAILED] certificate verify failed: unable to get local issuer certificate (_ssl.c:1129)')))\n",
      "Downloading 351 of 543 publications\n",
      "\u001B[1;30;42mPDF downloaded\u001B[0m : document_110743.pdf to exports/pdf_downloads/0_cris_downloads\n",
      "Downloading 352 of 543 publications\n",
      "\u001B[1;30;42mPDF downloaded\u001B[0m : document_110747.pdf to exports/pdf_downloads/0_cris_downloads\n",
      "Downloading 353 of 543 publications\n",
      "\u001B[1;30;42mPDF downloaded\u001B[0m : document_110748.pdf to exports/pdf_downloads/0_cris_downloads\n",
      "Downloading 354 of 543 publications\n",
      "\u001B[1;30;42mPDF downloaded\u001B[0m : document_110752.pdf to exports/pdf_downloads/0_cris_downloads\n",
      "Downloading 355 of 543 publications\n",
      "\u001B[1;30;42mPDF downloaded\u001B[0m : document_110753.pdf to exports/pdf_downloads/0_cris_downloads\n",
      "Downloading 356 of 543 publications\n",
      "[utils.py: download_PDF] PDF Download failed: 404\n",
      "Downloading 357 of 543 publications\n",
      "[utils.py: download_PDF] PDF Download failed: 404\n",
      "Downloading 358 of 543 publications\n",
      "[utils.py: download_PDF] PDF Download failed: 404\n",
      "Downloading 359 of 543 publications\n",
      "[utils.py: download_PDF] PDF Download failed: 404\n",
      "Downloading 360 of 543 publications\n",
      "[utils.py: download_PDF] PDF Download failed: 404\n",
      "Downloading 361 of 543 publications\n",
      "[utils.py: download_PDF] PDF Download failed: 404\n",
      "Downloading 362 of 543 publications\n",
      "[utils.py: download_PDF] PDF Download failed: 404\n",
      "Downloading 363 of 543 publications\n",
      "[utils.py: download_PDF] PDF Download failed: 404\n",
      "Downloading 364 of 543 publications\n",
      "\u001B[1;30;42mPDF downloaded\u001B[0m : document_115345.pdf to exports/pdf_downloads/0_cris_downloads\n",
      "Downloading 365 of 543 publications\n",
      "[utils.py: download_PDF] PDF Download failed: 404\n",
      "Downloading 366 of 543 publications\n",
      "\u001B[1;30;42mPDF downloaded\u001B[0m : document_115560.pdf to exports/pdf_downloads/0_cris_downloads\n",
      "Downloading 367 of 543 publications\n",
      "\u001B[1;30;42mPDF downloaded\u001B[0m : document_115678.pdf to exports/pdf_downloads/0_cris_downloads\n",
      "Downloading 368 of 543 publications\n",
      "\u001B[1;30;42mPDF downloaded\u001B[0m : document_115848.pdf to exports/pdf_downloads/0_cris_downloads\n",
      "Downloading 369 of 543 publications\n",
      "\u001B[1;30;42mPDF downloaded\u001B[0m : document_115857.pdf to exports/pdf_downloads/0_cris_downloads\n",
      "Downloading 370 of 543 publications\n",
      "\u001B[1;30;42mPDF downloaded\u001B[0m : document_115859.pdf to exports/pdf_downloads/0_cris_downloads\n",
      "Downloading 371 of 543 publications\n",
      "\u001B[1;30;42mPDF downloaded\u001B[0m : document_115909.pdf to exports/pdf_downloads/0_cris_downloads\n",
      "Downloading 372 of 543 publications\n",
      "\u001B[1;30;42mPDF downloaded\u001B[0m : document_116249.pdf to exports/pdf_downloads/0_cris_downloads\n",
      "Downloading 373 of 543 publications\n",
      "\u001B[1;30;42mPDF downloaded\u001B[0m : document_116267.pdf to exports/pdf_downloads/0_cris_downloads\n",
      "Downloading 374 of 543 publications\n",
      "\u001B[1;30;42mPDF downloaded\u001B[0m : document_116502.pdf to exports/pdf_downloads/0_cris_downloads\n",
      "Downloading 375 of 543 publications\n",
      "[utils.py: download_PDF] PDF Download failed: 404\n",
      "Downloading 376 of 543 publications\n",
      "\u001B[1;30;42mPDF downloaded\u001B[0m : document_116855.pdf to exports/pdf_downloads/0_cris_downloads\n",
      "Downloading 377 of 543 publications\n",
      "[utils.py: download_PDF] PDF Download failed: 404\n",
      "Downloading 378 of 543 publications\n",
      "\u001B[1;30;42mPDF downloaded\u001B[0m : document_117601.pdf to exports/pdf_downloads/0_cris_downloads\n",
      "Downloading 379 of 543 publications\n",
      "[utils.py: download_PDF] PDF Download failed: 404\n",
      "Downloading 380 of 543 publications\n",
      "[utils.py: download_PDF] PDF Download failed: 404\n",
      "Downloading 381 of 543 publications\n",
      "[utils.py: download_PDF] PDF Download failed: 404\n",
      "Downloading 382 of 543 publications\n",
      "[utils.py: download_PDF] PDF Download failed: 404\n",
      "Downloading 383 of 543 publications\n",
      "[utils.py: download_PDF] PDF Download failed: 404\n",
      "Downloading 384 of 543 publications\n",
      "\u001B[1;30;42mPDF downloaded\u001B[0m : document_119691.pdf to exports/pdf_downloads/0_cris_downloads\n",
      "Downloading 385 of 543 publications\n",
      "[utils.py: download_PDF] PDF Download failed: 404\n",
      "Downloading 386 of 543 publications\n",
      "\u001B[1;30;42mPDF downloaded\u001B[0m : document_120497.pdf to exports/pdf_downloads/0_cris_downloads\n",
      "Downloading 387 of 543 publications\n",
      "\u001B[1;30;42mPDF downloaded\u001B[0m : document_120498.pdf to exports/pdf_downloads/0_cris_downloads\n",
      "Downloading 388 of 543 publications\n",
      "\u001B[1;30;42mPDF downloaded\u001B[0m : document_120499.pdf to exports/pdf_downloads/0_cris_downloads\n",
      "Downloading 389 of 543 publications\n",
      "\u001B[1;30;42mPDF downloaded\u001B[0m : document_120537.pdf to exports/pdf_downloads/0_cris_downloads\n",
      "Downloading 390 of 543 publications\n",
      "[utils.py: download_PDF] PDF Download failed: 404\n",
      "Downloading 391 of 543 publications\n",
      "[utils.py: download_PDF] PDF Download failed: 404\n",
      "Downloading 392 of 543 publications\n",
      "[utils.py: download_pdf] Connection Error - could not download: error type: <class 'requests.exceptions.ConnectionError'> -> HTTPSConnectionPool(host='wi2017.blob.core.windows.net', port=443): Max retries exceeded with url: /website/download/papers/WI2017-0195.pdf (Caused by NewConnectionError('<urllib3.connection.HTTPSConnection object at 0x7fbe3980d730>: Failed to establish a new connection: [Errno 8] nodename nor servname provided, or not known'))\n",
      "Downloading 393 of 543 publications\n",
      "\u001B[1;30;42mPDF downloaded\u001B[0m : document_122125.pdf to exports/pdf_downloads/0_cris_downloads\n",
      "Downloading 394 of 543 publications\n",
      "\u001B[1;30;42mPDF downloaded\u001B[0m : document_122257.pdf to exports/pdf_downloads/0_cris_downloads\n",
      "Downloading 395 of 543 publications\n",
      "\u001B[1;30;42mPDF downloaded\u001B[0m : document_122396.pdf to exports/pdf_downloads/0_cris_downloads\n",
      "Downloading 396 of 543 publications\n",
      "\u001B[1;30;42mPDF downloaded\u001B[0m : document_124868.pdf to exports/pdf_downloads/0_cris_downloads\n",
      "Downloading 397 of 543 publications\n",
      "\u001B[1;30;42mPDF downloaded\u001B[0m : document_124992.pdf to exports/pdf_downloads/0_cris_downloads\n",
      "Downloading 398 of 543 publications\n",
      "\u001B[1;30;42mPDF downloaded\u001B[0m : document_126167.pdf to exports/pdf_downloads/0_cris_downloads\n",
      "Downloading 399 of 543 publications\n",
      "\u001B[1;30;42mPDF downloaded\u001B[0m : document_126169.pdf to exports/pdf_downloads/0_cris_downloads\n",
      "Downloading 400 of 543 publications\n",
      "\u001B[1;30;42mPDF downloaded\u001B[0m : document_127377.pdf to exports/pdf_downloads/0_cris_downloads\n",
      "Downloading 401 of 543 publications\n",
      "\u001B[1;30;42mPDF downloaded\u001B[0m : document_127666.pdf to exports/pdf_downloads/0_cris_downloads\n",
      "Downloading 402 of 543 publications\n",
      "\u001B[1;30;42mPDF downloaded\u001B[0m : document_127774.pdf to exports/pdf_downloads/0_cris_downloads\n",
      "Downloading 403 of 543 publications\n",
      "\u001B[1;30;42mPDF downloaded\u001B[0m : document_128688.pdf to exports/pdf_downloads/0_cris_downloads\n",
      "Downloading 404 of 543 publications\n",
      "\u001B[1;30;42mPDF downloaded\u001B[0m : document_128715.pdf to exports/pdf_downloads/0_cris_downloads\n",
      "Downloading 405 of 543 publications\n",
      "\u001B[1;30;42mPDF downloaded\u001B[0m : document_128832.pdf to exports/pdf_downloads/0_cris_downloads\n",
      "Downloading 406 of 543 publications\n",
      "\u001B[1;30;42mPDF downloaded\u001B[0m : document_128870.pdf to exports/pdf_downloads/0_cris_downloads\n",
      "Downloading 407 of 543 publications\n",
      "\u001B[1;30;42mPDF downloaded\u001B[0m : document_129190.pdf to exports/pdf_downloads/0_cris_downloads\n",
      "Downloading 408 of 543 publications\n",
      "\u001B[1;30;42mPDF downloaded\u001B[0m : document_129643.pdf to exports/pdf_downloads/0_cris_downloads\n",
      "Downloading 409 of 543 publications\n",
      "\u001B[1;30;42mPDF downloaded\u001B[0m : document_129715.pdf to exports/pdf_downloads/0_cris_downloads\n",
      "Downloading 410 of 543 publications\n",
      "\u001B[1;30;42mPDF downloaded\u001B[0m : document_129762.pdf to exports/pdf_downloads/0_cris_downloads\n",
      "Downloading 411 of 543 publications\n",
      "\u001B[1;30;42mPDF downloaded\u001B[0m : document_130069.pdf to exports/pdf_downloads/0_cris_downloads\n",
      "Downloading 412 of 543 publications\n",
      "[utils.py: download_pdf] Connection Error - could not download: error type: <class 'requests.exceptions.ConnectionError'> -> HTTPConnectionPool(host='www.eccfjournal.mk', port=80): Max retries exceeded with url: /wp-content/uploads/2015/12/55-64.pdf (Caused by NewConnectionError('<urllib3.connection.HTTPConnection object at 0x7fbdf8082d90>: Failed to establish a new connection: [Errno 8] nodename nor servname provided, or not known'))\n",
      "Downloading 413 of 543 publications\n",
      "\u001B[1;30;42mPDF downloaded\u001B[0m : document_130380.pdf to exports/pdf_downloads/0_cris_downloads\n",
      "Downloading 414 of 543 publications\n",
      "[utils.py: download_PDF] PDF Download failed: 404\n",
      "Downloading 415 of 543 publications\n",
      "\u001B[1;30;42mPDF downloaded\u001B[0m : document_131445.pdf to exports/pdf_downloads/0_cris_downloads\n",
      "Downloading 416 of 543 publications\n",
      "\u001B[1;30;42mPDF downloaded\u001B[0m : document_131536.pdf to exports/pdf_downloads/0_cris_downloads\n",
      "Downloading 417 of 543 publications\n",
      "[utils.py: download_PDF] PDF Download failed: 404\n",
      "Downloading 418 of 543 publications\n",
      "[utils.py: download_PDF] PDF Download failed: 404\n",
      "Downloading 419 of 543 publications\n",
      "[utils.py: download_PDF] PDF Download failed: 404\n",
      "Downloading 420 of 543 publications\n",
      "\u001B[1;30;42mPDF downloaded\u001B[0m : document_131863.pdf to exports/pdf_downloads/0_cris_downloads\n",
      "Downloading 421 of 543 publications\n",
      "\u001B[1;30;42mPDF downloaded\u001B[0m : document_132153.pdf to exports/pdf_downloads/0_cris_downloads\n",
      "Downloading 422 of 543 publications\n",
      "\u001B[1;30;42mPDF downloaded\u001B[0m : document_132154.pdf to exports/pdf_downloads/0_cris_downloads\n",
      "Downloading 423 of 543 publications\n",
      "\u001B[1;30;42mPDF downloaded\u001B[0m : document_132772.pdf to exports/pdf_downloads/0_cris_downloads\n",
      "Downloading 424 of 543 publications\n",
      "\u001B[1;30;42mPDF downloaded\u001B[0m : document_133653.pdf to exports/pdf_downloads/0_cris_downloads\n",
      "Downloading 425 of 543 publications\n",
      "\u001B[1;30;42mPDF downloaded\u001B[0m : document_133953.pdf to exports/pdf_downloads/0_cris_downloads\n",
      "Downloading 426 of 543 publications\n",
      "\u001B[1;30;42mPDF downloaded\u001B[0m : document_134625.pdf to exports/pdf_downloads/0_cris_downloads\n",
      "Downloading 427 of 543 publications\n",
      "\u001B[1;30;42mPDF downloaded\u001B[0m : document_136683.pdf to exports/pdf_downloads/0_cris_downloads\n",
      "Downloading 428 of 543 publications\n",
      "[utils.py: download_pdf] Connection Error - could not download: error type: <class 'requests.exceptions.ConnectionError'> -> HTTPSConnectionPool(host='wi2017.blob.core.windows.net', port=443): Max retries exceeded with url: /website/download/papers/WI2017-0195.pdf (Caused by NewConnectionError('<urllib3.connection.HTTPSConnection object at 0x7fbe2908c370>: Failed to establish a new connection: [Errno 8] nodename nor servname provided, or not known'))\n",
      "Downloading 429 of 543 publications\n",
      "[utils.py: download_PDF] PDF Download failed: 404\n",
      "Downloading 430 of 543 publications\n",
      "\u001B[1;30;42mPDF downloaded\u001B[0m : document_139343.pdf to exports/pdf_downloads/0_cris_downloads\n",
      "Downloading 431 of 543 publications\n",
      "\u001B[1;30;42mPDF downloaded\u001B[0m : document_139529.pdf to exports/pdf_downloads/0_cris_downloads\n",
      "Downloading 432 of 543 publications\n",
      "\u001B[1;30;42mPDF downloaded\u001B[0m : document_139624.pdf to exports/pdf_downloads/0_cris_downloads\n",
      "Downloading 433 of 543 publications\n",
      "\u001B[1;30;42mPDF downloaded\u001B[0m : document_139625.pdf to exports/pdf_downloads/0_cris_downloads\n",
      "Downloading 434 of 543 publications\n",
      "\u001B[1;30;42mPDF downloaded\u001B[0m : document_139847.pdf to exports/pdf_downloads/0_cris_downloads\n",
      "Downloading 435 of 543 publications\n",
      "\u001B[1;30;42mPDF downloaded\u001B[0m : document_139864.pdf to exports/pdf_downloads/0_cris_downloads\n",
      "Downloading 436 of 543 publications\n",
      "\u001B[1;30;42mPDF downloaded\u001B[0m : document_140570.pdf to exports/pdf_downloads/0_cris_downloads\n",
      "Downloading 437 of 543 publications\n",
      "\u001B[1;30;42mPDF downloaded\u001B[0m : document_140960.pdf to exports/pdf_downloads/0_cris_downloads\n",
      "Downloading 438 of 543 publications\n",
      "[utils.py: download_PDF] PDF Download failed: 404\n",
      "Downloading 439 of 543 publications\n",
      "\u001B[1;30;42mPDF downloaded\u001B[0m : document_142023.pdf to exports/pdf_downloads/0_cris_downloads\n",
      "Downloading 440 of 543 publications\n",
      "\u001B[1;30;42mPDF downloaded\u001B[0m : document_142024.pdf to exports/pdf_downloads/0_cris_downloads\n",
      "Downloading 441 of 543 publications\n",
      "\u001B[1;30;42mPDF downloaded\u001B[0m : document_142413.pdf to exports/pdf_downloads/0_cris_downloads\n",
      "Downloading 442 of 543 publications\n",
      "\u001B[1;30;42mPDF downloaded\u001B[0m : document_143357.pdf to exports/pdf_downloads/0_cris_downloads\n",
      "Downloading 443 of 543 publications\n",
      "[utils.py: download_PDF] PDF Download failed: 400\n",
      "Downloading 444 of 543 publications\n",
      "\u001B[1;30;42mPDF downloaded\u001B[0m : document_144465.pdf to exports/pdf_downloads/0_cris_downloads\n",
      "Downloading 445 of 543 publications\n",
      "\u001B[1;30;42mPDF downloaded\u001B[0m : document_144958.pdf to exports/pdf_downloads/0_cris_downloads\n",
      "Downloading 446 of 543 publications\n",
      "\u001B[1;30;42mPDF downloaded\u001B[0m : document_145163.pdf to exports/pdf_downloads/0_cris_downloads\n",
      "Downloading 447 of 543 publications\n",
      "[utils.py: download_PDF] PDF Download failed: 404\n",
      "Downloading 448 of 543 publications\n",
      "\u001B[1;30;42mPDF downloaded\u001B[0m : document_145869.pdf to exports/pdf_downloads/0_cris_downloads\n",
      "Downloading 449 of 543 publications\n",
      "\u001B[1;30;42mPDF downloaded\u001B[0m : document_145870.pdf to exports/pdf_downloads/0_cris_downloads\n",
      "Downloading 450 of 543 publications\n",
      "\u001B[1;30;42mPDF downloaded\u001B[0m : document_146289.pdf to exports/pdf_downloads/0_cris_downloads\n",
      "Downloading 451 of 543 publications\n",
      "\u001B[1;30;42mPDF downloaded\u001B[0m : document_146322.pdf to exports/pdf_downloads/0_cris_downloads\n",
      "Downloading 452 of 543 publications\n",
      "\u001B[1;30;42mPDF downloaded\u001B[0m : document_146446.pdf to exports/pdf_downloads/0_cris_downloads\n",
      "Downloading 453 of 543 publications\n",
      "\u001B[1;30;42mPDF downloaded\u001B[0m : document_146448.pdf to exports/pdf_downloads/0_cris_downloads\n",
      "Downloading 454 of 543 publications\n",
      "\u001B[1;30;42mPDF downloaded\u001B[0m : document_147619.pdf to exports/pdf_downloads/0_cris_downloads\n",
      "Downloading 455 of 543 publications\n",
      "\u001B[1;30;42mPDF downloaded\u001B[0m : document_147997.pdf to exports/pdf_downloads/0_cris_downloads\n",
      "Downloading 456 of 543 publications\n",
      "\u001B[1;30;42mPDF downloaded\u001B[0m : document_149506.pdf to exports/pdf_downloads/0_cris_downloads\n",
      "Downloading 457 of 543 publications\n",
      "\u001B[1;30;42mPDF downloaded\u001B[0m : document_149510.pdf to exports/pdf_downloads/0_cris_downloads\n",
      "Downloading 458 of 543 publications\n",
      "[utils.py: download_PDF] PDF Download failed: 404\n",
      "Downloading 459 of 543 publications\n",
      "\u001B[1;30;42mPDF downloaded\u001B[0m : document_150227.pdf to exports/pdf_downloads/0_cris_downloads\n",
      "Downloading 460 of 543 publications\n",
      "\u001B[1;30;42mPDF downloaded\u001B[0m : document_150228.pdf to exports/pdf_downloads/0_cris_downloads\n",
      "Downloading 461 of 543 publications\n",
      "\u001B[1;30;42mPDF downloaded\u001B[0m : document_151028.pdf to exports/pdf_downloads/0_cris_downloads\n",
      "Downloading 462 of 543 publications\n",
      "\u001B[1;30;42mPDF downloaded\u001B[0m : document_151029.pdf to exports/pdf_downloads/0_cris_downloads\n",
      "Downloading 463 of 543 publications\n",
      "\u001B[1;30;42mPDF downloaded\u001B[0m : document_151030.pdf to exports/pdf_downloads/0_cris_downloads\n",
      "Downloading 464 of 543 publications\n",
      "\u001B[1;30;42mPDF downloaded\u001B[0m : document_151167.pdf to exports/pdf_downloads/0_cris_downloads\n",
      "Downloading 465 of 543 publications\n",
      "\u001B[1;30;42mPDF downloaded\u001B[0m : document_152484.pdf to exports/pdf_downloads/0_cris_downloads\n",
      "Downloading 466 of 543 publications\n",
      "[utils.py: download_PDF] PDF Download failed: 404\n",
      "Downloading 467 of 543 publications\n",
      "[utils.py: download_PDF] PDF Download failed: 404\n",
      "Downloading 468 of 543 publications\n",
      "[utils.py: download_PDF] PDF Download failed: 404\n",
      "Downloading 469 of 543 publications\n",
      "[utils.py: download_pdf] Connection Error - could not download: error type: <class 'requests.exceptions.MissingSchema'> -> Invalid URL 'www.ifg-muenster.de/forschen/veroeffentlichungen/2019/material/dombrowa(2019).pdf': No scheme supplied. Perhaps you meant http://www.ifg-muenster.de/forschen/veroeffentlichungen/2019/material/dombrowa(2019).pdf?\n",
      "Downloading 470 of 543 publications\n",
      "\u001B[1;30;42mPDF downloaded\u001B[0m : document_152576.pdf to exports/pdf_downloads/0_cris_downloads\n",
      "Downloading 471 of 543 publications\n",
      "\u001B[1;30;42mPDF downloaded\u001B[0m : document_152857.pdf to exports/pdf_downloads/0_cris_downloads\n",
      "Downloading 472 of 543 publications\n",
      "[utils.py: download_PDF] PDF Download failed: 403\n",
      "Downloading 473 of 543 publications\n",
      "\u001B[1;30;42mPDF downloaded\u001B[0m : document_153724.pdf to exports/pdf_downloads/0_cris_downloads\n",
      "Downloading 474 of 543 publications\n",
      "\u001B[1;30;42mPDF downloaded\u001B[0m : document_153915.pdf to exports/pdf_downloads/0_cris_downloads\n",
      "Downloading 475 of 543 publications\n",
      "[utils.py: download_PDF] PDF Download failed: 404\n",
      "Downloading 476 of 543 publications\n",
      "\u001B[1;30;42mPDF downloaded\u001B[0m : document_153974.pdf to exports/pdf_downloads/0_cris_downloads\n",
      "Downloading 477 of 543 publications\n",
      "\u001B[1;30;42mPDF downloaded\u001B[0m : document_154480.pdf to exports/pdf_downloads/0_cris_downloads\n",
      "Downloading 478 of 543 publications\n",
      "\u001B[1;30;42mPDF downloaded\u001B[0m : document_154601.pdf to exports/pdf_downloads/0_cris_downloads\n",
      "Downloading 479 of 543 publications\n",
      "\u001B[1;30;42mPDF downloaded\u001B[0m : document_154697.pdf to exports/pdf_downloads/0_cris_downloads\n",
      "Downloading 480 of 543 publications\n",
      "[utils.py: download_PDF] PDF Download failed: 404\n",
      "Downloading 481 of 543 publications\n",
      "\u001B[1;30;42mPDF downloaded\u001B[0m : document_155849.pdf to exports/pdf_downloads/0_cris_downloads\n",
      "Downloading 482 of 543 publications\n",
      "[utils.py: download_PDF] PDF Download failed: 404\n",
      "Downloading 483 of 543 publications\n",
      "[utils.py: download_PDF] PDF Download failed: 404\n",
      "Downloading 484 of 543 publications\n",
      "\u001B[1;30;42mPDF downloaded\u001B[0m : document_156264.pdf to exports/pdf_downloads/0_cris_downloads\n",
      "Downloading 485 of 543 publications\n",
      "\u001B[1;30;42mPDF downloaded\u001B[0m : document_156728.pdf to exports/pdf_downloads/0_cris_downloads\n",
      "Downloading 486 of 543 publications\n",
      "\u001B[1;30;42mPDF downloaded\u001B[0m : document_156729.pdf to exports/pdf_downloads/0_cris_downloads\n",
      "Downloading 487 of 543 publications\n",
      "\u001B[1;30;42mPDF downloaded\u001B[0m : document_156777.pdf to exports/pdf_downloads/0_cris_downloads\n",
      "Downloading 488 of 543 publications\n",
      "\u001B[1;30;42mPDF downloaded\u001B[0m : document_158409.pdf to exports/pdf_downloads/0_cris_downloads\n",
      "Downloading 489 of 543 publications\n",
      "[utils.py: download_PDF] PDF Download failed: 404\n",
      "Downloading 490 of 543 publications\n",
      "[utils.py: download_PDF] PDF Download failed: 404\n",
      "Downloading 491 of 543 publications\n",
      "[utils.py: download_PDF] PDF Download failed: 404\n",
      "Downloading 492 of 543 publications\n",
      "[utils.py: download_pdf] Connection Error - could not download: error type: <class 'requests.exceptions.ConnectionError'> -> HTTPConnectionPool(host='www.elen.ucl.ac.be', port=80): Max retries exceeded with url: /Proceedings/esann/esannpdf/es2016-116.pdf (Caused by NewConnectionError('<urllib3.connection.HTTPConnection object at 0x7fbe39bdf400>: Failed to establish a new connection: [Errno 61] Connection refused'))\n",
      "Downloading 493 of 543 publications\n",
      "[utils.py: download_pdf] Connection Error - could not download: error type: <class 'requests.exceptions.ConnectionError'> -> HTTPConnectionPool(host='www.elen.ucl.ac.be', port=80): Max retries exceeded with url: /Proceedings/esann/esannpdf/es2014-171.pdf (Caused by NewConnectionError('<urllib3.connection.HTTPConnection object at 0x7fbdf8082a30>: Failed to establish a new connection: [Errno 61] Connection refused'))\n",
      "Downloading 494 of 543 publications\n",
      "\u001B[1;30;42mPDF downloaded\u001B[0m : document_159608.pdf to exports/pdf_downloads/0_cris_downloads\n",
      "Downloading 495 of 543 publications\n",
      "\u001B[1;30;42mPDF downloaded\u001B[0m : document_159609.pdf to exports/pdf_downloads/0_cris_downloads\n",
      "Downloading 496 of 543 publications\n",
      "\u001B[1;30;42mPDF downloaded\u001B[0m : document_159699.pdf to exports/pdf_downloads/0_cris_downloads\n",
      "Downloading 497 of 543 publications\n",
      "\u001B[1;30;42mPDF downloaded\u001B[0m : document_159747.pdf to exports/pdf_downloads/0_cris_downloads\n",
      "Downloading 498 of 543 publications\n",
      "\u001B[1;30;42mPDF downloaded\u001B[0m : document_159872.pdf to exports/pdf_downloads/0_cris_downloads\n",
      "Downloading 499 of 543 publications\n",
      "\u001B[1;30;42mPDF downloaded\u001B[0m : document_159909.pdf to exports/pdf_downloads/0_cris_downloads\n",
      "Downloading 500 of 543 publications\n",
      "\u001B[1;30;42mPDF downloaded\u001B[0m : document_160092.pdf to exports/pdf_downloads/0_cris_downloads\n",
      "Downloading 501 of 543 publications\n",
      "\u001B[1;30;42mPDF downloaded\u001B[0m : document_160106.pdf to exports/pdf_downloads/0_cris_downloads\n",
      "Downloading 502 of 543 publications\n",
      "[utils.py: download_pdf] Connection Error - could not download: error type: <class 'requests.exceptions.InvalidSchema'> -> No connection adapters were found for 'ftp://ftp.cencenelec.eu/EN/ResearchInnovation/CWA/CWA17514_2020.pdf'\n",
      "Downloading 503 of 543 publications\n",
      "\u001B[1;30;42mPDF downloaded\u001B[0m : document_161145.pdf to exports/pdf_downloads/0_cris_downloads\n",
      "Downloading 504 of 543 publications\n",
      "\u001B[1;30;42mPDF downloaded\u001B[0m : document_161486.pdf to exports/pdf_downloads/0_cris_downloads\n",
      "Downloading 505 of 543 publications\n",
      "\u001B[1;30;42mPDF downloaded\u001B[0m : document_161941.pdf to exports/pdf_downloads/0_cris_downloads\n",
      "Downloading 506 of 543 publications\n",
      "\u001B[1;30;42mPDF downloaded\u001B[0m : document_162124.pdf to exports/pdf_downloads/0_cris_downloads\n",
      "Downloading 507 of 543 publications\n",
      "\u001B[1;30;42mPDF downloaded\u001B[0m : document_162127.pdf to exports/pdf_downloads/0_cris_downloads\n",
      "Downloading 508 of 543 publications\n",
      "[utils.py: download_PDF] PDF Download failed: 404\n",
      "Downloading 509 of 543 publications\n",
      "[utils.py: download_PDF] PDF Download failed: 404\n",
      "Downloading 510 of 543 publications\n",
      "[utils.py: download_pdf] Connection Error - could not download: error type: <class 'requests.exceptions.ConnectionError'> -> HTTPConnectionPool(host='www.plastikvermeidung.de', port=80): Max retries exceeded with url: /veroeffentlichungen/_wissenschaft/Plastikverpackungen%20in%20der%20textilen%20Lieferkette_Diskussionspapier_VerPlaPoS_2019.pdf (Caused by NewConnectionError('<urllib3.connection.HTTPConnection object at 0x7fbe39890cd0>: Failed to establish a new connection: [Errno 8] nodename nor servname provided, or not known'))\n",
      "Downloading 511 of 543 publications\n",
      "[utils.py: download_pdf] Connection Error - could not download: error type: <class 'requests.exceptions.ConnectionError'> -> HTTPConnectionPool(host='www.plastikvermeidung.de', port=80): Max retries exceeded with url: /veroeffentlichungen/_wissenschaft/Plastikverpackungen%20in%20der%20textilen%20Lieferkette_Diskussionspapier_VerPlaPoS_2019.pdf (Caused by NewConnectionError('<urllib3.connection.HTTPConnection object at 0x7fbe39890f10>: Failed to establish a new connection: [Errno 8] nodename nor servname provided, or not known'))\n",
      "Downloading 512 of 543 publications\n",
      "\u001B[1;30;42mPDF downloaded\u001B[0m : document_163962.pdf to exports/pdf_downloads/0_cris_downloads\n",
      "Downloading 513 of 543 publications\n",
      "\u001B[1;30;42mPDF downloaded\u001B[0m : document_163964.pdf to exports/pdf_downloads/0_cris_downloads\n",
      "Downloading 514 of 543 publications\n",
      "[utils.py: download_PDF] PDF Download failed: 404\n",
      "Downloading 515 of 543 publications\n",
      "\u001B[1;30;42mPDF downloaded\u001B[0m : document_164423.pdf to exports/pdf_downloads/0_cris_downloads\n",
      "Downloading 516 of 543 publications\n",
      "\u001B[1;30;42mPDF downloaded\u001B[0m : document_165134.pdf to exports/pdf_downloads/0_cris_downloads\n",
      "Downloading 517 of 543 publications\n",
      "[utils.py: download_PDF] PDF Download failed: 404\n",
      "Downloading 518 of 543 publications\n",
      "\u001B[1;30;42mPDF downloaded\u001B[0m : document_166026.pdf to exports/pdf_downloads/0_cris_downloads\n",
      "Downloading 519 of 543 publications\n",
      "[utils.py: download_PDF] PDF Download failed: 404\n",
      "Downloading 520 of 543 publications\n",
      "\u001B[1;30;42mPDF downloaded\u001B[0m : document_166243.pdf to exports/pdf_downloads/0_cris_downloads\n",
      "Downloading 521 of 543 publications\n",
      "\u001B[1;30;42mPDF downloaded\u001B[0m : document_167254.pdf to exports/pdf_downloads/0_cris_downloads\n",
      "Downloading 522 of 543 publications\n",
      "\u001B[1;30;42mPDF downloaded\u001B[0m : document_167478.pdf to exports/pdf_downloads/0_cris_downloads\n",
      "Downloading 523 of 543 publications\n",
      "\u001B[1;30;42mPDF downloaded\u001B[0m : document_167667.pdf to exports/pdf_downloads/0_cris_downloads\n",
      "Downloading 524 of 543 publications\n",
      "[utils.py: download_pdf] Connection Error - could not download: error type: <class 'requests.exceptions.SSLError'> -> HTTPSConnectionPool(host='www.driver-project.eu', port=443): Max retries exceeded with url: /wp-content/uploads/2019/03/DRIVER_D922.41_Trial-guidance-methodology-and-guidance-tool-specifications-version-2-1_120319-FINAL.pdf (Caused by SSLError(SSLCertVerificationError(1, '[SSL: CERTIFICATE_VERIFY_FAILED] certificate verify failed: unable to get local issuer certificate (_ssl.c:1129)')))\n",
      "Downloading 525 of 543 publications\n",
      "[utils.py: download_pdf] Connection Error - could not download: error type: <class 'requests.exceptions.SSLError'> -> HTTPSConnectionPool(host='www.driver-project.eu', port=443): Max retries exceeded with url: /wp-content/uploads/2019/11/DRIVER_D922.42_Handbook-for-systematic-designing-of-trials-Final.pdf (Caused by SSLError(SSLCertVerificationError(1, '[SSL: CERTIFICATE_VERIFY_FAILED] certificate verify failed: unable to get local issuer certificate (_ssl.c:1129)')))\n",
      "Downloading 526 of 543 publications\n",
      "[utils.py: download_pdf] Connection Error - could not download: error type: <class 'requests.exceptions.SSLError'> -> HTTPSConnectionPool(host='www.driver-project.eu', port=443): Max retries exceeded with url: /wp-content/uploads/2018/06/DRIVERPLUS_D934.13_Experiment-44-Design-Report.pdf (Caused by SSLError(SSLCertVerificationError(1, '[SSL: CERTIFICATE_VERIFY_FAILED] certificate verify failed: unable to get local issuer certificate (_ssl.c:1129)')))\n",
      "Downloading 527 of 543 publications\n",
      "[utils.py: download_pdf] Connection Error - could not download: error type: <class 'requests.exceptions.MissingSchema'> -> Invalid URL 'driver-project.eu/wp-content/uploads/2019/01/DRIVER_D922.21_Trial-guidance-methodology-and-guidance-tool-specifications-version-1-compressed.pdf': No scheme supplied. Perhaps you meant http://driver-project.eu/wp-content/uploads/2019/01/DRIVER_D922.21_Trial-guidance-methodology-and-guidance-tool-specifications-version-1-compressed.pdf?\n",
      "Downloading 528 of 543 publications\n",
      "[utils.py: download_pdf] Connection Error - could not download: error type: <class 'requests.exceptions.SSLError'> -> HTTPSConnectionPool(host='www.driver-project.eu', port=443): Max retries exceeded with url: /wp-content/uploads/2019/01/DRIVER_D924.11_Materials-for-the-Training-Module-1.pdf (Caused by SSLError(SSLCertVerificationError(1, '[SSL: CERTIFICATE_VERIFY_FAILED] certificate verify failed: unable to get local issuer certificate (_ssl.c:1129)')))\n",
      "Downloading 529 of 543 publications\n",
      "[utils.py: download_pdf] Connection Error - could not download: error type: <class 'requests.exceptions.SSLError'> -> HTTPSConnectionPool(host='www.driver-project.eu', port=443): Max retries exceeded with url: /wp-content/uploads/2018/08/DRIVERPLUS_D942.11_Report-on-review-and-selection-process.pdf (Caused by SSLError(SSLCertVerificationError(1, '[SSL: CERTIFICATE_VERIFY_FAILED] certificate verify failed: unable to get local issuer certificate (_ssl.c:1129)')))\n",
      "Downloading 530 of 543 publications\n",
      "[utils.py: download_pdf] Connection Error - could not download: error type: <class 'requests.exceptions.SSLError'> -> HTTPSConnectionPool(host='driver-project.eu', port=443): Max retries exceeded with url: /wp-content/uploads/2017/11/Performance-and-Effectiveness-Metrics-in-Crisis-Management-Experiments.pdf (Caused by SSLError(SSLCertVerificationError(1, '[SSL: CERTIFICATE_VERIFY_FAILED] certificate verify failed: unable to get local issuer certificate (_ssl.c:1129)')))\n",
      "Downloading 531 of 543 publications\n",
      "[utils.py: download_PDF] PDF Download failed: 404\n",
      "Downloading 532 of 543 publications\n",
      "\u001B[1;30;42mPDF downloaded\u001B[0m : document_171186.pdf to exports/pdf_downloads/0_cris_downloads\n",
      "Downloading 533 of 543 publications\n",
      "\u001B[1;30;42mPDF downloaded\u001B[0m : document_171637.pdf to exports/pdf_downloads/0_cris_downloads\n",
      "Downloading 534 of 543 publications\n",
      "\u001B[1;30;42mPDF downloaded\u001B[0m : document_172487.pdf to exports/pdf_downloads/0_cris_downloads\n",
      "Downloading 535 of 543 publications\n",
      "\u001B[1;30;42mPDF downloaded\u001B[0m : document_173010.pdf to exports/pdf_downloads/0_cris_downloads\n",
      "Downloading 536 of 543 publications\n",
      "\u001B[1;30;42mPDF downloaded\u001B[0m : document_174277.pdf to exports/pdf_downloads/0_cris_downloads\n",
      "Downloading 537 of 543 publications\n",
      "\u001B[1;30;42mPDF downloaded\u001B[0m : document_174293.pdf to exports/pdf_downloads/0_cris_downloads\n",
      "Downloading 538 of 543 publications\n",
      "\u001B[1;30;42mPDF downloaded\u001B[0m : document_174423.pdf to exports/pdf_downloads/0_cris_downloads\n",
      "Downloading 539 of 543 publications\n",
      "\u001B[1;30;42mPDF downloaded\u001B[0m : document_81817283.pdf to exports/pdf_downloads/0_cris_downloads\n",
      "Downloading 540 of 543 publications\n",
      "\u001B[1;30;42mPDF downloaded\u001B[0m : document_82463225.pdf to exports/pdf_downloads/0_cris_downloads\n",
      "Downloading 541 of 543 publications\n",
      "\u001B[1;30;42mPDF downloaded\u001B[0m : document_82723581.pdf to exports/pdf_downloads/0_cris_downloads\n",
      "Downloading 542 of 543 publications\n",
      "\u001B[1;30;42mPDF downloaded\u001B[0m : document_82732973.pdf to exports/pdf_downloads/0_cris_downloads\n",
      "Downloading 543 of 543 publications\n",
      "\u001B[1;30;42mPDF downloaded\u001B[0m : document_82752916.pdf to exports/pdf_downloads/0_cris_downloads\n"
     ]
    }
   ],
   "source": [
    "def download_pdf_from_cris(df_publications):\n",
    "    df_prepared = df_publications[df_publications['url'].notna()]\n",
    "    df_prepared = df_prepared[df_prepared['url'].str.endswith('.pdf')]\n",
    "    df_prepared = df_prepared[['id', 'url']]\n",
    "    df_prepared = df_prepared.reset_index(drop=True)\n",
    "\n",
    "    folder = 'exports/pdf_downloads/0_cris_downloads'\n",
    "    for index, row in df_prepared.iterrows():\n",
    "        print(f'Downloading {index + 1} of {len(df_prepared)} publications')\n",
    "        filename = f'document_{row[\"id\"]}'\n",
    "        pdf_url = row['url']\n",
    "        utils.download_pdf(url=pdf_url, filename=filename, write_folder_path=folder, timeout=10)\n",
    "\n",
    "\n",
    "download_pdf_from_cris(df_publications)\n",
    "\n"
   ],
   "metadata": {
    "collapsed": false,
    "pycharm": {
     "name": "#%%\n"
    }
   }
  },
  {
   "cell_type": "markdown",
   "source": [
    "### Example: Finding missing keywords\n",
    "Searching for publications that are not complete, with the scrape we could get the missing keywords here"
   ],
   "metadata": {
    "collapsed": false,
    "pycharm": {
     "name": "#%% md\n"
    }
   }
  },
  {
   "cell_type": "code",
   "execution_count": 22,
   "outputs": [
    {
     "data": {
      "text/plain": "           id   cris_id  cris_c4_id  \\\n1703    22913  17292119       22913   \n1797    25524  17456544       25524   \n2258    30720  17807442       30720   \n2737    46125  18894525       46125   \n2914    48566  19063464       48566   \n4133    80987  21568164       80987   \n4872    92164  20829855       92164   \n5386    99652  20345089       99652   \n5429   101077  20258749      101077   \n5628   104246  20053043      104246   \n5704   105297  19979297      105297   \n5741   105530  19965578      105530   \n6190   108664  19785480      108664   \n6316   110807  24209894      110807   \n6412   114996  23900550      114996   \n6724   116534  23797635      116534   \n6779   117697  23714719      117697   \n6965   119309  23644587      119309   \n7105   119689  23615857      119689   \n7555   127519   4518005      127519   \n8084   131015  14077460      131015   \n8085   131017  14077627      131017   \n8086   131018  14077707      131018   \n8087   131019  14077787      131019   \n8160   132255  16452315      132255   \n8664   143040  61330996      143040   \n8665   143041  61330897      143041   \n8795   145495  61172974      145495   \n8815   146464  61089188      146464   \n8816   146465  61089089      146465   \n8831   146839  61057348      146839   \n9134   148210  60937468      148210   \n9184   150242  60808068      150242   \n9210   150841  60754924      150841   \n9211   150911  60748666      150911   \n9214   150998  60741026      150998   \n9582   157855  60159236      157855   \n9591   158258  60123773      158258   \n9597   158580  60095426      158580   \n9602   158762  60078675      158762   \n9798   161186  73882517      161186   \n10120  166025  77667418      166025   \n10425  169525  80037894      169525   \n10427  169547  80035627      169547   \n10436  170005  79994853      170005   \n10522  172582  79754068      172582   \n10535  172690  79743147      172690   \n10587  173594  79654159      173594   \n\n                                                   title  subtitle  \\\n1703   Tracking down the business cycle: A dynamic fa...       NaN   \n1797   The Dynamic of Bicycle Finals: A Theoretical a...       NaN   \n2258                          The Absent-Minded Prisoner       NaN   \n2737   Rankings von Zeitschriften und Personen in der...       NaN   \n2914   Arbeitsmarktregulierung und nachvertraglicher ...       NaN   \n4133   Why Social Currency Becomes a Key Driver of a ...       NaN   \n4872   Graph Theory and Model Collection Management –...       NaN   \n5386   Bitcoin: A First Legal Analysis – with referen...       NaN   \n5429   Improving the State of the Art in Inexact TSP ...       NaN   \n5628   Extending Battery Management Systems for Makin...       NaN   \n5704   Scholars’ Physical Appearance, Research Perfor...       NaN   \n5741             Do Governments Tax Agglomeration Rents?       NaN   \n6190   The role and impact of comparison websites on ...       NaN   \n6316   Guiding the Introduction of Big Data in Organi...       NaN   \n6412   The R-Package FLACCO for Exploratory Landscape...       NaN   \n6724   ASlib: A Benchmark Library for Algorithm Selec...       NaN   \n6779    Medication infrastructure development in Germany       NaN   \n6965   Not all digital word of mouth is created equal...       NaN   \n7105   Empirical Generalizations on the Impact of Sta...       NaN   \n7555   All Citizens Are the Same, Aren’t They? – Deve...       NaN   \n8084             Grundlagen der Informationsmodellierung       NaN   \n8085   Entwicklung und Anwendung der Cooperation Expe...       NaN   \n8086   Management von Informationsobjekten in hybride...       NaN   \n8087   Erfahrbarkeit von hybriden Wertschöpfungsnetzw...       NaN   \n8160   A longitudinal comparison of capital structure...       NaN   \n8664                              Tutorials at PPSN 2018       NaN   \n8665                              Workshops at PPSN 2018       NaN   \n8795   Multimodality in Multi-Objective Optimization ...       NaN   \n8815   Interaktive, digitale Einkaufserlebnisse in In...       NaN   \n8816   Gestaltungsprinzipien für mobile, kontextbezog...       NaN   \n8831   From one-stop shop to no-stop shop: An e-gover...       NaN   \n9134   The Art of Structuring - Bridging the Gap Betw...       NaN   \n9184   App Adoption: The Effect On Purchasing Of Cust...       NaN   \n9210   Fiscal disparity, institutions and asymmetric ...       NaN   \n9211   Market reaction to asymmetric cost behavior: t...       NaN   \n9214   Semi-automatic inductive construction of refer...       NaN   \n9582   Standardization of Forms in Governments: A Met...       NaN   \n9591   Seven Paradoxes of Business Process Management...       NaN   \n9597   Building an Integrated Comment Moderation Syst...       NaN   \n9602   Abusive Comments in Online Media and How to Fi...       NaN   \n9798   Walking a Mile in Their Shoes—A Citizen Journe...       NaN   \n10120  High-Level Parallel Ant Colony Optimization wi...       NaN   \n10425  Hochschulübergreifende Digitale Lehr-/Lernkonz...       NaN   \n10427  Is YouTube Still a Radicalizer? An Exploratory...       NaN   \n10436            “Pay to Play” in the German Book Trade?       NaN   \n10522  Paper or Screen - Differences in Customer Pref...       NaN   \n10535  AI-Based Digital Assistants: Opportunities, Th...       NaN   \n10587  Do Environmental Policies Affect MNEs’ Foreign...       NaN   \n\n       title_in_source language external  content_type peer_reviewed  ...  \\\n1703               NaN  English      NaN           NaN            Ja  ...   \n1797               NaN  English       Ja           NaN            Ja  ...   \n2258               NaN  English       Ja           NaN            Ja  ...   \n2737               NaN   German       Ja           NaN            Ja  ...   \n2914               NaN   German     Nein           NaN            Ja  ...   \n4133               NaN  English       Ja           NaN            Ja  ...   \n4872               NaN  English       Ja           NaN            Ja  ...   \n5386               NaN  English       Ja           NaN            Ja  ...   \n5429               NaN  English       Ja           NaN            Ja  ...   \n5628               NaN  English       Ja           NaN            Ja  ...   \n5704               NaN  English       Ja           NaN            Ja  ...   \n5741               NaN  English       Ja           NaN            Ja  ...   \n6190               NaN  English       Ja           NaN            Ja  ...   \n6316               NaN  English       Ja           NaN            Ja  ...   \n6412               NaN  English       Ja           NaN            Ja  ...   \n6724               NaN  English       Ja           NaN            Ja  ...   \n6779               NaN  English       Ja           NaN            Ja  ...   \n6965               NaN  English       Ja           NaN            Ja  ...   \n7105               NaN  English       Ja           NaN            Ja  ...   \n7555               NaN  English       Ja           NaN            Ja  ...   \n8084               NaN   German       Ja           NaN          Nein  ...   \n8085               NaN   German       Ja           NaN          Nein  ...   \n8086               NaN   German       Ja           NaN          Nein  ...   \n8087               NaN   German       Ja           NaN          Nein  ...   \n8160               NaN  English       Ja           NaN            Ja  ...   \n8664               NaN  English       Ja           NaN            Ja  ...   \n8665               NaN  English       Ja           NaN            Ja  ...   \n8795               NaN  English       Ja           NaN            Ja  ...   \n8815               NaN   German       Ja           NaN            Ja  ...   \n8816               NaN   German       Ja           NaN            Ja  ...   \n8831               NaN  English       Ja           NaN            Ja  ...   \n9134               NaN  English       Ja           NaN          Nein  ...   \n9184               NaN  English     Nein           NaN            Ja  ...   \n9210               NaN  English       Ja           NaN            Ja  ...   \n9211               NaN  English       Ja           NaN            Ja  ...   \n9214               NaN  English       Ja           NaN            Ja  ...   \n9582               NaN  English       Ja           NaN            Ja  ...   \n9591               NaN  English       Ja           NaN            Ja  ...   \n9597               NaN  English       Ja           NaN            Ja  ...   \n9602               NaN  English       Ja           NaN            Ja  ...   \n9798               NaN  English       Ja           NaN            Ja  ...   \n10120              NaN  English       Ja           NaN            Ja  ...   \n10425              NaN   German       Ja           NaN            Ja  ...   \n10427              NaN  English       Ja           NaN            Ja  ...   \n10436              NaN  English       Ja           NaN          Nein  ...   \n10522              NaN  English     Nein           NaN            Ja  ...   \n10535              NaN  English     Nein           NaN          Nein  ...   \n10587              NaN  English       Ja           NaN            Ja  ...   \n\n                                title_of_series               place  \\\n1703                                        NaN                 NaN   \n1797                                        NaN             Münster   \n2258                                        NaN                 NaN   \n2737                                        NaN             Münster   \n2914                                        NaN                 NaN   \n4133                                        NaN                 NaN   \n4872                                        NaN                 NaN   \n5386                                        NaN                 NaN   \n5429                                        NaN                Cham   \n5628          Lecture Notes in Computer Science                 NaN   \n5704                                        NaN                 NaN   \n5741                                        NaN                 NaN   \n6190                                        NaN                 NaN   \n6316                                        NaN                 NaN   \n6412                                        NaN                 NaN   \n6724                                        NaN                 NaN   \n6779                         Health Informatics                 NaN   \n6965                                        NaN                 NaN   \n7105                                        NaN                 NaN   \n7555   Lecture Notes in Computer Science (LNCS)                 NaN   \n8084                                        NaN  Berlin, Heidelberg   \n8085                                        NaN  Berlin, Heidelberg   \n8086                                        NaN  Berlin, Heidelberg   \n8087                                        NaN  Berlin, Heidelberg   \n8160                                        NaN                 NaN   \n8664                                        NaN                Cham   \n8665                                        NaN                Cham   \n8795          Lecture Notes in Computer Science                 NaN   \n8815                                Edition HMD           Wiesbaden   \n8816                                Edition HMD           Wiesbaden   \n8831                                        NaN                 NaN   \n9134                                        NaN                 NaN   \n9184                                        NaN                 NaN   \n9210                                        NaN                 NaN   \n9211                                        NaN                 NaN   \n9214                                        NaN                 NaN   \n9582                                        NaN                 NaN   \n9591                                        NaN                 NaN   \n9597                                        NaN                 NaN   \n9602                                        NaN                 NaN   \n9798   Lecture Notes in Computer Science (LNCS)                Cham   \n10120                                       NaN                 NaN   \n10425                                       NaN                 NaN   \n10427                                       NaN                Cham   \n10436                                       NaN                 NaN   \n10522                                       NaN                 NaN   \n10535                                       NaN                 NaN   \n10587                                       NaN                 NaN   \n\n                               publisher               isbn  \\\n1703                                 NaN                NaN   \n1797                                 NaN                NaN   \n2258                                 NaN                NaN   \n2737                                 NaN                NaN   \n2914                                 NaN                NaN   \n4133                                 NaN                NaN   \n4872                                 NaN                NaN   \n5386                                 NaN                NaN   \n5429   Springer International Publishing                NaN   \n5628   Springer International Publishing                NaN   \n5704                                 NaN                NaN   \n5741                                 NaN                NaN   \n6190                                 NaN                NaN   \n6316                                 NaN                NaN   \n6412                                 NaN                NaN   \n6724                                 NaN                NaN   \n6779   Springer International Publishing  978-3-319-51020-0   \n6965                                 NaN                NaN   \n7105                                 NaN                NaN   \n7555                            Springer  978-3-319-64676-3   \n8084                     Springer Gabler  978-3-662-55361-9   \n8085                     Springer Gabler  978-3-662-55361-9   \n8086                     Springer Gabler  978-3-662-55361-9   \n8087                     Springer Gabler  978-3-662-55361-9   \n8160                                 NaN                NaN   \n8664   Springer International Publishing  978-3-319-99259-4   \n8665   Springer International Publishing  978-3-319-99259-4   \n8795                            Springer                NaN   \n8815                     Springer Vieweg  978-3-658-22541-4   \n8816                     Springer Vieweg  978-3-658-22541-4   \n8831                                 NaN                NaN   \n9134   Springer International Publishing  978-3-030-06233-0   \n9184                                 NaN                NaN   \n9210                                 NaN                NaN   \n9211                                 NaN                NaN   \n9214                                 NaN                NaN   \n9582                                 NaN                NaN   \n9591                                 NaN                NaN   \n9597                                 NaN                NaN   \n9602                                 NaN                NaN   \n9798                            Springer                NaN   \n10120                                NaN                NaN   \n10425                                NaN                NaN   \n10427  Springer International Publishing                NaN   \n10436                                NaN                NaN   \n10522                                NaN                NaN   \n10535                                NaN                NaN   \n10587                                NaN                NaN   \n\n                                 doi  \\\n1703       10.1016/j.eeh.2009.04.002   \n1797   10.1016/S0313-5926(09)50037-9   \n2258       10.1007/s10108-006-9011-1   \n2737       10.1007/s12354-010-0119-8   \n2914     10.1007/978-3-663-07711-4_9   \n4133       10.1016/j.lrp.2012.11.004   \n4872       10.1007/s10257-014-0243-6   \n5386     10.1007/978-3-662-44774-1_4   \n5429    10.1007/978-3-319-19084-6_18   \n5628    10.1007/978-3-319-18714-3_37   \n5704       10.1007/s11192-015-1623-5   \n5741       10.1016/j.jue.2012.11.004   \n6190       10.1007/s40558-015-0037-9   \n6316                             NaN   \n6412        10.1109/CEC.2016.7748359   \n6724    10.1016/j.artint.2016.04.003   \n6779       10.1007/978-3-319-51020-0   \n6965                             NaN   \n7105                             NaN   \n7555       10.1007/978-3-319-64677-0   \n8084     10.1007/978-3-662-55362-6_2   \n8085     10.1007/978-3-662-55362-6_2   \n8086     10.1007/978-3-662-55362-6_3   \n8087     10.1007/978-3-662-55362-6_3   \n8160                             NaN   \n8664    10.1007/978-3-319-99259-4_38   \n8665    10.1007/978-3-319-99259-4_39   \n8795    10.1007/978-3-030-12598-1_11   \n8815     10.1007/978-3-658-22542-1_8   \n8816     10.1007/978-3-658-22542-1_9   \n8831       10.1016/j.giq.2018.11.010   \n9134       10.1007/978-3-030-06234-7   \n9184    10.1016/j.intmar.2018.12.001   \n9210   10.1016/j.econlet.2019.04.029   \n9211      10.1007/s11846-019-00341-8   \n9214        10.1016/j.is.2019.03.001   \n9582      10.1007/s12599-019-00623-1   \n9591      10.1007/s12599-020-00646-z   \n9597     10.1007/978-3-030-49576-3_6   \n9602     10.1007/978-3-030-61841-4_9   \n9798    10.1007/978-3-030-57599-1_13   \n10120     10.1007/s10766-021-00714-1   \n10425     10.1365/s40702-021-00802-3   \n10427    10.1007/978-3-030-87031-7_4   \n10436     10.1007/s12109-021-09804-x   \n10522                            NaN   \n10535     10.1007/s12599-019-00600-8   \n10587     10.1007/s11575-021-00458-7   \n\n                                                     url  \\\n1703   http://www.sciencedirect.com/science?_ob=Artic...   \n1797   http://www.sciencedirect.com/science/article/p...   \n2258   http://link.springer.com/article/10.1007%2Fs10...   \n2737   http://link.springer.com/article/10.1007%2Fs12...   \n2914   http://link.springer.com/chapter/10.1007%2F978...   \n4133   http://www.sciencedirect.com/science/article/p...   \n4872   http://link.springer.com/article/10.1007/s1025...   \n5386   http://link.springer.com/chapter/10.1007%2F978...   \n5429   http://download.springer.com/static/pdf/93/chp...   \n5628   https://link.springer.com/content/pdf/10.1007%...   \n5704   http://link.springer.com/article/10.1007/s1119...   \n5741   http://www.sciencedirect.com/science/article/p...   \n6190   http://link.springer.com/article/10.1007/s4055...   \n6316   http://ieeexplore.ieee.org/xpls/abs_all.jsp?ar...   \n6412   http://ieeexplore.ieee.org/stamp/stamp.jsp?arn...   \n6724   http://www.sciencedirect.com/science/article/p...   \n6779   https://link.springer.com/book/10.1007%2F978-3...   \n6965   http://www.sciencedirect.com/science/article/p...   \n7105   http://www.sciencedirect.com/science/article/p...   \n7555   https://link.springer.com/book/10.1007/978-3-3...   \n8084   https://link.springer.com/chapter/10.1007/978-...   \n8085   https://link.springer.com/chapter/10.1007/978-...   \n8086   https://link.springer.com/chapter/10.1007/978-...   \n8087   https://link.springer.com/chapter/10.1007/978-...   \n8160   http://www.sciencedirect.com/science/article/p...   \n8664   https://link.springer.com/chapter/10.1007/978-...   \n8665   https://link.springer.com/chapter/10.1007/978-...   \n8795   https://link.springer.com/chapter/10.1007/978-...   \n8815   https://link.springer.com/chapter/10.1007/978-...   \n8816   https://link.springer.com/chapter/10.1007/978-...   \n8831   https://www.sciencedirect.com/science/article/...   \n9134   https://link.springer.com/book/10.1007%2F978-3...   \n9184   https://www.sciencedirect.com/science/article/...   \n9210   https://www.sciencedirect.com/science/article/...   \n9211   https://link.springer.com/article/10.1007/s118...   \n9214   https://www.sciencedirect.com/science/article/...   \n9582   https://link.springer.com/article/10.1007%2Fs1...   \n9591   https://link.springer.com/article/10.1007/s125...   \n9597   https://link.springer.com/chapter/10.1007/978-...   \n9602   https://link.springer.com/chapter/10.1007%2F97...   \n9798   https://link.springer.com/chapter/10.1007/978-...   \n10120  https://link.springer.com/article/10.1007/s107...   \n10425  https://link.springer.com/article/10.1365%2Fs4...   \n10427  https://link.springer.com/chapter/10.1007/978-...   \n10436  https://link.springer.com/article/10.1007/s121...   \n10522       https://ieeexplore.ieee.org/document/7070223   \n10535  https://link.springer.com/article/10.1007/s125...   \n10587  https://link.springer.com/article/10.1007/s115...   \n\n                                                 authors  \\\n1703                                Sarferaz S, Uebele M   \n1797                      Dilger Alexander, Geyer Hannah   \n2258                                    Dilger Alexander   \n2737                                    Dilger Alexander   \n2914        Frick Bernd, Dilger Alexander, Prinz Joachim   \n4133   Lobschat L, Zinnbauer MA, Pallas F, Joachimsth...   \n4872   Breuker Dominic, Delfmann Patrick, Dietrich Ha...   \n5386                                        Boehm, Pesch   \n5429   Kotthoff Lars, Kerschke Pascal, Hoos Holger H,...   \n5628   Monhof Markus, Beverungen Daniel, Klör Benjami...   \n5704   Dilger Alexander, Lütkenhöner Laura, Müller Harry   \n5741                    Böhm T. , Koh H.  and  Riedel N.   \n6190                      Holland CP, Jacobs JA, Klein S   \n6316   Vanauer, Martin, Bohle, Carsten, & Hellingrath...   \n6412                    Kerschke Pascal, Trautmann Heike   \n6724   Bischl Bernd, Kerschke Pascal, Kotthoff Lars, ...   \n6779                             Klein S, Schellhammer S   \n6965   Marchand André, Hennig-Thurau Thorsten, Wiertz...   \n7105   Hofmann Julian, Clement Michel, Völckner Franz...   \n7555                         Distel Bettina, Becker Jörg   \n8084   Bräuer Sebastian, Knackstedt Ralf, Scholta Hen...   \n8085   Bräuer Sebastian, Scholta Hendrik, Strotmeier ...   \n8086   Runschke Florian, Dageförde Jan, Scholta Hendr...   \n8087                   Bräuer Sebastian, Scholta Hendrik   \n8160   Siqueira Ana Cristina O., Guenster Nadja, Vana...   \n8664   Pappa Gisele Lobo, Emmerich Michael TM, Bazzan...   \n8665   Purshouse Robin, Zarges Christine, Cussat-Blan...   \n8795   Grimme Christian, Kerschke Pascal, Trautmann H...   \n8815   Betzing Jan Hendrik, Beverungen Daniel, Becker...   \n8816   Betzing Jan Hendrik, Beverungen Daniel, Becker...   \n8831   Scholta Hendrik, Mertens Willem, Kowalkiewicz ...   \n9134                                                 NaN   \n9184                Liu H, Lobschat L, Verhoef P, Zhao H   \n9210                                         Farah, Alfa   \n9211                         Silge, Lisa; Wöhrmann, Arnt   \n9214   Scholta Hendrik, Niemann Marco, Delfmann Patri...   \n9582   Scholta Hendrik, Balta Dian, Räckers Michael, ...   \n9591   Beverungen Daniel, Buijs Joos, Becker Jörg, di...   \n9597   Riehle Dennis M.,\\nNiemann Marco,\\nBrunk Jens,...   \n9602   Niemann Marco, Welsing Jens, Riehle Dennis M, ...   \n9798   Scholta Hendrik, Halsbenning Sebastian, Distel...   \n10120  Menezes Breno, Herrmann Nina, Kuchen Herbert, ...   \n10425       Plattfaut Ralf, Stein Armin, Bergener Katrin   \n10427                               Markmann S, Grimme C   \n10436  Norrick-Rühl Corinna, Peter Christian, Schüler...   \n10522  Berger Benedikt, Matt Christian, Steininger De...   \n10535  Mädche Alexander, Legner Christine, Benlian Al...   \n10587  Zilja Flladina, Adarkwah Gilbert, Sabel Christ...   \n\n                                                 strings  \\\n1703   [[[entry:ApaHtml]]]Sarferaz, S., & Uebele, M. ...   \n1797   [[[entry:ApaHtml]]]Dilger, A., & Geyer, H. (20...   \n2258   [[[entry:ApaHtml]]]Dilger, A. (2006). The Abse...   \n2737   [[[entry:ApaHtml]]]Dilger, A. (2010). Rankings...   \n2914   [[[entry:ApaHtml]]]Frick, B., Dilger, A., & Pr...   \n4133   [[[entry:ApaHtml]]]Lobschat, L., Zinnbauer, M....   \n4872   [[[entry:ApaHtml]]]Breuker, D., Delfmann, P., ...   \n5386   [[[entry:ApaHtml]]]Boehm, P. (2014). Bitcoin: ...   \n5429   [[[entry:ApaHtml]]]Kotthoff, L., Kerschke, P.,...   \n5628   [[[entry:ApaHtml]]]Monhof, M., Beverungen, D.,...   \n5704   [[[entry:ApaHtml]]]Dilger, A., Lütkenhöner, L....   \n5741   [[[entry:ApaHtml]]]Böhm, T., & Koh, H.  a.  R....   \n6190   [[[entry:ApaHtml]]]Holland, C., Jacobs, J., & ...   \n6316   [[[entry:ApaHtml]]]Vanauer, M., Bohle, C., & H...   \n6412   [[[entry:ApaHtml]]]Kerschke, P., & Trautmann, ...   \n6724   [[[entry:ApaHtml]]]Bischl, B., Kerschke, P., K...   \n6779   [[[entry:ApaHtml]]]Klein, S., & Schellhammer, ...   \n6965   [[[entry:ApaHtml]]]Marchand, A., Hennig-Thurau...   \n7105   [[[entry:ApaHtml]]]Hofmann, J., Clement, M., V...   \n7555   [[[entry:ApaHtml]]]Distel, B., & Becker, J. (2...   \n8084   [[[entry:ApaHtml]]]Bräuer, S., Knackstedt, R.,...   \n8085   [[[entry:ApaHtml]]]Bräuer, S., Scholta, H., St...   \n8086   [[[entry:ApaHtml]]]Runschke, F., Dageförde, J....   \n8087   [[[entry:ApaHtml]]]Bräuer, S., & Scholta, H. (...   \n8160   [[[entry:ApaHtml]]]Siqueira, A. C. O., Guenste...   \n8664   [[[entry:ApaHtml]]]Pappa, G. L., Emmerich, M. ...   \n8665   [[[entry:ApaHtml]]]Purshouse, R., Zarges, C., ...   \n8795   [[[entry:ApaHtml]]]Grimme, C., Kerschke, P., &...   \n8815   [[[entry:ApaHtml]]]Betzing, J. H., Beverungen,...   \n8816   [[[entry:ApaHtml]]]Betzing, J. H., Beverungen,...   \n8831   [[[entry:ApaHtml]]]Scholta, H., Mertens, W., K...   \n9134   [[[entry:ApaHtml]]]Bergener, K., Räckers, M., ...   \n9184   [[[entry:ApaHtml]]]Liu, H., Lobschat, L., Verh...   \n9210   [[[entry:ApaHtml]]]Farah, A. (2019). Fiscal di...   \n9211   [[[entry:ApaHtml]]]Silge, L., & Wöhrmann, A. (...   \n9214   [[[entry:ApaHtml]]]Scholta, H., Niemann, M., D...   \n9582   [[[entry:ApaHtml]]]Scholta, H., Balta, D., Räc...   \n9591   [[[entry:ApaHtml]]]Beverungen, D., Buijs, J., ...   \n9597   [[[entry:ApaHtml]]]Riehle, D. M., Niemann, M.,...   \n9602   [[[entry:ApaHtml]]]Niemann, M., Welsing, J., R...   \n9798   [[[entry:ApaHtml]]]Scholta, H., Halsbenning, S...   \n10120  [[[entry:ApaHtml]]]Menezes, B., Herrmann, N., ...   \n10425  [[[entry:ApaHtml]]]Plattfaut, R., Stein, A., &...   \n10427  [[[entry:ApaHtml]]]Markmann, S., & Grimme, C. ...   \n10436  [[[entry:ApaHtml]]]Norrick-Rühl, C., Peter, C....   \n10522  [[[entry:ApaHtml]]]Berger, B., Matt, C., Stein...   \n10535  [[[entry:ApaHtml]]]Mädche, A., Legner, C., Ben...   \n10587  [[[entry:ApaHtml]]]Zilja, F., Adarkwah, G., & ...   \n\n                                              sort_order client_purpose  \n1703                      7990-1060-Sarferaz S, Uebele M            NaN  \n1797            7990-1060-Dilger Alexander, Geyer Hannah            NaN  \n2258                          7993-1060-Dilger Alexander            NaN  \n2737                          7989-1060-Dilger Alexander            NaN  \n2914   7997-1060-Frick Bernd, Dilger Alexander, Prinz...            NaN  \n4133   7986-1060-Lobschat L, Zinnbauer MA, Pallas F, ...            NaN  \n4872   7984-1060-Breuker Dominic, Delfmann Patrick, D...            NaN  \n5386                              7985-1040-Boehm, Pesch            NaN  \n5429   7984-1040-Kotthoff Lars, Kerschke Pascal, Hoos...            NaN  \n5628   7984-1040-Monhof Markus, Beverungen Daniel, Kl...            NaN  \n5704   7984-1060-Dilger Alexander, Lütkenhöner Laura,...            NaN  \n5741          7986-1060-Böhm T. , Koh H.  and  Riedel N.            NaN  \n6190            7983-1060-Holland CP, Jacobs JA, Klein S            NaN  \n6316   7984-1040-Vanauer, Martin, Bohle, Carsten, & H...            NaN  \n6412          7983-1040-Kerschke Pascal, Trautmann Heike            NaN  \n6724   7983-1060-Bischl Bernd, Kerschke Pascal, Kotth...            NaN  \n6779                   7982-1030-Klein S, Schellhammer S            NaN  \n6965   7982-1060-Marchand André, Hennig-Thurau Thorst...            NaN  \n7105   7982-1060-Hofmann Julian, Clement Michel, Völc...            NaN  \n7555               7982-1040-Distel Bettina, Becker Jörg            NaN  \n8084   7982-1030-Bräuer Sebastian, Knackstedt Ralf, S...            NaN  \n8085   7982-1030-Bräuer Sebastian, Scholta Hendrik, S...            NaN  \n8086   7982-1030-Runschke Florian, Dageförde Jan, Sch...            NaN  \n8087         7982-1030-Bräuer Sebastian, Scholta Hendrik            NaN  \n8160   7981-1060-Siqueira Ana Cristina O., Guenster N...            NaN  \n8664   7981-1040-Pappa Gisele Lobo, Emmerich Michael ...            NaN  \n8665   7981-1040-Purshouse Robin, Zarges Christine, C...            NaN  \n8795   7980-1040-Grimme Christian, Kerschke Pascal, T...            NaN  \n8815   7980-1030-Betzing Jan Hendrik, Beverungen Dani...            NaN  \n8816   7980-1030-Betzing Jan Hendrik, Beverungen Dani...            NaN  \n8831   7980-1060-Scholta Hendrik, Mertens Willem, Kow...            NaN  \n9134                                          7980-1020-            NaN  \n9184      7980-1060-Liu H, Lobschat L, Verhoef P, Zhao H            NaN  \n9210                               7980-1060-Farah, Alfa            NaN  \n9211               7978-1060-Silge, Lisa; Wöhrmann, Arnt            NaN  \n9214   7980-1060-Scholta Hendrik, Niemann Marco, Delf...            NaN  \n9582   7979-1060-Scholta Hendrik, Balta Dian, Räckers...            NaN  \n9591   7979-1060-Beverungen Daniel, Buijs Joos, Becke...            NaN  \n9597   7979-1040-Riehle Dennis M.,\\nNiemann Marco,\\nB...            NaN  \n9602   7979-1040-Niemann Marco, Welsing Jens, Riehle ...            NaN  \n9798   7979-1040-Scholta Hendrik, Halsbenning Sebasti...            NaN  \n10120  7978-1060-Menezes Breno, Herrmann Nina, Kuchen...            NaN  \n10425  7978-1060-Plattfaut Ralf, Stein Armin, Bergene...            NaN  \n10427                     7978-1040-Markmann S, Grimme C            NaN  \n10436  7978-1060-Norrick-Rühl Corinna, Peter Christia...            NaN  \n10522  7984-1040-Berger Benedikt, Matt Christian, Ste...            NaN  \n10535  7980-1060-Mädche Alexander, Legner Christine, ...            NaN  \n10587  7977-1060-Zilja Flladina, Adarkwah Gilbert, Sa...            NaN  \n\n[48 rows x 46 columns]",
      "text/html": "<div>\n<style scoped>\n    .dataframe tbody tr th:only-of-type {\n        vertical-align: middle;\n    }\n\n    .dataframe tbody tr th {\n        vertical-align: top;\n    }\n\n    .dataframe thead th {\n        text-align: right;\n    }\n</style>\n<table border=\"1\" class=\"dataframe\">\n  <thead>\n    <tr style=\"text-align: right;\">\n      <th></th>\n      <th>id</th>\n      <th>cris_id</th>\n      <th>cris_c4_id</th>\n      <th>title</th>\n      <th>subtitle</th>\n      <th>title_in_source</th>\n      <th>language</th>\n      <th>external</th>\n      <th>content_type</th>\n      <th>peer_reviewed</th>\n      <th>...</th>\n      <th>title_of_series</th>\n      <th>place</th>\n      <th>publisher</th>\n      <th>isbn</th>\n      <th>doi</th>\n      <th>url</th>\n      <th>authors</th>\n      <th>strings</th>\n      <th>sort_order</th>\n      <th>client_purpose</th>\n    </tr>\n  </thead>\n  <tbody>\n    <tr>\n      <th>1703</th>\n      <td>22913</td>\n      <td>17292119</td>\n      <td>22913</td>\n      <td>Tracking down the business cycle: A dynamic fa...</td>\n      <td>NaN</td>\n      <td>NaN</td>\n      <td>English</td>\n      <td>NaN</td>\n      <td>NaN</td>\n      <td>Ja</td>\n      <td>...</td>\n      <td>NaN</td>\n      <td>NaN</td>\n      <td>NaN</td>\n      <td>NaN</td>\n      <td>10.1016/j.eeh.2009.04.002</td>\n      <td>http://www.sciencedirect.com/science?_ob=Artic...</td>\n      <td>Sarferaz S, Uebele M</td>\n      <td>[[[entry:ApaHtml]]]Sarferaz, S., &amp; Uebele, M. ...</td>\n      <td>7990-1060-Sarferaz S, Uebele M</td>\n      <td>NaN</td>\n    </tr>\n    <tr>\n      <th>1797</th>\n      <td>25524</td>\n      <td>17456544</td>\n      <td>25524</td>\n      <td>The Dynamic of Bicycle Finals: A Theoretical a...</td>\n      <td>NaN</td>\n      <td>NaN</td>\n      <td>English</td>\n      <td>Ja</td>\n      <td>NaN</td>\n      <td>Ja</td>\n      <td>...</td>\n      <td>NaN</td>\n      <td>Münster</td>\n      <td>NaN</td>\n      <td>NaN</td>\n      <td>10.1016/S0313-5926(09)50037-9</td>\n      <td>http://www.sciencedirect.com/science/article/p...</td>\n      <td>Dilger Alexander, Geyer Hannah</td>\n      <td>[[[entry:ApaHtml]]]Dilger, A., &amp; Geyer, H. (20...</td>\n      <td>7990-1060-Dilger Alexander, Geyer Hannah</td>\n      <td>NaN</td>\n    </tr>\n    <tr>\n      <th>2258</th>\n      <td>30720</td>\n      <td>17807442</td>\n      <td>30720</td>\n      <td>The Absent-Minded Prisoner</td>\n      <td>NaN</td>\n      <td>NaN</td>\n      <td>English</td>\n      <td>Ja</td>\n      <td>NaN</td>\n      <td>Ja</td>\n      <td>...</td>\n      <td>NaN</td>\n      <td>NaN</td>\n      <td>NaN</td>\n      <td>NaN</td>\n      <td>10.1007/s10108-006-9011-1</td>\n      <td>http://link.springer.com/article/10.1007%2Fs10...</td>\n      <td>Dilger Alexander</td>\n      <td>[[[entry:ApaHtml]]]Dilger, A. (2006). The Abse...</td>\n      <td>7993-1060-Dilger Alexander</td>\n      <td>NaN</td>\n    </tr>\n    <tr>\n      <th>2737</th>\n      <td>46125</td>\n      <td>18894525</td>\n      <td>46125</td>\n      <td>Rankings von Zeitschriften und Personen in der...</td>\n      <td>NaN</td>\n      <td>NaN</td>\n      <td>German</td>\n      <td>Ja</td>\n      <td>NaN</td>\n      <td>Ja</td>\n      <td>...</td>\n      <td>NaN</td>\n      <td>Münster</td>\n      <td>NaN</td>\n      <td>NaN</td>\n      <td>10.1007/s12354-010-0119-8</td>\n      <td>http://link.springer.com/article/10.1007%2Fs12...</td>\n      <td>Dilger Alexander</td>\n      <td>[[[entry:ApaHtml]]]Dilger, A. (2010). Rankings...</td>\n      <td>7989-1060-Dilger Alexander</td>\n      <td>NaN</td>\n    </tr>\n    <tr>\n      <th>2914</th>\n      <td>48566</td>\n      <td>19063464</td>\n      <td>48566</td>\n      <td>Arbeitsmarktregulierung und nachvertraglicher ...</td>\n      <td>NaN</td>\n      <td>NaN</td>\n      <td>German</td>\n      <td>Nein</td>\n      <td>NaN</td>\n      <td>Ja</td>\n      <td>...</td>\n      <td>NaN</td>\n      <td>NaN</td>\n      <td>NaN</td>\n      <td>NaN</td>\n      <td>10.1007/978-3-663-07711-4_9</td>\n      <td>http://link.springer.com/chapter/10.1007%2F978...</td>\n      <td>Frick Bernd, Dilger Alexander, Prinz Joachim</td>\n      <td>[[[entry:ApaHtml]]]Frick, B., Dilger, A., &amp; Pr...</td>\n      <td>7997-1060-Frick Bernd, Dilger Alexander, Prinz...</td>\n      <td>NaN</td>\n    </tr>\n    <tr>\n      <th>4133</th>\n      <td>80987</td>\n      <td>21568164</td>\n      <td>80987</td>\n      <td>Why Social Currency Becomes a Key Driver of a ...</td>\n      <td>NaN</td>\n      <td>NaN</td>\n      <td>English</td>\n      <td>Ja</td>\n      <td>NaN</td>\n      <td>Ja</td>\n      <td>...</td>\n      <td>NaN</td>\n      <td>NaN</td>\n      <td>NaN</td>\n      <td>NaN</td>\n      <td>10.1016/j.lrp.2012.11.004</td>\n      <td>http://www.sciencedirect.com/science/article/p...</td>\n      <td>Lobschat L, Zinnbauer MA, Pallas F, Joachimsth...</td>\n      <td>[[[entry:ApaHtml]]]Lobschat, L., Zinnbauer, M....</td>\n      <td>7986-1060-Lobschat L, Zinnbauer MA, Pallas F, ...</td>\n      <td>NaN</td>\n    </tr>\n    <tr>\n      <th>4872</th>\n      <td>92164</td>\n      <td>20829855</td>\n      <td>92164</td>\n      <td>Graph Theory and Model Collection Management –...</td>\n      <td>NaN</td>\n      <td>NaN</td>\n      <td>English</td>\n      <td>Ja</td>\n      <td>NaN</td>\n      <td>Ja</td>\n      <td>...</td>\n      <td>NaN</td>\n      <td>NaN</td>\n      <td>NaN</td>\n      <td>NaN</td>\n      <td>10.1007/s10257-014-0243-6</td>\n      <td>http://link.springer.com/article/10.1007/s1025...</td>\n      <td>Breuker Dominic, Delfmann Patrick, Dietrich Ha...</td>\n      <td>[[[entry:ApaHtml]]]Breuker, D., Delfmann, P., ...</td>\n      <td>7984-1060-Breuker Dominic, Delfmann Patrick, D...</td>\n      <td>NaN</td>\n    </tr>\n    <tr>\n      <th>5386</th>\n      <td>99652</td>\n      <td>20345089</td>\n      <td>99652</td>\n      <td>Bitcoin: A First Legal Analysis – with referen...</td>\n      <td>NaN</td>\n      <td>NaN</td>\n      <td>English</td>\n      <td>Ja</td>\n      <td>NaN</td>\n      <td>Ja</td>\n      <td>...</td>\n      <td>NaN</td>\n      <td>NaN</td>\n      <td>NaN</td>\n      <td>NaN</td>\n      <td>10.1007/978-3-662-44774-1_4</td>\n      <td>http://link.springer.com/chapter/10.1007%2F978...</td>\n      <td>Boehm, Pesch</td>\n      <td>[[[entry:ApaHtml]]]Boehm, P. (2014). Bitcoin: ...</td>\n      <td>7985-1040-Boehm, Pesch</td>\n      <td>NaN</td>\n    </tr>\n    <tr>\n      <th>5429</th>\n      <td>101077</td>\n      <td>20258749</td>\n      <td>101077</td>\n      <td>Improving the State of the Art in Inexact TSP ...</td>\n      <td>NaN</td>\n      <td>NaN</td>\n      <td>English</td>\n      <td>Ja</td>\n      <td>NaN</td>\n      <td>Ja</td>\n      <td>...</td>\n      <td>NaN</td>\n      <td>Cham</td>\n      <td>Springer International Publishing</td>\n      <td>NaN</td>\n      <td>10.1007/978-3-319-19084-6_18</td>\n      <td>http://download.springer.com/static/pdf/93/chp...</td>\n      <td>Kotthoff Lars, Kerschke Pascal, Hoos Holger H,...</td>\n      <td>[[[entry:ApaHtml]]]Kotthoff, L., Kerschke, P.,...</td>\n      <td>7984-1040-Kotthoff Lars, Kerschke Pascal, Hoos...</td>\n      <td>NaN</td>\n    </tr>\n    <tr>\n      <th>5628</th>\n      <td>104246</td>\n      <td>20053043</td>\n      <td>104246</td>\n      <td>Extending Battery Management Systems for Makin...</td>\n      <td>NaN</td>\n      <td>NaN</td>\n      <td>English</td>\n      <td>Ja</td>\n      <td>NaN</td>\n      <td>Ja</td>\n      <td>...</td>\n      <td>Lecture Notes in Computer Science</td>\n      <td>NaN</td>\n      <td>Springer International Publishing</td>\n      <td>NaN</td>\n      <td>10.1007/978-3-319-18714-3_37</td>\n      <td>https://link.springer.com/content/pdf/10.1007%...</td>\n      <td>Monhof Markus, Beverungen Daniel, Klör Benjami...</td>\n      <td>[[[entry:ApaHtml]]]Monhof, M., Beverungen, D.,...</td>\n      <td>7984-1040-Monhof Markus, Beverungen Daniel, Kl...</td>\n      <td>NaN</td>\n    </tr>\n    <tr>\n      <th>5704</th>\n      <td>105297</td>\n      <td>19979297</td>\n      <td>105297</td>\n      <td>Scholars’ Physical Appearance, Research Perfor...</td>\n      <td>NaN</td>\n      <td>NaN</td>\n      <td>English</td>\n      <td>Ja</td>\n      <td>NaN</td>\n      <td>Ja</td>\n      <td>...</td>\n      <td>NaN</td>\n      <td>NaN</td>\n      <td>NaN</td>\n      <td>NaN</td>\n      <td>10.1007/s11192-015-1623-5</td>\n      <td>http://link.springer.com/article/10.1007/s1119...</td>\n      <td>Dilger Alexander, Lütkenhöner Laura, Müller Harry</td>\n      <td>[[[entry:ApaHtml]]]Dilger, A., Lütkenhöner, L....</td>\n      <td>7984-1060-Dilger Alexander, Lütkenhöner Laura,...</td>\n      <td>NaN</td>\n    </tr>\n    <tr>\n      <th>5741</th>\n      <td>105530</td>\n      <td>19965578</td>\n      <td>105530</td>\n      <td>Do Governments Tax Agglomeration Rents?</td>\n      <td>NaN</td>\n      <td>NaN</td>\n      <td>English</td>\n      <td>Ja</td>\n      <td>NaN</td>\n      <td>Ja</td>\n      <td>...</td>\n      <td>NaN</td>\n      <td>NaN</td>\n      <td>NaN</td>\n      <td>NaN</td>\n      <td>10.1016/j.jue.2012.11.004</td>\n      <td>http://www.sciencedirect.com/science/article/p...</td>\n      <td>Böhm T. , Koh H.  and  Riedel N.</td>\n      <td>[[[entry:ApaHtml]]]Böhm, T., &amp; Koh, H.  a.  R....</td>\n      <td>7986-1060-Böhm T. , Koh H.  and  Riedel N.</td>\n      <td>NaN</td>\n    </tr>\n    <tr>\n      <th>6190</th>\n      <td>108664</td>\n      <td>19785480</td>\n      <td>108664</td>\n      <td>The role and impact of comparison websites on ...</td>\n      <td>NaN</td>\n      <td>NaN</td>\n      <td>English</td>\n      <td>Ja</td>\n      <td>NaN</td>\n      <td>Ja</td>\n      <td>...</td>\n      <td>NaN</td>\n      <td>NaN</td>\n      <td>NaN</td>\n      <td>NaN</td>\n      <td>10.1007/s40558-015-0037-9</td>\n      <td>http://link.springer.com/article/10.1007/s4055...</td>\n      <td>Holland CP, Jacobs JA, Klein S</td>\n      <td>[[[entry:ApaHtml]]]Holland, C., Jacobs, J., &amp; ...</td>\n      <td>7983-1060-Holland CP, Jacobs JA, Klein S</td>\n      <td>NaN</td>\n    </tr>\n    <tr>\n      <th>6316</th>\n      <td>110807</td>\n      <td>24209894</td>\n      <td>110807</td>\n      <td>Guiding the Introduction of Big Data in Organi...</td>\n      <td>NaN</td>\n      <td>NaN</td>\n      <td>English</td>\n      <td>Ja</td>\n      <td>NaN</td>\n      <td>Ja</td>\n      <td>...</td>\n      <td>NaN</td>\n      <td>NaN</td>\n      <td>NaN</td>\n      <td>NaN</td>\n      <td>NaN</td>\n      <td>http://ieeexplore.ieee.org/xpls/abs_all.jsp?ar...</td>\n      <td>Vanauer, Martin, Bohle, Carsten, &amp; Hellingrath...</td>\n      <td>[[[entry:ApaHtml]]]Vanauer, M., Bohle, C., &amp; H...</td>\n      <td>7984-1040-Vanauer, Martin, Bohle, Carsten, &amp; H...</td>\n      <td>NaN</td>\n    </tr>\n    <tr>\n      <th>6412</th>\n      <td>114996</td>\n      <td>23900550</td>\n      <td>114996</td>\n      <td>The R-Package FLACCO for Exploratory Landscape...</td>\n      <td>NaN</td>\n      <td>NaN</td>\n      <td>English</td>\n      <td>Ja</td>\n      <td>NaN</td>\n      <td>Ja</td>\n      <td>...</td>\n      <td>NaN</td>\n      <td>NaN</td>\n      <td>NaN</td>\n      <td>NaN</td>\n      <td>10.1109/CEC.2016.7748359</td>\n      <td>http://ieeexplore.ieee.org/stamp/stamp.jsp?arn...</td>\n      <td>Kerschke Pascal, Trautmann Heike</td>\n      <td>[[[entry:ApaHtml]]]Kerschke, P., &amp; Trautmann, ...</td>\n      <td>7983-1040-Kerschke Pascal, Trautmann Heike</td>\n      <td>NaN</td>\n    </tr>\n    <tr>\n      <th>6724</th>\n      <td>116534</td>\n      <td>23797635</td>\n      <td>116534</td>\n      <td>ASlib: A Benchmark Library for Algorithm Selec...</td>\n      <td>NaN</td>\n      <td>NaN</td>\n      <td>English</td>\n      <td>Ja</td>\n      <td>NaN</td>\n      <td>Ja</td>\n      <td>...</td>\n      <td>NaN</td>\n      <td>NaN</td>\n      <td>NaN</td>\n      <td>NaN</td>\n      <td>10.1016/j.artint.2016.04.003</td>\n      <td>http://www.sciencedirect.com/science/article/p...</td>\n      <td>Bischl Bernd, Kerschke Pascal, Kotthoff Lars, ...</td>\n      <td>[[[entry:ApaHtml]]]Bischl, B., Kerschke, P., K...</td>\n      <td>7983-1060-Bischl Bernd, Kerschke Pascal, Kotth...</td>\n      <td>NaN</td>\n    </tr>\n    <tr>\n      <th>6779</th>\n      <td>117697</td>\n      <td>23714719</td>\n      <td>117697</td>\n      <td>Medication infrastructure development in Germany</td>\n      <td>NaN</td>\n      <td>NaN</td>\n      <td>English</td>\n      <td>Ja</td>\n      <td>NaN</td>\n      <td>Ja</td>\n      <td>...</td>\n      <td>Health Informatics</td>\n      <td>NaN</td>\n      <td>Springer International Publishing</td>\n      <td>978-3-319-51020-0</td>\n      <td>10.1007/978-3-319-51020-0</td>\n      <td>https://link.springer.com/book/10.1007%2F978-3...</td>\n      <td>Klein S, Schellhammer S</td>\n      <td>[[[entry:ApaHtml]]]Klein, S., &amp; Schellhammer, ...</td>\n      <td>7982-1030-Klein S, Schellhammer S</td>\n      <td>NaN</td>\n    </tr>\n    <tr>\n      <th>6965</th>\n      <td>119309</td>\n      <td>23644587</td>\n      <td>119309</td>\n      <td>Not all digital word of mouth is created equal...</td>\n      <td>NaN</td>\n      <td>NaN</td>\n      <td>English</td>\n      <td>Ja</td>\n      <td>NaN</td>\n      <td>Ja</td>\n      <td>...</td>\n      <td>NaN</td>\n      <td>NaN</td>\n      <td>NaN</td>\n      <td>NaN</td>\n      <td>NaN</td>\n      <td>http://www.sciencedirect.com/science/article/p...</td>\n      <td>Marchand André, Hennig-Thurau Thorsten, Wiertz...</td>\n      <td>[[[entry:ApaHtml]]]Marchand, A., Hennig-Thurau...</td>\n      <td>7982-1060-Marchand André, Hennig-Thurau Thorst...</td>\n      <td>NaN</td>\n    </tr>\n    <tr>\n      <th>7105</th>\n      <td>119689</td>\n      <td>23615857</td>\n      <td>119689</td>\n      <td>Empirical Generalizations on the Impact of Sta...</td>\n      <td>NaN</td>\n      <td>NaN</td>\n      <td>English</td>\n      <td>Ja</td>\n      <td>NaN</td>\n      <td>Ja</td>\n      <td>...</td>\n      <td>NaN</td>\n      <td>NaN</td>\n      <td>NaN</td>\n      <td>NaN</td>\n      <td>NaN</td>\n      <td>http://www.sciencedirect.com/science/article/p...</td>\n      <td>Hofmann Julian, Clement Michel, Völckner Franz...</td>\n      <td>[[[entry:ApaHtml]]]Hofmann, J., Clement, M., V...</td>\n      <td>7982-1060-Hofmann Julian, Clement Michel, Völc...</td>\n      <td>NaN</td>\n    </tr>\n    <tr>\n      <th>7555</th>\n      <td>127519</td>\n      <td>4518005</td>\n      <td>127519</td>\n      <td>All Citizens Are the Same, Aren’t They? – Deve...</td>\n      <td>NaN</td>\n      <td>NaN</td>\n      <td>English</td>\n      <td>Ja</td>\n      <td>NaN</td>\n      <td>Ja</td>\n      <td>...</td>\n      <td>Lecture Notes in Computer Science (LNCS)</td>\n      <td>NaN</td>\n      <td>Springer</td>\n      <td>978-3-319-64676-3</td>\n      <td>10.1007/978-3-319-64677-0</td>\n      <td>https://link.springer.com/book/10.1007/978-3-3...</td>\n      <td>Distel Bettina, Becker Jörg</td>\n      <td>[[[entry:ApaHtml]]]Distel, B., &amp; Becker, J. (2...</td>\n      <td>7982-1040-Distel Bettina, Becker Jörg</td>\n      <td>NaN</td>\n    </tr>\n    <tr>\n      <th>8084</th>\n      <td>131015</td>\n      <td>14077460</td>\n      <td>131015</td>\n      <td>Grundlagen der Informationsmodellierung</td>\n      <td>NaN</td>\n      <td>NaN</td>\n      <td>German</td>\n      <td>Ja</td>\n      <td>NaN</td>\n      <td>Nein</td>\n      <td>...</td>\n      <td>NaN</td>\n      <td>Berlin, Heidelberg</td>\n      <td>Springer Gabler</td>\n      <td>978-3-662-55361-9</td>\n      <td>10.1007/978-3-662-55362-6_2</td>\n      <td>https://link.springer.com/chapter/10.1007/978-...</td>\n      <td>Bräuer Sebastian, Knackstedt Ralf, Scholta Hen...</td>\n      <td>[[[entry:ApaHtml]]]Bräuer, S., Knackstedt, R.,...</td>\n      <td>7982-1030-Bräuer Sebastian, Knackstedt Ralf, S...</td>\n      <td>NaN</td>\n    </tr>\n    <tr>\n      <th>8085</th>\n      <td>131017</td>\n      <td>14077627</td>\n      <td>131017</td>\n      <td>Entwicklung und Anwendung der Cooperation Expe...</td>\n      <td>NaN</td>\n      <td>NaN</td>\n      <td>German</td>\n      <td>Ja</td>\n      <td>NaN</td>\n      <td>Nein</td>\n      <td>...</td>\n      <td>NaN</td>\n      <td>Berlin, Heidelberg</td>\n      <td>Springer Gabler</td>\n      <td>978-3-662-55361-9</td>\n      <td>10.1007/978-3-662-55362-6_2</td>\n      <td>https://link.springer.com/chapter/10.1007/978-...</td>\n      <td>Bräuer Sebastian, Scholta Hendrik, Strotmeier ...</td>\n      <td>[[[entry:ApaHtml]]]Bräuer, S., Scholta, H., St...</td>\n      <td>7982-1030-Bräuer Sebastian, Scholta Hendrik, S...</td>\n      <td>NaN</td>\n    </tr>\n    <tr>\n      <th>8086</th>\n      <td>131018</td>\n      <td>14077707</td>\n      <td>131018</td>\n      <td>Management von Informationsobjekten in hybride...</td>\n      <td>NaN</td>\n      <td>NaN</td>\n      <td>German</td>\n      <td>Ja</td>\n      <td>NaN</td>\n      <td>Nein</td>\n      <td>...</td>\n      <td>NaN</td>\n      <td>Berlin, Heidelberg</td>\n      <td>Springer Gabler</td>\n      <td>978-3-662-55361-9</td>\n      <td>10.1007/978-3-662-55362-6_3</td>\n      <td>https://link.springer.com/chapter/10.1007/978-...</td>\n      <td>Runschke Florian, Dageförde Jan, Scholta Hendr...</td>\n      <td>[[[entry:ApaHtml]]]Runschke, F., Dageförde, J....</td>\n      <td>7982-1030-Runschke Florian, Dageförde Jan, Sch...</td>\n      <td>NaN</td>\n    </tr>\n    <tr>\n      <th>8087</th>\n      <td>131019</td>\n      <td>14077787</td>\n      <td>131019</td>\n      <td>Erfahrbarkeit von hybriden Wertschöpfungsnetzw...</td>\n      <td>NaN</td>\n      <td>NaN</td>\n      <td>German</td>\n      <td>Ja</td>\n      <td>NaN</td>\n      <td>Nein</td>\n      <td>...</td>\n      <td>NaN</td>\n      <td>Berlin, Heidelberg</td>\n      <td>Springer Gabler</td>\n      <td>978-3-662-55361-9</td>\n      <td>10.1007/978-3-662-55362-6_3</td>\n      <td>https://link.springer.com/chapter/10.1007/978-...</td>\n      <td>Bräuer Sebastian, Scholta Hendrik</td>\n      <td>[[[entry:ApaHtml]]]Bräuer, S., &amp; Scholta, H. (...</td>\n      <td>7982-1030-Bräuer Sebastian, Scholta Hendrik</td>\n      <td>NaN</td>\n    </tr>\n    <tr>\n      <th>8160</th>\n      <td>132255</td>\n      <td>16452315</td>\n      <td>132255</td>\n      <td>A longitudinal comparison of capital structure...</td>\n      <td>NaN</td>\n      <td>NaN</td>\n      <td>English</td>\n      <td>Ja</td>\n      <td>NaN</td>\n      <td>Ja</td>\n      <td>...</td>\n      <td>NaN</td>\n      <td>NaN</td>\n      <td>NaN</td>\n      <td>NaN</td>\n      <td>NaN</td>\n      <td>http://www.sciencedirect.com/science/article/p...</td>\n      <td>Siqueira Ana Cristina O., Guenster Nadja, Vana...</td>\n      <td>[[[entry:ApaHtml]]]Siqueira, A. C. O., Guenste...</td>\n      <td>7981-1060-Siqueira Ana Cristina O., Guenster N...</td>\n      <td>NaN</td>\n    </tr>\n    <tr>\n      <th>8664</th>\n      <td>143040</td>\n      <td>61330996</td>\n      <td>143040</td>\n      <td>Tutorials at PPSN 2018</td>\n      <td>NaN</td>\n      <td>NaN</td>\n      <td>English</td>\n      <td>Ja</td>\n      <td>NaN</td>\n      <td>Ja</td>\n      <td>...</td>\n      <td>NaN</td>\n      <td>Cham</td>\n      <td>Springer International Publishing</td>\n      <td>978-3-319-99259-4</td>\n      <td>10.1007/978-3-319-99259-4_38</td>\n      <td>https://link.springer.com/chapter/10.1007/978-...</td>\n      <td>Pappa Gisele Lobo, Emmerich Michael TM, Bazzan...</td>\n      <td>[[[entry:ApaHtml]]]Pappa, G. L., Emmerich, M. ...</td>\n      <td>7981-1040-Pappa Gisele Lobo, Emmerich Michael ...</td>\n      <td>NaN</td>\n    </tr>\n    <tr>\n      <th>8665</th>\n      <td>143041</td>\n      <td>61330897</td>\n      <td>143041</td>\n      <td>Workshops at PPSN 2018</td>\n      <td>NaN</td>\n      <td>NaN</td>\n      <td>English</td>\n      <td>Ja</td>\n      <td>NaN</td>\n      <td>Ja</td>\n      <td>...</td>\n      <td>NaN</td>\n      <td>Cham</td>\n      <td>Springer International Publishing</td>\n      <td>978-3-319-99259-4</td>\n      <td>10.1007/978-3-319-99259-4_39</td>\n      <td>https://link.springer.com/chapter/10.1007/978-...</td>\n      <td>Purshouse Robin, Zarges Christine, Cussat-Blan...</td>\n      <td>[[[entry:ApaHtml]]]Purshouse, R., Zarges, C., ...</td>\n      <td>7981-1040-Purshouse Robin, Zarges Christine, C...</td>\n      <td>NaN</td>\n    </tr>\n    <tr>\n      <th>8795</th>\n      <td>145495</td>\n      <td>61172974</td>\n      <td>145495</td>\n      <td>Multimodality in Multi-Objective Optimization ...</td>\n      <td>NaN</td>\n      <td>NaN</td>\n      <td>English</td>\n      <td>Ja</td>\n      <td>NaN</td>\n      <td>Ja</td>\n      <td>...</td>\n      <td>Lecture Notes in Computer Science</td>\n      <td>NaN</td>\n      <td>Springer</td>\n      <td>NaN</td>\n      <td>10.1007/978-3-030-12598-1_11</td>\n      <td>https://link.springer.com/chapter/10.1007/978-...</td>\n      <td>Grimme Christian, Kerschke Pascal, Trautmann H...</td>\n      <td>[[[entry:ApaHtml]]]Grimme, C., Kerschke, P., &amp;...</td>\n      <td>7980-1040-Grimme Christian, Kerschke Pascal, T...</td>\n      <td>NaN</td>\n    </tr>\n    <tr>\n      <th>8815</th>\n      <td>146464</td>\n      <td>61089188</td>\n      <td>146464</td>\n      <td>Interaktive, digitale Einkaufserlebnisse in In...</td>\n      <td>NaN</td>\n      <td>NaN</td>\n      <td>German</td>\n      <td>Ja</td>\n      <td>NaN</td>\n      <td>Ja</td>\n      <td>...</td>\n      <td>Edition HMD</td>\n      <td>Wiesbaden</td>\n      <td>Springer Vieweg</td>\n      <td>978-3-658-22541-4</td>\n      <td>10.1007/978-3-658-22542-1_8</td>\n      <td>https://link.springer.com/chapter/10.1007/978-...</td>\n      <td>Betzing Jan Hendrik, Beverungen Daniel, Becker...</td>\n      <td>[[[entry:ApaHtml]]]Betzing, J. H., Beverungen,...</td>\n      <td>7980-1030-Betzing Jan Hendrik, Beverungen Dani...</td>\n      <td>NaN</td>\n    </tr>\n    <tr>\n      <th>8816</th>\n      <td>146465</td>\n      <td>61089089</td>\n      <td>146465</td>\n      <td>Gestaltungsprinzipien für mobile, kontextbezog...</td>\n      <td>NaN</td>\n      <td>NaN</td>\n      <td>German</td>\n      <td>Ja</td>\n      <td>NaN</td>\n      <td>Ja</td>\n      <td>...</td>\n      <td>Edition HMD</td>\n      <td>Wiesbaden</td>\n      <td>Springer Vieweg</td>\n      <td>978-3-658-22541-4</td>\n      <td>10.1007/978-3-658-22542-1_9</td>\n      <td>https://link.springer.com/chapter/10.1007/978-...</td>\n      <td>Betzing Jan Hendrik, Beverungen Daniel, Becker...</td>\n      <td>[[[entry:ApaHtml]]]Betzing, J. H., Beverungen,...</td>\n      <td>7980-1030-Betzing Jan Hendrik, Beverungen Dani...</td>\n      <td>NaN</td>\n    </tr>\n    <tr>\n      <th>8831</th>\n      <td>146839</td>\n      <td>61057348</td>\n      <td>146839</td>\n      <td>From one-stop shop to no-stop shop: An e-gover...</td>\n      <td>NaN</td>\n      <td>NaN</td>\n      <td>English</td>\n      <td>Ja</td>\n      <td>NaN</td>\n      <td>Ja</td>\n      <td>...</td>\n      <td>NaN</td>\n      <td>NaN</td>\n      <td>NaN</td>\n      <td>NaN</td>\n      <td>10.1016/j.giq.2018.11.010</td>\n      <td>https://www.sciencedirect.com/science/article/...</td>\n      <td>Scholta Hendrik, Mertens Willem, Kowalkiewicz ...</td>\n      <td>[[[entry:ApaHtml]]]Scholta, H., Mertens, W., K...</td>\n      <td>7980-1060-Scholta Hendrik, Mertens Willem, Kow...</td>\n      <td>NaN</td>\n    </tr>\n    <tr>\n      <th>9134</th>\n      <td>148210</td>\n      <td>60937468</td>\n      <td>148210</td>\n      <td>The Art of Structuring - Bridging the Gap Betw...</td>\n      <td>NaN</td>\n      <td>NaN</td>\n      <td>English</td>\n      <td>Ja</td>\n      <td>NaN</td>\n      <td>Nein</td>\n      <td>...</td>\n      <td>NaN</td>\n      <td>NaN</td>\n      <td>Springer International Publishing</td>\n      <td>978-3-030-06233-0</td>\n      <td>10.1007/978-3-030-06234-7</td>\n      <td>https://link.springer.com/book/10.1007%2F978-3...</td>\n      <td>NaN</td>\n      <td>[[[entry:ApaHtml]]]Bergener, K., Räckers, M., ...</td>\n      <td>7980-1020-</td>\n      <td>NaN</td>\n    </tr>\n    <tr>\n      <th>9184</th>\n      <td>150242</td>\n      <td>60808068</td>\n      <td>150242</td>\n      <td>App Adoption: The Effect On Purchasing Of Cust...</td>\n      <td>NaN</td>\n      <td>NaN</td>\n      <td>English</td>\n      <td>Nein</td>\n      <td>NaN</td>\n      <td>Ja</td>\n      <td>...</td>\n      <td>NaN</td>\n      <td>NaN</td>\n      <td>NaN</td>\n      <td>NaN</td>\n      <td>10.1016/j.intmar.2018.12.001</td>\n      <td>https://www.sciencedirect.com/science/article/...</td>\n      <td>Liu H, Lobschat L, Verhoef P, Zhao H</td>\n      <td>[[[entry:ApaHtml]]]Liu, H., Lobschat, L., Verh...</td>\n      <td>7980-1060-Liu H, Lobschat L, Verhoef P, Zhao H</td>\n      <td>NaN</td>\n    </tr>\n    <tr>\n      <th>9210</th>\n      <td>150841</td>\n      <td>60754924</td>\n      <td>150841</td>\n      <td>Fiscal disparity, institutions and asymmetric ...</td>\n      <td>NaN</td>\n      <td>NaN</td>\n      <td>English</td>\n      <td>Ja</td>\n      <td>NaN</td>\n      <td>Ja</td>\n      <td>...</td>\n      <td>NaN</td>\n      <td>NaN</td>\n      <td>NaN</td>\n      <td>NaN</td>\n      <td>10.1016/j.econlet.2019.04.029</td>\n      <td>https://www.sciencedirect.com/science/article/...</td>\n      <td>Farah, Alfa</td>\n      <td>[[[entry:ApaHtml]]]Farah, A. (2019). Fiscal di...</td>\n      <td>7980-1060-Farah, Alfa</td>\n      <td>NaN</td>\n    </tr>\n    <tr>\n      <th>9211</th>\n      <td>150911</td>\n      <td>60748666</td>\n      <td>150911</td>\n      <td>Market reaction to asymmetric cost behavior: t...</td>\n      <td>NaN</td>\n      <td>NaN</td>\n      <td>English</td>\n      <td>Ja</td>\n      <td>NaN</td>\n      <td>Ja</td>\n      <td>...</td>\n      <td>NaN</td>\n      <td>NaN</td>\n      <td>NaN</td>\n      <td>NaN</td>\n      <td>10.1007/s11846-019-00341-8</td>\n      <td>https://link.springer.com/article/10.1007/s118...</td>\n      <td>Silge, Lisa; Wöhrmann, Arnt</td>\n      <td>[[[entry:ApaHtml]]]Silge, L., &amp; Wöhrmann, A. (...</td>\n      <td>7978-1060-Silge, Lisa; Wöhrmann, Arnt</td>\n      <td>NaN</td>\n    </tr>\n    <tr>\n      <th>9214</th>\n      <td>150998</td>\n      <td>60741026</td>\n      <td>150998</td>\n      <td>Semi-automatic inductive construction of refer...</td>\n      <td>NaN</td>\n      <td>NaN</td>\n      <td>English</td>\n      <td>Ja</td>\n      <td>NaN</td>\n      <td>Ja</td>\n      <td>...</td>\n      <td>NaN</td>\n      <td>NaN</td>\n      <td>NaN</td>\n      <td>NaN</td>\n      <td>10.1016/j.is.2019.03.001</td>\n      <td>https://www.sciencedirect.com/science/article/...</td>\n      <td>Scholta Hendrik, Niemann Marco, Delfmann Patri...</td>\n      <td>[[[entry:ApaHtml]]]Scholta, H., Niemann, M., D...</td>\n      <td>7980-1060-Scholta Hendrik, Niemann Marco, Delf...</td>\n      <td>NaN</td>\n    </tr>\n    <tr>\n      <th>9582</th>\n      <td>157855</td>\n      <td>60159236</td>\n      <td>157855</td>\n      <td>Standardization of Forms in Governments: A Met...</td>\n      <td>NaN</td>\n      <td>NaN</td>\n      <td>English</td>\n      <td>Ja</td>\n      <td>NaN</td>\n      <td>Ja</td>\n      <td>...</td>\n      <td>NaN</td>\n      <td>NaN</td>\n      <td>NaN</td>\n      <td>NaN</td>\n      <td>10.1007/s12599-019-00623-1</td>\n      <td>https://link.springer.com/article/10.1007%2Fs1...</td>\n      <td>Scholta Hendrik, Balta Dian, Räckers Michael, ...</td>\n      <td>[[[entry:ApaHtml]]]Scholta, H., Balta, D., Räc...</td>\n      <td>7979-1060-Scholta Hendrik, Balta Dian, Räckers...</td>\n      <td>NaN</td>\n    </tr>\n    <tr>\n      <th>9591</th>\n      <td>158258</td>\n      <td>60123773</td>\n      <td>158258</td>\n      <td>Seven Paradoxes of Business Process Management...</td>\n      <td>NaN</td>\n      <td>NaN</td>\n      <td>English</td>\n      <td>Ja</td>\n      <td>NaN</td>\n      <td>Ja</td>\n      <td>...</td>\n      <td>NaN</td>\n      <td>NaN</td>\n      <td>NaN</td>\n      <td>NaN</td>\n      <td>10.1007/s12599-020-00646-z</td>\n      <td>https://link.springer.com/article/10.1007/s125...</td>\n      <td>Beverungen Daniel, Buijs Joos, Becker Jörg, di...</td>\n      <td>[[[entry:ApaHtml]]]Beverungen, D., Buijs, J., ...</td>\n      <td>7979-1060-Beverungen Daniel, Buijs Joos, Becke...</td>\n      <td>NaN</td>\n    </tr>\n    <tr>\n      <th>9597</th>\n      <td>158580</td>\n      <td>60095426</td>\n      <td>158580</td>\n      <td>Building an Integrated Comment Moderation Syst...</td>\n      <td>NaN</td>\n      <td>NaN</td>\n      <td>English</td>\n      <td>Ja</td>\n      <td>NaN</td>\n      <td>Ja</td>\n      <td>...</td>\n      <td>NaN</td>\n      <td>NaN</td>\n      <td>NaN</td>\n      <td>NaN</td>\n      <td>10.1007/978-3-030-49576-3_6</td>\n      <td>https://link.springer.com/chapter/10.1007/978-...</td>\n      <td>Riehle Dennis M.,\\nNiemann Marco,\\nBrunk Jens,...</td>\n      <td>[[[entry:ApaHtml]]]Riehle, D. M., Niemann, M.,...</td>\n      <td>7979-1040-Riehle Dennis M.,\\nNiemann Marco,\\nB...</td>\n      <td>NaN</td>\n    </tr>\n    <tr>\n      <th>9602</th>\n      <td>158762</td>\n      <td>60078675</td>\n      <td>158762</td>\n      <td>Abusive Comments in Online Media and How to Fi...</td>\n      <td>NaN</td>\n      <td>NaN</td>\n      <td>English</td>\n      <td>Ja</td>\n      <td>NaN</td>\n      <td>Ja</td>\n      <td>...</td>\n      <td>NaN</td>\n      <td>NaN</td>\n      <td>NaN</td>\n      <td>NaN</td>\n      <td>10.1007/978-3-030-61841-4_9</td>\n      <td>https://link.springer.com/chapter/10.1007%2F97...</td>\n      <td>Niemann Marco, Welsing Jens, Riehle Dennis M, ...</td>\n      <td>[[[entry:ApaHtml]]]Niemann, M., Welsing, J., R...</td>\n      <td>7979-1040-Niemann Marco, Welsing Jens, Riehle ...</td>\n      <td>NaN</td>\n    </tr>\n    <tr>\n      <th>9798</th>\n      <td>161186</td>\n      <td>73882517</td>\n      <td>161186</td>\n      <td>Walking a Mile in Their Shoes—A Citizen Journe...</td>\n      <td>NaN</td>\n      <td>NaN</td>\n      <td>English</td>\n      <td>Ja</td>\n      <td>NaN</td>\n      <td>Ja</td>\n      <td>...</td>\n      <td>Lecture Notes in Computer Science (LNCS)</td>\n      <td>Cham</td>\n      <td>Springer</td>\n      <td>NaN</td>\n      <td>10.1007/978-3-030-57599-1_13</td>\n      <td>https://link.springer.com/chapter/10.1007/978-...</td>\n      <td>Scholta Hendrik, Halsbenning Sebastian, Distel...</td>\n      <td>[[[entry:ApaHtml]]]Scholta, H., Halsbenning, S...</td>\n      <td>7979-1040-Scholta Hendrik, Halsbenning Sebasti...</td>\n      <td>NaN</td>\n    </tr>\n    <tr>\n      <th>10120</th>\n      <td>166025</td>\n      <td>77667418</td>\n      <td>166025</td>\n      <td>High-Level Parallel Ant Colony Optimization wi...</td>\n      <td>NaN</td>\n      <td>NaN</td>\n      <td>English</td>\n      <td>Ja</td>\n      <td>NaN</td>\n      <td>Ja</td>\n      <td>...</td>\n      <td>NaN</td>\n      <td>NaN</td>\n      <td>NaN</td>\n      <td>NaN</td>\n      <td>10.1007/s10766-021-00714-1</td>\n      <td>https://link.springer.com/article/10.1007/s107...</td>\n      <td>Menezes Breno, Herrmann Nina, Kuchen Herbert, ...</td>\n      <td>[[[entry:ApaHtml]]]Menezes, B., Herrmann, N., ...</td>\n      <td>7978-1060-Menezes Breno, Herrmann Nina, Kuchen...</td>\n      <td>NaN</td>\n    </tr>\n    <tr>\n      <th>10425</th>\n      <td>169525</td>\n      <td>80037894</td>\n      <td>169525</td>\n      <td>Hochschulübergreifende Digitale Lehr-/Lernkonz...</td>\n      <td>NaN</td>\n      <td>NaN</td>\n      <td>German</td>\n      <td>Ja</td>\n      <td>NaN</td>\n      <td>Ja</td>\n      <td>...</td>\n      <td>NaN</td>\n      <td>NaN</td>\n      <td>NaN</td>\n      <td>NaN</td>\n      <td>10.1365/s40702-021-00802-3</td>\n      <td>https://link.springer.com/article/10.1365%2Fs4...</td>\n      <td>Plattfaut Ralf, Stein Armin, Bergener Katrin</td>\n      <td>[[[entry:ApaHtml]]]Plattfaut, R., Stein, A., &amp;...</td>\n      <td>7978-1060-Plattfaut Ralf, Stein Armin, Bergene...</td>\n      <td>NaN</td>\n    </tr>\n    <tr>\n      <th>10427</th>\n      <td>169547</td>\n      <td>80035627</td>\n      <td>169547</td>\n      <td>Is YouTube Still a Radicalizer? An Exploratory...</td>\n      <td>NaN</td>\n      <td>NaN</td>\n      <td>English</td>\n      <td>Ja</td>\n      <td>NaN</td>\n      <td>Ja</td>\n      <td>...</td>\n      <td>NaN</td>\n      <td>Cham</td>\n      <td>Springer International Publishing</td>\n      <td>NaN</td>\n      <td>10.1007/978-3-030-87031-7_4</td>\n      <td>https://link.springer.com/chapter/10.1007/978-...</td>\n      <td>Markmann S, Grimme C</td>\n      <td>[[[entry:ApaHtml]]]Markmann, S., &amp; Grimme, C. ...</td>\n      <td>7978-1040-Markmann S, Grimme C</td>\n      <td>NaN</td>\n    </tr>\n    <tr>\n      <th>10436</th>\n      <td>170005</td>\n      <td>79994853</td>\n      <td>170005</td>\n      <td>“Pay to Play” in the German Book Trade?</td>\n      <td>NaN</td>\n      <td>NaN</td>\n      <td>English</td>\n      <td>Ja</td>\n      <td>NaN</td>\n      <td>Nein</td>\n      <td>...</td>\n      <td>NaN</td>\n      <td>NaN</td>\n      <td>NaN</td>\n      <td>NaN</td>\n      <td>10.1007/s12109-021-09804-x</td>\n      <td>https://link.springer.com/article/10.1007/s121...</td>\n      <td>Norrick-Rühl Corinna, Peter Christian, Schüler...</td>\n      <td>[[[entry:ApaHtml]]]Norrick-Rühl, C., Peter, C....</td>\n      <td>7978-1060-Norrick-Rühl Corinna, Peter Christia...</td>\n      <td>NaN</td>\n    </tr>\n    <tr>\n      <th>10522</th>\n      <td>172582</td>\n      <td>79754068</td>\n      <td>172582</td>\n      <td>Paper or Screen - Differences in Customer Pref...</td>\n      <td>NaN</td>\n      <td>NaN</td>\n      <td>English</td>\n      <td>Nein</td>\n      <td>NaN</td>\n      <td>Ja</td>\n      <td>...</td>\n      <td>NaN</td>\n      <td>NaN</td>\n      <td>NaN</td>\n      <td>NaN</td>\n      <td>NaN</td>\n      <td>https://ieeexplore.ieee.org/document/7070223</td>\n      <td>Berger Benedikt, Matt Christian, Steininger De...</td>\n      <td>[[[entry:ApaHtml]]]Berger, B., Matt, C., Stein...</td>\n      <td>7984-1040-Berger Benedikt, Matt Christian, Ste...</td>\n      <td>NaN</td>\n    </tr>\n    <tr>\n      <th>10535</th>\n      <td>172690</td>\n      <td>79743147</td>\n      <td>172690</td>\n      <td>AI-Based Digital Assistants: Opportunities, Th...</td>\n      <td>NaN</td>\n      <td>NaN</td>\n      <td>English</td>\n      <td>Nein</td>\n      <td>NaN</td>\n      <td>Nein</td>\n      <td>...</td>\n      <td>NaN</td>\n      <td>NaN</td>\n      <td>NaN</td>\n      <td>NaN</td>\n      <td>10.1007/s12599-019-00600-8</td>\n      <td>https://link.springer.com/article/10.1007/s125...</td>\n      <td>Mädche Alexander, Legner Christine, Benlian Al...</td>\n      <td>[[[entry:ApaHtml]]]Mädche, A., Legner, C., Ben...</td>\n      <td>7980-1060-Mädche Alexander, Legner Christine, ...</td>\n      <td>NaN</td>\n    </tr>\n    <tr>\n      <th>10587</th>\n      <td>173594</td>\n      <td>79654159</td>\n      <td>173594</td>\n      <td>Do Environmental Policies Affect MNEs’ Foreign...</td>\n      <td>NaN</td>\n      <td>NaN</td>\n      <td>English</td>\n      <td>Ja</td>\n      <td>NaN</td>\n      <td>Ja</td>\n      <td>...</td>\n      <td>NaN</td>\n      <td>NaN</td>\n      <td>NaN</td>\n      <td>NaN</td>\n      <td>10.1007/s11575-021-00458-7</td>\n      <td>https://link.springer.com/article/10.1007/s115...</td>\n      <td>Zilja Flladina, Adarkwah Gilbert, Sabel Christ...</td>\n      <td>[[[entry:ApaHtml]]]Zilja, F., Adarkwah, G., &amp; ...</td>\n      <td>7977-1060-Zilja Flladina, Adarkwah Gilbert, Sa...</td>\n      <td>NaN</td>\n    </tr>\n  </tbody>\n</table>\n<p>48 rows × 46 columns</p>\n</div>"
     },
     "execution_count": 22,
     "metadata": {},
     "output_type": "execute_result"
    }
   ],
   "source": [
    "# filter df_publications url not nan and doi not nan\n",
    "df_publications_filtered = df_publications[df_publications['url'].notna() & df_publications['doi'].notna()]\n",
    "# filter rows with nan in keywords\n",
    "df_publications_filtered = df_publications[df_publications['keywords'].isna()]\n",
    "# filter rows with supported url\n",
    "df_publications_filtered = df_publications_filtered[(df_publications_filtered['url'].str.contains('link.springer')) | (\n",
    "    df_publications_filtered['url'].str.contains('sciencedirect')) | (\n",
    "                                                        df_publications_filtered['url'].str.contains('ieeexplore'))]\n",
    "df_publications_filtered\n"
   ],
   "metadata": {
    "collapsed": false,
    "pycharm": {
     "name": "#%%\n"
    }
   }
  },
  {
   "cell_type": "code",
   "execution_count": null,
   "outputs": [],
   "source": [
    "# Scraping only that keywords\n",
    "# get {id: id, url: url, doi: doi}\n",
    "scrape_dict = df_publications_filtered[['id', 'url', 'doi', 'title']].to_dict('records')\n",
    "for idx, row in enumerate(scrape_dict):\n",
    "    print(f'Row {idx + 1} of {len(scrape_dict)}')\n",
    "\n",
    "    ## if url not na\n",
    "    #row['url'] = urllib.parse.unquote(row['url'])  # make sure url is fine\n",
    "    #row['doi'] = urllib.parse.unquote(row['doi'])  # make sure doi is fine\n",
    "\n",
    "    if pd.notna(row.get('doi')):\n",
    "        row['keywords'] = scraper.scrape_publication_by_doi(row.get('doi'), params=['keywords']).get('keywords')\n",
    "    elif pd.notna(row.get('url')):\n",
    "        # if url ends with '.pdf' then skip\n",
    "        if row.get('url').endswith('.pdf'):\n",
    "            print(f'Row {idx + 1} of {len(scrape_dict)} is pdf, skipping')\n",
    "            continue\n",
    "        row['keywords'] = scraper.scrape_publication_by_url(row.get('url'), params=['keywords']).get('keywords')\n",
    "    else:\n",
    "        row['keywords'] = None"
   ],
   "metadata": {
    "collapsed": false,
    "pycharm": {
     "name": "#%%\n"
    }
   }
  },
  {
   "cell_type": "markdown",
   "source": [
    "Our scraper found the missing keywords, out of the 48 publications it found 37 keywords. We could now add these keywords to the cris data and do this search for other attributes as well."
   ],
   "metadata": {
    "collapsed": false,
    "pycharm": {
     "name": "#%% md\n"
    }
   }
  },
  {
   "cell_type": "code",
   "execution_count": null,
   "outputs": [],
   "source": [
    "# found keywords\n",
    "scrape_dict_found = [x for x in scrape_dict if x.get('keywords') is not None]\n",
    "scrape_dict_keywords = [x.get('keywords') for x in scrape_dict_found]\n",
    "print(f'Found {len(scrape_dict_found)} keywords out of {len(scrape_dict)} publications')"
   ],
   "metadata": {
    "collapsed": false,
    "pycharm": {
     "name": "#%%\n"
    }
   }
  },
  {
   "cell_type": "markdown",
   "source": [
    "1623 entries with DOI"
   ],
   "metadata": {
    "collapsed": false,
    "pycharm": {
     "name": "#%% md\n"
    }
   }
  },
  {
   "cell_type": "code",
   "execution_count": null,
   "outputs": [],
   "source": [
    "# filter where doi not nan\n",
    "df_publications_filtered = df_publications[df_publications['doi'].notna()]\n",
    "df_publications_filtered.shape"
   ],
   "metadata": {
    "collapsed": false,
    "pycharm": {
     "name": "#%%\n"
    }
   }
  },
  {
   "cell_type": "markdown",
   "source": [
    "675 with URL"
   ],
   "metadata": {
    "collapsed": false,
    "pycharm": {
     "name": "#%% md\n"
    }
   }
  },
  {
   "cell_type": "code",
   "execution_count": null,
   "outputs": [],
   "source": [
    "# filter where url not nan\n",
    "df_publications_filtered = df_publications_filtered[df_publications_filtered['url'].notna()]\n",
    "df_publications_filtered.shape"
   ],
   "metadata": {
    "collapsed": false,
    "pycharm": {
     "name": "#%%\n"
    }
   }
  },
  {
   "cell_type": "markdown",
   "source": [
    "948 entries only with doi"
   ],
   "metadata": {
    "collapsed": false,
    "pycharm": {
     "name": "#%% md\n"
    }
   }
  },
  {
   "cell_type": "code",
   "execution_count": null,
   "outputs": [],
   "source": [
    "df_publications_filtered = df_publications[df_publications['doi'].notna() & df_publications['url'].isna()]\n",
    "df_publications_filtered.shape\n",
    "df_publications_filtered"
   ],
   "metadata": {
    "collapsed": false,
    "pycharm": {
     "name": "#%%\n"
    }
   }
  },
  {
   "cell_type": "markdown",
   "source": [
    "1162 entries only with url"
   ],
   "metadata": {
    "collapsed": false,
    "pycharm": {
     "name": "#%% md\n"
    }
   }
  },
  {
   "cell_type": "code",
   "execution_count": null,
   "outputs": [],
   "source": [
    "df_publications_filtered = df_publications[df_publications['doi'].isna() & df_publications['url'].notna()]\n",
    "df_publications_filtered.shape\n",
    "df_publications_filtered"
   ],
   "metadata": {
    "collapsed": false,
    "pycharm": {
     "name": "#%%\n"
    }
   }
  },
  {
   "cell_type": "markdown",
   "source": [
    "entries with DOI and url"
   ],
   "metadata": {
    "collapsed": false,
    "pycharm": {
     "name": "#%% md\n"
    }
   }
  },
  {
   "cell_type": "code",
   "execution_count": null,
   "outputs": [],
   "source": [
    "df_publications_filtered = df_publications[df_publications['doi'].notna() & df_publications['url'].notna()]\n",
    "print(df_publications_filtered.shape)\n",
    "df_publications_filtered"
   ],
   "metadata": {
    "collapsed": false,
    "pycharm": {
     "name": "#%%\n"
    }
   }
  },
  {
   "cell_type": "markdown",
   "source": [
    "2785 with DOI or url"
   ],
   "metadata": {
    "collapsed": false,
    "pycharm": {
     "name": "#%% md\n"
    }
   }
  },
  {
   "cell_type": "code",
   "execution_count": 6,
   "outputs": [
    {
     "name": "stdout",
     "output_type": "stream",
     "text": [
      "(10765, 46)\n",
      "25.87087784486763 %\n"
     ]
    }
   ],
   "source": [
    "df_publications_filtered = df_publications[df_publications['doi'].notna() | df_publications['url'].notna()]\n",
    "df_publications_filtered.shape\n",
    "df_publications_filtered\n",
    "print(df_publications.shape)\n",
    "# relative amount of publications with DOI or URL\n",
    "print((df_publications_filtered.shape[0] / df_publications.shape[0]) * 100, '%')"
   ],
   "metadata": {
    "collapsed": false,
    "pycharm": {
     "name": "#%%\n"
    }
   }
  },
  {
   "cell_type": "markdown",
   "source": [
    "## Exploring our scraping results"
   ],
   "metadata": {
    "collapsed": false,
    "pycharm": {
     "name": "#%% md\n"
    }
   }
  },
  {
   "cell_type": "code",
   "execution_count": 8,
   "outputs": [],
   "source": [
    "final_scraping_result = scraping_results_imported_cleaned"
   ],
   "metadata": {
    "collapsed": false,
    "pycharm": {
     "name": "#%%\n"
    }
   }
  },
  {
   "cell_type": "code",
   "execution_count": 9,
   "outputs": [],
   "source": [
    "# extract all the pdf links in the format {doi, pdf_link}, if not null\n",
    "all_found_pdf_links = [(x.get('doi'), x.get('pdf')) for x in final_scraping_result if\n",
    "                       x.get('pdf') is not None]"
   ],
   "metadata": {
    "collapsed": false,
    "pycharm": {
     "name": "#%%\n"
    }
   }
  },
  {
   "cell_type": "code",
   "execution_count": 11,
   "outputs": [],
   "source": [
    "# get all domains from resolved links (using exported csv file)\n",
    "def domain(url):\n",
    "    if url is not None and pd.notna(url):\n",
    "        return urllib.parse.urlparse(url).netloc  # returns domain\n",
    "    else:\n",
    "        return None\n"
   ],
   "metadata": {
    "collapsed": false,
    "pycharm": {
     "name": "#%%\n"
    }
   }
  },
  {
   "cell_type": "code",
   "execution_count": null,
   "outputs": [],
   "source": [
    "\n",
    "# apply domain to all results\n",
    "domains_of_dois = [{'doi': x.get('doi'), 'domain': domain(x.get('url'))} for x in final_scraping_result if\n",
    "                   x.get('url') is not None]"
   ],
   "metadata": {
    "collapsed": false,
    "pycharm": {
     "name": "#%%\n"
    }
   }
  },
  {
   "cell_type": "code",
   "execution_count": null,
   "outputs": [],
   "source": [
    "# describe domains_of_dois\n",
    "df_domains_of_dois = pd.DataFrame(domains_of_dois)\n",
    "# custom col name\n",
    "df_domains_of_dois.columns = ['doi', 'domain']\n",
    "# count the domains\n",
    "counts = df_domains_of_dois['domain'].value_counts()\n",
    "print(counts / len(df_domains_of_dois))\n",
    "# plot\n",
    "df_domains_of_dois['domain'].value_counts().plot(kind='bar')"
   ],
   "metadata": {
    "collapsed": false,
    "pycharm": {
     "name": "#%%\n"
    }
   }
  },
  {
   "cell_type": "markdown",
   "source": [],
   "metadata": {
    "collapsed": false,
    "pycharm": {
     "name": "#%% md\n"
    }
   }
  },
  {
   "cell_type": "code",
   "execution_count": 13,
   "outputs": [
    {
     "name": "stdout",
     "output_type": "stream",
     "text": [
      "528\n"
     ]
    },
    {
     "data": {
      "text/plain": "Conference paper                       170\nChapter                                 79\nArticle                                 67\nBook                                    33\nOriginal Paper                          21\n                                      ... \nAufsatz                                  1\nShort Survey Paper                       1\nSpecial Issue Paper                      1\nKlimaschutz und Co2-Emissionshandel      1\nKommentare                               1\nLength: 64, dtype: int64"
     },
     "execution_count": 13,
     "metadata": {},
     "output_type": "execute_result"
    }
   ],
   "source": [
    "# get all publications from domain 'link.springer.com' from final_scraping_result\n",
    "springer_publications = [x for x in final_scraping_result if\n",
    "                         x.get('url') is not None and domain(x.get('url')) == 'link.springer.com']\n",
    "print(len(springer_publications))\n",
    "# create overview of all publication types\n",
    "springer_publication_types = [x.get('publication_type') for x in springer_publications]\n",
    "# count the publication types\n",
    "counts = pd.Series(springer_publication_types).value_counts()\n",
    "counts\n"
   ],
   "metadata": {
    "collapsed": false,
    "pycharm": {
     "name": "#%%\n"
    }
   }
  },
  {
   "cell_type": "markdown",
   "source": [
    "### Get authors with listed orcid\n",
    "Method for reading scraping results from csv file and getting all authors with listed orcid."
   ],
   "metadata": {
    "collapsed": false,
    "pycharm": {
     "name": "#%% md\n"
    }
   }
  },
  {
   "cell_type": "code",
   "execution_count": null,
   "outputs": [],
   "source": [
    "def get_orcid_authors(scraping_result):\n",
    "    # search authors with orcid\n",
    "    # get all authors\n",
    "    all_authors = [x.get('authors') for x in scraping_result if x.get('authors') is not None]\n",
    "    all_authors\n",
    "    # flatten list\n",
    "    all_authors = [item for sublist in all_authors for item in sublist]\n",
    "    # authors with orcid\n",
    "    authors_with_orcid = [x for x in all_authors if type(x) is not str and x.get('orcid') is not None]\n",
    "    authors_with_orcid\n",
    "    # remove duplicate double entries\n",
    "    authors_with_orcid = list({v['orcid']: v for v in authors_with_orcid}.values())\n",
    "    # sort by name\n",
    "    authors_with_orcid = sorted(authors_with_orcid, key=lambda k: k['name'])\n",
    "\n",
    "    return authors_with_orcid\n",
    "\n",
    "\n",
    "authors_with_orcid = get_orcid_authors(final_scraping_result)\n",
    "authors_with_orcid"
   ],
   "metadata": {
    "collapsed": false,
    "pycharm": {
     "name": "#%%\n"
    }
   }
  },
  {
   "cell_type": "markdown",
   "source": [
    "## Downloading pdf documents"
   ],
   "metadata": {
    "collapsed": false,
    "pycharm": {
     "name": "#%% md\n"
    }
   }
  },
  {
   "cell_type": "code",
   "execution_count": null,
   "outputs": [],
   "source": [
    "final_scraping_result = scraping_results_imported_cleaned\n",
    "# get {doi:doi, pdf_link:pdf} for all entries with pdf_link\n",
    "all_found_pdf_links = [{'doi': x.get('doi'), 'pdf': x.get('pdf')} for x in final_scraping_result if\n",
    "                       x.get('pdf') is not None]"
   ],
   "metadata": {
    "collapsed": false,
    "pycharm": {
     "name": "#%%\n"
    }
   }
  },
  {
   "cell_type": "code",
   "execution_count": null,
   "outputs": [],
   "source": [
    "scraper = ResearchScraper()\n",
    "scraping_results = utils.load_and_clean_scraping_results(filename='scrapings_2022_10_21__03_38')\n",
    "scraper.download_pdf_of_publications_by_scraping_results(scraping_results)"
   ],
   "metadata": {
    "collapsed": false,
    "pycharm": {
     "name": "#%%\n"
    }
   }
  },
  {
   "cell_type": "markdown",
   "source": [
    "## FIind urls with scholar\n",
    "We need first to get the data from cris to apply the scholar search"
   ],
   "metadata": {
    "collapsed": false,
    "pycharm": {
     "name": "#%% md\n"
    }
   }
  },
  {
   "cell_type": "code",
   "execution_count": null,
   "outputs": [],
   "source": [
    "def get_publication_target_dict(df_publications):\n",
    "    #global df_publications_target, dict_publication_target\n",
    "    # filter rows without doi and without url\n",
    "    df_publications_target = df_publications[df_publications['doi'].isna() & df_publications['url'].isna()]\n",
    "    # df_publications cols: cris_id, title and authors\n",
    "    df_publications_target = df_publications_target[['cris_id', 'title', 'authors']]\n",
    "    #convert to dict\n",
    "    dict_publication_target = df_publications_target.to_dict('records')\n",
    "    return dict_publication_target\n",
    "\n",
    "\n",
    "def get_publication_target_dict_chunks(dict_publication_target):\n",
    "    dict_publication_target_split = [dict_publication_target[i:i + 50] for i in\n",
    "                                     range(0, len(dict_publication_target), 50)]\n",
    "    return dict_publication_target_split\n",
    "\n",
    "\n",
    "df_publications_target = get_publication_target_dict(df_publications)"
   ],
   "metadata": {
    "collapsed": false,
    "pycharm": {
     "name": "#%%\n"
    }
   }
  },
  {
   "cell_type": "code",
   "execution_count": null,
   "outputs": [],
   "source": [],
   "metadata": {
    "collapsed": false,
    "pycharm": {
     "name": "#%%\n"
    }
   }
  },
  {
   "cell_type": "markdown",
   "source": [
    "For large scale application we can make chunks of 50 each (worth 1250 api credits"
   ],
   "metadata": {
    "collapsed": false,
    "pycharm": {
     "name": "#%% md\n"
    }
   }
  },
  {
   "cell_type": "code",
   "execution_count": null,
   "outputs": [],
   "source": [
    "# method that takes list of dict {cris_id: cris-id, title:title, authors:authors} an tries to receive a url from scholar\n",
    "def get_urls_from_scholar_list_of_publications(publications, filename):\n",
    "    # create a list of publications with {cris_id: cris-id, title:title, authors:authors, url:url}\n",
    "    publications_with_url = []\n",
    "    # iterate over publications\n",
    "    for idx, publication in enumerate(publications):\n",
    "        print(f'publication {idx + 1} of {len(publications)}: {publication.get(\"title\")}')\n",
    "        # get title and authors\n",
    "        title = publication.get('title')\n",
    "        authors = publication.get('authors')\n",
    "        # if authors nan then make ''\n",
    "        if pd.isna(authors):\n",
    "            authors = ''\n",
    "        cris_id = publication.get('cris_id')\n",
    "\n",
    "        # create a query\n",
    "        query = title\n",
    "        # if authors are available add them to the query\n",
    "        if authors is not None:\n",
    "            query = query + ' ' + authors\n",
    "\n",
    "        try:\n",
    "            # search for url with query\n",
    "            publication['url'] = get_url_from_publication_with_scholarly(query)\n",
    "            print(f' Found url: {publication[\"url\"]}')\n",
    "        except Exception as e:\n",
    "            print(f' Error: {e}')\n",
    "            print(f'Could not find url for cris: {cris_id}, Google scholar blocked us')\n",
    "        else:\n",
    "            # add complete publication to publications_with_url\n",
    "            publications_with_url.append(publication)\n",
    "            utils.write_results(publications_with_url, filename)\n",
    "\n",
    "    return publications_with_url"
   ],
   "metadata": {
    "collapsed": false,
    "pycharm": {
     "name": "#%%\n"
    }
   }
  },
  {
   "cell_type": "code",
   "execution_count": null,
   "outputs": [],
   "source": [
    "#pub_res = get_urls_from_scholar_list_of_publications(dict_publications_sample, 'url_scrape_results_0_to_49')"
   ],
   "metadata": {
    "collapsed": false,
    "pycharm": {
     "name": "#%%\n"
    }
   }
  },
  {
   "cell_type": "code",
   "execution_count": 3,
   "outputs": [
    {
     "name": "stdout",
     "output_type": "stream",
     "text": [
      "Free proxy success: True\n"
     ]
    }
   ],
   "source": [
    "def get_url_from_publication_with_scholarly(search_query):\n",
    "    scholarly_search = scholarly.search_pubs(search_query)\n",
    "    publication = next(scholarly_search)\n",
    "    url = publication.get('pub_url')\n",
    "\n",
    "    return url\n",
    "\n",
    "scraper = ResearchScraper()\n",
    "scraper.handle_proxy('free')"
   ],
   "metadata": {
    "collapsed": false,
    "pycharm": {
     "name": "#%%\n"
    }
   }
  },
  {
   "cell_type": "markdown",
   "source": [
    "### Extract second chunk of 50"
   ],
   "metadata": {
    "collapsed": false,
    "pycharm": {
     "name": "#%% md\n"
    }
   }
  },
  {
   "cell_type": "code",
   "execution_count": null,
   "outputs": [],
   "source": [
    "# get all target publications\n",
    "pub_target = get_publication_target_dict(df_publications)\n",
    "pub_target_chunks = get_publication_target_dict_chunks(pub_target)\n"
   ],
   "metadata": {
    "collapsed": false,
    "pycharm": {
     "name": "#%%\n"
    }
   }
  },
  {
   "cell_type": "code",
   "execution_count": null,
   "outputs": [],
   "source": [
    "# scraper api is active\n",
    "pub_res_chunk_0 = None  # see above\n",
    "pub_res_chunk_1 = get_urls_from_scholar_list_of_publications(pub_target_chunks[1], 'url_scrape_results_50_to_99')"
   ],
   "metadata": {
    "collapsed": false,
    "pycharm": {
     "name": "#%%\n"
    }
   }
  },
  {
   "cell_type": "code",
   "execution_count": null,
   "outputs": [],
   "source": [
    "pub_res_chunk_2 = get_urls_from_scholar_list_of_publications(pub_target_chunks[2], 'url_scrape_results_100_to_149')"
   ],
   "metadata": {
    "collapsed": false,
    "pycharm": {
     "name": "#%%\n"
    }
   }
  },
  {
   "cell_type": "code",
   "execution_count": null,
   "outputs": [],
   "source": [
    "# Quick Demo for Blogpost\n",
    "# cris_data\n",
    "title = 'Linguistic Theories in IS Research - A Review'\n",
    "authors = 'Becker J, Fielenbach K, Niehaves B'\n",
    "scholarly_search = scholarly.search_pubs(f'{title} {authors}')\n",
    "publication = next(scholarly_search)\n",
    "url = publication.get('pub_url')\n",
    "\n",
    "url"
   ],
   "metadata": {
    "collapsed": false,
    "pycharm": {
     "name": "#%%\n"
    }
   }
  },
  {
   "cell_type": "code",
   "execution_count": null,
   "outputs": [],
   "source": [
    "scraper.s"
   ],
   "metadata": {
    "collapsed": false,
    "pycharm": {
     "name": "#%%\n"
    }
   }
  },
  {
   "cell_type": "code",
   "execution_count": null,
   "outputs": [],
   "source": [
    "# get all target publications\n",
    "pub_target = get_publication_target_dict(df_publications)\n",
    "pub_target_chunks = get_publication_target_dict_chunks(pub_target)\n"
   ],
   "metadata": {
    "collapsed": false,
    "pycharm": {
     "name": "#%%\n"
    }
   }
  },
  {
   "cell_type": "code",
   "execution_count": null,
   "outputs": [],
   "source": [
    "# scraper api is active\n",
    "pub_res_chunk_0 = None  # see above\n",
    "pub_res_chunk_1 = get_urls_from_scholar_list_of_publications(pub_target_chunks[1], 'url_scrape_results_50_to_99')"
   ],
   "metadata": {
    "collapsed": false,
    "pycharm": {
     "name": "#%%\n"
    }
   }
  },
  {
   "cell_type": "code",
   "execution_count": null,
   "outputs": [],
   "source": [
    "pub_res_chunk_2 = get_urls_from_scholar_list_of_publications(pub_target_chunks[2], 'url_scrape_results_100_to_149')"
   ],
   "metadata": {
    "collapsed": false,
    "pycharm": {
     "name": "#%%\n"
    }
   }
  },
  {
   "cell_type": "code",
   "execution_count": null,
   "outputs": [],
   "source": [
    "# Quick Demo for Blogpost\n",
    "# cris_data\n",
    "title = 'Linguistic Theories in IS Research - A Review'\n",
    "authors = 'Becker J, Fielenbach K, Niehaves B'\n",
    "scholarly_search = scholarly.search_pubs(f'{title} {authors}')\n",
    "publication = next(scholarly_search)\n",
    "url = publication.get('pub_url')\n",
    "\n",
    "url"
   ],
   "metadata": {
    "collapsed": false,
    "pycharm": {
     "name": "#%%\n"
    }
   }
  },
  {
   "cell_type": "code",
   "execution_count": 18,
   "outputs": [
    {
     "name": "stdout",
     "output_type": "stream",
     "text": [
      "Amount of urls found: 118\n"
     ]
    },
    {
     "data": {
      "text/plain": "                              domain  count\n6                  link.springer.com     38\n0                   aisel.aisnet.org     37\n16              www.researchgate.net     13\n11                   www.econstor.eu      4\n1                   books.google.com      4\n9                   www.academia.edu      4\n5                ieeexplore.ieee.org      4\n2                         cs.emis.de      3\n4                 eprints.qut.edu.au      2\n7   osnascholar.ub.uni-osnabrueck.de      1\n8            pascal-francis.inist.fr      1\n10     www.digitale-soziale-netze.de      1\n3                  emisa-journal.org      1\n12                   www.emerald.com      1\n13             www.emisa-journal.org      1\n14             www.hb.fh-muenster.de      1\n15                www.igi-global.com      1\n17             www.sciencedirect.com      1",
      "text/html": "<div>\n<style scoped>\n    .dataframe tbody tr th:only-of-type {\n        vertical-align: middle;\n    }\n\n    .dataframe tbody tr th {\n        vertical-align: top;\n    }\n\n    .dataframe thead th {\n        text-align: right;\n    }\n</style>\n<table border=\"1\" class=\"dataframe\">\n  <thead>\n    <tr style=\"text-align: right;\">\n      <th></th>\n      <th>domain</th>\n      <th>count</th>\n    </tr>\n  </thead>\n  <tbody>\n    <tr>\n      <th>6</th>\n      <td>link.springer.com</td>\n      <td>38</td>\n    </tr>\n    <tr>\n      <th>0</th>\n      <td>aisel.aisnet.org</td>\n      <td>37</td>\n    </tr>\n    <tr>\n      <th>16</th>\n      <td>www.researchgate.net</td>\n      <td>13</td>\n    </tr>\n    <tr>\n      <th>11</th>\n      <td>www.econstor.eu</td>\n      <td>4</td>\n    </tr>\n    <tr>\n      <th>1</th>\n      <td>books.google.com</td>\n      <td>4</td>\n    </tr>\n    <tr>\n      <th>9</th>\n      <td>www.academia.edu</td>\n      <td>4</td>\n    </tr>\n    <tr>\n      <th>5</th>\n      <td>ieeexplore.ieee.org</td>\n      <td>4</td>\n    </tr>\n    <tr>\n      <th>2</th>\n      <td>cs.emis.de</td>\n      <td>3</td>\n    </tr>\n    <tr>\n      <th>4</th>\n      <td>eprints.qut.edu.au</td>\n      <td>2</td>\n    </tr>\n    <tr>\n      <th>7</th>\n      <td>osnascholar.ub.uni-osnabrueck.de</td>\n      <td>1</td>\n    </tr>\n    <tr>\n      <th>8</th>\n      <td>pascal-francis.inist.fr</td>\n      <td>1</td>\n    </tr>\n    <tr>\n      <th>10</th>\n      <td>www.digitale-soziale-netze.de</td>\n      <td>1</td>\n    </tr>\n    <tr>\n      <th>3</th>\n      <td>emisa-journal.org</td>\n      <td>1</td>\n    </tr>\n    <tr>\n      <th>12</th>\n      <td>www.emerald.com</td>\n      <td>1</td>\n    </tr>\n    <tr>\n      <th>13</th>\n      <td>www.emisa-journal.org</td>\n      <td>1</td>\n    </tr>\n    <tr>\n      <th>14</th>\n      <td>www.hb.fh-muenster.de</td>\n      <td>1</td>\n    </tr>\n    <tr>\n      <th>15</th>\n      <td>www.igi-global.com</td>\n      <td>1</td>\n    </tr>\n    <tr>\n      <th>17</th>\n      <td>www.sciencedirect.com</td>\n      <td>1</td>\n    </tr>\n  </tbody>\n</table>\n</div>"
     },
     "execution_count": 18,
     "metadata": {},
     "output_type": "execute_result"
    }
   ],
   "source": [
    "# read them in\n",
    "with open('exports/scrapings/url_scrape_results_0_to_49.json') as f:\n",
    "    pub_res_chunk_0 = json.load(f)\n",
    "with open('exports/scrapings/url_scrape_results_50_to_99.json') as f:\n",
    "    pub_res_chunk_1 = json.load(f)\n",
    "with open('exports/scrapings/url_scrape_results_100_to_149.json') as f:\n",
    "    pub_res_chunk_2 = json.load(f)\n",
    "\n",
    "# combine them into one list\n",
    "pub_res_0_to_149 = pub_res_chunk_0 + pub_res_chunk_1 + pub_res_chunk_2\n",
    "# count how many urls were found\n",
    "amount_urls_found = len([pub for pub in pub_res_0_to_149 if pub.get('url') is not None])\n",
    "print(f'Amount of urls found: {amount_urls_found}')\n",
    "\n",
    "# get those urls\n",
    "urls = [pub.get('url') for pub in pub_res_0_to_149 if pub.get('url') is not None]\n",
    "domains = [domain(url) for url in urls]\n",
    "\n",
    "# look what domains were found and how often\n",
    "domains_grouped = pd.DataFrame(domains, columns=['domain']).groupby('domain').size().reset_index(name='count')\n",
    "# sort desc\n",
    "domains_grouped = domains_grouped.sort_values(by='count', ascending=False)\n",
    "domains_grouped"
   ],
   "metadata": {
    "collapsed": false,
    "pycharm": {
     "name": "#%%\n"
    }
   }
  },
  {
   "cell_type": "code",
   "execution_count": 8,
   "outputs": [
    {
     "name": "stdout",
     "output_type": "stream",
     "text": [
      "\u001B[1;30;433\u001B[0m\n"
     ]
    }
   ],
   "source": [
    "x = 3\n",
    "print(f'\\033[1;30;43{x}\\033[0m')"
   ],
   "metadata": {
    "collapsed": false,
    "pycharm": {
     "name": "#%%\n"
    }
   }
  },
  {
   "cell_type": "code",
   "execution_count": 10,
   "outputs": [
    {
     "name": "stdout",
     "output_type": "stream",
     "text": [
      "\u001B[1;30;43mhel\u001B[0m\n"
     ]
    }
   ],
   "source": [
    "msg = 'hel'\n",
    "print(f'\\033[1;30;43m{msg}\\033[0m')"
   ],
   "metadata": {
    "collapsed": false,
    "pycharm": {
     "name": "#%%\n"
    }
   }
  },
  {
   "cell_type": "code",
   "execution_count": 7,
   "outputs": [],
   "source": [],
   "metadata": {
    "collapsed": false,
    "pycharm": {
     "name": "#%%\n"
    }
   }
  },
  {
   "cell_type": "markdown",
   "source": [
    "### Found url of the publication in cris with scholarly"
   ],
   "metadata": {
    "collapsed": false,
    "pycharm": {
     "name": "#%% md\n"
    }
   }
  },
  {
   "cell_type": "code",
   "execution_count": 28,
   "outputs": [],
   "source": [
    "# get all target publications\n",
    "pub_target = get_publication_target_dict(df_publications)\n",
    "pub_target_chunks = get_publication_target_dict_chunks(pub_target)\n"
   ],
   "metadata": {
    "collapsed": false,
    "pycharm": {
     "name": "#%%\n"
    }
   }
  },
  {
   "cell_type": "code",
   "execution_count": 33,
   "outputs": [
    {
     "name": "stdout",
     "output_type": "stream",
     "text": [
      "publication 1 of 50: Business Process Reference Models for Reorganizing Public Administrations - A Case Study\n",
      " Found url: https://www.academia.edu/download/42050734/Business_Process_Reference_Models_for_Re20160204-7902-77x3te.pdf\n",
      "\u001B[1;30;42m1 results written to url_scrape_results_50_to_99.json\u001B[0m\n",
      "publication 2 of 50: Perspectives on Process Documentation - A Case Study\n",
      " Found url: https://link.springer.com/chapter/10.1007/978-1-4020-5347-4_19\n",
      "\u001B[1;30;42m2 results written to url_scrape_results_50_to_99.json\u001B[0m\n",
      "publication 3 of 50: Open Source Software for Virtual Town-Halls\n",
      " Found url: https://www.researchgate.net/profile/Patrick-Delfmann/publication/265021197_Open_Source_Software_for_Virtual_Town-Halls/links/56123bbc08ae6b29b49e509f/Open-Source-Software-for-Virtual-Town-Halls.pdf\n",
      "\u001B[1;30;42m3 results written to url_scrape_results_50_to_99.json\u001B[0m\n",
      "publication 4 of 50: Identifikation von Best Practices durch Geschäftsprozessmodellierung in öffentlichen Verwaltungen\n",
      " Found url: https://www.researchgate.net/profile/Patrick-Delfmann/publication/220515189_Identifikation_von_Best_Practices_durch_Geschaftsprozessmodellierung_in_offentlichen_Verwaltungen/links/53fc6aa10cf2364ccc0497f8/Identifikation-von-Best-Practices-durch-Geschaeftsprozessmodellierung-in-oeffentlichen-Verwaltungen.pdf\n",
      "\u001B[1;30;42m4 results written to url_scrape_results_50_to_99.json\u001B[0m\n",
      "publication 5 of 50: Prozessorientierte Reorganisation in öffentlichen Verwaltungen - Erfahrungen bei der Anwendung eines Referenzvorgehensmodells\n",
      " Found url: https://link.springer.com/chapter/10.1007/978-3-7908-2698-2_7\n",
      "\u001B[1;30;42m5 results written to url_scrape_results_50_to_99.json\u001B[0m\n",
      "publication 6 of 50: Configurative Process Modeling - Outlining an Approach to Increased Business Process Model Usability\n",
      " Found url: https://www.researchgate.net/profile/Dominik-Kuropka-2/publication/245767093_Configurative_Process_Modeling-Outlining_an_Approach_to_increased_Business_Process_Model_Usability/links/00b7d53ca263d7e2d1000000/Configurative-Process-Modeling-Outlining-an-Approach-to-increased-Business-Process-Model-Usability.pdf\n",
      "\u001B[1;30;42m6 results written to url_scrape_results_50_to_99.json\u001B[0m\n",
      "publication 7 of 50: RefMod06 - Wiederverwendung fachkonzeptioneller Softwaremodelle für kleine und mittlere Softwareunternehmen durch adaptive, komponentenorientierte Referenzmodellierung\n",
      " Found url: https://www.hb.fh-muenster.de/opus4/frontdoor/index/index/docId/7732\n",
      "\u001B[1;30;42m7 results written to url_scrape_results_50_to_99.json\u001B[0m\n",
      "publication 8 of 50: Adaption fachkonzeptioneller Referenzprozessmodelle\n",
      " Found url: None\n",
      "\u001B[1;30;42m8 results written to url_scrape_results_50_to_99.json\u001B[0m\n",
      "publication 9 of 50: Referenzmodellierung. Grundlagen, Techniken und domänenbezogene Anwendung\n",
      " Found url: https://books.google.com/books?hl=en&lr=&id=zLgcBgAAQBAJ&oi=fnd&pg=PR5&dq=Referenzmodellierung.+Grundlagen,+Techniken+und+dom%C3%A4nenbezogene+Anwendung+&ots=pu3qnjAkQN&sig=KO44bKmb0rWTAw_xZVfqIrnYhvI\n",
      "\u001B[1;30;42m9 results written to url_scrape_results_50_to_99.json\u001B[0m\n",
      "publication 10 of 50: Konstruktion konfigurierbarer Referenzmodelle für die öffentliche Verwaltung\n",
      " Found url: http://cs.emis.de/LNI/Proceedings/Proceedings34/GI-Proceedings.34-38.pdf\n",
      "\u001B[1;30;42m10 results written to url_scrape_results_50_to_99.json\u001B[0m\n",
      "publication 11 of 50: Multiperspektivische Ereignisgesteuerte Prozessketten\n",
      " Found url: None\n",
      "\u001B[1;30;42m11 results written to url_scrape_results_50_to_99.json\u001B[0m\n",
      "publication 12 of 50: Konfiguration fachkonzeptioneller Referenzmodelle\n",
      " Found url: https://link.springer.com/chapter/10.1007/978-3-642-57445-0_45\n",
      "\u001B[1;30;42m12 results written to url_scrape_results_50_to_99.json\u001B[0m\n",
      "publication 13 of 50: Referenzmodellierung\n",
      " Found url: None\n",
      "\u001B[1;30;42m13 results written to url_scrape_results_50_to_99.json\u001B[0m\n",
      "publication 14 of 50: Subjektivitätsmanagement für die Referenzmodellierung: Vorgehensmodell und Werkzeugkonzept\n",
      " Found url: https://www.researchgate.net/profile/Dominik-Kuropka-2/publication/239589130_Subjektivitatsmanagement_fur_die_Referenzmodellierung_Vorgehensmodell_und_Werkzeugkonzept/links/0deec53ca224275c1e000000/Subjektivitaetsmanagement-fuer-die-Referenzmodellierung-Vorgehensmodell-und-Werkzeugkonzept.pdf\n",
      "\u001B[1;30;42m14 results written to url_scrape_results_50_to_99.json\u001B[0m\n",
      "publication 15 of 50: Ontology Support For Configurative Reference Modelling\n",
      " Found url: https://aisel.aisnet.org/cgi/viewcontent.cgi?article=1166&context=ecis2008\n",
      "\u001B[1;30;42m15 results written to url_scrape_results_50_to_99.json\u001B[0m\n",
      "publication 16 of 50: Conceptual Modeling of Enterprise Content\n",
      " Found url: https://aisel.aisnet.org/cgi/viewcontent.cgi?article=1355&context=amcis2008\n",
      "\u001B[1;30;42m16 results written to url_scrape_results_50_to_99.json\u001B[0m\n",
      "publication 17 of 50: Towards the Specification of Digital Content – The Enterprise Content Modeling Language (ECML)\n",
      " Found url: https://aisel.aisnet.org/cgi/viewcontent.cgi?article=1355&context=amcis2008\n",
      "\u001B[1;30;42m17 results written to url_scrape_results_50_to_99.json\u001B[0m\n",
      "publication 18 of 50: Funktionale Gestaltungsoptionen von Online-Bewertungssystemen\n",
      " Found url: http://cs.emis.de/LNI/Proceedings/Proceedings154/gi-proc-154-177.pdf\n",
      "\u001B[1;30;42m18 results written to url_scrape_results_50_to_99.json\u001B[0m\n",
      "publication 19 of 50: Bewertungsmechanismen zur beruflichen Weiterqualifizierung in sozialen Web 2.0-Netzwerken\n",
      " Found url: http://www.digitale-soziale-netze.de/gi-workshop/gi-workshop2008-offline/papers/Bewertungsmechanismen%20zur%20beruflichen%20Weiterqualifizierung.pdf\n",
      "\u001B[1;30;42m19 results written to url_scrape_results_50_to_99.json\u001B[0m\n",
      "publication 20 of 50: Applying Theory-Building Techniques to the Design of Modeling Languages\n",
      " Found url: https://aisel.aisnet.org/ecis2009/274/\n",
      "\u001B[1;30;42m20 results written to url_scrape_results_50_to_99.json\u001B[0m\n",
      "publication 21 of 50: Toward Process Modeling in Creative Domains\n",
      " Found url: https://aisel.aisnet.org/amcis2009/596/\n",
      "\u001B[1;30;42m21 results written to url_scrape_results_50_to_99.json\u001B[0m\n",
      "publication 22 of 50: Toward the Concept of Pockets of Creativity in Business Processes\n",
      " Found url: https://aisel.aisnet.org/ecis2009/440/\n",
      "\u001B[1;30;42m22 results written to url_scrape_results_50_to_99.json\u001B[0m\n",
      "publication 23 of 50: On the Transition from Computation Independent to Platform Independent Models\n",
      " Found url: https://aisel.aisnet.org/cgi/viewcontent.cgi?article=2017&context=amcis2006\n",
      "\u001B[1;30;42m23 results written to url_scrape_results_50_to_99.json\u001B[0m\n",
      "publication 24 of 50: Engineering, Sales, and Delivery of Modular Value Bundles – A Framework for Configurative Modeling\n",
      " Found url: https://link.springer.com/chapter/10.1007/978-3-8349-6445-8_22\n",
      "\u001B[1;30;42m24 results written to url_scrape_results_50_to_99.json\u001B[0m\n",
      "publication 25 of 50: Verbundgruppen im Internet: Ein Referenzmodell\n",
      " Found url: https://link.springer.com/chapter/10.1007/978-3-642-11859-3_14\n",
      "\u001B[1;30;42m25 results written to url_scrape_results_50_to_99.json\u001B[0m\n",
      "publication 26 of 50: Vergleich von Reifegradmodellen für die hybride Wertschöpfung und Entwicklungsperspektiven\n",
      " Found url: https://books.google.com/books?hl=en&lr=&id=3lmRBAv0w54C&oi=fnd&pg=PA415&dq=Vergleich+von+Reifegradmodellen+f%C3%BCr+die+hybride+Wertsch%C3%B6pfung+und+Entwicklungsperspektiven+Becker+J,+Knackstedt+R,+P%C3%B6ppelbu%C3%9F+J&ots=bu-d_M7pFP&sig=IBC7oxeKE5BAA19jlDJti8dQuak\n",
      "\u001B[1;30;42m26 results written to url_scrape_results_50_to_99.json\u001B[0m\n",
      "publication 27 of 50: Vorgehensmodell zur Entwicklung von Reifegradmodellen\n",
      " Found url: https://aisel.aisnet.org/wi2009/44/\n",
      "\u001B[1;30;42m27 results written to url_scrape_results_50_to_99.json\u001B[0m\n",
      "publication 28 of 50: Modellierung integrierter Produktion und Dienstleistung mit dem SCOR-Modell – Bestehende Ansätze und Entwicklungsperspektiven\n",
      " Found url: https://aisel.aisnet.org/wi2009/92/\n",
      "\u001B[1;30;42m28 results written to url_scrape_results_50_to_99.json\u001B[0m\n",
      "publication 29 of 50: Towards a Consolidated Concept of Maturity in Providing Customer Solutions\n",
      " Found url: None\n",
      "\u001B[1;30;42m29 results written to url_scrape_results_50_to_99.json\u001B[0m\n",
      "publication 30 of 50: Dokumentationsqualität von Reifegradmodellentwicklungen\n",
      " Found url: https://www.econstor.eu/bitstream/10419/59549/1/718173538.pdf\n",
      "\u001B[1;30;42m30 results written to url_scrape_results_50_to_99.json\u001B[0m\n",
      "publication 31 of 50: Serviceorientierte Informationssystemarchitekturen zur Integration von Produktion und Dienstleistung am Beispiel des WEEE-Recycling\n",
      " Found url: https://link.springer.com/chapter/10.1007/978-3-7908-2056-0_12\n",
      "\u001B[1;30;42m31 results written to url_scrape_results_50_to_99.json\u001B[0m\n",
      "publication 32 of 50: Das IT Performance Measurement Maturity Model - Ein Reifegradmodell für die Business Intelligence-Unterstützung des IT-Managements\n",
      " Found url: https://www.researchgate.net/profile/Jens-Poeppelbuss/publication/221138357_Das_IT_Performance_Measurement_Maturity_Model_-_Ein_Reifegradmodell_fur_die_Business_Intelligence-Unterstutzung_des_IT-Managements/links/55a77cbe08ae345d61db3e34/Das-IT-Performance-Measurement-Maturity-Model-Ein-Reifegradmodell-fuer-die-Business-Intelligence-Unterstuetzung-des-IT-Managements.pdf\n",
      "\u001B[1;30;42m32 results written to url_scrape_results_50_to_99.json\u001B[0m\n",
      "publication 33 of 50: An Ontology-based Service Discovery Approach for the Provisioning of Product-Service Bundles\n",
      " Found url: https://eprints.qut.edu.au/70716/\n",
      "\u001B[1;30;42m33 results written to url_scrape_results_50_to_99.json\u001B[0m\n",
      "publication 34 of 50: Referenzmodellgestütztes Compliance Reporting am Beispiel der EU-Finanzmarktrichtlinie MiFID\n",
      " Found url: https://link.springer.com/article/10.1007/BF03341249\n",
      "\u001B[1;30;42m34 results written to url_scrape_results_50_to_99.json\u001B[0m\n",
      "publication 35 of 50: Softwarequalität als Auswahlmerkmal: Eine empirische Untersuchung\n",
      " Found url: None\n",
      "\u001B[1;30;42m35 results written to url_scrape_results_50_to_99.json\u001B[0m\n",
      "publication 36 of 50: Extending the Supply Chain Operations Reference Model: Potentials and their Tool Support\n",
      " Found url: https://aisel.aisnet.org/cgi/viewcontent.cgi?article=1073&context=ecis2007\n",
      "\u001B[1;30;42m36 results written to url_scrape_results_50_to_99.json\u001B[0m\n",
      "publication 37 of 50: Plädoyer für die Entwicklung perspektivenspezifischer Problemlösungskomponenten zur Unterstützung der Prozessverbesserung\n",
      " Found url: https://aisel.aisnet.org/cgi/viewcontent.cgi?article=1043&context=wi2007\n",
      "\u001B[1;30;42m37 results written to url_scrape_results_50_to_99.json\u001B[0m\n",
      "publication 38 of 50: Dynamic Alignment of ERP Systems and their Documentations. An Approach for Documentation Quality Improvement\n",
      " Found url: https://aisel.aisnet.org/cgi/viewcontent.cgi?article=2017&context=amcis2007\n",
      "\u001B[1;30;42m38 results written to url_scrape_results_50_to_99.json\u001B[0m\n",
      "publication 39 of 50: Knowledge Transfer in Information Systems Research. State of the Art and Perspectives for Internet Literature Services\n",
      " Found url: https://aisel.aisnet.org/cgi/viewcontent.cgi?article=2018&context=amcis2007\n",
      "\u001B[1;30;42m39 results written to url_scrape_results_50_to_99.json\u001B[0m\n",
      "publication 40 of 50: Facilitating Change Management with Configurative Reference Modelling\n",
      " Found url: None\n",
      "\u001B[1;30;42m40 results written to url_scrape_results_50_to_99.json\u001B[0m\n",
      "publication 41 of 50: Serviceidentifikation für die Produktionsplanung eines mittelständischen Auftragsfertigers\n",
      " Found url: https://link.springer.com/article/10.1007/BF03340247\n",
      "\u001B[1;30;42m41 results written to url_scrape_results_50_to_99.json\u001B[0m\n",
      "publication 42 of 50: Anpassung und Entwicklung von Warenwirtschaftssystemen - eine explorative Untersuchung\n",
      " Found url: https://books.google.com/books?hl=en&lr=&id=XN8fBAAAQBAJ&oi=fnd&pg=PR6&dq=Anpassung+und+Entwicklung+von+Warenwirtschaftssystemen+-+eine+explorative+Untersuchung+Winkelmann+A,+Knackstedt+R,+Vering+O&ots=8wj-arDg5T&sig=GO63thfNf6tF1n1Q0tyVadCQVbU\n",
      "\u001B[1;30;42m42 results written to url_scrape_results_50_to_99.json\u001B[0m\n",
      "publication 43 of 50: Configuring Reference Models - An Integrated Approach for Transaction Processing and Decision Support\n",
      " Found url: None\n",
      "\u001B[1;30;42m43 results written to url_scrape_results_50_to_99.json\u001B[0m\n",
      "publication 44 of 50: Konfigurative Referenzmodellierung zur Fachkonzeption von Data-Warehouse-Systemen mit dem H2-Toolset\n",
      " Found url: https://www.researchgate.net/profile/Christian_Janiesch/publication/221138362_Konfigurative_Referenzmodellierung_zur_Fachkonzeption_von_Data_Warehouse-Systemen_mit_dem_H2-Toolset/links/02e7e5369ef28cbc3c000000/Konfigurative-Referenzmodellierung-zur-Fachkonzeption-von-Data-Warehouse-Systemen-mit-dem-H2-Toolset.pdf\n",
      "\u001B[1;30;42m44 results written to url_scrape_results_50_to_99.json\u001B[0m\n",
      "publication 45 of 50: Procedure Model for the Analysis and Design of Reporting Systems - A Case Study in Conceptual Modelling\n",
      " Found url: https://aisel.aisnet.org/acis2006/59/\n",
      "\u001B[1;30;42m45 results written to url_scrape_results_50_to_99.json\u001B[0m\n",
      "publication 46 of 50: Online-Literaturdatenbanken im Bereich der Wirtschaftsinformatik. Bereitstellung wissenschaftlicher Literatur und Analyse von Interaktionen der Wissensteilung\n",
      " Found url: https://link.springer.com/article/10.1007/s11576-006-0006-1\n",
      "\u001B[1;30;42m46 results written to url_scrape_results_50_to_99.json\u001B[0m\n",
      "publication 47 of 50: Fachkonzeptionelle Referenzmodellierung einer Managementunterstützung mit quantiativen und qualitativen Daten. Methodische Konzepte zur Konstruktion und Anwendung\n",
      " Found url: None\n",
      "\u001B[1;30;42m47 results written to url_scrape_results_50_to_99.json\u001B[0m\n",
      "publication 48 of 50: OLAP-Techniken aus Sicht der industriellen Auftragsaabwicklung\n",
      " Found url: https://link.springer.com/chapter/10.1007/3-7908-1612-4_13\n",
      "\u001B[1;30;42m48 results written to url_scrape_results_50_to_99.json\u001B[0m\n",
      "publication 49 of 50: Process Modelling for Service Processes. Modelling methods extensions for specifying and analysing customer integration\n",
      " Found url: None\n",
      "\u001B[1;30;42m49 results written to url_scrape_results_50_to_99.json\u001B[0m\n",
      "publication 50 of 50: Configurative Reference Model-Based Development of Data Warehouse Systems\n",
      " Found url: None\n",
      "\u001B[1;30;42m50 results written to url_scrape_results_50_to_99.json\u001B[0m\n"
     ]
    }
   ],
   "source": [
    "# scraper api is active\n",
    "pub_res_chunk_0 = None  # see above\n",
    "pub_res_chunk_1 = get_urls_from_scholar_list_of_publications(pub_target_chunks[1], 'url_scrape_results_50_to_99')"
   ],
   "metadata": {
    "collapsed": false,
    "pycharm": {
     "name": "#%%\n"
    }
   }
  },
  {
   "cell_type": "code",
   "execution_count": 34,
   "outputs": [
    {
     "name": "stdout",
     "output_type": "stream",
     "text": [
      "publication 1 of 50: Process Reference Model for Data Warehouse Development - A Consensus-oriented Approach\n",
      " Found url: None\n",
      "\u001B[1;30;42m1 results written to url_scrape_results_100_to_149.json\u001B[0m\n",
      "publication 2 of 50: Epistemological Perspectives on IS-Development - A Consensus-Oriented Approach on Conceptual Modeling\n",
      " Found url: https://link.springer.com/chapter/10.1007/11590019_71\n",
      "\u001B[1;30;42m2 results written to url_scrape_results_100_to_149.json\u001B[0m\n",
      "publication 3 of 50: Epistemologische Positionierung in der Wirtschaftsinformatik am Beispiel einer konsensorientierten Informationsmodellierung\n",
      " Found url: https://www.econstor.eu/handle/10419/59562\n",
      "\u001B[1;30;42m3 results written to url_scrape_results_100_to_149.json\u001B[0m\n",
      "publication 4 of 50: Bezugsrahmen zur epistemologischen Positionierung der Referenzmodellierung\n",
      " Found url: https://link.springer.com/chapter/10.1007/978-3-7908-2698-2_1\n",
      "\u001B[1;30;42m4 results written to url_scrape_results_100_to_149.json\u001B[0m\n",
      "publication 5 of 50: Customer Process Management\n",
      " Found url: None\n",
      "\u001B[1;30;42m5 results written to url_scrape_results_100_to_149.json\u001B[0m\n",
      "publication 6 of 50: Wissenschaftstheoretische Grundlagen und ihre Rolle für eine konsensorientierte Informationsmodellierung\n",
      " Found url: https://www.academia.edu/download/3470783/Die_Rolle_von_Geschichten_im_betrieblichen_Knowledge-Management.pdf#page=313\n",
      "\u001B[1;30;42m6 results written to url_scrape_results_100_to_149.json\u001B[0m\n",
      "publication 7 of 50: Konstruktion und Anwendung fachkonzeptioneller Referenzmodelle im Data Warehousing\n",
      " Found url: https://link.springer.com/chapter/10.1007/978-3-642-57445-0_21\n",
      "\u001B[1;30;42m7 results written to url_scrape_results_100_to_149.json\u001B[0m\n",
      "publication 8 of 50: Prozessorientierte Balanced Scorecard als Instrument des IT-Managements\n",
      " Found url: https://cs.emis.de/LNI/Proceedings/Proceedings34/GI-Proceedings.34-43.pdf\n",
      "\u001B[1;30;42m8 results written to url_scrape_results_100_to_149.json\u001B[0m\n",
      "publication 9 of 50: Architectures for Enterprise Information Portals: An Approach to Integrate Data Warehousing and Content Management\n",
      " Found url: None\n",
      "\u001B[1;30;42m9 results written to url_scrape_results_100_to_149.json\u001B[0m\n",
      "publication 10 of 50: Aufbau von prozessorientierten, integrierten Scorecard-Systemen\n",
      " Found url: https://link.springer.com/chapter/10.1007/978-3-663-01569-7_6\n",
      "\u001B[1;30;42m10 results written to url_scrape_results_100_to_149.json\u001B[0m\n",
      "publication 11 of 50: Informationsportale für das Management: Integration von Data-Warehouse- und Content-Management-Systemen\n",
      " Found url: https://link.springer.com/chapter/10.1007/978-3-642-57491-7_15\n",
      "\u001B[1;30;42m11 results written to url_scrape_results_100_to_149.json\u001B[0m\n",
      "publication 12 of 50: Die digitale Brücke: Hersteller - Händler - Kunden\n",
      " Found url: https://link.springer.com/content/pdf/10.1007/978-3-8349-9894-1.pdf#page=210\n",
      "\u001B[1;30;42m12 results written to url_scrape_results_100_to_149.json\u001B[0m\n",
      "publication 13 of 50: Konfigurative Referenzmodelle als operative Instrumente des Wissensmanagements bei der Data-Warehouse-Entwicklung\n",
      " Found url: None\n",
      "\u001B[1;30;42m13 results written to url_scrape_results_100_to_149.json\u001B[0m\n",
      "publication 14 of 50: Kundenintegration als Perspektive der Prozessmodellierung\n",
      " Found url: None\n",
      "\u001B[1;30;42m14 results written to url_scrape_results_100_to_149.json\u001B[0m\n",
      "publication 15 of 50: Fachliche Konzeption von Führungsinformationssystemen\n",
      " Found url: None\n",
      "\u001B[1;30;42m15 results written to url_scrape_results_100_to_149.json\u001B[0m\n",
      "publication 16 of 50: Referenz-Informationsmodellierung\n",
      " Found url: None\n",
      "\u001B[1;30;42m16 results written to url_scrape_results_100_to_149.json\u001B[0m\n",
      "publication 17 of 50: Fachkonzeptuelle Modellierung von Führungsinformationssystemen am Beispiel eines filialisierenden Einzelhandelsunternehmens\n",
      " Found url: None\n",
      "\u001B[1;30;42m17 results written to url_scrape_results_100_to_149.json\u001B[0m\n",
      "publication 18 of 50: Elektronik unterstützt Entscheidungen in Unternehmen\n",
      " Found url: https://link.springer.com/article/10.1365/s11576-008-0049-6\n",
      "\u001B[1;30;42m18 results written to url_scrape_results_100_to_149.json\u001B[0m\n",
      "publication 19 of 50: Führungsinformationssysteme - Historische Entwicklung und Konzeption\n",
      " Found url: None\n",
      "\u001B[1;30;42m19 results written to url_scrape_results_100_to_149.json\u001B[0m\n",
      "publication 20 of 50: IT-supported Strategic Management in Municipal Public Administration in Brazil\n",
      " Found url: https://www.researchgate.net/profile/Matthias-Voigt-2/publication/236624966_IT-supported_Strategic_Management_in_Municipal_Public_Administration_in_Brazil/links/00b4953b9208f2185f000000/IT-supported-Strategic-Management-in-Municipal-Public-Administration-in-Brazil.pdf\n",
      "\u001B[1;30;42m20 results written to url_scrape_results_100_to_149.json\u001B[0m\n",
      "publication 21 of 50: Design and Evaluation of Interactive Decision Aids for Value-Added Services\n",
      " Found url: https://link.springer.com/article/10.1007/s12525-010-0032-0\n",
      "\u001B[1;30;42m21 results written to url_scrape_results_100_to_149.json\u001B[0m\n",
      "publication 22 of 50: Amazon Web Services - Eine Betrachtung technischer, ökonomischer und sozialer Aspekte\n",
      " Found url: https://www.econstor.eu/handle/10419/46587\n",
      "\u001B[1;30;42m22 results written to url_scrape_results_100_to_149.json\u001B[0m\n",
      "publication 23 of 50: The Concept of Creativity in the Information Systems Discipline: Past, Present, and Prospects\n",
      " Found url: https://aisel.aisnet.org/cais/vol27/iss1/14/\n",
      "\u001B[1;30;42m23 results written to url_scrape_results_100_to_149.json\u001B[0m\n",
      "publication 24 of 50: Managing Creative Risks\n",
      " Found url: https://aisel.aisnet.org/amcis2008/348/\n",
      "\u001B[1;30;42m24 results written to url_scrape_results_100_to_149.json\u001B[0m\n",
      "publication 25 of 50: Spezialisiertes Suchen im Web\n",
      " Found url: https://www.academia.edu/download/49431558/Universelles_Suchen_im_Web_-_Eine_techni20161007-6450-1wlm1s7.pdf#page=149\n",
      "\u001B[1;30;42m25 results written to url_scrape_results_100_to_149.json\u001B[0m\n",
      "publication 26 of 50: Business Intelligence in Local Public Administrations - Project Experiences from Germany\n",
      " Found url: https://link.springer.com/chapter/10.1007/978-0-387-68772-8_29\n",
      "\u001B[1;30;42m26 results written to url_scrape_results_100_to_149.json\u001B[0m\n",
      "publication 27 of 50: Designing Open Source Business Intelligence for Public Administrations\n",
      " Found url: https://aisel.aisnet.org/cgi/viewcontent.cgi?article=1037&context=wi2007\n",
      "\u001B[1;30;42m27 results written to url_scrape_results_100_to_149.json\u001B[0m\n",
      "publication 28 of 50: Open Source Business Intelligence in Public Administrations\n",
      " Found url: https://link.springer.com/chapter/10.1007/978-0-387-68772-8_29\n",
      "\u001B[1;30;42m28 results written to url_scrape_results_100_to_149.json\u001B[0m\n",
      "publication 29 of 50: OSS for Public Sector Management Information Systems\n",
      " Found url: https://aisel.aisnet.org/cgi/viewcontent.cgi?article=1555&context=amcis2007\n",
      "\u001B[1;30;42m29 results written to url_scrape_results_100_to_149.json\u001B[0m\n",
      "publication 30 of 50: Public Sector Business Intelligence - An Open Source Approach\n",
      " Found url: https://aisel.aisnet.org/cgi/viewcontent.cgi?article=1555&context=amcis2007\n",
      "\u001B[1;30;42m30 results written to url_scrape_results_100_to_149.json\u001B[0m\n",
      "publication 31 of 50: Navigational Design of Web Information Systems: Framework Development and Case Study\n",
      " Found url: https://eprints.qut.edu.au/4634/\n",
      "\u001B[1;30;42m31 results written to url_scrape_results_100_to_149.json\u001B[0m\n",
      "publication 32 of 50: Governmental Projects for the Aging Society: An Explorative Study in Russia\n",
      " Found url: https://www.researchgate.net/profile/Joern-Lucke/publication/276294239_Markenbildung_von_Stadt-_und_Regiowikis/links/555657c208ae6943a8733b52/Markenbildung-von-Stadt-und-Regiowikis.pdf#page=89\n",
      "\u001B[1;30;42m32 results written to url_scrape_results_100_to_149.json\u001B[0m\n",
      "publication 33 of 50: T-Government for the Citizens: Digital Divide and Internet Technology Acceptance among the Elderly\n",
      " Found url: None\n",
      "\u001B[1;30;42m33 results written to url_scrape_results_100_to_149.json\u001B[0m\n",
      "publication 34 of 50: Transformation Networks – The Case of Business Process Management in Local Governments\n",
      " Found url: https://aisel.aisnet.org/amcis2010/292/\n",
      "\u001B[1;30;42m34 results written to url_scrape_results_100_to_149.json\u001B[0m\n",
      "publication 35 of 50: Information Society and Aging - A Study on E-Inclusion Projects in Russian Municipalities\n",
      " Found url: https://www.researchgate.net/profile/Piet-Kommers-2/publication/323277180_E-Society_2010/links/5a8b957b0f7e9b1a9555ba9b/E-Society-2010.pdf#page=162\n",
      "\u001B[1;30;42m35 results written to url_scrape_results_100_to_149.json\u001B[0m\n",
      "publication 36 of 50: Intermediaries in E-Inclusion: A Literature Review\n",
      " Found url: https://ieeexplore.ieee.org/abstract/document/5428295/\n",
      "\u001B[1;30;42m36 results written to url_scrape_results_100_to_149.json\u001B[0m\n",
      "publication 37 of 50: Open Process Innovation: The Impact of Personnel Resource Scarcity on the Involvement of Customers and Consultants in Public Sector BPM\n",
      " Found url: https://www.emerald.com/insight/content/doi/10.1108/14637151011049412/full/html\n",
      "\u001B[1;30;42m37 results written to url_scrape_results_100_to_149.json\u001B[0m\n",
      "publication 38 of 50: Verwaltungsreform in Deutschland und Japan - Eine empirisch-vergleichende Analyse Kooperativer Kommunaler Reformpolitik\n",
      " Found url: https://link.springer.com/content/pdf/10.1007/978-3-531-91878-5.pdf\n",
      "\u001B[1;30;42m38 results written to url_scrape_results_100_to_149.json\u001B[0m\n",
      "publication 39 of 50: Verwaltungsreform in Deutschland und Japan - Kooperative Kommunale Reformpolitik im Vergleich. Dissertation der Philosophischen Fakultät, Westfälische Wilhelms-Universität Münster\n",
      " Found url: https://link.springer.com/content/pdf/10.1007/978-3-531-91878-5.pdf\n",
      "\u001B[1;30;42m39 results written to url_scrape_results_100_to_149.json\u001B[0m\n",
      "publication 40 of 50: Why Do We Toil? Benefiting Research at the Cost of Practice or Vice Versa?\n",
      " Found url: https://aisel.aisnet.org/cgi/viewcontent.cgi?article=1227&context=ecis2009\n",
      "\u001B[1;30;42m40 results written to url_scrape_results_100_to_149.json\u001B[0m\n",
      "publication 41 of 50: Shared Services Strategies and Their Determinants: A Multiple Case Study Analysis in the Public Sector\n",
      " Found url: https://aisel.aisnet.org/amcis2009/14/\n",
      "\u001B[1;30;42m41 results written to url_scrape_results_100_to_149.json\u001B[0m\n",
      "publication 42 of 50: Does the Answer Lie in Collaboration? - A Case Study on E-Government and Societal Aging\n",
      " Found url: https://aisel.aisnet.org/cgi/viewcontent.cgi?article=1013&context=ecis2008\n",
      "\u001B[1;30;42m42 results written to url_scrape_results_100_to_149.json\u001B[0m\n",
      "publication 43 of 50: Open Innovation and Public Sector Business Process Management – A Multi-Method Study\n",
      " Found url: https://aisel.aisnet.org/amcis2009/633/\n",
      "\u001B[1;30;42m43 results written to url_scrape_results_100_to_149.json\u001B[0m\n",
      "publication 44 of 50: Open Process Innovation: A Multi-Method Study on the Involvement of Customers and Consultant in Public Sector BPM\n",
      " Found url: https://aisel.aisnet.org/ecis2009/355/\n",
      "\u001B[1;30;42m44 results written to url_scrape_results_100_to_149.json\u001B[0m\n",
      "publication 45 of 50: Towards a Theory of Reform Governance: Do Politico-Administrative System Variables Influence Reform Policy Networks in German and Japanese Local Governments?\n",
      " Found url: None\n",
      "\u001B[1;30;42m45 results written to url_scrape_results_100_to_149.json\u001B[0m\n",
      "publication 46 of 50: E-Government Research and Societal Aging\n",
      " Found url: https://www.sciencedirect.com/science/article/pii/S0740624X14001634\n",
      "\u001B[1;30;42m46 results written to url_scrape_results_100_to_149.json\u001B[0m\n",
      "publication 47 of 50: Der demografische Wandel und seine Konsequenzen für das E-Govemment - Eine Fallstudie\n",
      " Found url: https://aisel.aisnet.org/wi2009/142/\n",
      "\u001B[1;30;42m47 results written to url_scrape_results_100_to_149.json\u001B[0m\n",
      "publication 48 of 50: Age-Aware E-Government – A Research Agenda\n",
      " Found url: https://ieeexplore.ieee.org/abstract/document/4755560/\n",
      "\u001B[1;30;42m48 results written to url_scrape_results_100_to_149.json\u001B[0m\n",
      "publication 49 of 50: The Demographic Challenge: Aging and Depopulation and their Consequences for eGovernment.\n",
      " Found url: https://ieeexplore.ieee.org/abstract/document/4755560/\n",
      "\u001B[1;30;42m49 results written to url_scrape_results_100_to_149.json\u001B[0m\n",
      "publication 50 of 50: Comparative Study of Local Government Administrative Reforms in Japan and Germany – Critical Factors for Innovation and Performance [In Japanese]\n",
      " Found url: https://link.springer.com/chapter/10.1007/978-3-540-74444-3_3\n",
      "\u001B[1;30;42m50 results written to url_scrape_results_100_to_149.json\u001B[0m\n"
     ]
    }
   ],
   "source": [
    "pub_res_chunk_2 = get_urls_from_scholar_list_of_publications(pub_target_chunks[2], 'url_scrape_results_100_to_149')"
   ],
   "metadata": {
    "collapsed": false,
    "pycharm": {
     "name": "#%%\n"
    }
   }
  },
  {
   "cell_type": "code",
   "execution_count": 36,
   "outputs": [
    {
     "data": {
      "text/plain": "'https://link.springer.com/chapter/10.1007/978-3-7908-2336-3_5'"
     },
     "execution_count": 36,
     "metadata": {},
     "output_type": "execute_result"
    }
   ],
   "source": [
    "# Quick Demo for Blogpost\n",
    "# cris_data\n",
    "title = 'Linguistic Theories in IS Research - A Review'\n",
    "authors = 'Becker J, Fielenbach K, Niehaves B'\n",
    "scholarly_search = scholarly.search_pubs(f'{title} {authors}')\n",
    "publication = next(scholarly_search)\n",
    "url = publication.get('pub_url')\n",
    "\n",
    "url"
   ],
   "metadata": {
    "collapsed": false,
    "pycharm": {
     "name": "#%%\n"
    }
   }
  }
 ],
 "metadata": {
  "kernelspec": {
   "display_name": "Python 3 (ipykernel)",
   "language": "python",
   "name": "python3"
  },
  "language_info": {
   "codemirror_mode": {
    "name": "ipython",
    "version": 3
   },
   "file_extension": ".py",
   "mimetype": "text/x-python",
   "name": "python",
   "nbconvert_exporter": "python",
   "pygments_lexer": "ipython3",
   "version": "3.9.13"
  }
 },
 "nbformat": 4,
 "nbformat_minor": 1
}